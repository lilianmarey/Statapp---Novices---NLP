{
 "cells": [
  {
   "cell_type": "markdown",
   "metadata": {},
   "source": [
    "# StatApp : Premières statistiques descriptives"
   ]
  },
  {
   "cell_type": "code",
   "execution_count": null,
   "metadata": {},
   "outputs": [],
   "source": [
    "# Importation des modules\n",
    "\n",
    "import pandas as pd\n",
    "import plotly.express as px\n",
    "import datetime\n",
    "\n",
    "#Affichage de toutes les colonnes\n",
    "\n",
    "pd.set_option('display.max_columns', 500)"
   ]
  },
  {
   "cell_type": "code",
   "execution_count": null,
   "metadata": {},
   "outputs": [],
   "source": [
    "#Importation des données\n",
    "\n",
    "df = pd.read_csv('/Users/lilianmarey/Desktop/bdd_complete2.csv', sep = ',', encoding = 'latin-1')"
   ]
  },
  {
   "cell_type": "code",
   "execution_count": null,
   "metadata": {},
   "outputs": [],
   "source": [
    "# Echantillon de la base\n",
    "\n",
    "df.sample(5)"
   ]
  },
  {
   "cell_type": "markdown",
   "metadata": {},
   "source": [
    "## 1. Variables socio-démographiques"
   ]
  },
  {
   "cell_type": "code",
   "execution_count": null,
   "metadata": {},
   "outputs": [],
   "source": [
    "# Genre des intervenants\n",
    "\n",
    "fig = px.histogram(\n",
    "                    df.drop_duplicates(subset = ['Orateur', 'sexe'], keep = 'first'), \n",
    "                    x = 'sexe'\n",
    "                  )\n",
    "fig.show()"
   ]
  },
  {
   "cell_type": "raw",
   "metadata": {},
   "source": [
    " On a environ 328 orateurs pour 221 oratrices (60% d'hommes environ)"
   ]
  },
  {
   "cell_type": "code",
   "execution_count": null,
   "metadata": {},
   "outputs": [],
   "source": [
    "# Age des intervenants (tranches de 5 ans)\n",
    "\n",
    "px.histogram(\n",
    "            df.drop_duplicates(subset = ['Orateur', 'age', 'sexe'], keep = 'first'), \n",
    "            x = 'age', \n",
    "            nbins = 12\n",
    "            )"
   ]
  },
  {
   "cell_type": "markdown",
   "metadata": {},
   "source": [
    "On a une distribution des ages qui pourrait être qualifiée de Gaussienne"
   ]
  },
  {
   "cell_type": "code",
   "execution_count": null,
   "metadata": {},
   "outputs": [],
   "source": [
    "# Niveau d'étude des intervenants\n",
    "\n",
    "px.histogram(\n",
    "                df.drop_duplicates(subset = ['Orateur', 'hautdip', 'Groupe'], keep = 'first'), \n",
    "                x = 'hautdip', \n",
    "                category_orders = {'hautdip' : [\n",
    "                                                 '''PAS D'INFO''', 'Bac_ou_inf', 'Pro', \n",
    "                                                 'Licence', 'Master', 'PtEc', 'GdEc', 'Doct', \n",
    "                                                 'ScPoProv', 'ScPo', 'ENA'\n",
    "                                             ]\n",
    "                                   },\n",
    "            )"
   ]
  },
  {
   "cell_type": "code",
   "execution_count": null,
   "metadata": {},
   "outputs": [],
   "source": [
    "# Répartition\n",
    "\n",
    "px.histogram(df.drop_duplicates(subset = ['Orateur', 'hautdip', 'Groupe'], keep='first'), \n",
    "             x = 'hautdip', \n",
    "             category_orders = {'hautdip' : [\n",
    "                 '''PAS D'INFO''', 'Bac_ou_inf', 'Pro', \n",
    "                 'Licence', 'Master', 'PtEc', 'GdEc', 'Doct', \n",
    "                 'ScPoProv', 'ScPo', 'ENA'\n",
    "                                             ]\n",
    "                               },\n",
    "             color = 'Groupe', barnorm = 'percent')"
   ]
  },
  {
   "cell_type": "markdown",
   "metadata": {},
   "source": [
    "Les personnes ayant faites un master sont surreprensétées. Aussi, peu des élus ont un faible niveau d'études supérieures (bac ou moins et license). De plus on remarque que les novices sont beaucoup plus présent parmis ceux qui ont fait des grandes/petites école et Science Po Paris par rapport aux autres catégories. On peut aussi noter qu'aucun  élu novice est énarque ou a un n'a pas fait d'études supérérieures."
   ]
  },
  {
   "cell_type": "markdown",
   "metadata": {},
   "source": [
    "## 2. Variables de carrière politique"
   ]
  },
  {
   "cell_type": "code",
   "execution_count": null,
   "metadata": {},
   "outputs": [],
   "source": [
    "# Partis politiques des intervenants\n",
    "\n",
    "fig = px.histogram(\n",
    "                    df.drop_duplicates(subset = ['Orateur', 'groupe.sigle'], keep = 'first'), \n",
    "                    x = 'groupe.sigle'\n",
    "                    )\n",
    "fig.show()"
   ]
  },
  {
   "cell_type": "markdown",
   "metadata": {},
   "source": [
    "L'immense majorité des intervenants font partie de La République en Marche"
   ]
  },
  {
   "cell_type": "code",
   "execution_count": null,
   "metadata": {},
   "outputs": [],
   "source": [
    "# Proportion de novices dans l'ensemble des intervenants\n",
    "\n",
    "df1 = df.drop_duplicates(subset = ['Orateur', 'Groupe'], keep = 'first')\n",
    "print(\n",
    "        '''Proportion de novices dans l'ensemble des intervenants : ''', \n",
    "        int(100 * df1[df1['Groupe'] == 'Novice'].shape[0] / df1.shape[0]),\n",
    "        ' %'\n",
    "    )"
   ]
  },
  {
   "cell_type": "code",
   "execution_count": null,
   "metadata": {},
   "outputs": [],
   "source": [
    "# Proportion de novices dans les partis\n",
    "\n",
    "px.histogram(\n",
    "                df.drop_duplicates(subset = ['Orateur', 'Groupe', 'groupe.sigle'], keep = 'first'), \n",
    "                x = 'groupe.sigle', \n",
    "                color = 'Groupe',\n",
    "                barnorm = \"percent\"\n",
    "            )\n",
    "             \n",
    "            "
   ]
  },
  {
   "cell_type": "markdown",
   "metadata": {},
   "source": [
    "Les novices sont relativement très représentés dans le groupe LREM (groupe qui est majoritaire à l'Assemblé Nationale). On compte aussi 2 novices dans le groupe LFI, 1 au Modem et 1 et à LC."
   ]
  },
  {
   "cell_type": "code",
   "execution_count": null,
   "metadata": {},
   "outputs": [],
   "source": [
    "# Nombre de mandats effectués\n",
    "\n",
    "px.histogram(\n",
    "                df.drop_duplicates(subset = ['Orateur', 'nb.mandats'], keep = 'first'), \n",
    "                x = 'nb.mandats'\n",
    "            )"
   ]
  },
  {
   "cell_type": "markdown",
   "metadata": {},
   "source": [
    "Une grande majorité des députés (402) en sont à leur premier mandat."
   ]
  },
  {
   "cell_type": "code",
   "execution_count": null,
   "metadata": {},
   "outputs": [],
   "source": [
    "# Origine politique des intervenants\n",
    "\n",
    "px.histogram(\n",
    "                df.drop_duplicates(subset = ['Orateur', 'clustVEP', 'groupe.sigle'], keep = 'first'), \n",
    "                x = 'clustVEP', \n",
    "                category_orders = {'clustVEP' : [\n",
    "                                                 '1 - Novice', '2 - 2de carrière', '3 - Ancr. local', \n",
    "                                                 '4 - Entourage', '5 - Dép. sortant'\n",
    "                                                 ]\n",
    "                                   },\n",
    "            )"
   ]
  },
  {
   "cell_type": "markdown",
   "metadata": {},
   "source": [
    "Les députés sortants sont toutefois les plus nombreux parmis les non novices (et même parmis les 6 catégories)."
   ]
  },
  {
   "cell_type": "markdown",
   "metadata": {},
   "source": [
    "## 3. Activité Parlemetaire"
   ]
  },
  {
   "cell_type": "code",
   "execution_count": null,
   "metadata": {},
   "outputs": [],
   "source": [
    "# Fonction de conversion et d'affichage des jours de la semaine\n",
    "\n",
    "def toweekday(date):\n",
    "    \n",
    "    dic = {\n",
    "            0 : \"Lundi\", \n",
    "            1 : \"Mardi\",\n",
    "            2 : \"Mercredi\",\n",
    "            3 : \"Jeudi\",\n",
    "            4 : \"Vendredi\",\n",
    "            5 : \"Samedi\",\n",
    "            6 : \"Dimanche\"\n",
    "            }\n",
    "    \n",
    "    date1 = datetime.datetime.strptime(date, '%Y-%m-%d')\n",
    "    num = date1.weekday()\n",
    "    \n",
    "    return(dic[num])\n",
    "\n",
    "df['Jour'] = df[\"Date\"].apply(toweekday)"
   ]
  },
  {
   "cell_type": "code",
   "execution_count": null,
   "metadata": {},
   "outputs": [],
   "source": [
    "# Jour des interventions\n",
    "\n",
    "px.histogram(\n",
    "                df.drop_duplicates(subset = ['ID', 'Jour', 'Groupe'], keep = 'first'), \n",
    "                x = 'Jour', \n",
    "                category_orders = {'Jour' : ['Lundi','Mardi','Mercredi','Jeudi','Vendredi','Samedi','Dimanche']}\n",
    "            )\n",
    "                       "
   ]
  },
  {
   "cell_type": "markdown",
   "metadata": {},
   "source": [
    "C'est Mardi, Mercredi et Jeudi qu'il y a le plus d'intervention. On peut supposer donc que ce sont ces jours de la semaine où il y a le plus de députés présents et que ce sont les plus importants de la semaine pour l'activité parlementaire."
   ]
  },
  {
   "cell_type": "code",
   "execution_count": null,
   "metadata": {},
   "outputs": [],
   "source": [
    "# Proportion des interventions faites par des novices selon le jour de la semaine\n",
    "\n",
    "px.histogram(\n",
    "                df.drop_duplicates(subset = ['ID', 'Jour', 'Groupe'], keep = 'first'), \n",
    "                x = 'Jour', \n",
    "                category_orders = {'Jour' : ['Lundi','Mardi','Mercredi','Jeudi','Vendredi','Samedi','Dimanche']}, \n",
    "                color = 'Groupe', \n",
    "                barnorm = 'percent'\n",
    "            )"
   ]
  },
  {
   "cell_type": "markdown",
   "metadata": {},
   "source": [
    "Les députés novices comptent tout au long de la semaine pour 10% des interventions environ (sauf samedi et dimanche) des interventions parlementaires. Pourtant, ils représentent 20% des députés. Ils interviennent beaucoup moins que ceux qui ont de l'expérience en politique."
   ]
  },
  {
   "cell_type": "code",
   "execution_count": null,
   "metadata": {},
   "outputs": [],
   "source": [
    "print('''Nombre d'intervention moyen pour les hommes : ''', int(df[df['sexe'] == 'M'].shape[0] / 328))\n",
    "print('''Nombre d'intervention moyen pour les femmes : ''', int(df[df['sexe'] == 'F'].shape[0] / 221))"
   ]
  },
  {
   "cell_type": "markdown",
   "metadata": {},
   "source": [
    "De même on remarque que les femmes interviennent beaucoup moins que les hommes (presque 2 fois moins). "
   ]
  },
  {
   "cell_type": "code",
   "execution_count": null,
   "metadata": {},
   "outputs": [],
   "source": [
    "#  Thèmes abordés\n",
    "\n",
    "px.histogram(\n",
    "                df.drop_duplicates(subset = ['ID', 'commissions', 'Groupe'], keep='first'), \n",
    "                x = 'commissions'\n",
    "            )\n",
    "              "
   ]
  },
  {
   "cell_type": "markdown",
   "metadata": {},
   "source": [
    "Les 4 sujets  les plus discutés sont les Finances, les Lois, les Affaires sociales et économiques."
   ]
  },
  {
   "cell_type": "code",
   "execution_count": null,
   "metadata": {},
   "outputs": [],
   "source": [
    "# Proportion des interventions de novices selon le thème\n",
    "\n",
    "px.histogram(\n",
    "                df.drop_duplicates(subset = ['ID', 'commissions', 'Groupe'], keep = 'first'), \n",
    "                x = 'commissions', \n",
    "                color = 'Groupe', \n",
    "                barnorm = 'percent'\n",
    "            )"
   ]
  },
  {
   "cell_type": "markdown",
   "metadata": {},
   "source": [
    "Sur les questions de Finances, de Défense, les novices s'expriment peu comparés aux autres sujets ( 6,8% et 2% des interventions respectivement). Les sujets sur lesquels ils s'exprimment le plus sont les Affaires sociales et les Affaires Culturelles & Educatives (16,2% et 20,2% des interventions respectivement).\n",
    "Cela parrait cohérent dans la mesure où la finance et la défense sont des domaines assez techniques."
   ]
  }
 ],
 "metadata": {
  "kernelspec": {
   "display_name": "Python 3",
   "language": "python",
   "name": "python3"
  },
  "language_info": {
   "codemirror_mode": {
    "name": "ipython",
    "version": 3
   },
   "file_extension": ".py",
   "mimetype": "text/x-python",
   "name": "python",
   "nbconvert_exporter": "python",
   "pygments_lexer": "ipython3",
   "version": "3.7.6"
  }
 },
 "nbformat": 4,
 "nbformat_minor": 2
}
