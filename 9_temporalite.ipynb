{
 "cells": [
  {
   "cell_type": "code",
   "execution_count": 182,
   "metadata": {},
   "outputs": [],
   "source": [
    "# Importation des modules\n",
    "\n",
    "import pandas as pd\n",
    "from gensim.models import Word2Vec\n",
    "import random\n",
    "import matplotlib.pyplot as plt\n",
    "import numpy as np\n",
    "import plotly.express as px\n",
    "import datetime\n",
    "\n",
    "#Affichage de toutes les colonnes\n",
    "\n",
    "pd.set_option('display.max_columns', 500)"
   ]
  },
  {
   "cell_type": "code",
   "execution_count": 183,
   "metadata": {},
   "outputs": [],
   "source": [
    "w2v_model_all = Word2Vec.load('results/word2vec_all_300.model')"
   ]
  },
  {
   "cell_type": "code",
   "execution_count": 184,
   "metadata": {},
   "outputs": [],
   "source": [
    "df0 = pd.read_csv(\"data/data_cleaned_NLP.csv\", sep = ',', encoding = 'latin-1')"
   ]
  },
  {
   "cell_type": "code",
   "execution_count": 185,
   "metadata": {},
   "outputs": [],
   "source": [
    "df = df0[['Date', 'Groupe', 'Orateur', 'tokenized_replique']].copy()"
   ]
  },
  {
   "cell_type": "code",
   "execution_count": null,
   "metadata": {},
   "outputs": [],
   "source": [
    "df['days'] = df.apply(lambda row : (datetime.date(int(row.Date[:4]),int(row.Date[5:7]),int(row.Date[8:])) - \n",
    "                    datetime.date(2017,6,28)).days, axis = 1)"
   ]
  },
  {
   "cell_type": "code",
   "execution_count": 138,
   "metadata": {},
   "outputs": [],
   "source": [
    "def add_groupe(L, etiquette):\n",
    "    return [i + etiquette for i in L]"
   ]
  },
  {
   "cell_type": "code",
   "execution_count": 139,
   "metadata": {},
   "outputs": [],
   "source": [
    "def calcule_WMD_intervalle(d1, d2):\n",
    "    print('JOURS : ', d1, ' ', d2)\n",
    "    df1 = df[df['days'] >= d1]\n",
    "    df1 = df1[df1['days'] < d2]\n",
    "    \n",
    "    df_Novice = df1[df1['Groupe'] == 'Novice']\n",
    "    df_Exp = df1[df1['Groupe'] == 'Exp']\n",
    "    \n",
    "    #display(df_Novice)\n",
    "    try:\n",
    "        df_Novice = df1[df1['Groupe'] == 'Novice'].sample(50).dropna()\n",
    "        df_Exp = df1[df1['Groupe'] == 'Exp'].sample(50).dropna()\n",
    "        print(df_Exp.shape, df_Novice.shape)\n",
    "    except:\n",
    "        return np.nan\n",
    "    \n",
    "    phrases_Exp = [df_Exp.iloc[i]['tokenized_replique'].split(' ') for i in range(df_Exp.shape[0])]\n",
    "    phrases_Novice = [df_Novice.iloc[i]['tokenized_replique'].split(' ') for i in range(df_Novice.shape[0])]\n",
    "    \n",
    "    WMD = []\n",
    "    \n",
    "\n",
    "    for i in phrases_Novice:\n",
    "        value = np.mean([w2v_model_all.wv.wmdistance(add_groupe(i, '_Novice'), \n",
    "                                                     add_groupe(j, '_Exp')) for j in phrases_Exp])\n",
    "        print(value)\n",
    "        if str(value) == 'inf':\n",
    "            print(i)\n",
    "        WMD.append(value)\n",
    "    \n",
    "    px.line([np.mean(WMD[:i]) for i in range(1, len(WMD))]).show()\n",
    "    \n",
    "    return np.mean(WMD)"
   ]
  },
  {
   "cell_type": "code",
   "execution_count": 140,
   "metadata": {},
   "outputs": [],
   "source": [
    "#calcule_WMD_intervalle(322, 336)"
   ]
  },
  {
   "cell_type": "code",
   "execution_count": 141,
   "metadata": {
    "scrolled": true
   },
   "outputs": [],
   "source": [
    "#L = [calcule_WMD_intervalle(i, i + 14) for i in range(0, 1094, 14)]\n",
    "#px.line(y = L, x = [i for i in range(0, 1094, 14)])\n",
    "\n",
    "values = list((pd.read_csv('results/WMDinter_temporel.csv')['0']))\n",
    "dates = list((pd.read_csv('results/WMDinter_temporel.csv')['Unnamed: 0']))"
   ]
  },
  {
   "cell_type": "code",
   "execution_count": 142,
   "metadata": {},
   "outputs": [],
   "source": [
    "#pd.DataFrame(L, [i for i in range(0, 1094, 14)]).to_csv('results/WMDinter_temporel0.csv')"
   ]
  },
  {
   "cell_type": "code",
   "execution_count": 143,
   "metadata": {},
   "outputs": [
    {
     "data": {
      "application/vnd.plotly.v1+json": {
       "config": {
        "plotlyServerURL": "https://plot.ly"
       },
       "data": [
        {
         "hovertemplate": "x=%{x}<br>y=%{y}<extra></extra>",
         "legendgroup": "",
         "line": {
          "color": "#636efa",
          "dash": "solid"
         },
         "mode": "lines",
         "name": "",
         "orientation": "v",
         "showlegend": false,
         "type": "scatter",
         "x": [
          0,
          14,
          28,
          42,
          56,
          70,
          84,
          98,
          112,
          126,
          140,
          154,
          168,
          182,
          196,
          210,
          224,
          238,
          252,
          266,
          280,
          294,
          308,
          322,
          336,
          350,
          364,
          378,
          392,
          406,
          420,
          434,
          448,
          462,
          476,
          490,
          504,
          518,
          532,
          546,
          560,
          574,
          588,
          602,
          616,
          630,
          644,
          658,
          672,
          686,
          700,
          714,
          728,
          742,
          756,
          770,
          784,
          798,
          812,
          826,
          840,
          854,
          868,
          882,
          896,
          910,
          924,
          938,
          952,
          966,
          980,
          994,
          1008,
          1022,
          1036,
          1050,
          1064,
          1078,
          1092
         ],
         "xaxis": "x",
         "y": [
          1.4899118127283182,
          1.5106903951378785,
          1.5188561334028137,
          1.511748118915661,
          1.511748118915661,
          1.511748118915661,
          1.5059753701188217,
          1.505477803689362,
          1.5014643726592596,
          1.5014225425709742,
          1.5030186017199834,
          1.4968631397601877,
          1.5053319181973766,
          1.5053319181973766,
          1.483872744580921,
          1.4994005739319518,
          1.5008901918223825,
          1.506213272788994,
          1.4893652968146016,
          1.5007869514253216,
          1.4963688457943527,
          1.5077079751641065,
          1.4857162529671168,
          1.5033800000690227,
          1.5080537358645467,
          1.518150226766541,
          1.4915620414261337,
          1.4994019543434494,
          1.5060037361739882,
          1.5060037361739882,
          1.5060037361739882,
          1.5043642030852706,
          1.5122140463112723,
          1.5107601107174975,
          1.5044773980460109,
          1.499684957648145,
          1.5099890657315478,
          1.5107875836378355,
          1.4964802539654398,
          1.4964802539654398,
          1.5080346892213967,
          1.5027800100716795,
          1.5046404318661617,
          1.496070559633225,
          1.5111665377964458,
          1.5032483030394908,
          1.5057270938312823,
          1.4886664294518,
          1.5007326677566055,
          1.5044560644173808,
          1.5023509166165698,
          1.4949789611383786,
          1.5051887054415622,
          1.504255552368139,
          1.504255552368139,
          1.504255552368139,
          1.504255552368139,
          1.5108216695613697,
          1.5070319101795722,
          1.5126629382963181,
          1.5119549846356932,
          1.4976879293787426,
          1.5047889485227313,
          1.5049672423612903,
          1.4968007992330008,
          1.4897165196670767,
          1.5044996858483437,
          1.5021624627170436,
          1.4930014179925817,
          1.5055248860257908,
          1.5059228460744916,
          1.5037670722051455,
          1.5037670722051455,
          1.500718170558316,
          1.513758149645279,
          1.4965601328592182,
          1.498315312934713,
          1.4981973689991128,
          1.4922925212751137
         ],
         "yaxis": "y"
        }
       ],
       "layout": {
        "legend": {
         "tracegroupgap": 0
        },
        "margin": {
         "t": 60
        },
        "template": {
         "data": {
          "bar": [
           {
            "error_x": {
             "color": "#2a3f5f"
            },
            "error_y": {
             "color": "#2a3f5f"
            },
            "marker": {
             "line": {
              "color": "#E5ECF6",
              "width": 0.5
             }
            },
            "type": "bar"
           }
          ],
          "barpolar": [
           {
            "marker": {
             "line": {
              "color": "#E5ECF6",
              "width": 0.5
             }
            },
            "type": "barpolar"
           }
          ],
          "carpet": [
           {
            "aaxis": {
             "endlinecolor": "#2a3f5f",
             "gridcolor": "white",
             "linecolor": "white",
             "minorgridcolor": "white",
             "startlinecolor": "#2a3f5f"
            },
            "baxis": {
             "endlinecolor": "#2a3f5f",
             "gridcolor": "white",
             "linecolor": "white",
             "minorgridcolor": "white",
             "startlinecolor": "#2a3f5f"
            },
            "type": "carpet"
           }
          ],
          "choropleth": [
           {
            "colorbar": {
             "outlinewidth": 0,
             "ticks": ""
            },
            "type": "choropleth"
           }
          ],
          "contour": [
           {
            "colorbar": {
             "outlinewidth": 0,
             "ticks": ""
            },
            "colorscale": [
             [
              0,
              "#0d0887"
             ],
             [
              0.1111111111111111,
              "#46039f"
             ],
             [
              0.2222222222222222,
              "#7201a8"
             ],
             [
              0.3333333333333333,
              "#9c179e"
             ],
             [
              0.4444444444444444,
              "#bd3786"
             ],
             [
              0.5555555555555556,
              "#d8576b"
             ],
             [
              0.6666666666666666,
              "#ed7953"
             ],
             [
              0.7777777777777778,
              "#fb9f3a"
             ],
             [
              0.8888888888888888,
              "#fdca26"
             ],
             [
              1,
              "#f0f921"
             ]
            ],
            "type": "contour"
           }
          ],
          "contourcarpet": [
           {
            "colorbar": {
             "outlinewidth": 0,
             "ticks": ""
            },
            "type": "contourcarpet"
           }
          ],
          "heatmap": [
           {
            "colorbar": {
             "outlinewidth": 0,
             "ticks": ""
            },
            "colorscale": [
             [
              0,
              "#0d0887"
             ],
             [
              0.1111111111111111,
              "#46039f"
             ],
             [
              0.2222222222222222,
              "#7201a8"
             ],
             [
              0.3333333333333333,
              "#9c179e"
             ],
             [
              0.4444444444444444,
              "#bd3786"
             ],
             [
              0.5555555555555556,
              "#d8576b"
             ],
             [
              0.6666666666666666,
              "#ed7953"
             ],
             [
              0.7777777777777778,
              "#fb9f3a"
             ],
             [
              0.8888888888888888,
              "#fdca26"
             ],
             [
              1,
              "#f0f921"
             ]
            ],
            "type": "heatmap"
           }
          ],
          "heatmapgl": [
           {
            "colorbar": {
             "outlinewidth": 0,
             "ticks": ""
            },
            "colorscale": [
             [
              0,
              "#0d0887"
             ],
             [
              0.1111111111111111,
              "#46039f"
             ],
             [
              0.2222222222222222,
              "#7201a8"
             ],
             [
              0.3333333333333333,
              "#9c179e"
             ],
             [
              0.4444444444444444,
              "#bd3786"
             ],
             [
              0.5555555555555556,
              "#d8576b"
             ],
             [
              0.6666666666666666,
              "#ed7953"
             ],
             [
              0.7777777777777778,
              "#fb9f3a"
             ],
             [
              0.8888888888888888,
              "#fdca26"
             ],
             [
              1,
              "#f0f921"
             ]
            ],
            "type": "heatmapgl"
           }
          ],
          "histogram": [
           {
            "marker": {
             "colorbar": {
              "outlinewidth": 0,
              "ticks": ""
             }
            },
            "type": "histogram"
           }
          ],
          "histogram2d": [
           {
            "colorbar": {
             "outlinewidth": 0,
             "ticks": ""
            },
            "colorscale": [
             [
              0,
              "#0d0887"
             ],
             [
              0.1111111111111111,
              "#46039f"
             ],
             [
              0.2222222222222222,
              "#7201a8"
             ],
             [
              0.3333333333333333,
              "#9c179e"
             ],
             [
              0.4444444444444444,
              "#bd3786"
             ],
             [
              0.5555555555555556,
              "#d8576b"
             ],
             [
              0.6666666666666666,
              "#ed7953"
             ],
             [
              0.7777777777777778,
              "#fb9f3a"
             ],
             [
              0.8888888888888888,
              "#fdca26"
             ],
             [
              1,
              "#f0f921"
             ]
            ],
            "type": "histogram2d"
           }
          ],
          "histogram2dcontour": [
           {
            "colorbar": {
             "outlinewidth": 0,
             "ticks": ""
            },
            "colorscale": [
             [
              0,
              "#0d0887"
             ],
             [
              0.1111111111111111,
              "#46039f"
             ],
             [
              0.2222222222222222,
              "#7201a8"
             ],
             [
              0.3333333333333333,
              "#9c179e"
             ],
             [
              0.4444444444444444,
              "#bd3786"
             ],
             [
              0.5555555555555556,
              "#d8576b"
             ],
             [
              0.6666666666666666,
              "#ed7953"
             ],
             [
              0.7777777777777778,
              "#fb9f3a"
             ],
             [
              0.8888888888888888,
              "#fdca26"
             ],
             [
              1,
              "#f0f921"
             ]
            ],
            "type": "histogram2dcontour"
           }
          ],
          "mesh3d": [
           {
            "colorbar": {
             "outlinewidth": 0,
             "ticks": ""
            },
            "type": "mesh3d"
           }
          ],
          "parcoords": [
           {
            "line": {
             "colorbar": {
              "outlinewidth": 0,
              "ticks": ""
             }
            },
            "type": "parcoords"
           }
          ],
          "pie": [
           {
            "automargin": true,
            "type": "pie"
           }
          ],
          "scatter": [
           {
            "marker": {
             "colorbar": {
              "outlinewidth": 0,
              "ticks": ""
             }
            },
            "type": "scatter"
           }
          ],
          "scatter3d": [
           {
            "line": {
             "colorbar": {
              "outlinewidth": 0,
              "ticks": ""
             }
            },
            "marker": {
             "colorbar": {
              "outlinewidth": 0,
              "ticks": ""
             }
            },
            "type": "scatter3d"
           }
          ],
          "scattercarpet": [
           {
            "marker": {
             "colorbar": {
              "outlinewidth": 0,
              "ticks": ""
             }
            },
            "type": "scattercarpet"
           }
          ],
          "scattergeo": [
           {
            "marker": {
             "colorbar": {
              "outlinewidth": 0,
              "ticks": ""
             }
            },
            "type": "scattergeo"
           }
          ],
          "scattergl": [
           {
            "marker": {
             "colorbar": {
              "outlinewidth": 0,
              "ticks": ""
             }
            },
            "type": "scattergl"
           }
          ],
          "scattermapbox": [
           {
            "marker": {
             "colorbar": {
              "outlinewidth": 0,
              "ticks": ""
             }
            },
            "type": "scattermapbox"
           }
          ],
          "scatterpolar": [
           {
            "marker": {
             "colorbar": {
              "outlinewidth": 0,
              "ticks": ""
             }
            },
            "type": "scatterpolar"
           }
          ],
          "scatterpolargl": [
           {
            "marker": {
             "colorbar": {
              "outlinewidth": 0,
              "ticks": ""
             }
            },
            "type": "scatterpolargl"
           }
          ],
          "scatterternary": [
           {
            "marker": {
             "colorbar": {
              "outlinewidth": 0,
              "ticks": ""
             }
            },
            "type": "scatterternary"
           }
          ],
          "surface": [
           {
            "colorbar": {
             "outlinewidth": 0,
             "ticks": ""
            },
            "colorscale": [
             [
              0,
              "#0d0887"
             ],
             [
              0.1111111111111111,
              "#46039f"
             ],
             [
              0.2222222222222222,
              "#7201a8"
             ],
             [
              0.3333333333333333,
              "#9c179e"
             ],
             [
              0.4444444444444444,
              "#bd3786"
             ],
             [
              0.5555555555555556,
              "#d8576b"
             ],
             [
              0.6666666666666666,
              "#ed7953"
             ],
             [
              0.7777777777777778,
              "#fb9f3a"
             ],
             [
              0.8888888888888888,
              "#fdca26"
             ],
             [
              1,
              "#f0f921"
             ]
            ],
            "type": "surface"
           }
          ],
          "table": [
           {
            "cells": {
             "fill": {
              "color": "#EBF0F8"
             },
             "line": {
              "color": "white"
             }
            },
            "header": {
             "fill": {
              "color": "#C8D4E3"
             },
             "line": {
              "color": "white"
             }
            },
            "type": "table"
           }
          ]
         },
         "layout": {
          "annotationdefaults": {
           "arrowcolor": "#2a3f5f",
           "arrowhead": 0,
           "arrowwidth": 1
          },
          "autotypenumbers": "strict",
          "coloraxis": {
           "colorbar": {
            "outlinewidth": 0,
            "ticks": ""
           }
          },
          "colorscale": {
           "diverging": [
            [
             0,
             "#8e0152"
            ],
            [
             0.1,
             "#c51b7d"
            ],
            [
             0.2,
             "#de77ae"
            ],
            [
             0.3,
             "#f1b6da"
            ],
            [
             0.4,
             "#fde0ef"
            ],
            [
             0.5,
             "#f7f7f7"
            ],
            [
             0.6,
             "#e6f5d0"
            ],
            [
             0.7,
             "#b8e186"
            ],
            [
             0.8,
             "#7fbc41"
            ],
            [
             0.9,
             "#4d9221"
            ],
            [
             1,
             "#276419"
            ]
           ],
           "sequential": [
            [
             0,
             "#0d0887"
            ],
            [
             0.1111111111111111,
             "#46039f"
            ],
            [
             0.2222222222222222,
             "#7201a8"
            ],
            [
             0.3333333333333333,
             "#9c179e"
            ],
            [
             0.4444444444444444,
             "#bd3786"
            ],
            [
             0.5555555555555556,
             "#d8576b"
            ],
            [
             0.6666666666666666,
             "#ed7953"
            ],
            [
             0.7777777777777778,
             "#fb9f3a"
            ],
            [
             0.8888888888888888,
             "#fdca26"
            ],
            [
             1,
             "#f0f921"
            ]
           ],
           "sequentialminus": [
            [
             0,
             "#0d0887"
            ],
            [
             0.1111111111111111,
             "#46039f"
            ],
            [
             0.2222222222222222,
             "#7201a8"
            ],
            [
             0.3333333333333333,
             "#9c179e"
            ],
            [
             0.4444444444444444,
             "#bd3786"
            ],
            [
             0.5555555555555556,
             "#d8576b"
            ],
            [
             0.6666666666666666,
             "#ed7953"
            ],
            [
             0.7777777777777778,
             "#fb9f3a"
            ],
            [
             0.8888888888888888,
             "#fdca26"
            ],
            [
             1,
             "#f0f921"
            ]
           ]
          },
          "colorway": [
           "#636efa",
           "#EF553B",
           "#00cc96",
           "#ab63fa",
           "#FFA15A",
           "#19d3f3",
           "#FF6692",
           "#B6E880",
           "#FF97FF",
           "#FECB52"
          ],
          "font": {
           "color": "#2a3f5f"
          },
          "geo": {
           "bgcolor": "white",
           "lakecolor": "white",
           "landcolor": "#E5ECF6",
           "showlakes": true,
           "showland": true,
           "subunitcolor": "white"
          },
          "hoverlabel": {
           "align": "left"
          },
          "hovermode": "closest",
          "mapbox": {
           "style": "light"
          },
          "paper_bgcolor": "white",
          "plot_bgcolor": "#E5ECF6",
          "polar": {
           "angularaxis": {
            "gridcolor": "white",
            "linecolor": "white",
            "ticks": ""
           },
           "bgcolor": "#E5ECF6",
           "radialaxis": {
            "gridcolor": "white",
            "linecolor": "white",
            "ticks": ""
           }
          },
          "scene": {
           "xaxis": {
            "backgroundcolor": "#E5ECF6",
            "gridcolor": "white",
            "gridwidth": 2,
            "linecolor": "white",
            "showbackground": true,
            "ticks": "",
            "zerolinecolor": "white"
           },
           "yaxis": {
            "backgroundcolor": "#E5ECF6",
            "gridcolor": "white",
            "gridwidth": 2,
            "linecolor": "white",
            "showbackground": true,
            "ticks": "",
            "zerolinecolor": "white"
           },
           "zaxis": {
            "backgroundcolor": "#E5ECF6",
            "gridcolor": "white",
            "gridwidth": 2,
            "linecolor": "white",
            "showbackground": true,
            "ticks": "",
            "zerolinecolor": "white"
           }
          },
          "shapedefaults": {
           "line": {
            "color": "#2a3f5f"
           }
          },
          "ternary": {
           "aaxis": {
            "gridcolor": "white",
            "linecolor": "white",
            "ticks": ""
           },
           "baxis": {
            "gridcolor": "white",
            "linecolor": "white",
            "ticks": ""
           },
           "bgcolor": "#E5ECF6",
           "caxis": {
            "gridcolor": "white",
            "linecolor": "white",
            "ticks": ""
           }
          },
          "title": {
           "x": 0.05
          },
          "xaxis": {
           "automargin": true,
           "gridcolor": "white",
           "linecolor": "white",
           "ticks": "",
           "title": {
            "standoff": 15
           },
           "zerolinecolor": "white",
           "zerolinewidth": 2
          },
          "yaxis": {
           "automargin": true,
           "gridcolor": "white",
           "linecolor": "white",
           "ticks": "",
           "title": {
            "standoff": 15
           },
           "zerolinecolor": "white",
           "zerolinewidth": 2
          }
         }
        },
        "xaxis": {
         "anchor": "y",
         "domain": [
          0,
          1
         ],
         "title": {
          "text": "x"
         }
        },
        "yaxis": {
         "anchor": "x",
         "domain": [
          0,
          1
         ],
         "title": {
          "text": "y"
         }
        }
       }
      },
      "text/html": [
       "<div>                            <div id=\"a5101fd8-c19f-4afd-9672-7555215a9ddf\" class=\"plotly-graph-div\" style=\"height:525px; width:100%;\"></div>            <script type=\"text/javascript\">                require([\"plotly\"], function(Plotly) {                    window.PLOTLYENV=window.PLOTLYENV || {};                                    if (document.getElementById(\"a5101fd8-c19f-4afd-9672-7555215a9ddf\")) {                    Plotly.newPlot(                        \"a5101fd8-c19f-4afd-9672-7555215a9ddf\",                        [{\"hovertemplate\": \"x=%{x}<br>y=%{y}<extra></extra>\", \"legendgroup\": \"\", \"line\": {\"color\": \"#636efa\", \"dash\": \"solid\"}, \"mode\": \"lines\", \"name\": \"\", \"orientation\": \"v\", \"showlegend\": false, \"type\": \"scatter\", \"x\": [0, 14, 28, 42, 56, 70, 84, 98, 112, 126, 140, 154, 168, 182, 196, 210, 224, 238, 252, 266, 280, 294, 308, 322, 336, 350, 364, 378, 392, 406, 420, 434, 448, 462, 476, 490, 504, 518, 532, 546, 560, 574, 588, 602, 616, 630, 644, 658, 672, 686, 700, 714, 728, 742, 756, 770, 784, 798, 812, 826, 840, 854, 868, 882, 896, 910, 924, 938, 952, 966, 980, 994, 1008, 1022, 1036, 1050, 1064, 1078, 1092], \"xaxis\": \"x\", \"y\": [1.4899118127283182, 1.5106903951378785, 1.5188561334028137, 1.511748118915661, 1.511748118915661, 1.511748118915661, 1.5059753701188217, 1.505477803689362, 1.5014643726592596, 1.5014225425709742, 1.5030186017199834, 1.4968631397601877, 1.5053319181973766, 1.5053319181973766, 1.483872744580921, 1.4994005739319518, 1.5008901918223825, 1.506213272788994, 1.4893652968146016, 1.5007869514253216, 1.4963688457943527, 1.5077079751641065, 1.4857162529671168, 1.5033800000690227, 1.5080537358645467, 1.518150226766541, 1.4915620414261337, 1.4994019543434494, 1.5060037361739882, 1.5060037361739882, 1.5060037361739882, 1.5043642030852706, 1.5122140463112723, 1.5107601107174975, 1.5044773980460109, 1.499684957648145, 1.5099890657315478, 1.5107875836378355, 1.4964802539654398, 1.4964802539654398, 1.5080346892213967, 1.5027800100716795, 1.5046404318661617, 1.496070559633225, 1.5111665377964458, 1.5032483030394908, 1.5057270938312823, 1.4886664294518, 1.5007326677566055, 1.5044560644173808, 1.5023509166165698, 1.4949789611383786, 1.5051887054415622, 1.504255552368139, 1.504255552368139, 1.504255552368139, 1.504255552368139, 1.5108216695613697, 1.5070319101795722, 1.5126629382963181, 1.5119549846356932, 1.4976879293787426, 1.5047889485227313, 1.5049672423612903, 1.4968007992330008, 1.4897165196670767, 1.5044996858483437, 1.5021624627170436, 1.4930014179925817, 1.5055248860257908, 1.5059228460744916, 1.5037670722051455, 1.5037670722051455, 1.500718170558316, 1.513758149645279, 1.4965601328592182, 1.498315312934713, 1.4981973689991128, 1.4922925212751137], \"yaxis\": \"y\"}],                        {\"legend\": {\"tracegroupgap\": 0}, \"margin\": {\"t\": 60}, \"template\": {\"data\": {\"bar\": [{\"error_x\": {\"color\": \"#2a3f5f\"}, \"error_y\": {\"color\": \"#2a3f5f\"}, \"marker\": {\"line\": {\"color\": \"#E5ECF6\", \"width\": 0.5}}, \"type\": \"bar\"}], \"barpolar\": [{\"marker\": {\"line\": {\"color\": \"#E5ECF6\", \"width\": 0.5}}, \"type\": \"barpolar\"}], \"carpet\": [{\"aaxis\": {\"endlinecolor\": \"#2a3f5f\", \"gridcolor\": \"white\", \"linecolor\": \"white\", \"minorgridcolor\": \"white\", \"startlinecolor\": \"#2a3f5f\"}, \"baxis\": {\"endlinecolor\": \"#2a3f5f\", \"gridcolor\": \"white\", \"linecolor\": \"white\", \"minorgridcolor\": \"white\", \"startlinecolor\": \"#2a3f5f\"}, \"type\": \"carpet\"}], \"choropleth\": [{\"colorbar\": {\"outlinewidth\": 0, \"ticks\": \"\"}, \"type\": \"choropleth\"}], \"contour\": [{\"colorbar\": {\"outlinewidth\": 0, \"ticks\": \"\"}, \"colorscale\": [[0.0, \"#0d0887\"], [0.1111111111111111, \"#46039f\"], [0.2222222222222222, \"#7201a8\"], [0.3333333333333333, \"#9c179e\"], [0.4444444444444444, \"#bd3786\"], [0.5555555555555556, \"#d8576b\"], [0.6666666666666666, \"#ed7953\"], [0.7777777777777778, \"#fb9f3a\"], [0.8888888888888888, \"#fdca26\"], [1.0, \"#f0f921\"]], \"type\": \"contour\"}], \"contourcarpet\": [{\"colorbar\": {\"outlinewidth\": 0, \"ticks\": \"\"}, \"type\": \"contourcarpet\"}], \"heatmap\": [{\"colorbar\": {\"outlinewidth\": 0, \"ticks\": \"\"}, \"colorscale\": [[0.0, \"#0d0887\"], [0.1111111111111111, \"#46039f\"], [0.2222222222222222, \"#7201a8\"], [0.3333333333333333, \"#9c179e\"], [0.4444444444444444, \"#bd3786\"], [0.5555555555555556, \"#d8576b\"], [0.6666666666666666, \"#ed7953\"], [0.7777777777777778, \"#fb9f3a\"], [0.8888888888888888, \"#fdca26\"], [1.0, \"#f0f921\"]], \"type\": \"heatmap\"}], \"heatmapgl\": [{\"colorbar\": {\"outlinewidth\": 0, \"ticks\": \"\"}, \"colorscale\": [[0.0, \"#0d0887\"], [0.1111111111111111, \"#46039f\"], [0.2222222222222222, \"#7201a8\"], [0.3333333333333333, \"#9c179e\"], [0.4444444444444444, \"#bd3786\"], [0.5555555555555556, \"#d8576b\"], [0.6666666666666666, \"#ed7953\"], [0.7777777777777778, \"#fb9f3a\"], [0.8888888888888888, \"#fdca26\"], [1.0, \"#f0f921\"]], \"type\": \"heatmapgl\"}], \"histogram\": [{\"marker\": {\"colorbar\": {\"outlinewidth\": 0, \"ticks\": \"\"}}, \"type\": \"histogram\"}], \"histogram2d\": [{\"colorbar\": {\"outlinewidth\": 0, \"ticks\": \"\"}, \"colorscale\": [[0.0, \"#0d0887\"], [0.1111111111111111, \"#46039f\"], [0.2222222222222222, \"#7201a8\"], [0.3333333333333333, \"#9c179e\"], [0.4444444444444444, \"#bd3786\"], [0.5555555555555556, \"#d8576b\"], [0.6666666666666666, \"#ed7953\"], [0.7777777777777778, \"#fb9f3a\"], [0.8888888888888888, \"#fdca26\"], [1.0, \"#f0f921\"]], \"type\": \"histogram2d\"}], \"histogram2dcontour\": [{\"colorbar\": {\"outlinewidth\": 0, \"ticks\": \"\"}, \"colorscale\": [[0.0, \"#0d0887\"], [0.1111111111111111, \"#46039f\"], [0.2222222222222222, \"#7201a8\"], [0.3333333333333333, \"#9c179e\"], [0.4444444444444444, \"#bd3786\"], [0.5555555555555556, \"#d8576b\"], [0.6666666666666666, \"#ed7953\"], [0.7777777777777778, \"#fb9f3a\"], [0.8888888888888888, \"#fdca26\"], [1.0, \"#f0f921\"]], \"type\": \"histogram2dcontour\"}], \"mesh3d\": [{\"colorbar\": {\"outlinewidth\": 0, \"ticks\": \"\"}, \"type\": \"mesh3d\"}], \"parcoords\": [{\"line\": {\"colorbar\": {\"outlinewidth\": 0, \"ticks\": \"\"}}, \"type\": \"parcoords\"}], \"pie\": [{\"automargin\": true, \"type\": \"pie\"}], \"scatter\": [{\"marker\": {\"colorbar\": {\"outlinewidth\": 0, \"ticks\": \"\"}}, \"type\": \"scatter\"}], \"scatter3d\": [{\"line\": {\"colorbar\": {\"outlinewidth\": 0, \"ticks\": \"\"}}, \"marker\": {\"colorbar\": {\"outlinewidth\": 0, \"ticks\": \"\"}}, \"type\": \"scatter3d\"}], \"scattercarpet\": [{\"marker\": {\"colorbar\": {\"outlinewidth\": 0, \"ticks\": \"\"}}, \"type\": \"scattercarpet\"}], \"scattergeo\": [{\"marker\": {\"colorbar\": {\"outlinewidth\": 0, \"ticks\": \"\"}}, \"type\": \"scattergeo\"}], \"scattergl\": [{\"marker\": {\"colorbar\": {\"outlinewidth\": 0, \"ticks\": \"\"}}, \"type\": \"scattergl\"}], \"scattermapbox\": [{\"marker\": {\"colorbar\": {\"outlinewidth\": 0, \"ticks\": \"\"}}, \"type\": \"scattermapbox\"}], \"scatterpolar\": [{\"marker\": {\"colorbar\": {\"outlinewidth\": 0, \"ticks\": \"\"}}, \"type\": \"scatterpolar\"}], \"scatterpolargl\": [{\"marker\": {\"colorbar\": {\"outlinewidth\": 0, \"ticks\": \"\"}}, \"type\": \"scatterpolargl\"}], \"scatterternary\": [{\"marker\": {\"colorbar\": {\"outlinewidth\": 0, \"ticks\": \"\"}}, \"type\": \"scatterternary\"}], \"surface\": [{\"colorbar\": {\"outlinewidth\": 0, \"ticks\": \"\"}, \"colorscale\": [[0.0, \"#0d0887\"], [0.1111111111111111, \"#46039f\"], [0.2222222222222222, \"#7201a8\"], [0.3333333333333333, \"#9c179e\"], [0.4444444444444444, \"#bd3786\"], [0.5555555555555556, \"#d8576b\"], [0.6666666666666666, \"#ed7953\"], [0.7777777777777778, \"#fb9f3a\"], [0.8888888888888888, \"#fdca26\"], [1.0, \"#f0f921\"]], \"type\": \"surface\"}], \"table\": [{\"cells\": {\"fill\": {\"color\": \"#EBF0F8\"}, \"line\": {\"color\": \"white\"}}, \"header\": {\"fill\": {\"color\": \"#C8D4E3\"}, \"line\": {\"color\": \"white\"}}, \"type\": \"table\"}]}, \"layout\": {\"annotationdefaults\": {\"arrowcolor\": \"#2a3f5f\", \"arrowhead\": 0, \"arrowwidth\": 1}, \"autotypenumbers\": \"strict\", \"coloraxis\": {\"colorbar\": {\"outlinewidth\": 0, \"ticks\": \"\"}}, \"colorscale\": {\"diverging\": [[0, \"#8e0152\"], [0.1, \"#c51b7d\"], [0.2, \"#de77ae\"], [0.3, \"#f1b6da\"], [0.4, \"#fde0ef\"], [0.5, \"#f7f7f7\"], [0.6, \"#e6f5d0\"], [0.7, \"#b8e186\"], [0.8, \"#7fbc41\"], [0.9, \"#4d9221\"], [1, \"#276419\"]], \"sequential\": [[0.0, \"#0d0887\"], [0.1111111111111111, \"#46039f\"], [0.2222222222222222, \"#7201a8\"], [0.3333333333333333, \"#9c179e\"], [0.4444444444444444, \"#bd3786\"], [0.5555555555555556, \"#d8576b\"], [0.6666666666666666, \"#ed7953\"], [0.7777777777777778, \"#fb9f3a\"], [0.8888888888888888, \"#fdca26\"], [1.0, \"#f0f921\"]], \"sequentialminus\": [[0.0, \"#0d0887\"], [0.1111111111111111, \"#46039f\"], [0.2222222222222222, \"#7201a8\"], [0.3333333333333333, \"#9c179e\"], [0.4444444444444444, \"#bd3786\"], [0.5555555555555556, \"#d8576b\"], [0.6666666666666666, \"#ed7953\"], [0.7777777777777778, \"#fb9f3a\"], [0.8888888888888888, \"#fdca26\"], [1.0, \"#f0f921\"]]}, \"colorway\": [\"#636efa\", \"#EF553B\", \"#00cc96\", \"#ab63fa\", \"#FFA15A\", \"#19d3f3\", \"#FF6692\", \"#B6E880\", \"#FF97FF\", \"#FECB52\"], \"font\": {\"color\": \"#2a3f5f\"}, \"geo\": {\"bgcolor\": \"white\", \"lakecolor\": \"white\", \"landcolor\": \"#E5ECF6\", \"showlakes\": true, \"showland\": true, \"subunitcolor\": \"white\"}, \"hoverlabel\": {\"align\": \"left\"}, \"hovermode\": \"closest\", \"mapbox\": {\"style\": \"light\"}, \"paper_bgcolor\": \"white\", \"plot_bgcolor\": \"#E5ECF6\", \"polar\": {\"angularaxis\": {\"gridcolor\": \"white\", \"linecolor\": \"white\", \"ticks\": \"\"}, \"bgcolor\": \"#E5ECF6\", \"radialaxis\": {\"gridcolor\": \"white\", \"linecolor\": \"white\", \"ticks\": \"\"}}, \"scene\": {\"xaxis\": {\"backgroundcolor\": \"#E5ECF6\", \"gridcolor\": \"white\", \"gridwidth\": 2, \"linecolor\": \"white\", \"showbackground\": true, \"ticks\": \"\", \"zerolinecolor\": \"white\"}, \"yaxis\": {\"backgroundcolor\": \"#E5ECF6\", \"gridcolor\": \"white\", \"gridwidth\": 2, \"linecolor\": \"white\", \"showbackground\": true, \"ticks\": \"\", \"zerolinecolor\": \"white\"}, \"zaxis\": {\"backgroundcolor\": \"#E5ECF6\", \"gridcolor\": \"white\", \"gridwidth\": 2, \"linecolor\": \"white\", \"showbackground\": true, \"ticks\": \"\", \"zerolinecolor\": \"white\"}}, \"shapedefaults\": {\"line\": {\"color\": \"#2a3f5f\"}}, \"ternary\": {\"aaxis\": {\"gridcolor\": \"white\", \"linecolor\": \"white\", \"ticks\": \"\"}, \"baxis\": {\"gridcolor\": \"white\", \"linecolor\": \"white\", \"ticks\": \"\"}, \"bgcolor\": \"#E5ECF6\", \"caxis\": {\"gridcolor\": \"white\", \"linecolor\": \"white\", \"ticks\": \"\"}}, \"title\": {\"x\": 0.05}, \"xaxis\": {\"automargin\": true, \"gridcolor\": \"white\", \"linecolor\": \"white\", \"ticks\": \"\", \"title\": {\"standoff\": 15}, \"zerolinecolor\": \"white\", \"zerolinewidth\": 2}, \"yaxis\": {\"automargin\": true, \"gridcolor\": \"white\", \"linecolor\": \"white\", \"ticks\": \"\", \"title\": {\"standoff\": 15}, \"zerolinecolor\": \"white\", \"zerolinewidth\": 2}}}, \"xaxis\": {\"anchor\": \"y\", \"domain\": [0.0, 1.0], \"title\": {\"text\": \"x\"}}, \"yaxis\": {\"anchor\": \"x\", \"domain\": [0.0, 1.0], \"title\": {\"text\": \"y\"}}},                        {\"responsive\": true}                    ).then(function(){\n",
       "                            \n",
       "var gd = document.getElementById('a5101fd8-c19f-4afd-9672-7555215a9ddf');\n",
       "var x = new MutationObserver(function (mutations, observer) {{\n",
       "        var display = window.getComputedStyle(gd).display;\n",
       "        if (!display || display === 'none') {{\n",
       "            console.log([gd, 'removed!']);\n",
       "            Plotly.purge(gd);\n",
       "            observer.disconnect();\n",
       "        }}\n",
       "}});\n",
       "\n",
       "// Listen for the removal of the full notebook cells\n",
       "var notebookContainer = gd.closest('#notebook-container');\n",
       "if (notebookContainer) {{\n",
       "    x.observe(notebookContainer, {childList: true});\n",
       "}}\n",
       "\n",
       "// Listen for the clearing of the current output cell\n",
       "var outputEl = gd.closest('.output');\n",
       "if (outputEl) {{\n",
       "    x.observe(outputEl, {childList: true});\n",
       "}}\n",
       "\n",
       "                        })                };                });            </script>        </div>"
      ]
     },
     "metadata": {},
     "output_type": "display_data"
    }
   ],
   "source": [
    "px.line(y = values, x = dates)"
   ]
  },
  {
   "cell_type": "code",
   "execution_count": 158,
   "metadata": {},
   "outputs": [],
   "source": [
    "date_label = [datetime.timedelta(days=i) + datetime.date(2017,6,28) for i in range(14, 1094, 14)]"
   ]
  },
  {
   "cell_type": "code",
   "execution_count": 159,
   "metadata": {},
   "outputs": [
    {
     "data": {
      "application/vnd.plotly.v1+json": {
       "config": {
        "plotlyServerURL": "https://plot.ly"
       },
       "data": [
        {
         "hovertemplate": "Dates=%{x}<br>Moyenne cumulée des distances=%{y}<extra></extra>",
         "legendgroup": "",
         "line": {
          "color": "#636efa",
          "dash": "solid"
         },
         "mode": "lines",
         "name": "",
         "orientation": "v",
         "showlegend": false,
         "type": "scatter",
         "x": [
          "2017-07-12",
          "2017-07-26",
          "2017-08-09",
          "2017-08-23",
          "2017-09-06",
          "2017-09-20",
          "2017-10-04",
          "2017-10-18",
          "2017-11-01",
          "2017-11-15",
          "2017-11-29",
          "2017-12-13",
          "2017-12-27",
          "2018-01-10",
          "2018-01-24",
          "2018-02-07",
          "2018-02-21",
          "2018-03-07",
          "2018-03-21",
          "2018-04-04",
          "2018-04-18",
          "2018-05-02",
          "2018-05-16",
          "2018-05-30",
          "2018-06-13",
          "2018-06-27",
          "2018-07-11",
          "2018-07-25",
          "2018-08-08",
          "2018-08-22",
          "2018-09-05",
          "2018-09-19",
          "2018-10-03",
          "2018-10-17",
          "2018-10-31",
          "2018-11-14",
          "2018-11-28",
          "2018-12-12",
          "2018-12-26",
          "2019-01-09",
          "2019-01-23",
          "2019-02-06",
          "2019-02-20",
          "2019-03-06",
          "2019-03-20",
          "2019-04-03",
          "2019-04-17",
          "2019-05-01",
          "2019-05-15",
          "2019-05-29",
          "2019-06-12",
          "2019-06-26",
          "2019-07-10",
          "2019-07-24",
          "2019-08-07",
          "2019-08-21",
          "2019-09-04",
          "2019-09-18",
          "2019-10-02",
          "2019-10-16",
          "2019-10-30",
          "2019-11-13",
          "2019-11-27",
          "2019-12-11",
          "2019-12-25",
          "2020-01-08",
          "2020-01-22",
          "2020-02-05",
          "2020-02-19",
          "2020-03-04",
          "2020-03-18",
          "2020-04-01",
          "2020-04-15",
          "2020-04-29",
          "2020-05-13",
          "2020-05-27",
          "2020-06-10",
          "2020-06-24"
         ],
         "xaxis": "x",
         "y": [
          1.4899118127283182,
          1.5003011039330985,
          1.5064861137563368,
          1.507801615046168,
          1.5085909158200665,
          1.509117116335999,
          1.508668295447831,
          1.5082694839780222,
          1.5075133604981596,
          1.5069042787054412,
          1.506551035343127,
          1.5057437107112153,
          1.5057120343639971,
          1.5056848832092384,
          1.5042307406340174,
          1.503928855215138,
          1.5037501103096818,
          1.5038869526696435,
          1.5031226549930623,
          1.5030058698146753,
          1.502689821051803,
          1.5029179189659985,
          1.5021700204443078,
          1.5022204362620044,
          1.502453768246106,
          1.5030574781891999,
          1.5026317212720495,
          1.5025163724531707,
          1.5026366263745783,
          1.5027488633678918,
          1.5028538592648626,
          1.5029010575092503,
          1.5031832692911298,
          1.503406117568376,
          1.5034367255820227,
          1.5033325098060815,
          1.503512416722986,
          1.503703868483903,
          1.5035186475988143,
          1.5033426877579799,
          1.5034571268180632,
          1.5034410049907685,
          1.5034688986390334,
          1.5033007545707198,
          1.5034755497535135,
          1.5034706096075563,
          1.5035186199101889,
          1.503209199275639,
          1.503158657816067,
          1.5031846059480933,
          1.5031682590984554,
          1.503010772599223,
          1.5030518656717202,
          1.5030741561660983,
          1.5030956360970442,
          1.5031163488875998,
          1.503136334913574,
          1.5032688406833636,
          1.5033326215222824,
          1.5034881268018496,
          1.5036269277499454,
          1.5035311374536358,
          1.5035511027087007,
          1.5035732298907727,
          1.503469038649884,
          1.5032606671501443,
          1.5032791599665354,
          1.5032627379481605,
          1.5031140231661955,
          1.50314846406419,
          1.503187539867152,
          1.5031955889274018,
          1.503203417465453,
          1.503169833047789,
          1.5033110106024223,
          1.5032221832636958,
          1.5031584576750077,
          1.5030948539740348
         ],
         "yaxis": "y"
        }
       ],
       "layout": {
        "legend": {
         "tracegroupgap": 0
        },
        "margin": {
         "t": 60
        },
        "template": {
         "data": {
          "bar": [
           {
            "error_x": {
             "color": "#2a3f5f"
            },
            "error_y": {
             "color": "#2a3f5f"
            },
            "marker": {
             "line": {
              "color": "#E5ECF6",
              "width": 0.5
             }
            },
            "type": "bar"
           }
          ],
          "barpolar": [
           {
            "marker": {
             "line": {
              "color": "#E5ECF6",
              "width": 0.5
             }
            },
            "type": "barpolar"
           }
          ],
          "carpet": [
           {
            "aaxis": {
             "endlinecolor": "#2a3f5f",
             "gridcolor": "white",
             "linecolor": "white",
             "minorgridcolor": "white",
             "startlinecolor": "#2a3f5f"
            },
            "baxis": {
             "endlinecolor": "#2a3f5f",
             "gridcolor": "white",
             "linecolor": "white",
             "minorgridcolor": "white",
             "startlinecolor": "#2a3f5f"
            },
            "type": "carpet"
           }
          ],
          "choropleth": [
           {
            "colorbar": {
             "outlinewidth": 0,
             "ticks": ""
            },
            "type": "choropleth"
           }
          ],
          "contour": [
           {
            "colorbar": {
             "outlinewidth": 0,
             "ticks": ""
            },
            "colorscale": [
             [
              0,
              "#0d0887"
             ],
             [
              0.1111111111111111,
              "#46039f"
             ],
             [
              0.2222222222222222,
              "#7201a8"
             ],
             [
              0.3333333333333333,
              "#9c179e"
             ],
             [
              0.4444444444444444,
              "#bd3786"
             ],
             [
              0.5555555555555556,
              "#d8576b"
             ],
             [
              0.6666666666666666,
              "#ed7953"
             ],
             [
              0.7777777777777778,
              "#fb9f3a"
             ],
             [
              0.8888888888888888,
              "#fdca26"
             ],
             [
              1,
              "#f0f921"
             ]
            ],
            "type": "contour"
           }
          ],
          "contourcarpet": [
           {
            "colorbar": {
             "outlinewidth": 0,
             "ticks": ""
            },
            "type": "contourcarpet"
           }
          ],
          "heatmap": [
           {
            "colorbar": {
             "outlinewidth": 0,
             "ticks": ""
            },
            "colorscale": [
             [
              0,
              "#0d0887"
             ],
             [
              0.1111111111111111,
              "#46039f"
             ],
             [
              0.2222222222222222,
              "#7201a8"
             ],
             [
              0.3333333333333333,
              "#9c179e"
             ],
             [
              0.4444444444444444,
              "#bd3786"
             ],
             [
              0.5555555555555556,
              "#d8576b"
             ],
             [
              0.6666666666666666,
              "#ed7953"
             ],
             [
              0.7777777777777778,
              "#fb9f3a"
             ],
             [
              0.8888888888888888,
              "#fdca26"
             ],
             [
              1,
              "#f0f921"
             ]
            ],
            "type": "heatmap"
           }
          ],
          "heatmapgl": [
           {
            "colorbar": {
             "outlinewidth": 0,
             "ticks": ""
            },
            "colorscale": [
             [
              0,
              "#0d0887"
             ],
             [
              0.1111111111111111,
              "#46039f"
             ],
             [
              0.2222222222222222,
              "#7201a8"
             ],
             [
              0.3333333333333333,
              "#9c179e"
             ],
             [
              0.4444444444444444,
              "#bd3786"
             ],
             [
              0.5555555555555556,
              "#d8576b"
             ],
             [
              0.6666666666666666,
              "#ed7953"
             ],
             [
              0.7777777777777778,
              "#fb9f3a"
             ],
             [
              0.8888888888888888,
              "#fdca26"
             ],
             [
              1,
              "#f0f921"
             ]
            ],
            "type": "heatmapgl"
           }
          ],
          "histogram": [
           {
            "marker": {
             "colorbar": {
              "outlinewidth": 0,
              "ticks": ""
             }
            },
            "type": "histogram"
           }
          ],
          "histogram2d": [
           {
            "colorbar": {
             "outlinewidth": 0,
             "ticks": ""
            },
            "colorscale": [
             [
              0,
              "#0d0887"
             ],
             [
              0.1111111111111111,
              "#46039f"
             ],
             [
              0.2222222222222222,
              "#7201a8"
             ],
             [
              0.3333333333333333,
              "#9c179e"
             ],
             [
              0.4444444444444444,
              "#bd3786"
             ],
             [
              0.5555555555555556,
              "#d8576b"
             ],
             [
              0.6666666666666666,
              "#ed7953"
             ],
             [
              0.7777777777777778,
              "#fb9f3a"
             ],
             [
              0.8888888888888888,
              "#fdca26"
             ],
             [
              1,
              "#f0f921"
             ]
            ],
            "type": "histogram2d"
           }
          ],
          "histogram2dcontour": [
           {
            "colorbar": {
             "outlinewidth": 0,
             "ticks": ""
            },
            "colorscale": [
             [
              0,
              "#0d0887"
             ],
             [
              0.1111111111111111,
              "#46039f"
             ],
             [
              0.2222222222222222,
              "#7201a8"
             ],
             [
              0.3333333333333333,
              "#9c179e"
             ],
             [
              0.4444444444444444,
              "#bd3786"
             ],
             [
              0.5555555555555556,
              "#d8576b"
             ],
             [
              0.6666666666666666,
              "#ed7953"
             ],
             [
              0.7777777777777778,
              "#fb9f3a"
             ],
             [
              0.8888888888888888,
              "#fdca26"
             ],
             [
              1,
              "#f0f921"
             ]
            ],
            "type": "histogram2dcontour"
           }
          ],
          "mesh3d": [
           {
            "colorbar": {
             "outlinewidth": 0,
             "ticks": ""
            },
            "type": "mesh3d"
           }
          ],
          "parcoords": [
           {
            "line": {
             "colorbar": {
              "outlinewidth": 0,
              "ticks": ""
             }
            },
            "type": "parcoords"
           }
          ],
          "pie": [
           {
            "automargin": true,
            "type": "pie"
           }
          ],
          "scatter": [
           {
            "marker": {
             "colorbar": {
              "outlinewidth": 0,
              "ticks": ""
             }
            },
            "type": "scatter"
           }
          ],
          "scatter3d": [
           {
            "line": {
             "colorbar": {
              "outlinewidth": 0,
              "ticks": ""
             }
            },
            "marker": {
             "colorbar": {
              "outlinewidth": 0,
              "ticks": ""
             }
            },
            "type": "scatter3d"
           }
          ],
          "scattercarpet": [
           {
            "marker": {
             "colorbar": {
              "outlinewidth": 0,
              "ticks": ""
             }
            },
            "type": "scattercarpet"
           }
          ],
          "scattergeo": [
           {
            "marker": {
             "colorbar": {
              "outlinewidth": 0,
              "ticks": ""
             }
            },
            "type": "scattergeo"
           }
          ],
          "scattergl": [
           {
            "marker": {
             "colorbar": {
              "outlinewidth": 0,
              "ticks": ""
             }
            },
            "type": "scattergl"
           }
          ],
          "scattermapbox": [
           {
            "marker": {
             "colorbar": {
              "outlinewidth": 0,
              "ticks": ""
             }
            },
            "type": "scattermapbox"
           }
          ],
          "scatterpolar": [
           {
            "marker": {
             "colorbar": {
              "outlinewidth": 0,
              "ticks": ""
             }
            },
            "type": "scatterpolar"
           }
          ],
          "scatterpolargl": [
           {
            "marker": {
             "colorbar": {
              "outlinewidth": 0,
              "ticks": ""
             }
            },
            "type": "scatterpolargl"
           }
          ],
          "scatterternary": [
           {
            "marker": {
             "colorbar": {
              "outlinewidth": 0,
              "ticks": ""
             }
            },
            "type": "scatterternary"
           }
          ],
          "surface": [
           {
            "colorbar": {
             "outlinewidth": 0,
             "ticks": ""
            },
            "colorscale": [
             [
              0,
              "#0d0887"
             ],
             [
              0.1111111111111111,
              "#46039f"
             ],
             [
              0.2222222222222222,
              "#7201a8"
             ],
             [
              0.3333333333333333,
              "#9c179e"
             ],
             [
              0.4444444444444444,
              "#bd3786"
             ],
             [
              0.5555555555555556,
              "#d8576b"
             ],
             [
              0.6666666666666666,
              "#ed7953"
             ],
             [
              0.7777777777777778,
              "#fb9f3a"
             ],
             [
              0.8888888888888888,
              "#fdca26"
             ],
             [
              1,
              "#f0f921"
             ]
            ],
            "type": "surface"
           }
          ],
          "table": [
           {
            "cells": {
             "fill": {
              "color": "#EBF0F8"
             },
             "line": {
              "color": "white"
             }
            },
            "header": {
             "fill": {
              "color": "#C8D4E3"
             },
             "line": {
              "color": "white"
             }
            },
            "type": "table"
           }
          ]
         },
         "layout": {
          "annotationdefaults": {
           "arrowcolor": "#2a3f5f",
           "arrowhead": 0,
           "arrowwidth": 1
          },
          "autotypenumbers": "strict",
          "coloraxis": {
           "colorbar": {
            "outlinewidth": 0,
            "ticks": ""
           }
          },
          "colorscale": {
           "diverging": [
            [
             0,
             "#8e0152"
            ],
            [
             0.1,
             "#c51b7d"
            ],
            [
             0.2,
             "#de77ae"
            ],
            [
             0.3,
             "#f1b6da"
            ],
            [
             0.4,
             "#fde0ef"
            ],
            [
             0.5,
             "#f7f7f7"
            ],
            [
             0.6,
             "#e6f5d0"
            ],
            [
             0.7,
             "#b8e186"
            ],
            [
             0.8,
             "#7fbc41"
            ],
            [
             0.9,
             "#4d9221"
            ],
            [
             1,
             "#276419"
            ]
           ],
           "sequential": [
            [
             0,
             "#0d0887"
            ],
            [
             0.1111111111111111,
             "#46039f"
            ],
            [
             0.2222222222222222,
             "#7201a8"
            ],
            [
             0.3333333333333333,
             "#9c179e"
            ],
            [
             0.4444444444444444,
             "#bd3786"
            ],
            [
             0.5555555555555556,
             "#d8576b"
            ],
            [
             0.6666666666666666,
             "#ed7953"
            ],
            [
             0.7777777777777778,
             "#fb9f3a"
            ],
            [
             0.8888888888888888,
             "#fdca26"
            ],
            [
             1,
             "#f0f921"
            ]
           ],
           "sequentialminus": [
            [
             0,
             "#0d0887"
            ],
            [
             0.1111111111111111,
             "#46039f"
            ],
            [
             0.2222222222222222,
             "#7201a8"
            ],
            [
             0.3333333333333333,
             "#9c179e"
            ],
            [
             0.4444444444444444,
             "#bd3786"
            ],
            [
             0.5555555555555556,
             "#d8576b"
            ],
            [
             0.6666666666666666,
             "#ed7953"
            ],
            [
             0.7777777777777778,
             "#fb9f3a"
            ],
            [
             0.8888888888888888,
             "#fdca26"
            ],
            [
             1,
             "#f0f921"
            ]
           ]
          },
          "colorway": [
           "#636efa",
           "#EF553B",
           "#00cc96",
           "#ab63fa",
           "#FFA15A",
           "#19d3f3",
           "#FF6692",
           "#B6E880",
           "#FF97FF",
           "#FECB52"
          ],
          "font": {
           "color": "#2a3f5f"
          },
          "geo": {
           "bgcolor": "white",
           "lakecolor": "white",
           "landcolor": "#E5ECF6",
           "showlakes": true,
           "showland": true,
           "subunitcolor": "white"
          },
          "hoverlabel": {
           "align": "left"
          },
          "hovermode": "closest",
          "mapbox": {
           "style": "light"
          },
          "paper_bgcolor": "white",
          "plot_bgcolor": "#E5ECF6",
          "polar": {
           "angularaxis": {
            "gridcolor": "white",
            "linecolor": "white",
            "ticks": ""
           },
           "bgcolor": "#E5ECF6",
           "radialaxis": {
            "gridcolor": "white",
            "linecolor": "white",
            "ticks": ""
           }
          },
          "scene": {
           "xaxis": {
            "backgroundcolor": "#E5ECF6",
            "gridcolor": "white",
            "gridwidth": 2,
            "linecolor": "white",
            "showbackground": true,
            "ticks": "",
            "zerolinecolor": "white"
           },
           "yaxis": {
            "backgroundcolor": "#E5ECF6",
            "gridcolor": "white",
            "gridwidth": 2,
            "linecolor": "white",
            "showbackground": true,
            "ticks": "",
            "zerolinecolor": "white"
           },
           "zaxis": {
            "backgroundcolor": "#E5ECF6",
            "gridcolor": "white",
            "gridwidth": 2,
            "linecolor": "white",
            "showbackground": true,
            "ticks": "",
            "zerolinecolor": "white"
           }
          },
          "shapedefaults": {
           "line": {
            "color": "#2a3f5f"
           }
          },
          "ternary": {
           "aaxis": {
            "gridcolor": "white",
            "linecolor": "white",
            "ticks": ""
           },
           "baxis": {
            "gridcolor": "white",
            "linecolor": "white",
            "ticks": ""
           },
           "bgcolor": "#E5ECF6",
           "caxis": {
            "gridcolor": "white",
            "linecolor": "white",
            "ticks": ""
           }
          },
          "title": {
           "x": 0.05
          },
          "xaxis": {
           "automargin": true,
           "gridcolor": "white",
           "linecolor": "white",
           "ticks": "",
           "title": {
            "standoff": 15
           },
           "zerolinecolor": "white",
           "zerolinewidth": 2
          },
          "yaxis": {
           "automargin": true,
           "gridcolor": "white",
           "linecolor": "white",
           "ticks": "",
           "title": {
            "standoff": 15
           },
           "zerolinecolor": "white",
           "zerolinewidth": 2
          }
         }
        },
        "xaxis": {
         "anchor": "y",
         "domain": [
          0,
          1
         ],
         "title": {
          "text": "Dates"
         }
        },
        "yaxis": {
         "anchor": "x",
         "domain": [
          0,
          1
         ],
         "title": {
          "text": "Moyenne cumulée des distances"
         }
        }
       }
      },
      "text/html": [
       "<div>                            <div id=\"a8dd9a56-a5ef-49ed-877e-1bbe32b855de\" class=\"plotly-graph-div\" style=\"height:525px; width:100%;\"></div>            <script type=\"text/javascript\">                require([\"plotly\"], function(Plotly) {                    window.PLOTLYENV=window.PLOTLYENV || {};                                    if (document.getElementById(\"a8dd9a56-a5ef-49ed-877e-1bbe32b855de\")) {                    Plotly.newPlot(                        \"a8dd9a56-a5ef-49ed-877e-1bbe32b855de\",                        [{\"hovertemplate\": \"Dates=%{x}<br>Moyenne cumul\\u00e9e des distances=%{y}<extra></extra>\", \"legendgroup\": \"\", \"line\": {\"color\": \"#636efa\", \"dash\": \"solid\"}, \"mode\": \"lines\", \"name\": \"\", \"orientation\": \"v\", \"showlegend\": false, \"type\": \"scatter\", \"x\": [\"2017-07-12\", \"2017-07-26\", \"2017-08-09\", \"2017-08-23\", \"2017-09-06\", \"2017-09-20\", \"2017-10-04\", \"2017-10-18\", \"2017-11-01\", \"2017-11-15\", \"2017-11-29\", \"2017-12-13\", \"2017-12-27\", \"2018-01-10\", \"2018-01-24\", \"2018-02-07\", \"2018-02-21\", \"2018-03-07\", \"2018-03-21\", \"2018-04-04\", \"2018-04-18\", \"2018-05-02\", \"2018-05-16\", \"2018-05-30\", \"2018-06-13\", \"2018-06-27\", \"2018-07-11\", \"2018-07-25\", \"2018-08-08\", \"2018-08-22\", \"2018-09-05\", \"2018-09-19\", \"2018-10-03\", \"2018-10-17\", \"2018-10-31\", \"2018-11-14\", \"2018-11-28\", \"2018-12-12\", \"2018-12-26\", \"2019-01-09\", \"2019-01-23\", \"2019-02-06\", \"2019-02-20\", \"2019-03-06\", \"2019-03-20\", \"2019-04-03\", \"2019-04-17\", \"2019-05-01\", \"2019-05-15\", \"2019-05-29\", \"2019-06-12\", \"2019-06-26\", \"2019-07-10\", \"2019-07-24\", \"2019-08-07\", \"2019-08-21\", \"2019-09-04\", \"2019-09-18\", \"2019-10-02\", \"2019-10-16\", \"2019-10-30\", \"2019-11-13\", \"2019-11-27\", \"2019-12-11\", \"2019-12-25\", \"2020-01-08\", \"2020-01-22\", \"2020-02-05\", \"2020-02-19\", \"2020-03-04\", \"2020-03-18\", \"2020-04-01\", \"2020-04-15\", \"2020-04-29\", \"2020-05-13\", \"2020-05-27\", \"2020-06-10\", \"2020-06-24\"], \"xaxis\": \"x\", \"y\": [1.4899118127283182, 1.5003011039330985, 1.5064861137563368, 1.507801615046168, 1.5085909158200665, 1.509117116335999, 1.508668295447831, 1.5082694839780222, 1.5075133604981596, 1.5069042787054412, 1.506551035343127, 1.5057437107112153, 1.5057120343639971, 1.5056848832092384, 1.5042307406340174, 1.503928855215138, 1.5037501103096818, 1.5038869526696435, 1.5031226549930623, 1.5030058698146753, 1.502689821051803, 1.5029179189659985, 1.5021700204443078, 1.5022204362620044, 1.502453768246106, 1.5030574781891999, 1.5026317212720495, 1.5025163724531707, 1.5026366263745783, 1.5027488633678918, 1.5028538592648626, 1.5029010575092503, 1.5031832692911298, 1.503406117568376, 1.5034367255820227, 1.5033325098060815, 1.503512416722986, 1.503703868483903, 1.5035186475988143, 1.5033426877579799, 1.5034571268180632, 1.5034410049907685, 1.5034688986390334, 1.5033007545707198, 1.5034755497535135, 1.5034706096075563, 1.5035186199101889, 1.503209199275639, 1.503158657816067, 1.5031846059480933, 1.5031682590984554, 1.503010772599223, 1.5030518656717202, 1.5030741561660983, 1.5030956360970442, 1.5031163488875998, 1.503136334913574, 1.5032688406833636, 1.5033326215222824, 1.5034881268018496, 1.5036269277499454, 1.5035311374536358, 1.5035511027087007, 1.5035732298907727, 1.503469038649884, 1.5032606671501443, 1.5032791599665354, 1.5032627379481605, 1.5031140231661955, 1.50314846406419, 1.503187539867152, 1.5031955889274018, 1.503203417465453, 1.503169833047789, 1.5033110106024223, 1.5032221832636958, 1.5031584576750077, 1.5030948539740348], \"yaxis\": \"y\"}],                        {\"legend\": {\"tracegroupgap\": 0}, \"margin\": {\"t\": 60}, \"template\": {\"data\": {\"bar\": [{\"error_x\": {\"color\": \"#2a3f5f\"}, \"error_y\": {\"color\": \"#2a3f5f\"}, \"marker\": {\"line\": {\"color\": \"#E5ECF6\", \"width\": 0.5}}, \"type\": \"bar\"}], \"barpolar\": [{\"marker\": {\"line\": {\"color\": \"#E5ECF6\", \"width\": 0.5}}, \"type\": \"barpolar\"}], \"carpet\": [{\"aaxis\": {\"endlinecolor\": \"#2a3f5f\", \"gridcolor\": \"white\", \"linecolor\": \"white\", \"minorgridcolor\": \"white\", \"startlinecolor\": \"#2a3f5f\"}, \"baxis\": {\"endlinecolor\": \"#2a3f5f\", \"gridcolor\": \"white\", \"linecolor\": \"white\", \"minorgridcolor\": \"white\", \"startlinecolor\": \"#2a3f5f\"}, \"type\": \"carpet\"}], \"choropleth\": [{\"colorbar\": {\"outlinewidth\": 0, \"ticks\": \"\"}, \"type\": \"choropleth\"}], \"contour\": [{\"colorbar\": {\"outlinewidth\": 0, \"ticks\": \"\"}, \"colorscale\": [[0.0, \"#0d0887\"], [0.1111111111111111, \"#46039f\"], [0.2222222222222222, \"#7201a8\"], [0.3333333333333333, \"#9c179e\"], [0.4444444444444444, \"#bd3786\"], [0.5555555555555556, \"#d8576b\"], [0.6666666666666666, \"#ed7953\"], [0.7777777777777778, \"#fb9f3a\"], [0.8888888888888888, \"#fdca26\"], [1.0, \"#f0f921\"]], \"type\": \"contour\"}], \"contourcarpet\": [{\"colorbar\": {\"outlinewidth\": 0, \"ticks\": \"\"}, \"type\": \"contourcarpet\"}], \"heatmap\": [{\"colorbar\": {\"outlinewidth\": 0, \"ticks\": \"\"}, \"colorscale\": [[0.0, \"#0d0887\"], [0.1111111111111111, \"#46039f\"], [0.2222222222222222, \"#7201a8\"], [0.3333333333333333, \"#9c179e\"], [0.4444444444444444, \"#bd3786\"], [0.5555555555555556, \"#d8576b\"], [0.6666666666666666, \"#ed7953\"], [0.7777777777777778, \"#fb9f3a\"], [0.8888888888888888, \"#fdca26\"], [1.0, \"#f0f921\"]], \"type\": \"heatmap\"}], \"heatmapgl\": [{\"colorbar\": {\"outlinewidth\": 0, \"ticks\": \"\"}, \"colorscale\": [[0.0, \"#0d0887\"], [0.1111111111111111, \"#46039f\"], [0.2222222222222222, \"#7201a8\"], [0.3333333333333333, \"#9c179e\"], [0.4444444444444444, \"#bd3786\"], [0.5555555555555556, \"#d8576b\"], [0.6666666666666666, \"#ed7953\"], [0.7777777777777778, \"#fb9f3a\"], [0.8888888888888888, \"#fdca26\"], [1.0, \"#f0f921\"]], \"type\": \"heatmapgl\"}], \"histogram\": [{\"marker\": {\"colorbar\": {\"outlinewidth\": 0, \"ticks\": \"\"}}, \"type\": \"histogram\"}], \"histogram2d\": [{\"colorbar\": {\"outlinewidth\": 0, \"ticks\": \"\"}, \"colorscale\": [[0.0, \"#0d0887\"], [0.1111111111111111, \"#46039f\"], [0.2222222222222222, \"#7201a8\"], [0.3333333333333333, \"#9c179e\"], [0.4444444444444444, \"#bd3786\"], [0.5555555555555556, \"#d8576b\"], [0.6666666666666666, \"#ed7953\"], [0.7777777777777778, \"#fb9f3a\"], [0.8888888888888888, \"#fdca26\"], [1.0, \"#f0f921\"]], \"type\": \"histogram2d\"}], \"histogram2dcontour\": [{\"colorbar\": {\"outlinewidth\": 0, \"ticks\": \"\"}, \"colorscale\": [[0.0, \"#0d0887\"], [0.1111111111111111, \"#46039f\"], [0.2222222222222222, \"#7201a8\"], [0.3333333333333333, \"#9c179e\"], [0.4444444444444444, \"#bd3786\"], [0.5555555555555556, \"#d8576b\"], [0.6666666666666666, \"#ed7953\"], [0.7777777777777778, \"#fb9f3a\"], [0.8888888888888888, \"#fdca26\"], [1.0, \"#f0f921\"]], \"type\": \"histogram2dcontour\"}], \"mesh3d\": [{\"colorbar\": {\"outlinewidth\": 0, \"ticks\": \"\"}, \"type\": \"mesh3d\"}], \"parcoords\": [{\"line\": {\"colorbar\": {\"outlinewidth\": 0, \"ticks\": \"\"}}, \"type\": \"parcoords\"}], \"pie\": [{\"automargin\": true, \"type\": \"pie\"}], \"scatter\": [{\"marker\": {\"colorbar\": {\"outlinewidth\": 0, \"ticks\": \"\"}}, \"type\": \"scatter\"}], \"scatter3d\": [{\"line\": {\"colorbar\": {\"outlinewidth\": 0, \"ticks\": \"\"}}, \"marker\": {\"colorbar\": {\"outlinewidth\": 0, \"ticks\": \"\"}}, \"type\": \"scatter3d\"}], \"scattercarpet\": [{\"marker\": {\"colorbar\": {\"outlinewidth\": 0, \"ticks\": \"\"}}, \"type\": \"scattercarpet\"}], \"scattergeo\": [{\"marker\": {\"colorbar\": {\"outlinewidth\": 0, \"ticks\": \"\"}}, \"type\": \"scattergeo\"}], \"scattergl\": [{\"marker\": {\"colorbar\": {\"outlinewidth\": 0, \"ticks\": \"\"}}, \"type\": \"scattergl\"}], \"scattermapbox\": [{\"marker\": {\"colorbar\": {\"outlinewidth\": 0, \"ticks\": \"\"}}, \"type\": \"scattermapbox\"}], \"scatterpolar\": [{\"marker\": {\"colorbar\": {\"outlinewidth\": 0, \"ticks\": \"\"}}, \"type\": \"scatterpolar\"}], \"scatterpolargl\": [{\"marker\": {\"colorbar\": {\"outlinewidth\": 0, \"ticks\": \"\"}}, \"type\": \"scatterpolargl\"}], \"scatterternary\": [{\"marker\": {\"colorbar\": {\"outlinewidth\": 0, \"ticks\": \"\"}}, \"type\": \"scatterternary\"}], \"surface\": [{\"colorbar\": {\"outlinewidth\": 0, \"ticks\": \"\"}, \"colorscale\": [[0.0, \"#0d0887\"], [0.1111111111111111, \"#46039f\"], [0.2222222222222222, \"#7201a8\"], [0.3333333333333333, \"#9c179e\"], [0.4444444444444444, \"#bd3786\"], [0.5555555555555556, \"#d8576b\"], [0.6666666666666666, \"#ed7953\"], [0.7777777777777778, \"#fb9f3a\"], [0.8888888888888888, \"#fdca26\"], [1.0, \"#f0f921\"]], \"type\": \"surface\"}], \"table\": [{\"cells\": {\"fill\": {\"color\": \"#EBF0F8\"}, \"line\": {\"color\": \"white\"}}, \"header\": {\"fill\": {\"color\": \"#C8D4E3\"}, \"line\": {\"color\": \"white\"}}, \"type\": \"table\"}]}, \"layout\": {\"annotationdefaults\": {\"arrowcolor\": \"#2a3f5f\", \"arrowhead\": 0, \"arrowwidth\": 1}, \"autotypenumbers\": \"strict\", \"coloraxis\": {\"colorbar\": {\"outlinewidth\": 0, \"ticks\": \"\"}}, \"colorscale\": {\"diverging\": [[0, \"#8e0152\"], [0.1, \"#c51b7d\"], [0.2, \"#de77ae\"], [0.3, \"#f1b6da\"], [0.4, \"#fde0ef\"], [0.5, \"#f7f7f7\"], [0.6, \"#e6f5d0\"], [0.7, \"#b8e186\"], [0.8, \"#7fbc41\"], [0.9, \"#4d9221\"], [1, \"#276419\"]], \"sequential\": [[0.0, \"#0d0887\"], [0.1111111111111111, \"#46039f\"], [0.2222222222222222, \"#7201a8\"], [0.3333333333333333, \"#9c179e\"], [0.4444444444444444, \"#bd3786\"], [0.5555555555555556, \"#d8576b\"], [0.6666666666666666, \"#ed7953\"], [0.7777777777777778, \"#fb9f3a\"], [0.8888888888888888, \"#fdca26\"], [1.0, \"#f0f921\"]], \"sequentialminus\": [[0.0, \"#0d0887\"], [0.1111111111111111, \"#46039f\"], [0.2222222222222222, \"#7201a8\"], [0.3333333333333333, \"#9c179e\"], [0.4444444444444444, \"#bd3786\"], [0.5555555555555556, \"#d8576b\"], [0.6666666666666666, \"#ed7953\"], [0.7777777777777778, \"#fb9f3a\"], [0.8888888888888888, \"#fdca26\"], [1.0, \"#f0f921\"]]}, \"colorway\": [\"#636efa\", \"#EF553B\", \"#00cc96\", \"#ab63fa\", \"#FFA15A\", \"#19d3f3\", \"#FF6692\", \"#B6E880\", \"#FF97FF\", \"#FECB52\"], \"font\": {\"color\": \"#2a3f5f\"}, \"geo\": {\"bgcolor\": \"white\", \"lakecolor\": \"white\", \"landcolor\": \"#E5ECF6\", \"showlakes\": true, \"showland\": true, \"subunitcolor\": \"white\"}, \"hoverlabel\": {\"align\": \"left\"}, \"hovermode\": \"closest\", \"mapbox\": {\"style\": \"light\"}, \"paper_bgcolor\": \"white\", \"plot_bgcolor\": \"#E5ECF6\", \"polar\": {\"angularaxis\": {\"gridcolor\": \"white\", \"linecolor\": \"white\", \"ticks\": \"\"}, \"bgcolor\": \"#E5ECF6\", \"radialaxis\": {\"gridcolor\": \"white\", \"linecolor\": \"white\", \"ticks\": \"\"}}, \"scene\": {\"xaxis\": {\"backgroundcolor\": \"#E5ECF6\", \"gridcolor\": \"white\", \"gridwidth\": 2, \"linecolor\": \"white\", \"showbackground\": true, \"ticks\": \"\", \"zerolinecolor\": \"white\"}, \"yaxis\": {\"backgroundcolor\": \"#E5ECF6\", \"gridcolor\": \"white\", \"gridwidth\": 2, \"linecolor\": \"white\", \"showbackground\": true, \"ticks\": \"\", \"zerolinecolor\": \"white\"}, \"zaxis\": {\"backgroundcolor\": \"#E5ECF6\", \"gridcolor\": \"white\", \"gridwidth\": 2, \"linecolor\": \"white\", \"showbackground\": true, \"ticks\": \"\", \"zerolinecolor\": \"white\"}}, \"shapedefaults\": {\"line\": {\"color\": \"#2a3f5f\"}}, \"ternary\": {\"aaxis\": {\"gridcolor\": \"white\", \"linecolor\": \"white\", \"ticks\": \"\"}, \"baxis\": {\"gridcolor\": \"white\", \"linecolor\": \"white\", \"ticks\": \"\"}, \"bgcolor\": \"#E5ECF6\", \"caxis\": {\"gridcolor\": \"white\", \"linecolor\": \"white\", \"ticks\": \"\"}}, \"title\": {\"x\": 0.05}, \"xaxis\": {\"automargin\": true, \"gridcolor\": \"white\", \"linecolor\": \"white\", \"ticks\": \"\", \"title\": {\"standoff\": 15}, \"zerolinecolor\": \"white\", \"zerolinewidth\": 2}, \"yaxis\": {\"automargin\": true, \"gridcolor\": \"white\", \"linecolor\": \"white\", \"ticks\": \"\", \"title\": {\"standoff\": 15}, \"zerolinecolor\": \"white\", \"zerolinewidth\": 2}}}, \"xaxis\": {\"anchor\": \"y\", \"domain\": [0.0, 1.0], \"title\": {\"text\": \"Dates\"}}, \"yaxis\": {\"anchor\": \"x\", \"domain\": [0.0, 1.0], \"title\": {\"text\": \"Moyenne cumul\\u00e9e des distances\"}}},                        {\"responsive\": true}                    ).then(function(){\n",
       "                            \n",
       "var gd = document.getElementById('a8dd9a56-a5ef-49ed-877e-1bbe32b855de');\n",
       "var x = new MutationObserver(function (mutations, observer) {{\n",
       "        var display = window.getComputedStyle(gd).display;\n",
       "        if (!display || display === 'none') {{\n",
       "            console.log([gd, 'removed!']);\n",
       "            Plotly.purge(gd);\n",
       "            observer.disconnect();\n",
       "        }}\n",
       "}});\n",
       "\n",
       "// Listen for the removal of the full notebook cells\n",
       "var notebookContainer = gd.closest('#notebook-container');\n",
       "if (notebookContainer) {{\n",
       "    x.observe(notebookContainer, {childList: true});\n",
       "}}\n",
       "\n",
       "// Listen for the clearing of the current output cell\n",
       "var outputEl = gd.closest('.output');\n",
       "if (outputEl) {{\n",
       "    x.observe(outputEl, {childList: true});\n",
       "}}\n",
       "\n",
       "                        })                };                });            </script>        </div>"
      ]
     },
     "metadata": {},
     "output_type": "display_data"
    }
   ],
   "source": [
    "px.line(y = [np.mean(values[:i]) for i in range(1,len(values))], x = date_label, \n",
    "        labels = {'x' : 'Dates', 'y' : 'Moyenne cumulée des distances'})"
   ]
  },
  {
   "cell_type": "markdown",
   "metadata": {},
   "source": [
    "On observe la moyenne cumulée des distances en fonction du temps. On constate une moyenne forte en début d'exercice, puis une relaxation pour atteindre une valeur limite.\n",
    "On peut interpréter cela comme : \n",
    "- un début d'exercice où les novices et les expérimentés parlent différemment, la distance entre les deux langages est raltivement grande.\n",
    "- une période d'apprentissage (du 20 septembre 2017 au 16 mai 2018) où les différences entre novices et expérimentés tendent à s'estomper (mais dans quel sens ? on s'attend à ce que les novices s'adaptent aux expérimentés, et pas forcement l'inverse), la distance diminue.\n",
    "- une période de différenciation (du 16 mai 2018 au 12 décembre 2018), où la distance augmente légerement : comme si un des deux camps voulait se différencier de l'autre.\n",
    "- une période stable (du 12 décembre 2018 à la fin de l'exercice)."
   ]
  },
  {
   "cell_type": "markdown",
   "metadata": {},
   "source": [
    "## Analyse personnalisée député par député"
   ]
  },
  {
   "cell_type": "code",
   "execution_count": 175,
   "metadata": {},
   "outputs": [
    {
     "data": {
      "text/plain": [
       "{'laurent pietraszewski': 3435,\n",
       " 'francois ruffin': 3125,\n",
       " 'sabine rubin': 2189,\n",
       " 'adrien taquet': 1781,\n",
       " 'roland lescure': 1705,\n",
       " 'laetitia avia': 1637,\n",
       " 'emilie chalas': 1579,\n",
       " 'cendra motin': 1557,\n",
       " 'yael braun pivet': 1286,\n",
       " 'catherine fabre': 1159,\n",
       " 'coralie dubost': 1138,\n",
       " 'christophe naegelen': 1134,\n",
       " 'thomas mesnier': 1121,\n",
       " 'jean baptiste djebbari': 1096,\n",
       " 'marie christine verdier jouclas': 986,\n",
       " 'nadia hai': 986,\n",
       " 'bruno studer': 895,\n",
       " 'sacha houlie': 880,\n",
       " 'gilles le gendre': 836,\n",
       " 'berangere couillard': 714,\n",
       " 'veronique riotton': 675,\n",
       " 'benedicte peyrol': 603,\n",
       " 'alexandra louis': 603,\n",
       " 'raphael gauvain': 598,\n",
       " 'raphael gerard': 594,\n",
       " 'mohamed laqhila': 586,\n",
       " 'agnes thill': 568,\n",
       " 'martine wonner': 542,\n",
       " 'cecile rilhac': 527,\n",
       " 'stephanie rist': 478,\n",
       " 'zivka park': 469,\n",
       " 'perrine goulet': 461,\n",
       " 'vincent thiebaut': 446,\n",
       " 'jean francois mbaye': 439,\n",
       " 'alice thourot': 391,\n",
       " 'alexandre holroyd': 361,\n",
       " 'caroline abadie': 336,\n",
       " 'annie chapelier': 326,\n",
       " 'fiona lazaar': 322,\n",
       " 'damien adam': 310,\n",
       " 'albane gaillot': 308,\n",
       " 'dominique david': 306,\n",
       " 'fannette charvier': 297,\n",
       " 'gregory besson moreau': 293,\n",
       " 'anne genetet': 283,\n",
       " 'joachim son forget': 275,\n",
       " 'typhanie degois': 275,\n",
       " 'audrey dufeu schubert': 269,\n",
       " 'sylvie charriere': 264,\n",
       " 'carole grandjean': 262,\n",
       " 'cedric roussel': 262,\n",
       " 'christophe euzet': 258,\n",
       " 'nicole dubre chirat': 253,\n",
       " 'laetitia romeiro dias': 251,\n",
       " 'barbara bessot ballot': 240,\n",
       " 'laetitia saint paul': 240,\n",
       " 'beatrice piron': 226,\n",
       " 'gael le bohec': 215,\n",
       " 'caroline janvier': 214,\n",
       " 'benoit potterie': 213,\n",
       " 'nicolas demoulin': 210,\n",
       " 'natalia pouzyreff': 204,\n",
       " 'cathy racon bouzon': 201,\n",
       " 'aude amadou': 200,\n",
       " 'fabienne colboc': 199,\n",
       " 'sophie beaudouin hubiere': 196,\n",
       " 'thierry michels': 194,\n",
       " 'sabine thillaye': 184,\n",
       " 'emilie guerel': 183,\n",
       " 'jean michel fauvergue': 182,\n",
       " 'sonia krimi': 179,\n",
       " 'huguette tiegna': 174,\n",
       " 'eric girardin': 167,\n",
       " 'jennifer de temmerman': 159,\n",
       " 'graziella melchior': 155,\n",
       " 'bertrand bouyx': 154,\n",
       " 'charlotte lecocq': 152,\n",
       " 'monica michel': 150,\n",
       " 'nicole trisse': 143,\n",
       " 'claire pitollat': 139,\n",
       " 'jean charles larsonneur': 137,\n",
       " 'herve berville': 136,\n",
       " 'annaig le meur': 133,\n",
       " 'sophie panonacle': 132,\n",
       " 'anne france brunet': 131,\n",
       " 'denis masseglia': 131,\n",
       " 'aina kuric': 126,\n",
       " 'bruno bonnell': 123,\n",
       " 'valerie petit': 119,\n",
       " 'sandrine le feur': 118,\n",
       " 'pierre alain raphan': 116,\n",
       " 'laurence vanceunebrock mialon': 112,\n",
       " 'patrice anato': 106,\n",
       " 'anne laurence petel': 102,\n",
       " 'pascale fontenel personne': 101,\n",
       " 'brigitte liso': 92,\n",
       " 'florence granjus': 78,\n",
       " 'delphine o': 75,\n",
       " 'valerie oppelt': 72,\n",
       " 'samantha cazebonne': 71,\n",
       " 'valerie gomez bassac': 66,\n",
       " 'benjamin dirx': 53,\n",
       " 'loic kervran': 52,\n",
       " 'valeria faure muntian': 47,\n",
       " 'jean marie fievet': 47,\n",
       " 'mustapha laabid': 44,\n",
       " 'sira sylla': 43,\n",
       " 'xavier batut': 40,\n",
       " 'patrice perrot': 31}"
      ]
     },
     "execution_count": 175,
     "metadata": {},
     "output_type": "execute_result"
    }
   ],
   "source": [
    "# Députés Novices parlant le plus (classement par nombre d'intervention)\n",
    "\n",
    "dict(df0[df0['Groupe'] == 'Novice'].Orateur.value_counts())"
   ]
  },
  {
   "cell_type": "code",
   "execution_count": 177,
   "metadata": {},
   "outputs": [],
   "source": [
    "orateurs_novices = list(dict(df0[df0['Groupe'] == 'Novice'].Orateur.value_counts()).keys())"
   ]
  },
  {
   "cell_type": "code",
   "execution_count": 181,
   "metadata": {},
   "outputs": [
    {
     "data": {
      "text/html": [
       "<div>\n",
       "<style scoped>\n",
       "    .dataframe tbody tr th:only-of-type {\n",
       "        vertical-align: middle;\n",
       "    }\n",
       "\n",
       "    .dataframe tbody tr th {\n",
       "        vertical-align: top;\n",
       "    }\n",
       "\n",
       "    .dataframe thead th {\n",
       "        text-align: right;\n",
       "    }\n",
       "</style>\n",
       "<table border=\"1\" class=\"dataframe\">\n",
       "  <thead>\n",
       "    <tr style=\"text-align: right;\">\n",
       "      <th></th>\n",
       "      <th>Unnamed: 0</th>\n",
       "      <th>Unnamed: 0.1</th>\n",
       "      <th>Orateur</th>\n",
       "      <th>Date</th>\n",
       "      <th>Nature.de.séance</th>\n",
       "      <th>Président.de.séance</th>\n",
       "      <th>Sujet.débattu</th>\n",
       "      <th>Réplique</th>\n",
       "      <th>Didascalie</th>\n",
       "      <th>Président.de.séance_propre</th>\n",
       "      <th>nom.famille</th>\n",
       "      <th>sexe</th>\n",
       "      <th>age</th>\n",
       "      <th>groupe.sigle</th>\n",
       "      <th>commissions</th>\n",
       "      <th>nb.mandats</th>\n",
       "      <th>cabcollab</th>\n",
       "      <th>duree.pol</th>\n",
       "      <th>clustRFSP</th>\n",
       "      <th>clustVEP</th>\n",
       "      <th>hautdip</th>\n",
       "      <th>naissance_an</th>\n",
       "      <th>majo</th>\n",
       "      <th>profsigni2</th>\n",
       "      <th>ID</th>\n",
       "      <th>Groupe</th>\n",
       "      <th>time_floor</th>\n",
       "      <th>tokenized_replique</th>\n",
       "      <th>tokenized_didascalie</th>\n",
       "      <th>stemmed_replique</th>\n",
       "      <th>stemmed_didascalie</th>\n",
       "    </tr>\n",
       "  </thead>\n",
       "  <tbody>\n",
       "    <tr>\n",
       "      <th>0</th>\n",
       "      <td>0</td>\n",
       "      <td>1</td>\n",
       "      <td>adrien morenas</td>\n",
       "      <td>2019-11-04</td>\n",
       "      <td>Projet de loi de finances pour 2020</td>\n",
       "      <td>Présidence de M. Hugues Renson</td>\n",
       "      <td>NaN</td>\n",
       "      <td>Si vous y donnez un avis favorable  madame la ...</td>\n",
       "      <td>NaN</td>\n",
       "      <td>Présidence de M. Hugues Renson</td>\n",
       "      <td>Morenas</td>\n",
       "      <td>M</td>\n",
       "      <td>35</td>\n",
       "      <td>LREM</td>\n",
       "      <td>DvptDurable</td>\n",
       "      <td>0</td>\n",
       "      <td>False</td>\n",
       "      <td>0</td>\n",
       "      <td>1 - Soc. civile</td>\n",
       "      <td>6  Exp. Pol.</td>\n",
       "      <td>Doct</td>\n",
       "      <td>1982</td>\n",
       "      <td>True</td>\n",
       "      <td>NaN</td>\n",
       "      <td>1</td>\n",
       "      <td>Exp</td>\n",
       "      <td>2019-11-01</td>\n",
       "      <td>si donnez avis favorable madame secrétaire éta...</td>\n",
       "      <td>NaN</td>\n",
       "      <td>si don avis favor madam secrétair état dissip ...</td>\n",
       "      <td>NaN</td>\n",
       "    </tr>\n",
       "    <tr>\n",
       "      <th>1</th>\n",
       "      <td>1</td>\n",
       "      <td>2</td>\n",
       "      <td>adrien morenas</td>\n",
       "      <td>2019-11-04</td>\n",
       "      <td>Projet de loi de finances pour 2020</td>\n",
       "      <td>Présidence de M. Hugues Renson</td>\n",
       "      <td>NaN</td>\n",
       "      <td>Plus généralement  je soutiendrai un autre ame...</td>\n",
       "      <td>NaN</td>\n",
       "      <td>Présidence de M. Hugues Renson</td>\n",
       "      <td>Morenas</td>\n",
       "      <td>M</td>\n",
       "      <td>35</td>\n",
       "      <td>LREM</td>\n",
       "      <td>DvptDurable</td>\n",
       "      <td>0</td>\n",
       "      <td>False</td>\n",
       "      <td>0</td>\n",
       "      <td>1 - Soc. civile</td>\n",
       "      <td>6  Exp. Pol.</td>\n",
       "      <td>Doct</td>\n",
       "      <td>1982</td>\n",
       "      <td>True</td>\n",
       "      <td>NaN</td>\n",
       "      <td>2</td>\n",
       "      <td>Exp</td>\n",
       "      <td>2019-11-01</td>\n",
       "      <td>plus généralement soutiendrai autre amendement...</td>\n",
       "      <td>NaN</td>\n",
       "      <td>plus général soutiendr autr amend vis demand g...</td>\n",
       "      <td>NaN</td>\n",
       "    </tr>\n",
       "    <tr>\n",
       "      <th>2</th>\n",
       "      <td>2</td>\n",
       "      <td>3</td>\n",
       "      <td>adrien morenas</td>\n",
       "      <td>2019-07-02</td>\n",
       "      <td>Questions au Gouvernement</td>\n",
       "      <td>Présidence de M. Richard Ferrand</td>\n",
       "      <td>Convention citoyenne sur le climat</td>\n",
       "      <td>Ma question sadresse à M. François de Rugy  ...</td>\n",
       "      <td>NaN</td>\n",
       "      <td>Présidence de M. Richard Ferrand</td>\n",
       "      <td>Morenas</td>\n",
       "      <td>M</td>\n",
       "      <td>35</td>\n",
       "      <td>LREM</td>\n",
       "      <td>DvptDurable</td>\n",
       "      <td>0</td>\n",
       "      <td>False</td>\n",
       "      <td>0</td>\n",
       "      <td>1 - Soc. civile</td>\n",
       "      <td>6  Exp. Pol.</td>\n",
       "      <td>Doct</td>\n",
       "      <td>1982</td>\n",
       "      <td>True</td>\n",
       "      <td>NaN</td>\n",
       "      <td>3</td>\n",
       "      <td>Exp</td>\n",
       "      <td>2019-07-01</td>\n",
       "      <td>question adresse françois rugy ministre état m...</td>\n",
       "      <td>NaN</td>\n",
       "      <td>question adress françois rugy ministr état min...</td>\n",
       "      <td>NaN</td>\n",
       "    </tr>\n",
       "    <tr>\n",
       "      <th>3</th>\n",
       "      <td>3</td>\n",
       "      <td>4</td>\n",
       "      <td>adrien morenas</td>\n",
       "      <td>2018-02-01</td>\n",
       "      <td>Accès à leau</td>\n",
       "      <td>Présidence de Mme Carole Bureau-Bonnard</td>\n",
       "      <td>Discussion générale</td>\n",
       "      <td>Le 1</td>\n",
       "      <td>NaN</td>\n",
       "      <td>Présidence de Mme Carole Bureau-Bonnard</td>\n",
       "      <td>Morenas</td>\n",
       "      <td>M</td>\n",
       "      <td>35</td>\n",
       "      <td>LREM</td>\n",
       "      <td>DvptDurable</td>\n",
       "      <td>0</td>\n",
       "      <td>False</td>\n",
       "      <td>0</td>\n",
       "      <td>1 - Soc. civile</td>\n",
       "      <td>6  Exp. Pol.</td>\n",
       "      <td>Doct</td>\n",
       "      <td>1982</td>\n",
       "      <td>True</td>\n",
       "      <td>NaN</td>\n",
       "      <td>4</td>\n",
       "      <td>Exp</td>\n",
       "      <td>2018-02-01</td>\n",
       "      <td>NaN</td>\n",
       "      <td>NaN</td>\n",
       "      <td>NaN</td>\n",
       "      <td>NaN</td>\n",
       "    </tr>\n",
       "    <tr>\n",
       "      <th>4</th>\n",
       "      <td>4</td>\n",
       "      <td>5</td>\n",
       "      <td>adrien morenas</td>\n",
       "      <td>2020-05-08</td>\n",
       "      <td>Prorogation de létat durgence sanitaire</td>\n",
       "      <td>Présidence de Mme Laetitia Saint-Paul</td>\n",
       "      <td>Discussion des articles</td>\n",
       "      <td>Cette autorisation  strictement encadrée par l...</td>\n",
       "      <td>NaN</td>\n",
       "      <td>Présidence de Mme Laetitia Saint-Paul</td>\n",
       "      <td>Morenas</td>\n",
       "      <td>M</td>\n",
       "      <td>35</td>\n",
       "      <td>LREM</td>\n",
       "      <td>DvptDurable</td>\n",
       "      <td>0</td>\n",
       "      <td>False</td>\n",
       "      <td>0</td>\n",
       "      <td>1 - Soc. civile</td>\n",
       "      <td>6  Exp. Pol.</td>\n",
       "      <td>Doct</td>\n",
       "      <td>1982</td>\n",
       "      <td>True</td>\n",
       "      <td>NaN</td>\n",
       "      <td>5</td>\n",
       "      <td>Exp</td>\n",
       "      <td>2020-05-01</td>\n",
       "      <td>cette autorisation strictement encadrée décret...</td>\n",
       "      <td>NaN</td>\n",
       "      <td>cet autoris strict encadr décret appliqu effet...</td>\n",
       "      <td>NaN</td>\n",
       "    </tr>\n",
       "    <tr>\n",
       "      <th>...</th>\n",
       "      <td>...</td>\n",
       "      <td>...</td>\n",
       "      <td>...</td>\n",
       "      <td>...</td>\n",
       "      <td>...</td>\n",
       "      <td>...</td>\n",
       "      <td>...</td>\n",
       "      <td>...</td>\n",
       "      <td>...</td>\n",
       "      <td>...</td>\n",
       "      <td>...</td>\n",
       "      <td>...</td>\n",
       "      <td>...</td>\n",
       "      <td>...</td>\n",
       "      <td>...</td>\n",
       "      <td>...</td>\n",
       "      <td>...</td>\n",
       "      <td>...</td>\n",
       "      <td>...</td>\n",
       "      <td>...</td>\n",
       "      <td>...</td>\n",
       "      <td>...</td>\n",
       "      <td>...</td>\n",
       "      <td>...</td>\n",
       "      <td>...</td>\n",
       "      <td>...</td>\n",
       "      <td>...</td>\n",
       "      <td>...</td>\n",
       "      <td>...</td>\n",
       "      <td>...</td>\n",
       "      <td>...</td>\n",
       "    </tr>\n",
       "    <tr>\n",
       "      <th>499838</th>\n",
       "      <td>499838</td>\n",
       "      <td>499839</td>\n",
       "      <td>zivka park</td>\n",
       "      <td>2018-11-05</td>\n",
       "      <td>Projet de loi de finances pour 2019</td>\n",
       "      <td>Présidence de M. Marc Le Fur</td>\n",
       "      <td>NaN</td>\n",
       "      <td>rapporteure pour avis de la commission du dév...</td>\n",
       "      <td>NaN</td>\n",
       "      <td>Présidence de M. Marc Le Fur</td>\n",
       "      <td>Park</td>\n",
       "      <td>F</td>\n",
       "      <td>32</td>\n",
       "      <td>LREM</td>\n",
       "      <td>DvptDurable</td>\n",
       "      <td>0</td>\n",
       "      <td>False</td>\n",
       "      <td>0</td>\n",
       "      <td>1 - Soc. civile</td>\n",
       "      <td>1 - Novice</td>\n",
       "      <td>ScPo</td>\n",
       "      <td>1985</td>\n",
       "      <td>True</td>\n",
       "      <td>cadsupprive</td>\n",
       "      <td>499839</td>\n",
       "      <td>Novice</td>\n",
       "      <td>2018-11-01</td>\n",
       "      <td>rapporteure avis commission développement dura...</td>\n",
       "      <td>NaN</td>\n",
       "      <td>rapporteur avis commiss développ durabl aménag...</td>\n",
       "      <td>NaN</td>\n",
       "    </tr>\n",
       "    <tr>\n",
       "      <th>499839</th>\n",
       "      <td>499839</td>\n",
       "      <td>499840</td>\n",
       "      <td>zivka park</td>\n",
       "      <td>2019-09-12</td>\n",
       "      <td>Mobilités</td>\n",
       "      <td>Présidence de M. Sylvain Waserman</td>\n",
       "      <td>Discussion des articles</td>\n",
       "      <td>rapporteure. Avis défavorable. Les agents des...</td>\n",
       "      <td>NaN</td>\n",
       "      <td>Présidence de M. Sylvain Waserman</td>\n",
       "      <td>Park</td>\n",
       "      <td>F</td>\n",
       "      <td>32</td>\n",
       "      <td>LREM</td>\n",
       "      <td>DvptDurable</td>\n",
       "      <td>0</td>\n",
       "      <td>False</td>\n",
       "      <td>0</td>\n",
       "      <td>1 - Soc. civile</td>\n",
       "      <td>1 - Novice</td>\n",
       "      <td>ScPo</td>\n",
       "      <td>1985</td>\n",
       "      <td>True</td>\n",
       "      <td>cadsupprive</td>\n",
       "      <td>499840</td>\n",
       "      <td>Novice</td>\n",
       "      <td>2019-09-01</td>\n",
       "      <td>rapporteure avis défavorable agents sociétés s...</td>\n",
       "      <td>NaN</td>\n",
       "      <td>rapporteur avis défavor agent societ sécur pri...</td>\n",
       "      <td>NaN</td>\n",
       "    </tr>\n",
       "    <tr>\n",
       "      <th>499840</th>\n",
       "      <td>499840</td>\n",
       "      <td>499841</td>\n",
       "      <td>zivka park</td>\n",
       "      <td>2018-02-20</td>\n",
       "      <td>Débat sur la couverture numérique du territoire</td>\n",
       "      <td>Présidence de M. Sylvain Waserman</td>\n",
       "      <td>NaN</td>\n",
       "      <td>Selon lARCEP  les opérateurs dépenseront 3 à ...</td>\n",
       "      <td>NaN</td>\n",
       "      <td>Présidence de M. Sylvain Waserman</td>\n",
       "      <td>Park</td>\n",
       "      <td>F</td>\n",
       "      <td>32</td>\n",
       "      <td>LREM</td>\n",
       "      <td>DvptDurable</td>\n",
       "      <td>0</td>\n",
       "      <td>False</td>\n",
       "      <td>0</td>\n",
       "      <td>1 - Soc. civile</td>\n",
       "      <td>1 - Novice</td>\n",
       "      <td>ScPo</td>\n",
       "      <td>1985</td>\n",
       "      <td>True</td>\n",
       "      <td>cadsupprive</td>\n",
       "      <td>499841</td>\n",
       "      <td>Novice</td>\n",
       "      <td>2018-02-01</td>\n",
       "      <td>selon arcep opérateurs dépenseront milliards e...</td>\n",
       "      <td>NaN</td>\n",
       "      <td>selon arcep oper dépens milliard euros plus le...</td>\n",
       "      <td>NaN</td>\n",
       "    </tr>\n",
       "    <tr>\n",
       "      <th>499841</th>\n",
       "      <td>499841</td>\n",
       "      <td>499842</td>\n",
       "      <td>zivka park</td>\n",
       "      <td>2019-06-14</td>\n",
       "      <td>Mobilités</td>\n",
       "      <td>Présidence de Mme Carole Bureau-Bonnard</td>\n",
       "      <td>Discussion des articles</td>\n",
       "      <td>rapporteure. Je comprends votre préoccupation...</td>\n",
       "      <td>NaN</td>\n",
       "      <td>Présidence de Mme Carole Bureau-Bonnard</td>\n",
       "      <td>Park</td>\n",
       "      <td>F</td>\n",
       "      <td>32</td>\n",
       "      <td>LREM</td>\n",
       "      <td>DvptDurable</td>\n",
       "      <td>0</td>\n",
       "      <td>False</td>\n",
       "      <td>0</td>\n",
       "      <td>1 - Soc. civile</td>\n",
       "      <td>1 - Novice</td>\n",
       "      <td>ScPo</td>\n",
       "      <td>1985</td>\n",
       "      <td>True</td>\n",
       "      <td>cadsupprive</td>\n",
       "      <td>499842</td>\n",
       "      <td>Novice</td>\n",
       "      <td>2019-06-01</td>\n",
       "      <td>rapporteure comprends préoccupation nécessité ...</td>\n",
       "      <td>NaN</td>\n",
       "      <td>rapporteur comprend préoccup nécess garant con...</td>\n",
       "      <td>NaN</td>\n",
       "    </tr>\n",
       "    <tr>\n",
       "      <th>499842</th>\n",
       "      <td>499842</td>\n",
       "      <td>499843</td>\n",
       "      <td>zivka park</td>\n",
       "      <td>2018-02-20</td>\n",
       "      <td>Débat sur la couverture numérique du territoire</td>\n",
       "      <td>Présidence de M. Sylvain Waserman</td>\n",
       "      <td>NaN</td>\n",
       "      <td>Pourriez-vous nous apporter des éclairages sur...</td>\n",
       "      <td>NaN</td>\n",
       "      <td>Présidence de M. Sylvain Waserman</td>\n",
       "      <td>Park</td>\n",
       "      <td>F</td>\n",
       "      <td>32</td>\n",
       "      <td>LREM</td>\n",
       "      <td>DvptDurable</td>\n",
       "      <td>0</td>\n",
       "      <td>False</td>\n",
       "      <td>0</td>\n",
       "      <td>1 - Soc. civile</td>\n",
       "      <td>1 - Novice</td>\n",
       "      <td>ScPo</td>\n",
       "      <td>1985</td>\n",
       "      <td>True</td>\n",
       "      <td>cadsupprive</td>\n",
       "      <td>499843</td>\n",
       "      <td>Novice</td>\n",
       "      <td>2018-02-01</td>\n",
       "      <td>pourriez apporter éclairages obligations déplo...</td>\n",
       "      <td>NaN</td>\n",
       "      <td>pourr apport éclairag oblig déploi oper téléph...</td>\n",
       "      <td>NaN</td>\n",
       "    </tr>\n",
       "  </tbody>\n",
       "</table>\n",
       "<p>499843 rows × 31 columns</p>\n",
       "</div>"
      ],
      "text/plain": [
       "        Unnamed: 0  Unnamed: 0.1         Orateur        Date  \\\n",
       "0                0             1  adrien morenas  2019-11-04   \n",
       "1                1             2  adrien morenas  2019-11-04   \n",
       "2                2             3  adrien morenas  2019-07-02   \n",
       "3                3             4  adrien morenas  2018-02-01   \n",
       "4                4             5  adrien morenas  2020-05-08   \n",
       "...            ...           ...             ...         ...   \n",
       "499838      499838        499839      zivka park  2018-11-05   \n",
       "499839      499839        499840      zivka park  2019-09-12   \n",
       "499840      499840        499841      zivka park  2018-02-20   \n",
       "499841      499841        499842      zivka park  2019-06-14   \n",
       "499842      499842        499843      zivka park  2018-02-20   \n",
       "\n",
       "                                       Nature.de.séance  \\\n",
       "0                   Projet de loi de finances pour 2020   \n",
       "1                   Projet de loi de finances pour 2020   \n",
       "2                             Questions au Gouvernement   \n",
       "3                                         Accès à leau   \n",
       "4             Prorogation de létat durgence sanitaire   \n",
       "...                                                 ...   \n",
       "499838              Projet de loi de finances pour 2019   \n",
       "499839                                        Mobilités   \n",
       "499840  Débat sur la couverture numérique du territoire   \n",
       "499841                                        Mobilités   \n",
       "499842  Débat sur la couverture numérique du territoire   \n",
       "\n",
       "                            Président.de.séance  \\\n",
       "0                Présidence de M. Hugues Renson   \n",
       "1                Présidence de M. Hugues Renson   \n",
       "2              Présidence de M. Richard Ferrand   \n",
       "3       Présidence de Mme Carole Bureau-Bonnard   \n",
       "4         Présidence de Mme Laetitia Saint-Paul   \n",
       "...                                         ...   \n",
       "499838             Présidence de M. Marc Le Fur   \n",
       "499839        Présidence de M. Sylvain Waserman   \n",
       "499840        Présidence de M. Sylvain Waserman   \n",
       "499841  Présidence de Mme Carole Bureau-Bonnard   \n",
       "499842        Présidence de M. Sylvain Waserman   \n",
       "\n",
       "                             Sujet.débattu  \\\n",
       "0                                      NaN   \n",
       "1                                      NaN   \n",
       "2       Convention citoyenne sur le climat   \n",
       "3                      Discussion générale   \n",
       "4                  Discussion des articles   \n",
       "...                                    ...   \n",
       "499838                                 NaN   \n",
       "499839             Discussion des articles   \n",
       "499840                                 NaN   \n",
       "499841             Discussion des articles   \n",
       "499842                                 NaN   \n",
       "\n",
       "                                                 Réplique Didascalie  \\\n",
       "0       Si vous y donnez un avis favorable  madame la ...        NaN   \n",
       "1       Plus généralement  je soutiendrai un autre ame...        NaN   \n",
       "2        Ma question sadresse à M. François de Rugy  ...        NaN   \n",
       "3                                                    Le 1        NaN   \n",
       "4       Cette autorisation  strictement encadrée par l...        NaN   \n",
       "...                                                   ...        ...   \n",
       "499838   rapporteure pour avis de la commission du dév...        NaN   \n",
       "499839   rapporteure. Avis défavorable. Les agents des...        NaN   \n",
       "499840  Selon lARCEP  les opérateurs dépenseront 3 à ...        NaN   \n",
       "499841   rapporteure. Je comprends votre préoccupation...        NaN   \n",
       "499842  Pourriez-vous nous apporter des éclairages sur...        NaN   \n",
       "\n",
       "                     Président.de.séance_propre nom.famille sexe  age  \\\n",
       "0                Présidence de M. Hugues Renson     Morenas    M   35   \n",
       "1                Présidence de M. Hugues Renson     Morenas    M   35   \n",
       "2              Présidence de M. Richard Ferrand     Morenas    M   35   \n",
       "3       Présidence de Mme Carole Bureau-Bonnard     Morenas    M   35   \n",
       "4         Présidence de Mme Laetitia Saint-Paul     Morenas    M   35   \n",
       "...                                         ...         ...  ...  ...   \n",
       "499838             Présidence de M. Marc Le Fur        Park    F   32   \n",
       "499839        Présidence de M. Sylvain Waserman        Park    F   32   \n",
       "499840        Présidence de M. Sylvain Waserman        Park    F   32   \n",
       "499841  Présidence de Mme Carole Bureau-Bonnard        Park    F   32   \n",
       "499842        Présidence de M. Sylvain Waserman        Park    F   32   \n",
       "\n",
       "       groupe.sigle  commissions  nb.mandats  cabcollab  duree.pol  \\\n",
       "0              LREM  DvptDurable           0      False          0   \n",
       "1              LREM  DvptDurable           0      False          0   \n",
       "2              LREM  DvptDurable           0      False          0   \n",
       "3              LREM  DvptDurable           0      False          0   \n",
       "4              LREM  DvptDurable           0      False          0   \n",
       "...             ...          ...         ...        ...        ...   \n",
       "499838         LREM  DvptDurable           0      False          0   \n",
       "499839         LREM  DvptDurable           0      False          0   \n",
       "499840         LREM  DvptDurable           0      False          0   \n",
       "499841         LREM  DvptDurable           0      False          0   \n",
       "499842         LREM  DvptDurable           0      False          0   \n",
       "\n",
       "              clustRFSP       clustVEP hautdip  naissance_an  majo  \\\n",
       "0       1 - Soc. civile  6  Exp. Pol.    Doct          1982  True   \n",
       "1       1 - Soc. civile  6  Exp. Pol.    Doct          1982  True   \n",
       "2       1 - Soc. civile  6  Exp. Pol.    Doct          1982  True   \n",
       "3       1 - Soc. civile  6  Exp. Pol.    Doct          1982  True   \n",
       "4       1 - Soc. civile  6  Exp. Pol.    Doct          1982  True   \n",
       "...                 ...            ...     ...           ...   ...   \n",
       "499838  1 - Soc. civile     1 - Novice    ScPo          1985  True   \n",
       "499839  1 - Soc. civile     1 - Novice    ScPo          1985  True   \n",
       "499840  1 - Soc. civile     1 - Novice    ScPo          1985  True   \n",
       "499841  1 - Soc. civile     1 - Novice    ScPo          1985  True   \n",
       "499842  1 - Soc. civile     1 - Novice    ScPo          1985  True   \n",
       "\n",
       "         profsigni2      ID  Groupe  time_floor  \\\n",
       "0               NaN       1     Exp  2019-11-01   \n",
       "1               NaN       2     Exp  2019-11-01   \n",
       "2               NaN       3     Exp  2019-07-01   \n",
       "3               NaN       4     Exp  2018-02-01   \n",
       "4               NaN       5     Exp  2020-05-01   \n",
       "...             ...     ...     ...         ...   \n",
       "499838  cadsupprive  499839  Novice  2018-11-01   \n",
       "499839  cadsupprive  499840  Novice  2019-09-01   \n",
       "499840  cadsupprive  499841  Novice  2018-02-01   \n",
       "499841  cadsupprive  499842  Novice  2019-06-01   \n",
       "499842  cadsupprive  499843  Novice  2018-02-01   \n",
       "\n",
       "                                       tokenized_replique  \\\n",
       "0       si donnez avis favorable madame secrétaire éta...   \n",
       "1       plus généralement soutiendrai autre amendement...   \n",
       "2       question adresse françois rugy ministre état m...   \n",
       "3                                                     NaN   \n",
       "4       cette autorisation strictement encadrée décret...   \n",
       "...                                                   ...   \n",
       "499838  rapporteure avis commission développement dura...   \n",
       "499839  rapporteure avis défavorable agents sociétés s...   \n",
       "499840  selon arcep opérateurs dépenseront milliards e...   \n",
       "499841  rapporteure comprends préoccupation nécessité ...   \n",
       "499842  pourriez apporter éclairages obligations déplo...   \n",
       "\n",
       "       tokenized_didascalie  \\\n",
       "0                       NaN   \n",
       "1                       NaN   \n",
       "2                       NaN   \n",
       "3                       NaN   \n",
       "4                       NaN   \n",
       "...                     ...   \n",
       "499838                  NaN   \n",
       "499839                  NaN   \n",
       "499840                  NaN   \n",
       "499841                  NaN   \n",
       "499842                  NaN   \n",
       "\n",
       "                                         stemmed_replique stemmed_didascalie  \n",
       "0       si don avis favor madam secrétair état dissip ...                NaN  \n",
       "1       plus général soutiendr autr amend vis demand g...                NaN  \n",
       "2       question adress françois rugy ministr état min...                NaN  \n",
       "3                                                     NaN                NaN  \n",
       "4       cet autoris strict encadr décret appliqu effet...                NaN  \n",
       "...                                                   ...                ...  \n",
       "499838  rapporteur avis commiss développ durabl aménag...                NaN  \n",
       "499839  rapporteur avis défavor agent societ sécur pri...                NaN  \n",
       "499840  selon arcep oper dépens milliard euros plus le...                NaN  \n",
       "499841  rapporteur comprend préoccup nécess garant con...                NaN  \n",
       "499842  pourr apport éclairag oblig déploi oper téléph...                NaN  \n",
       "\n",
       "[499843 rows x 31 columns]"
      ]
     },
     "execution_count": 181,
     "metadata": {},
     "output_type": "execute_result"
    }
   ],
   "source": [
    "df0"
   ]
  },
  {
   "cell_type": "code",
   "execution_count": null,
   "metadata": {},
   "outputs": [],
   "source": [
    "def calcule_WMD_intervalle_personnalise(orateur, d1, d2):\n",
    "    print('JOURS : ', d1, ' ', d2)\n",
    "    df1 = df[df['days'] >= d1]\n",
    "    df1 = df1[df1['days'] < d2]\n",
    "    \n",
    "    df_Novice = df1[df1['Orateur'] == orateur]\n",
    "    df_Exp = df1[df1['Groupe'] == 'Exp']\n",
    "    \n",
    "    #display(df_Novice)\n",
    "    try:\n",
    "        df_Novice = df1[df1['Groupe'] == 'Novice'].dropna()\n",
    "        df_Exp = df1[df1['Groupe'] == 'Exp'].sample(50).dropna()\n",
    "        print(df_Exp.shape, df_Novice.shape)\n",
    "    except:\n",
    "        return np.nan\n",
    "    \n",
    "    phrases_Exp = [df_Exp.iloc[i]['tokenized_replique'].split(' ') for i in range(df_Exp.shape[0])]\n",
    "    phrases_Novice = [df_Novice.iloc[i]['tokenized_replique'].split(' ') for i in range(df_Novice.shape[0])]\n",
    "    \n",
    "    WMD = []\n",
    "    \n",
    "\n",
    "    for i in phrases_Novice:\n",
    "        value = np.mean([w2v_model_all.wv.wmdistance(add_groupe(i, '_Novice'), \n",
    "                                                     add_groupe(j, '_Exp')) for j in phrases_Exp])\n",
    "        print(value)\n",
    "        if str(value) == 'inf':\n",
    "            print(i)\n",
    "        WMD.append(value)\n",
    "    \n",
    "    px.line([np.mean(WMD[:i]) for i in range(1, len(WMD))]).show()\n",
    "    \n",
    "    return np.mean(WMD)"
   ]
  },
  {
   "cell_type": "code",
   "execution_count": null,
   "metadata": {},
   "outputs": [],
   "source": [
    "calcule_WMD_intervalle_personnalise('laurent pietraszewski', 0, 14)"
   ]
  },
  {
   "cell_type": "code",
   "execution_count": null,
   "metadata": {},
   "outputs": [],
   "source": []
  }
 ],
 "metadata": {
  "kernelspec": {
   "display_name": "Python 3",
   "language": "python",
   "name": "python3"
  },
  "language_info": {
   "codemirror_mode": {
    "name": "ipython",
    "version": 3
   },
   "file_extension": ".py",
   "mimetype": "text/x-python",
   "name": "python",
   "nbconvert_exporter": "python",
   "pygments_lexer": "ipython3",
   "version": "3.8.5"
  }
 },
 "nbformat": 4,
 "nbformat_minor": 4
}
