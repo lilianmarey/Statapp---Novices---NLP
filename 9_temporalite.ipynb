{
 "cells": [
  {
   "cell_type": "code",
   "execution_count": null,
   "metadata": {},
   "outputs": [],
   "source": [
    "# Importation des modules\n",
    "\n",
    "import pandas as pd\n",
    "from gensim.models import Word2Vec\n",
    "import random\n",
    "import matplotlib.pyplot as plt\n",
    "import numpy as np\n",
    "import plotly.express as px\n",
    "import datetime\n",
    "\n",
    "#Affichage de toutes les colonnes\n",
    "\n",
    "pd.set_option('display.max_columns', 500)"
   ]
  },
  {
   "cell_type": "code",
   "execution_count": null,
   "metadata": {},
   "outputs": [],
   "source": [
    "w2v_model_all = Word2Vec.load('results/word2vec_all_300.model')"
   ]
  },
  {
   "cell_type": "code",
   "execution_count": null,
   "metadata": {},
   "outputs": [],
   "source": [
    "df0 = pd.read_csv(\"data/data_cleaned_NLP.csv\", sep = ',', encoding = 'latin-1')"
   ]
  },
  {
   "cell_type": "code",
   "execution_count": null,
   "metadata": {},
   "outputs": [],
   "source": [
    "df = df0[['Date', 'Groupe', 'Orateur', 'tokenized_replique']].copy()"
   ]
  },
  {
   "cell_type": "code",
   "execution_count": null,
   "metadata": {},
   "outputs": [],
   "source": [
    "df['days'] = df.apply(lambda row : (datetime.date(int(row.Date[:4]),int(row.Date[5:7]),int(row.Date[8:])) - \n",
    "                    datetime.date(2017,6,28)).days, axis = 1)"
   ]
  },
  {
   "cell_type": "code",
   "execution_count": null,
   "metadata": {},
   "outputs": [],
   "source": [
    "def add_groupe(L, etiquette):\n",
    "    return [i + etiquette for i in L]"
   ]
  },
  {
   "cell_type": "code",
   "execution_count": null,
   "metadata": {},
   "outputs": [],
   "source": [
    "def calcule_WMD_intervalle(d1, d2):\n",
    "    print('JOURS : ', d1, ' ', d2)\n",
    "    df1 = df[df['days'] >= d1]\n",
    "    df1 = df1[df1['days'] < d2]\n",
    "    \n",
    "    df_Novice = df1[df1['Groupe'] == 'Novice']\n",
    "    df_Exp = df1[df1['Groupe'] == 'Exp']\n",
    "    \n",
    "    #display(df_Novice)\n",
    "    try:\n",
    "        df_Novice = df1[df1['Groupe'] == 'Novice'].sample(50).dropna()\n",
    "        df_Exp = df1[df1['Groupe'] == 'Exp'].sample(50).dropna()\n",
    "        print(df_Exp.shape, df_Novice.shape)\n",
    "    except:\n",
    "        return np.nan\n",
    "    \n",
    "    phrases_Exp = [df_Exp.iloc[i]['tokenized_replique'].split(' ') for i in range(df_Exp.shape[0])]\n",
    "    phrases_Novice = [df_Novice.iloc[i]['tokenized_replique'].split(' ') for i in range(df_Novice.shape[0])]\n",
    "    \n",
    "    WMD = []\n",
    "    \n",
    "\n",
    "    for i in phrases_Novice:\n",
    "        value = np.mean([w2v_model_all.wv.wmdistance(add_groupe(i, '_Novice'), \n",
    "                                                     add_groupe(j, '_Exp')) for j in phrases_Exp])\n",
    "        print(value)\n",
    "        if str(value) == 'inf':\n",
    "            print(i)\n",
    "        WMD.append(value)\n",
    "    \n",
    "    px.line([np.mean(WMD[:i]) for i in range(1, len(WMD))]).show()\n",
    "    \n",
    "    return np.mean(WMD)"
   ]
  },
  {
   "cell_type": "code",
   "execution_count": null,
   "metadata": {},
   "outputs": [],
   "source": [
    "#calcule_WMD_intervalle(322, 336)"
   ]
  },
  {
   "cell_type": "code",
   "execution_count": null,
   "metadata": {
    "scrolled": true
   },
   "outputs": [],
   "source": [
    "#L = [calcule_WMD_intervalle(i, i + 14) for i in range(0, 1094, 14)]\n",
    "#px.line(y = L, x = [i for i in range(0, 1094, 14)])\n",
    "\n",
    "values = list((pd.read_csv('results/WMDinter_temporel.csv')['0']))\n",
    "dates = list((pd.read_csv('results/WMDinter_temporel.csv')['Unnamed: 0']))"
   ]
  },
  {
   "cell_type": "code",
   "execution_count": null,
   "metadata": {},
   "outputs": [],
   "source": [
    "#pd.DataFrame(L, [i for i in range(0, 1094, 14)]).to_csv('results/WMDinter_temporel0.csv')"
   ]
  },
  {
   "cell_type": "code",
   "execution_count": null,
   "metadata": {},
   "outputs": [],
   "source": [
    "px.line(y = values, x = dates)"
   ]
  },
  {
   "cell_type": "code",
   "execution_count": null,
   "metadata": {},
   "outputs": [],
   "source": [
    "date_label = [datetime.timedelta(days=i) + datetime.date(2017,6,28) for i in range(14, 1094, 14)]"
   ]
  },
  {
   "cell_type": "code",
   "execution_count": null,
   "metadata": {},
   "outputs": [],
   "source": [
    "px.line(y = [np.mean(values[:i]) for i in range(1,len(values))], x = date_label, \n",
    "        labels = {'x' : 'Dates', 'y' : 'Moyenne cumulée des distances'})"
   ]
  },
  {
   "cell_type": "markdown",
   "metadata": {},
   "source": [
    "On observe la moyenne cumulée des distances en fonction du temps. On constate une moyenne forte en début d'exercice, puis une relaxation pour atteindre une valeur limite.\n",
    "On peut interpréter cela comme : \n",
    "- un début d'exercice où les novices et les expérimentés parlent différemment, la distance entre les deux langages est raltivement grande.\n",
    "- une période d'apprentissage (du 20 septembre 2017 au 16 mai 2018) où les différences entre novices et expérimentés tendent à s'estomper (mais dans quel sens ? on s'attend à ce que les novices s'adaptent aux expérimentés, et pas forcement l'inverse), la distance diminue.\n",
    "- une période de différenciation (du 16 mai 2018 au 12 décembre 2018), où la distance augmente légerement : comme si un des deux camps voulait se différencier de l'autre.\n",
    "- une période stable (du 12 décembre 2018 à la fin de l'exercice)."
   ]
  },
  {
   "cell_type": "markdown",
   "metadata": {},
   "source": [
    "## Analyse personnalisée député par député"
   ]
  },
  {
   "cell_type": "code",
   "execution_count": null,
   "metadata": {},
   "outputs": [],
   "source": [
    "# Députés Novices parlant le plus (classement par nombre d'intervention)\n",
    "\n",
    "dict(df0[df0['Groupe'] == 'Novice'].Orateur.value_counts())"
   ]
  },
  {
   "cell_type": "code",
   "execution_count": null,
   "metadata": {},
   "outputs": [],
   "source": [
    "orateurs_novices = list(dict(df0[df0['Groupe'] == 'Novice'].Orateur.value_counts()).keys())"
   ]
  },
  {
   "cell_type": "code",
   "execution_count": null,
   "metadata": {},
   "outputs": [],
   "source": [
    "def calcule_WMD_intervalle_personnalise(orateur, d1, d2):\n",
    "    print(orateur)\n",
    "    print('JOURS : ', d1, ' ', d2)\n",
    "    df1 = df[df['days'] >= d1]\n",
    "    df1 = df1[df1['days'] < d2]\n",
    "    \n",
    "    df_Novice = df1[df1['Orateur'] == orateur]\n",
    "    df_Exp = df1[df1['Groupe'] == 'Exp']\n",
    "    \n",
    "    #display(df_Novice)\n",
    "    try:\n",
    "        df_Novice = df1[df1['Groupe'] == 'Novice'].dropna().sample(50)\n",
    "        df_Exp = df1[df1['Groupe'] == 'Exp'].dropna().sample(50)\n",
    "    except:\n",
    "        return np.nan\n",
    "    \n",
    "    phrases_Exp = [df_Exp.iloc[i]['tokenized_replique'].split(' ') for i in range(df_Exp.shape[0])]\n",
    "    phrases_Novice = [df_Novice.iloc[i]['tokenized_replique'].split(' ') for i in range(df_Novice.shape[0])]\n",
    "    \n",
    "    WMD = []\n",
    "    \n",
    "    for i in phrases_Novice:\n",
    "        if len(i)<3:\n",
    "            continue\n",
    "        values = []\n",
    "        for j in phrases_Exp:\n",
    "            d = w2v_model_all.wv.wmdistance(add_groupe(i, '_Novice'), \n",
    "                                                     add_groupe(j, '_Exp'))\n",
    "            if str(d) != 'inf':\n",
    "                values.append(d)\n",
    "        value = np.mean(values)\n",
    "        #print(value)\n",
    "        WMD.append(value)\n",
    "    \n",
    "    #px.line([np.mean(WMD[:i]) for i in range(1, len(WMD))]).show()\n",
    "    print(np.mean(WMD))\n",
    "    \n",
    "    return np.mean(WMD)"
   ]
  },
  {
   "cell_type": "code",
   "execution_count": null,
   "metadata": {},
   "outputs": [],
   "source": [
    "L_pietraszewski = [calcule_WMD_intervalle_personnalise('laurent pietraszewski', i, i + 14) for i in range(0, 1094, 14)]\n",
    "pd.DataFrame(L_pietraszewski, [i for i in range(0, 1094, 14)]).to_csv('results/WMDinter_temporel_pietraszewski.csv')"
   ]
  },
  {
   "cell_type": "markdown",
   "metadata": {},
   "source": [
    "### 1) Pietraszewski"
   ]
  },
  {
   "cell_type": "code",
   "execution_count": null,
   "metadata": {
    "scrolled": true
   },
   "outputs": [],
   "source": [
    "#L_pietraszewski = [calcule_WMD_intervalle_personnalise('laurent pietraszewski', i, i + 14) for i in range(0, 1094, 14)]\n",
    "#pd.DataFrame(L_pietraszewski, [i for i in range(0, 1094, 14)]).to_csv('results/WMDinter_temporel_pietraszewski.csv')"
   ]
  },
  {
   "cell_type": "code",
   "execution_count": null,
   "metadata": {},
   "outputs": [],
   "source": [
    "px.line([np.mean(L_pietraszewski[:i]) for i in range(1,len(L_pietraszewski))])"
   ]
  },
  {
   "cell_type": "markdown",
   "metadata": {},
   "source": [
    "### 2) Ruffin"
   ]
  },
  {
   "cell_type": "code",
   "execution_count": null,
   "metadata": {},
   "outputs": [],
   "source": [
    "#L_ruffin = [calcule_WMD_intervalle_personnalise('francois ruffin', i, i + 14) for i in range(0, 1094, 14)]\n",
    "#pd.DataFrame(L_ruffin, [i for i in range(0, 1094, 14)]).to_csv('results/WMDinter_temporel_ruffin.csv')"
   ]
  },
  {
   "cell_type": "code",
   "execution_count": null,
   "metadata": {},
   "outputs": [],
   "source": [
    "px.line([np.mean(L_ruffin[:i]) for i in range(1,len(L_ruffin))])"
   ]
  },
  {
   "cell_type": "code",
   "execution_count": null,
   "metadata": {},
   "outputs": [],
   "source": [
    "for i in range(len(L_ruffin)):\n",
    "    if str(L_ruffin[i]) == 'nan':\n",
    "        L_ruffin[i] = L_ruffin[i-1]\n",
    "    elif str(L_ruffin[i]) == 'inf':\n",
    "        print(i, [(j, j+14) for j in range(0, 1094, 14)][i])"
   ]
  },
  {
   "cell_type": "code",
   "execution_count": null,
   "metadata": {},
   "outputs": [],
   "source": [
    "L_ruffin"
   ]
  },
  {
   "cell_type": "markdown",
   "metadata": {},
   "source": [
    "#### Autres députés"
   ]
  },
  {
   "cell_type": "code",
   "execution_count": null,
   "metadata": {},
   "outputs": [],
   "source": [
    "orateurs_novices"
   ]
  },
  {
   "cell_type": "code",
   "execution_count": null,
   "metadata": {},
   "outputs": [],
   "source": [
    "for orateur in orateurs_novices[2:11]:\n",
    "    T = [calcule_WMD_intervalle_personnalise(orateur, i, i + 14) for i in range(0, 1094, 14)]\n",
    "    pd.DataFrame(T, [i for i in range(0, 1094, 14)]).to_csv('results/WMDinter_temporel_' + orateur + '.csv')\n"
   ]
  },
  {
   "cell_type": "code",
   "execution_count": null,
   "metadata": {},
   "outputs": [],
   "source": [
    "for orateur in orateurs_novices[11:]:\n",
    "    T = [calcule_WMD_intervalle_personnalise(orateur, i, i + 14) for i in range(0, 1094, 14)]\n",
    "    pd.DataFrame(T, [i for i in range(0, 1094, 14)]).to_csv('results/WMDinter_temporel_' + orateur + '.csv')\n",
    "\n",
    "v"
   ]
  },
  {
   "cell_type": "markdown",
   "metadata": {},
   "source": [
    "### En particulier pour les expérimentés"
   ]
  },
  {
   "cell_type": "code",
   "execution_count": null,
   "metadata": {},
   "outputs": [],
   "source": [
    "# Députés Novices parlant le plus (classement par nombre d'intervention)\n",
    "\n",
    "dict(df0[df0['Groupe'] == 'Exp'].Orateur.value_counts())"
   ]
  },
  {
   "cell_type": "code",
   "execution_count": null,
   "metadata": {},
   "outputs": [],
   "source": [
    "orateurs_exp = list(dict(df0[df0['Groupe'] == 'Exp'].Orateur.value_counts()).keys())"
   ]
  },
  {
   "cell_type": "code",
   "execution_count": null,
   "metadata": {},
   "outputs": [],
   "source": [
    "def calcule_WMD_intervalle_personnalise2(orateur, d1, d2):\n",
    "    print(orateur)\n",
    "    print('JOURS : ', d1, ' ', d2)\n",
    "    df1 = df[df['days'] >= d1]\n",
    "    df1 = df1[df1['days'] < d2]\n",
    "    \n",
    "    df_Exp = df1[df1['Orateur'] == orateur]\n",
    "    df_Novice = df1[df1['Groupe'] == 'Novice']\n",
    "    \n",
    "    #display(df_Novice)\n",
    "    try:\n",
    "        df_Novice = df1[df1['Groupe'] == 'Novice'].dropna().sample(50)\n",
    "        df_Exp = df1[df1['Groupe'] == 'Exp'].dropna().sample(50)\n",
    "    except:\n",
    "        return np.nan\n",
    "    \n",
    "    phrases_Exp = [df_Exp.iloc[i]['tokenized_replique'].split(' ') for i in range(df_Exp.shape[0])]\n",
    "    phrases_Novice = [df_Novice.iloc[i]['tokenized_replique'].split(' ') for i in range(df_Novice.shape[0])]\n",
    "    \n",
    "    WMD = []\n",
    "    \n",
    "    for i in phrases_Novice:\n",
    "        if len(i)<3:\n",
    "            continue\n",
    "        values = []\n",
    "        for j in phrases_Exp:\n",
    "            d = w2v_model_all.wv.wmdistance(add_groupe(i, '_Novice'), \n",
    "                                                     add_groupe(j, '_Exp'))\n",
    "            if str(d) != 'inf':\n",
    "                values.append(d)\n",
    "        value = np.mean(values)\n",
    "        #print(value)\n",
    "        WMD.append(value)\n",
    "    \n",
    "    #px.line([np.mean(WMD[:i]) for i in range(1, len(WMD))]).show()\n",
    "    print(np.mean(WMD))\n",
    "    \n",
    "    return np.mean(WMD)"
   ]
  },
  {
   "cell_type": "code",
   "execution_count": null,
   "metadata": {
    "scrolled": true
   },
   "outputs": [],
   "source": [
    "\n",
    "T = [calcule_WMD_intervalle_personnalise2('adrien quatennens', i, i + 14) for i in range(0, 1094, 14)]\n",
    "pd.DataFrame(T, [i for i in range(0, 1094, 14)]).to_csv('results/WMDinter_temporel_' + 'quatennens' + '_exp.csv')\n",
    "\n",
    "\n",
    "\n"
   ]
  },
  {
   "cell_type": "code",
   "execution_count": null,
   "metadata": {},
   "outputs": [],
   "source": [
    "for orateur in orateurs_exp:\n",
    "    T = [calcule_WMD_intervalle_personnalise2(orateur, i, i + 14) for i in range(0, 1094, 14)]\n",
    "    pd.DataFrame(T, [i for i in range(0, 1094, 14)]).to_csv('results/WMDinter_temporel_' + orateur + '_exp.csv')\n",
    "\n"
   ]
  },
  {
   "cell_type": "markdown",
   "metadata": {},
   "source": [
    "## Nombre de mots utilisés selon la période"
   ]
  },
  {
   "cell_type": "code",
   "execution_count": null,
   "metadata": {},
   "outputs": [],
   "source": [
    "def calcule_nb_mots_periode(d1, d2):\n",
    "    print('JOURS : ', d1, ' ', d2)\n",
    "    df1 = df[df['days'] >= d1]\n",
    "    df1 = df1[df1['days'] < d2]\n",
    "    \n",
    "    df_Novice = df1[df1['Orateur'] == 'Novice']\n",
    "    \n",
    "    \n",
    "    \n",
    "    \n",
    "    #display(df_Novice)\n",
    "    try:\n",
    "        df_Novice = df1[df1['Groupe'] == 'Novice'].dropna().sample(50)\n",
    "        df_Exp = df1[df1['Groupe'] == 'Exp'].dropna().sample(50)\n",
    "        print(df_Exp.shape, df_Novice.shape)\n",
    "    except:\n",
    "        return np.nan\n",
    "    \n",
    "    phrases_Exp = [df_Exp.iloc[i]['tokenized_replique'].split(' ') for i in range(df_Exp.shape[0])]\n",
    "    phrases_Novice = [df_Novice.iloc[i]['tokenized_replique'].split(' ') for i in range(df_Novice.shape[0])]\n",
    "    \n",
    "    WMD = []\n",
    "    \n",
    "\n",
    "    for i in phrases_Novice:\n",
    "        value = np.mean([w2v_model_all.wv.wmdistance(add_groupe(i, '_Novice'), \n",
    "                                                     add_groupe(j, '_Exp')) for j in phrases_Exp])\n",
    "        print(value)\n",
    "        if str(value) == 'inf':\n",
    "            print(i)\n",
    "        WMD.append(value)\n",
    "    \n",
    "    px.line([np.mean(WMD[:i]) for i in range(1, len(WMD))]).show()\n",
    "    \n",
    "    return np.mean(WMD)"
   ]
  }
 ],
 "metadata": {
  "kernelspec": {
   "display_name": "Python 3",
   "language": "python",
   "name": "python3"
  },
  "language_info": {
   "codemirror_mode": {
    "name": "ipython",
    "version": 3
   },
   "file_extension": ".py",
   "mimetype": "text/x-python",
   "name": "python",
   "nbconvert_exporter": "python",
   "pygments_lexer": "ipython3",
   "version": "3.8.5"
  }
 },
 "nbformat": 4,
 "nbformat_minor": 4
}
