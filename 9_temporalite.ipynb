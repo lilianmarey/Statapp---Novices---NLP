{
 "cells": [
  {
   "cell_type": "code",
   "execution_count": 14,
   "metadata": {},
   "outputs": [],
   "source": [
    "# Importation des modules\n",
    "\n",
    "import pandas as pd\n",
    "from gensim.models import Word2Vec\n",
    "import random\n",
    "import matplotlib.pyplot as plt\n",
    "import numpy as np\n",
    "import plotly.express as px\n",
    "import datetime\n",
    "\n",
    "#Affichage de toutes les colonnes\n",
    "\n",
    "pd.set_option('display.max_columns', 500)"
   ]
  },
  {
   "cell_type": "code",
   "execution_count": 15,
   "metadata": {},
   "outputs": [],
   "source": [
    "w2v_model_all = Word2Vec.load('results/word2vec_all_300.model')"
   ]
  },
  {
   "cell_type": "code",
   "execution_count": 16,
   "metadata": {},
   "outputs": [],
   "source": [
    "df0 = pd.read_csv(\"data/data_cleaned_NLP.csv\", sep = ',', encoding = 'latin-1')"
   ]
  },
  {
   "cell_type": "code",
   "execution_count": 17,
   "metadata": {},
   "outputs": [],
   "source": [
    "df = df0[['Date', 'Groupe', 'Orateur', 'tokenized_replique']].copy()"
   ]
  },
  {
   "cell_type": "code",
   "execution_count": 18,
   "metadata": {},
   "outputs": [],
   "source": [
    "df['days'] = df.apply(lambda row : (datetime.date(int(row.Date[:4]),int(row.Date[5:7]),int(row.Date[8:])) - \n",
    "                    datetime.date(2017,6,28)).days, axis = 1)"
   ]
  },
  {
   "cell_type": "code",
   "execution_count": 19,
   "metadata": {},
   "outputs": [],
   "source": [
    "def add_groupe(L, etiquette):\n",
    "    return [i + etiquette for i in L]"
   ]
  },
  {
   "cell_type": "code",
   "execution_count": 11,
   "metadata": {},
   "outputs": [],
   "source": [
    "def calcule_WMD_intervalle(d1, d2):\n",
    "    print('JOURS : ', d1, ' ', d2)\n",
    "    df1 = df[df['days'] >= d1]\n",
    "    df1 = df1[df1['days'] < d2]\n",
    "    \n",
    "    df_Novice = df1[df1['Groupe'] == 'Novice']\n",
    "    df_Exp = df1[df1['Groupe'] == 'Exp']\n",
    "    \n",
    "    #display(df_Novice)\n",
    "    try:\n",
    "        df_Novice = df1[df1['Groupe'] == 'Novice'].sample(50).dropna()\n",
    "        df_Exp = df1[df1['Groupe'] == 'Exp'].sample(50).dropna()\n",
    "        print(df_Exp.shape, df_Novice.shape)\n",
    "    except:\n",
    "        return np.nan\n",
    "    \n",
    "    phrases_Exp = [df_Exp.iloc[i]['tokenized_replique'].split(' ') for i in range(df_Exp.shape[0])]\n",
    "    phrases_Novice = [df_Novice.iloc[i]['tokenized_replique'].split(' ') for i in range(df_Novice.shape[0])]\n",
    "    \n",
    "    WMD = []\n",
    "    \n",
    "\n",
    "    for i in phrases_Novice:\n",
    "        value = np.mean([w2v_model_all.wv.wmdistance(add_groupe(i, '_Novice'), \n",
    "                                                     add_groupe(j, '_Exp')) for j in phrases_Exp])\n",
    "        print(value)\n",
    "        if str(value) == 'inf':\n",
    "            print(i)\n",
    "        WMD.append(value)\n",
    "    \n",
    "    px.line([np.mean(WMD[:i]) for i in range(1, len(WMD))]).show()\n",
    "    \n",
    "    return np.mean(WMD)"
   ]
  },
  {
   "cell_type": "code",
   "execution_count": 140,
   "metadata": {},
   "outputs": [],
   "source": [
    "#calcule_WMD_intervalle(322, 336)"
   ]
  },
  {
   "cell_type": "code",
   "execution_count": 141,
   "metadata": {
    "scrolled": true
   },
   "outputs": [],
   "source": [
    "#L = [calcule_WMD_intervalle(i, i + 14) for i in range(0, 1094, 14)]\n",
    "#px.line(y = L, x = [i for i in range(0, 1094, 14)])\n",
    "\n",
    "values = list((pd.read_csv('results/WMDinter_temporel.csv')['0']))\n",
    "dates = list((pd.read_csv('results/WMDinter_temporel.csv')['Unnamed: 0']))"
   ]
  },
  {
   "cell_type": "code",
   "execution_count": 142,
   "metadata": {},
   "outputs": [],
   "source": [
    "#pd.DataFrame(L, [i for i in range(0, 1094, 14)]).to_csv('results/WMDinter_temporel0.csv')"
   ]
  },
  {
   "cell_type": "code",
   "execution_count": 143,
   "metadata": {},
   "outputs": [
    {
     "data": {
      "application/vnd.plotly.v1+json": {
       "config": {
        "plotlyServerURL": "https://plot.ly"
       },
       "data": [
        {
         "hovertemplate": "x=%{x}<br>y=%{y}<extra></extra>",
         "legendgroup": "",
         "line": {
          "color": "#636efa",
          "dash": "solid"
         },
         "mode": "lines",
         "name": "",
         "orientation": "v",
         "showlegend": false,
         "type": "scatter",
         "x": [
          0,
          14,
          28,
          42,
          56,
          70,
          84,
          98,
          112,
          126,
          140,
          154,
          168,
          182,
          196,
          210,
          224,
          238,
          252,
          266,
          280,
          294,
          308,
          322,
          336,
          350,
          364,
          378,
          392,
          406,
          420,
          434,
          448,
          462,
          476,
          490,
          504,
          518,
          532,
          546,
          560,
          574,
          588,
          602,
          616,
          630,
          644,
          658,
          672,
          686,
          700,
          714,
          728,
          742,
          756,
          770,
          784,
          798,
          812,
          826,
          840,
          854,
          868,
          882,
          896,
          910,
          924,
          938,
          952,
          966,
          980,
          994,
          1008,
          1022,
          1036,
          1050,
          1064,
          1078,
          1092
         ],
         "xaxis": "x",
         "y": [
          1.4899118127283182,
          1.5106903951378785,
          1.5188561334028137,
          1.511748118915661,
          1.511748118915661,
          1.511748118915661,
          1.5059753701188217,
          1.505477803689362,
          1.5014643726592596,
          1.5014225425709742,
          1.5030186017199834,
          1.4968631397601877,
          1.5053319181973766,
          1.5053319181973766,
          1.483872744580921,
          1.4994005739319518,
          1.5008901918223825,
          1.506213272788994,
          1.4893652968146016,
          1.5007869514253216,
          1.4963688457943527,
          1.5077079751641065,
          1.4857162529671168,
          1.5033800000690227,
          1.5080537358645467,
          1.518150226766541,
          1.4915620414261337,
          1.4994019543434494,
          1.5060037361739882,
          1.5060037361739882,
          1.5060037361739882,
          1.5043642030852706,
          1.5122140463112723,
          1.5107601107174975,
          1.5044773980460109,
          1.499684957648145,
          1.5099890657315478,
          1.5107875836378355,
          1.4964802539654398,
          1.4964802539654398,
          1.5080346892213967,
          1.5027800100716795,
          1.5046404318661617,
          1.496070559633225,
          1.5111665377964458,
          1.5032483030394908,
          1.5057270938312823,
          1.4886664294518,
          1.5007326677566055,
          1.5044560644173808,
          1.5023509166165698,
          1.4949789611383786,
          1.5051887054415622,
          1.504255552368139,
          1.504255552368139,
          1.504255552368139,
          1.504255552368139,
          1.5108216695613697,
          1.5070319101795722,
          1.5126629382963181,
          1.5119549846356932,
          1.4976879293787426,
          1.5047889485227313,
          1.5049672423612903,
          1.4968007992330008,
          1.4897165196670767,
          1.5044996858483437,
          1.5021624627170436,
          1.4930014179925817,
          1.5055248860257908,
          1.5059228460744916,
          1.5037670722051455,
          1.5037670722051455,
          1.500718170558316,
          1.513758149645279,
          1.4965601328592182,
          1.498315312934713,
          1.4981973689991128,
          1.4922925212751137
         ],
         "yaxis": "y"
        }
       ],
       "layout": {
        "legend": {
         "tracegroupgap": 0
        },
        "margin": {
         "t": 60
        },
        "template": {
         "data": {
          "bar": [
           {
            "error_x": {
             "color": "#2a3f5f"
            },
            "error_y": {
             "color": "#2a3f5f"
            },
            "marker": {
             "line": {
              "color": "#E5ECF6",
              "width": 0.5
             }
            },
            "type": "bar"
           }
          ],
          "barpolar": [
           {
            "marker": {
             "line": {
              "color": "#E5ECF6",
              "width": 0.5
             }
            },
            "type": "barpolar"
           }
          ],
          "carpet": [
           {
            "aaxis": {
             "endlinecolor": "#2a3f5f",
             "gridcolor": "white",
             "linecolor": "white",
             "minorgridcolor": "white",
             "startlinecolor": "#2a3f5f"
            },
            "baxis": {
             "endlinecolor": "#2a3f5f",
             "gridcolor": "white",
             "linecolor": "white",
             "minorgridcolor": "white",
             "startlinecolor": "#2a3f5f"
            },
            "type": "carpet"
           }
          ],
          "choropleth": [
           {
            "colorbar": {
             "outlinewidth": 0,
             "ticks": ""
            },
            "type": "choropleth"
           }
          ],
          "contour": [
           {
            "colorbar": {
             "outlinewidth": 0,
             "ticks": ""
            },
            "colorscale": [
             [
              0,
              "#0d0887"
             ],
             [
              0.1111111111111111,
              "#46039f"
             ],
             [
              0.2222222222222222,
              "#7201a8"
             ],
             [
              0.3333333333333333,
              "#9c179e"
             ],
             [
              0.4444444444444444,
              "#bd3786"
             ],
             [
              0.5555555555555556,
              "#d8576b"
             ],
             [
              0.6666666666666666,
              "#ed7953"
             ],
             [
              0.7777777777777778,
              "#fb9f3a"
             ],
             [
              0.8888888888888888,
              "#fdca26"
             ],
             [
              1,
              "#f0f921"
             ]
            ],
            "type": "contour"
           }
          ],
          "contourcarpet": [
           {
            "colorbar": {
             "outlinewidth": 0,
             "ticks": ""
            },
            "type": "contourcarpet"
           }
          ],
          "heatmap": [
           {
            "colorbar": {
             "outlinewidth": 0,
             "ticks": ""
            },
            "colorscale": [
             [
              0,
              "#0d0887"
             ],
             [
              0.1111111111111111,
              "#46039f"
             ],
             [
              0.2222222222222222,
              "#7201a8"
             ],
             [
              0.3333333333333333,
              "#9c179e"
             ],
             [
              0.4444444444444444,
              "#bd3786"
             ],
             [
              0.5555555555555556,
              "#d8576b"
             ],
             [
              0.6666666666666666,
              "#ed7953"
             ],
             [
              0.7777777777777778,
              "#fb9f3a"
             ],
             [
              0.8888888888888888,
              "#fdca26"
             ],
             [
              1,
              "#f0f921"
             ]
            ],
            "type": "heatmap"
           }
          ],
          "heatmapgl": [
           {
            "colorbar": {
             "outlinewidth": 0,
             "ticks": ""
            },
            "colorscale": [
             [
              0,
              "#0d0887"
             ],
             [
              0.1111111111111111,
              "#46039f"
             ],
             [
              0.2222222222222222,
              "#7201a8"
             ],
             [
              0.3333333333333333,
              "#9c179e"
             ],
             [
              0.4444444444444444,
              "#bd3786"
             ],
             [
              0.5555555555555556,
              "#d8576b"
             ],
             [
              0.6666666666666666,
              "#ed7953"
             ],
             [
              0.7777777777777778,
              "#fb9f3a"
             ],
             [
              0.8888888888888888,
              "#fdca26"
             ],
             [
              1,
              "#f0f921"
             ]
            ],
            "type": "heatmapgl"
           }
          ],
          "histogram": [
           {
            "marker": {
             "colorbar": {
              "outlinewidth": 0,
              "ticks": ""
             }
            },
            "type": "histogram"
           }
          ],
          "histogram2d": [
           {
            "colorbar": {
             "outlinewidth": 0,
             "ticks": ""
            },
            "colorscale": [
             [
              0,
              "#0d0887"
             ],
             [
              0.1111111111111111,
              "#46039f"
             ],
             [
              0.2222222222222222,
              "#7201a8"
             ],
             [
              0.3333333333333333,
              "#9c179e"
             ],
             [
              0.4444444444444444,
              "#bd3786"
             ],
             [
              0.5555555555555556,
              "#d8576b"
             ],
             [
              0.6666666666666666,
              "#ed7953"
             ],
             [
              0.7777777777777778,
              "#fb9f3a"
             ],
             [
              0.8888888888888888,
              "#fdca26"
             ],
             [
              1,
              "#f0f921"
             ]
            ],
            "type": "histogram2d"
           }
          ],
          "histogram2dcontour": [
           {
            "colorbar": {
             "outlinewidth": 0,
             "ticks": ""
            },
            "colorscale": [
             [
              0,
              "#0d0887"
             ],
             [
              0.1111111111111111,
              "#46039f"
             ],
             [
              0.2222222222222222,
              "#7201a8"
             ],
             [
              0.3333333333333333,
              "#9c179e"
             ],
             [
              0.4444444444444444,
              "#bd3786"
             ],
             [
              0.5555555555555556,
              "#d8576b"
             ],
             [
              0.6666666666666666,
              "#ed7953"
             ],
             [
              0.7777777777777778,
              "#fb9f3a"
             ],
             [
              0.8888888888888888,
              "#fdca26"
             ],
             [
              1,
              "#f0f921"
             ]
            ],
            "type": "histogram2dcontour"
           }
          ],
          "mesh3d": [
           {
            "colorbar": {
             "outlinewidth": 0,
             "ticks": ""
            },
            "type": "mesh3d"
           }
          ],
          "parcoords": [
           {
            "line": {
             "colorbar": {
              "outlinewidth": 0,
              "ticks": ""
             }
            },
            "type": "parcoords"
           }
          ],
          "pie": [
           {
            "automargin": true,
            "type": "pie"
           }
          ],
          "scatter": [
           {
            "marker": {
             "colorbar": {
              "outlinewidth": 0,
              "ticks": ""
             }
            },
            "type": "scatter"
           }
          ],
          "scatter3d": [
           {
            "line": {
             "colorbar": {
              "outlinewidth": 0,
              "ticks": ""
             }
            },
            "marker": {
             "colorbar": {
              "outlinewidth": 0,
              "ticks": ""
             }
            },
            "type": "scatter3d"
           }
          ],
          "scattercarpet": [
           {
            "marker": {
             "colorbar": {
              "outlinewidth": 0,
              "ticks": ""
             }
            },
            "type": "scattercarpet"
           }
          ],
          "scattergeo": [
           {
            "marker": {
             "colorbar": {
              "outlinewidth": 0,
              "ticks": ""
             }
            },
            "type": "scattergeo"
           }
          ],
          "scattergl": [
           {
            "marker": {
             "colorbar": {
              "outlinewidth": 0,
              "ticks": ""
             }
            },
            "type": "scattergl"
           }
          ],
          "scattermapbox": [
           {
            "marker": {
             "colorbar": {
              "outlinewidth": 0,
              "ticks": ""
             }
            },
            "type": "scattermapbox"
           }
          ],
          "scatterpolar": [
           {
            "marker": {
             "colorbar": {
              "outlinewidth": 0,
              "ticks": ""
             }
            },
            "type": "scatterpolar"
           }
          ],
          "scatterpolargl": [
           {
            "marker": {
             "colorbar": {
              "outlinewidth": 0,
              "ticks": ""
             }
            },
            "type": "scatterpolargl"
           }
          ],
          "scatterternary": [
           {
            "marker": {
             "colorbar": {
              "outlinewidth": 0,
              "ticks": ""
             }
            },
            "type": "scatterternary"
           }
          ],
          "surface": [
           {
            "colorbar": {
             "outlinewidth": 0,
             "ticks": ""
            },
            "colorscale": [
             [
              0,
              "#0d0887"
             ],
             [
              0.1111111111111111,
              "#46039f"
             ],
             [
              0.2222222222222222,
              "#7201a8"
             ],
             [
              0.3333333333333333,
              "#9c179e"
             ],
             [
              0.4444444444444444,
              "#bd3786"
             ],
             [
              0.5555555555555556,
              "#d8576b"
             ],
             [
              0.6666666666666666,
              "#ed7953"
             ],
             [
              0.7777777777777778,
              "#fb9f3a"
             ],
             [
              0.8888888888888888,
              "#fdca26"
             ],
             [
              1,
              "#f0f921"
             ]
            ],
            "type": "surface"
           }
          ],
          "table": [
           {
            "cells": {
             "fill": {
              "color": "#EBF0F8"
             },
             "line": {
              "color": "white"
             }
            },
            "header": {
             "fill": {
              "color": "#C8D4E3"
             },
             "line": {
              "color": "white"
             }
            },
            "type": "table"
           }
          ]
         },
         "layout": {
          "annotationdefaults": {
           "arrowcolor": "#2a3f5f",
           "arrowhead": 0,
           "arrowwidth": 1
          },
          "autotypenumbers": "strict",
          "coloraxis": {
           "colorbar": {
            "outlinewidth": 0,
            "ticks": ""
           }
          },
          "colorscale": {
           "diverging": [
            [
             0,
             "#8e0152"
            ],
            [
             0.1,
             "#c51b7d"
            ],
            [
             0.2,
             "#de77ae"
            ],
            [
             0.3,
             "#f1b6da"
            ],
            [
             0.4,
             "#fde0ef"
            ],
            [
             0.5,
             "#f7f7f7"
            ],
            [
             0.6,
             "#e6f5d0"
            ],
            [
             0.7,
             "#b8e186"
            ],
            [
             0.8,
             "#7fbc41"
            ],
            [
             0.9,
             "#4d9221"
            ],
            [
             1,
             "#276419"
            ]
           ],
           "sequential": [
            [
             0,
             "#0d0887"
            ],
            [
             0.1111111111111111,
             "#46039f"
            ],
            [
             0.2222222222222222,
             "#7201a8"
            ],
            [
             0.3333333333333333,
             "#9c179e"
            ],
            [
             0.4444444444444444,
             "#bd3786"
            ],
            [
             0.5555555555555556,
             "#d8576b"
            ],
            [
             0.6666666666666666,
             "#ed7953"
            ],
            [
             0.7777777777777778,
             "#fb9f3a"
            ],
            [
             0.8888888888888888,
             "#fdca26"
            ],
            [
             1,
             "#f0f921"
            ]
           ],
           "sequentialminus": [
            [
             0,
             "#0d0887"
            ],
            [
             0.1111111111111111,
             "#46039f"
            ],
            [
             0.2222222222222222,
             "#7201a8"
            ],
            [
             0.3333333333333333,
             "#9c179e"
            ],
            [
             0.4444444444444444,
             "#bd3786"
            ],
            [
             0.5555555555555556,
             "#d8576b"
            ],
            [
             0.6666666666666666,
             "#ed7953"
            ],
            [
             0.7777777777777778,
             "#fb9f3a"
            ],
            [
             0.8888888888888888,
             "#fdca26"
            ],
            [
             1,
             "#f0f921"
            ]
           ]
          },
          "colorway": [
           "#636efa",
           "#EF553B",
           "#00cc96",
           "#ab63fa",
           "#FFA15A",
           "#19d3f3",
           "#FF6692",
           "#B6E880",
           "#FF97FF",
           "#FECB52"
          ],
          "font": {
           "color": "#2a3f5f"
          },
          "geo": {
           "bgcolor": "white",
           "lakecolor": "white",
           "landcolor": "#E5ECF6",
           "showlakes": true,
           "showland": true,
           "subunitcolor": "white"
          },
          "hoverlabel": {
           "align": "left"
          },
          "hovermode": "closest",
          "mapbox": {
           "style": "light"
          },
          "paper_bgcolor": "white",
          "plot_bgcolor": "#E5ECF6",
          "polar": {
           "angularaxis": {
            "gridcolor": "white",
            "linecolor": "white",
            "ticks": ""
           },
           "bgcolor": "#E5ECF6",
           "radialaxis": {
            "gridcolor": "white",
            "linecolor": "white",
            "ticks": ""
           }
          },
          "scene": {
           "xaxis": {
            "backgroundcolor": "#E5ECF6",
            "gridcolor": "white",
            "gridwidth": 2,
            "linecolor": "white",
            "showbackground": true,
            "ticks": "",
            "zerolinecolor": "white"
           },
           "yaxis": {
            "backgroundcolor": "#E5ECF6",
            "gridcolor": "white",
            "gridwidth": 2,
            "linecolor": "white",
            "showbackground": true,
            "ticks": "",
            "zerolinecolor": "white"
           },
           "zaxis": {
            "backgroundcolor": "#E5ECF6",
            "gridcolor": "white",
            "gridwidth": 2,
            "linecolor": "white",
            "showbackground": true,
            "ticks": "",
            "zerolinecolor": "white"
           }
          },
          "shapedefaults": {
           "line": {
            "color": "#2a3f5f"
           }
          },
          "ternary": {
           "aaxis": {
            "gridcolor": "white",
            "linecolor": "white",
            "ticks": ""
           },
           "baxis": {
            "gridcolor": "white",
            "linecolor": "white",
            "ticks": ""
           },
           "bgcolor": "#E5ECF6",
           "caxis": {
            "gridcolor": "white",
            "linecolor": "white",
            "ticks": ""
           }
          },
          "title": {
           "x": 0.05
          },
          "xaxis": {
           "automargin": true,
           "gridcolor": "white",
           "linecolor": "white",
           "ticks": "",
           "title": {
            "standoff": 15
           },
           "zerolinecolor": "white",
           "zerolinewidth": 2
          },
          "yaxis": {
           "automargin": true,
           "gridcolor": "white",
           "linecolor": "white",
           "ticks": "",
           "title": {
            "standoff": 15
           },
           "zerolinecolor": "white",
           "zerolinewidth": 2
          }
         }
        },
        "xaxis": {
         "anchor": "y",
         "domain": [
          0,
          1
         ],
         "title": {
          "text": "x"
         }
        },
        "yaxis": {
         "anchor": "x",
         "domain": [
          0,
          1
         ],
         "title": {
          "text": "y"
         }
        }
       }
      },
      "text/html": [
       "<div>                            <div id=\"a5101fd8-c19f-4afd-9672-7555215a9ddf\" class=\"plotly-graph-div\" style=\"height:525px; width:100%;\"></div>            <script type=\"text/javascript\">                require([\"plotly\"], function(Plotly) {                    window.PLOTLYENV=window.PLOTLYENV || {};                                    if (document.getElementById(\"a5101fd8-c19f-4afd-9672-7555215a9ddf\")) {                    Plotly.newPlot(                        \"a5101fd8-c19f-4afd-9672-7555215a9ddf\",                        [{\"hovertemplate\": \"x=%{x}<br>y=%{y}<extra></extra>\", \"legendgroup\": \"\", \"line\": {\"color\": \"#636efa\", \"dash\": \"solid\"}, \"mode\": \"lines\", \"name\": \"\", \"orientation\": \"v\", \"showlegend\": false, \"type\": \"scatter\", \"x\": [0, 14, 28, 42, 56, 70, 84, 98, 112, 126, 140, 154, 168, 182, 196, 210, 224, 238, 252, 266, 280, 294, 308, 322, 336, 350, 364, 378, 392, 406, 420, 434, 448, 462, 476, 490, 504, 518, 532, 546, 560, 574, 588, 602, 616, 630, 644, 658, 672, 686, 700, 714, 728, 742, 756, 770, 784, 798, 812, 826, 840, 854, 868, 882, 896, 910, 924, 938, 952, 966, 980, 994, 1008, 1022, 1036, 1050, 1064, 1078, 1092], \"xaxis\": \"x\", \"y\": [1.4899118127283182, 1.5106903951378785, 1.5188561334028137, 1.511748118915661, 1.511748118915661, 1.511748118915661, 1.5059753701188217, 1.505477803689362, 1.5014643726592596, 1.5014225425709742, 1.5030186017199834, 1.4968631397601877, 1.5053319181973766, 1.5053319181973766, 1.483872744580921, 1.4994005739319518, 1.5008901918223825, 1.506213272788994, 1.4893652968146016, 1.5007869514253216, 1.4963688457943527, 1.5077079751641065, 1.4857162529671168, 1.5033800000690227, 1.5080537358645467, 1.518150226766541, 1.4915620414261337, 1.4994019543434494, 1.5060037361739882, 1.5060037361739882, 1.5060037361739882, 1.5043642030852706, 1.5122140463112723, 1.5107601107174975, 1.5044773980460109, 1.499684957648145, 1.5099890657315478, 1.5107875836378355, 1.4964802539654398, 1.4964802539654398, 1.5080346892213967, 1.5027800100716795, 1.5046404318661617, 1.496070559633225, 1.5111665377964458, 1.5032483030394908, 1.5057270938312823, 1.4886664294518, 1.5007326677566055, 1.5044560644173808, 1.5023509166165698, 1.4949789611383786, 1.5051887054415622, 1.504255552368139, 1.504255552368139, 1.504255552368139, 1.504255552368139, 1.5108216695613697, 1.5070319101795722, 1.5126629382963181, 1.5119549846356932, 1.4976879293787426, 1.5047889485227313, 1.5049672423612903, 1.4968007992330008, 1.4897165196670767, 1.5044996858483437, 1.5021624627170436, 1.4930014179925817, 1.5055248860257908, 1.5059228460744916, 1.5037670722051455, 1.5037670722051455, 1.500718170558316, 1.513758149645279, 1.4965601328592182, 1.498315312934713, 1.4981973689991128, 1.4922925212751137], \"yaxis\": \"y\"}],                        {\"legend\": {\"tracegroupgap\": 0}, \"margin\": {\"t\": 60}, \"template\": {\"data\": {\"bar\": [{\"error_x\": {\"color\": \"#2a3f5f\"}, \"error_y\": {\"color\": \"#2a3f5f\"}, \"marker\": {\"line\": {\"color\": \"#E5ECF6\", \"width\": 0.5}}, \"type\": \"bar\"}], \"barpolar\": [{\"marker\": {\"line\": {\"color\": \"#E5ECF6\", \"width\": 0.5}}, \"type\": \"barpolar\"}], \"carpet\": [{\"aaxis\": {\"endlinecolor\": \"#2a3f5f\", \"gridcolor\": \"white\", \"linecolor\": \"white\", \"minorgridcolor\": \"white\", \"startlinecolor\": \"#2a3f5f\"}, \"baxis\": {\"endlinecolor\": \"#2a3f5f\", \"gridcolor\": \"white\", \"linecolor\": \"white\", \"minorgridcolor\": \"white\", \"startlinecolor\": \"#2a3f5f\"}, \"type\": \"carpet\"}], \"choropleth\": [{\"colorbar\": {\"outlinewidth\": 0, \"ticks\": \"\"}, \"type\": \"choropleth\"}], \"contour\": [{\"colorbar\": {\"outlinewidth\": 0, \"ticks\": \"\"}, \"colorscale\": [[0.0, \"#0d0887\"], [0.1111111111111111, \"#46039f\"], [0.2222222222222222, \"#7201a8\"], [0.3333333333333333, \"#9c179e\"], [0.4444444444444444, \"#bd3786\"], [0.5555555555555556, \"#d8576b\"], [0.6666666666666666, \"#ed7953\"], [0.7777777777777778, \"#fb9f3a\"], [0.8888888888888888, \"#fdca26\"], [1.0, \"#f0f921\"]], \"type\": \"contour\"}], \"contourcarpet\": [{\"colorbar\": {\"outlinewidth\": 0, \"ticks\": \"\"}, \"type\": \"contourcarpet\"}], \"heatmap\": [{\"colorbar\": {\"outlinewidth\": 0, \"ticks\": \"\"}, \"colorscale\": [[0.0, \"#0d0887\"], [0.1111111111111111, \"#46039f\"], [0.2222222222222222, \"#7201a8\"], [0.3333333333333333, \"#9c179e\"], [0.4444444444444444, \"#bd3786\"], [0.5555555555555556, \"#d8576b\"], [0.6666666666666666, \"#ed7953\"], [0.7777777777777778, \"#fb9f3a\"], [0.8888888888888888, \"#fdca26\"], [1.0, \"#f0f921\"]], \"type\": \"heatmap\"}], \"heatmapgl\": [{\"colorbar\": {\"outlinewidth\": 0, \"ticks\": \"\"}, \"colorscale\": [[0.0, \"#0d0887\"], [0.1111111111111111, \"#46039f\"], [0.2222222222222222, \"#7201a8\"], [0.3333333333333333, \"#9c179e\"], [0.4444444444444444, \"#bd3786\"], [0.5555555555555556, \"#d8576b\"], [0.6666666666666666, \"#ed7953\"], [0.7777777777777778, \"#fb9f3a\"], [0.8888888888888888, \"#fdca26\"], [1.0, \"#f0f921\"]], \"type\": \"heatmapgl\"}], \"histogram\": [{\"marker\": {\"colorbar\": {\"outlinewidth\": 0, \"ticks\": \"\"}}, \"type\": \"histogram\"}], \"histogram2d\": [{\"colorbar\": {\"outlinewidth\": 0, \"ticks\": \"\"}, \"colorscale\": [[0.0, \"#0d0887\"], [0.1111111111111111, \"#46039f\"], [0.2222222222222222, \"#7201a8\"], [0.3333333333333333, \"#9c179e\"], [0.4444444444444444, \"#bd3786\"], [0.5555555555555556, \"#d8576b\"], [0.6666666666666666, \"#ed7953\"], [0.7777777777777778, \"#fb9f3a\"], [0.8888888888888888, \"#fdca26\"], [1.0, \"#f0f921\"]], \"type\": \"histogram2d\"}], \"histogram2dcontour\": [{\"colorbar\": {\"outlinewidth\": 0, \"ticks\": \"\"}, \"colorscale\": [[0.0, \"#0d0887\"], [0.1111111111111111, \"#46039f\"], [0.2222222222222222, \"#7201a8\"], [0.3333333333333333, \"#9c179e\"], [0.4444444444444444, \"#bd3786\"], [0.5555555555555556, \"#d8576b\"], [0.6666666666666666, \"#ed7953\"], [0.7777777777777778, \"#fb9f3a\"], [0.8888888888888888, \"#fdca26\"], [1.0, \"#f0f921\"]], \"type\": \"histogram2dcontour\"}], \"mesh3d\": [{\"colorbar\": {\"outlinewidth\": 0, \"ticks\": \"\"}, \"type\": \"mesh3d\"}], \"parcoords\": [{\"line\": {\"colorbar\": {\"outlinewidth\": 0, \"ticks\": \"\"}}, \"type\": \"parcoords\"}], \"pie\": [{\"automargin\": true, \"type\": \"pie\"}], \"scatter\": [{\"marker\": {\"colorbar\": {\"outlinewidth\": 0, \"ticks\": \"\"}}, \"type\": \"scatter\"}], \"scatter3d\": [{\"line\": {\"colorbar\": {\"outlinewidth\": 0, \"ticks\": \"\"}}, \"marker\": {\"colorbar\": {\"outlinewidth\": 0, \"ticks\": \"\"}}, \"type\": \"scatter3d\"}], \"scattercarpet\": [{\"marker\": {\"colorbar\": {\"outlinewidth\": 0, \"ticks\": \"\"}}, \"type\": \"scattercarpet\"}], \"scattergeo\": [{\"marker\": {\"colorbar\": {\"outlinewidth\": 0, \"ticks\": \"\"}}, \"type\": \"scattergeo\"}], \"scattergl\": [{\"marker\": {\"colorbar\": {\"outlinewidth\": 0, \"ticks\": \"\"}}, \"type\": \"scattergl\"}], \"scattermapbox\": [{\"marker\": {\"colorbar\": {\"outlinewidth\": 0, \"ticks\": \"\"}}, \"type\": \"scattermapbox\"}], \"scatterpolar\": [{\"marker\": {\"colorbar\": {\"outlinewidth\": 0, \"ticks\": \"\"}}, \"type\": \"scatterpolar\"}], \"scatterpolargl\": [{\"marker\": {\"colorbar\": {\"outlinewidth\": 0, \"ticks\": \"\"}}, \"type\": \"scatterpolargl\"}], \"scatterternary\": [{\"marker\": {\"colorbar\": {\"outlinewidth\": 0, \"ticks\": \"\"}}, \"type\": \"scatterternary\"}], \"surface\": [{\"colorbar\": {\"outlinewidth\": 0, \"ticks\": \"\"}, \"colorscale\": [[0.0, \"#0d0887\"], [0.1111111111111111, \"#46039f\"], [0.2222222222222222, \"#7201a8\"], [0.3333333333333333, \"#9c179e\"], [0.4444444444444444, \"#bd3786\"], [0.5555555555555556, \"#d8576b\"], [0.6666666666666666, \"#ed7953\"], [0.7777777777777778, \"#fb9f3a\"], [0.8888888888888888, \"#fdca26\"], [1.0, \"#f0f921\"]], \"type\": \"surface\"}], \"table\": [{\"cells\": {\"fill\": {\"color\": \"#EBF0F8\"}, \"line\": {\"color\": \"white\"}}, \"header\": {\"fill\": {\"color\": \"#C8D4E3\"}, \"line\": {\"color\": \"white\"}}, \"type\": \"table\"}]}, \"layout\": {\"annotationdefaults\": {\"arrowcolor\": \"#2a3f5f\", \"arrowhead\": 0, \"arrowwidth\": 1}, \"autotypenumbers\": \"strict\", \"coloraxis\": {\"colorbar\": {\"outlinewidth\": 0, \"ticks\": \"\"}}, \"colorscale\": {\"diverging\": [[0, \"#8e0152\"], [0.1, \"#c51b7d\"], [0.2, \"#de77ae\"], [0.3, \"#f1b6da\"], [0.4, \"#fde0ef\"], [0.5, \"#f7f7f7\"], [0.6, \"#e6f5d0\"], [0.7, \"#b8e186\"], [0.8, \"#7fbc41\"], [0.9, \"#4d9221\"], [1, \"#276419\"]], \"sequential\": [[0.0, \"#0d0887\"], [0.1111111111111111, \"#46039f\"], [0.2222222222222222, \"#7201a8\"], [0.3333333333333333, \"#9c179e\"], [0.4444444444444444, \"#bd3786\"], [0.5555555555555556, \"#d8576b\"], [0.6666666666666666, \"#ed7953\"], [0.7777777777777778, \"#fb9f3a\"], [0.8888888888888888, \"#fdca26\"], [1.0, \"#f0f921\"]], \"sequentialminus\": [[0.0, \"#0d0887\"], [0.1111111111111111, \"#46039f\"], [0.2222222222222222, \"#7201a8\"], [0.3333333333333333, \"#9c179e\"], [0.4444444444444444, \"#bd3786\"], [0.5555555555555556, \"#d8576b\"], [0.6666666666666666, \"#ed7953\"], [0.7777777777777778, \"#fb9f3a\"], [0.8888888888888888, \"#fdca26\"], [1.0, \"#f0f921\"]]}, \"colorway\": [\"#636efa\", \"#EF553B\", \"#00cc96\", \"#ab63fa\", \"#FFA15A\", \"#19d3f3\", \"#FF6692\", \"#B6E880\", \"#FF97FF\", \"#FECB52\"], \"font\": {\"color\": \"#2a3f5f\"}, \"geo\": {\"bgcolor\": \"white\", \"lakecolor\": \"white\", \"landcolor\": \"#E5ECF6\", \"showlakes\": true, \"showland\": true, \"subunitcolor\": \"white\"}, \"hoverlabel\": {\"align\": \"left\"}, \"hovermode\": \"closest\", \"mapbox\": {\"style\": \"light\"}, \"paper_bgcolor\": \"white\", \"plot_bgcolor\": \"#E5ECF6\", \"polar\": {\"angularaxis\": {\"gridcolor\": \"white\", \"linecolor\": \"white\", \"ticks\": \"\"}, \"bgcolor\": \"#E5ECF6\", \"radialaxis\": {\"gridcolor\": \"white\", \"linecolor\": \"white\", \"ticks\": \"\"}}, \"scene\": {\"xaxis\": {\"backgroundcolor\": \"#E5ECF6\", \"gridcolor\": \"white\", \"gridwidth\": 2, \"linecolor\": \"white\", \"showbackground\": true, \"ticks\": \"\", \"zerolinecolor\": \"white\"}, \"yaxis\": {\"backgroundcolor\": \"#E5ECF6\", \"gridcolor\": \"white\", \"gridwidth\": 2, \"linecolor\": \"white\", \"showbackground\": true, \"ticks\": \"\", \"zerolinecolor\": \"white\"}, \"zaxis\": {\"backgroundcolor\": \"#E5ECF6\", \"gridcolor\": \"white\", \"gridwidth\": 2, \"linecolor\": \"white\", \"showbackground\": true, \"ticks\": \"\", \"zerolinecolor\": \"white\"}}, \"shapedefaults\": {\"line\": {\"color\": \"#2a3f5f\"}}, \"ternary\": {\"aaxis\": {\"gridcolor\": \"white\", \"linecolor\": \"white\", \"ticks\": \"\"}, \"baxis\": {\"gridcolor\": \"white\", \"linecolor\": \"white\", \"ticks\": \"\"}, \"bgcolor\": \"#E5ECF6\", \"caxis\": {\"gridcolor\": \"white\", \"linecolor\": \"white\", \"ticks\": \"\"}}, \"title\": {\"x\": 0.05}, \"xaxis\": {\"automargin\": true, \"gridcolor\": \"white\", \"linecolor\": \"white\", \"ticks\": \"\", \"title\": {\"standoff\": 15}, \"zerolinecolor\": \"white\", \"zerolinewidth\": 2}, \"yaxis\": {\"automargin\": true, \"gridcolor\": \"white\", \"linecolor\": \"white\", \"ticks\": \"\", \"title\": {\"standoff\": 15}, \"zerolinecolor\": \"white\", \"zerolinewidth\": 2}}}, \"xaxis\": {\"anchor\": \"y\", \"domain\": [0.0, 1.0], \"title\": {\"text\": \"x\"}}, \"yaxis\": {\"anchor\": \"x\", \"domain\": [0.0, 1.0], \"title\": {\"text\": \"y\"}}},                        {\"responsive\": true}                    ).then(function(){\n",
       "                            \n",
       "var gd = document.getElementById('a5101fd8-c19f-4afd-9672-7555215a9ddf');\n",
       "var x = new MutationObserver(function (mutations, observer) {{\n",
       "        var display = window.getComputedStyle(gd).display;\n",
       "        if (!display || display === 'none') {{\n",
       "            console.log([gd, 'removed!']);\n",
       "            Plotly.purge(gd);\n",
       "            observer.disconnect();\n",
       "        }}\n",
       "}});\n",
       "\n",
       "// Listen for the removal of the full notebook cells\n",
       "var notebookContainer = gd.closest('#notebook-container');\n",
       "if (notebookContainer) {{\n",
       "    x.observe(notebookContainer, {childList: true});\n",
       "}}\n",
       "\n",
       "// Listen for the clearing of the current output cell\n",
       "var outputEl = gd.closest('.output');\n",
       "if (outputEl) {{\n",
       "    x.observe(outputEl, {childList: true});\n",
       "}}\n",
       "\n",
       "                        })                };                });            </script>        </div>"
      ]
     },
     "metadata": {},
     "output_type": "display_data"
    }
   ],
   "source": [
    "px.line(y = values, x = dates)"
   ]
  },
  {
   "cell_type": "code",
   "execution_count": 158,
   "metadata": {},
   "outputs": [],
   "source": [
    "date_label = [datetime.timedelta(days=i) + datetime.date(2017,6,28) for i in range(14, 1094, 14)]"
   ]
  },
  {
   "cell_type": "code",
   "execution_count": 159,
   "metadata": {},
   "outputs": [
    {
     "data": {
      "application/vnd.plotly.v1+json": {
       "config": {
        "plotlyServerURL": "https://plot.ly"
       },
       "data": [
        {
         "hovertemplate": "Dates=%{x}<br>Moyenne cumulée des distances=%{y}<extra></extra>",
         "legendgroup": "",
         "line": {
          "color": "#636efa",
          "dash": "solid"
         },
         "mode": "lines",
         "name": "",
         "orientation": "v",
         "showlegend": false,
         "type": "scatter",
         "x": [
          "2017-07-12",
          "2017-07-26",
          "2017-08-09",
          "2017-08-23",
          "2017-09-06",
          "2017-09-20",
          "2017-10-04",
          "2017-10-18",
          "2017-11-01",
          "2017-11-15",
          "2017-11-29",
          "2017-12-13",
          "2017-12-27",
          "2018-01-10",
          "2018-01-24",
          "2018-02-07",
          "2018-02-21",
          "2018-03-07",
          "2018-03-21",
          "2018-04-04",
          "2018-04-18",
          "2018-05-02",
          "2018-05-16",
          "2018-05-30",
          "2018-06-13",
          "2018-06-27",
          "2018-07-11",
          "2018-07-25",
          "2018-08-08",
          "2018-08-22",
          "2018-09-05",
          "2018-09-19",
          "2018-10-03",
          "2018-10-17",
          "2018-10-31",
          "2018-11-14",
          "2018-11-28",
          "2018-12-12",
          "2018-12-26",
          "2019-01-09",
          "2019-01-23",
          "2019-02-06",
          "2019-02-20",
          "2019-03-06",
          "2019-03-20",
          "2019-04-03",
          "2019-04-17",
          "2019-05-01",
          "2019-05-15",
          "2019-05-29",
          "2019-06-12",
          "2019-06-26",
          "2019-07-10",
          "2019-07-24",
          "2019-08-07",
          "2019-08-21",
          "2019-09-04",
          "2019-09-18",
          "2019-10-02",
          "2019-10-16",
          "2019-10-30",
          "2019-11-13",
          "2019-11-27",
          "2019-12-11",
          "2019-12-25",
          "2020-01-08",
          "2020-01-22",
          "2020-02-05",
          "2020-02-19",
          "2020-03-04",
          "2020-03-18",
          "2020-04-01",
          "2020-04-15",
          "2020-04-29",
          "2020-05-13",
          "2020-05-27",
          "2020-06-10",
          "2020-06-24"
         ],
         "xaxis": "x",
         "y": [
          1.4899118127283182,
          1.5003011039330985,
          1.5064861137563368,
          1.507801615046168,
          1.5085909158200665,
          1.509117116335999,
          1.508668295447831,
          1.5082694839780222,
          1.5075133604981596,
          1.5069042787054412,
          1.506551035343127,
          1.5057437107112153,
          1.5057120343639971,
          1.5056848832092384,
          1.5042307406340174,
          1.503928855215138,
          1.5037501103096818,
          1.5038869526696435,
          1.5031226549930623,
          1.5030058698146753,
          1.502689821051803,
          1.5029179189659985,
          1.5021700204443078,
          1.5022204362620044,
          1.502453768246106,
          1.5030574781891999,
          1.5026317212720495,
          1.5025163724531707,
          1.5026366263745783,
          1.5027488633678918,
          1.5028538592648626,
          1.5029010575092503,
          1.5031832692911298,
          1.503406117568376,
          1.5034367255820227,
          1.5033325098060815,
          1.503512416722986,
          1.503703868483903,
          1.5035186475988143,
          1.5033426877579799,
          1.5034571268180632,
          1.5034410049907685,
          1.5034688986390334,
          1.5033007545707198,
          1.5034755497535135,
          1.5034706096075563,
          1.5035186199101889,
          1.503209199275639,
          1.503158657816067,
          1.5031846059480933,
          1.5031682590984554,
          1.503010772599223,
          1.5030518656717202,
          1.5030741561660983,
          1.5030956360970442,
          1.5031163488875998,
          1.503136334913574,
          1.5032688406833636,
          1.5033326215222824,
          1.5034881268018496,
          1.5036269277499454,
          1.5035311374536358,
          1.5035511027087007,
          1.5035732298907727,
          1.503469038649884,
          1.5032606671501443,
          1.5032791599665354,
          1.5032627379481605,
          1.5031140231661955,
          1.50314846406419,
          1.503187539867152,
          1.5031955889274018,
          1.503203417465453,
          1.503169833047789,
          1.5033110106024223,
          1.5032221832636958,
          1.5031584576750077,
          1.5030948539740348
         ],
         "yaxis": "y"
        }
       ],
       "layout": {
        "legend": {
         "tracegroupgap": 0
        },
        "margin": {
         "t": 60
        },
        "template": {
         "data": {
          "bar": [
           {
            "error_x": {
             "color": "#2a3f5f"
            },
            "error_y": {
             "color": "#2a3f5f"
            },
            "marker": {
             "line": {
              "color": "#E5ECF6",
              "width": 0.5
             }
            },
            "type": "bar"
           }
          ],
          "barpolar": [
           {
            "marker": {
             "line": {
              "color": "#E5ECF6",
              "width": 0.5
             }
            },
            "type": "barpolar"
           }
          ],
          "carpet": [
           {
            "aaxis": {
             "endlinecolor": "#2a3f5f",
             "gridcolor": "white",
             "linecolor": "white",
             "minorgridcolor": "white",
             "startlinecolor": "#2a3f5f"
            },
            "baxis": {
             "endlinecolor": "#2a3f5f",
             "gridcolor": "white",
             "linecolor": "white",
             "minorgridcolor": "white",
             "startlinecolor": "#2a3f5f"
            },
            "type": "carpet"
           }
          ],
          "choropleth": [
           {
            "colorbar": {
             "outlinewidth": 0,
             "ticks": ""
            },
            "type": "choropleth"
           }
          ],
          "contour": [
           {
            "colorbar": {
             "outlinewidth": 0,
             "ticks": ""
            },
            "colorscale": [
             [
              0,
              "#0d0887"
             ],
             [
              0.1111111111111111,
              "#46039f"
             ],
             [
              0.2222222222222222,
              "#7201a8"
             ],
             [
              0.3333333333333333,
              "#9c179e"
             ],
             [
              0.4444444444444444,
              "#bd3786"
             ],
             [
              0.5555555555555556,
              "#d8576b"
             ],
             [
              0.6666666666666666,
              "#ed7953"
             ],
             [
              0.7777777777777778,
              "#fb9f3a"
             ],
             [
              0.8888888888888888,
              "#fdca26"
             ],
             [
              1,
              "#f0f921"
             ]
            ],
            "type": "contour"
           }
          ],
          "contourcarpet": [
           {
            "colorbar": {
             "outlinewidth": 0,
             "ticks": ""
            },
            "type": "contourcarpet"
           }
          ],
          "heatmap": [
           {
            "colorbar": {
             "outlinewidth": 0,
             "ticks": ""
            },
            "colorscale": [
             [
              0,
              "#0d0887"
             ],
             [
              0.1111111111111111,
              "#46039f"
             ],
             [
              0.2222222222222222,
              "#7201a8"
             ],
             [
              0.3333333333333333,
              "#9c179e"
             ],
             [
              0.4444444444444444,
              "#bd3786"
             ],
             [
              0.5555555555555556,
              "#d8576b"
             ],
             [
              0.6666666666666666,
              "#ed7953"
             ],
             [
              0.7777777777777778,
              "#fb9f3a"
             ],
             [
              0.8888888888888888,
              "#fdca26"
             ],
             [
              1,
              "#f0f921"
             ]
            ],
            "type": "heatmap"
           }
          ],
          "heatmapgl": [
           {
            "colorbar": {
             "outlinewidth": 0,
             "ticks": ""
            },
            "colorscale": [
             [
              0,
              "#0d0887"
             ],
             [
              0.1111111111111111,
              "#46039f"
             ],
             [
              0.2222222222222222,
              "#7201a8"
             ],
             [
              0.3333333333333333,
              "#9c179e"
             ],
             [
              0.4444444444444444,
              "#bd3786"
             ],
             [
              0.5555555555555556,
              "#d8576b"
             ],
             [
              0.6666666666666666,
              "#ed7953"
             ],
             [
              0.7777777777777778,
              "#fb9f3a"
             ],
             [
              0.8888888888888888,
              "#fdca26"
             ],
             [
              1,
              "#f0f921"
             ]
            ],
            "type": "heatmapgl"
           }
          ],
          "histogram": [
           {
            "marker": {
             "colorbar": {
              "outlinewidth": 0,
              "ticks": ""
             }
            },
            "type": "histogram"
           }
          ],
          "histogram2d": [
           {
            "colorbar": {
             "outlinewidth": 0,
             "ticks": ""
            },
            "colorscale": [
             [
              0,
              "#0d0887"
             ],
             [
              0.1111111111111111,
              "#46039f"
             ],
             [
              0.2222222222222222,
              "#7201a8"
             ],
             [
              0.3333333333333333,
              "#9c179e"
             ],
             [
              0.4444444444444444,
              "#bd3786"
             ],
             [
              0.5555555555555556,
              "#d8576b"
             ],
             [
              0.6666666666666666,
              "#ed7953"
             ],
             [
              0.7777777777777778,
              "#fb9f3a"
             ],
             [
              0.8888888888888888,
              "#fdca26"
             ],
             [
              1,
              "#f0f921"
             ]
            ],
            "type": "histogram2d"
           }
          ],
          "histogram2dcontour": [
           {
            "colorbar": {
             "outlinewidth": 0,
             "ticks": ""
            },
            "colorscale": [
             [
              0,
              "#0d0887"
             ],
             [
              0.1111111111111111,
              "#46039f"
             ],
             [
              0.2222222222222222,
              "#7201a8"
             ],
             [
              0.3333333333333333,
              "#9c179e"
             ],
             [
              0.4444444444444444,
              "#bd3786"
             ],
             [
              0.5555555555555556,
              "#d8576b"
             ],
             [
              0.6666666666666666,
              "#ed7953"
             ],
             [
              0.7777777777777778,
              "#fb9f3a"
             ],
             [
              0.8888888888888888,
              "#fdca26"
             ],
             [
              1,
              "#f0f921"
             ]
            ],
            "type": "histogram2dcontour"
           }
          ],
          "mesh3d": [
           {
            "colorbar": {
             "outlinewidth": 0,
             "ticks": ""
            },
            "type": "mesh3d"
           }
          ],
          "parcoords": [
           {
            "line": {
             "colorbar": {
              "outlinewidth": 0,
              "ticks": ""
             }
            },
            "type": "parcoords"
           }
          ],
          "pie": [
           {
            "automargin": true,
            "type": "pie"
           }
          ],
          "scatter": [
           {
            "marker": {
             "colorbar": {
              "outlinewidth": 0,
              "ticks": ""
             }
            },
            "type": "scatter"
           }
          ],
          "scatter3d": [
           {
            "line": {
             "colorbar": {
              "outlinewidth": 0,
              "ticks": ""
             }
            },
            "marker": {
             "colorbar": {
              "outlinewidth": 0,
              "ticks": ""
             }
            },
            "type": "scatter3d"
           }
          ],
          "scattercarpet": [
           {
            "marker": {
             "colorbar": {
              "outlinewidth": 0,
              "ticks": ""
             }
            },
            "type": "scattercarpet"
           }
          ],
          "scattergeo": [
           {
            "marker": {
             "colorbar": {
              "outlinewidth": 0,
              "ticks": ""
             }
            },
            "type": "scattergeo"
           }
          ],
          "scattergl": [
           {
            "marker": {
             "colorbar": {
              "outlinewidth": 0,
              "ticks": ""
             }
            },
            "type": "scattergl"
           }
          ],
          "scattermapbox": [
           {
            "marker": {
             "colorbar": {
              "outlinewidth": 0,
              "ticks": ""
             }
            },
            "type": "scattermapbox"
           }
          ],
          "scatterpolar": [
           {
            "marker": {
             "colorbar": {
              "outlinewidth": 0,
              "ticks": ""
             }
            },
            "type": "scatterpolar"
           }
          ],
          "scatterpolargl": [
           {
            "marker": {
             "colorbar": {
              "outlinewidth": 0,
              "ticks": ""
             }
            },
            "type": "scatterpolargl"
           }
          ],
          "scatterternary": [
           {
            "marker": {
             "colorbar": {
              "outlinewidth": 0,
              "ticks": ""
             }
            },
            "type": "scatterternary"
           }
          ],
          "surface": [
           {
            "colorbar": {
             "outlinewidth": 0,
             "ticks": ""
            },
            "colorscale": [
             [
              0,
              "#0d0887"
             ],
             [
              0.1111111111111111,
              "#46039f"
             ],
             [
              0.2222222222222222,
              "#7201a8"
             ],
             [
              0.3333333333333333,
              "#9c179e"
             ],
             [
              0.4444444444444444,
              "#bd3786"
             ],
             [
              0.5555555555555556,
              "#d8576b"
             ],
             [
              0.6666666666666666,
              "#ed7953"
             ],
             [
              0.7777777777777778,
              "#fb9f3a"
             ],
             [
              0.8888888888888888,
              "#fdca26"
             ],
             [
              1,
              "#f0f921"
             ]
            ],
            "type": "surface"
           }
          ],
          "table": [
           {
            "cells": {
             "fill": {
              "color": "#EBF0F8"
             },
             "line": {
              "color": "white"
             }
            },
            "header": {
             "fill": {
              "color": "#C8D4E3"
             },
             "line": {
              "color": "white"
             }
            },
            "type": "table"
           }
          ]
         },
         "layout": {
          "annotationdefaults": {
           "arrowcolor": "#2a3f5f",
           "arrowhead": 0,
           "arrowwidth": 1
          },
          "autotypenumbers": "strict",
          "coloraxis": {
           "colorbar": {
            "outlinewidth": 0,
            "ticks": ""
           }
          },
          "colorscale": {
           "diverging": [
            [
             0,
             "#8e0152"
            ],
            [
             0.1,
             "#c51b7d"
            ],
            [
             0.2,
             "#de77ae"
            ],
            [
             0.3,
             "#f1b6da"
            ],
            [
             0.4,
             "#fde0ef"
            ],
            [
             0.5,
             "#f7f7f7"
            ],
            [
             0.6,
             "#e6f5d0"
            ],
            [
             0.7,
             "#b8e186"
            ],
            [
             0.8,
             "#7fbc41"
            ],
            [
             0.9,
             "#4d9221"
            ],
            [
             1,
             "#276419"
            ]
           ],
           "sequential": [
            [
             0,
             "#0d0887"
            ],
            [
             0.1111111111111111,
             "#46039f"
            ],
            [
             0.2222222222222222,
             "#7201a8"
            ],
            [
             0.3333333333333333,
             "#9c179e"
            ],
            [
             0.4444444444444444,
             "#bd3786"
            ],
            [
             0.5555555555555556,
             "#d8576b"
            ],
            [
             0.6666666666666666,
             "#ed7953"
            ],
            [
             0.7777777777777778,
             "#fb9f3a"
            ],
            [
             0.8888888888888888,
             "#fdca26"
            ],
            [
             1,
             "#f0f921"
            ]
           ],
           "sequentialminus": [
            [
             0,
             "#0d0887"
            ],
            [
             0.1111111111111111,
             "#46039f"
            ],
            [
             0.2222222222222222,
             "#7201a8"
            ],
            [
             0.3333333333333333,
             "#9c179e"
            ],
            [
             0.4444444444444444,
             "#bd3786"
            ],
            [
             0.5555555555555556,
             "#d8576b"
            ],
            [
             0.6666666666666666,
             "#ed7953"
            ],
            [
             0.7777777777777778,
             "#fb9f3a"
            ],
            [
             0.8888888888888888,
             "#fdca26"
            ],
            [
             1,
             "#f0f921"
            ]
           ]
          },
          "colorway": [
           "#636efa",
           "#EF553B",
           "#00cc96",
           "#ab63fa",
           "#FFA15A",
           "#19d3f3",
           "#FF6692",
           "#B6E880",
           "#FF97FF",
           "#FECB52"
          ],
          "font": {
           "color": "#2a3f5f"
          },
          "geo": {
           "bgcolor": "white",
           "lakecolor": "white",
           "landcolor": "#E5ECF6",
           "showlakes": true,
           "showland": true,
           "subunitcolor": "white"
          },
          "hoverlabel": {
           "align": "left"
          },
          "hovermode": "closest",
          "mapbox": {
           "style": "light"
          },
          "paper_bgcolor": "white",
          "plot_bgcolor": "#E5ECF6",
          "polar": {
           "angularaxis": {
            "gridcolor": "white",
            "linecolor": "white",
            "ticks": ""
           },
           "bgcolor": "#E5ECF6",
           "radialaxis": {
            "gridcolor": "white",
            "linecolor": "white",
            "ticks": ""
           }
          },
          "scene": {
           "xaxis": {
            "backgroundcolor": "#E5ECF6",
            "gridcolor": "white",
            "gridwidth": 2,
            "linecolor": "white",
            "showbackground": true,
            "ticks": "",
            "zerolinecolor": "white"
           },
           "yaxis": {
            "backgroundcolor": "#E5ECF6",
            "gridcolor": "white",
            "gridwidth": 2,
            "linecolor": "white",
            "showbackground": true,
            "ticks": "",
            "zerolinecolor": "white"
           },
           "zaxis": {
            "backgroundcolor": "#E5ECF6",
            "gridcolor": "white",
            "gridwidth": 2,
            "linecolor": "white",
            "showbackground": true,
            "ticks": "",
            "zerolinecolor": "white"
           }
          },
          "shapedefaults": {
           "line": {
            "color": "#2a3f5f"
           }
          },
          "ternary": {
           "aaxis": {
            "gridcolor": "white",
            "linecolor": "white",
            "ticks": ""
           },
           "baxis": {
            "gridcolor": "white",
            "linecolor": "white",
            "ticks": ""
           },
           "bgcolor": "#E5ECF6",
           "caxis": {
            "gridcolor": "white",
            "linecolor": "white",
            "ticks": ""
           }
          },
          "title": {
           "x": 0.05
          },
          "xaxis": {
           "automargin": true,
           "gridcolor": "white",
           "linecolor": "white",
           "ticks": "",
           "title": {
            "standoff": 15
           },
           "zerolinecolor": "white",
           "zerolinewidth": 2
          },
          "yaxis": {
           "automargin": true,
           "gridcolor": "white",
           "linecolor": "white",
           "ticks": "",
           "title": {
            "standoff": 15
           },
           "zerolinecolor": "white",
           "zerolinewidth": 2
          }
         }
        },
        "xaxis": {
         "anchor": "y",
         "domain": [
          0,
          1
         ],
         "title": {
          "text": "Dates"
         }
        },
        "yaxis": {
         "anchor": "x",
         "domain": [
          0,
          1
         ],
         "title": {
          "text": "Moyenne cumulée des distances"
         }
        }
       }
      },
      "text/html": [
       "<div>                            <div id=\"a8dd9a56-a5ef-49ed-877e-1bbe32b855de\" class=\"plotly-graph-div\" style=\"height:525px; width:100%;\"></div>            <script type=\"text/javascript\">                require([\"plotly\"], function(Plotly) {                    window.PLOTLYENV=window.PLOTLYENV || {};                                    if (document.getElementById(\"a8dd9a56-a5ef-49ed-877e-1bbe32b855de\")) {                    Plotly.newPlot(                        \"a8dd9a56-a5ef-49ed-877e-1bbe32b855de\",                        [{\"hovertemplate\": \"Dates=%{x}<br>Moyenne cumul\\u00e9e des distances=%{y}<extra></extra>\", \"legendgroup\": \"\", \"line\": {\"color\": \"#636efa\", \"dash\": \"solid\"}, \"mode\": \"lines\", \"name\": \"\", \"orientation\": \"v\", \"showlegend\": false, \"type\": \"scatter\", \"x\": [\"2017-07-12\", \"2017-07-26\", \"2017-08-09\", \"2017-08-23\", \"2017-09-06\", \"2017-09-20\", \"2017-10-04\", \"2017-10-18\", \"2017-11-01\", \"2017-11-15\", \"2017-11-29\", \"2017-12-13\", \"2017-12-27\", \"2018-01-10\", \"2018-01-24\", \"2018-02-07\", \"2018-02-21\", \"2018-03-07\", \"2018-03-21\", \"2018-04-04\", \"2018-04-18\", \"2018-05-02\", \"2018-05-16\", \"2018-05-30\", \"2018-06-13\", \"2018-06-27\", \"2018-07-11\", \"2018-07-25\", \"2018-08-08\", \"2018-08-22\", \"2018-09-05\", \"2018-09-19\", \"2018-10-03\", \"2018-10-17\", \"2018-10-31\", \"2018-11-14\", \"2018-11-28\", \"2018-12-12\", \"2018-12-26\", \"2019-01-09\", \"2019-01-23\", \"2019-02-06\", \"2019-02-20\", \"2019-03-06\", \"2019-03-20\", \"2019-04-03\", \"2019-04-17\", \"2019-05-01\", \"2019-05-15\", \"2019-05-29\", \"2019-06-12\", \"2019-06-26\", \"2019-07-10\", \"2019-07-24\", \"2019-08-07\", \"2019-08-21\", \"2019-09-04\", \"2019-09-18\", \"2019-10-02\", \"2019-10-16\", \"2019-10-30\", \"2019-11-13\", \"2019-11-27\", \"2019-12-11\", \"2019-12-25\", \"2020-01-08\", \"2020-01-22\", \"2020-02-05\", \"2020-02-19\", \"2020-03-04\", \"2020-03-18\", \"2020-04-01\", \"2020-04-15\", \"2020-04-29\", \"2020-05-13\", \"2020-05-27\", \"2020-06-10\", \"2020-06-24\"], \"xaxis\": \"x\", \"y\": [1.4899118127283182, 1.5003011039330985, 1.5064861137563368, 1.507801615046168, 1.5085909158200665, 1.509117116335999, 1.508668295447831, 1.5082694839780222, 1.5075133604981596, 1.5069042787054412, 1.506551035343127, 1.5057437107112153, 1.5057120343639971, 1.5056848832092384, 1.5042307406340174, 1.503928855215138, 1.5037501103096818, 1.5038869526696435, 1.5031226549930623, 1.5030058698146753, 1.502689821051803, 1.5029179189659985, 1.5021700204443078, 1.5022204362620044, 1.502453768246106, 1.5030574781891999, 1.5026317212720495, 1.5025163724531707, 1.5026366263745783, 1.5027488633678918, 1.5028538592648626, 1.5029010575092503, 1.5031832692911298, 1.503406117568376, 1.5034367255820227, 1.5033325098060815, 1.503512416722986, 1.503703868483903, 1.5035186475988143, 1.5033426877579799, 1.5034571268180632, 1.5034410049907685, 1.5034688986390334, 1.5033007545707198, 1.5034755497535135, 1.5034706096075563, 1.5035186199101889, 1.503209199275639, 1.503158657816067, 1.5031846059480933, 1.5031682590984554, 1.503010772599223, 1.5030518656717202, 1.5030741561660983, 1.5030956360970442, 1.5031163488875998, 1.503136334913574, 1.5032688406833636, 1.5033326215222824, 1.5034881268018496, 1.5036269277499454, 1.5035311374536358, 1.5035511027087007, 1.5035732298907727, 1.503469038649884, 1.5032606671501443, 1.5032791599665354, 1.5032627379481605, 1.5031140231661955, 1.50314846406419, 1.503187539867152, 1.5031955889274018, 1.503203417465453, 1.503169833047789, 1.5033110106024223, 1.5032221832636958, 1.5031584576750077, 1.5030948539740348], \"yaxis\": \"y\"}],                        {\"legend\": {\"tracegroupgap\": 0}, \"margin\": {\"t\": 60}, \"template\": {\"data\": {\"bar\": [{\"error_x\": {\"color\": \"#2a3f5f\"}, \"error_y\": {\"color\": \"#2a3f5f\"}, \"marker\": {\"line\": {\"color\": \"#E5ECF6\", \"width\": 0.5}}, \"type\": \"bar\"}], \"barpolar\": [{\"marker\": {\"line\": {\"color\": \"#E5ECF6\", \"width\": 0.5}}, \"type\": \"barpolar\"}], \"carpet\": [{\"aaxis\": {\"endlinecolor\": \"#2a3f5f\", \"gridcolor\": \"white\", \"linecolor\": \"white\", \"minorgridcolor\": \"white\", \"startlinecolor\": \"#2a3f5f\"}, \"baxis\": {\"endlinecolor\": \"#2a3f5f\", \"gridcolor\": \"white\", \"linecolor\": \"white\", \"minorgridcolor\": \"white\", \"startlinecolor\": \"#2a3f5f\"}, \"type\": \"carpet\"}], \"choropleth\": [{\"colorbar\": {\"outlinewidth\": 0, \"ticks\": \"\"}, \"type\": \"choropleth\"}], \"contour\": [{\"colorbar\": {\"outlinewidth\": 0, \"ticks\": \"\"}, \"colorscale\": [[0.0, \"#0d0887\"], [0.1111111111111111, \"#46039f\"], [0.2222222222222222, \"#7201a8\"], [0.3333333333333333, \"#9c179e\"], [0.4444444444444444, \"#bd3786\"], [0.5555555555555556, \"#d8576b\"], [0.6666666666666666, \"#ed7953\"], [0.7777777777777778, \"#fb9f3a\"], [0.8888888888888888, \"#fdca26\"], [1.0, \"#f0f921\"]], \"type\": \"contour\"}], \"contourcarpet\": [{\"colorbar\": {\"outlinewidth\": 0, \"ticks\": \"\"}, \"type\": \"contourcarpet\"}], \"heatmap\": [{\"colorbar\": {\"outlinewidth\": 0, \"ticks\": \"\"}, \"colorscale\": [[0.0, \"#0d0887\"], [0.1111111111111111, \"#46039f\"], [0.2222222222222222, \"#7201a8\"], [0.3333333333333333, \"#9c179e\"], [0.4444444444444444, \"#bd3786\"], [0.5555555555555556, \"#d8576b\"], [0.6666666666666666, \"#ed7953\"], [0.7777777777777778, \"#fb9f3a\"], [0.8888888888888888, \"#fdca26\"], [1.0, \"#f0f921\"]], \"type\": \"heatmap\"}], \"heatmapgl\": [{\"colorbar\": {\"outlinewidth\": 0, \"ticks\": \"\"}, \"colorscale\": [[0.0, \"#0d0887\"], [0.1111111111111111, \"#46039f\"], [0.2222222222222222, \"#7201a8\"], [0.3333333333333333, \"#9c179e\"], [0.4444444444444444, \"#bd3786\"], [0.5555555555555556, \"#d8576b\"], [0.6666666666666666, \"#ed7953\"], [0.7777777777777778, \"#fb9f3a\"], [0.8888888888888888, \"#fdca26\"], [1.0, \"#f0f921\"]], \"type\": \"heatmapgl\"}], \"histogram\": [{\"marker\": {\"colorbar\": {\"outlinewidth\": 0, \"ticks\": \"\"}}, \"type\": \"histogram\"}], \"histogram2d\": [{\"colorbar\": {\"outlinewidth\": 0, \"ticks\": \"\"}, \"colorscale\": [[0.0, \"#0d0887\"], [0.1111111111111111, \"#46039f\"], [0.2222222222222222, \"#7201a8\"], [0.3333333333333333, \"#9c179e\"], [0.4444444444444444, \"#bd3786\"], [0.5555555555555556, \"#d8576b\"], [0.6666666666666666, \"#ed7953\"], [0.7777777777777778, \"#fb9f3a\"], [0.8888888888888888, \"#fdca26\"], [1.0, \"#f0f921\"]], \"type\": \"histogram2d\"}], \"histogram2dcontour\": [{\"colorbar\": {\"outlinewidth\": 0, \"ticks\": \"\"}, \"colorscale\": [[0.0, \"#0d0887\"], [0.1111111111111111, \"#46039f\"], [0.2222222222222222, \"#7201a8\"], [0.3333333333333333, \"#9c179e\"], [0.4444444444444444, \"#bd3786\"], [0.5555555555555556, \"#d8576b\"], [0.6666666666666666, \"#ed7953\"], [0.7777777777777778, \"#fb9f3a\"], [0.8888888888888888, \"#fdca26\"], [1.0, \"#f0f921\"]], \"type\": \"histogram2dcontour\"}], \"mesh3d\": [{\"colorbar\": {\"outlinewidth\": 0, \"ticks\": \"\"}, \"type\": \"mesh3d\"}], \"parcoords\": [{\"line\": {\"colorbar\": {\"outlinewidth\": 0, \"ticks\": \"\"}}, \"type\": \"parcoords\"}], \"pie\": [{\"automargin\": true, \"type\": \"pie\"}], \"scatter\": [{\"marker\": {\"colorbar\": {\"outlinewidth\": 0, \"ticks\": \"\"}}, \"type\": \"scatter\"}], \"scatter3d\": [{\"line\": {\"colorbar\": {\"outlinewidth\": 0, \"ticks\": \"\"}}, \"marker\": {\"colorbar\": {\"outlinewidth\": 0, \"ticks\": \"\"}}, \"type\": \"scatter3d\"}], \"scattercarpet\": [{\"marker\": {\"colorbar\": {\"outlinewidth\": 0, \"ticks\": \"\"}}, \"type\": \"scattercarpet\"}], \"scattergeo\": [{\"marker\": {\"colorbar\": {\"outlinewidth\": 0, \"ticks\": \"\"}}, \"type\": \"scattergeo\"}], \"scattergl\": [{\"marker\": {\"colorbar\": {\"outlinewidth\": 0, \"ticks\": \"\"}}, \"type\": \"scattergl\"}], \"scattermapbox\": [{\"marker\": {\"colorbar\": {\"outlinewidth\": 0, \"ticks\": \"\"}}, \"type\": \"scattermapbox\"}], \"scatterpolar\": [{\"marker\": {\"colorbar\": {\"outlinewidth\": 0, \"ticks\": \"\"}}, \"type\": \"scatterpolar\"}], \"scatterpolargl\": [{\"marker\": {\"colorbar\": {\"outlinewidth\": 0, \"ticks\": \"\"}}, \"type\": \"scatterpolargl\"}], \"scatterternary\": [{\"marker\": {\"colorbar\": {\"outlinewidth\": 0, \"ticks\": \"\"}}, \"type\": \"scatterternary\"}], \"surface\": [{\"colorbar\": {\"outlinewidth\": 0, \"ticks\": \"\"}, \"colorscale\": [[0.0, \"#0d0887\"], [0.1111111111111111, \"#46039f\"], [0.2222222222222222, \"#7201a8\"], [0.3333333333333333, \"#9c179e\"], [0.4444444444444444, \"#bd3786\"], [0.5555555555555556, \"#d8576b\"], [0.6666666666666666, \"#ed7953\"], [0.7777777777777778, \"#fb9f3a\"], [0.8888888888888888, \"#fdca26\"], [1.0, \"#f0f921\"]], \"type\": \"surface\"}], \"table\": [{\"cells\": {\"fill\": {\"color\": \"#EBF0F8\"}, \"line\": {\"color\": \"white\"}}, \"header\": {\"fill\": {\"color\": \"#C8D4E3\"}, \"line\": {\"color\": \"white\"}}, \"type\": \"table\"}]}, \"layout\": {\"annotationdefaults\": {\"arrowcolor\": \"#2a3f5f\", \"arrowhead\": 0, \"arrowwidth\": 1}, \"autotypenumbers\": \"strict\", \"coloraxis\": {\"colorbar\": {\"outlinewidth\": 0, \"ticks\": \"\"}}, \"colorscale\": {\"diverging\": [[0, \"#8e0152\"], [0.1, \"#c51b7d\"], [0.2, \"#de77ae\"], [0.3, \"#f1b6da\"], [0.4, \"#fde0ef\"], [0.5, \"#f7f7f7\"], [0.6, \"#e6f5d0\"], [0.7, \"#b8e186\"], [0.8, \"#7fbc41\"], [0.9, \"#4d9221\"], [1, \"#276419\"]], \"sequential\": [[0.0, \"#0d0887\"], [0.1111111111111111, \"#46039f\"], [0.2222222222222222, \"#7201a8\"], [0.3333333333333333, \"#9c179e\"], [0.4444444444444444, \"#bd3786\"], [0.5555555555555556, \"#d8576b\"], [0.6666666666666666, \"#ed7953\"], [0.7777777777777778, \"#fb9f3a\"], [0.8888888888888888, \"#fdca26\"], [1.0, \"#f0f921\"]], \"sequentialminus\": [[0.0, \"#0d0887\"], [0.1111111111111111, \"#46039f\"], [0.2222222222222222, \"#7201a8\"], [0.3333333333333333, \"#9c179e\"], [0.4444444444444444, \"#bd3786\"], [0.5555555555555556, \"#d8576b\"], [0.6666666666666666, \"#ed7953\"], [0.7777777777777778, \"#fb9f3a\"], [0.8888888888888888, \"#fdca26\"], [1.0, \"#f0f921\"]]}, \"colorway\": [\"#636efa\", \"#EF553B\", \"#00cc96\", \"#ab63fa\", \"#FFA15A\", \"#19d3f3\", \"#FF6692\", \"#B6E880\", \"#FF97FF\", \"#FECB52\"], \"font\": {\"color\": \"#2a3f5f\"}, \"geo\": {\"bgcolor\": \"white\", \"lakecolor\": \"white\", \"landcolor\": \"#E5ECF6\", \"showlakes\": true, \"showland\": true, \"subunitcolor\": \"white\"}, \"hoverlabel\": {\"align\": \"left\"}, \"hovermode\": \"closest\", \"mapbox\": {\"style\": \"light\"}, \"paper_bgcolor\": \"white\", \"plot_bgcolor\": \"#E5ECF6\", \"polar\": {\"angularaxis\": {\"gridcolor\": \"white\", \"linecolor\": \"white\", \"ticks\": \"\"}, \"bgcolor\": \"#E5ECF6\", \"radialaxis\": {\"gridcolor\": \"white\", \"linecolor\": \"white\", \"ticks\": \"\"}}, \"scene\": {\"xaxis\": {\"backgroundcolor\": \"#E5ECF6\", \"gridcolor\": \"white\", \"gridwidth\": 2, \"linecolor\": \"white\", \"showbackground\": true, \"ticks\": \"\", \"zerolinecolor\": \"white\"}, \"yaxis\": {\"backgroundcolor\": \"#E5ECF6\", \"gridcolor\": \"white\", \"gridwidth\": 2, \"linecolor\": \"white\", \"showbackground\": true, \"ticks\": \"\", \"zerolinecolor\": \"white\"}, \"zaxis\": {\"backgroundcolor\": \"#E5ECF6\", \"gridcolor\": \"white\", \"gridwidth\": 2, \"linecolor\": \"white\", \"showbackground\": true, \"ticks\": \"\", \"zerolinecolor\": \"white\"}}, \"shapedefaults\": {\"line\": {\"color\": \"#2a3f5f\"}}, \"ternary\": {\"aaxis\": {\"gridcolor\": \"white\", \"linecolor\": \"white\", \"ticks\": \"\"}, \"baxis\": {\"gridcolor\": \"white\", \"linecolor\": \"white\", \"ticks\": \"\"}, \"bgcolor\": \"#E5ECF6\", \"caxis\": {\"gridcolor\": \"white\", \"linecolor\": \"white\", \"ticks\": \"\"}}, \"title\": {\"x\": 0.05}, \"xaxis\": {\"automargin\": true, \"gridcolor\": \"white\", \"linecolor\": \"white\", \"ticks\": \"\", \"title\": {\"standoff\": 15}, \"zerolinecolor\": \"white\", \"zerolinewidth\": 2}, \"yaxis\": {\"automargin\": true, \"gridcolor\": \"white\", \"linecolor\": \"white\", \"ticks\": \"\", \"title\": {\"standoff\": 15}, \"zerolinecolor\": \"white\", \"zerolinewidth\": 2}}}, \"xaxis\": {\"anchor\": \"y\", \"domain\": [0.0, 1.0], \"title\": {\"text\": \"Dates\"}}, \"yaxis\": {\"anchor\": \"x\", \"domain\": [0.0, 1.0], \"title\": {\"text\": \"Moyenne cumul\\u00e9e des distances\"}}},                        {\"responsive\": true}                    ).then(function(){\n",
       "                            \n",
       "var gd = document.getElementById('a8dd9a56-a5ef-49ed-877e-1bbe32b855de');\n",
       "var x = new MutationObserver(function (mutations, observer) {{\n",
       "        var display = window.getComputedStyle(gd).display;\n",
       "        if (!display || display === 'none') {{\n",
       "            console.log([gd, 'removed!']);\n",
       "            Plotly.purge(gd);\n",
       "            observer.disconnect();\n",
       "        }}\n",
       "}});\n",
       "\n",
       "// Listen for the removal of the full notebook cells\n",
       "var notebookContainer = gd.closest('#notebook-container');\n",
       "if (notebookContainer) {{\n",
       "    x.observe(notebookContainer, {childList: true});\n",
       "}}\n",
       "\n",
       "// Listen for the clearing of the current output cell\n",
       "var outputEl = gd.closest('.output');\n",
       "if (outputEl) {{\n",
       "    x.observe(outputEl, {childList: true});\n",
       "}}\n",
       "\n",
       "                        })                };                });            </script>        </div>"
      ]
     },
     "metadata": {},
     "output_type": "display_data"
    }
   ],
   "source": [
    "px.line(y = [np.mean(values[:i]) for i in range(1,len(values))], x = date_label, \n",
    "        labels = {'x' : 'Dates', 'y' : 'Moyenne cumulée des distances'})"
   ]
  },
  {
   "cell_type": "markdown",
   "metadata": {},
   "source": [
    "On observe la moyenne cumulée des distances en fonction du temps. On constate une moyenne forte en début d'exercice, puis une relaxation pour atteindre une valeur limite.\n",
    "On peut interpréter cela comme : \n",
    "- un début d'exercice où les novices et les expérimentés parlent différemment, la distance entre les deux langages est raltivement grande.\n",
    "- une période d'apprentissage (du 20 septembre 2017 au 16 mai 2018) où les différences entre novices et expérimentés tendent à s'estomper (mais dans quel sens ? on s'attend à ce que les novices s'adaptent aux expérimentés, et pas forcement l'inverse), la distance diminue.\n",
    "- une période de différenciation (du 16 mai 2018 au 12 décembre 2018), où la distance augmente légerement : comme si un des deux camps voulait se différencier de l'autre.\n",
    "- une période stable (du 12 décembre 2018 à la fin de l'exercice)."
   ]
  },
  {
   "cell_type": "markdown",
   "metadata": {},
   "source": [
    "## Analyse personnalisée député par député"
   ]
  },
  {
   "cell_type": "code",
   "execution_count": 8,
   "metadata": {},
   "outputs": [
    {
     "data": {
      "text/plain": [
       "{'laurent pietraszewski': 3435,\n",
       " 'francois ruffin': 3125,\n",
       " 'sabine rubin': 2189,\n",
       " 'adrien taquet': 1781,\n",
       " 'roland lescure': 1705,\n",
       " 'laetitia avia': 1637,\n",
       " 'emilie chalas': 1579,\n",
       " 'cendra motin': 1557,\n",
       " 'yael braun pivet': 1286,\n",
       " 'catherine fabre': 1159,\n",
       " 'coralie dubost': 1138,\n",
       " 'christophe naegelen': 1134,\n",
       " 'thomas mesnier': 1121,\n",
       " 'jean baptiste djebbari': 1096,\n",
       " 'nadia hai': 986,\n",
       " 'marie christine verdier jouclas': 986,\n",
       " 'bruno studer': 895,\n",
       " 'sacha houlie': 880,\n",
       " 'gilles le gendre': 836,\n",
       " 'berangere couillard': 714,\n",
       " 'veronique riotton': 675,\n",
       " 'benedicte peyrol': 603,\n",
       " 'alexandra louis': 603,\n",
       " 'raphael gauvain': 598,\n",
       " 'raphael gerard': 594,\n",
       " 'mohamed laqhila': 586,\n",
       " 'agnes thill': 568,\n",
       " 'martine wonner': 542,\n",
       " 'cecile rilhac': 527,\n",
       " 'stephanie rist': 478,\n",
       " 'zivka park': 469,\n",
       " 'perrine goulet': 461,\n",
       " 'vincent thiebaut': 446,\n",
       " 'jean francois mbaye': 439,\n",
       " 'alice thourot': 391,\n",
       " 'alexandre holroyd': 361,\n",
       " 'caroline abadie': 336,\n",
       " 'annie chapelier': 326,\n",
       " 'fiona lazaar': 322,\n",
       " 'damien adam': 310,\n",
       " 'albane gaillot': 308,\n",
       " 'dominique david': 306,\n",
       " 'fannette charvier': 297,\n",
       " 'gregory besson moreau': 293,\n",
       " 'anne genetet': 283,\n",
       " 'joachim son forget': 275,\n",
       " 'typhanie degois': 275,\n",
       " 'audrey dufeu schubert': 269,\n",
       " 'sylvie charriere': 264,\n",
       " 'carole grandjean': 262,\n",
       " 'cedric roussel': 262,\n",
       " 'christophe euzet': 258,\n",
       " 'nicole dubre chirat': 253,\n",
       " 'laetitia romeiro dias': 251,\n",
       " 'laetitia saint paul': 240,\n",
       " 'barbara bessot ballot': 240,\n",
       " 'beatrice piron': 226,\n",
       " 'gael le bohec': 215,\n",
       " 'caroline janvier': 214,\n",
       " 'benoit potterie': 213,\n",
       " 'nicolas demoulin': 210,\n",
       " 'natalia pouzyreff': 204,\n",
       " 'cathy racon bouzon': 201,\n",
       " 'aude amadou': 200,\n",
       " 'fabienne colboc': 199,\n",
       " 'sophie beaudouin hubiere': 196,\n",
       " 'thierry michels': 194,\n",
       " 'sabine thillaye': 184,\n",
       " 'emilie guerel': 183,\n",
       " 'jean michel fauvergue': 182,\n",
       " 'sonia krimi': 179,\n",
       " 'huguette tiegna': 174,\n",
       " 'eric girardin': 167,\n",
       " 'jennifer de temmerman': 159,\n",
       " 'graziella melchior': 155,\n",
       " 'bertrand bouyx': 154,\n",
       " 'charlotte lecocq': 152,\n",
       " 'monica michel': 150,\n",
       " 'nicole trisse': 143,\n",
       " 'claire pitollat': 139,\n",
       " 'jean charles larsonneur': 137,\n",
       " 'herve berville': 136,\n",
       " 'annaig le meur': 133,\n",
       " 'sophie panonacle': 132,\n",
       " 'anne france brunet': 131,\n",
       " 'denis masseglia': 131,\n",
       " 'aina kuric': 126,\n",
       " 'bruno bonnell': 123,\n",
       " 'valerie petit': 119,\n",
       " 'sandrine le feur': 118,\n",
       " 'pierre alain raphan': 116,\n",
       " 'laurence vanceunebrock mialon': 112,\n",
       " 'patrice anato': 106,\n",
       " 'anne laurence petel': 102,\n",
       " 'pascale fontenel personne': 101,\n",
       " 'brigitte liso': 92,\n",
       " 'florence granjus': 78,\n",
       " 'delphine o': 75,\n",
       " 'valerie oppelt': 72,\n",
       " 'samantha cazebonne': 71,\n",
       " 'valerie gomez bassac': 66,\n",
       " 'benjamin dirx': 53,\n",
       " 'loic kervran': 52,\n",
       " 'valeria faure muntian': 47,\n",
       " 'jean marie fievet': 47,\n",
       " 'mustapha laabid': 44,\n",
       " 'sira sylla': 43,\n",
       " 'xavier batut': 40,\n",
       " 'patrice perrot': 31}"
      ]
     },
     "execution_count": 8,
     "metadata": {},
     "output_type": "execute_result"
    }
   ],
   "source": [
    "# Députés Novices parlant le plus (classement par nombre d'intervention)\n",
    "\n",
    "dict(df0[df0['Groupe'] == 'Novice'].Orateur.value_counts())"
   ]
  },
  {
   "cell_type": "code",
   "execution_count": 9,
   "metadata": {},
   "outputs": [],
   "source": [
    "orateurs_novices = list(dict(df0[df0['Groupe'] == 'Novice'].Orateur.value_counts()).keys())"
   ]
  },
  {
   "cell_type": "code",
   "execution_count": 11,
   "metadata": {},
   "outputs": [],
   "source": [
    "def calcule_WMD_intervalle_personnalise(orateur, d1, d2):\n",
    "    print(orateur)\n",
    "    print('JOURS : ', d1, ' ', d2)\n",
    "    df1 = df[df['days'] >= d1]\n",
    "    df1 = df1[df1['days'] < d2]\n",
    "    \n",
    "    df_Novice = df1[df1['Orateur'] == orateur]\n",
    "    df_Exp = df1[df1['Groupe'] == 'Exp']\n",
    "    \n",
    "    #display(df_Novice)\n",
    "    try:\n",
    "        df_Novice = df1[df1['Groupe'] == 'Novice'].dropna().sample(50)\n",
    "        df_Exp = df1[df1['Groupe'] == 'Exp'].dropna().sample(50)\n",
    "    except:\n",
    "        return np.nan\n",
    "    \n",
    "    phrases_Exp = [df_Exp.iloc[i]['tokenized_replique'].split(' ') for i in range(df_Exp.shape[0])]\n",
    "    phrases_Novice = [df_Novice.iloc[i]['tokenized_replique'].split(' ') for i in range(df_Novice.shape[0])]\n",
    "    \n",
    "    WMD = []\n",
    "    \n",
    "    for i in phrases_Novice:\n",
    "        if len(i)<3:\n",
    "            continue\n",
    "        values = []\n",
    "        for j in phrases_Exp:\n",
    "            d = w2v_model_all.wv.wmdistance(add_groupe(i, '_Novice'), \n",
    "                                                     add_groupe(j, '_Exp'))\n",
    "            if str(d) != 'inf':\n",
    "                values.append(d)\n",
    "        value = np.mean(values)\n",
    "        #print(value)\n",
    "        WMD.append(value)\n",
    "    \n",
    "    #px.line([np.mean(WMD[:i]) for i in range(1, len(WMD))]).show()\n",
    "    print(np.mean(WMD))\n",
    "    \n",
    "    return np.mean(WMD)"
   ]
  },
  {
   "cell_type": "markdown",
   "metadata": {},
   "source": [
    "### 1) Pietraszewski"
   ]
  },
  {
   "cell_type": "code",
   "execution_count": 244,
   "metadata": {
    "scrolled": true
   },
   "outputs": [],
   "source": [
    "#L_pietraszewski = [calcule_WMD_intervalle_personnalise('laurent pietraszewski', i, i + 14) for i in range(0, 1094, 14)]\n",
    "#pd.DataFrame(L_pietraszewski, [i for i in range(0, 1094, 14)]).to_csv('results/WMDinter_temporel_pietraszewski.csv')"
   ]
  },
  {
   "cell_type": "code",
   "execution_count": 242,
   "metadata": {},
   "outputs": [
    {
     "data": {
      "application/vnd.plotly.v1+json": {
       "config": {
        "plotlyServerURL": "https://plot.ly"
       },
       "data": [
        {
         "hovertemplate": "variable=0<br>index=%{x}<br>value=%{y}<extra></extra>",
         "legendgroup": "0",
         "line": {
          "color": "#636efa",
          "dash": "solid"
         },
         "mode": "lines",
         "name": "0",
         "orientation": "v",
         "showlegend": true,
         "type": "scatter",
         "x": [
          0,
          1,
          2,
          3,
          4,
          5,
          6,
          7,
          8,
          9,
          10,
          11,
          12,
          13,
          14,
          15,
          16,
          17,
          18,
          19,
          20,
          21,
          22,
          23,
          24,
          25,
          26,
          27,
          28,
          29,
          30,
          31,
          32,
          33,
          34,
          35,
          36,
          37,
          38,
          39,
          40,
          41,
          42,
          43,
          44,
          45,
          46,
          47,
          48,
          49,
          50,
          51,
          52,
          53,
          54,
          55,
          56,
          57,
          58,
          59,
          60,
          61,
          62,
          63,
          64,
          65,
          66,
          67,
          68,
          69,
          70,
          71,
          72,
          73,
          74,
          75,
          76,
          77
         ],
         "xaxis": "x",
         "y": [
          1.517270620908624,
          1.5162671620910677,
          1.5184360805353796,
          1.5158354155040688,
          1.5142750164852823,
          1.5132347504727577,
          1.5131069077742523,
          1.5127836376411066,
          1.513034146225844,
          1.5121832911894266,
          1.5116848156136742,
          1.5110208487041368,
          1.5102489943789066,
          1.5095874049572806,
          1.5087445199993836,
          1.5073202318842556,
          1.5073959837347664,
          1.5062758572076431,
          1.5057078971136346,
          1.5053001149865446,
          1.5050635384856133,
          1.504849830488483,
          1.5044864325209748,
          1.5046265255961613,
          1.5047494783756823,
          1.5048539610449496,
          1.504858365456437,
          1.5054020406621038,
          1.5049818085871463,
          1.5045895919838523,
          1.5042226796775453,
          1.5041943662193902,
          1.5044511663262854,
          1.504583593997319,
          1.5045431226943529,
          1.504662029466781,
          1.504726083941998,
          1.5046427763364996,
          1.5047773368744164,
          1.5049051693854374,
          1.5050752020652043,
          1.505002547836936,
          1.504686184677086,
          1.5042917135847227,
          1.5043797903345602,
          1.5040812793274032,
          1.5040844404125862,
          1.5035916509080784,
          1.5034319756577323,
          1.5035565252133438,
          1.503672323781469,
          1.5035522196689715,
          1.5033652592354712,
          1.5032193940478469,
          1.5030788330488636,
          1.5029432920855577,
          1.502812506945526,
          1.5027052839219661,
          1.5026067183322744,
          1.5025997109752567,
          1.5027814864360531,
          1.5027105120980304,
          1.5026735830801667,
          1.5027052422684126,
          1.5025315571315256,
          1.5022515024845775,
          1.5022769516606782,
          1.502299286238953,
          1.5023226196338637,
          1.5026158290300067,
          1.502655295078214,
          1.5025803116047536,
          1.5025073824730315,
          1.5025616018873371,
          1.5026133151421712,
          1.5026092971562512,
          1.5027138949983603,
          1.502872032513667
         ],
         "yaxis": "y"
        }
       ],
       "layout": {
        "legend": {
         "title": {
          "text": "variable"
         },
         "tracegroupgap": 0
        },
        "margin": {
         "t": 60
        },
        "template": {
         "data": {
          "bar": [
           {
            "error_x": {
             "color": "#2a3f5f"
            },
            "error_y": {
             "color": "#2a3f5f"
            },
            "marker": {
             "line": {
              "color": "#E5ECF6",
              "width": 0.5
             }
            },
            "type": "bar"
           }
          ],
          "barpolar": [
           {
            "marker": {
             "line": {
              "color": "#E5ECF6",
              "width": 0.5
             }
            },
            "type": "barpolar"
           }
          ],
          "carpet": [
           {
            "aaxis": {
             "endlinecolor": "#2a3f5f",
             "gridcolor": "white",
             "linecolor": "white",
             "minorgridcolor": "white",
             "startlinecolor": "#2a3f5f"
            },
            "baxis": {
             "endlinecolor": "#2a3f5f",
             "gridcolor": "white",
             "linecolor": "white",
             "minorgridcolor": "white",
             "startlinecolor": "#2a3f5f"
            },
            "type": "carpet"
           }
          ],
          "choropleth": [
           {
            "colorbar": {
             "outlinewidth": 0,
             "ticks": ""
            },
            "type": "choropleth"
           }
          ],
          "contour": [
           {
            "colorbar": {
             "outlinewidth": 0,
             "ticks": ""
            },
            "colorscale": [
             [
              0,
              "#0d0887"
             ],
             [
              0.1111111111111111,
              "#46039f"
             ],
             [
              0.2222222222222222,
              "#7201a8"
             ],
             [
              0.3333333333333333,
              "#9c179e"
             ],
             [
              0.4444444444444444,
              "#bd3786"
             ],
             [
              0.5555555555555556,
              "#d8576b"
             ],
             [
              0.6666666666666666,
              "#ed7953"
             ],
             [
              0.7777777777777778,
              "#fb9f3a"
             ],
             [
              0.8888888888888888,
              "#fdca26"
             ],
             [
              1,
              "#f0f921"
             ]
            ],
            "type": "contour"
           }
          ],
          "contourcarpet": [
           {
            "colorbar": {
             "outlinewidth": 0,
             "ticks": ""
            },
            "type": "contourcarpet"
           }
          ],
          "heatmap": [
           {
            "colorbar": {
             "outlinewidth": 0,
             "ticks": ""
            },
            "colorscale": [
             [
              0,
              "#0d0887"
             ],
             [
              0.1111111111111111,
              "#46039f"
             ],
             [
              0.2222222222222222,
              "#7201a8"
             ],
             [
              0.3333333333333333,
              "#9c179e"
             ],
             [
              0.4444444444444444,
              "#bd3786"
             ],
             [
              0.5555555555555556,
              "#d8576b"
             ],
             [
              0.6666666666666666,
              "#ed7953"
             ],
             [
              0.7777777777777778,
              "#fb9f3a"
             ],
             [
              0.8888888888888888,
              "#fdca26"
             ],
             [
              1,
              "#f0f921"
             ]
            ],
            "type": "heatmap"
           }
          ],
          "heatmapgl": [
           {
            "colorbar": {
             "outlinewidth": 0,
             "ticks": ""
            },
            "colorscale": [
             [
              0,
              "#0d0887"
             ],
             [
              0.1111111111111111,
              "#46039f"
             ],
             [
              0.2222222222222222,
              "#7201a8"
             ],
             [
              0.3333333333333333,
              "#9c179e"
             ],
             [
              0.4444444444444444,
              "#bd3786"
             ],
             [
              0.5555555555555556,
              "#d8576b"
             ],
             [
              0.6666666666666666,
              "#ed7953"
             ],
             [
              0.7777777777777778,
              "#fb9f3a"
             ],
             [
              0.8888888888888888,
              "#fdca26"
             ],
             [
              1,
              "#f0f921"
             ]
            ],
            "type": "heatmapgl"
           }
          ],
          "histogram": [
           {
            "marker": {
             "colorbar": {
              "outlinewidth": 0,
              "ticks": ""
             }
            },
            "type": "histogram"
           }
          ],
          "histogram2d": [
           {
            "colorbar": {
             "outlinewidth": 0,
             "ticks": ""
            },
            "colorscale": [
             [
              0,
              "#0d0887"
             ],
             [
              0.1111111111111111,
              "#46039f"
             ],
             [
              0.2222222222222222,
              "#7201a8"
             ],
             [
              0.3333333333333333,
              "#9c179e"
             ],
             [
              0.4444444444444444,
              "#bd3786"
             ],
             [
              0.5555555555555556,
              "#d8576b"
             ],
             [
              0.6666666666666666,
              "#ed7953"
             ],
             [
              0.7777777777777778,
              "#fb9f3a"
             ],
             [
              0.8888888888888888,
              "#fdca26"
             ],
             [
              1,
              "#f0f921"
             ]
            ],
            "type": "histogram2d"
           }
          ],
          "histogram2dcontour": [
           {
            "colorbar": {
             "outlinewidth": 0,
             "ticks": ""
            },
            "colorscale": [
             [
              0,
              "#0d0887"
             ],
             [
              0.1111111111111111,
              "#46039f"
             ],
             [
              0.2222222222222222,
              "#7201a8"
             ],
             [
              0.3333333333333333,
              "#9c179e"
             ],
             [
              0.4444444444444444,
              "#bd3786"
             ],
             [
              0.5555555555555556,
              "#d8576b"
             ],
             [
              0.6666666666666666,
              "#ed7953"
             ],
             [
              0.7777777777777778,
              "#fb9f3a"
             ],
             [
              0.8888888888888888,
              "#fdca26"
             ],
             [
              1,
              "#f0f921"
             ]
            ],
            "type": "histogram2dcontour"
           }
          ],
          "mesh3d": [
           {
            "colorbar": {
             "outlinewidth": 0,
             "ticks": ""
            },
            "type": "mesh3d"
           }
          ],
          "parcoords": [
           {
            "line": {
             "colorbar": {
              "outlinewidth": 0,
              "ticks": ""
             }
            },
            "type": "parcoords"
           }
          ],
          "pie": [
           {
            "automargin": true,
            "type": "pie"
           }
          ],
          "scatter": [
           {
            "marker": {
             "colorbar": {
              "outlinewidth": 0,
              "ticks": ""
             }
            },
            "type": "scatter"
           }
          ],
          "scatter3d": [
           {
            "line": {
             "colorbar": {
              "outlinewidth": 0,
              "ticks": ""
             }
            },
            "marker": {
             "colorbar": {
              "outlinewidth": 0,
              "ticks": ""
             }
            },
            "type": "scatter3d"
           }
          ],
          "scattercarpet": [
           {
            "marker": {
             "colorbar": {
              "outlinewidth": 0,
              "ticks": ""
             }
            },
            "type": "scattercarpet"
           }
          ],
          "scattergeo": [
           {
            "marker": {
             "colorbar": {
              "outlinewidth": 0,
              "ticks": ""
             }
            },
            "type": "scattergeo"
           }
          ],
          "scattergl": [
           {
            "marker": {
             "colorbar": {
              "outlinewidth": 0,
              "ticks": ""
             }
            },
            "type": "scattergl"
           }
          ],
          "scattermapbox": [
           {
            "marker": {
             "colorbar": {
              "outlinewidth": 0,
              "ticks": ""
             }
            },
            "type": "scattermapbox"
           }
          ],
          "scatterpolar": [
           {
            "marker": {
             "colorbar": {
              "outlinewidth": 0,
              "ticks": ""
             }
            },
            "type": "scatterpolar"
           }
          ],
          "scatterpolargl": [
           {
            "marker": {
             "colorbar": {
              "outlinewidth": 0,
              "ticks": ""
             }
            },
            "type": "scatterpolargl"
           }
          ],
          "scatterternary": [
           {
            "marker": {
             "colorbar": {
              "outlinewidth": 0,
              "ticks": ""
             }
            },
            "type": "scatterternary"
           }
          ],
          "surface": [
           {
            "colorbar": {
             "outlinewidth": 0,
             "ticks": ""
            },
            "colorscale": [
             [
              0,
              "#0d0887"
             ],
             [
              0.1111111111111111,
              "#46039f"
             ],
             [
              0.2222222222222222,
              "#7201a8"
             ],
             [
              0.3333333333333333,
              "#9c179e"
             ],
             [
              0.4444444444444444,
              "#bd3786"
             ],
             [
              0.5555555555555556,
              "#d8576b"
             ],
             [
              0.6666666666666666,
              "#ed7953"
             ],
             [
              0.7777777777777778,
              "#fb9f3a"
             ],
             [
              0.8888888888888888,
              "#fdca26"
             ],
             [
              1,
              "#f0f921"
             ]
            ],
            "type": "surface"
           }
          ],
          "table": [
           {
            "cells": {
             "fill": {
              "color": "#EBF0F8"
             },
             "line": {
              "color": "white"
             }
            },
            "header": {
             "fill": {
              "color": "#C8D4E3"
             },
             "line": {
              "color": "white"
             }
            },
            "type": "table"
           }
          ]
         },
         "layout": {
          "annotationdefaults": {
           "arrowcolor": "#2a3f5f",
           "arrowhead": 0,
           "arrowwidth": 1
          },
          "autotypenumbers": "strict",
          "coloraxis": {
           "colorbar": {
            "outlinewidth": 0,
            "ticks": ""
           }
          },
          "colorscale": {
           "diverging": [
            [
             0,
             "#8e0152"
            ],
            [
             0.1,
             "#c51b7d"
            ],
            [
             0.2,
             "#de77ae"
            ],
            [
             0.3,
             "#f1b6da"
            ],
            [
             0.4,
             "#fde0ef"
            ],
            [
             0.5,
             "#f7f7f7"
            ],
            [
             0.6,
             "#e6f5d0"
            ],
            [
             0.7,
             "#b8e186"
            ],
            [
             0.8,
             "#7fbc41"
            ],
            [
             0.9,
             "#4d9221"
            ],
            [
             1,
             "#276419"
            ]
           ],
           "sequential": [
            [
             0,
             "#0d0887"
            ],
            [
             0.1111111111111111,
             "#46039f"
            ],
            [
             0.2222222222222222,
             "#7201a8"
            ],
            [
             0.3333333333333333,
             "#9c179e"
            ],
            [
             0.4444444444444444,
             "#bd3786"
            ],
            [
             0.5555555555555556,
             "#d8576b"
            ],
            [
             0.6666666666666666,
             "#ed7953"
            ],
            [
             0.7777777777777778,
             "#fb9f3a"
            ],
            [
             0.8888888888888888,
             "#fdca26"
            ],
            [
             1,
             "#f0f921"
            ]
           ],
           "sequentialminus": [
            [
             0,
             "#0d0887"
            ],
            [
             0.1111111111111111,
             "#46039f"
            ],
            [
             0.2222222222222222,
             "#7201a8"
            ],
            [
             0.3333333333333333,
             "#9c179e"
            ],
            [
             0.4444444444444444,
             "#bd3786"
            ],
            [
             0.5555555555555556,
             "#d8576b"
            ],
            [
             0.6666666666666666,
             "#ed7953"
            ],
            [
             0.7777777777777778,
             "#fb9f3a"
            ],
            [
             0.8888888888888888,
             "#fdca26"
            ],
            [
             1,
             "#f0f921"
            ]
           ]
          },
          "colorway": [
           "#636efa",
           "#EF553B",
           "#00cc96",
           "#ab63fa",
           "#FFA15A",
           "#19d3f3",
           "#FF6692",
           "#B6E880",
           "#FF97FF",
           "#FECB52"
          ],
          "font": {
           "color": "#2a3f5f"
          },
          "geo": {
           "bgcolor": "white",
           "lakecolor": "white",
           "landcolor": "#E5ECF6",
           "showlakes": true,
           "showland": true,
           "subunitcolor": "white"
          },
          "hoverlabel": {
           "align": "left"
          },
          "hovermode": "closest",
          "mapbox": {
           "style": "light"
          },
          "paper_bgcolor": "white",
          "plot_bgcolor": "#E5ECF6",
          "polar": {
           "angularaxis": {
            "gridcolor": "white",
            "linecolor": "white",
            "ticks": ""
           },
           "bgcolor": "#E5ECF6",
           "radialaxis": {
            "gridcolor": "white",
            "linecolor": "white",
            "ticks": ""
           }
          },
          "scene": {
           "xaxis": {
            "backgroundcolor": "#E5ECF6",
            "gridcolor": "white",
            "gridwidth": 2,
            "linecolor": "white",
            "showbackground": true,
            "ticks": "",
            "zerolinecolor": "white"
           },
           "yaxis": {
            "backgroundcolor": "#E5ECF6",
            "gridcolor": "white",
            "gridwidth": 2,
            "linecolor": "white",
            "showbackground": true,
            "ticks": "",
            "zerolinecolor": "white"
           },
           "zaxis": {
            "backgroundcolor": "#E5ECF6",
            "gridcolor": "white",
            "gridwidth": 2,
            "linecolor": "white",
            "showbackground": true,
            "ticks": "",
            "zerolinecolor": "white"
           }
          },
          "shapedefaults": {
           "line": {
            "color": "#2a3f5f"
           }
          },
          "ternary": {
           "aaxis": {
            "gridcolor": "white",
            "linecolor": "white",
            "ticks": ""
           },
           "baxis": {
            "gridcolor": "white",
            "linecolor": "white",
            "ticks": ""
           },
           "bgcolor": "#E5ECF6",
           "caxis": {
            "gridcolor": "white",
            "linecolor": "white",
            "ticks": ""
           }
          },
          "title": {
           "x": 0.05
          },
          "xaxis": {
           "automargin": true,
           "gridcolor": "white",
           "linecolor": "white",
           "ticks": "",
           "title": {
            "standoff": 15
           },
           "zerolinecolor": "white",
           "zerolinewidth": 2
          },
          "yaxis": {
           "automargin": true,
           "gridcolor": "white",
           "linecolor": "white",
           "ticks": "",
           "title": {
            "standoff": 15
           },
           "zerolinecolor": "white",
           "zerolinewidth": 2
          }
         }
        },
        "xaxis": {
         "anchor": "y",
         "domain": [
          0,
          1
         ],
         "title": {
          "text": "index"
         }
        },
        "yaxis": {
         "anchor": "x",
         "domain": [
          0,
          1
         ],
         "title": {
          "text": "value"
         }
        }
       }
      },
      "text/html": [
       "<div>                            <div id=\"73558d06-edd1-4eda-bdba-a942ac055243\" class=\"plotly-graph-div\" style=\"height:525px; width:100%;\"></div>            <script type=\"text/javascript\">                require([\"plotly\"], function(Plotly) {                    window.PLOTLYENV=window.PLOTLYENV || {};                                    if (document.getElementById(\"73558d06-edd1-4eda-bdba-a942ac055243\")) {                    Plotly.newPlot(                        \"73558d06-edd1-4eda-bdba-a942ac055243\",                        [{\"hovertemplate\": \"variable=0<br>index=%{x}<br>value=%{y}<extra></extra>\", \"legendgroup\": \"0\", \"line\": {\"color\": \"#636efa\", \"dash\": \"solid\"}, \"mode\": \"lines\", \"name\": \"0\", \"orientation\": \"v\", \"showlegend\": true, \"type\": \"scatter\", \"x\": [0, 1, 2, 3, 4, 5, 6, 7, 8, 9, 10, 11, 12, 13, 14, 15, 16, 17, 18, 19, 20, 21, 22, 23, 24, 25, 26, 27, 28, 29, 30, 31, 32, 33, 34, 35, 36, 37, 38, 39, 40, 41, 42, 43, 44, 45, 46, 47, 48, 49, 50, 51, 52, 53, 54, 55, 56, 57, 58, 59, 60, 61, 62, 63, 64, 65, 66, 67, 68, 69, 70, 71, 72, 73, 74, 75, 76, 77], \"xaxis\": \"x\", \"y\": [1.517270620908624, 1.5162671620910677, 1.5184360805353796, 1.5158354155040688, 1.5142750164852823, 1.5132347504727577, 1.5131069077742523, 1.5127836376411066, 1.513034146225844, 1.5121832911894266, 1.5116848156136742, 1.5110208487041368, 1.5102489943789066, 1.5095874049572806, 1.5087445199993836, 1.5073202318842556, 1.5073959837347664, 1.5062758572076431, 1.5057078971136346, 1.5053001149865446, 1.5050635384856133, 1.504849830488483, 1.5044864325209748, 1.5046265255961613, 1.5047494783756823, 1.5048539610449496, 1.504858365456437, 1.5054020406621038, 1.5049818085871463, 1.5045895919838523, 1.5042226796775453, 1.5041943662193902, 1.5044511663262854, 1.504583593997319, 1.5045431226943529, 1.504662029466781, 1.504726083941998, 1.5046427763364996, 1.5047773368744164, 1.5049051693854374, 1.5050752020652043, 1.505002547836936, 1.504686184677086, 1.5042917135847227, 1.5043797903345602, 1.5040812793274032, 1.5040844404125862, 1.5035916509080784, 1.5034319756577323, 1.5035565252133438, 1.503672323781469, 1.5035522196689715, 1.5033652592354712, 1.5032193940478469, 1.5030788330488636, 1.5029432920855577, 1.502812506945526, 1.5027052839219661, 1.5026067183322744, 1.5025997109752567, 1.5027814864360531, 1.5027105120980304, 1.5026735830801667, 1.5027052422684126, 1.5025315571315256, 1.5022515024845775, 1.5022769516606782, 1.502299286238953, 1.5023226196338637, 1.5026158290300067, 1.502655295078214, 1.5025803116047536, 1.5025073824730315, 1.5025616018873371, 1.5026133151421712, 1.5026092971562512, 1.5027138949983603, 1.502872032513667], \"yaxis\": \"y\"}],                        {\"legend\": {\"title\": {\"text\": \"variable\"}, \"tracegroupgap\": 0}, \"margin\": {\"t\": 60}, \"template\": {\"data\": {\"bar\": [{\"error_x\": {\"color\": \"#2a3f5f\"}, \"error_y\": {\"color\": \"#2a3f5f\"}, \"marker\": {\"line\": {\"color\": \"#E5ECF6\", \"width\": 0.5}}, \"type\": \"bar\"}], \"barpolar\": [{\"marker\": {\"line\": {\"color\": \"#E5ECF6\", \"width\": 0.5}}, \"type\": \"barpolar\"}], \"carpet\": [{\"aaxis\": {\"endlinecolor\": \"#2a3f5f\", \"gridcolor\": \"white\", \"linecolor\": \"white\", \"minorgridcolor\": \"white\", \"startlinecolor\": \"#2a3f5f\"}, \"baxis\": {\"endlinecolor\": \"#2a3f5f\", \"gridcolor\": \"white\", \"linecolor\": \"white\", \"minorgridcolor\": \"white\", \"startlinecolor\": \"#2a3f5f\"}, \"type\": \"carpet\"}], \"choropleth\": [{\"colorbar\": {\"outlinewidth\": 0, \"ticks\": \"\"}, \"type\": \"choropleth\"}], \"contour\": [{\"colorbar\": {\"outlinewidth\": 0, \"ticks\": \"\"}, \"colorscale\": [[0.0, \"#0d0887\"], [0.1111111111111111, \"#46039f\"], [0.2222222222222222, \"#7201a8\"], [0.3333333333333333, \"#9c179e\"], [0.4444444444444444, \"#bd3786\"], [0.5555555555555556, \"#d8576b\"], [0.6666666666666666, \"#ed7953\"], [0.7777777777777778, \"#fb9f3a\"], [0.8888888888888888, \"#fdca26\"], [1.0, \"#f0f921\"]], \"type\": \"contour\"}], \"contourcarpet\": [{\"colorbar\": {\"outlinewidth\": 0, \"ticks\": \"\"}, \"type\": \"contourcarpet\"}], \"heatmap\": [{\"colorbar\": {\"outlinewidth\": 0, \"ticks\": \"\"}, \"colorscale\": [[0.0, \"#0d0887\"], [0.1111111111111111, \"#46039f\"], [0.2222222222222222, \"#7201a8\"], [0.3333333333333333, \"#9c179e\"], [0.4444444444444444, \"#bd3786\"], [0.5555555555555556, \"#d8576b\"], [0.6666666666666666, \"#ed7953\"], [0.7777777777777778, \"#fb9f3a\"], [0.8888888888888888, \"#fdca26\"], [1.0, \"#f0f921\"]], \"type\": \"heatmap\"}], \"heatmapgl\": [{\"colorbar\": {\"outlinewidth\": 0, \"ticks\": \"\"}, \"colorscale\": [[0.0, \"#0d0887\"], [0.1111111111111111, \"#46039f\"], [0.2222222222222222, \"#7201a8\"], [0.3333333333333333, \"#9c179e\"], [0.4444444444444444, \"#bd3786\"], [0.5555555555555556, \"#d8576b\"], [0.6666666666666666, \"#ed7953\"], [0.7777777777777778, \"#fb9f3a\"], [0.8888888888888888, \"#fdca26\"], [1.0, \"#f0f921\"]], \"type\": \"heatmapgl\"}], \"histogram\": [{\"marker\": {\"colorbar\": {\"outlinewidth\": 0, \"ticks\": \"\"}}, \"type\": \"histogram\"}], \"histogram2d\": [{\"colorbar\": {\"outlinewidth\": 0, \"ticks\": \"\"}, \"colorscale\": [[0.0, \"#0d0887\"], [0.1111111111111111, \"#46039f\"], [0.2222222222222222, \"#7201a8\"], [0.3333333333333333, \"#9c179e\"], [0.4444444444444444, \"#bd3786\"], [0.5555555555555556, \"#d8576b\"], [0.6666666666666666, \"#ed7953\"], [0.7777777777777778, \"#fb9f3a\"], [0.8888888888888888, \"#fdca26\"], [1.0, \"#f0f921\"]], \"type\": \"histogram2d\"}], \"histogram2dcontour\": [{\"colorbar\": {\"outlinewidth\": 0, \"ticks\": \"\"}, \"colorscale\": [[0.0, \"#0d0887\"], [0.1111111111111111, \"#46039f\"], [0.2222222222222222, \"#7201a8\"], [0.3333333333333333, \"#9c179e\"], [0.4444444444444444, \"#bd3786\"], [0.5555555555555556, \"#d8576b\"], [0.6666666666666666, \"#ed7953\"], [0.7777777777777778, \"#fb9f3a\"], [0.8888888888888888, \"#fdca26\"], [1.0, \"#f0f921\"]], \"type\": \"histogram2dcontour\"}], \"mesh3d\": [{\"colorbar\": {\"outlinewidth\": 0, \"ticks\": \"\"}, \"type\": \"mesh3d\"}], \"parcoords\": [{\"line\": {\"colorbar\": {\"outlinewidth\": 0, \"ticks\": \"\"}}, \"type\": \"parcoords\"}], \"pie\": [{\"automargin\": true, \"type\": \"pie\"}], \"scatter\": [{\"marker\": {\"colorbar\": {\"outlinewidth\": 0, \"ticks\": \"\"}}, \"type\": \"scatter\"}], \"scatter3d\": [{\"line\": {\"colorbar\": {\"outlinewidth\": 0, \"ticks\": \"\"}}, \"marker\": {\"colorbar\": {\"outlinewidth\": 0, \"ticks\": \"\"}}, \"type\": \"scatter3d\"}], \"scattercarpet\": [{\"marker\": {\"colorbar\": {\"outlinewidth\": 0, \"ticks\": \"\"}}, \"type\": \"scattercarpet\"}], \"scattergeo\": [{\"marker\": {\"colorbar\": {\"outlinewidth\": 0, \"ticks\": \"\"}}, \"type\": \"scattergeo\"}], \"scattergl\": [{\"marker\": {\"colorbar\": {\"outlinewidth\": 0, \"ticks\": \"\"}}, \"type\": \"scattergl\"}], \"scattermapbox\": [{\"marker\": {\"colorbar\": {\"outlinewidth\": 0, \"ticks\": \"\"}}, \"type\": \"scattermapbox\"}], \"scatterpolar\": [{\"marker\": {\"colorbar\": {\"outlinewidth\": 0, \"ticks\": \"\"}}, \"type\": \"scatterpolar\"}], \"scatterpolargl\": [{\"marker\": {\"colorbar\": {\"outlinewidth\": 0, \"ticks\": \"\"}}, \"type\": \"scatterpolargl\"}], \"scatterternary\": [{\"marker\": {\"colorbar\": {\"outlinewidth\": 0, \"ticks\": \"\"}}, \"type\": \"scatterternary\"}], \"surface\": [{\"colorbar\": {\"outlinewidth\": 0, \"ticks\": \"\"}, \"colorscale\": [[0.0, \"#0d0887\"], [0.1111111111111111, \"#46039f\"], [0.2222222222222222, \"#7201a8\"], [0.3333333333333333, \"#9c179e\"], [0.4444444444444444, \"#bd3786\"], [0.5555555555555556, \"#d8576b\"], [0.6666666666666666, \"#ed7953\"], [0.7777777777777778, \"#fb9f3a\"], [0.8888888888888888, \"#fdca26\"], [1.0, \"#f0f921\"]], \"type\": \"surface\"}], \"table\": [{\"cells\": {\"fill\": {\"color\": \"#EBF0F8\"}, \"line\": {\"color\": \"white\"}}, \"header\": {\"fill\": {\"color\": \"#C8D4E3\"}, \"line\": {\"color\": \"white\"}}, \"type\": \"table\"}]}, \"layout\": {\"annotationdefaults\": {\"arrowcolor\": \"#2a3f5f\", \"arrowhead\": 0, \"arrowwidth\": 1}, \"autotypenumbers\": \"strict\", \"coloraxis\": {\"colorbar\": {\"outlinewidth\": 0, \"ticks\": \"\"}}, \"colorscale\": {\"diverging\": [[0, \"#8e0152\"], [0.1, \"#c51b7d\"], [0.2, \"#de77ae\"], [0.3, \"#f1b6da\"], [0.4, \"#fde0ef\"], [0.5, \"#f7f7f7\"], [0.6, \"#e6f5d0\"], [0.7, \"#b8e186\"], [0.8, \"#7fbc41\"], [0.9, \"#4d9221\"], [1, \"#276419\"]], \"sequential\": [[0.0, \"#0d0887\"], [0.1111111111111111, \"#46039f\"], [0.2222222222222222, \"#7201a8\"], [0.3333333333333333, \"#9c179e\"], [0.4444444444444444, \"#bd3786\"], [0.5555555555555556, \"#d8576b\"], [0.6666666666666666, \"#ed7953\"], [0.7777777777777778, \"#fb9f3a\"], [0.8888888888888888, \"#fdca26\"], [1.0, \"#f0f921\"]], \"sequentialminus\": [[0.0, \"#0d0887\"], [0.1111111111111111, \"#46039f\"], [0.2222222222222222, \"#7201a8\"], [0.3333333333333333, \"#9c179e\"], [0.4444444444444444, \"#bd3786\"], [0.5555555555555556, \"#d8576b\"], [0.6666666666666666, \"#ed7953\"], [0.7777777777777778, \"#fb9f3a\"], [0.8888888888888888, \"#fdca26\"], [1.0, \"#f0f921\"]]}, \"colorway\": [\"#636efa\", \"#EF553B\", \"#00cc96\", \"#ab63fa\", \"#FFA15A\", \"#19d3f3\", \"#FF6692\", \"#B6E880\", \"#FF97FF\", \"#FECB52\"], \"font\": {\"color\": \"#2a3f5f\"}, \"geo\": {\"bgcolor\": \"white\", \"lakecolor\": \"white\", \"landcolor\": \"#E5ECF6\", \"showlakes\": true, \"showland\": true, \"subunitcolor\": \"white\"}, \"hoverlabel\": {\"align\": \"left\"}, \"hovermode\": \"closest\", \"mapbox\": {\"style\": \"light\"}, \"paper_bgcolor\": \"white\", \"plot_bgcolor\": \"#E5ECF6\", \"polar\": {\"angularaxis\": {\"gridcolor\": \"white\", \"linecolor\": \"white\", \"ticks\": \"\"}, \"bgcolor\": \"#E5ECF6\", \"radialaxis\": {\"gridcolor\": \"white\", \"linecolor\": \"white\", \"ticks\": \"\"}}, \"scene\": {\"xaxis\": {\"backgroundcolor\": \"#E5ECF6\", \"gridcolor\": \"white\", \"gridwidth\": 2, \"linecolor\": \"white\", \"showbackground\": true, \"ticks\": \"\", \"zerolinecolor\": \"white\"}, \"yaxis\": {\"backgroundcolor\": \"#E5ECF6\", \"gridcolor\": \"white\", \"gridwidth\": 2, \"linecolor\": \"white\", \"showbackground\": true, \"ticks\": \"\", \"zerolinecolor\": \"white\"}, \"zaxis\": {\"backgroundcolor\": \"#E5ECF6\", \"gridcolor\": \"white\", \"gridwidth\": 2, \"linecolor\": \"white\", \"showbackground\": true, \"ticks\": \"\", \"zerolinecolor\": \"white\"}}, \"shapedefaults\": {\"line\": {\"color\": \"#2a3f5f\"}}, \"ternary\": {\"aaxis\": {\"gridcolor\": \"white\", \"linecolor\": \"white\", \"ticks\": \"\"}, \"baxis\": {\"gridcolor\": \"white\", \"linecolor\": \"white\", \"ticks\": \"\"}, \"bgcolor\": \"#E5ECF6\", \"caxis\": {\"gridcolor\": \"white\", \"linecolor\": \"white\", \"ticks\": \"\"}}, \"title\": {\"x\": 0.05}, \"xaxis\": {\"automargin\": true, \"gridcolor\": \"white\", \"linecolor\": \"white\", \"ticks\": \"\", \"title\": {\"standoff\": 15}, \"zerolinecolor\": \"white\", \"zerolinewidth\": 2}, \"yaxis\": {\"automargin\": true, \"gridcolor\": \"white\", \"linecolor\": \"white\", \"ticks\": \"\", \"title\": {\"standoff\": 15}, \"zerolinecolor\": \"white\", \"zerolinewidth\": 2}}}, \"xaxis\": {\"anchor\": \"y\", \"domain\": [0.0, 1.0], \"title\": {\"text\": \"index\"}}, \"yaxis\": {\"anchor\": \"x\", \"domain\": [0.0, 1.0], \"title\": {\"text\": \"value\"}}},                        {\"responsive\": true}                    ).then(function(){\n",
       "                            \n",
       "var gd = document.getElementById('73558d06-edd1-4eda-bdba-a942ac055243');\n",
       "var x = new MutationObserver(function (mutations, observer) {{\n",
       "        var display = window.getComputedStyle(gd).display;\n",
       "        if (!display || display === 'none') {{\n",
       "            console.log([gd, 'removed!']);\n",
       "            Plotly.purge(gd);\n",
       "            observer.disconnect();\n",
       "        }}\n",
       "}});\n",
       "\n",
       "// Listen for the removal of the full notebook cells\n",
       "var notebookContainer = gd.closest('#notebook-container');\n",
       "if (notebookContainer) {{\n",
       "    x.observe(notebookContainer, {childList: true});\n",
       "}}\n",
       "\n",
       "// Listen for the clearing of the current output cell\n",
       "var outputEl = gd.closest('.output');\n",
       "if (outputEl) {{\n",
       "    x.observe(outputEl, {childList: true});\n",
       "}}\n",
       "\n",
       "                        })                };                });            </script>        </div>"
      ]
     },
     "metadata": {},
     "output_type": "display_data"
    }
   ],
   "source": [
    "px.line([np.mean(L_pietraszewski[:i]) for i in range(1,len(L_pietraszewski))])"
   ]
  },
  {
   "cell_type": "markdown",
   "metadata": {},
   "source": [
    "### 2) Ruffin"
   ]
  },
  {
   "cell_type": "code",
   "execution_count": 266,
   "metadata": {},
   "outputs": [],
   "source": [
    "#L_ruffin = [calcule_WMD_intervalle_personnalise('francois ruffin', i, i + 14) for i in range(0, 1094, 14)]\n",
    "#pd.DataFrame(L_ruffin, [i for i in range(0, 1094, 14)]).to_csv('results/WMDinter_temporel_ruffin.csv')"
   ]
  },
  {
   "cell_type": "code",
   "execution_count": 265,
   "metadata": {},
   "outputs": [
    {
     "data": {
      "application/vnd.plotly.v1+json": {
       "config": {
        "plotlyServerURL": "https://plot.ly"
       },
       "data": [
        {
         "hovertemplate": "variable=0<br>index=%{x}<br>value=%{y}<extra></extra>",
         "legendgroup": "0",
         "line": {
          "color": "#636efa",
          "dash": "solid"
         },
         "mode": "lines",
         "name": "0",
         "orientation": "v",
         "showlegend": true,
         "type": "scatter",
         "x": [
          0,
          1,
          2,
          3,
          4,
          5,
          6,
          7,
          8,
          9,
          10,
          11,
          12,
          13,
          14,
          15,
          16,
          17,
          18,
          19,
          20,
          21,
          22,
          23,
          24,
          25,
          26,
          27,
          28,
          29,
          30,
          31,
          32,
          33,
          34,
          35,
          36,
          37,
          38,
          39,
          40,
          41,
          42,
          43,
          44,
          45,
          46,
          47,
          48,
          49,
          50,
          51,
          52,
          53,
          54,
          55,
          56,
          57,
          58,
          59,
          60,
          61,
          62,
          63,
          64,
          65,
          66,
          67,
          68,
          69,
          70,
          71,
          72,
          73,
          74,
          75,
          76,
          77
         ],
         "xaxis": "x",
         "y": [
          1.5028292293122432,
          1.5052415328288449,
          1.5081311464531344,
          1.5075309291542065,
          1.5071707987748497,
          1.5069307118552784,
          1.5074716124819787,
          1.507539536268394,
          1.5074861392388699,
          1.5072687380211867,
          1.5065813513717294,
          1.5060180010106172,
          1.505395882601423,
          1.5048626382506853,
          1.5053194100416607,
          1.5051596816272261,
          1.5057954723607654,
          1.5044727673991396,
          1.504473297079331,
          1.5042417326250748,
          1.504192532442025,
          1.5043445446324946,
          1.5040655048045166,
          1.5039742574785209,
          1.5044049465048022,
          1.5043299868179338,
          1.5043547094434047,
          1.5046388786791067,
          1.5048940895575855,
          1.505132286377499,
          1.5053551156606437,
          1.505436960285315,
          1.5054696848157259,
          1.5053434304985789,
          1.5053325157965345,
          1.505263325380729,
          1.5052238214446951,
          1.5050160713021932,
          1.5051492620572662,
          1.5052757932745853,
          1.5053171799209217,
          1.5050398643704337,
          1.5049891681736045,
          1.5048098770641376,
          1.504798036418012,
          1.504817977418356,
          1.5047730472228995,
          1.5045895226703367,
          1.504406331059032,
          1.5044832656527323,
          1.5043469738486959,
          1.5043328781996104,
          1.5043906598035903,
          1.504278616703075,
          1.5041706478971237,
          1.504066535119956,
          1.5039660754226896,
          1.5036937586289076,
          1.5036998620989912,
          1.5039092478056468,
          1.5038299243273057,
          1.5037215414231946,
          1.5037538176250675,
          1.5037732451480967,
          1.5036437499057662,
          1.5033624562681034,
          1.503310424474619,
          1.5030188392218908,
          1.503072419149988,
          1.5033586270266461,
          1.5033259664044436,
          1.5032999689726099,
          1.5032746837991822,
          1.5031973597249562,
          1.5031671282484347,
          1.5030070671743354,
          1.5029736344516689,
          1.5029612756390989
         ],
         "yaxis": "y"
        }
       ],
       "layout": {
        "legend": {
         "title": {
          "text": "variable"
         },
         "tracegroupgap": 0
        },
        "margin": {
         "t": 60
        },
        "template": {
         "data": {
          "bar": [
           {
            "error_x": {
             "color": "#2a3f5f"
            },
            "error_y": {
             "color": "#2a3f5f"
            },
            "marker": {
             "line": {
              "color": "#E5ECF6",
              "width": 0.5
             }
            },
            "type": "bar"
           }
          ],
          "barpolar": [
           {
            "marker": {
             "line": {
              "color": "#E5ECF6",
              "width": 0.5
             }
            },
            "type": "barpolar"
           }
          ],
          "carpet": [
           {
            "aaxis": {
             "endlinecolor": "#2a3f5f",
             "gridcolor": "white",
             "linecolor": "white",
             "minorgridcolor": "white",
             "startlinecolor": "#2a3f5f"
            },
            "baxis": {
             "endlinecolor": "#2a3f5f",
             "gridcolor": "white",
             "linecolor": "white",
             "minorgridcolor": "white",
             "startlinecolor": "#2a3f5f"
            },
            "type": "carpet"
           }
          ],
          "choropleth": [
           {
            "colorbar": {
             "outlinewidth": 0,
             "ticks": ""
            },
            "type": "choropleth"
           }
          ],
          "contour": [
           {
            "colorbar": {
             "outlinewidth": 0,
             "ticks": ""
            },
            "colorscale": [
             [
              0,
              "#0d0887"
             ],
             [
              0.1111111111111111,
              "#46039f"
             ],
             [
              0.2222222222222222,
              "#7201a8"
             ],
             [
              0.3333333333333333,
              "#9c179e"
             ],
             [
              0.4444444444444444,
              "#bd3786"
             ],
             [
              0.5555555555555556,
              "#d8576b"
             ],
             [
              0.6666666666666666,
              "#ed7953"
             ],
             [
              0.7777777777777778,
              "#fb9f3a"
             ],
             [
              0.8888888888888888,
              "#fdca26"
             ],
             [
              1,
              "#f0f921"
             ]
            ],
            "type": "contour"
           }
          ],
          "contourcarpet": [
           {
            "colorbar": {
             "outlinewidth": 0,
             "ticks": ""
            },
            "type": "contourcarpet"
           }
          ],
          "heatmap": [
           {
            "colorbar": {
             "outlinewidth": 0,
             "ticks": ""
            },
            "colorscale": [
             [
              0,
              "#0d0887"
             ],
             [
              0.1111111111111111,
              "#46039f"
             ],
             [
              0.2222222222222222,
              "#7201a8"
             ],
             [
              0.3333333333333333,
              "#9c179e"
             ],
             [
              0.4444444444444444,
              "#bd3786"
             ],
             [
              0.5555555555555556,
              "#d8576b"
             ],
             [
              0.6666666666666666,
              "#ed7953"
             ],
             [
              0.7777777777777778,
              "#fb9f3a"
             ],
             [
              0.8888888888888888,
              "#fdca26"
             ],
             [
              1,
              "#f0f921"
             ]
            ],
            "type": "heatmap"
           }
          ],
          "heatmapgl": [
           {
            "colorbar": {
             "outlinewidth": 0,
             "ticks": ""
            },
            "colorscale": [
             [
              0,
              "#0d0887"
             ],
             [
              0.1111111111111111,
              "#46039f"
             ],
             [
              0.2222222222222222,
              "#7201a8"
             ],
             [
              0.3333333333333333,
              "#9c179e"
             ],
             [
              0.4444444444444444,
              "#bd3786"
             ],
             [
              0.5555555555555556,
              "#d8576b"
             ],
             [
              0.6666666666666666,
              "#ed7953"
             ],
             [
              0.7777777777777778,
              "#fb9f3a"
             ],
             [
              0.8888888888888888,
              "#fdca26"
             ],
             [
              1,
              "#f0f921"
             ]
            ],
            "type": "heatmapgl"
           }
          ],
          "histogram": [
           {
            "marker": {
             "colorbar": {
              "outlinewidth": 0,
              "ticks": ""
             }
            },
            "type": "histogram"
           }
          ],
          "histogram2d": [
           {
            "colorbar": {
             "outlinewidth": 0,
             "ticks": ""
            },
            "colorscale": [
             [
              0,
              "#0d0887"
             ],
             [
              0.1111111111111111,
              "#46039f"
             ],
             [
              0.2222222222222222,
              "#7201a8"
             ],
             [
              0.3333333333333333,
              "#9c179e"
             ],
             [
              0.4444444444444444,
              "#bd3786"
             ],
             [
              0.5555555555555556,
              "#d8576b"
             ],
             [
              0.6666666666666666,
              "#ed7953"
             ],
             [
              0.7777777777777778,
              "#fb9f3a"
             ],
             [
              0.8888888888888888,
              "#fdca26"
             ],
             [
              1,
              "#f0f921"
             ]
            ],
            "type": "histogram2d"
           }
          ],
          "histogram2dcontour": [
           {
            "colorbar": {
             "outlinewidth": 0,
             "ticks": ""
            },
            "colorscale": [
             [
              0,
              "#0d0887"
             ],
             [
              0.1111111111111111,
              "#46039f"
             ],
             [
              0.2222222222222222,
              "#7201a8"
             ],
             [
              0.3333333333333333,
              "#9c179e"
             ],
             [
              0.4444444444444444,
              "#bd3786"
             ],
             [
              0.5555555555555556,
              "#d8576b"
             ],
             [
              0.6666666666666666,
              "#ed7953"
             ],
             [
              0.7777777777777778,
              "#fb9f3a"
             ],
             [
              0.8888888888888888,
              "#fdca26"
             ],
             [
              1,
              "#f0f921"
             ]
            ],
            "type": "histogram2dcontour"
           }
          ],
          "mesh3d": [
           {
            "colorbar": {
             "outlinewidth": 0,
             "ticks": ""
            },
            "type": "mesh3d"
           }
          ],
          "parcoords": [
           {
            "line": {
             "colorbar": {
              "outlinewidth": 0,
              "ticks": ""
             }
            },
            "type": "parcoords"
           }
          ],
          "pie": [
           {
            "automargin": true,
            "type": "pie"
           }
          ],
          "scatter": [
           {
            "marker": {
             "colorbar": {
              "outlinewidth": 0,
              "ticks": ""
             }
            },
            "type": "scatter"
           }
          ],
          "scatter3d": [
           {
            "line": {
             "colorbar": {
              "outlinewidth": 0,
              "ticks": ""
             }
            },
            "marker": {
             "colorbar": {
              "outlinewidth": 0,
              "ticks": ""
             }
            },
            "type": "scatter3d"
           }
          ],
          "scattercarpet": [
           {
            "marker": {
             "colorbar": {
              "outlinewidth": 0,
              "ticks": ""
             }
            },
            "type": "scattercarpet"
           }
          ],
          "scattergeo": [
           {
            "marker": {
             "colorbar": {
              "outlinewidth": 0,
              "ticks": ""
             }
            },
            "type": "scattergeo"
           }
          ],
          "scattergl": [
           {
            "marker": {
             "colorbar": {
              "outlinewidth": 0,
              "ticks": ""
             }
            },
            "type": "scattergl"
           }
          ],
          "scattermapbox": [
           {
            "marker": {
             "colorbar": {
              "outlinewidth": 0,
              "ticks": ""
             }
            },
            "type": "scattermapbox"
           }
          ],
          "scatterpolar": [
           {
            "marker": {
             "colorbar": {
              "outlinewidth": 0,
              "ticks": ""
             }
            },
            "type": "scatterpolar"
           }
          ],
          "scatterpolargl": [
           {
            "marker": {
             "colorbar": {
              "outlinewidth": 0,
              "ticks": ""
             }
            },
            "type": "scatterpolargl"
           }
          ],
          "scatterternary": [
           {
            "marker": {
             "colorbar": {
              "outlinewidth": 0,
              "ticks": ""
             }
            },
            "type": "scatterternary"
           }
          ],
          "surface": [
           {
            "colorbar": {
             "outlinewidth": 0,
             "ticks": ""
            },
            "colorscale": [
             [
              0,
              "#0d0887"
             ],
             [
              0.1111111111111111,
              "#46039f"
             ],
             [
              0.2222222222222222,
              "#7201a8"
             ],
             [
              0.3333333333333333,
              "#9c179e"
             ],
             [
              0.4444444444444444,
              "#bd3786"
             ],
             [
              0.5555555555555556,
              "#d8576b"
             ],
             [
              0.6666666666666666,
              "#ed7953"
             ],
             [
              0.7777777777777778,
              "#fb9f3a"
             ],
             [
              0.8888888888888888,
              "#fdca26"
             ],
             [
              1,
              "#f0f921"
             ]
            ],
            "type": "surface"
           }
          ],
          "table": [
           {
            "cells": {
             "fill": {
              "color": "#EBF0F8"
             },
             "line": {
              "color": "white"
             }
            },
            "header": {
             "fill": {
              "color": "#C8D4E3"
             },
             "line": {
              "color": "white"
             }
            },
            "type": "table"
           }
          ]
         },
         "layout": {
          "annotationdefaults": {
           "arrowcolor": "#2a3f5f",
           "arrowhead": 0,
           "arrowwidth": 1
          },
          "autotypenumbers": "strict",
          "coloraxis": {
           "colorbar": {
            "outlinewidth": 0,
            "ticks": ""
           }
          },
          "colorscale": {
           "diverging": [
            [
             0,
             "#8e0152"
            ],
            [
             0.1,
             "#c51b7d"
            ],
            [
             0.2,
             "#de77ae"
            ],
            [
             0.3,
             "#f1b6da"
            ],
            [
             0.4,
             "#fde0ef"
            ],
            [
             0.5,
             "#f7f7f7"
            ],
            [
             0.6,
             "#e6f5d0"
            ],
            [
             0.7,
             "#b8e186"
            ],
            [
             0.8,
             "#7fbc41"
            ],
            [
             0.9,
             "#4d9221"
            ],
            [
             1,
             "#276419"
            ]
           ],
           "sequential": [
            [
             0,
             "#0d0887"
            ],
            [
             0.1111111111111111,
             "#46039f"
            ],
            [
             0.2222222222222222,
             "#7201a8"
            ],
            [
             0.3333333333333333,
             "#9c179e"
            ],
            [
             0.4444444444444444,
             "#bd3786"
            ],
            [
             0.5555555555555556,
             "#d8576b"
            ],
            [
             0.6666666666666666,
             "#ed7953"
            ],
            [
             0.7777777777777778,
             "#fb9f3a"
            ],
            [
             0.8888888888888888,
             "#fdca26"
            ],
            [
             1,
             "#f0f921"
            ]
           ],
           "sequentialminus": [
            [
             0,
             "#0d0887"
            ],
            [
             0.1111111111111111,
             "#46039f"
            ],
            [
             0.2222222222222222,
             "#7201a8"
            ],
            [
             0.3333333333333333,
             "#9c179e"
            ],
            [
             0.4444444444444444,
             "#bd3786"
            ],
            [
             0.5555555555555556,
             "#d8576b"
            ],
            [
             0.6666666666666666,
             "#ed7953"
            ],
            [
             0.7777777777777778,
             "#fb9f3a"
            ],
            [
             0.8888888888888888,
             "#fdca26"
            ],
            [
             1,
             "#f0f921"
            ]
           ]
          },
          "colorway": [
           "#636efa",
           "#EF553B",
           "#00cc96",
           "#ab63fa",
           "#FFA15A",
           "#19d3f3",
           "#FF6692",
           "#B6E880",
           "#FF97FF",
           "#FECB52"
          ],
          "font": {
           "color": "#2a3f5f"
          },
          "geo": {
           "bgcolor": "white",
           "lakecolor": "white",
           "landcolor": "#E5ECF6",
           "showlakes": true,
           "showland": true,
           "subunitcolor": "white"
          },
          "hoverlabel": {
           "align": "left"
          },
          "hovermode": "closest",
          "mapbox": {
           "style": "light"
          },
          "paper_bgcolor": "white",
          "plot_bgcolor": "#E5ECF6",
          "polar": {
           "angularaxis": {
            "gridcolor": "white",
            "linecolor": "white",
            "ticks": ""
           },
           "bgcolor": "#E5ECF6",
           "radialaxis": {
            "gridcolor": "white",
            "linecolor": "white",
            "ticks": ""
           }
          },
          "scene": {
           "xaxis": {
            "backgroundcolor": "#E5ECF6",
            "gridcolor": "white",
            "gridwidth": 2,
            "linecolor": "white",
            "showbackground": true,
            "ticks": "",
            "zerolinecolor": "white"
           },
           "yaxis": {
            "backgroundcolor": "#E5ECF6",
            "gridcolor": "white",
            "gridwidth": 2,
            "linecolor": "white",
            "showbackground": true,
            "ticks": "",
            "zerolinecolor": "white"
           },
           "zaxis": {
            "backgroundcolor": "#E5ECF6",
            "gridcolor": "white",
            "gridwidth": 2,
            "linecolor": "white",
            "showbackground": true,
            "ticks": "",
            "zerolinecolor": "white"
           }
          },
          "shapedefaults": {
           "line": {
            "color": "#2a3f5f"
           }
          },
          "ternary": {
           "aaxis": {
            "gridcolor": "white",
            "linecolor": "white",
            "ticks": ""
           },
           "baxis": {
            "gridcolor": "white",
            "linecolor": "white",
            "ticks": ""
           },
           "bgcolor": "#E5ECF6",
           "caxis": {
            "gridcolor": "white",
            "linecolor": "white",
            "ticks": ""
           }
          },
          "title": {
           "x": 0.05
          },
          "xaxis": {
           "automargin": true,
           "gridcolor": "white",
           "linecolor": "white",
           "ticks": "",
           "title": {
            "standoff": 15
           },
           "zerolinecolor": "white",
           "zerolinewidth": 2
          },
          "yaxis": {
           "automargin": true,
           "gridcolor": "white",
           "linecolor": "white",
           "ticks": "",
           "title": {
            "standoff": 15
           },
           "zerolinecolor": "white",
           "zerolinewidth": 2
          }
         }
        },
        "xaxis": {
         "anchor": "y",
         "domain": [
          0,
          1
         ],
         "title": {
          "text": "index"
         }
        },
        "yaxis": {
         "anchor": "x",
         "domain": [
          0,
          1
         ],
         "title": {
          "text": "value"
         }
        }
       }
      },
      "text/html": [
       "<div>                            <div id=\"61e8a83b-062b-4d5f-9ce0-d36619e911cf\" class=\"plotly-graph-div\" style=\"height:525px; width:100%;\"></div>            <script type=\"text/javascript\">                require([\"plotly\"], function(Plotly) {                    window.PLOTLYENV=window.PLOTLYENV || {};                                    if (document.getElementById(\"61e8a83b-062b-4d5f-9ce0-d36619e911cf\")) {                    Plotly.newPlot(                        \"61e8a83b-062b-4d5f-9ce0-d36619e911cf\",                        [{\"hovertemplate\": \"variable=0<br>index=%{x}<br>value=%{y}<extra></extra>\", \"legendgroup\": \"0\", \"line\": {\"color\": \"#636efa\", \"dash\": \"solid\"}, \"mode\": \"lines\", \"name\": \"0\", \"orientation\": \"v\", \"showlegend\": true, \"type\": \"scatter\", \"x\": [0, 1, 2, 3, 4, 5, 6, 7, 8, 9, 10, 11, 12, 13, 14, 15, 16, 17, 18, 19, 20, 21, 22, 23, 24, 25, 26, 27, 28, 29, 30, 31, 32, 33, 34, 35, 36, 37, 38, 39, 40, 41, 42, 43, 44, 45, 46, 47, 48, 49, 50, 51, 52, 53, 54, 55, 56, 57, 58, 59, 60, 61, 62, 63, 64, 65, 66, 67, 68, 69, 70, 71, 72, 73, 74, 75, 76, 77], \"xaxis\": \"x\", \"y\": [1.5028292293122432, 1.5052415328288449, 1.5081311464531344, 1.5075309291542065, 1.5071707987748497, 1.5069307118552784, 1.5074716124819787, 1.507539536268394, 1.5074861392388699, 1.5072687380211867, 1.5065813513717294, 1.5060180010106172, 1.505395882601423, 1.5048626382506853, 1.5053194100416607, 1.5051596816272261, 1.5057954723607654, 1.5044727673991396, 1.504473297079331, 1.5042417326250748, 1.504192532442025, 1.5043445446324946, 1.5040655048045166, 1.5039742574785209, 1.5044049465048022, 1.5043299868179338, 1.5043547094434047, 1.5046388786791067, 1.5048940895575855, 1.505132286377499, 1.5053551156606437, 1.505436960285315, 1.5054696848157259, 1.5053434304985789, 1.5053325157965345, 1.505263325380729, 1.5052238214446951, 1.5050160713021932, 1.5051492620572662, 1.5052757932745853, 1.5053171799209217, 1.5050398643704337, 1.5049891681736045, 1.5048098770641376, 1.504798036418012, 1.504817977418356, 1.5047730472228995, 1.5045895226703367, 1.504406331059032, 1.5044832656527323, 1.5043469738486959, 1.5043328781996104, 1.5043906598035903, 1.504278616703075, 1.5041706478971237, 1.504066535119956, 1.5039660754226896, 1.5036937586289076, 1.5036998620989912, 1.5039092478056468, 1.5038299243273057, 1.5037215414231946, 1.5037538176250675, 1.5037732451480967, 1.5036437499057662, 1.5033624562681034, 1.503310424474619, 1.5030188392218908, 1.503072419149988, 1.5033586270266461, 1.5033259664044436, 1.5032999689726099, 1.5032746837991822, 1.5031973597249562, 1.5031671282484347, 1.5030070671743354, 1.5029736344516689, 1.5029612756390989], \"yaxis\": \"y\"}],                        {\"legend\": {\"title\": {\"text\": \"variable\"}, \"tracegroupgap\": 0}, \"margin\": {\"t\": 60}, \"template\": {\"data\": {\"bar\": [{\"error_x\": {\"color\": \"#2a3f5f\"}, \"error_y\": {\"color\": \"#2a3f5f\"}, \"marker\": {\"line\": {\"color\": \"#E5ECF6\", \"width\": 0.5}}, \"type\": \"bar\"}], \"barpolar\": [{\"marker\": {\"line\": {\"color\": \"#E5ECF6\", \"width\": 0.5}}, \"type\": \"barpolar\"}], \"carpet\": [{\"aaxis\": {\"endlinecolor\": \"#2a3f5f\", \"gridcolor\": \"white\", \"linecolor\": \"white\", \"minorgridcolor\": \"white\", \"startlinecolor\": \"#2a3f5f\"}, \"baxis\": {\"endlinecolor\": \"#2a3f5f\", \"gridcolor\": \"white\", \"linecolor\": \"white\", \"minorgridcolor\": \"white\", \"startlinecolor\": \"#2a3f5f\"}, \"type\": \"carpet\"}], \"choropleth\": [{\"colorbar\": {\"outlinewidth\": 0, \"ticks\": \"\"}, \"type\": \"choropleth\"}], \"contour\": [{\"colorbar\": {\"outlinewidth\": 0, \"ticks\": \"\"}, \"colorscale\": [[0.0, \"#0d0887\"], [0.1111111111111111, \"#46039f\"], [0.2222222222222222, \"#7201a8\"], [0.3333333333333333, \"#9c179e\"], [0.4444444444444444, \"#bd3786\"], [0.5555555555555556, \"#d8576b\"], [0.6666666666666666, \"#ed7953\"], [0.7777777777777778, \"#fb9f3a\"], [0.8888888888888888, \"#fdca26\"], [1.0, \"#f0f921\"]], \"type\": \"contour\"}], \"contourcarpet\": [{\"colorbar\": {\"outlinewidth\": 0, \"ticks\": \"\"}, \"type\": \"contourcarpet\"}], \"heatmap\": [{\"colorbar\": {\"outlinewidth\": 0, \"ticks\": \"\"}, \"colorscale\": [[0.0, \"#0d0887\"], [0.1111111111111111, \"#46039f\"], [0.2222222222222222, \"#7201a8\"], [0.3333333333333333, \"#9c179e\"], [0.4444444444444444, \"#bd3786\"], [0.5555555555555556, \"#d8576b\"], [0.6666666666666666, \"#ed7953\"], [0.7777777777777778, \"#fb9f3a\"], [0.8888888888888888, \"#fdca26\"], [1.0, \"#f0f921\"]], \"type\": \"heatmap\"}], \"heatmapgl\": [{\"colorbar\": {\"outlinewidth\": 0, \"ticks\": \"\"}, \"colorscale\": [[0.0, \"#0d0887\"], [0.1111111111111111, \"#46039f\"], [0.2222222222222222, \"#7201a8\"], [0.3333333333333333, \"#9c179e\"], [0.4444444444444444, \"#bd3786\"], [0.5555555555555556, \"#d8576b\"], [0.6666666666666666, \"#ed7953\"], [0.7777777777777778, \"#fb9f3a\"], [0.8888888888888888, \"#fdca26\"], [1.0, \"#f0f921\"]], \"type\": \"heatmapgl\"}], \"histogram\": [{\"marker\": {\"colorbar\": {\"outlinewidth\": 0, \"ticks\": \"\"}}, \"type\": \"histogram\"}], \"histogram2d\": [{\"colorbar\": {\"outlinewidth\": 0, \"ticks\": \"\"}, \"colorscale\": [[0.0, \"#0d0887\"], [0.1111111111111111, \"#46039f\"], [0.2222222222222222, \"#7201a8\"], [0.3333333333333333, \"#9c179e\"], [0.4444444444444444, \"#bd3786\"], [0.5555555555555556, \"#d8576b\"], [0.6666666666666666, \"#ed7953\"], [0.7777777777777778, \"#fb9f3a\"], [0.8888888888888888, \"#fdca26\"], [1.0, \"#f0f921\"]], \"type\": \"histogram2d\"}], \"histogram2dcontour\": [{\"colorbar\": {\"outlinewidth\": 0, \"ticks\": \"\"}, \"colorscale\": [[0.0, \"#0d0887\"], [0.1111111111111111, \"#46039f\"], [0.2222222222222222, \"#7201a8\"], [0.3333333333333333, \"#9c179e\"], [0.4444444444444444, \"#bd3786\"], [0.5555555555555556, \"#d8576b\"], [0.6666666666666666, \"#ed7953\"], [0.7777777777777778, \"#fb9f3a\"], [0.8888888888888888, \"#fdca26\"], [1.0, \"#f0f921\"]], \"type\": \"histogram2dcontour\"}], \"mesh3d\": [{\"colorbar\": {\"outlinewidth\": 0, \"ticks\": \"\"}, \"type\": \"mesh3d\"}], \"parcoords\": [{\"line\": {\"colorbar\": {\"outlinewidth\": 0, \"ticks\": \"\"}}, \"type\": \"parcoords\"}], \"pie\": [{\"automargin\": true, \"type\": \"pie\"}], \"scatter\": [{\"marker\": {\"colorbar\": {\"outlinewidth\": 0, \"ticks\": \"\"}}, \"type\": \"scatter\"}], \"scatter3d\": [{\"line\": {\"colorbar\": {\"outlinewidth\": 0, \"ticks\": \"\"}}, \"marker\": {\"colorbar\": {\"outlinewidth\": 0, \"ticks\": \"\"}}, \"type\": \"scatter3d\"}], \"scattercarpet\": [{\"marker\": {\"colorbar\": {\"outlinewidth\": 0, \"ticks\": \"\"}}, \"type\": \"scattercarpet\"}], \"scattergeo\": [{\"marker\": {\"colorbar\": {\"outlinewidth\": 0, \"ticks\": \"\"}}, \"type\": \"scattergeo\"}], \"scattergl\": [{\"marker\": {\"colorbar\": {\"outlinewidth\": 0, \"ticks\": \"\"}}, \"type\": \"scattergl\"}], \"scattermapbox\": [{\"marker\": {\"colorbar\": {\"outlinewidth\": 0, \"ticks\": \"\"}}, \"type\": \"scattermapbox\"}], \"scatterpolar\": [{\"marker\": {\"colorbar\": {\"outlinewidth\": 0, \"ticks\": \"\"}}, \"type\": \"scatterpolar\"}], \"scatterpolargl\": [{\"marker\": {\"colorbar\": {\"outlinewidth\": 0, \"ticks\": \"\"}}, \"type\": \"scatterpolargl\"}], \"scatterternary\": [{\"marker\": {\"colorbar\": {\"outlinewidth\": 0, \"ticks\": \"\"}}, \"type\": \"scatterternary\"}], \"surface\": [{\"colorbar\": {\"outlinewidth\": 0, \"ticks\": \"\"}, \"colorscale\": [[0.0, \"#0d0887\"], [0.1111111111111111, \"#46039f\"], [0.2222222222222222, \"#7201a8\"], [0.3333333333333333, \"#9c179e\"], [0.4444444444444444, \"#bd3786\"], [0.5555555555555556, \"#d8576b\"], [0.6666666666666666, \"#ed7953\"], [0.7777777777777778, \"#fb9f3a\"], [0.8888888888888888, \"#fdca26\"], [1.0, \"#f0f921\"]], \"type\": \"surface\"}], \"table\": [{\"cells\": {\"fill\": {\"color\": \"#EBF0F8\"}, \"line\": {\"color\": \"white\"}}, \"header\": {\"fill\": {\"color\": \"#C8D4E3\"}, \"line\": {\"color\": \"white\"}}, \"type\": \"table\"}]}, \"layout\": {\"annotationdefaults\": {\"arrowcolor\": \"#2a3f5f\", \"arrowhead\": 0, \"arrowwidth\": 1}, \"autotypenumbers\": \"strict\", \"coloraxis\": {\"colorbar\": {\"outlinewidth\": 0, \"ticks\": \"\"}}, \"colorscale\": {\"diverging\": [[0, \"#8e0152\"], [0.1, \"#c51b7d\"], [0.2, \"#de77ae\"], [0.3, \"#f1b6da\"], [0.4, \"#fde0ef\"], [0.5, \"#f7f7f7\"], [0.6, \"#e6f5d0\"], [0.7, \"#b8e186\"], [0.8, \"#7fbc41\"], [0.9, \"#4d9221\"], [1, \"#276419\"]], \"sequential\": [[0.0, \"#0d0887\"], [0.1111111111111111, \"#46039f\"], [0.2222222222222222, \"#7201a8\"], [0.3333333333333333, \"#9c179e\"], [0.4444444444444444, \"#bd3786\"], [0.5555555555555556, \"#d8576b\"], [0.6666666666666666, \"#ed7953\"], [0.7777777777777778, \"#fb9f3a\"], [0.8888888888888888, \"#fdca26\"], [1.0, \"#f0f921\"]], \"sequentialminus\": [[0.0, \"#0d0887\"], [0.1111111111111111, \"#46039f\"], [0.2222222222222222, \"#7201a8\"], [0.3333333333333333, \"#9c179e\"], [0.4444444444444444, \"#bd3786\"], [0.5555555555555556, \"#d8576b\"], [0.6666666666666666, \"#ed7953\"], [0.7777777777777778, \"#fb9f3a\"], [0.8888888888888888, \"#fdca26\"], [1.0, \"#f0f921\"]]}, \"colorway\": [\"#636efa\", \"#EF553B\", \"#00cc96\", \"#ab63fa\", \"#FFA15A\", \"#19d3f3\", \"#FF6692\", \"#B6E880\", \"#FF97FF\", \"#FECB52\"], \"font\": {\"color\": \"#2a3f5f\"}, \"geo\": {\"bgcolor\": \"white\", \"lakecolor\": \"white\", \"landcolor\": \"#E5ECF6\", \"showlakes\": true, \"showland\": true, \"subunitcolor\": \"white\"}, \"hoverlabel\": {\"align\": \"left\"}, \"hovermode\": \"closest\", \"mapbox\": {\"style\": \"light\"}, \"paper_bgcolor\": \"white\", \"plot_bgcolor\": \"#E5ECF6\", \"polar\": {\"angularaxis\": {\"gridcolor\": \"white\", \"linecolor\": \"white\", \"ticks\": \"\"}, \"bgcolor\": \"#E5ECF6\", \"radialaxis\": {\"gridcolor\": \"white\", \"linecolor\": \"white\", \"ticks\": \"\"}}, \"scene\": {\"xaxis\": {\"backgroundcolor\": \"#E5ECF6\", \"gridcolor\": \"white\", \"gridwidth\": 2, \"linecolor\": \"white\", \"showbackground\": true, \"ticks\": \"\", \"zerolinecolor\": \"white\"}, \"yaxis\": {\"backgroundcolor\": \"#E5ECF6\", \"gridcolor\": \"white\", \"gridwidth\": 2, \"linecolor\": \"white\", \"showbackground\": true, \"ticks\": \"\", \"zerolinecolor\": \"white\"}, \"zaxis\": {\"backgroundcolor\": \"#E5ECF6\", \"gridcolor\": \"white\", \"gridwidth\": 2, \"linecolor\": \"white\", \"showbackground\": true, \"ticks\": \"\", \"zerolinecolor\": \"white\"}}, \"shapedefaults\": {\"line\": {\"color\": \"#2a3f5f\"}}, \"ternary\": {\"aaxis\": {\"gridcolor\": \"white\", \"linecolor\": \"white\", \"ticks\": \"\"}, \"baxis\": {\"gridcolor\": \"white\", \"linecolor\": \"white\", \"ticks\": \"\"}, \"bgcolor\": \"#E5ECF6\", \"caxis\": {\"gridcolor\": \"white\", \"linecolor\": \"white\", \"ticks\": \"\"}}, \"title\": {\"x\": 0.05}, \"xaxis\": {\"automargin\": true, \"gridcolor\": \"white\", \"linecolor\": \"white\", \"ticks\": \"\", \"title\": {\"standoff\": 15}, \"zerolinecolor\": \"white\", \"zerolinewidth\": 2}, \"yaxis\": {\"automargin\": true, \"gridcolor\": \"white\", \"linecolor\": \"white\", \"ticks\": \"\", \"title\": {\"standoff\": 15}, \"zerolinecolor\": \"white\", \"zerolinewidth\": 2}}}, \"xaxis\": {\"anchor\": \"y\", \"domain\": [0.0, 1.0], \"title\": {\"text\": \"index\"}}, \"yaxis\": {\"anchor\": \"x\", \"domain\": [0.0, 1.0], \"title\": {\"text\": \"value\"}}},                        {\"responsive\": true}                    ).then(function(){\n",
       "                            \n",
       "var gd = document.getElementById('61e8a83b-062b-4d5f-9ce0-d36619e911cf');\n",
       "var x = new MutationObserver(function (mutations, observer) {{\n",
       "        var display = window.getComputedStyle(gd).display;\n",
       "        if (!display || display === 'none') {{\n",
       "            console.log([gd, 'removed!']);\n",
       "            Plotly.purge(gd);\n",
       "            observer.disconnect();\n",
       "        }}\n",
       "}});\n",
       "\n",
       "// Listen for the removal of the full notebook cells\n",
       "var notebookContainer = gd.closest('#notebook-container');\n",
       "if (notebookContainer) {{\n",
       "    x.observe(notebookContainer, {childList: true});\n",
       "}}\n",
       "\n",
       "// Listen for the clearing of the current output cell\n",
       "var outputEl = gd.closest('.output');\n",
       "if (outputEl) {{\n",
       "    x.observe(outputEl, {childList: true});\n",
       "}}\n",
       "\n",
       "                        })                };                });            </script>        </div>"
      ]
     },
     "metadata": {},
     "output_type": "display_data"
    }
   ],
   "source": [
    "px.line([np.mean(L_ruffin[:i]) for i in range(1,len(L_ruffin))])"
   ]
  },
  {
   "cell_type": "code",
   "execution_count": 245,
   "metadata": {},
   "outputs": [
    {
     "name": "stdout",
     "output_type": "stream",
     "text": [
      "8 (112, 126)\n",
      "27 (378, 392)\n",
      "33 (462, 476)\n",
      "42 (588, 602)\n",
      "51 (714, 728)\n",
      "73 (1022, 1036)\n"
     ]
    }
   ],
   "source": [
    "for i in range(len(L_ruffin)):\n",
    "    if str(L_ruffin[i]) == 'nan':\n",
    "        L_ruffin[i] = L_ruffin[i-1]\n",
    "    elif str(L_ruffin[i]) == 'inf':\n",
    "        print(i, [(j, j+14) for j in range(0, 1094, 14)][i])"
   ]
  },
  {
   "cell_type": "code",
   "execution_count": null,
   "metadata": {},
   "outputs": [],
   "source": [
    "L_ruffin"
   ]
  },
  {
   "cell_type": "markdown",
   "metadata": {},
   "source": [
    "#### Autres députés"
   ]
  },
  {
   "cell_type": "code",
   "execution_count": 29,
   "metadata": {},
   "outputs": [
    {
     "data": {
      "text/plain": [
       "['laurent pietraszewski',\n",
       " 'francois ruffin',\n",
       " 'sabine rubin',\n",
       " 'adrien taquet',\n",
       " 'roland lescure',\n",
       " 'laetitia avia',\n",
       " 'emilie chalas',\n",
       " 'cendra motin',\n",
       " 'yael braun pivet',\n",
       " 'catherine fabre',\n",
       " 'coralie dubost',\n",
       " 'christophe naegelen',\n",
       " 'thomas mesnier',\n",
       " 'jean baptiste djebbari',\n",
       " 'nadia hai',\n",
       " 'marie christine verdier jouclas',\n",
       " 'bruno studer',\n",
       " 'sacha houlie',\n",
       " 'gilles le gendre',\n",
       " 'berangere couillard',\n",
       " 'veronique riotton',\n",
       " 'benedicte peyrol',\n",
       " 'alexandra louis',\n",
       " 'raphael gauvain',\n",
       " 'raphael gerard',\n",
       " 'mohamed laqhila',\n",
       " 'agnes thill',\n",
       " 'martine wonner',\n",
       " 'cecile rilhac',\n",
       " 'stephanie rist',\n",
       " 'zivka park',\n",
       " 'perrine goulet',\n",
       " 'vincent thiebaut',\n",
       " 'jean francois mbaye',\n",
       " 'alice thourot',\n",
       " 'alexandre holroyd',\n",
       " 'caroline abadie',\n",
       " 'annie chapelier',\n",
       " 'fiona lazaar',\n",
       " 'damien adam',\n",
       " 'albane gaillot',\n",
       " 'dominique david',\n",
       " 'fannette charvier',\n",
       " 'gregory besson moreau',\n",
       " 'anne genetet',\n",
       " 'typhanie degois',\n",
       " 'joachim son forget',\n",
       " 'audrey dufeu schubert',\n",
       " 'sylvie charriere',\n",
       " 'carole grandjean',\n",
       " 'cedric roussel',\n",
       " 'christophe euzet',\n",
       " 'nicole dubre chirat',\n",
       " 'laetitia romeiro dias',\n",
       " 'barbara bessot ballot',\n",
       " 'laetitia saint paul',\n",
       " 'beatrice piron',\n",
       " 'gael le bohec',\n",
       " 'caroline janvier',\n",
       " 'benoit potterie',\n",
       " 'nicolas demoulin',\n",
       " 'natalia pouzyreff',\n",
       " 'cathy racon bouzon',\n",
       " 'aude amadou',\n",
       " 'fabienne colboc',\n",
       " 'sophie beaudouin hubiere',\n",
       " 'thierry michels',\n",
       " 'sabine thillaye',\n",
       " 'emilie guerel',\n",
       " 'jean michel fauvergue',\n",
       " 'sonia krimi',\n",
       " 'huguette tiegna',\n",
       " 'eric girardin',\n",
       " 'jennifer de temmerman',\n",
       " 'graziella melchior',\n",
       " 'bertrand bouyx',\n",
       " 'charlotte lecocq',\n",
       " 'monica michel',\n",
       " 'nicole trisse',\n",
       " 'claire pitollat',\n",
       " 'jean charles larsonneur',\n",
       " 'herve berville',\n",
       " 'annaig le meur',\n",
       " 'sophie panonacle',\n",
       " 'anne france brunet',\n",
       " 'denis masseglia',\n",
       " 'aina kuric',\n",
       " 'bruno bonnell',\n",
       " 'valerie petit',\n",
       " 'sandrine le feur',\n",
       " 'pierre alain raphan',\n",
       " 'laurence vanceunebrock mialon',\n",
       " 'patrice anato',\n",
       " 'anne laurence petel',\n",
       " 'pascale fontenel personne',\n",
       " 'brigitte liso',\n",
       " 'florence granjus',\n",
       " 'delphine o',\n",
       " 'valerie oppelt',\n",
       " 'samantha cazebonne',\n",
       " 'valerie gomez bassac',\n",
       " 'benjamin dirx',\n",
       " 'loic kervran',\n",
       " 'jean marie fievet',\n",
       " 'valeria faure muntian',\n",
       " 'mustapha laabid',\n",
       " 'sira sylla',\n",
       " 'xavier batut',\n",
       " 'patrice perrot']"
      ]
     },
     "execution_count": 29,
     "metadata": {},
     "output_type": "execute_result"
    }
   ],
   "source": [
    "orateurs_novices"
   ]
  },
  {
   "cell_type": "code",
   "execution_count": 21,
   "metadata": {},
   "outputs": [
    {
     "name": "stdout",
     "output_type": "stream",
     "text": [
      "sabine rubin\n",
      "JOURS :  0   14\n",
      "1.5097795256273057\n",
      "sabine rubin\n",
      "JOURS :  14   28\n",
      "1.5216195955797323\n",
      "sabine rubin\n",
      "JOURS :  28   42\n",
      "1.504244272763923\n",
      "sabine rubin\n",
      "JOURS :  42   56\n",
      "1.5171095398136683\n",
      "sabine rubin\n",
      "JOURS :  56   70\n",
      "sabine rubin\n",
      "JOURS :  70   84\n",
      "sabine rubin\n",
      "JOURS :  84   98\n",
      "1.4996234188927395\n",
      "sabine rubin\n",
      "JOURS :  98   112\n",
      "1.4945687556293403\n",
      "sabine rubin\n",
      "JOURS :  112   126\n",
      "1.4988918014560784\n",
      "sabine rubin\n",
      "JOURS :  126   140\n",
      "1.4966546735627992\n",
      "sabine rubin\n",
      "JOURS :  140   154\n",
      "1.5044590476211976\n",
      "sabine rubin\n",
      "JOURS :  154   168\n",
      "1.5097408540014166\n",
      "sabine rubin\n",
      "JOURS :  168   182\n",
      "1.5027361980055174\n",
      "sabine rubin\n",
      "JOURS :  182   196\n",
      "sabine rubin\n",
      "JOURS :  196   210\n",
      "1.5046315219535675\n",
      "sabine rubin\n",
      "JOURS :  210   224\n",
      "1.4940503015752984\n",
      "sabine rubin\n",
      "JOURS :  224   238\n",
      "1.503509713265083\n",
      "sabine rubin\n",
      "JOURS :  238   252\n",
      "1.47930231111796\n",
      "sabine rubin\n",
      "JOURS :  252   266\n",
      "1.4864011761595002\n",
      "sabine rubin\n",
      "JOURS :  266   280\n",
      "1.4950919663443656\n",
      "sabine rubin\n",
      "JOURS :  280   294\n",
      "1.5102935602323933\n",
      "sabine rubin\n",
      "JOURS :  294   308\n",
      "1.5112836958058042\n",
      "sabine rubin\n",
      "JOURS :  308   322\n",
      "1.4940745740675558\n",
      "sabine rubin\n",
      "JOURS :  322   336\n",
      "1.4902507125924798\n",
      "sabine rubin\n",
      "JOURS :  336   350\n",
      "1.5051521647793755\n",
      "sabine rubin\n",
      "JOURS :  350   364\n",
      "1.4993278122407336\n",
      "sabine rubin\n",
      "JOURS :  364   378\n",
      "1.4965649572583795\n",
      "sabine rubin\n",
      "JOURS :  378   392\n",
      "1.5055405396625092\n",
      "sabine rubin\n",
      "JOURS :  392   406\n",
      "1.5014318224901497\n",
      "sabine rubin\n",
      "JOURS :  406   420\n",
      "sabine rubin\n",
      "JOURS :  420   434\n",
      "sabine rubin\n",
      "JOURS :  434   448\n",
      "1.5006817940153847\n",
      "sabine rubin\n",
      "JOURS :  448   462\n",
      "1.5025151932662981\n",
      "sabine rubin\n",
      "JOURS :  462   476\n",
      "1.5002668213622963\n",
      "sabine rubin\n",
      "JOURS :  476   490\n",
      "1.5039050541932986\n",
      "sabine rubin\n",
      "JOURS :  490   504\n",
      "1.497427260782732\n",
      "sabine rubin\n",
      "JOURS :  504   518\n",
      "1.504790367847179\n",
      "sabine rubin\n",
      "JOURS :  518   532\n",
      "1.514542488363203\n",
      "sabine rubin\n",
      "JOURS :  532   546\n",
      "1.5081334560549597\n",
      "sabine rubin\n",
      "JOURS :  546   560\n",
      "sabine rubin\n",
      "JOURS :  560   574\n",
      "1.5042582704474203\n",
      "sabine rubin\n",
      "JOURS :  574   588\n",
      "1.501485002106159\n",
      "sabine rubin\n",
      "JOURS :  588   602\n",
      "1.5112152637161231\n",
      "sabine rubin\n",
      "JOURS :  602   616\n",
      "1.4926101646370598\n",
      "sabine rubin\n",
      "JOURS :  616   630\n",
      "1.517293334476331\n",
      "sabine rubin\n",
      "JOURS :  630   644\n",
      "1.4992925894379312\n",
      "sabine rubin\n",
      "JOURS :  644   658\n",
      "1.4976530622913369\n",
      "sabine rubin\n",
      "JOURS :  658   672\n",
      "1.4918335956160813\n",
      "sabine rubin\n",
      "JOURS :  672   686\n",
      "1.4998162130454449\n",
      "sabine rubin\n",
      "JOURS :  686   700\n",
      "1.5045970292642823\n",
      "sabine rubin\n",
      "JOURS :  700   714\n",
      "1.4973189483731115\n",
      "sabine rubin\n",
      "JOURS :  714   728\n",
      "1.4899205895164318\n",
      "sabine rubin\n",
      "JOURS :  728   742\n",
      "1.5099885257561347\n",
      "sabine rubin\n",
      "JOURS :  742   756\n",
      "1.4991764638094822\n",
      "sabine rubin\n",
      "JOURS :  756   770\n",
      "sabine rubin\n",
      "JOURS :  770   784\n",
      "sabine rubin\n",
      "JOURS :  784   798\n",
      "sabine rubin\n",
      "JOURS :  798   812\n",
      "1.4832405296755575\n",
      "sabine rubin\n",
      "JOURS :  812   826\n",
      "1.5010679558875872\n",
      "sabine rubin\n",
      "JOURS :  826   840\n",
      "1.5055438978723386\n",
      "sabine rubin\n",
      "JOURS :  840   854\n",
      "1.498821367908442\n",
      "sabine rubin\n",
      "JOURS :  854   868\n",
      "1.4918796956570686\n",
      "sabine rubin\n",
      "JOURS :  868   882\n",
      "1.5053864492948552\n",
      "sabine rubin\n",
      "JOURS :  882   896\n",
      "1.4997380546669534\n",
      "sabine rubin\n",
      "JOURS :  896   910\n",
      "1.495358347474803\n",
      "sabine rubin\n",
      "JOURS :  910   924\n",
      "1.493415108726285\n",
      "sabine rubin\n",
      "JOURS :  924   938\n",
      "1.515343187089975\n",
      "sabine rubin\n",
      "JOURS :  938   952\n",
      "1.4920774500745062\n",
      "sabine rubin\n",
      "JOURS :  952   966\n",
      "1.4996522230201952\n",
      "sabine rubin\n",
      "JOURS :  966   980\n",
      "1.509740278829294\n",
      "sabine rubin\n",
      "JOURS :  980   994\n",
      "1.5028981951302665\n",
      "sabine rubin\n",
      "JOURS :  994   1008\n",
      "1.4997696148211368\n",
      "sabine rubin\n",
      "JOURS :  1008   1022\n",
      "sabine rubin\n",
      "JOURS :  1022   1036\n",
      "1.4897697017003098\n",
      "sabine rubin\n",
      "JOURS :  1036   1050\n",
      "1.4908880860510927\n",
      "sabine rubin\n",
      "JOURS :  1050   1064\n",
      "1.4954189585196656\n",
      "sabine rubin\n",
      "JOURS :  1064   1078\n",
      "1.4832882087744799\n",
      "sabine rubin\n",
      "JOURS :  1078   1092\n",
      "1.5077189690522834\n",
      "sabine rubin\n",
      "JOURS :  1092   1106\n",
      "1.4921183133110372\n",
      "adrien taquet\n",
      "JOURS :  0   14\n",
      "1.509709468123672\n",
      "adrien taquet\n",
      "JOURS :  14   28\n",
      "1.5213213203506515\n",
      "adrien taquet\n",
      "JOURS :  28   42\n",
      "1.5176317589794186\n",
      "adrien taquet\n",
      "JOURS :  42   56\n",
      "1.4958680606981556\n",
      "adrien taquet\n",
      "JOURS :  56   70\n",
      "adrien taquet\n",
      "JOURS :  70   84\n",
      "adrien taquet\n",
      "JOURS :  84   98\n",
      "1.5123481223761868\n",
      "adrien taquet\n",
      "JOURS :  98   112\n",
      "1.500707261857641\n",
      "adrien taquet\n",
      "JOURS :  112   126\n",
      "1.49521353326734\n",
      "adrien taquet\n",
      "JOURS :  126   140\n",
      "1.489139646712487\n",
      "adrien taquet\n",
      "JOURS :  140   154\n",
      "1.4987918040401011\n",
      "adrien taquet\n",
      "JOURS :  154   168\n",
      "1.4981485170438962\n",
      "adrien taquet\n",
      "JOURS :  168   182\n",
      "1.501768239033573\n",
      "adrien taquet\n",
      "JOURS :  182   196\n",
      "adrien taquet\n",
      "JOURS :  196   210\n",
      "1.4858991829533674\n",
      "adrien taquet\n",
      "JOURS :  210   224\n",
      "1.4960042588907119\n",
      "adrien taquet\n",
      "JOURS :  224   238\n",
      "1.4966760629709135\n",
      "adrien taquet\n",
      "JOURS :  238   252\n",
      "1.4924483841914031\n",
      "adrien taquet\n",
      "JOURS :  252   266\n",
      "1.4971395667052179\n",
      "adrien taquet\n",
      "JOURS :  266   280\n",
      "1.4928021934003712\n",
      "adrien taquet\n",
      "JOURS :  280   294\n",
      "1.5034742637950227\n",
      "adrien taquet\n",
      "JOURS :  294   308\n",
      "1.4988890101944277\n",
      "adrien taquet\n",
      "JOURS :  308   322\n",
      "1.4827607230958062\n",
      "adrien taquet\n",
      "JOURS :  322   336\n",
      "1.492217144570657\n",
      "adrien taquet\n",
      "JOURS :  336   350\n",
      "1.50194142341041\n",
      "adrien taquet\n",
      "JOURS :  350   364\n",
      "1.50413806632934\n",
      "adrien taquet\n",
      "JOURS :  364   378\n",
      "1.5122132006089248\n",
      "adrien taquet\n",
      "JOURS :  378   392\n",
      "1.512551338539444\n",
      "adrien taquet\n",
      "JOURS :  392   406\n",
      "1.4908661400630516\n",
      "adrien taquet\n",
      "JOURS :  406   420\n",
      "adrien taquet\n",
      "JOURS :  420   434\n",
      "adrien taquet\n",
      "JOURS :  434   448\n",
      "1.5011087764083921\n",
      "adrien taquet\n",
      "JOURS :  448   462\n",
      "1.5070895436091485\n",
      "adrien taquet\n",
      "JOURS :  462   476\n",
      "1.5092337893610726\n",
      "adrien taquet\n",
      "JOURS :  476   490\n",
      "1.5125952895949768\n",
      "adrien taquet\n",
      "JOURS :  490   504\n",
      "1.4989592044576108\n",
      "adrien taquet\n",
      "JOURS :  504   518\n",
      "1.5108844740713303\n",
      "adrien taquet\n",
      "JOURS :  518   532\n",
      "1.4948315523681401\n",
      "adrien taquet\n",
      "JOURS :  532   546\n",
      "1.496641942693154\n",
      "adrien taquet\n",
      "JOURS :  546   560\n",
      "adrien taquet\n",
      "JOURS :  560   574\n",
      "1.501583017358846\n",
      "adrien taquet\n",
      "JOURS :  574   588\n",
      "1.5117186538279117\n",
      "adrien taquet\n",
      "JOURS :  588   602\n",
      "1.4964470196066382\n",
      "adrien taquet\n",
      "JOURS :  602   616\n",
      "1.4812813882138414\n",
      "adrien taquet\n",
      "JOURS :  616   630\n",
      "1.5063387704582307\n",
      "adrien taquet\n",
      "JOURS :  630   644\n",
      "1.5073865973523748\n",
      "adrien taquet\n",
      "JOURS :  644   658\n",
      "1.4896930970202857\n",
      "adrien taquet\n",
      "JOURS :  658   672\n",
      "1.4998869699544877\n",
      "adrien taquet\n",
      "JOURS :  672   686\n",
      "1.5014144267715108\n",
      "adrien taquet\n",
      "JOURS :  686   700\n",
      "1.5133918437825462\n",
      "adrien taquet\n",
      "JOURS :  700   714\n",
      "1.5127024337082235\n",
      "adrien taquet\n",
      "JOURS :  714   728\n",
      "1.4989897167585031\n",
      "adrien taquet\n",
      "JOURS :  728   742\n",
      "1.4967359357156973\n",
      "adrien taquet\n",
      "JOURS :  742   756\n",
      "1.4968436284023223\n",
      "adrien taquet\n",
      "JOURS :  756   770\n",
      "adrien taquet\n",
      "JOURS :  770   784\n",
      "adrien taquet\n",
      "JOURS :  784   798\n",
      "adrien taquet\n",
      "JOURS :  798   812\n",
      "1.4967907422941853\n",
      "adrien taquet\n",
      "JOURS :  812   826\n",
      "1.5039182815498848\n",
      "adrien taquet\n",
      "JOURS :  826   840\n",
      "1.5008327336113507\n",
      "adrien taquet\n",
      "JOURS :  840   854\n",
      "1.5034572425283261\n",
      "adrien taquet\n",
      "JOURS :  854   868\n",
      "1.4908437915671358\n",
      "adrien taquet\n",
      "JOURS :  868   882\n",
      "1.5067238498995736\n",
      "adrien taquet\n",
      "JOURS :  882   896\n",
      "1.486401659945196\n",
      "adrien taquet\n",
      "JOURS :  896   910\n",
      "1.4960721049829702\n",
      "adrien taquet\n",
      "JOURS :  910   924\n",
      "1.494793146513003\n",
      "adrien taquet\n",
      "JOURS :  924   938\n",
      "1.4900500284419165\n",
      "adrien taquet\n",
      "JOURS :  938   952\n",
      "1.4993776193965955\n",
      "adrien taquet\n",
      "JOURS :  952   966\n",
      "1.4938365272636651\n",
      "adrien taquet\n",
      "JOURS :  966   980\n",
      "1.509858385198537\n",
      "adrien taquet\n",
      "JOURS :  980   994\n",
      "1.5033932815576592\n",
      "adrien taquet\n",
      "JOURS :  994   1008\n",
      "1.4964108895574317\n",
      "adrien taquet\n",
      "JOURS :  1008   1022\n",
      "adrien taquet\n",
      "JOURS :  1022   1036\n",
      "1.5017167991021345\n",
      "adrien taquet\n",
      "JOURS :  1036   1050\n",
      "1.5013040222861762\n",
      "adrien taquet\n",
      "JOURS :  1050   1064\n",
      "1.4988450370434727\n",
      "adrien taquet\n",
      "JOURS :  1064   1078\n",
      "1.4943087734593448\n",
      "adrien taquet\n",
      "JOURS :  1078   1092\n",
      "1.4946743474922601\n",
      "adrien taquet\n",
      "JOURS :  1092   1106\n",
      "1.4981906039853168\n",
      "roland lescure\n",
      "JOURS :  0   14\n",
      "1.5091897492465243\n",
      "roland lescure\n",
      "JOURS :  14   28\n",
      "1.5237911382740124\n",
      "roland lescure\n",
      "JOURS :  28   42\n",
      "1.511843204593637\n",
      "roland lescure\n",
      "JOURS :  42   56\n",
      "1.5137267866990685\n",
      "roland lescure\n",
      "JOURS :  56   70\n",
      "roland lescure\n",
      "JOURS :  70   84\n",
      "roland lescure\n",
      "JOURS :  84   98\n",
      "1.5052592891775782\n",
      "roland lescure\n",
      "JOURS :  98   112\n",
      "1.5091860348048287\n",
      "roland lescure\n",
      "JOURS :  112   126\n",
      "1.5059347422570892\n",
      "roland lescure\n",
      "JOURS :  126   140\n",
      "1.4886268375930858\n",
      "roland lescure\n",
      "JOURS :  140   154\n"
     ]
    },
    {
     "name": "stdout",
     "output_type": "stream",
     "text": [
      "1.5014468035119488\n",
      "roland lescure\n",
      "JOURS :  154   168\n",
      "1.5024435731192614\n",
      "roland lescure\n",
      "JOURS :  168   182\n",
      "1.497710884196778\n",
      "roland lescure\n",
      "JOURS :  182   196\n",
      "roland lescure\n",
      "JOURS :  196   210\n",
      "1.4933983195716263\n",
      "roland lescure\n",
      "JOURS :  210   224\n",
      "1.4979511536689778\n",
      "roland lescure\n",
      "JOURS :  224   238\n",
      "1.4958391850656374\n",
      "roland lescure\n",
      "JOURS :  238   252\n",
      "1.5032928573415294\n",
      "roland lescure\n",
      "JOURS :  252   266\n",
      "1.4848004180745042\n",
      "roland lescure\n",
      "JOURS :  266   280\n",
      "1.502217817847896\n",
      "roland lescure\n",
      "JOURS :  280   294\n",
      "1.5046201106045287\n",
      "roland lescure\n",
      "JOURS :  294   308\n",
      "1.497361442907041\n",
      "roland lescure\n",
      "JOURS :  308   322\n",
      "1.4833728003725961\n",
      "roland lescure\n",
      "JOURS :  322   336\n",
      "1.5030795614827457\n",
      "roland lescure\n",
      "JOURS :  336   350\n",
      "1.4932575294815222\n",
      "roland lescure\n",
      "JOURS :  350   364\n",
      "1.505878737244407\n",
      "roland lescure\n",
      "JOURS :  364   378\n",
      "1.4975671201219598\n",
      "roland lescure\n",
      "JOURS :  378   392\n",
      "1.509563998754371\n",
      "roland lescure\n",
      "JOURS :  392   406\n",
      "1.5020768855079039\n",
      "roland lescure\n",
      "JOURS :  406   420\n",
      "roland lescure\n",
      "JOURS :  420   434\n",
      "roland lescure\n",
      "JOURS :  434   448\n",
      "1.4991265248858732\n",
      "roland lescure\n",
      "JOURS :  448   462\n",
      "1.500349717623663\n",
      "roland lescure\n",
      "JOURS :  462   476\n",
      "1.4914886878401925\n",
      "roland lescure\n",
      "JOURS :  476   490\n",
      "1.508877025714651\n",
      "roland lescure\n",
      "JOURS :  490   504\n",
      "1.5015783145812702\n",
      "roland lescure\n",
      "JOURS :  504   518\n",
      "1.5164304684654824\n",
      "roland lescure\n",
      "JOURS :  518   532\n",
      "1.4901209144861187\n",
      "roland lescure\n",
      "JOURS :  532   546\n",
      "1.5006544728122526\n",
      "roland lescure\n",
      "JOURS :  546   560\n",
      "roland lescure\n",
      "JOURS :  560   574\n",
      "1.4899231803772741\n",
      "roland lescure\n",
      "JOURS :  574   588\n",
      "1.498807946147741\n",
      "roland lescure\n",
      "JOURS :  588   602\n",
      "1.4986204635737856\n",
      "roland lescure\n",
      "JOURS :  602   616\n",
      "1.501388146576076\n",
      "roland lescure\n",
      "JOURS :  616   630\n",
      "1.502500253232828\n",
      "roland lescure\n",
      "JOURS :  630   644\n",
      "1.5004312173829093\n",
      "roland lescure\n",
      "JOURS :  644   658\n",
      "1.5086645680121775\n",
      "roland lescure\n",
      "JOURS :  658   672\n",
      "1.4874325809079998\n",
      "roland lescure\n",
      "JOURS :  672   686\n",
      "1.5052961068200836\n",
      "roland lescure\n",
      "JOURS :  686   700\n",
      "1.4985114721183095\n",
      "roland lescure\n",
      "JOURS :  700   714\n",
      "1.4971645720564297\n",
      "roland lescure\n",
      "JOURS :  714   728\n",
      "1.50452018655672\n",
      "roland lescure\n",
      "JOURS :  728   742\n",
      "1.4985345112267234\n",
      "roland lescure\n",
      "JOURS :  742   756\n",
      "1.500273762182475\n",
      "roland lescure\n",
      "JOURS :  756   770\n",
      "roland lescure\n",
      "JOURS :  770   784\n",
      "roland lescure\n",
      "JOURS :  784   798\n",
      "roland lescure\n",
      "JOURS :  798   812\n",
      "1.504995593648319\n",
      "roland lescure\n",
      "JOURS :  812   826\n",
      "1.4934719929272553\n",
      "roland lescure\n",
      "JOURS :  826   840\n",
      "1.513288251964782\n",
      "roland lescure\n",
      "JOURS :  840   854\n",
      "1.5019891994346577\n",
      "roland lescure\n",
      "JOURS :  854   868\n",
      "1.4848867187083288\n",
      "roland lescure\n",
      "JOURS :  868   882\n",
      "1.5056210433389299\n",
      "roland lescure\n",
      "JOURS :  882   896\n",
      "1.4991625574349063\n",
      "roland lescure\n",
      "JOURS :  896   910\n",
      "1.5020422614925653\n",
      "roland lescure\n",
      "JOURS :  910   924\n",
      "1.4918518956961804\n",
      "roland lescure\n",
      "JOURS :  924   938\n",
      "1.490310455772687\n",
      "roland lescure\n",
      "JOURS :  938   952\n",
      "1.494710682925784\n",
      "roland lescure\n",
      "JOURS :  952   966\n",
      "1.5004417612893803\n",
      "roland lescure\n",
      "JOURS :  966   980\n",
      "1.5121216406230726\n",
      "roland lescure\n",
      "JOURS :  980   994\n",
      "1.506768380432069\n",
      "roland lescure\n",
      "JOURS :  994   1008\n",
      "1.4981634330637366\n",
      "roland lescure\n",
      "JOURS :  1008   1022\n",
      "roland lescure\n",
      "JOURS :  1022   1036\n",
      "1.486236389179187\n",
      "roland lescure\n",
      "JOURS :  1036   1050\n",
      "1.4932613302652697\n",
      "roland lescure\n",
      "JOURS :  1050   1064\n",
      "1.4960975847437379\n",
      "roland lescure\n",
      "JOURS :  1064   1078\n",
      "1.495088463892268\n",
      "roland lescure\n",
      "JOURS :  1078   1092\n",
      "1.508540480091004\n",
      "roland lescure\n",
      "JOURS :  1092   1106\n",
      "1.5032449337588867\n",
      "laetitia avia\n",
      "JOURS :  0   14\n",
      "1.5020589249893022\n",
      "laetitia avia\n",
      "JOURS :  14   28\n",
      "1.5081566545689855\n",
      "laetitia avia\n",
      "JOURS :  28   42\n",
      "1.5129479748088295\n",
      "laetitia avia\n",
      "JOURS :  42   56\n",
      "1.5143798759957516\n",
      "laetitia avia\n",
      "JOURS :  56   70\n",
      "laetitia avia\n",
      "JOURS :  70   84\n",
      "laetitia avia\n",
      "JOURS :  84   98\n",
      "1.5072185141335028\n",
      "laetitia avia\n",
      "JOURS :  98   112\n",
      "1.4970406765630853\n",
      "laetitia avia\n",
      "JOURS :  112   126\n",
      "1.5101390466986218\n",
      "laetitia avia\n",
      "JOURS :  126   140\n",
      "1.4996555398464855\n",
      "laetitia avia\n",
      "JOURS :  140   154\n",
      "1.4961125873181125\n",
      "laetitia avia\n",
      "JOURS :  154   168\n",
      "1.4996014450731046\n",
      "laetitia avia\n",
      "JOURS :  168   182\n",
      "1.4945037244722894\n",
      "laetitia avia\n",
      "JOURS :  182   196\n",
      "laetitia avia\n",
      "JOURS :  196   210\n",
      "1.4987552873168664\n",
      "laetitia avia\n",
      "JOURS :  210   224\n",
      "1.498534615884407\n",
      "laetitia avia\n",
      "JOURS :  224   238\n",
      "1.494599094781334\n",
      "laetitia avia\n",
      "JOURS :  238   252\n",
      "1.4796662824931293\n",
      "laetitia avia\n",
      "JOURS :  252   266\n",
      "1.4898217578293018\n",
      "laetitia avia\n",
      "JOURS :  266   280\n",
      "1.4896113342964197\n",
      "laetitia avia\n",
      "JOURS :  280   294\n",
      "1.5083003176764838\n",
      "laetitia avia\n",
      "JOURS :  294   308\n",
      "1.4961694316596912\n",
      "laetitia avia\n",
      "JOURS :  308   322\n",
      "1.4938357533793882\n",
      "laetitia avia\n",
      "JOURS :  322   336\n",
      "1.495463524460067\n",
      "laetitia avia\n",
      "JOURS :  336   350\n",
      "1.5118125966052387\n",
      "laetitia avia\n",
      "JOURS :  350   364\n",
      "1.5141827344359562\n",
      "laetitia avia\n",
      "JOURS :  364   378\n",
      "1.5048783066173854\n",
      "laetitia avia\n",
      "JOURS :  378   392\n",
      "1.5123796605028852\n",
      "laetitia avia\n",
      "JOURS :  392   406\n",
      "1.5103450136695966\n",
      "laetitia avia\n",
      "JOURS :  406   420\n",
      "laetitia avia\n",
      "JOURS :  420   434\n",
      "laetitia avia\n",
      "JOURS :  434   448\n",
      "1.496087444900686\n",
      "laetitia avia\n",
      "JOURS :  448   462\n",
      "1.5094040827797062\n",
      "laetitia avia\n",
      "JOURS :  462   476\n",
      "1.4990777965508981\n",
      "laetitia avia\n",
      "JOURS :  476   490\n",
      "1.5007760179508618\n",
      "laetitia avia\n",
      "JOURS :  490   504\n",
      "1.4990055655377617\n",
      "laetitia avia\n",
      "JOURS :  504   518\n",
      "1.5037490991727225\n",
      "laetitia avia\n",
      "JOURS :  518   532\n",
      "1.4964494333613472\n",
      "laetitia avia\n",
      "JOURS :  532   546\n",
      "1.5021560205719253\n",
      "laetitia avia\n",
      "JOURS :  546   560\n",
      "laetitia avia\n",
      "JOURS :  560   574\n",
      "1.5057046985840643\n",
      "laetitia avia\n",
      "JOURS :  574   588\n",
      "1.5063594371826943\n",
      "laetitia avia\n",
      "JOURS :  588   602\n",
      "1.4919761861180325\n",
      "laetitia avia\n",
      "JOURS :  602   616\n",
      "1.5053507298504931\n",
      "laetitia avia\n",
      "JOURS :  616   630\n",
      "1.5002162976371165\n",
      "laetitia avia\n",
      "JOURS :  630   644\n",
      "1.485747195849003\n",
      "laetitia avia\n",
      "JOURS :  644   658\n",
      "1.510480147189918\n",
      "laetitia avia\n",
      "JOURS :  658   672\n",
      "1.4970819434573415\n",
      "laetitia avia\n",
      "JOURS :  672   686\n",
      "1.5009915649434806\n",
      "laetitia avia\n",
      "JOURS :  686   700\n",
      "1.5077892920981035\n",
      "laetitia avia\n",
      "JOURS :  700   714\n",
      "1.499989557983664\n",
      "laetitia avia\n",
      "JOURS :  714   728\n",
      "1.5027432966441419\n",
      "laetitia avia\n",
      "JOURS :  728   742\n",
      "1.500204720609284\n",
      "laetitia avia\n",
      "JOURS :  742   756\n",
      "1.5044968014957167\n",
      "laetitia avia\n",
      "JOURS :  756   770\n",
      "laetitia avia\n",
      "JOURS :  770   784\n",
      "laetitia avia\n",
      "JOURS :  784   798\n",
      "laetitia avia\n",
      "JOURS :  798   812\n",
      "1.487673376823803\n",
      "laetitia avia\n",
      "JOURS :  812   826\n",
      "1.5011250399674114\n",
      "laetitia avia\n",
      "JOURS :  826   840\n",
      "1.5056906496392484\n",
      "laetitia avia\n",
      "JOURS :  840   854\n",
      "1.5138776749722322\n",
      "laetitia avia\n",
      "JOURS :  854   868\n",
      "1.49146263654024\n",
      "laetitia avia\n",
      "JOURS :  868   882\n",
      "1.49272172123548\n",
      "laetitia avia\n",
      "JOURS :  882   896\n",
      "1.506456185164136\n",
      "laetitia avia\n",
      "JOURS :  896   910\n",
      "1.497956283526381\n",
      "laetitia avia\n",
      "JOURS :  910   924\n",
      "1.4875620708920225\n",
      "laetitia avia\n",
      "JOURS :  924   938\n",
      "1.4954703886341112\n",
      "laetitia avia\n",
      "JOURS :  938   952\n",
      "1.4937740026062194\n",
      "laetitia avia\n",
      "JOURS :  952   966\n",
      "1.4930952254560894\n",
      "laetitia avia\n",
      "JOURS :  966   980\n",
      "1.5004036726084302\n",
      "laetitia avia\n",
      "JOURS :  980   994\n",
      "1.505412153955661\n",
      "laetitia avia\n",
      "JOURS :  994   1008\n",
      "1.5049303628441093\n",
      "laetitia avia\n",
      "JOURS :  1008   1022\n",
      "laetitia avia\n",
      "JOURS :  1022   1036\n",
      "1.499075163206089\n",
      "laetitia avia\n",
      "JOURS :  1036   1050\n",
      "1.5027031149627885\n",
      "laetitia avia\n",
      "JOURS :  1050   1064\n",
      "1.4975768046914961\n",
      "laetitia avia\n",
      "JOURS :  1064   1078\n",
      "1.4837803067801982\n",
      "laetitia avia\n",
      "JOURS :  1078   1092\n",
      "1.5055234755110904\n",
      "laetitia avia\n",
      "JOURS :  1092   1106\n",
      "1.5045986660739847\n",
      "emilie chalas\n",
      "JOURS :  0   14\n",
      "1.5061408249490142\n",
      "emilie chalas\n",
      "JOURS :  14   28\n",
      "1.497898418783712\n",
      "emilie chalas\n",
      "JOURS :  28   42\n",
      "1.519064314874198\n",
      "emilie chalas\n",
      "JOURS :  42   56\n",
      "1.4997335540517922\n",
      "emilie chalas\n",
      "JOURS :  56   70\n",
      "emilie chalas\n",
      "JOURS :  70   84\n",
      "emilie chalas\n",
      "JOURS :  84   98\n",
      "1.498220944085444\n",
      "emilie chalas\n",
      "JOURS :  98   112\n",
      "1.514486639564699\n",
      "emilie chalas\n",
      "JOURS :  112   126\n",
      "1.5004296701618365\n",
      "emilie chalas\n",
      "JOURS :  126   140\n",
      "1.4957661417066193\n",
      "emilie chalas\n",
      "JOURS :  140   154\n",
      "1.5026601582437624\n",
      "emilie chalas\n",
      "JOURS :  154   168\n",
      "1.4879283309540756\n",
      "emilie chalas\n",
      "JOURS :  168   182\n",
      "1.4944365096369192\n",
      "emilie chalas\n",
      "JOURS :  182   196\n",
      "emilie chalas\n",
      "JOURS :  196   210\n",
      "1.4915737029760425\n",
      "emilie chalas\n",
      "JOURS :  210   224\n",
      "1.4990515644105578\n",
      "emilie chalas\n",
      "JOURS :  224   238\n",
      "1.4909025727543994\n",
      "emilie chalas\n",
      "JOURS :  238   252\n"
     ]
    },
    {
     "name": "stdout",
     "output_type": "stream",
     "text": [
      "1.4769741228012758\n",
      "emilie chalas\n",
      "JOURS :  252   266\n",
      "1.4920531109006865\n",
      "emilie chalas\n",
      "JOURS :  266   280\n",
      "1.507034087922176\n",
      "emilie chalas\n",
      "JOURS :  280   294\n",
      "1.505348635738366\n",
      "emilie chalas\n",
      "JOURS :  294   308\n",
      "1.5065473765882953\n",
      "emilie chalas\n",
      "JOURS :  308   322\n",
      "1.5108505837687005\n",
      "emilie chalas\n",
      "JOURS :  322   336\n",
      "1.4980194452315942\n",
      "emilie chalas\n",
      "JOURS :  336   350\n",
      "1.5035307461879757\n",
      "emilie chalas\n",
      "JOURS :  350   364\n",
      "1.5184708953424095\n",
      "emilie chalas\n",
      "JOURS :  364   378\n",
      "1.49653140828393\n",
      "emilie chalas\n",
      "JOURS :  378   392\n",
      "1.497319148196959\n",
      "emilie chalas\n",
      "JOURS :  392   406\n",
      "1.5006682351585927\n",
      "emilie chalas\n",
      "JOURS :  406   420\n",
      "emilie chalas\n",
      "JOURS :  420   434\n",
      "emilie chalas\n",
      "JOURS :  434   448\n",
      "1.4963206893984542\n",
      "emilie chalas\n",
      "JOURS :  448   462\n",
      "1.4974062915103066\n",
      "emilie chalas\n",
      "JOURS :  462   476\n",
      "1.5079226503764096\n",
      "emilie chalas\n",
      "JOURS :  476   490\n",
      "1.5091362456521347\n",
      "emilie chalas\n",
      "JOURS :  490   504\n",
      "1.4930334261688891\n",
      "emilie chalas\n",
      "JOURS :  504   518\n",
      "1.5169876691047939\n",
      "emilie chalas\n",
      "JOURS :  518   532\n",
      "1.489865685281433\n",
      "emilie chalas\n",
      "JOURS :  532   546\n",
      "1.505270022253015\n",
      "emilie chalas\n",
      "JOURS :  546   560\n",
      "emilie chalas\n",
      "JOURS :  560   574\n",
      "1.5134539387358468\n",
      "emilie chalas\n",
      "JOURS :  574   588\n",
      "1.4959486330380518\n",
      "emilie chalas\n",
      "JOURS :  588   602\n",
      "1.4899145923777617\n",
      "emilie chalas\n",
      "JOURS :  602   616\n",
      "1.497761475125559\n",
      "emilie chalas\n",
      "JOURS :  616   630\n",
      "1.5005812546873603\n",
      "emilie chalas\n",
      "JOURS :  630   644\n",
      "1.4961728339595723\n",
      "emilie chalas\n",
      "JOURS :  644   658\n",
      "1.5057505939083489\n",
      "emilie chalas\n",
      "JOURS :  658   672\n",
      "1.491914137611454\n",
      "emilie chalas\n",
      "JOURS :  672   686\n",
      "1.491544283581272\n",
      "emilie chalas\n",
      "JOURS :  686   700\n",
      "1.502574573237871\n",
      "emilie chalas\n",
      "JOURS :  700   714\n",
      "1.5071713217002891\n",
      "emilie chalas\n",
      "JOURS :  714   728\n",
      "1.501207276553665\n",
      "emilie chalas\n",
      "JOURS :  728   742\n",
      "1.4922665825558732\n",
      "emilie chalas\n",
      "JOURS :  742   756\n",
      "1.4951008465923508\n",
      "emilie chalas\n",
      "JOURS :  756   770\n",
      "emilie chalas\n",
      "JOURS :  770   784\n",
      "emilie chalas\n",
      "JOURS :  784   798\n",
      "emilie chalas\n",
      "JOURS :  798   812\n",
      "1.5026638211580146\n",
      "emilie chalas\n",
      "JOURS :  812   826\n",
      "1.498113192176306\n",
      "emilie chalas\n",
      "JOURS :  826   840\n",
      "1.4953664852625967\n",
      "emilie chalas\n",
      "JOURS :  840   854\n",
      "1.4926633015468491\n",
      "emilie chalas\n",
      "JOURS :  854   868\n",
      "1.4928895496805283\n",
      "emilie chalas\n",
      "JOURS :  868   882\n",
      "1.4995096082227932\n",
      "emilie chalas\n",
      "JOURS :  882   896\n",
      "1.502367396634502\n",
      "emilie chalas\n",
      "JOURS :  896   910\n",
      "1.4945827975084816\n",
      "emilie chalas\n",
      "JOURS :  910   924\n",
      "1.4862174590768817\n",
      "emilie chalas\n",
      "JOURS :  924   938\n",
      "1.4921539516493656\n",
      "emilie chalas\n",
      "JOURS :  938   952\n",
      "1.499822945026322\n",
      "emilie chalas\n",
      "JOURS :  952   966\n",
      "1.4972573500765605\n",
      "emilie chalas\n",
      "JOURS :  966   980\n",
      "1.5163451818829559\n",
      "emilie chalas\n",
      "JOURS :  980   994\n",
      "1.5052196345239144\n",
      "emilie chalas\n",
      "JOURS :  994   1008\n",
      "1.5001983018818097\n",
      "emilie chalas\n",
      "JOURS :  1008   1022\n",
      "emilie chalas\n",
      "JOURS :  1022   1036\n",
      "1.499928450802917\n",
      "emilie chalas\n",
      "JOURS :  1036   1050\n",
      "1.502084472677315\n",
      "emilie chalas\n",
      "JOURS :  1050   1064\n",
      "1.4857447773312769\n",
      "emilie chalas\n",
      "JOURS :  1064   1078\n",
      "1.4960813488377545\n",
      "emilie chalas\n",
      "JOURS :  1078   1092\n",
      "1.507234758184343\n",
      "emilie chalas\n",
      "JOURS :  1092   1106\n",
      "1.4956274057550287\n",
      "cendra motin\n",
      "JOURS :  0   14\n",
      "1.5008775265050107\n",
      "cendra motin\n",
      "JOURS :  14   28\n",
      "1.5066913954736478\n",
      "cendra motin\n",
      "JOURS :  28   42\n",
      "1.508406024001111\n",
      "cendra motin\n",
      "JOURS :  42   56\n",
      "1.520152227985819\n",
      "cendra motin\n",
      "JOURS :  56   70\n",
      "cendra motin\n",
      "JOURS :  70   84\n",
      "cendra motin\n",
      "JOURS :  84   98\n",
      "1.5016313681284752\n",
      "cendra motin\n",
      "JOURS :  98   112\n",
      "1.5012973294926886\n",
      "cendra motin\n",
      "JOURS :  112   126\n",
      "1.5096172497873455\n",
      "cendra motin\n",
      "JOURS :  126   140\n",
      "1.4913555308047923\n",
      "cendra motin\n",
      "JOURS :  140   154\n",
      "1.5028469542599936\n",
      "cendra motin\n",
      "JOURS :  154   168\n",
      "1.498193072036686\n",
      "cendra motin\n",
      "JOURS :  168   182\n",
      "1.496933755481302\n",
      "cendra motin\n",
      "JOURS :  182   196\n",
      "cendra motin\n",
      "JOURS :  196   210\n",
      "1.5003504626240498\n",
      "cendra motin\n",
      "JOURS :  210   224\n",
      "1.5061611029899273\n",
      "cendra motin\n",
      "JOURS :  224   238\n",
      "1.4969622893483459\n",
      "cendra motin\n",
      "JOURS :  238   252\n",
      "1.478485752838682\n",
      "cendra motin\n",
      "JOURS :  252   266\n",
      "1.4919459234395949\n",
      "cendra motin\n",
      "JOURS :  266   280\n",
      "1.495680209761474\n",
      "cendra motin\n",
      "JOURS :  280   294\n",
      "1.505636048433616\n",
      "cendra motin\n",
      "JOURS :  294   308\n",
      "1.4902211658089486\n",
      "cendra motin\n",
      "JOURS :  308   322\n",
      "1.4910293388689622\n",
      "cendra motin\n",
      "JOURS :  322   336\n",
      "1.4896756217893736\n",
      "cendra motin\n",
      "JOURS :  336   350\n",
      "1.5039848973813155\n",
      "cendra motin\n",
      "JOURS :  350   364\n",
      "1.5070919103492733\n",
      "cendra motin\n",
      "JOURS :  364   378\n",
      "1.4891400459040567\n",
      "cendra motin\n",
      "JOURS :  378   392\n"
     ]
    },
    {
     "name": "stderr",
     "output_type": "stream",
     "text": [
      "/Users/lilian/opt/anaconda3/lib/python3.8/site-packages/numpy/core/fromnumeric.py:3372: RuntimeWarning:\n",
      "\n",
      "Mean of empty slice.\n",
      "\n",
      "/Users/lilian/opt/anaconda3/lib/python3.8/site-packages/numpy/core/_methods.py:170: RuntimeWarning:\n",
      "\n",
      "invalid value encountered in double_scalars\n",
      "\n"
     ]
    },
    {
     "name": "stdout",
     "output_type": "stream",
     "text": [
      "nan\n",
      "cendra motin\n",
      "JOURS :  392   406\n",
      "1.5067554095413882\n",
      "cendra motin\n",
      "JOURS :  406   420\n",
      "cendra motin\n",
      "JOURS :  420   434\n",
      "cendra motin\n",
      "JOURS :  434   448\n",
      "1.5055556086798396\n",
      "cendra motin\n",
      "JOURS :  448   462\n",
      "1.5096962710756645\n",
      "cendra motin\n",
      "JOURS :  462   476\n",
      "1.5064623852121612\n",
      "cendra motin\n",
      "JOURS :  476   490\n",
      "1.4983828631841696\n",
      "cendra motin\n",
      "JOURS :  490   504\n",
      "1.4937227693615232\n",
      "cendra motin\n",
      "JOURS :  504   518\n",
      "1.519463451709069\n",
      "cendra motin\n",
      "JOURS :  518   532\n",
      "1.5030508610712883\n",
      "cendra motin\n",
      "JOURS :  532   546\n",
      "1.5030858910343776\n",
      "cendra motin\n",
      "JOURS :  546   560\n",
      "cendra motin\n",
      "JOURS :  560   574\n",
      "1.5009425425437142\n",
      "cendra motin\n",
      "JOURS :  574   588\n",
      "1.4999308708515884\n",
      "cendra motin\n",
      "JOURS :  588   602\n",
      "1.503779668986223\n",
      "cendra motin\n",
      "JOURS :  602   616\n",
      "1.4988461814857406\n",
      "cendra motin\n",
      "JOURS :  616   630\n",
      "1.5038525792946507\n",
      "cendra motin\n",
      "JOURS :  630   644\n",
      "1.4916270657286446\n",
      "cendra motin\n",
      "JOURS :  644   658\n",
      "1.4893324545990974\n",
      "cendra motin\n",
      "JOURS :  658   672\n",
      "1.492445516105002\n",
      "cendra motin\n",
      "JOURS :  672   686\n",
      "1.4939228819017467\n",
      "cendra motin\n",
      "JOURS :  686   700\n",
      "1.498046656946837\n",
      "cendra motin\n",
      "JOURS :  700   714\n",
      "1.4979158103997956\n",
      "cendra motin\n",
      "JOURS :  714   728\n",
      "1.5023301264984448\n",
      "cendra motin\n",
      "JOURS :  728   742\n",
      "1.4893664567401648\n",
      "cendra motin\n",
      "JOURS :  742   756\n",
      "1.5010015044637757\n",
      "cendra motin\n",
      "JOURS :  756   770\n",
      "cendra motin\n",
      "JOURS :  770   784\n",
      "cendra motin\n",
      "JOURS :  784   798\n",
      "cendra motin\n",
      "JOURS :  798   812\n",
      "1.5003989402140716\n",
      "cendra motin\n",
      "JOURS :  812   826\n",
      "1.499667447529324\n",
      "cendra motin\n",
      "JOURS :  826   840\n",
      "1.493792273531336\n",
      "cendra motin\n",
      "JOURS :  840   854\n",
      "1.4995359322449449\n",
      "cendra motin\n",
      "JOURS :  854   868\n",
      "1.4833668929503205\n",
      "cendra motin\n",
      "JOURS :  868   882\n",
      "1.5168093424871432\n",
      "cendra motin\n",
      "JOURS :  882   896\n",
      "1.4847714555783271\n",
      "cendra motin\n",
      "JOURS :  896   910\n",
      "1.501168333057161\n",
      "cendra motin\n",
      "JOURS :  910   924\n",
      "1.495551467253771\n",
      "cendra motin\n",
      "JOURS :  924   938\n",
      "1.4951279783513258\n",
      "cendra motin\n",
      "JOURS :  938   952\n",
      "1.4858265643742574\n",
      "cendra motin\n",
      "JOURS :  952   966\n",
      "1.4951827594230267\n",
      "cendra motin\n",
      "JOURS :  966   980\n",
      "1.5014581964371865\n",
      "cendra motin\n",
      "JOURS :  980   994\n",
      "1.5045307597888369\n",
      "cendra motin\n",
      "JOURS :  994   1008\n",
      "1.495339693021917\n",
      "cendra motin\n",
      "JOURS :  1008   1022\n",
      "cendra motin\n",
      "JOURS :  1022   1036\n",
      "1.5034353779759824\n",
      "cendra motin\n",
      "JOURS :  1036   1050\n",
      "1.5107299094299584\n",
      "cendra motin\n",
      "JOURS :  1050   1064\n",
      "1.495205364491234\n",
      "cendra motin\n",
      "JOURS :  1064   1078\n",
      "1.4936112840770754\n",
      "cendra motin\n",
      "JOURS :  1078   1092\n",
      "1.505899898847333\n",
      "cendra motin\n",
      "JOURS :  1092   1106\n",
      "1.496832775436251\n",
      "yael braun pivet\n",
      "JOURS :  0   14\n",
      "1.5202557485335582\n",
      "yael braun pivet\n",
      "JOURS :  14   28\n",
      "1.5011782396499305\n",
      "yael braun pivet\n",
      "JOURS :  28   42\n",
      "1.5313334849549733\n",
      "yael braun pivet\n",
      "JOURS :  42   56\n",
      "1.5076940033567663\n",
      "yael braun pivet\n",
      "JOURS :  56   70\n",
      "yael braun pivet\n",
      "JOURS :  70   84\n",
      "yael braun pivet\n",
      "JOURS :  84   98\n",
      "1.5042871687087676\n",
      "yael braun pivet\n",
      "JOURS :  98   112\n",
      "1.5109956044308985\n",
      "yael braun pivet\n",
      "JOURS :  112   126\n",
      "1.5028412536533389\n",
      "yael braun pivet\n",
      "JOURS :  126   140\n",
      "1.5078147406751359\n",
      "yael braun pivet\n",
      "JOURS :  140   154\n",
      "1.4972083631221629\n",
      "yael braun pivet\n",
      "JOURS :  154   168\n",
      "1.5110888368153383\n",
      "yael braun pivet\n",
      "JOURS :  168   182\n",
      "1.4892308308630722\n",
      "yael braun pivet\n",
      "JOURS :  182   196\n",
      "yael braun pivet\n",
      "JOURS :  196   210\n",
      "1.4990879697875865\n",
      "yael braun pivet\n",
      "JOURS :  210   224\n",
      "1.4934649697535038\n",
      "yael braun pivet\n",
      "JOURS :  224   238\n",
      "1.5030062069404975\n",
      "yael braun pivet\n",
      "JOURS :  238   252\n",
      "1.4882088722447915\n",
      "yael braun pivet\n",
      "JOURS :  252   266\n",
      "1.4898278834138279\n",
      "yael braun pivet\n",
      "JOURS :  266   280\n",
      "1.4920878159628432\n",
      "yael braun pivet\n",
      "JOURS :  280   294\n",
      "1.5016228462205743\n",
      "yael braun pivet\n",
      "JOURS :  294   308\n",
      "1.5062851594764806\n",
      "yael braun pivet\n",
      "JOURS :  308   322\n",
      "1.4869788904233459\n",
      "yael braun pivet\n",
      "JOURS :  322   336\n",
      "1.4884357103150645\n",
      "yael braun pivet\n",
      "JOURS :  336   350\n",
      "1.4999622559221533\n",
      "yael braun pivet\n",
      "JOURS :  350   364\n",
      "1.4983732301808887\n",
      "yael braun pivet\n",
      "JOURS :  364   378\n",
      "1.5000325679958033\n",
      "yael braun pivet\n",
      "JOURS :  378   392\n",
      "1.4992666750484849\n",
      "yael braun pivet\n",
      "JOURS :  392   406\n",
      "1.5098248691194007\n",
      "yael braun pivet\n",
      "JOURS :  406   420\n",
      "yael braun pivet\n",
      "JOURS :  420   434\n",
      "yael braun pivet\n",
      "JOURS :  434   448\n",
      "1.5023124058869364\n",
      "yael braun pivet\n",
      "JOURS :  448   462\n",
      "1.5010805915276462\n",
      "yael braun pivet\n",
      "JOURS :  462   476\n",
      "1.498680588111979\n",
      "yael braun pivet\n",
      "JOURS :  476   490\n",
      "1.502094050687616\n",
      "yael braun pivet\n",
      "JOURS :  490   504\n",
      "1.502337427747916\n",
      "yael braun pivet\n",
      "JOURS :  504   518\n",
      "1.4987151963870733\n",
      "yael braun pivet\n",
      "JOURS :  518   532\n",
      "1.4934281178501245\n",
      "yael braun pivet\n",
      "JOURS :  532   546\n",
      "1.5002227382866347\n",
      "yael braun pivet\n",
      "JOURS :  546   560\n",
      "yael braun pivet\n",
      "JOURS :  560   574\n",
      "1.5065504769906897\n",
      "yael braun pivet\n",
      "JOURS :  574   588\n",
      "1.504572442198403\n",
      "yael braun pivet\n",
      "JOURS :  588   602\n",
      "1.5032349765382458\n",
      "yael braun pivet\n",
      "JOURS :  602   616\n",
      "1.490379908610642\n",
      "yael braun pivet\n",
      "JOURS :  616   630\n",
      "1.511523303449919\n",
      "yael braun pivet\n",
      "JOURS :  630   644\n",
      "1.4989020080138304\n",
      "yael braun pivet\n",
      "JOURS :  644   658\n",
      "1.4928434808790798\n",
      "yael braun pivet\n",
      "JOURS :  658   672\n",
      "1.489925001312611\n",
      "yael braun pivet\n",
      "JOURS :  672   686\n",
      "1.4969524365417164\n",
      "yael braun pivet\n",
      "JOURS :  686   700\n",
      "1.5198035770696947\n",
      "yael braun pivet\n",
      "JOURS :  700   714\n",
      "1.49801536098653\n",
      "yael braun pivet\n",
      "JOURS :  714   728\n",
      "1.50179658524683\n",
      "yael braun pivet\n",
      "JOURS :  728   742\n",
      "1.501614391821187\n",
      "yael braun pivet\n",
      "JOURS :  742   756\n",
      "1.4917363142003919\n",
      "yael braun pivet\n",
      "JOURS :  756   770\n",
      "yael braun pivet\n",
      "JOURS :  770   784\n",
      "yael braun pivet\n",
      "JOURS :  784   798\n",
      "yael braun pivet\n",
      "JOURS :  798   812\n",
      "1.4997386886458597\n",
      "yael braun pivet\n",
      "JOURS :  812   826\n",
      "1.4948111449683086\n",
      "yael braun pivet\n",
      "JOURS :  826   840\n",
      "1.4984414148565885\n",
      "yael braun pivet\n",
      "JOURS :  840   854\n",
      "1.4973769199517546\n",
      "yael braun pivet\n",
      "JOURS :  854   868\n",
      "1.4883322103659535\n",
      "yael braun pivet\n",
      "JOURS :  868   882\n",
      "1.4981979470351543\n",
      "yael braun pivet\n",
      "JOURS :  882   896\n",
      "1.5033304833559449\n",
      "yael braun pivet\n",
      "JOURS :  896   910\n",
      "1.4943300585869845\n",
      "yael braun pivet\n",
      "JOURS :  910   924\n",
      "1.4874370017395802\n",
      "yael braun pivet\n",
      "JOURS :  924   938\n",
      "1.495644254070167\n",
      "yael braun pivet\n",
      "JOURS :  938   952\n",
      "1.4950459803974043\n",
      "yael braun pivet\n",
      "JOURS :  952   966\n",
      "1.5029703406541326\n",
      "yael braun pivet\n",
      "JOURS :  966   980\n",
      "1.5027916108509407\n",
      "yael braun pivet\n",
      "JOURS :  980   994\n",
      "1.507201706185502\n",
      "yael braun pivet\n",
      "JOURS :  994   1008\n",
      "1.5043207614120293\n",
      "yael braun pivet\n",
      "JOURS :  1008   1022\n",
      "yael braun pivet\n",
      "JOURS :  1022   1036\n",
      "1.497023288869789\n",
      "yael braun pivet\n",
      "JOURS :  1036   1050\n",
      "1.5069935895977393\n",
      "yael braun pivet\n",
      "JOURS :  1050   1064\n",
      "1.492560186451049\n",
      "yael braun pivet\n",
      "JOURS :  1064   1078\n",
      "1.4949980541046426\n",
      "yael braun pivet\n",
      "JOURS :  1078   1092\n",
      "1.5130833754001205\n",
      "yael braun pivet\n",
      "JOURS :  1092   1106\n",
      "1.4933967341193737\n",
      "catherine fabre\n",
      "JOURS :  0   14\n",
      "1.5064701301762313\n",
      "catherine fabre\n",
      "JOURS :  14   28\n",
      "1.5187169392602293\n",
      "catherine fabre\n",
      "JOURS :  28   42\n",
      "1.5114207835627553\n",
      "catherine fabre\n",
      "JOURS :  42   56\n",
      "1.5121186742232169\n",
      "catherine fabre\n",
      "JOURS :  56   70\n",
      "catherine fabre\n",
      "JOURS :  70   84\n",
      "catherine fabre\n",
      "JOURS :  84   98\n",
      "1.5107119441093684\n",
      "catherine fabre\n",
      "JOURS :  98   112\n",
      "1.514874012350709\n",
      "catherine fabre\n",
      "JOURS :  112   126\n",
      "1.5006648016190347\n",
      "catherine fabre\n",
      "JOURS :  126   140\n",
      "1.4978611255934133\n",
      "catherine fabre\n",
      "JOURS :  140   154\n",
      "1.5132584536246743\n",
      "catherine fabre\n",
      "JOURS :  154   168\n",
      "1.5081482179904921\n",
      "catherine fabre\n",
      "JOURS :  168   182\n",
      "1.5001948316426519\n",
      "catherine fabre\n",
      "JOURS :  182   196\n",
      "catherine fabre\n",
      "JOURS :  196   210\n",
      "1.4947582835123332\n",
      "catherine fabre\n",
      "JOURS :  210   224\n",
      "1.4998061555675406\n",
      "catherine fabre\n",
      "JOURS :  224   238\n",
      "1.4963959089140038\n",
      "catherine fabre\n",
      "JOURS :  238   252\n",
      "1.4960341511096598\n",
      "catherine fabre\n",
      "JOURS :  252   266\n",
      "1.4958637990951587\n",
      "catherine fabre\n",
      "JOURS :  266   280\n",
      "1.499647532730896\n",
      "catherine fabre\n",
      "JOURS :  280   294\n",
      "1.510614773282925\n",
      "catherine fabre\n",
      "JOURS :  294   308\n",
      "1.5125159133436885\n",
      "catherine fabre\n",
      "JOURS :  308   322\n",
      "1.4876484731097626\n",
      "catherine fabre\n",
      "JOURS :  322   336\n",
      "1.508856885559687\n",
      "catherine fabre\n",
      "JOURS :  336   350\n",
      "1.5042049046668817\n",
      "catherine fabre\n",
      "JOURS :  350   364\n",
      "1.503644126628882\n",
      "catherine fabre\n",
      "JOURS :  364   378\n",
      "1.494535592302495\n",
      "catherine fabre\n",
      "JOURS :  378   392\n",
      "1.5085292935461194\n",
      "catherine fabre\n",
      "JOURS :  392   406\n",
      "1.5065614045049858\n",
      "catherine fabre\n",
      "JOURS :  406   420\n",
      "catherine fabre\n",
      "JOURS :  420   434\n",
      "catherine fabre\n",
      "JOURS :  434   448\n"
     ]
    },
    {
     "name": "stdout",
     "output_type": "stream",
     "text": [
      "1.5055334354027892\n",
      "catherine fabre\n",
      "JOURS :  448   462\n",
      "1.4956000609645208\n",
      "catherine fabre\n",
      "JOURS :  462   476\n",
      "1.5051627914410624\n",
      "catherine fabre\n",
      "JOURS :  476   490\n",
      "1.506507971332629\n",
      "catherine fabre\n",
      "JOURS :  490   504\n",
      "1.4990249980744232\n",
      "catherine fabre\n",
      "JOURS :  504   518\n",
      "1.5066704114935434\n",
      "catherine fabre\n",
      "JOURS :  518   532\n",
      "1.5004171971633984\n",
      "catherine fabre\n",
      "JOURS :  532   546\n",
      "1.5015842684587601\n",
      "catherine fabre\n",
      "JOURS :  546   560\n",
      "catherine fabre\n",
      "JOURS :  560   574\n",
      "1.5048299059353194\n",
      "catherine fabre\n",
      "JOURS :  574   588\n",
      "1.502058866015407\n",
      "catherine fabre\n",
      "JOURS :  588   602\n",
      "1.4928401130046358\n",
      "catherine fabre\n",
      "JOURS :  602   616\n",
      "1.4923155444424554\n",
      "catherine fabre\n",
      "JOURS :  616   630\n",
      "1.5073765744428678\n",
      "catherine fabre\n",
      "JOURS :  630   644\n",
      "1.4914982085601678\n",
      "catherine fabre\n",
      "JOURS :  644   658\n",
      "1.5019094872518775\n",
      "catherine fabre\n",
      "JOURS :  658   672\n",
      "1.4924537773774826\n",
      "catherine fabre\n",
      "JOURS :  672   686\n",
      "1.504209243918797\n",
      "catherine fabre\n",
      "JOURS :  686   700\n",
      "1.5019518620046644\n",
      "catherine fabre\n",
      "JOURS :  700   714\n",
      "1.505816816083898\n",
      "catherine fabre\n",
      "JOURS :  714   728\n",
      "1.501770267075583\n",
      "catherine fabre\n",
      "JOURS :  728   742\n",
      "1.507362642000916\n",
      "catherine fabre\n",
      "JOURS :  742   756\n",
      "1.4974714445522759\n",
      "catherine fabre\n",
      "JOURS :  756   770\n",
      "catherine fabre\n",
      "JOURS :  770   784\n",
      "catherine fabre\n",
      "JOURS :  784   798\n",
      "catherine fabre\n",
      "JOURS :  798   812\n",
      "1.494229108185062\n",
      "catherine fabre\n",
      "JOURS :  812   826\n",
      "1.4950739938400972\n",
      "catherine fabre\n",
      "JOURS :  826   840\n",
      "1.49814473301297\n",
      "catherine fabre\n",
      "JOURS :  840   854\n",
      "1.4984262265477946\n",
      "catherine fabre\n",
      "JOURS :  854   868\n",
      "1.4900739537515812\n",
      "catherine fabre\n",
      "JOURS :  868   882\n",
      "1.5101772661449837\n",
      "catherine fabre\n",
      "JOURS :  882   896\n",
      "1.497006939008027\n",
      "catherine fabre\n",
      "JOURS :  896   910\n",
      "1.4987276132501746\n",
      "catherine fabre\n",
      "JOURS :  910   924\n",
      "1.4932754325169546\n",
      "catherine fabre\n",
      "JOURS :  924   938\n",
      "1.4979828006535072\n",
      "catherine fabre\n",
      "JOURS :  938   952\n",
      "1.4841063979968423\n",
      "catherine fabre\n",
      "JOURS :  952   966\n",
      "1.4881976709219435\n",
      "catherine fabre\n",
      "JOURS :  966   980\n",
      "1.4994584406267297\n",
      "catherine fabre\n",
      "JOURS :  980   994\n",
      "1.5067869615146117\n",
      "catherine fabre\n",
      "JOURS :  994   1008\n",
      "1.4999277298362115\n",
      "catherine fabre\n",
      "JOURS :  1008   1022\n",
      "catherine fabre\n",
      "JOURS :  1022   1036\n",
      "1.4924100660075006\n",
      "catherine fabre\n",
      "JOURS :  1036   1050\n",
      "1.5015416331963292\n",
      "catherine fabre\n",
      "JOURS :  1050   1064\n",
      "1.5074562702384176\n",
      "catherine fabre\n",
      "JOURS :  1064   1078\n",
      "1.501145118635866\n",
      "catherine fabre\n",
      "JOURS :  1078   1092\n",
      "1.5076598496796292\n",
      "catherine fabre\n",
      "JOURS :  1092   1106\n",
      "1.5061064587698816\n",
      "coralie dubost\n",
      "JOURS :  0   14\n",
      "1.516964891184868\n",
      "coralie dubost\n",
      "JOURS :  14   28\n",
      "1.5049634283738231\n",
      "coralie dubost\n",
      "JOURS :  28   42\n",
      "1.5101193670759951\n",
      "coralie dubost\n",
      "JOURS :  42   56\n",
      "1.502145990000863\n",
      "coralie dubost\n",
      "JOURS :  56   70\n",
      "coralie dubost\n",
      "JOURS :  70   84\n",
      "coralie dubost\n",
      "JOURS :  84   98\n",
      "1.5064953620259594\n",
      "coralie dubost\n",
      "JOURS :  98   112\n",
      "1.4989000305230535\n",
      "coralie dubost\n",
      "JOURS :  112   126\n",
      "1.5006738846905758\n",
      "coralie dubost\n",
      "JOURS :  126   140\n",
      "1.491877860208323\n",
      "coralie dubost\n",
      "JOURS :  140   154\n",
      "1.4988644473590478\n",
      "coralie dubost\n",
      "JOURS :  154   168\n",
      "1.50424566630365\n",
      "coralie dubost\n",
      "JOURS :  168   182\n",
      "1.496023089812033\n",
      "coralie dubost\n",
      "JOURS :  182   196\n",
      "coralie dubost\n",
      "JOURS :  196   210\n",
      "1.5004076664716182\n",
      "coralie dubost\n",
      "JOURS :  210   224\n",
      "1.5024530897446107\n",
      "coralie dubost\n",
      "JOURS :  224   238\n",
      "1.4993818369378484\n",
      "coralie dubost\n",
      "JOURS :  238   252\n",
      "1.4851409211094155\n",
      "coralie dubost\n",
      "JOURS :  252   266\n",
      "1.4933856595972337\n",
      "coralie dubost\n",
      "JOURS :  266   280\n",
      "1.4901182526665595\n",
      "coralie dubost\n",
      "JOURS :  280   294\n",
      "1.498732175304208\n",
      "coralie dubost\n",
      "JOURS :  294   308\n",
      "1.4866702409252683\n",
      "coralie dubost\n",
      "JOURS :  308   322\n",
      "1.4921494931797892\n",
      "coralie dubost\n",
      "JOURS :  322   336\n",
      "1.4917670470006723\n",
      "coralie dubost\n",
      "JOURS :  336   350\n",
      "1.505444694915623\n",
      "coralie dubost\n",
      "JOURS :  350   364\n",
      "1.4909691569166554\n",
      "coralie dubost\n",
      "JOURS :  364   378\n",
      "1.4980477425647216\n",
      "coralie dubost\n",
      "JOURS :  378   392\n",
      "1.517588077398643\n",
      "coralie dubost\n",
      "JOURS :  392   406\n",
      "1.4971082834333305\n",
      "coralie dubost\n",
      "JOURS :  406   420\n",
      "coralie dubost\n",
      "JOURS :  420   434\n",
      "coralie dubost\n",
      "JOURS :  434   448\n",
      "1.5084476604150405\n",
      "coralie dubost\n",
      "JOURS :  448   462\n",
      "1.502267269531171\n",
      "coralie dubost\n",
      "JOURS :  462   476\n",
      "1.499233975670736\n",
      "coralie dubost\n",
      "JOURS :  476   490\n",
      "1.4975089529885082\n",
      "coralie dubost\n",
      "JOURS :  490   504\n",
      "1.5005274596678344\n",
      "coralie dubost\n",
      "JOURS :  504   518\n",
      "1.4939334931724464\n",
      "coralie dubost\n",
      "JOURS :  518   532\n",
      "1.5001818188427478\n",
      "coralie dubost\n",
      "JOURS :  532   546\n",
      "1.5017843154782766\n",
      "coralie dubost\n",
      "JOURS :  546   560\n",
      "coralie dubost\n",
      "JOURS :  560   574\n",
      "1.4975627441097443\n",
      "coralie dubost\n",
      "JOURS :  574   588\n",
      "1.506654931742147\n",
      "coralie dubost\n",
      "JOURS :  588   602\n",
      "1.4915569497305032\n",
      "coralie dubost\n",
      "JOURS :  602   616\n",
      "1.4946776187231416\n",
      "coralie dubost\n",
      "JOURS :  616   630\n",
      "1.5067814350873199\n",
      "coralie dubost\n",
      "JOURS :  630   644\n",
      "1.4975627261665523\n",
      "coralie dubost\n",
      "JOURS :  644   658\n",
      "1.4963778115570978\n",
      "coralie dubost\n",
      "JOURS :  658   672\n",
      "1.495089990381232\n",
      "coralie dubost\n",
      "JOURS :  672   686\n",
      "1.4922716913792562\n",
      "coralie dubost\n",
      "JOURS :  686   700\n",
      "1.5054395228852375\n",
      "coralie dubost\n",
      "JOURS :  700   714\n",
      "1.4985198303737806\n",
      "coralie dubost\n",
      "JOURS :  714   728\n",
      "1.4960689478462044\n",
      "coralie dubost\n",
      "JOURS :  728   742\n",
      "1.5055166360800534\n",
      "coralie dubost\n",
      "JOURS :  742   756\n",
      "1.4889068915587413\n",
      "coralie dubost\n",
      "JOURS :  756   770\n",
      "coralie dubost\n",
      "JOURS :  770   784\n",
      "coralie dubost\n",
      "JOURS :  784   798\n",
      "coralie dubost\n",
      "JOURS :  798   812\n",
      "1.4954822633872242\n",
      "coralie dubost\n",
      "JOURS :  812   826\n",
      "1.4963453183588218\n",
      "coralie dubost\n",
      "JOURS :  826   840\n",
      "1.503685909497504\n",
      "coralie dubost\n",
      "JOURS :  840   854\n",
      "1.5109984980498112\n",
      "coralie dubost\n",
      "JOURS :  854   868\n",
      "1.5074719886756205\n",
      "coralie dubost\n",
      "JOURS :  868   882\n",
      "1.4984062197155554\n",
      "coralie dubost\n",
      "JOURS :  882   896\n",
      "1.494333330842055\n",
      "coralie dubost\n",
      "JOURS :  896   910\n",
      "1.5011318814679848\n",
      "coralie dubost\n",
      "JOURS :  910   924\n",
      "1.502890946231736\n",
      "coralie dubost\n",
      "JOURS :  924   938\n",
      "1.4900111628373847\n",
      "coralie dubost\n",
      "JOURS :  938   952\n",
      "1.4884074286653037\n",
      "coralie dubost\n",
      "JOURS :  952   966\n",
      "1.4941546233692027\n",
      "coralie dubost\n",
      "JOURS :  966   980\n",
      "1.5077509267768343\n",
      "coralie dubost\n",
      "JOURS :  980   994\n",
      "1.4942590078601534\n",
      "coralie dubost\n",
      "JOURS :  994   1008\n",
      "1.501894135643177\n",
      "coralie dubost\n",
      "JOURS :  1008   1022\n",
      "coralie dubost\n",
      "JOURS :  1022   1036\n",
      "1.498017036315815\n",
      "coralie dubost\n",
      "JOURS :  1036   1050\n",
      "1.503489883141333\n",
      "coralie dubost\n",
      "JOURS :  1050   1064\n",
      "1.490999222059975\n",
      "coralie dubost\n",
      "JOURS :  1064   1078\n",
      "1.4918367994325117\n",
      "coralie dubost\n",
      "JOURS :  1078   1092\n",
      "1.5031315376787042\n",
      "coralie dubost\n",
      "JOURS :  1092   1106\n",
      "1.5027355289563382\n"
     ]
    }
   ],
   "source": [
    "for orateur in orateurs_novices[2:11]:\n",
    "    T = [calcule_WMD_intervalle_personnalise(orateur, i, i + 14) for i in range(0, 1094, 14)]\n",
    "    pd.DataFrame(T, [i for i in range(0, 1094, 14)]).to_csv('results/WMDinter_temporel_' + orateur + '.csv')\n"
   ]
  },
  {
   "cell_type": "code",
   "execution_count": null,
   "metadata": {},
   "outputs": [
    {
     "name": "stdout",
     "output_type": "stream",
     "text": [
      "christophe naegelen\n",
      "JOURS :  0   14\n",
      "1.5041264509327203\n",
      "christophe naegelen\n",
      "JOURS :  14   28\n",
      "1.5009406989726606\n",
      "christophe naegelen\n",
      "JOURS :  28   42\n",
      "1.5106056689062846\n",
      "christophe naegelen\n",
      "JOURS :  42   56\n",
      "1.5043130283141943\n",
      "christophe naegelen\n",
      "JOURS :  56   70\n",
      "christophe naegelen\n",
      "JOURS :  70   84\n",
      "christophe naegelen\n",
      "JOURS :  84   98\n",
      "1.4988839678280543\n",
      "christophe naegelen\n",
      "JOURS :  98   112\n",
      "1.5139772824082334\n",
      "christophe naegelen\n",
      "JOURS :  112   126\n",
      "1.4920527786505955\n",
      "christophe naegelen\n",
      "JOURS :  126   140\n",
      "1.493121309234117\n",
      "christophe naegelen\n",
      "JOURS :  140   154\n",
      "1.497687642762507\n",
      "christophe naegelen\n",
      "JOURS :  154   168\n",
      "1.4951379920735854\n",
      "christophe naegelen\n",
      "JOURS :  168   182\n",
      "1.4959976439896\n",
      "christophe naegelen\n",
      "JOURS :  182   196\n",
      "christophe naegelen\n",
      "JOURS :  196   210\n",
      "1.4931075410619798\n",
      "christophe naegelen\n",
      "JOURS :  210   224\n",
      "1.501020286372129\n",
      "christophe naegelen\n",
      "JOURS :  224   238\n",
      "1.5026440797746974\n",
      "christophe naegelen\n",
      "JOURS :  238   252\n",
      "1.4906567616757203\n",
      "christophe naegelen\n",
      "JOURS :  252   266\n",
      "1.4953660999407965\n",
      "christophe naegelen\n",
      "JOURS :  266   280\n",
      "1.5058411608718567\n",
      "christophe naegelen\n",
      "JOURS :  280   294\n",
      "1.5029768043196974\n",
      "christophe naegelen\n",
      "JOURS :  294   308\n",
      "1.499416502476736\n",
      "christophe naegelen\n",
      "JOURS :  308   322\n",
      "1.4916660885038149\n",
      "christophe naegelen\n",
      "JOURS :  322   336\n",
      "1.4975037363410937\n",
      "christophe naegelen\n",
      "JOURS :  336   350\n",
      "1.5126114487291433\n",
      "christophe naegelen\n",
      "JOURS :  350   364\n",
      "1.5063767083325041\n",
      "christophe naegelen\n",
      "JOURS :  364   378\n",
      "1.5014898137986685\n",
      "christophe naegelen\n",
      "JOURS :  378   392\n",
      "1.5092013350665985\n",
      "christophe naegelen\n",
      "JOURS :  392   406\n",
      "1.5123897943150881\n",
      "christophe naegelen\n",
      "JOURS :  406   420\n",
      "christophe naegelen\n",
      "JOURS :  420   434\n",
      "christophe naegelen\n",
      "JOURS :  434   448\n",
      "1.5028019965098764\n",
      "christophe naegelen\n",
      "JOURS :  448   462\n",
      "1.5155985931655303\n",
      "christophe naegelen\n",
      "JOURS :  462   476\n",
      "1.493486784596785\n",
      "christophe naegelen\n",
      "JOURS :  476   490\n",
      "1.5132718133753498\n",
      "christophe naegelen\n",
      "JOURS :  490   504\n",
      "1.4927868183923032\n",
      "christophe naegelen\n",
      "JOURS :  504   518\n",
      "1.4990688559662653\n",
      "christophe naegelen\n",
      "JOURS :  518   532\n",
      "1.5025646442218819\n",
      "christophe naegelen\n",
      "JOURS :  532   546\n",
      "1.5016122847651627\n",
      "christophe naegelen\n",
      "JOURS :  546   560\n",
      "christophe naegelen\n",
      "JOURS :  560   574\n",
      "1.5026042206526524\n",
      "christophe naegelen\n",
      "JOURS :  574   588\n",
      "1.4981857119093949\n",
      "christophe naegelen\n",
      "JOURS :  588   602\n",
      "1.4992823520713965\n",
      "christophe naegelen\n",
      "JOURS :  602   616\n",
      "1.488625804420943\n",
      "christophe naegelen\n",
      "JOURS :  616   630\n",
      "1.5064785113269985\n",
      "christophe naegelen\n",
      "JOURS :  630   644\n",
      "1.4976223439531033\n",
      "christophe naegelen\n",
      "JOURS :  644   658\n",
      "1.489442163773105\n",
      "christophe naegelen\n",
      "JOURS :  658   672\n",
      "1.488014792689368\n",
      "christophe naegelen\n",
      "JOURS :  672   686\n",
      "1.503201758944687\n",
      "christophe naegelen\n",
      "JOURS :  686   700\n",
      "1.5149386936519156\n",
      "christophe naegelen\n",
      "JOURS :  700   714\n",
      "1.4970881148701514\n",
      "christophe naegelen\n",
      "JOURS :  714   728\n",
      "1.5064343083462324\n",
      "christophe naegelen\n",
      "JOURS :  728   742\n",
      "1.4963929839634433\n",
      "christophe naegelen\n",
      "JOURS :  742   756\n",
      "1.495398208089354\n",
      "christophe naegelen\n",
      "JOURS :  756   770\n",
      "christophe naegelen\n",
      "JOURS :  770   784\n",
      "christophe naegelen\n",
      "JOURS :  784   798\n",
      "christophe naegelen\n",
      "JOURS :  798   812\n",
      "1.4983754983350235\n",
      "christophe naegelen\n",
      "JOURS :  812   826\n",
      "1.4976959195804402\n",
      "christophe naegelen\n",
      "JOURS :  826   840\n",
      "1.5003564400130238\n",
      "christophe naegelen\n",
      "JOURS :  840   854\n",
      "1.5191776689154166\n",
      "christophe naegelen\n",
      "JOURS :  854   868\n",
      "1.5043720481733809\n",
      "christophe naegelen\n",
      "JOURS :  868   882\n",
      "1.5120357070509307\n",
      "christophe naegelen\n",
      "JOURS :  882   896\n",
      "1.4991197811350017\n",
      "christophe naegelen\n",
      "JOURS :  896   910\n",
      "1.489935755395171\n",
      "christophe naegelen\n",
      "JOURS :  910   924\n",
      "1.491844315180192\n",
      "christophe naegelen\n",
      "JOURS :  924   938\n",
      "1.4878508243707123\n",
      "christophe naegelen\n",
      "JOURS :  938   952\n",
      "1.4896652231725767\n",
      "christophe naegelen\n",
      "JOURS :  952   966\n",
      "1.5074079723748663\n",
      "christophe naegelen\n",
      "JOURS :  966   980\n",
      "1.5033332997187987\n",
      "christophe naegelen\n",
      "JOURS :  980   994\n",
      "1.5019851514345355\n",
      "christophe naegelen\n",
      "JOURS :  994   1008\n",
      "1.4981965048687786\n",
      "christophe naegelen\n",
      "JOURS :  1008   1022\n",
      "christophe naegelen\n",
      "JOURS :  1022   1036\n",
      "1.4966576588045506\n",
      "christophe naegelen\n",
      "JOURS :  1036   1050\n",
      "1.4957454981351654\n",
      "christophe naegelen\n",
      "JOURS :  1050   1064\n",
      "1.5054955949584488\n",
      "christophe naegelen\n",
      "JOURS :  1064   1078\n",
      "1.4981136694237827\n",
      "christophe naegelen\n",
      "JOURS :  1078   1092\n",
      "1.5033588188247882\n",
      "christophe naegelen\n",
      "JOURS :  1092   1106\n",
      "1.4987312910125714\n",
      "thomas mesnier\n",
      "JOURS :  0   14\n",
      "1.5118983773054875\n",
      "thomas mesnier\n",
      "JOURS :  14   28\n",
      "1.5155373931864762\n",
      "thomas mesnier\n",
      "JOURS :  28   42\n",
      "1.5096049170735266\n",
      "thomas mesnier\n",
      "JOURS :  42   56\n",
      "1.5076995333378964\n",
      "thomas mesnier\n",
      "JOURS :  56   70\n",
      "thomas mesnier\n",
      "JOURS :  70   84\n",
      "thomas mesnier\n",
      "JOURS :  84   98\n",
      "1.5088615524890285\n",
      "thomas mesnier\n",
      "JOURS :  98   112\n",
      "1.5034041986993258\n",
      "thomas mesnier\n",
      "JOURS :  112   126\n",
      "1.5035015935865037\n",
      "thomas mesnier\n",
      "JOURS :  126   140\n",
      "1.5050707114813529\n",
      "thomas mesnier\n",
      "JOURS :  140   154\n",
      "1.4993619572070798\n",
      "thomas mesnier\n",
      "JOURS :  154   168\n",
      "1.500055023582685\n",
      "thomas mesnier\n",
      "JOURS :  168   182\n",
      "1.5003633829119225\n",
      "thomas mesnier\n",
      "JOURS :  182   196\n",
      "thomas mesnier\n",
      "JOURS :  196   210\n",
      "1.4920354209253113\n",
      "thomas mesnier\n",
      "JOURS :  210   224\n",
      "1.4944020782696432\n",
      "thomas mesnier\n",
      "JOURS :  224   238\n",
      "1.493481325156752\n",
      "thomas mesnier\n",
      "JOURS :  238   252\n",
      "1.4905537547228025\n",
      "thomas mesnier\n",
      "JOURS :  252   266\n",
      "1.4877564114821478\n",
      "thomas mesnier\n",
      "JOURS :  266   280\n",
      "1.4981544655383363\n",
      "thomas mesnier\n",
      "JOURS :  280   294\n",
      "1.4875225585416734\n",
      "thomas mesnier\n",
      "JOURS :  294   308\n",
      "1.4985993832109827\n",
      "thomas mesnier\n",
      "JOURS :  308   322\n",
      "1.4969575534049058\n",
      "thomas mesnier\n",
      "JOURS :  322   336\n",
      "1.5015255502182345\n",
      "thomas mesnier\n",
      "JOURS :  336   350\n",
      "1.503396054121859\n",
      "thomas mesnier\n",
      "JOURS :  350   364\n",
      "1.5030786328868095\n",
      "thomas mesnier\n",
      "JOURS :  364   378\n",
      "1.500578857249577\n",
      "thomas mesnier\n",
      "JOURS :  378   392\n",
      "1.522639191014151\n",
      "thomas mesnier\n",
      "JOURS :  392   406\n",
      "1.5118473838944066\n",
      "thomas mesnier\n",
      "JOURS :  406   420\n",
      "thomas mesnier\n",
      "JOURS :  420   434\n",
      "thomas mesnier\n",
      "JOURS :  434   448\n",
      "1.5070069020685313\n",
      "thomas mesnier\n",
      "JOURS :  448   462\n",
      "1.5096514042060158\n",
      "thomas mesnier\n",
      "JOURS :  462   476\n",
      "1.5042558290982153\n",
      "thomas mesnier\n",
      "JOURS :  476   490\n",
      "1.5000818779201666\n",
      "thomas mesnier\n",
      "JOURS :  490   504\n",
      "1.5036756922047891\n",
      "thomas mesnier\n",
      "JOURS :  504   518\n",
      "1.4936830221399289\n",
      "thomas mesnier\n",
      "JOURS :  518   532\n",
      "1.4934713260829384\n",
      "thomas mesnier\n",
      "JOURS :  532   546\n",
      "1.4976112586249815\n",
      "thomas mesnier\n",
      "JOURS :  546   560\n",
      "thomas mesnier\n",
      "JOURS :  560   574\n",
      "1.4912229551707363\n",
      "thomas mesnier\n",
      "JOURS :  574   588\n",
      "1.5011145454178525\n",
      "thomas mesnier\n",
      "JOURS :  588   602\n",
      "1.484947762374733\n",
      "thomas mesnier\n",
      "JOURS :  602   616\n",
      "1.4956731861070653\n",
      "thomas mesnier\n",
      "JOURS :  616   630\n",
      "1.5013734279738138\n",
      "thomas mesnier\n",
      "JOURS :  630   644\n",
      "1.5049944588750943\n",
      "thomas mesnier\n",
      "JOURS :  644   658\n",
      "1.4925850774294573\n",
      "thomas mesnier\n",
      "JOURS :  658   672\n",
      "1.498977774101452\n",
      "thomas mesnier\n",
      "JOURS :  672   686\n",
      "1.5059401219803907\n",
      "thomas mesnier\n",
      "JOURS :  686   700\n",
      "1.499830988944267\n",
      "thomas mesnier\n",
      "JOURS :  700   714\n",
      "1.503894961822006\n",
      "thomas mesnier\n",
      "JOURS :  714   728\n",
      "1.4884478213935959\n",
      "thomas mesnier\n",
      "JOURS :  728   742\n",
      "1.4961616378247828\n",
      "thomas mesnier\n",
      "JOURS :  742   756\n",
      "1.4900224753827338\n",
      "thomas mesnier\n",
      "JOURS :  756   770\n",
      "thomas mesnier\n",
      "JOURS :  770   784\n",
      "thomas mesnier\n",
      "JOURS :  784   798\n",
      "thomas mesnier\n",
      "JOURS :  798   812\n",
      "1.4981729989901382\n",
      "thomas mesnier\n",
      "JOURS :  812   826\n",
      "1.4998264548215026\n",
      "thomas mesnier\n",
      "JOURS :  826   840\n",
      "1.5140440069580148\n",
      "thomas mesnier\n",
      "JOURS :  840   854\n",
      "1.5109933524644392\n",
      "thomas mesnier\n",
      "JOURS :  854   868\n",
      "1.4896969123002641\n",
      "thomas mesnier\n",
      "JOURS :  868   882\n",
      "1.4881477410436657\n",
      "thomas mesnier\n",
      "JOURS :  882   896\n",
      "1.491511287970502\n",
      "thomas mesnier\n",
      "JOURS :  896   910\n",
      "1.487808029200616\n",
      "thomas mesnier\n",
      "JOURS :  910   924\n",
      "1.4895701052930526\n",
      "thomas mesnier\n",
      "JOURS :  924   938\n",
      "1.5033952297619388\n",
      "thomas mesnier\n",
      "JOURS :  938   952\n",
      "1.4906499645638422\n",
      "thomas mesnier\n",
      "JOURS :  952   966\n",
      "1.49641815670347\n",
      "thomas mesnier\n",
      "JOURS :  966   980\n",
      "1.4991884981582448\n",
      "thomas mesnier\n",
      "JOURS :  980   994\n",
      "1.5134057476171485\n",
      "thomas mesnier\n",
      "JOURS :  994   1008\n",
      "1.500208735515009\n",
      "thomas mesnier\n",
      "JOURS :  1008   1022\n",
      "thomas mesnier\n",
      "JOURS :  1022   1036\n",
      "1.4944075298630446\n",
      "thomas mesnier\n",
      "JOURS :  1036   1050\n",
      "1.4961787137713876\n",
      "thomas mesnier\n",
      "JOURS :  1050   1064\n",
      "1.4943185240185275\n",
      "thomas mesnier\n",
      "JOURS :  1064   1078\n"
     ]
    },
    {
     "name": "stdout",
     "output_type": "stream",
     "text": [
      "1.5004437731089066\n",
      "thomas mesnier\n",
      "JOURS :  1078   1092\n"
     ]
    },
    {
     "name": "stderr",
     "output_type": "stream",
     "text": [
      "/Users/lilian/opt/anaconda3/lib/python3.8/site-packages/numpy/core/fromnumeric.py:3372: RuntimeWarning:\n",
      "\n",
      "Mean of empty slice.\n",
      "\n",
      "/Users/lilian/opt/anaconda3/lib/python3.8/site-packages/numpy/core/_methods.py:170: RuntimeWarning:\n",
      "\n",
      "invalid value encountered in double_scalars\n",
      "\n"
     ]
    },
    {
     "name": "stdout",
     "output_type": "stream",
     "text": [
      "nan\n",
      "thomas mesnier\n",
      "JOURS :  1092   1106\n",
      "1.500756636610909\n",
      "jean baptiste djebbari\n",
      "JOURS :  0   14\n",
      "1.5067889406851027\n",
      "jean baptiste djebbari\n",
      "JOURS :  14   28\n",
      "1.5145904886127315\n",
      "jean baptiste djebbari\n",
      "JOURS :  28   42\n",
      "1.508759996470925\n",
      "jean baptiste djebbari\n",
      "JOURS :  42   56\n",
      "1.4989366302996785\n",
      "jean baptiste djebbari\n",
      "JOURS :  56   70\n",
      "jean baptiste djebbari\n",
      "JOURS :  70   84\n",
      "jean baptiste djebbari\n",
      "JOURS :  84   98\n",
      "1.4981252445576965\n",
      "jean baptiste djebbari\n",
      "JOURS :  98   112\n",
      "1.508669561731922\n",
      "jean baptiste djebbari\n",
      "JOURS :  112   126\n",
      "1.4938652095319982\n",
      "jean baptiste djebbari\n",
      "JOURS :  126   140\n",
      "1.500182162230248\n",
      "jean baptiste djebbari\n",
      "JOURS :  140   154\n",
      "1.5031154228860044\n",
      "jean baptiste djebbari\n",
      "JOURS :  154   168\n",
      "1.4978909023691156\n",
      "jean baptiste djebbari\n",
      "JOURS :  168   182\n",
      "1.5010949200908044\n",
      "jean baptiste djebbari\n",
      "JOURS :  182   196\n",
      "jean baptiste djebbari\n",
      "JOURS :  196   210\n",
      "1.5034687959628303\n",
      "jean baptiste djebbari\n",
      "JOURS :  210   224\n",
      "1.4984927105008454\n",
      "jean baptiste djebbari\n",
      "JOURS :  224   238\n",
      "1.5027813005445614\n",
      "jean baptiste djebbari\n",
      "JOURS :  238   252\n",
      "1.486407906584417\n",
      "jean baptiste djebbari\n",
      "JOURS :  252   266\n",
      "1.4862126640730464\n",
      "jean baptiste djebbari\n",
      "JOURS :  266   280\n",
      "1.5067479564024762\n",
      "jean baptiste djebbari\n",
      "JOURS :  280   294\n",
      "1.4990549662947816\n",
      "jean baptiste djebbari\n",
      "JOURS :  294   308\n",
      "1.5112122692286505\n",
      "jean baptiste djebbari\n",
      "JOURS :  308   322\n",
      "1.4879340731519555\n",
      "jean baptiste djebbari\n",
      "JOURS :  322   336\n",
      "1.495498883124891\n",
      "jean baptiste djebbari\n",
      "JOURS :  336   350\n",
      "1.4990980286160442\n",
      "jean baptiste djebbari\n",
      "JOURS :  350   364\n",
      "1.5030221675245852\n",
      "jean baptiste djebbari\n",
      "JOURS :  364   378\n",
      "1.5080713412127247\n",
      "jean baptiste djebbari\n",
      "JOURS :  378   392\n",
      "1.5050705961572957\n",
      "jean baptiste djebbari\n",
      "JOURS :  392   406\n",
      "1.5069622488936332\n",
      "jean baptiste djebbari\n",
      "JOURS :  406   420\n",
      "jean baptiste djebbari\n",
      "JOURS :  420   434\n",
      "jean baptiste djebbari\n",
      "JOURS :  434   448\n",
      "1.492344353817854\n",
      "jean baptiste djebbari\n",
      "JOURS :  448   462\n",
      "1.5150604706790853\n",
      "jean baptiste djebbari\n",
      "JOURS :  462   476\n",
      "1.5016045729363612\n",
      "jean baptiste djebbari\n",
      "JOURS :  476   490\n",
      "1.5021949292921661\n",
      "jean baptiste djebbari\n",
      "JOURS :  490   504\n",
      "1.5058725469452179\n",
      "jean baptiste djebbari\n",
      "JOURS :  504   518\n",
      "1.5014596881427302\n",
      "jean baptiste djebbari\n",
      "JOURS :  518   532\n",
      "1.494967874478412\n",
      "jean baptiste djebbari\n",
      "JOURS :  532   546\n",
      "1.5060965989155515\n",
      "jean baptiste djebbari\n",
      "JOURS :  546   560\n",
      "jean baptiste djebbari\n",
      "JOURS :  560   574\n",
      "1.4998019137033163\n",
      "jean baptiste djebbari\n",
      "JOURS :  574   588\n",
      "1.4986484664784534\n",
      "jean baptiste djebbari\n",
      "JOURS :  588   602\n",
      "1.515869176759735\n",
      "jean baptiste djebbari\n",
      "JOURS :  602   616\n",
      "1.4957455736283936\n",
      "jean baptiste djebbari\n",
      "JOURS :  616   630\n",
      "1.4985874818854092\n",
      "jean baptiste djebbari\n",
      "JOURS :  630   644\n",
      "1.5069014996413217\n",
      "jean baptiste djebbari\n",
      "JOURS :  644   658\n",
      "1.4928722314191067\n",
      "jean baptiste djebbari\n",
      "JOURS :  658   672\n",
      "1.4946043765531625\n",
      "jean baptiste djebbari\n",
      "JOURS :  672   686\n",
      "1.5104680433675355\n",
      "jean baptiste djebbari\n",
      "JOURS :  686   700\n",
      "1.4982956135032892\n",
      "jean baptiste djebbari\n",
      "JOURS :  700   714\n",
      "1.5005476769263104\n",
      "jean baptiste djebbari\n",
      "JOURS :  714   728\n",
      "1.4924430266173072\n",
      "jean baptiste djebbari\n",
      "JOURS :  728   742\n",
      "1.4975657336214698\n",
      "jean baptiste djebbari\n",
      "JOURS :  742   756\n",
      "1.5069604697234322\n",
      "jean baptiste djebbari\n",
      "JOURS :  756   770\n",
      "jean baptiste djebbari\n",
      "JOURS :  770   784\n",
      "jean baptiste djebbari\n",
      "JOURS :  784   798\n",
      "jean baptiste djebbari\n",
      "JOURS :  798   812\n",
      "1.488452516088223\n",
      "jean baptiste djebbari\n",
      "JOURS :  812   826\n",
      "1.5146486767879686\n",
      "jean baptiste djebbari\n",
      "JOURS :  826   840\n",
      "1.5025101775228222\n",
      "jean baptiste djebbari\n",
      "JOURS :  840   854\n",
      "1.5054751452328228\n",
      "jean baptiste djebbari\n",
      "JOURS :  854   868\n",
      "1.4949255620570019\n",
      "jean baptiste djebbari\n",
      "JOURS :  868   882\n",
      "1.4943572804457588\n",
      "jean baptiste djebbari\n",
      "JOURS :  882   896\n",
      "1.5017629699664967\n",
      "jean baptiste djebbari\n",
      "JOURS :  896   910\n",
      "1.5049151906625584\n",
      "jean baptiste djebbari\n",
      "JOURS :  910   924\n",
      "1.5004722197776363\n",
      "jean baptiste djebbari\n",
      "JOURS :  924   938\n",
      "1.4881989204159811\n",
      "jean baptiste djebbari\n",
      "JOURS :  938   952\n",
      "1.4883626678022417\n",
      "jean baptiste djebbari\n",
      "JOURS :  952   966\n",
      "1.4997444932844404\n",
      "jean baptiste djebbari\n",
      "JOURS :  966   980\n",
      "1.511003432856562\n",
      "jean baptiste djebbari\n",
      "JOURS :  980   994\n",
      "1.5064916476515684\n",
      "jean baptiste djebbari\n",
      "JOURS :  994   1008\n",
      "1.4997671052811359\n",
      "jean baptiste djebbari\n",
      "JOURS :  1008   1022\n",
      "jean baptiste djebbari\n",
      "JOURS :  1022   1036\n",
      "1.502638453346437\n",
      "jean baptiste djebbari\n",
      "JOURS :  1036   1050\n",
      "1.4982788913768976\n",
      "jean baptiste djebbari\n",
      "JOURS :  1050   1064\n",
      "1.4988918696184195\n",
      "jean baptiste djebbari\n",
      "JOURS :  1064   1078\n",
      "1.4912268572225826\n",
      "jean baptiste djebbari\n",
      "JOURS :  1078   1092\n",
      "1.5076130764289568\n",
      "jean baptiste djebbari\n",
      "JOURS :  1092   1106\n",
      "1.503339885794585\n",
      "nadia hai\n",
      "JOURS :  0   14\n",
      "1.508468384845662\n",
      "nadia hai\n",
      "JOURS :  14   28\n",
      "1.5107219651869663\n",
      "nadia hai\n",
      "JOURS :  28   42\n",
      "1.5092832114301502\n",
      "nadia hai\n",
      "JOURS :  42   56\n",
      "1.4983191036133572\n",
      "nadia hai\n",
      "JOURS :  56   70\n",
      "nadia hai\n",
      "JOURS :  70   84\n",
      "nadia hai\n",
      "JOURS :  84   98\n",
      "1.4987165323749472\n",
      "nadia hai\n",
      "JOURS :  98   112\n",
      "1.5043840058713385\n",
      "nadia hai\n",
      "JOURS :  112   126\n",
      "1.4953989127072325\n",
      "nadia hai\n",
      "JOURS :  126   140\n",
      "1.4996849245060258\n",
      "nadia hai\n",
      "JOURS :  140   154\n",
      "1.5018306577707543\n",
      "nadia hai\n",
      "JOURS :  154   168\n",
      "1.4972169253770462\n",
      "nadia hai\n",
      "JOURS :  168   182\n",
      "1.4914948199673472\n",
      "nadia hai\n",
      "JOURS :  182   196\n",
      "nadia hai\n",
      "JOURS :  196   210\n",
      "1.4953313269372073\n",
      "nadia hai\n",
      "JOURS :  210   224\n",
      "1.5016399548097985\n",
      "nadia hai\n",
      "JOURS :  224   238\n",
      "1.4918423579985205\n",
      "nadia hai\n",
      "JOURS :  238   252\n",
      "1.47598311473319\n",
      "nadia hai\n",
      "JOURS :  252   266\n",
      "1.4921796836725145\n",
      "nadia hai\n",
      "JOURS :  266   280\n",
      "1.5094299348365114\n",
      "nadia hai\n",
      "JOURS :  280   294\n",
      "1.495459528040779\n",
      "nadia hai\n",
      "JOURS :  294   308\n",
      "1.4940359389491682\n",
      "nadia hai\n",
      "JOURS :  308   322\n",
      "1.4923852172935523\n",
      "nadia hai\n",
      "JOURS :  322   336\n",
      "1.5023187398592244\n",
      "nadia hai\n",
      "JOURS :  336   350\n",
      "1.5020480157692988\n",
      "nadia hai\n",
      "JOURS :  350   364\n",
      "1.5016576785864166\n",
      "nadia hai\n",
      "JOURS :  364   378\n",
      "1.5108943502092878\n",
      "nadia hai\n",
      "JOURS :  378   392\n",
      "1.505969197015438\n",
      "nadia hai\n",
      "JOURS :  392   406\n",
      "1.5022761929501218\n",
      "nadia hai\n",
      "JOURS :  406   420\n",
      "nadia hai\n",
      "JOURS :  420   434\n",
      "nadia hai\n",
      "JOURS :  434   448\n",
      "1.5146113111752666\n",
      "nadia hai\n",
      "JOURS :  448   462\n",
      "1.497538296385874\n",
      "nadia hai\n",
      "JOURS :  462   476\n",
      "1.5049788327476445\n",
      "nadia hai\n",
      "JOURS :  476   490\n",
      "1.5053240715065082\n",
      "nadia hai\n",
      "JOURS :  490   504\n",
      "1.497958410455072\n",
      "nadia hai\n",
      "JOURS :  504   518\n",
      "1.510155528675133\n",
      "nadia hai\n",
      "JOURS :  518   532\n",
      "1.5087143464869122\n",
      "nadia hai\n",
      "JOURS :  532   546\n",
      "1.50774015983605\n",
      "nadia hai\n",
      "JOURS :  546   560\n",
      "nadia hai\n",
      "JOURS :  560   574\n",
      "1.5037732407679332\n",
      "nadia hai\n",
      "JOURS :  574   588\n",
      "1.501198892376441\n",
      "nadia hai\n",
      "JOURS :  588   602\n",
      "1.5050322124639401\n",
      "nadia hai\n",
      "JOURS :  602   616\n",
      "1.4931802470388886\n",
      "nadia hai\n",
      "JOURS :  616   630\n",
      "1.5070662508463004\n",
      "nadia hai\n",
      "JOURS :  630   644\n",
      "1.5058650683810961\n",
      "nadia hai\n",
      "JOURS :  644   658\n",
      "1.5040539851911876\n",
      "nadia hai\n",
      "JOURS :  658   672\n",
      "1.4900782154782442\n",
      "nadia hai\n",
      "JOURS :  672   686\n",
      "1.5080660958014516\n",
      "nadia hai\n",
      "JOURS :  686   700\n",
      "1.5086703645306445\n",
      "nadia hai\n",
      "JOURS :  700   714\n",
      "1.5030778634390334\n",
      "nadia hai\n",
      "JOURS :  714   728\n",
      "1.500785036618739\n",
      "nadia hai\n",
      "JOURS :  728   742\n",
      "1.504698444366296\n",
      "nadia hai\n",
      "JOURS :  742   756\n",
      "1.4997201818945471\n",
      "nadia hai\n",
      "JOURS :  756   770\n",
      "nadia hai\n",
      "JOURS :  770   784\n",
      "nadia hai\n",
      "JOURS :  784   798\n",
      "nadia hai\n",
      "JOURS :  798   812\n",
      "1.5091519159418472\n",
      "nadia hai\n",
      "JOURS :  812   826\n",
      "1.5061011631301506\n",
      "nadia hai\n",
      "JOURS :  826   840\n",
      "1.5098591252041127\n",
      "nadia hai\n",
      "JOURS :  840   854\n",
      "1.4944741881719332\n",
      "nadia hai\n",
      "JOURS :  854   868\n",
      "1.4985576592776615\n",
      "nadia hai\n",
      "JOURS :  868   882\n",
      "1.4999862333272016\n",
      "nadia hai\n",
      "JOURS :  882   896\n",
      "1.489676975318578\n",
      "nadia hai\n",
      "JOURS :  896   910\n",
      "1.4952355747114963\n",
      "nadia hai\n",
      "JOURS :  910   924\n",
      "1.498634843603744\n",
      "nadia hai\n",
      "JOURS :  924   938\n",
      "1.5043310979489721\n",
      "nadia hai\n",
      "JOURS :  938   952\n",
      "1.5000479881503956\n",
      "nadia hai\n",
      "JOURS :  952   966\n",
      "1.4935900969286695\n",
      "nadia hai\n",
      "JOURS :  966   980\n",
      "1.5091824235315914\n",
      "nadia hai\n",
      "JOURS :  980   994\n",
      "1.4962291552026976\n",
      "nadia hai\n",
      "JOURS :  994   1008\n",
      "1.5069689108743074\n",
      "nadia hai\n",
      "JOURS :  1008   1022\n",
      "nadia hai\n",
      "JOURS :  1022   1036\n",
      "1.5047137376988278\n",
      "nadia hai\n",
      "JOURS :  1036   1050\n",
      "1.4928072907503178\n",
      "nadia hai\n",
      "JOURS :  1050   1064\n",
      "1.497170938691486\n",
      "nadia hai\n",
      "JOURS :  1064   1078\n",
      "1.4913144732442185\n",
      "nadia hai\n",
      "JOURS :  1078   1092\n",
      "1.5047890683376632\n",
      "nadia hai\n",
      "JOURS :  1092   1106\n"
     ]
    },
    {
     "name": "stdout",
     "output_type": "stream",
     "text": [
      "1.5094412036147253\n",
      "marie christine verdier jouclas\n",
      "JOURS :  0   14\n",
      "1.4919787712020938\n",
      "marie christine verdier jouclas\n",
      "JOURS :  14   28\n",
      "1.5126180745557178\n",
      "marie christine verdier jouclas\n",
      "JOURS :  28   42\n",
      "1.5182677092265848\n",
      "marie christine verdier jouclas\n",
      "JOURS :  42   56\n",
      "1.494771818331527\n",
      "marie christine verdier jouclas\n",
      "JOURS :  56   70\n",
      "marie christine verdier jouclas\n",
      "JOURS :  70   84\n",
      "marie christine verdier jouclas\n",
      "JOURS :  84   98\n",
      "1.5063606259695348\n",
      "marie christine verdier jouclas\n",
      "JOURS :  98   112\n",
      "1.4971772861259227\n",
      "marie christine verdier jouclas\n",
      "JOURS :  112   126\n",
      "1.4988938482944631\n",
      "marie christine verdier jouclas\n",
      "JOURS :  126   140\n",
      "1.4989472784494056\n",
      "marie christine verdier jouclas\n",
      "JOURS :  140   154\n",
      "1.5135506636884795\n",
      "marie christine verdier jouclas\n",
      "JOURS :  154   168\n",
      "1.4900272138737272\n",
      "marie christine verdier jouclas\n",
      "JOURS :  168   182\n",
      "1.495490298202946\n",
      "marie christine verdier jouclas\n",
      "JOURS :  182   196\n",
      "marie christine verdier jouclas\n",
      "JOURS :  196   210\n",
      "1.4907416681844579\n",
      "marie christine verdier jouclas\n",
      "JOURS :  210   224\n",
      "1.494704960029452\n",
      "marie christine verdier jouclas\n",
      "JOURS :  224   238\n",
      "1.487590616185856\n",
      "marie christine verdier jouclas\n",
      "JOURS :  238   252\n",
      "1.491665623715126\n",
      "marie christine verdier jouclas\n",
      "JOURS :  252   266\n",
      "1.4918394270374573\n",
      "marie christine verdier jouclas\n",
      "JOURS :  266   280\n",
      "1.5069522915450837\n",
      "marie christine verdier jouclas\n",
      "JOURS :  280   294\n",
      "1.4937138246901216\n",
      "marie christine verdier jouclas\n",
      "JOURS :  294   308\n",
      "1.5014250243940455\n",
      "marie christine verdier jouclas\n",
      "JOURS :  308   322\n",
      "1.4776959296146917\n",
      "marie christine verdier jouclas\n",
      "JOURS :  322   336\n",
      "1.512344607216999\n",
      "marie christine verdier jouclas\n",
      "JOURS :  336   350\n",
      "1.512285693250601\n",
      "marie christine verdier jouclas\n",
      "JOURS :  350   364\n",
      "1.4970914921510812\n",
      "marie christine verdier jouclas\n",
      "JOURS :  364   378\n",
      "1.501092585621821\n",
      "marie christine verdier jouclas\n",
      "JOURS :  378   392\n",
      "1.5201579029758008\n",
      "marie christine verdier jouclas\n",
      "JOURS :  392   406\n",
      "1.5083965913938628\n",
      "marie christine verdier jouclas\n",
      "JOURS :  406   420\n",
      "marie christine verdier jouclas\n",
      "JOURS :  420   434\n",
      "marie christine verdier jouclas\n",
      "JOURS :  434   448\n",
      "1.5019969217165445\n",
      "marie christine verdier jouclas\n",
      "JOURS :  448   462\n",
      "1.5046546279381217\n",
      "marie christine verdier jouclas\n",
      "JOURS :  462   476\n",
      "1.4977419884053773\n",
      "marie christine verdier jouclas\n",
      "JOURS :  476   490\n",
      "1.490419687208364\n",
      "marie christine verdier jouclas\n",
      "JOURS :  490   504\n",
      "1.5007246057782186\n",
      "marie christine verdier jouclas\n",
      "JOURS :  504   518\n",
      "1.486753276805984\n",
      "marie christine verdier jouclas\n",
      "JOURS :  518   532\n",
      "1.5024793766770772\n",
      "marie christine verdier jouclas\n",
      "JOURS :  532   546\n",
      "1.497161922745431\n",
      "marie christine verdier jouclas\n",
      "JOURS :  546   560\n",
      "marie christine verdier jouclas\n",
      "JOURS :  560   574\n",
      "1.505058281330289\n",
      "marie christine verdier jouclas\n",
      "JOURS :  574   588\n",
      "1.5006946304416466\n",
      "marie christine verdier jouclas\n",
      "JOURS :  588   602\n",
      "1.4982952495863593\n",
      "marie christine verdier jouclas\n",
      "JOURS :  602   616\n",
      "1.50333515647718\n",
      "marie christine verdier jouclas\n",
      "JOURS :  616   630\n",
      "1.5043032462374775\n",
      "marie christine verdier jouclas\n",
      "JOURS :  630   644\n",
      "1.4889737479935823\n",
      "marie christine verdier jouclas\n",
      "JOURS :  644   658\n",
      "1.4967508640586933\n",
      "marie christine verdier jouclas\n",
      "JOURS :  658   672\n",
      "1.4923752592923805\n",
      "marie christine verdier jouclas\n",
      "JOURS :  672   686\n",
      "1.4924344955894895\n",
      "marie christine verdier jouclas\n",
      "JOURS :  686   700\n",
      "1.5108912866759308\n",
      "marie christine verdier jouclas\n",
      "JOURS :  700   714\n",
      "1.5107948353403047\n",
      "marie christine verdier jouclas\n",
      "JOURS :  714   728\n",
      "1.498986845138369\n",
      "marie christine verdier jouclas\n",
      "JOURS :  728   742\n",
      "1.492254077365462\n",
      "marie christine verdier jouclas\n",
      "JOURS :  742   756\n",
      "1.4844432910717593\n",
      "marie christine verdier jouclas\n",
      "JOURS :  756   770\n",
      "marie christine verdier jouclas\n",
      "JOURS :  770   784\n",
      "marie christine verdier jouclas\n",
      "JOURS :  784   798\n",
      "marie christine verdier jouclas\n",
      "JOURS :  798   812\n",
      "1.4999372585343291\n",
      "marie christine verdier jouclas\n",
      "JOURS :  812   826\n",
      "1.4967160297573145\n",
      "marie christine verdier jouclas\n",
      "JOURS :  826   840\n",
      "1.4997185216767612\n",
      "marie christine verdier jouclas\n",
      "JOURS :  840   854\n",
      "1.4969046707158549\n",
      "marie christine verdier jouclas\n",
      "JOURS :  854   868\n",
      "1.5015323167264272\n",
      "marie christine verdier jouclas\n",
      "JOURS :  868   882\n",
      "1.4962757783094538\n",
      "marie christine verdier jouclas\n",
      "JOURS :  882   896\n",
      "1.50193098722876\n",
      "marie christine verdier jouclas\n",
      "JOURS :  896   910\n",
      "1.5062277794930405\n",
      "marie christine verdier jouclas\n",
      "JOURS :  910   924\n",
      "1.4858445282449388\n",
      "marie christine verdier jouclas\n",
      "JOURS :  924   938\n",
      "1.4854882751643081\n",
      "marie christine verdier jouclas\n",
      "JOURS :  938   952\n",
      "1.5004632751855354\n",
      "marie christine verdier jouclas\n",
      "JOURS :  952   966\n",
      "1.5010874273726118\n",
      "marie christine verdier jouclas\n",
      "JOURS :  966   980\n",
      "1.5015286554549856\n",
      "marie christine verdier jouclas\n",
      "JOURS :  980   994\n",
      "1.5074799291781402\n",
      "marie christine verdier jouclas\n",
      "JOURS :  994   1008\n",
      "1.5045441845851077\n",
      "marie christine verdier jouclas\n",
      "JOURS :  1008   1022\n",
      "marie christine verdier jouclas\n",
      "JOURS :  1022   1036\n",
      "1.4905233549901724\n",
      "marie christine verdier jouclas\n",
      "JOURS :  1036   1050\n",
      "1.4955030160508045\n",
      "marie christine verdier jouclas\n",
      "JOURS :  1050   1064\n",
      "1.494692352237811\n",
      "marie christine verdier jouclas\n",
      "JOURS :  1064   1078\n",
      "1.5025061966553732\n",
      "marie christine verdier jouclas\n",
      "JOURS :  1078   1092\n",
      "1.5004683961520597\n",
      "marie christine verdier jouclas\n",
      "JOURS :  1092   1106\n",
      "1.5059653158622688\n",
      "bruno studer\n",
      "JOURS :  0   14\n",
      "1.499868099943335\n",
      "bruno studer\n",
      "JOURS :  14   28\n",
      "1.5108248080970308\n",
      "bruno studer\n",
      "JOURS :  28   42\n",
      "1.4978254764552554\n",
      "bruno studer\n",
      "JOURS :  42   56\n",
      "1.507050024668369\n",
      "bruno studer\n",
      "JOURS :  56   70\n",
      "bruno studer\n",
      "JOURS :  70   84\n",
      "bruno studer\n",
      "JOURS :  84   98\n",
      "1.5045609137026954\n",
      "bruno studer\n",
      "JOURS :  98   112\n",
      "1.492552378162678\n",
      "bruno studer\n",
      "JOURS :  112   126\n",
      "1.5152272666686095\n",
      "bruno studer\n",
      "JOURS :  126   140\n",
      "1.496367812443006\n",
      "bruno studer\n",
      "JOURS :  140   154\n",
      "1.5031241661865775\n",
      "bruno studer\n",
      "JOURS :  154   168\n",
      "1.4909543649593375\n",
      "bruno studer\n",
      "JOURS :  168   182\n",
      "1.4948519151780226\n",
      "bruno studer\n",
      "JOURS :  182   196\n",
      "bruno studer\n",
      "JOURS :  196   210\n",
      "1.5094491689374014\n",
      "bruno studer\n",
      "JOURS :  210   224\n",
      "1.5073262052534337\n",
      "bruno studer\n",
      "JOURS :  224   238\n",
      "1.4909547546255462\n",
      "bruno studer\n",
      "JOURS :  238   252\n",
      "1.4949032355441771\n",
      "bruno studer\n",
      "JOURS :  252   266\n",
      "1.4838772978848727\n",
      "bruno studer\n",
      "JOURS :  266   280\n",
      "1.5004338948755145\n",
      "bruno studer\n",
      "JOURS :  280   294\n",
      "1.509804285898938\n",
      "bruno studer\n",
      "JOURS :  294   308\n",
      "1.4944839376587464\n",
      "bruno studer\n",
      "JOURS :  308   322\n",
      "1.4862196195781607\n",
      "bruno studer\n",
      "JOURS :  322   336\n",
      "1.4922517948836813\n",
      "bruno studer\n",
      "JOURS :  336   350\n",
      "1.5016579868096849\n",
      "bruno studer\n",
      "JOURS :  350   364\n",
      "1.5054302284974856\n",
      "bruno studer\n",
      "JOURS :  364   378\n",
      "1.4965638456867014\n",
      "bruno studer\n",
      "JOURS :  378   392\n",
      "1.513169372019616\n",
      "bruno studer\n",
      "JOURS :  392   406\n",
      "1.5030816435733387\n",
      "bruno studer\n",
      "JOURS :  406   420\n",
      "bruno studer\n",
      "JOURS :  420   434\n",
      "bruno studer\n",
      "JOURS :  434   448\n",
      "1.504291152937474\n",
      "bruno studer\n",
      "JOURS :  448   462\n",
      "1.5059269992936384\n",
      "bruno studer\n",
      "JOURS :  462   476\n",
      "1.5093180513588667\n",
      "bruno studer\n",
      "JOURS :  476   490\n",
      "1.4876404233961729\n",
      "bruno studer\n",
      "JOURS :  490   504\n",
      "1.4902004532876696\n",
      "bruno studer\n",
      "JOURS :  504   518\n",
      "1.501831517264087\n",
      "bruno studer\n",
      "JOURS :  518   532\n",
      "1.4949461977881318\n",
      "bruno studer\n",
      "JOURS :  532   546\n",
      "1.5171351796679602\n",
      "bruno studer\n",
      "JOURS :  546   560\n",
      "bruno studer\n",
      "JOURS :  560   574\n",
      "1.4958521402852323\n",
      "bruno studer\n",
      "JOURS :  574   588\n",
      "1.5082058115268389\n",
      "bruno studer\n",
      "JOURS :  588   602\n",
      "1.5016719146077346\n",
      "bruno studer\n",
      "JOURS :  602   616\n",
      "1.5029576865835623\n",
      "bruno studer\n",
      "JOURS :  616   630\n",
      "1.5032061874427227\n",
      "bruno studer\n",
      "JOURS :  630   644\n",
      "1.4922503599497794\n",
      "bruno studer\n",
      "JOURS :  644   658\n",
      "1.4972016201709055\n",
      "bruno studer\n",
      "JOURS :  658   672\n",
      "1.4981080629936396\n",
      "bruno studer\n",
      "JOURS :  672   686\n",
      "1.4923711907919228\n",
      "bruno studer\n",
      "JOURS :  686   700\n",
      "1.492931679252917\n",
      "bruno studer\n",
      "JOURS :  700   714\n",
      "1.4917188426398054\n",
      "bruno studer\n",
      "JOURS :  714   728\n",
      "1.489181095066656\n",
      "bruno studer\n",
      "JOURS :  728   742\n",
      "1.503572892193181\n",
      "bruno studer\n",
      "JOURS :  742   756\n",
      "1.4954929846668452\n",
      "bruno studer\n",
      "JOURS :  756   770\n",
      "bruno studer\n",
      "JOURS :  770   784\n",
      "bruno studer\n",
      "JOURS :  784   798\n",
      "bruno studer\n",
      "JOURS :  798   812\n",
      "1.495014617369529\n",
      "bruno studer\n",
      "JOURS :  812   826\n",
      "1.5034824010073486\n",
      "bruno studer\n",
      "JOURS :  826   840\n",
      "1.5026436144682942\n",
      "bruno studer\n",
      "JOURS :  840   854\n"
     ]
    },
    {
     "name": "stdout",
     "output_type": "stream",
     "text": [
      "1.490621512218354\n",
      "bruno studer\n",
      "JOURS :  854   868\n",
      "1.491881706143678\n",
      "bruno studer\n",
      "JOURS :  868   882\n",
      "1.4958263985161337\n",
      "bruno studer\n",
      "JOURS :  882   896\n",
      "1.4977404312118576\n",
      "bruno studer\n",
      "JOURS :  896   910\n",
      "1.500233245848476\n",
      "bruno studer\n",
      "JOURS :  910   924\n",
      "1.5007167348403678\n",
      "bruno studer\n",
      "JOURS :  924   938\n",
      "1.492220403348434\n",
      "bruno studer\n",
      "JOURS :  938   952\n",
      "1.4965838408996328\n",
      "bruno studer\n",
      "JOURS :  952   966\n",
      "1.5034931902494428\n",
      "bruno studer\n",
      "JOURS :  966   980\n",
      "1.5099439554918772\n",
      "bruno studer\n",
      "JOURS :  980   994\n",
      "1.5017558725859317\n",
      "bruno studer\n",
      "JOURS :  994   1008\n",
      "1.5022538896538844\n",
      "bruno studer\n",
      "JOURS :  1008   1022\n",
      "bruno studer\n",
      "JOURS :  1022   1036\n",
      "1.4972813288889852\n",
      "bruno studer\n",
      "JOURS :  1036   1050\n",
      "1.499943401813084\n",
      "bruno studer\n",
      "JOURS :  1050   1064\n",
      "1.4891058207669658\n",
      "bruno studer\n",
      "JOURS :  1064   1078\n",
      "1.4968055917076732\n",
      "bruno studer\n",
      "JOURS :  1078   1092\n",
      "1.496089437895457\n",
      "bruno studer\n",
      "JOURS :  1092   1106\n",
      "1.4986011383433606\n",
      "sacha houlie\n",
      "JOURS :  0   14\n",
      "1.5071427950585987\n",
      "sacha houlie\n",
      "JOURS :  14   28\n",
      "1.5041866553308056\n",
      "sacha houlie\n",
      "JOURS :  28   42\n",
      "1.5098328566045673\n",
      "sacha houlie\n",
      "JOURS :  42   56\n",
      "1.5077542443176233\n",
      "sacha houlie\n",
      "JOURS :  56   70\n",
      "sacha houlie\n",
      "JOURS :  70   84\n",
      "sacha houlie\n",
      "JOURS :  84   98\n",
      "1.5053826526811604\n",
      "sacha houlie\n",
      "JOURS :  98   112\n",
      "1.5171468142771551\n",
      "sacha houlie\n",
      "JOURS :  112   126\n",
      "1.4918537043373747\n",
      "sacha houlie\n",
      "JOURS :  126   140\n",
      "1.4972010618682456\n",
      "sacha houlie\n",
      "JOURS :  140   154\n",
      "1.4970974417785525\n",
      "sacha houlie\n",
      "JOURS :  154   168\n",
      "1.5093738492130437\n",
      "sacha houlie\n",
      "JOURS :  168   182\n",
      "1.5049807940137787\n",
      "sacha houlie\n",
      "JOURS :  182   196\n",
      "sacha houlie\n",
      "JOURS :  196   210\n",
      "1.495541255596666\n",
      "sacha houlie\n",
      "JOURS :  210   224\n",
      "1.4891517634340912\n",
      "sacha houlie\n",
      "JOURS :  224   238\n",
      "1.4902702020386867\n",
      "sacha houlie\n",
      "JOURS :  238   252\n",
      "1.485589232586732\n",
      "sacha houlie\n",
      "JOURS :  252   266\n",
      "1.4941982558826201\n",
      "sacha houlie\n",
      "JOURS :  266   280\n",
      "1.500787053054988\n",
      "sacha houlie\n",
      "JOURS :  280   294\n",
      "1.5070823205970507\n",
      "sacha houlie\n",
      "JOURS :  294   308\n",
      "1.496295196940251\n",
      "sacha houlie\n",
      "JOURS :  308   322\n",
      "1.4921717020988217\n",
      "sacha houlie\n",
      "JOURS :  322   336\n",
      "1.516901818532215\n",
      "sacha houlie\n",
      "JOURS :  336   350\n",
      "1.5074087133226042\n",
      "sacha houlie\n",
      "JOURS :  350   364\n",
      "1.5025046929748394\n",
      "sacha houlie\n",
      "JOURS :  364   378\n",
      "1.4974290738215814\n",
      "sacha houlie\n",
      "JOURS :  378   392\n",
      "1.5041363429809123\n",
      "sacha houlie\n",
      "JOURS :  392   406\n",
      "1.504296912403544\n",
      "sacha houlie\n",
      "JOURS :  406   420\n",
      "sacha houlie\n",
      "JOURS :  420   434\n",
      "sacha houlie\n",
      "JOURS :  434   448\n",
      "1.5043834409305172\n",
      "sacha houlie\n",
      "JOURS :  448   462\n",
      "1.5129426835740643\n",
      "sacha houlie\n",
      "JOURS :  462   476\n",
      "1.5006979417839605\n",
      "sacha houlie\n",
      "JOURS :  476   490\n",
      "1.498564135075065\n",
      "sacha houlie\n",
      "JOURS :  490   504\n",
      "1.4965337620157269\n",
      "sacha houlie\n",
      "JOURS :  504   518\n",
      "1.5064944451081723\n",
      "sacha houlie\n",
      "JOURS :  518   532\n",
      "1.5024123160345466\n",
      "sacha houlie\n",
      "JOURS :  532   546\n",
      "1.5047835458102916\n",
      "sacha houlie\n",
      "JOURS :  546   560\n",
      "sacha houlie\n",
      "JOURS :  560   574\n",
      "1.4990160109680457\n",
      "sacha houlie\n",
      "JOURS :  574   588\n",
      "1.5119403694683313\n",
      "sacha houlie\n",
      "JOURS :  588   602\n",
      "1.4965853392009563\n",
      "sacha houlie\n",
      "JOURS :  602   616\n",
      "1.4858136875868346\n",
      "sacha houlie\n",
      "JOURS :  616   630\n",
      "1.508669381271636\n",
      "sacha houlie\n",
      "JOURS :  630   644\n",
      "1.5030747795470827\n",
      "sacha houlie\n",
      "JOURS :  644   658\n",
      "1.4950701780978475\n",
      "sacha houlie\n",
      "JOURS :  658   672\n",
      "1.491942039033372\n",
      "sacha houlie\n",
      "JOURS :  672   686\n",
      "1.492072128813546\n",
      "sacha houlie\n",
      "JOURS :  686   700\n",
      "1.5023923120521945\n",
      "sacha houlie\n",
      "JOURS :  700   714\n",
      "1.5015194379670895\n",
      "sacha houlie\n",
      "JOURS :  714   728\n",
      "1.5001365803593167\n",
      "sacha houlie\n",
      "JOURS :  728   742\n",
      "1.5049054555359171\n",
      "sacha houlie\n",
      "JOURS :  742   756\n",
      "1.5003561827977487\n",
      "sacha houlie\n",
      "JOURS :  756   770\n",
      "sacha houlie\n",
      "JOURS :  770   784\n",
      "sacha houlie\n",
      "JOURS :  784   798\n",
      "sacha houlie\n",
      "JOURS :  798   812\n",
      "1.4995409760950131\n",
      "sacha houlie\n",
      "JOURS :  812   826\n",
      "1.4978255252893806\n",
      "sacha houlie\n",
      "JOURS :  826   840\n",
      "1.511335871659998\n",
      "sacha houlie\n",
      "JOURS :  840   854\n",
      "1.5058239114159526\n",
      "sacha houlie\n",
      "JOURS :  854   868\n",
      "1.4860874516297526\n",
      "sacha houlie\n",
      "JOURS :  868   882\n",
      "1.5026357271376016\n",
      "sacha houlie\n",
      "JOURS :  882   896\n",
      "1.5034082500594226\n",
      "sacha houlie\n",
      "JOURS :  896   910\n",
      "1.5018327074235471\n",
      "sacha houlie\n",
      "JOURS :  910   924\n",
      "1.497104480122924\n",
      "sacha houlie\n",
      "JOURS :  924   938\n",
      "1.4968486782429704\n",
      "sacha houlie\n",
      "JOURS :  938   952\n",
      "1.4969308496740086\n",
      "sacha houlie\n",
      "JOURS :  952   966\n",
      "1.503092676743251\n",
      "sacha houlie\n",
      "JOURS :  966   980\n",
      "1.4973967201207368\n",
      "sacha houlie\n",
      "JOURS :  980   994\n",
      "1.494956652258186\n",
      "sacha houlie\n",
      "JOURS :  994   1008\n",
      "1.5101295188671913\n",
      "sacha houlie\n",
      "JOURS :  1008   1022\n",
      "sacha houlie\n",
      "JOURS :  1022   1036\n",
      "1.5033289878834781\n",
      "sacha houlie\n",
      "JOURS :  1036   1050\n",
      "1.500098571503436\n",
      "sacha houlie\n",
      "JOURS :  1050   1064\n",
      "1.4966971136669873\n",
      "sacha houlie\n",
      "JOURS :  1064   1078\n",
      "1.4916571712896491\n",
      "sacha houlie\n",
      "JOURS :  1078   1092\n",
      "1.4943406697914448\n",
      "sacha houlie\n",
      "JOURS :  1092   1106\n",
      "1.49825770573757\n",
      "gilles le gendre\n",
      "JOURS :  0   14\n",
      "1.5092652384034428\n",
      "gilles le gendre\n",
      "JOURS :  14   28\n",
      "1.505674684331797\n",
      "gilles le gendre\n",
      "JOURS :  28   42\n",
      "1.5289651096605792\n",
      "gilles le gendre\n",
      "JOURS :  42   56\n",
      "1.5078853611779448\n",
      "gilles le gendre\n",
      "JOURS :  56   70\n",
      "gilles le gendre\n",
      "JOURS :  70   84\n",
      "gilles le gendre\n",
      "JOURS :  84   98\n",
      "1.504134068891881\n",
      "gilles le gendre\n",
      "JOURS :  98   112\n",
      "1.5022886556270625\n",
      "gilles le gendre\n",
      "JOURS :  112   126\n",
      "1.5004999775505117\n",
      "gilles le gendre\n",
      "JOURS :  126   140\n",
      "1.4958033871048764\n",
      "gilles le gendre\n",
      "JOURS :  140   154\n",
      "1.5079051264100474\n",
      "gilles le gendre\n",
      "JOURS :  154   168\n",
      "1.5017092089801065\n",
      "gilles le gendre\n",
      "JOURS :  168   182\n",
      "1.490207802494091\n",
      "gilles le gendre\n",
      "JOURS :  182   196\n",
      "gilles le gendre\n",
      "JOURS :  196   210\n",
      "1.4988346059457942\n",
      "gilles le gendre\n",
      "JOURS :  210   224\n",
      "1.493147447662918\n",
      "gilles le gendre\n",
      "JOURS :  224   238\n",
      "1.4948033833503884\n",
      "gilles le gendre\n",
      "JOURS :  238   252\n",
      "1.4847956665769377\n",
      "gilles le gendre\n",
      "JOURS :  252   266\n",
      "1.4901837774309803\n",
      "gilles le gendre\n",
      "JOURS :  266   280\n",
      "1.4948879422686943\n",
      "gilles le gendre\n",
      "JOURS :  280   294\n",
      "1.4942266167027203\n",
      "gilles le gendre\n",
      "JOURS :  294   308\n",
      "1.50388407611275\n",
      "gilles le gendre\n",
      "JOURS :  308   322\n",
      "1.4812787881758633\n",
      "gilles le gendre\n",
      "JOURS :  322   336\n",
      "1.4963672631344387\n",
      "gilles le gendre\n",
      "JOURS :  336   350\n",
      "1.5033782975241885\n",
      "gilles le gendre\n",
      "JOURS :  350   364\n",
      "1.4982307382867694\n",
      "gilles le gendre\n",
      "JOURS :  364   378\n",
      "1.5044461612588396\n",
      "gilles le gendre\n",
      "JOURS :  378   392\n",
      "1.5048789491702763\n",
      "gilles le gendre\n",
      "JOURS :  392   406\n",
      "1.5048290752475064\n",
      "gilles le gendre\n",
      "JOURS :  406   420\n",
      "gilles le gendre\n",
      "JOURS :  420   434\n",
      "gilles le gendre\n",
      "JOURS :  434   448\n",
      "1.5113532433504369\n",
      "gilles le gendre\n",
      "JOURS :  448   462\n",
      "1.509489661247775\n",
      "gilles le gendre\n",
      "JOURS :  462   476\n",
      "1.5110953941676895\n",
      "gilles le gendre\n",
      "JOURS :  476   490\n",
      "1.4964889101589163\n",
      "gilles le gendre\n",
      "JOURS :  490   504\n",
      "1.498600742178997\n",
      "gilles le gendre\n",
      "JOURS :  504   518\n",
      "1.499818405053962\n",
      "gilles le gendre\n",
      "JOURS :  518   532\n",
      "1.5057472786336608\n",
      "gilles le gendre\n",
      "JOURS :  532   546\n",
      "1.5003648631669875\n",
      "gilles le gendre\n",
      "JOURS :  546   560\n",
      "gilles le gendre\n",
      "JOURS :  560   574\n",
      "1.4967686029719238\n",
      "gilles le gendre\n",
      "JOURS :  574   588\n",
      "1.5018784070008386\n",
      "gilles le gendre\n",
      "JOURS :  588   602\n",
      "1.5061184457618877\n",
      "gilles le gendre\n",
      "JOURS :  602   616\n",
      "1.4962880876683788\n",
      "gilles le gendre\n",
      "JOURS :  616   630\n",
      "1.5049108803639761\n",
      "gilles le gendre\n",
      "JOURS :  630   644\n",
      "1.499210056206659\n",
      "gilles le gendre\n",
      "JOURS :  644   658\n",
      "1.498669104036044\n",
      "gilles le gendre\n",
      "JOURS :  658   672\n",
      "1.4882462646919372\n",
      "gilles le gendre\n",
      "JOURS :  672   686\n",
      "1.494704582269291\n",
      "gilles le gendre\n",
      "JOURS :  686   700\n",
      "1.507265212926946\n",
      "gilles le gendre\n",
      "JOURS :  700   714\n",
      "1.4963296357234026\n",
      "gilles le gendre\n",
      "JOURS :  714   728\n",
      "1.4999498600989443\n",
      "gilles le gendre\n",
      "JOURS :  728   742\n",
      "1.499427348340639\n",
      "gilles le gendre\n",
      "JOURS :  742   756\n",
      "1.5054162122904327\n",
      "gilles le gendre\n",
      "JOURS :  756   770\n",
      "gilles le gendre\n",
      "JOURS :  770   784\n",
      "gilles le gendre\n",
      "JOURS :  784   798\n",
      "gilles le gendre\n",
      "JOURS :  798   812\n",
      "1.4866266347119097\n",
      "gilles le gendre\n",
      "JOURS :  812   826\n",
      "1.4966632430388132\n",
      "gilles le gendre\n",
      "JOURS :  826   840\n",
      "1.5027692478307795\n",
      "gilles le gendre\n",
      "JOURS :  840   854\n",
      "1.5198975681440483\n",
      "gilles le gendre\n",
      "JOURS :  854   868\n",
      "1.499845236138309\n",
      "gilles le gendre\n",
      "JOURS :  868   882\n",
      "1.496342748440753\n",
      "gilles le gendre\n",
      "JOURS :  882   896\n"
     ]
    },
    {
     "name": "stderr",
     "output_type": "stream",
     "text": [
      "/Users/lilian/opt/anaconda3/lib/python3.8/site-packages/numpy/core/fromnumeric.py:3372: RuntimeWarning:\n",
      "\n",
      "Mean of empty slice.\n",
      "\n",
      "/Users/lilian/opt/anaconda3/lib/python3.8/site-packages/numpy/core/_methods.py:170: RuntimeWarning:\n",
      "\n",
      "invalid value encountered in double_scalars\n",
      "\n"
     ]
    },
    {
     "name": "stdout",
     "output_type": "stream",
     "text": [
      "nan\n",
      "gilles le gendre\n",
      "JOURS :  896   910\n",
      "1.5022269257320668\n",
      "gilles le gendre\n",
      "JOURS :  910   924\n",
      "1.4881765244370984\n",
      "gilles le gendre\n",
      "JOURS :  924   938\n",
      "1.4962008351449063\n",
      "gilles le gendre\n",
      "JOURS :  938   952\n",
      "1.4981997701547802\n",
      "gilles le gendre\n",
      "JOURS :  952   966\n",
      "1.5065813615574914\n",
      "gilles le gendre\n",
      "JOURS :  966   980\n",
      "1.5021141205342843\n",
      "gilles le gendre\n",
      "JOURS :  980   994\n",
      "1.5017451244869378\n",
      "gilles le gendre\n",
      "JOURS :  994   1008\n",
      "1.504809644161299\n",
      "gilles le gendre\n",
      "JOURS :  1008   1022\n",
      "gilles le gendre\n",
      "JOURS :  1022   1036\n",
      "1.4991198659984724\n",
      "gilles le gendre\n",
      "JOURS :  1036   1050\n",
      "1.5142647299881478\n",
      "gilles le gendre\n",
      "JOURS :  1050   1064\n",
      "1.4923190725618498\n",
      "gilles le gendre\n",
      "JOURS :  1064   1078\n",
      "1.4829136315841471\n",
      "gilles le gendre\n",
      "JOURS :  1078   1092\n",
      "1.5013808448021708\n",
      "gilles le gendre\n",
      "JOURS :  1092   1106\n",
      "1.511114527745032\n",
      "berangere couillard\n",
      "JOURS :  0   14\n",
      "1.5035399216069043\n",
      "berangere couillard\n",
      "JOURS :  14   28\n",
      "1.5173781781753806\n",
      "berangere couillard\n",
      "JOURS :  28   42\n",
      "1.5034432095773684\n",
      "berangere couillard\n",
      "JOURS :  42   56\n",
      "1.4976373796349527\n",
      "berangere couillard\n",
      "JOURS :  56   70\n",
      "berangere couillard\n",
      "JOURS :  70   84\n",
      "berangere couillard\n",
      "JOURS :  84   98\n",
      "1.5022140499564816\n",
      "berangere couillard\n",
      "JOURS :  98   112\n",
      "1.4917644682582367\n",
      "berangere couillard\n",
      "JOURS :  112   126\n",
      "1.4991590314782501\n",
      "berangere couillard\n",
      "JOURS :  126   140\n",
      "1.5111085163975255\n",
      "berangere couillard\n",
      "JOURS :  140   154\n",
      "1.4910377047744592\n",
      "berangere couillard\n",
      "JOURS :  154   168\n",
      "1.4999878349390912\n",
      "berangere couillard\n",
      "JOURS :  168   182\n",
      "1.491630716733978\n",
      "berangere couillard\n",
      "JOURS :  182   196\n",
      "berangere couillard\n",
      "JOURS :  196   210\n",
      "1.4980073324999255\n",
      "berangere couillard\n",
      "JOURS :  210   224\n",
      "1.498979025570722\n",
      "berangere couillard\n",
      "JOURS :  224   238\n",
      "1.4893674942274584\n",
      "berangere couillard\n",
      "JOURS :  238   252\n",
      "1.4771050623895323\n",
      "berangere couillard\n",
      "JOURS :  252   266\n",
      "1.4947455332663775\n",
      "berangere couillard\n",
      "JOURS :  266   280\n",
      "1.4920312283020931\n",
      "berangere couillard\n",
      "JOURS :  280   294\n",
      "1.4979722509870335\n",
      "berangere couillard\n",
      "JOURS :  294   308\n",
      "1.4930233972763758\n",
      "berangere couillard\n",
      "JOURS :  308   322\n",
      "1.497830008735736\n",
      "berangere couillard\n",
      "JOURS :  322   336\n",
      "1.5034754906392935\n",
      "berangere couillard\n",
      "JOURS :  336   350\n",
      "1.4980583781719992\n",
      "berangere couillard\n",
      "JOURS :  350   364\n",
      "1.5125111687777208\n",
      "berangere couillard\n",
      "JOURS :  364   378\n",
      "1.5048887588374165\n",
      "berangere couillard\n",
      "JOURS :  378   392\n",
      "1.5102296131071866\n",
      "berangere couillard\n",
      "JOURS :  392   406\n",
      "1.504526411662532\n",
      "berangere couillard\n",
      "JOURS :  406   420\n",
      "berangere couillard\n",
      "JOURS :  420   434\n",
      "berangere couillard\n",
      "JOURS :  434   448\n",
      "1.5034010319991131\n",
      "berangere couillard\n",
      "JOURS :  448   462\n",
      "1.5034795775328427\n",
      "berangere couillard\n",
      "JOURS :  462   476\n",
      "1.501038228931581\n",
      "berangere couillard\n",
      "JOURS :  476   490\n",
      "1.499914708523846\n",
      "berangere couillard\n",
      "JOURS :  490   504\n",
      "1.499894646088498\n",
      "berangere couillard\n",
      "JOURS :  504   518\n",
      "1.5004734694948265\n",
      "berangere couillard\n",
      "JOURS :  518   532\n",
      "1.5002350775032267\n",
      "berangere couillard\n",
      "JOURS :  532   546\n",
      "1.505546695710764\n",
      "berangere couillard\n",
      "JOURS :  546   560\n",
      "berangere couillard\n",
      "JOURS :  560   574\n",
      "1.4994525638332667\n",
      "berangere couillard\n",
      "JOURS :  574   588\n",
      "1.4920197822557575\n",
      "berangere couillard\n",
      "JOURS :  588   602\n",
      "1.4969418207395233\n",
      "berangere couillard\n",
      "JOURS :  602   616\n",
      "1.493158372150486\n",
      "berangere couillard\n",
      "JOURS :  616   630\n",
      "1.5004269488929924\n",
      "berangere couillard\n",
      "JOURS :  630   644\n",
      "1.4987941371491695\n",
      "berangere couillard\n",
      "JOURS :  644   658\n",
      "1.501564877031249\n",
      "berangere couillard\n",
      "JOURS :  658   672\n",
      "1.4985118505430348\n",
      "berangere couillard\n",
      "JOURS :  672   686\n",
      "1.4933204469012347\n",
      "berangere couillard\n",
      "JOURS :  686   700\n",
      "1.4983691293515746\n",
      "berangere couillard\n",
      "JOURS :  700   714\n",
      "1.4918613968349796\n",
      "berangere couillard\n",
      "JOURS :  714   728\n",
      "1.5122618028954617\n",
      "berangere couillard\n",
      "JOURS :  728   742\n",
      "1.5005773776161642\n",
      "berangere couillard\n",
      "JOURS :  742   756\n",
      "1.5088307500426053\n",
      "berangere couillard\n",
      "JOURS :  756   770\n",
      "berangere couillard\n",
      "JOURS :  770   784\n",
      "berangere couillard\n",
      "JOURS :  784   798\n",
      "berangere couillard\n",
      "JOURS :  798   812\n",
      "1.4893018541900664\n",
      "berangere couillard\n",
      "JOURS :  812   826\n",
      "1.496462899010452\n",
      "berangere couillard\n",
      "JOURS :  826   840\n"
     ]
    }
   ],
   "source": [
    "for orateur in orateurs_novices[11:]:\n",
    "    T = [calcule_WMD_intervalle_personnalise(orateur, i, i + 14) for i in range(0, 1094, 14)]\n",
    "    pd.DataFrame(T, [i for i in range(0, 1094, 14)]).to_csv('results/WMDinter_temporel_' + orateur + '.csv')\n",
    "\n",
    "v"
   ]
  },
  {
   "cell_type": "markdown",
   "metadata": {},
   "source": [
    "## Nombre de mots utilisés selon la période"
   ]
  },
  {
   "cell_type": "code",
   "execution_count": null,
   "metadata": {},
   "outputs": [],
   "source": [
    "def calcule_nb_mots_periode(d1, d2):\n",
    "    print('JOURS : ', d1, ' ', d2)\n",
    "    df1 = df[df['days'] >= d1]\n",
    "    df1 = df1[df1['days'] < d2]\n",
    "    \n",
    "    df_Novice = df1[df1['Orateur'] == 'Novice']\n",
    "    \n",
    "    \n",
    "    \n",
    "    \n",
    "    #display(df_Novice)\n",
    "    try:\n",
    "        df_Novice = df1[df1['Groupe'] == 'Novice'].dropna().sample(50)\n",
    "        df_Exp = df1[df1['Groupe'] == 'Exp'].dropna().sample(50)\n",
    "        print(df_Exp.shape, df_Novice.shape)\n",
    "    except:\n",
    "        return np.nan\n",
    "    \n",
    "    phrases_Exp = [df_Exp.iloc[i]['tokenized_replique'].split(' ') for i in range(df_Exp.shape[0])]\n",
    "    phrases_Novice = [df_Novice.iloc[i]['tokenized_replique'].split(' ') for i in range(df_Novice.shape[0])]\n",
    "    \n",
    "    WMD = []\n",
    "    \n",
    "\n",
    "    for i in phrases_Novice:\n",
    "        value = np.mean([w2v_model_all.wv.wmdistance(add_groupe(i, '_Novice'), \n",
    "                                                     add_groupe(j, '_Exp')) for j in phrases_Exp])\n",
    "        print(value)\n",
    "        if str(value) == 'inf':\n",
    "            print(i)\n",
    "        WMD.append(value)\n",
    "    \n",
    "    px.line([np.mean(WMD[:i]) for i in range(1, len(WMD))]).show()\n",
    "    \n",
    "    return np.mean(WMD)"
   ]
  }
 ],
 "metadata": {
  "kernelspec": {
   "display_name": "Python 3",
   "language": "python",
   "name": "python3"
  },
  "language_info": {
   "codemirror_mode": {
    "name": "ipython",
    "version": 3
   },
   "file_extension": ".py",
   "mimetype": "text/x-python",
   "name": "python",
   "nbconvert_exporter": "python",
   "pygments_lexer": "ipython3",
   "version": "3.8.5"
  }
 },
 "nbformat": 4,
 "nbformat_minor": 4
}
