{
 "cells": [
  {
   "cell_type": "code",
   "execution_count": null,
   "metadata": {},
   "outputs": [],
   "source": [
    "# Importation des modules\n",
    "\n",
    "import pandas as pd\n",
    "from gensim.models import Word2Vec\n",
    "import random\n",
    "import matplotlib.pyplot as plt\n",
    "import numpy as np\n",
    "import plotly.express as px\n",
    "\n",
    "#Affichage de toutes les colonnes\n",
    "\n",
    "pd.set_option('display.max_columns', 500)"
   ]
  },
  {
   "cell_type": "code",
   "execution_count": null,
   "metadata": {},
   "outputs": [],
   "source": [
    "def moyenne(L):\n",
    "    s = 0\n",
    "    for i in L:\n",
    "        if str(i) == 'inf':\n",
    "            pass\n",
    "        else:\n",
    "            s += i\n",
    "        \n",
    "    return s/len(L)"
   ]
  },
  {
   "cell_type": "code",
   "execution_count": null,
   "metadata": {},
   "outputs": [],
   "source": [
    "w2v_model_novice = Word2Vec.load(\"results\\word2vec_novice_300.model\")\n",
    "w2v_model_exp = Word2Vec.load(\"results\\word2vec_exp_300.model\")\n",
    "w2v_model_all = Word2Vec.load(\"results\\word2vec_all_300.model\")"
   ]
  },
  {
   "cell_type": "code",
   "execution_count": null,
   "metadata": {},
   "outputs": [],
   "source": [
    "words_novice = list(w2v_model_novice.wv.vocab.keys())\n",
    "words_exp = list(w2v_model_exp.wv.vocab.keys())\n",
    "words_all = list(w2v_model_all.wv.vocab.keys())"
   ]
  },
  {
   "cell_type": "code",
   "execution_count": null,
   "metadata": {},
   "outputs": [],
   "source": [
    "#v = w2v_model_novice.wv.get_vector('ministre') + w2v_model_novice.wv.get_vector('santé')\n",
    "#w2v_model_novice.similar_by_vector(v, topn=10, restrict_vocab=None)"
   ]
  },
  {
   "cell_type": "code",
   "execution_count": null,
   "metadata": {},
   "outputs": [],
   "source": [
    "w2v_model_all.wv.most_similar(positive=[\"macron_Exp\"])"
   ]
  },
  {
   "cell_type": "markdown",
   "metadata": {},
   "source": [
    "### Overlap et spread"
   ]
  },
  {
   "cell_type": "markdown",
   "metadata": {},
   "source": [
    "#### Overlap"
   ]
  },
  {
   "cell_type": "code",
   "execution_count": null,
   "metadata": {},
   "outputs": [],
   "source": [
    "def overlap(model1, model2, n, word):\n",
    "\n",
    "    neighborhood_1 = set([i[0] for i in model1.wv.most_similar(positive=[word], topn = n)])\n",
    "    neighborhood_2 = set([i[0] for i in model2.wv.most_similar(positive=[word], topn = n)])\n",
    "\n",
    "    return len(neighborhood_1.intersection(neighborhood_2))"
   ]
  },
  {
   "cell_type": "code",
   "execution_count": null,
   "metadata": {},
   "outputs": [],
   "source": [
    "words_common = list(set(words_exp).intersection(set(words_novice)))\n",
    "random.shuffle(words_common)"
   ]
  },
  {
   "cell_type": "code",
   "execution_count": null,
   "metadata": {
    "scrolled": true
   },
   "outputs": [],
   "source": [
    "# Overlap avec une profondeur de 10 mots\n",
    "\n",
    "L_10 = [overlap(w2v_model_novice, w2v_model_exp, 10, word) for word in words_common[:2000]]\n",
    "plt.plot([np.mean(L_10[:i]) for i in range(2000)])"
   ]
  },
  {
   "cell_type": "code",
   "execution_count": null,
   "metadata": {},
   "outputs": [],
   "source": [
    "# Overlap avec une profondeur de 100 mots\n",
    "\n",
    "\n",
    "L_100 = [overlap(w2v_model_novice, w2v_model_exp, 100, word) for word in words_common[:10000]]\n",
    "plt.plot([np.mean(L_100[:i]) for i in range(10000)])"
   ]
  },
  {
   "cell_type": "code",
   "execution_count": null,
   "metadata": {},
   "outputs": [],
   "source": [
    "# Overlap avec une profondeur de 1000 mots\n",
    "\n",
    "L_1000 = [overlap(w2v_model_novice, w2v_model_exp, 1000, word) for word in words_common[:10000]]\n",
    "plt.plot([np.mean(L_1000[:i]) for i in range(10000)])"
   ]
  },
  {
   "cell_type": "markdown",
   "metadata": {},
   "source": [
    "#### Spread"
   ]
  },
  {
   "cell_type": "code",
   "execution_count": null,
   "metadata": {},
   "outputs": [],
   "source": [
    "def rank(model, i, j):\n",
    "    \n",
    "    k = -1\n",
    "    K = 10\n",
    "    \n",
    "    while k == -1 and 10 * K < len(words_exp):\n",
    "        neighborhood = [i[0] for i in model.wv.most_similar(positive=[i], topn = K)]\n",
    "        try:\n",
    "            k = neighborhood.index(j)\n",
    "        except:\n",
    "            k = -1\n",
    "        K *= 10\n",
    "            \n",
    "    return k + 1\n",
    "\n",
    "def spread(model1, model2, n, word):\n",
    "\n",
    "    neighborhood_1 = [i[0] for i in model1.wv.most_similar(positive=[word], topn = n)]\n",
    "    ranks = [rank(model2, word, j) for j in neighborhood_1]\n",
    "    return max(ranks)"
   ]
  },
  {
   "cell_type": "code",
   "execution_count": null,
   "metadata": {},
   "outputs": [],
   "source": [
    "#print(w2v_model_exp.wv.most_similar(positive=['droite'], topn = 10))\n",
    "#rank(w2v_model_exp, 'droite', 'sarkozysme')"
   ]
  },
  {
   "cell_type": "code",
   "execution_count": null,
   "metadata": {},
   "outputs": [],
   "source": [
    "spread(w2v_model_novice, w2v_model_exp, 10, 'droite')"
   ]
  },
  {
   "cell_type": "code",
   "execution_count": null,
   "metadata": {},
   "outputs": [],
   "source": [
    "plt.plot([spread(w2v_model_novice, w2v_model_exp, i, 'demain') for i in range(1,100)])"
   ]
  },
  {
   "cell_type": "code",
   "execution_count": null,
   "metadata": {},
   "outputs": [],
   "source": [
    "plt.plot([spread(w2v_model_novice, w2v_model_exp, 6, word) for word in words_common[:100]])"
   ]
  },
  {
   "cell_type": "markdown",
   "metadata": {},
   "source": [
    "## WMD "
   ]
  },
  {
   "cell_type": "code",
   "execution_count": null,
   "metadata": {},
   "outputs": [],
   "source": [
    "# Normalisation des vecteurs\n",
    "\n",
    "w2v_model_exp.init_sims(replace = True)\n",
    "w2v_model_novice.init_sims(replace = True)\n",
    "w2v_model_all.init_sims(replace = True)"
   ]
  },
  {
   "cell_type": "code",
   "execution_count": null,
   "metadata": {},
   "outputs": [],
   "source": [
    "df0 = pd.read_csv('data/data_cleaned_NLP.csv', sep = ',', encoding = 'latin-1')"
   ]
  },
  {
   "cell_type": "code",
   "execution_count": null,
   "metadata": {},
   "outputs": [],
   "source": [
    "df1 = df0[['Réplique', 'Groupe', 'tokenized_replique', 'Orateur']].copy()\n",
    "\n",
    "df_novice = df1[df1['Groupe'] == 'Novice'].copy()\n",
    "df_exp = df1[df1['Groupe'] == 'Exp'].copy()"
   ]
  },
  {
   "cell_type": "code",
   "execution_count": null,
   "metadata": {},
   "outputs": [],
   "source": [
    "df_novice = df_novice.dropna()\n",
    "\n",
    "df_exp = df_exp.dropna()"
   ]
  },
  {
   "cell_type": "code",
   "execution_count": null,
   "metadata": {},
   "outputs": [],
   "source": [
    "phrase0 = df_novice.iloc[0]['tokenized_replique'].split(' ')\n",
    "phrase1 = df_novice.iloc[1]['tokenized_replique'].split(' ')\n",
    "phrase2 = df_novice.iloc[2]['tokenized_replique'].split(' ')"
   ]
  },
  {
   "cell_type": "markdown",
   "metadata": {},
   "source": [
    "### Calcul des distances intra"
   ]
  },
  {
   "cell_type": "markdown",
   "metadata": {},
   "source": [
    "#### Novices"
   ]
  },
  {
   "cell_type": "markdown",
   "metadata": {},
   "source": [
    "##### Distance selon le modèle Novice"
   ]
  },
  {
   "cell_type": "code",
   "execution_count": null,
   "metadata": {},
   "outputs": [],
   "source": [
    "df_novice_shuffled = df_novice.sample(frac=1)\n",
    "phrases_novice = [df_novice_shuffled.iloc[i]['tokenized_replique'].split(' ') for i in range(2 * 10000)]"
   ]
  },
  {
   "cell_type": "code",
   "execution_count": null,
   "metadata": {},
   "outputs": [],
   "source": [
    "WMD_novices = [w2v_model_novice.wv.wmdistance(phrases_novice[i], phrases_novice[i + 1]) for i in range(0, 20000, 2)]"
   ]
  },
  {
   "cell_type": "code",
   "execution_count": null,
   "metadata": {},
   "outputs": [],
   "source": [
    "means_novice = [moyenne(WMD_novices[:i]) for i in range(1, 10000)]"
   ]
  },
  {
   "cell_type": "code",
   "execution_count": null,
   "metadata": {},
   "outputs": [],
   "source": [
    "plt.plot([i for i in range(1, 10000)], means_novice)"
   ]
  },
  {
   "cell_type": "code",
   "execution_count": null,
   "metadata": {},
   "outputs": [],
   "source": [
    "distance_intra_novice = np.mean(means_novice[9000:10000])\n",
    "print(distance_intra_novice)"
   ]
  },
  {
   "cell_type": "markdown",
   "metadata": {},
   "source": [
    "##### Distance selon le modèle Exp\n"
   ]
  },
  {
   "cell_type": "code",
   "execution_count": null,
   "metadata": {},
   "outputs": [],
   "source": [
    "WMD_novices_expmodel = [w2v_model_exp.wv.wmdistance(phrases_novice[i], phrases_novice[i + 1]) for i in range(0, 20000, 2)]"
   ]
  },
  {
   "cell_type": "code",
   "execution_count": null,
   "metadata": {},
   "outputs": [],
   "source": [
    "means_novice_expmodel = [moyenne(WMD_novices_expmodel[:i]) for i in range(1, 10000)]"
   ]
  },
  {
   "cell_type": "code",
   "execution_count": null,
   "metadata": {},
   "outputs": [],
   "source": [
    "plt.plot([i for i in range(1, 10000)], means_novice_expmodel)"
   ]
  },
  {
   "cell_type": "code",
   "execution_count": null,
   "metadata": {},
   "outputs": [],
   "source": [
    "distance_intra_novice_expmodel = np.mean(means_novice_expmodel[9000:10000])\n",
    "print(distance_intra_novice_expmodel)"
   ]
  },
  {
   "cell_type": "markdown",
   "metadata": {},
   "source": [
    "##### Distance selon le modèle All"
   ]
  },
  {
   "cell_type": "code",
   "execution_count": null,
   "metadata": {},
   "outputs": [],
   "source": [
    "def add_groupe(L, etiquette):\n",
    "    return [i + etiquette for i in L]"
   ]
  },
  {
   "cell_type": "code",
   "execution_count": null,
   "metadata": {},
   "outputs": [],
   "source": [
    "WMD_novices_allmodel = [\n",
    "    w2v_model_all.wv.wmdistance(\n",
    "            add_groupe(phrases_novice[i], '_Novice'), \n",
    "            add_groupe(phrases_novice[i + 1], '_Novice')) \n",
    "    for i in range(0, 20000, 2)\n",
    "                        ]"
   ]
  },
  {
   "cell_type": "code",
   "execution_count": null,
   "metadata": {},
   "outputs": [],
   "source": [
    "means_novice_allmodel = [moyenne(WMD_novices_allmodel[:i]) for i in range(1, 10000)]"
   ]
  },
  {
   "cell_type": "code",
   "execution_count": null,
   "metadata": {},
   "outputs": [],
   "source": [
    "plt.plot([i for i in range(1, 10000)], means_novice_allmodel)"
   ]
  },
  {
   "cell_type": "code",
   "execution_count": null,
   "metadata": {},
   "outputs": [],
   "source": [
    "distance_intra_novice_allmodel = np.mean(means_novice_allmodel[9000:10000])\n",
    "print(distance_intra_novice_allmodel)"
   ]
  },
  {
   "cell_type": "markdown",
   "metadata": {},
   "source": [
    "#### Non-novices"
   ]
  },
  {
   "cell_type": "markdown",
   "metadata": {},
   "source": [
    "##### Distance selon le modèle Exp"
   ]
  },
  {
   "cell_type": "code",
   "execution_count": null,
   "metadata": {},
   "outputs": [],
   "source": [
    "df_exp_shuffled = df_exp.sample(frac = 1)\n",
    "phrases_exp = [df_exp_shuffled.iloc[i]['tokenized_replique'].split(' ') for i in range(2 * 10000)]"
   ]
  },
  {
   "cell_type": "code",
   "execution_count": null,
   "metadata": {},
   "outputs": [],
   "source": [
    "WMD_exp = [w2v_model_exp.wv.wmdistance(phrases_exp[i], phrases_exp[i + 1]) for i in range(0, 20000, 2)]"
   ]
  },
  {
   "cell_type": "code",
   "execution_count": null,
   "metadata": {},
   "outputs": [],
   "source": [
    "means_exp = [moyenne(WMD_exp[:i]) for i in range(1, 10000)]"
   ]
  },
  {
   "cell_type": "code",
   "execution_count": null,
   "metadata": {},
   "outputs": [],
   "source": [
    "plt.plot([i for i in range(1, 10000)], means_exp)"
   ]
  },
  {
   "cell_type": "code",
   "execution_count": null,
   "metadata": {},
   "outputs": [],
   "source": [
    "distance_intra_exp = np.mean(means_exp[9000:10000])\n",
    "print(distance_intra_exp)"
   ]
  },
  {
   "cell_type": "markdown",
   "metadata": {},
   "source": [
    "##### Distance selon le modèle Novice"
   ]
  },
  {
   "cell_type": "code",
   "execution_count": null,
   "metadata": {},
   "outputs": [],
   "source": [
    "WMD_exp_novicemodel = [w2v_model_novice.wv.wmdistance(phrases_exp[i], phrases_exp[i + 1]) for i in range(0, 20000, 2)]"
   ]
  },
  {
   "cell_type": "code",
   "execution_count": null,
   "metadata": {},
   "outputs": [],
   "source": [
    "means_exp_novicemodel = [moyenne(WMD_exp_novicemodel[:i]) for i in range(1, 10000)]"
   ]
  },
  {
   "cell_type": "code",
   "execution_count": null,
   "metadata": {},
   "outputs": [],
   "source": [
    "plt.plot([i for i in range(1, 10000)], means_exp_novicemodel)"
   ]
  },
  {
   "cell_type": "code",
   "execution_count": null,
   "metadata": {},
   "outputs": [],
   "source": [
    "distance_intra_exp_novicemodel = np.mean(means_exp_novicemodel[9000:10000])\n",
    "print(distance_intra_exp_novicemodel)"
   ]
  },
  {
   "cell_type": "markdown",
   "metadata": {},
   "source": [
    "##### Distance selon le modèle All"
   ]
  },
  {
   "cell_type": "code",
   "execution_count": null,
   "metadata": {},
   "outputs": [],
   "source": [
    "WMD_exp_allmodel = [\n",
    "    w2v_model_all.wv.wmdistance(\n",
    "            add_groupe(phrases_exp[i], '_Exp'), \n",
    "            add_groupe(phrases_exp[i + 1], '_Exp')) \n",
    "    for i in range(0, 20000, 2)\n",
    "                        ]"
   ]
  },
  {
   "cell_type": "code",
   "execution_count": null,
   "metadata": {},
   "outputs": [],
   "source": [
    "means_exp_allmodel = [moyenne(WMD_exp_allmodel[:i]) for i in range(1, 10000)]"
   ]
  },
  {
   "cell_type": "code",
   "execution_count": null,
   "metadata": {},
   "outputs": [],
   "source": [
    "plt.plot([i for i in range(1, 10000)], means_exp_allmodel)"
   ]
  },
  {
   "cell_type": "code",
   "execution_count": null,
   "metadata": {},
   "outputs": [],
   "source": [
    "distance_intra_exp_allmodel = np.mean(means_exp_allmodel[9000:10000])\n",
    "print(distance_intra_exp_allmodel)"
   ]
  },
  {
   "cell_type": "markdown",
   "metadata": {},
   "source": [
    "### Distances inter"
   ]
  },
  {
   "cell_type": "code",
   "execution_count": null,
   "metadata": {},
   "outputs": [],
   "source": [
    "WMD_inter_model_exp = [w2v_model_exp.wmdistance(phrases_exp[i], phrases_novice[i]) for i in range(0, 600)]\n",
    "WMD_inter_model_novice = [w2v_model_novice.wmdistance(phrases_exp[i], phrases_novice[i]) for i in range(0, 600)]\n",
    "WMD_inter_model_all = [w2v_model_all.wmdistance(\n",
    "                                        add_groupe(phrases_exp[i], '_Exp'),\n",
    "                                        add_groupe(phrases_novice[i], '_Novice'))\n",
    "                                       for i in range(0, 600)]"
   ]
  },
  {
   "cell_type": "code",
   "execution_count": null,
   "metadata": {},
   "outputs": [],
   "source": [
    "means_model_exp = [moyenne(WMD_inter_model_exp[:i]) for i in range(1, 600)]\n",
    "means_model_novice = [moyenne(WMD_inter_model_novice[:i]) for i in range(1, 600)]\n",
    "means_model_all = [moyenne(WMD_inter_model_all[:i]) for i in range(1, 600)]"
   ]
  },
  {
   "cell_type": "code",
   "execution_count": null,
   "metadata": {},
   "outputs": [],
   "source": [
    "plt.plot([i for i in range(600)], WMD_inter_model_novice, alpha = .2)\n",
    "plt.plot([i for i in range(1, 600)], means_model_novice)"
   ]
  },
  {
   "cell_type": "code",
   "execution_count": null,
   "metadata": {},
   "outputs": [],
   "source": [
    "distance_inter_novice = np.mean(means_model_novice[300:600])\n",
    "print(distance_inter_novice)"
   ]
  },
  {
   "cell_type": "code",
   "execution_count": null,
   "metadata": {},
   "outputs": [],
   "source": [
    "plt.plot([i for i in range(600)], WMD_inter_model_exp, alpha = .2)\n",
    "plt.plot([i for i in range(1, 600)], means_model_exp)"
   ]
  },
  {
   "cell_type": "code",
   "execution_count": null,
   "metadata": {},
   "outputs": [],
   "source": [
    "distance_inter_exp = np.mean(means_model_exp[300:500])\n",
    "print(distance_inter_exp)"
   ]
  },
  {
   "cell_type": "code",
   "execution_count": null,
   "metadata": {},
   "outputs": [],
   "source": [
    "plt.plot([i for i in range(600)], WMD_inter_model_all, alpha = .2)\n",
    "plt.plot([i for i in range(1, 600)], means_model_all)"
   ]
  },
  {
   "cell_type": "code",
   "execution_count": null,
   "metadata": {},
   "outputs": [],
   "source": [
    "distance_inter_all = np.mean(means_model_exp[300:500])\n",
    "print(distance_inter_exp)"
   ]
  },
  {
   "cell_type": "markdown",
   "metadata": {},
   "source": [
    "### Résumé WMD"
   ]
  },
  {
   "cell_type": "code",
   "execution_count": null,
   "metadata": {},
   "outputs": [],
   "source": [
    "scores = [distance_intra_novice, distance_intra_exp_novicemodel, distance_inter_novice,\n",
    "          distance_intra_novice_expmodel, distance_intra_exp, distance_inter_exp,\n",
    "          distance_intra_novice_allmodel, distance_intra_exp_allmodel, distance_inter_all]"
   ]
  },
  {
   "cell_type": "code",
   "execution_count": null,
   "metadata": {},
   "outputs": [],
   "source": [
    "scores = [1.272288065714167, 1.2800969970269758, 1.271612526520287,\n",
    "          1.2712417147548438, 1.2904593128668091, 1.2845069306011527,\n",
    "          1.1111787841815146, 1.2111982233569398, distance_inter_all]"
   ]
  },
  {
   "cell_type": "code",
   "execution_count": null,
   "metadata": {},
   "outputs": [],
   "source": [
    "px.histogram(x = ['Intra novice, modèle Novice', 'Intra Exp, modèle Novice', 'Inter, modèle novice',\n",
    "                  'Intra Novice, modèle Exp', 'Intra Exp, modèle Exp', 'Inter, modèle Exp',\n",
    "                  'Intra Novice, modèle All', 'Intra Exp, modèle All', 'Inter, modèle All'\n",
    "                   ], \n",
    "             y = scores,\n",
    "             range_y = [0.995 * min(scores), 1.005 * max(scores)])"
   ]
  }
 ],
 "metadata": {
  "kernelspec": {
   "display_name": "Python 3",
   "language": "python",
   "name": "python3"
  },
  "language_info": {
   "codemirror_mode": {
    "name": "ipython",
    "version": 3
   },
   "file_extension": ".py",
   "mimetype": "text/x-python",
   "name": "python",
   "nbconvert_exporter": "python",
   "pygments_lexer": "ipython3",
   "version": "3.8.5"
  }
 },
 "nbformat": 4,
 "nbformat_minor": 4
}
