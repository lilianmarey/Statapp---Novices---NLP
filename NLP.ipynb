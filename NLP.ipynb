{
 "cells": [
  {
   "cell_type": "code",
   "execution_count": 295,
   "metadata": {},
   "outputs": [],
   "source": [
    "# Importation des modules\n",
    "\n",
    "import pandas as pd\n",
    "import re  # For preprocessing\n",
    "import pandas as pd  # For data handling\n",
    "from time import time  # To time our operations\n",
    "from collections import defaultdict  # For word frequency\n",
    "\n",
    "import spacy  # For preprocessing\n",
    "\n",
    "import logging  # Setting up the loggings to monitor gensim\n",
    "\n",
    "logging.basicConfig(format=\"%(levelname)s - %(asctime)s: %(message)s\", datefmt= '%H:%M:%S', level=logging.INFO)\n",
    "\n",
    "from gensim.models.phrases import Phrases, Phraser\n",
    "\n",
    "import multiprocessing\n",
    "\n",
    "from gensim.models import Word2Vec\n",
    "\n",
    "import numpy as np\n",
    "import matplotlib.pyplot as plt\n",
    "%matplotlib inline\n",
    " \n",
    "import seaborn as sns\n",
    "sns.set_style(\"darkgrid\")\n",
    "\n",
    "from sklearn.decomposition import PCA\n",
    "from sklearn.manifold import TSNE\n",
    "\n",
    "#Affichage de toutes les colonnes\n",
    "\n",
    "pd.set_option('display.max_columns', 500)"
   ]
  },
  {
   "cell_type": "code",
   "execution_count": 296,
   "metadata": {},
   "outputs": [],
   "source": [
    "df0 = pd.read_csv('data/data_cleaned_NLP.csv', sep = ',', encoding = 'latin-1')"
   ]
  },
  {
   "cell_type": "code",
   "execution_count": 159,
   "metadata": {},
   "outputs": [],
   "source": [
    "df1 = df0[['Réplique', 'Groupe', 'tokenized_replique']].copy()\n",
    "\n",
    "df = df1[['Groupe', 'tokenized_replique']].copy()"
   ]
  },
  {
   "cell_type": "code",
   "execution_count": 160,
   "metadata": {},
   "outputs": [
    {
     "data": {
      "text/html": [
       "<div>\n",
       "<style scoped>\n",
       "    .dataframe tbody tr th:only-of-type {\n",
       "        vertical-align: middle;\n",
       "    }\n",
       "\n",
       "    .dataframe tbody tr th {\n",
       "        vertical-align: top;\n",
       "    }\n",
       "\n",
       "    .dataframe thead th {\n",
       "        text-align: right;\n",
       "    }\n",
       "</style>\n",
       "<table border=\"1\" class=\"dataframe\">\n",
       "  <thead>\n",
       "    <tr style=\"text-align: right;\">\n",
       "      <th></th>\n",
       "      <th>Groupe</th>\n",
       "      <th>tokenized_replique</th>\n",
       "    </tr>\n",
       "  </thead>\n",
       "  <tbody>\n",
       "    <tr>\n",
       "      <th>430480</th>\n",
       "      <td>Exp</td>\n",
       "      <td>importe quoi</td>\n",
       "    </tr>\n",
       "    <tr>\n",
       "      <th>423401</th>\n",
       "      <td>Novice</td>\n",
       "      <td>rapporteur très bien</td>\n",
       "    </tr>\n",
       "    <tr>\n",
       "      <th>316636</th>\n",
       "      <td>Exp</td>\n",
       "      <td>enfin agit donner outil supplémentaire adminis...</td>\n",
       "    </tr>\n",
       "    <tr>\n",
       "      <th>188804</th>\n",
       "      <td>Exp</td>\n",
       "      <td>quel avis commission</td>\n",
       "    </tr>\n",
       "    <tr>\n",
       "      <th>103688</th>\n",
       "      <td>Exp</td>\n",
       "      <td>vise appliquer certain nombre biens services l...</td>\n",
       "    </tr>\n",
       "    <tr>\n",
       "      <th>456852</th>\n",
       "      <td>Exp</td>\n",
       "      <td>première lecture nombreux être très mobilisés ...</td>\n",
       "    </tr>\n",
       "    <tr>\n",
       "      <th>235906</th>\n",
       "      <td>Exp</td>\n",
       "      <td>aussi pôle public ferroviaire gérant réseau ma...</td>\n",
       "    </tr>\n",
       "    <tr>\n",
       "      <th>301789</th>\n",
       "      <td>Exp</td>\n",
       "      <td>faut donc sans plus tarder renforcer effectifs...</td>\n",
       "    </tr>\n",
       "    <tr>\n",
       "      <th>230927</th>\n",
       "      <td>Exp</td>\n",
       "      <td>sachant agit travail nouveau première année</td>\n",
       "    </tr>\n",
       "    <tr>\n",
       "      <th>123408</th>\n",
       "      <td>Exp</td>\n",
       "      <td>or depuis récente décision administrative lais...</td>\n",
       "    </tr>\n",
       "  </tbody>\n",
       "</table>\n",
       "</div>"
      ],
      "text/plain": [
       "        Groupe                                 tokenized_replique\n",
       "430480     Exp                                       importe quoi\n",
       "423401  Novice                               rapporteur très bien\n",
       "316636     Exp  enfin agit donner outil supplémentaire adminis...\n",
       "188804     Exp                               quel avis commission\n",
       "103688     Exp  vise appliquer certain nombre biens services l...\n",
       "456852     Exp  première lecture nombreux être très mobilisés ...\n",
       "235906     Exp  aussi pôle public ferroviaire gérant réseau ma...\n",
       "301789     Exp  faut donc sans plus tarder renforcer effectifs...\n",
       "230927     Exp        sachant agit travail nouveau première année\n",
       "123408     Exp  or depuis récente décision administrative lais..."
      ]
     },
     "execution_count": 160,
     "metadata": {},
     "output_type": "execute_result"
    }
   ],
   "source": [
    "df.sample(10)"
   ]
  },
  {
   "cell_type": "code",
   "execution_count": 161,
   "metadata": {},
   "outputs": [
    {
     "data": {
      "text/plain": [
       "Groupe                0\n",
       "tokenized_replique    0\n",
       "dtype: int64"
      ]
     },
     "execution_count": 161,
     "metadata": {},
     "output_type": "execute_result"
    }
   ],
   "source": [
    "df = df.dropna()\n",
    "df.isnull().sum()"
   ]
  },
  {
   "cell_type": "code",
   "execution_count": 163,
   "metadata": {},
   "outputs": [],
   "source": [
    "sent = [row.split() for row in df['tokenized_replique']]"
   ]
  },
  {
   "cell_type": "code",
   "execution_count": 164,
   "metadata": {
    "scrolled": true
   },
   "outputs": [
    {
     "name": "stderr",
     "output_type": "stream",
     "text": [
      "INFO - 17:57:11: collecting all words and their counts\n",
      "INFO - 17:57:11: PROGRESS: at sentence #0, processed 0 words and 0 word types\n",
      "INFO - 17:57:12: PROGRESS: at sentence #10000, processed 289462 words and 218376 word types\n",
      "INFO - 17:57:13: PROGRESS: at sentence #20000, processed 541314 words and 376873 word types\n",
      "INFO - 17:57:13: PROGRESS: at sentence #30000, processed 809107 words and 528669 word types\n",
      "INFO - 17:57:14: PROGRESS: at sentence #40000, processed 1085336 words and 672663 word types\n",
      "INFO - 17:57:14: PROGRESS: at sentence #50000, processed 1340891 words and 796499 word types\n",
      "INFO - 17:57:15: PROGRESS: at sentence #60000, processed 1565678 words and 900147 word types\n",
      "INFO - 17:57:16: PROGRESS: at sentence #70000, processed 1813551 words and 1010525 word types\n",
      "INFO - 17:57:16: PROGRESS: at sentence #80000, processed 2028492 words and 1100387 word types\n",
      "INFO - 17:57:17: PROGRESS: at sentence #90000, processed 2303527 words and 1217601 word types\n",
      "INFO - 17:57:18: PROGRESS: at sentence #100000, processed 2564426 words and 1323069 word types\n",
      "INFO - 17:57:19: PROGRESS: at sentence #110000, processed 2814443 words and 1424666 word types\n",
      "INFO - 17:57:20: PROGRESS: at sentence #120000, processed 3081301 words and 1532038 word types\n",
      "INFO - 17:57:20: PROGRESS: at sentence #130000, processed 3345425 words and 1632852 word types\n",
      "INFO - 17:57:21: PROGRESS: at sentence #140000, processed 3634572 words and 1743512 word types\n",
      "INFO - 17:57:22: PROGRESS: at sentence #150000, processed 3879563 words and 1830715 word types\n",
      "INFO - 17:57:22: PROGRESS: at sentence #160000, processed 4032325 words and 1884240 word types\n",
      "INFO - 17:57:23: PROGRESS: at sentence #170000, processed 4279404 words and 1967819 word types\n",
      "INFO - 17:57:23: PROGRESS: at sentence #180000, processed 4368958 words and 1987011 word types\n",
      "INFO - 17:57:23: PROGRESS: at sentence #190000, processed 4422919 words and 1991092 word types\n",
      "INFO - 17:57:24: PROGRESS: at sentence #200000, processed 4672193 words and 2086760 word types\n",
      "INFO - 17:57:24: PROGRESS: at sentence #210000, processed 4942212 words and 2181717 word types\n",
      "INFO - 17:57:25: PROGRESS: at sentence #220000, processed 5194736 words and 2265147 word types\n",
      "INFO - 17:57:26: PROGRESS: at sentence #230000, processed 5454798 words and 2352191 word types\n",
      "INFO - 17:57:26: PROGRESS: at sentence #240000, processed 5726322 words and 2445695 word types\n",
      "INFO - 17:57:27: PROGRESS: at sentence #250000, processed 5985886 words and 2539802 word types\n",
      "INFO - 17:57:27: PROGRESS: at sentence #260000, processed 6224154 words and 2615380 word types\n",
      "INFO - 17:57:28: PROGRESS: at sentence #270000, processed 6450176 words and 2688868 word types\n",
      "INFO - 17:57:29: PROGRESS: at sentence #280000, processed 6696033 words and 2758844 word types\n",
      "INFO - 17:57:30: PROGRESS: at sentence #290000, processed 6951772 words and 2837163 word types\n",
      "INFO - 17:57:31: PROGRESS: at sentence #300000, processed 7197813 words and 2907025 word types\n",
      "INFO - 17:57:31: PROGRESS: at sentence #310000, processed 7472146 words and 2988343 word types\n",
      "INFO - 17:57:32: PROGRESS: at sentence #320000, processed 7693762 words and 3052937 word types\n",
      "INFO - 17:57:33: PROGRESS: at sentence #330000, processed 7973626 words and 3136606 word types\n",
      "INFO - 17:57:33: PROGRESS: at sentence #340000, processed 8261789 words and 3223194 word types\n",
      "INFO - 17:57:34: PROGRESS: at sentence #350000, processed 8517073 words and 3295162 word types\n",
      "INFO - 17:57:35: PROGRESS: at sentence #360000, processed 8783386 words and 3370648 word types\n",
      "INFO - 17:57:35: PROGRESS: at sentence #370000, processed 9031000 words and 3439394 word types\n",
      "INFO - 17:57:36: PROGRESS: at sentence #380000, processed 9293486 words and 3513703 word types\n",
      "INFO - 17:57:36: PROGRESS: at sentence #390000, processed 9472176 words and 3561963 word types\n",
      "INFO - 17:57:37: PROGRESS: at sentence #400000, processed 9738338 words and 3636533 word types\n",
      "INFO - 17:57:37: PROGRESS: at sentence #410000, processed 9854029 words and 3660256 word types\n",
      "INFO - 17:57:37: PROGRESS: at sentence #420000, processed 9911964 words and 3665729 word types\n",
      "INFO - 17:57:38: PROGRESS: at sentence #430000, processed 10174040 words and 3740613 word types\n",
      "INFO - 17:57:38: PROGRESS: at sentence #440000, processed 10395001 words and 3806924 word types\n",
      "INFO - 17:57:39: PROGRESS: at sentence #450000, processed 10668170 words and 3878738 word types\n",
      "INFO - 17:57:39: PROGRESS: at sentence #460000, processed 10896993 words and 3936439 word types\n",
      "INFO - 17:57:40: PROGRESS: at sentence #470000, processed 11108260 words and 3991531 word types\n",
      "INFO - 17:57:40: PROGRESS: at sentence #480000, processed 11351588 words and 4056755 word types\n",
      "INFO - 17:57:41: PROGRESS: at sentence #490000, processed 11581068 words and 4109662 word types\n",
      "INFO - 17:57:42: collected 4165308 word types from a corpus of 11805777 words (unigram + bigrams) and 499156 sentences\n",
      "INFO - 17:57:42: using 4165308 counts as vocab in Phrases<0 vocab, min_count=30, threshold=10.0, max_vocab_size=40000000>\n"
     ]
    }
   ],
   "source": [
    "phrases = Phrases(sent, min_count=30, progress_per = 10000)"
   ]
  },
  {
   "cell_type": "code",
   "execution_count": 165,
   "metadata": {},
   "outputs": [
    {
     "name": "stderr",
     "output_type": "stream",
     "text": [
      "INFO - 17:57:42: source_vocab length 4165308\n",
      "INFO - 17:58:32: Phraser built with 9539 phrasegrams\n"
     ]
    }
   ],
   "source": [
    "bigram = Phraser(phrases)"
   ]
  },
  {
   "cell_type": "code",
   "execution_count": 166,
   "metadata": {},
   "outputs": [],
   "source": [
    "sentences = bigram[sent]"
   ]
  },
  {
   "cell_type": "code",
   "execution_count": 167,
   "metadata": {},
   "outputs": [
    {
     "data": {
      "text/plain": [
       "91992"
      ]
     },
     "execution_count": 167,
     "metadata": {},
     "output_type": "execute_result"
    }
   ],
   "source": [
    "word_freq = defaultdict(int)\n",
    "for sent in sentences:\n",
    "    for i in sent:\n",
    "        word_freq[i] += 1\n",
    "len(word_freq)"
   ]
  },
  {
   "cell_type": "code",
   "execution_count": 168,
   "metadata": {},
   "outputs": [
    {
     "data": {
      "text/plain": [
       "['a', 'plus', 'cette', 'comme', 'si', 'donc', 'tout', 'fait', 'état', 'bien']"
      ]
     },
     "execution_count": 168,
     "metadata": {},
     "output_type": "execute_result"
    }
   ],
   "source": [
    "sorted(word_freq, key=word_freq.get, reverse=True)[:10]"
   ]
  },
  {
   "cell_type": "code",
   "execution_count": 170,
   "metadata": {},
   "outputs": [],
   "source": [
    "cores = multiprocessing.cpu_count()"
   ]
  },
  {
   "cell_type": "code",
   "execution_count": 171,
   "metadata": {},
   "outputs": [],
   "source": [
    "w2v_model = Word2Vec(min_count=20,\n",
    "                     window=2,\n",
    "                     size=300,\n",
    "                     sample=6e-5, \n",
    "                     alpha=0.03, \n",
    "                     min_alpha=0.0007, \n",
    "                     negative=20,\n",
    "                     workers=cores-1)"
   ]
  },
  {
   "cell_type": "code",
   "execution_count": 172,
   "metadata": {
    "scrolled": true
   },
   "outputs": [
    {
     "name": "stderr",
     "output_type": "stream",
     "text": [
      "INFO - 17:59:10: collecting all words and their counts\n",
      "INFO - 17:59:10: PROGRESS: at sentence #0, processed 0 words, keeping 0 word types\n",
      "INFO - 17:59:10: PROGRESS: at sentence #10000, processed 251462 words, keeping 26542 word types\n",
      "INFO - 17:59:11: PROGRESS: at sentence #20000, processed 472392 words, keeping 35446 word types\n",
      "INFO - 17:59:12: PROGRESS: at sentence #30000, processed 706898 words, keeping 41337 word types\n",
      "INFO - 17:59:13: PROGRESS: at sentence #40000, processed 948477 words, keeping 45772 word types\n",
      "INFO - 17:59:14: PROGRESS: at sentence #50000, processed 1171159 words, keeping 48836 word types\n",
      "INFO - 17:59:14: PROGRESS: at sentence #60000, processed 1366810 words, keeping 51338 word types\n",
      "INFO - 17:59:15: PROGRESS: at sentence #70000, processed 1582963 words, keeping 53473 word types\n",
      "INFO - 17:59:16: PROGRESS: at sentence #80000, processed 1769282 words, keeping 55319 word types\n",
      "INFO - 17:59:17: PROGRESS: at sentence #90000, processed 2008284 words, keeping 57474 word types\n",
      "INFO - 17:59:18: PROGRESS: at sentence #100000, processed 2235402 words, keeping 59244 word types\n",
      "INFO - 17:59:19: PROGRESS: at sentence #110000, processed 2454611 words, keeping 61086 word types\n",
      "INFO - 17:59:20: PROGRESS: at sentence #120000, processed 2688270 words, keeping 62653 word types\n",
      "INFO - 17:59:21: PROGRESS: at sentence #130000, processed 2918290 words, keeping 64136 word types\n",
      "INFO - 17:59:22: PROGRESS: at sentence #140000, processed 3171731 words, keeping 65723 word types\n",
      "INFO - 17:59:23: PROGRESS: at sentence #150000, processed 3385056 words, keeping 66819 word types\n",
      "INFO - 17:59:23: PROGRESS: at sentence #160000, processed 3519107 words, keeping 67630 word types\n",
      "INFO - 17:59:24: PROGRESS: at sentence #170000, processed 3733046 words, keeping 68627 word types\n",
      "INFO - 17:59:24: PROGRESS: at sentence #180000, processed 3803156 words, keeping 68970 word types\n",
      "INFO - 17:59:25: PROGRESS: at sentence #190000, processed 3839972 words, keeping 69040 word types\n",
      "INFO - 17:59:25: PROGRESS: at sentence #200000, processed 4060004 words, keeping 70985 word types\n",
      "INFO - 17:59:26: PROGRESS: at sentence #210000, processed 4295730 words, keeping 72235 word types\n",
      "INFO - 17:59:27: PROGRESS: at sentence #220000, processed 4514280 words, keeping 73126 word types\n",
      "INFO - 17:59:28: PROGRESS: at sentence #230000, processed 4740637 words, keeping 74146 word types\n",
      "INFO - 17:59:29: PROGRESS: at sentence #240000, processed 4979810 words, keeping 75409 word types\n",
      "INFO - 17:59:30: PROGRESS: at sentence #250000, processed 5211682 words, keeping 76820 word types\n",
      "INFO - 17:59:31: PROGRESS: at sentence #260000, processed 5419335 words, keeping 77584 word types\n",
      "INFO - 17:59:32: PROGRESS: at sentence #270000, processed 5617397 words, keeping 78363 word types\n",
      "INFO - 17:59:33: PROGRESS: at sentence #280000, processed 5826613 words, keeping 79019 word types\n",
      "INFO - 17:59:34: PROGRESS: at sentence #290000, processed 6048409 words, keeping 79915 word types\n",
      "INFO - 17:59:35: PROGRESS: at sentence #300000, processed 6260786 words, keeping 80421 word types\n",
      "INFO - 17:59:36: PROGRESS: at sentence #310000, processed 6499427 words, keeping 81205 word types\n",
      "INFO - 17:59:36: PROGRESS: at sentence #320000, processed 6692075 words, keeping 81730 word types\n",
      "INFO - 17:59:37: PROGRESS: at sentence #330000, processed 6936546 words, keeping 82511 word types\n",
      "INFO - 17:59:38: PROGRESS: at sentence #340000, processed 7189065 words, keeping 83486 word types\n",
      "INFO - 17:59:39: PROGRESS: at sentence #350000, processed 7410656 words, keeping 84167 word types\n",
      "INFO - 17:59:40: PROGRESS: at sentence #360000, processed 7641690 words, keeping 84877 word types\n",
      "INFO - 17:59:41: PROGRESS: at sentence #370000, processed 7856844 words, keeping 85578 word types\n",
      "INFO - 17:59:42: PROGRESS: at sentence #380000, processed 8085858 words, keeping 86384 word types\n",
      "INFO - 17:59:43: PROGRESS: at sentence #390000, processed 8241619 words, keeping 86891 word types\n",
      "INFO - 17:59:43: PROGRESS: at sentence #400000, processed 8474821 words, keeping 87606 word types\n",
      "INFO - 17:59:44: PROGRESS: at sentence #410000, processed 8568784 words, keeping 87786 word types\n",
      "INFO - 17:59:44: PROGRESS: at sentence #420000, processed 8610217 words, keeping 87838 word types\n",
      "INFO - 17:59:45: PROGRESS: at sentence #430000, processed 8838790 words, keeping 88560 word types\n",
      "INFO - 17:59:46: PROGRESS: at sentence #440000, processed 9033390 words, keeping 89314 word types\n",
      "INFO - 17:59:47: PROGRESS: at sentence #450000, processed 9271266 words, keeping 89826 word types\n",
      "INFO - 17:59:48: PROGRESS: at sentence #460000, processed 9469958 words, keeping 90209 word types\n",
      "INFO - 17:59:49: PROGRESS: at sentence #470000, processed 9653342 words, keeping 90675 word types\n",
      "INFO - 17:59:50: PROGRESS: at sentence #480000, processed 9866147 words, keeping 91226 word types\n",
      "INFO - 17:59:51: PROGRESS: at sentence #490000, processed 10063165 words, keeping 91518 word types\n",
      "INFO - 17:59:52: collected 91992 word types from a corpus of 10257959 raw words and 499156 sentences\n",
      "INFO - 17:59:52: Loading a fresh vocabulary\n",
      "INFO - 17:59:53: effective_min_count=20 retains 30701 unique words (33% of original 91992, drops 61291)\n",
      "INFO - 17:59:53: effective_min_count=20 leaves 10000153 word corpus (97% of original 10257959, drops 257806)\n",
      "INFO - 17:59:53: deleting the raw counts dictionary of 91992 items\n",
      "INFO - 17:59:53: sample=6e-05 downsamples 1073 most-common words\n",
      "INFO - 17:59:53: downsampling leaves estimated 7014326 word corpus (70.1% of prior 10000153)\n",
      "INFO - 17:59:53: estimated required memory for 30701 words and 300 dimensions: 89032900 bytes\n",
      "INFO - 17:59:53: resetting layer weights\n"
     ]
    },
    {
     "name": "stdout",
     "output_type": "stream",
     "text": [
      "Time to build vocab: 0.88 mins\n"
     ]
    }
   ],
   "source": [
    "t = time()\n",
    "\n",
    "w2v_model.build_vocab(sentences, progress_per=10000)\n",
    "\n",
    "print('Time to build vocab: {} mins'.format(round((time() - t) / 60, 2)))"
   ]
  },
  {
   "cell_type": "code",
   "execution_count": 173,
   "metadata": {
    "scrolled": true
   },
   "outputs": [
    {
     "name": "stderr",
     "output_type": "stream",
     "text": [
      "INFO - 18:00:02: training model with 3 workers on 30701 vocabulary and 300 features, using sg=0 hs=0 sample=6e-05 negative=20 window=2\n",
      "INFO - 18:00:03: EPOCH 1 - PROGRESS: at 1.04% examples, 94321 words/s, in_qsize 0, out_qsize 0\n",
      "INFO - 18:00:04: EPOCH 1 - PROGRESS: at 2.30% examples, 98964 words/s, in_qsize 0, out_qsize 0\n",
      "INFO - 18:00:05: EPOCH 1 - PROGRESS: at 3.15% examples, 85143 words/s, in_qsize 0, out_qsize 0\n",
      "INFO - 18:00:06: EPOCH 1 - PROGRESS: at 4.36% examples, 84300 words/s, in_qsize 0, out_qsize 0\n",
      "INFO - 18:00:07: EPOCH 1 - PROGRESS: at 5.73% examples, 90310 words/s, in_qsize 0, out_qsize 0\n",
      "INFO - 18:00:09: EPOCH 1 - PROGRESS: at 7.37% examples, 96171 words/s, in_qsize 0, out_qsize 0\n",
      "INFO - 18:00:10: EPOCH 1 - PROGRESS: at 8.95% examples, 100699 words/s, in_qsize 0, out_qsize 0\n",
      "INFO - 18:00:11: EPOCH 1 - PROGRESS: at 10.64% examples, 103212 words/s, in_qsize 1, out_qsize 0\n",
      "INFO - 18:00:12: EPOCH 1 - PROGRESS: at 11.93% examples, 100294 words/s, in_qsize 0, out_qsize 0\n",
      "INFO - 18:00:13: EPOCH 1 - PROGRESS: at 12.76% examples, 96258 words/s, in_qsize 0, out_qsize 0\n",
      "INFO - 18:00:14: EPOCH 1 - PROGRESS: at 14.07% examples, 95928 words/s, in_qsize 0, out_qsize 0\n",
      "INFO - 18:00:15: EPOCH 1 - PROGRESS: at 15.83% examples, 97113 words/s, in_qsize 0, out_qsize 0\n",
      "INFO - 18:00:16: EPOCH 1 - PROGRESS: at 16.89% examples, 94670 words/s, in_qsize 0, out_qsize 0\n",
      "INFO - 18:00:17: EPOCH 1 - PROGRESS: at 17.51% examples, 91919 words/s, in_qsize 0, out_qsize 0\n",
      "INFO - 18:00:18: EPOCH 1 - PROGRESS: at 18.67% examples, 91586 words/s, in_qsize 1, out_qsize 0\n",
      "INFO - 18:00:19: EPOCH 1 - PROGRESS: at 20.21% examples, 92933 words/s, in_qsize 0, out_qsize 0\n",
      "INFO - 18:00:20: EPOCH 1 - PROGRESS: at 21.76% examples, 94127 words/s, in_qsize 0, out_qsize 0\n",
      "INFO - 18:00:21: EPOCH 1 - PROGRESS: at 22.92% examples, 93313 words/s, in_qsize 0, out_qsize 0\n",
      "INFO - 18:00:22: EPOCH 1 - PROGRESS: at 23.75% examples, 92311 words/s, in_qsize 0, out_qsize 0\n",
      "INFO - 18:00:23: EPOCH 1 - PROGRESS: at 25.21% examples, 93002 words/s, in_qsize 0, out_qsize 0\n",
      "INFO - 18:00:24: EPOCH 1 - PROGRESS: at 26.51% examples, 94079 words/s, in_qsize 0, out_qsize 0\n",
      "INFO - 18:00:25: EPOCH 1 - PROGRESS: at 27.99% examples, 95107 words/s, in_qsize 0, out_qsize 0\n",
      "INFO - 18:00:26: EPOCH 1 - PROGRESS: at 29.70% examples, 95795 words/s, in_qsize 0, out_qsize 0\n",
      "INFO - 18:00:27: EPOCH 1 - PROGRESS: at 31.42% examples, 95096 words/s, in_qsize 0, out_qsize 0\n",
      "INFO - 18:00:28: EPOCH 1 - PROGRESS: at 32.87% examples, 94745 words/s, in_qsize 0, out_qsize 0\n",
      "INFO - 18:00:29: EPOCH 1 - PROGRESS: at 34.14% examples, 94983 words/s, in_qsize 1, out_qsize 0\n",
      "INFO - 18:00:30: EPOCH 1 - PROGRESS: at 38.57% examples, 94740 words/s, in_qsize 0, out_qsize 0\n",
      "INFO - 18:00:31: EPOCH 1 - PROGRESS: at 39.33% examples, 93107 words/s, in_qsize 0, out_qsize 0\n",
      "INFO - 18:00:32: EPOCH 1 - PROGRESS: at 40.62% examples, 93510 words/s, in_qsize 1, out_qsize 0\n",
      "INFO - 18:00:33: EPOCH 1 - PROGRESS: at 41.83% examples, 93705 words/s, in_qsize 0, out_qsize 0\n",
      "INFO - 18:00:35: EPOCH 1 - PROGRESS: at 43.46% examples, 94331 words/s, in_qsize 0, out_qsize 0\n",
      "INFO - 18:00:36: EPOCH 1 - PROGRESS: at 45.06% examples, 95402 words/s, in_qsize 1, out_qsize 0\n",
      "INFO - 18:00:37: EPOCH 1 - PROGRESS: at 46.77% examples, 96467 words/s, in_qsize 1, out_qsize 0\n",
      "INFO - 18:00:38: EPOCH 1 - PROGRESS: at 48.58% examples, 97405 words/s, in_qsize 0, out_qsize 0\n",
      "INFO - 18:00:39: EPOCH 1 - PROGRESS: at 49.49% examples, 96711 words/s, in_qsize 0, out_qsize 0\n",
      "INFO - 18:00:40: EPOCH 1 - PROGRESS: at 50.77% examples, 96429 words/s, in_qsize 0, out_qsize 0\n",
      "INFO - 18:00:41: EPOCH 1 - PROGRESS: at 52.42% examples, 96916 words/s, in_qsize 0, out_qsize 0\n",
      "INFO - 18:00:42: EPOCH 1 - PROGRESS: at 53.84% examples, 97018 words/s, in_qsize 1, out_qsize 0\n",
      "INFO - 18:00:43: EPOCH 1 - PROGRESS: at 55.54% examples, 97618 words/s, in_qsize 0, out_qsize 0\n",
      "INFO - 18:00:44: EPOCH 1 - PROGRESS: at 57.40% examples, 98331 words/s, in_qsize 1, out_qsize 0\n",
      "INFO - 18:00:45: EPOCH 1 - PROGRESS: at 59.21% examples, 99037 words/s, in_qsize 1, out_qsize 0\n",
      "INFO - 18:00:46: EPOCH 1 - PROGRESS: at 60.78% examples, 99693 words/s, in_qsize 0, out_qsize 0\n",
      "INFO - 18:00:47: EPOCH 1 - PROGRESS: at 62.57% examples, 100003 words/s, in_qsize 0, out_qsize 0\n",
      "INFO - 18:00:48: EPOCH 1 - PROGRESS: at 63.97% examples, 99853 words/s, in_qsize 0, out_qsize 0\n",
      "INFO - 18:00:49: EPOCH 1 - PROGRESS: at 65.46% examples, 100344 words/s, in_qsize 1, out_qsize 0\n",
      "INFO - 18:00:50: EPOCH 1 - PROGRESS: at 67.03% examples, 100840 words/s, in_qsize 0, out_qsize 0\n",
      "INFO - 18:00:51: EPOCH 1 - PROGRESS: at 68.41% examples, 101270 words/s, in_qsize 0, out_qsize 0\n",
      "INFO - 18:00:52: EPOCH 1 - PROGRESS: at 70.17% examples, 101826 words/s, in_qsize 1, out_qsize 0\n",
      "INFO - 18:00:53: EPOCH 1 - PROGRESS: at 71.48% examples, 101749 words/s, in_qsize 0, out_qsize 0\n",
      "INFO - 18:00:54: EPOCH 1 - PROGRESS: at 72.79% examples, 101574 words/s, in_qsize 0, out_qsize 0\n",
      "INFO - 18:00:55: EPOCH 1 - PROGRESS: at 74.27% examples, 101690 words/s, in_qsize 1, out_qsize 0\n",
      "INFO - 18:00:56: EPOCH 1 - PROGRESS: at 75.93% examples, 102108 words/s, in_qsize 0, out_qsize 0\n",
      "INFO - 18:00:57: EPOCH 1 - PROGRESS: at 78.24% examples, 102442 words/s, in_qsize 1, out_qsize 0\n",
      "INFO - 18:00:58: EPOCH 1 - PROGRESS: at 79.72% examples, 102692 words/s, in_qsize 0, out_qsize 0\n",
      "INFO - 18:00:59: EPOCH 1 - PROGRESS: at 84.19% examples, 102962 words/s, in_qsize 0, out_qsize 0\n",
      "INFO - 18:01:01: EPOCH 1 - PROGRESS: at 85.78% examples, 103251 words/s, in_qsize 0, out_qsize 0\n",
      "INFO - 18:01:02: EPOCH 1 - PROGRESS: at 87.61% examples, 103549 words/s, in_qsize 0, out_qsize 0\n",
      "INFO - 18:01:03: EPOCH 1 - PROGRESS: at 89.16% examples, 103875 words/s, in_qsize 0, out_qsize 0\n",
      "INFO - 18:01:04: EPOCH 1 - PROGRESS: at 90.71% examples, 104269 words/s, in_qsize 0, out_qsize 0\n",
      "INFO - 18:01:05: EPOCH 1 - PROGRESS: at 92.83% examples, 104553 words/s, in_qsize 0, out_qsize 0\n",
      "INFO - 18:01:06: EPOCH 1 - PROGRESS: at 94.42% examples, 104618 words/s, in_qsize 0, out_qsize 0\n",
      "INFO - 18:01:07: EPOCH 1 - PROGRESS: at 96.13% examples, 104844 words/s, in_qsize 0, out_qsize 0\n",
      "INFO - 18:01:08: EPOCH 1 - PROGRESS: at 98.01% examples, 105128 words/s, in_qsize 0, out_qsize 0\n",
      "INFO - 18:01:09: EPOCH 1 - PROGRESS: at 99.61% examples, 105101 words/s, in_qsize 0, out_qsize 0\n",
      "INFO - 18:01:09: worker thread finished; awaiting finish of 2 more threads\n",
      "INFO - 18:01:09: worker thread finished; awaiting finish of 1 more threads\n",
      "INFO - 18:01:09: worker thread finished; awaiting finish of 0 more threads\n",
      "INFO - 18:01:09: EPOCH - 1 : training on 10257959 raw words (7013118 effective words) took 66.6s, 105235 effective words/s\n",
      "INFO - 18:01:10: EPOCH 2 - PROGRESS: at 1.39% examples, 116522 words/s, in_qsize 0, out_qsize 0\n",
      "INFO - 18:01:11: EPOCH 2 - PROGRESS: at 2.96% examples, 119276 words/s, in_qsize 0, out_qsize 0\n",
      "INFO - 18:01:12: EPOCH 2 - PROGRESS: at 4.64% examples, 119200 words/s, in_qsize 1, out_qsize 0\n",
      "INFO - 18:01:13: EPOCH 2 - PROGRESS: at 6.03% examples, 117241 words/s, in_qsize 1, out_qsize 0\n",
      "INFO - 18:01:14: EPOCH 2 - PROGRESS: at 7.60% examples, 118283 words/s, in_qsize 0, out_qsize 0\n",
      "INFO - 18:01:15: EPOCH 2 - PROGRESS: at 9.22% examples, 119384 words/s, in_qsize 0, out_qsize 0\n",
      "INFO - 18:01:16: EPOCH 2 - PROGRESS: at 10.77% examples, 117444 words/s, in_qsize 1, out_qsize 0\n",
      "INFO - 18:01:17: EPOCH 2 - PROGRESS: at 12.52% examples, 117175 words/s, in_qsize 1, out_qsize 0\n",
      "INFO - 18:01:18: EPOCH 2 - PROGRESS: at 13.87% examples, 114205 words/s, in_qsize 0, out_qsize 0\n",
      "INFO - 18:01:19: EPOCH 2 - PROGRESS: at 14.77% examples, 108966 words/s, in_qsize 1, out_qsize 0\n",
      "INFO - 18:01:20: EPOCH 2 - PROGRESS: at 15.69% examples, 104522 words/s, in_qsize 0, out_qsize 0\n",
      "INFO - 18:01:22: EPOCH 2 - PROGRESS: at 16.43% examples, 98985 words/s, in_qsize 0, out_qsize 0\n",
      "INFO - 18:01:23: EPOCH 2 - PROGRESS: at 17.20% examples, 96557 words/s, in_qsize 0, out_qsize 0\n",
      "INFO - 18:01:24: EPOCH 2 - PROGRESS: at 18.59% examples, 96918 words/s, in_qsize 0, out_qsize 0\n",
      "INFO - 18:01:25: EPOCH 2 - PROGRESS: at 19.95% examples, 96969 words/s, in_qsize 0, out_qsize 0\n",
      "INFO - 18:01:26: EPOCH 2 - PROGRESS: at 21.39% examples, 97940 words/s, in_qsize 1, out_qsize 0\n",
      "INFO - 18:01:27: EPOCH 2 - PROGRESS: at 23.22% examples, 99506 words/s, in_qsize 0, out_qsize 0\n"
     ]
    },
    {
     "name": "stderr",
     "output_type": "stream",
     "text": [
      "INFO - 18:01:28: EPOCH 2 - PROGRESS: at 24.76% examples, 100672 words/s, in_qsize 0, out_qsize 0\n",
      "INFO - 18:01:29: EPOCH 2 - PROGRESS: at 26.29% examples, 102175 words/s, in_qsize 1, out_qsize 0\n",
      "INFO - 18:01:30: EPOCH 2 - PROGRESS: at 27.82% examples, 103437 words/s, in_qsize 0, out_qsize 0\n",
      "INFO - 18:01:31: EPOCH 2 - PROGRESS: at 29.40% examples, 103481 words/s, in_qsize 0, out_qsize 0\n",
      "INFO - 18:01:32: EPOCH 2 - PROGRESS: at 31.74% examples, 104063 words/s, in_qsize 1, out_qsize 0\n",
      "INFO - 18:01:33: EPOCH 2 - PROGRESS: at 33.38% examples, 104559 words/s, in_qsize 0, out_qsize 0\n",
      "INFO - 18:01:34: EPOCH 2 - PROGRESS: at 36.04% examples, 104340 words/s, in_qsize 0, out_qsize 0\n",
      "INFO - 18:01:35: EPOCH 2 - PROGRESS: at 39.24% examples, 104146 words/s, in_qsize 0, out_qsize 1\n",
      "INFO - 18:01:36: EPOCH 2 - PROGRESS: at 40.80% examples, 105005 words/s, in_qsize 0, out_qsize 0\n",
      "INFO - 18:01:37: EPOCH 2 - PROGRESS: at 42.36% examples, 105580 words/s, in_qsize 0, out_qsize 0\n",
      "INFO - 18:01:38: EPOCH 2 - PROGRESS: at 43.96% examples, 106071 words/s, in_qsize 1, out_qsize 0\n",
      "INFO - 18:01:39: EPOCH 2 - PROGRESS: at 45.52% examples, 106607 words/s, in_qsize 0, out_qsize 0\n",
      "INFO - 18:01:40: EPOCH 2 - PROGRESS: at 47.00% examples, 106947 words/s, in_qsize 0, out_qsize 0\n",
      "INFO - 18:01:41: EPOCH 2 - PROGRESS: at 48.74% examples, 107395 words/s, in_qsize 0, out_qsize 0\n",
      "INFO - 18:01:42: EPOCH 2 - PROGRESS: at 50.39% examples, 107917 words/s, in_qsize 0, out_qsize 0\n",
      "INFO - 18:01:43: EPOCH 2 - PROGRESS: at 51.26% examples, 106229 words/s, in_qsize 0, out_qsize 0\n",
      "INFO - 18:01:44: EPOCH 2 - PROGRESS: at 52.53% examples, 105448 words/s, in_qsize 0, out_qsize 0\n",
      "INFO - 18:01:45: EPOCH 2 - PROGRESS: at 54.00% examples, 105364 words/s, in_qsize 1, out_qsize 0\n",
      "INFO - 18:01:46: EPOCH 2 - PROGRESS: at 55.67% examples, 105746 words/s, in_qsize 0, out_qsize 0\n",
      "INFO - 18:01:47: EPOCH 2 - PROGRESS: at 57.48% examples, 106229 words/s, in_qsize 0, out_qsize 0\n",
      "INFO - 18:01:48: EPOCH 2 - PROGRESS: at 58.74% examples, 105885 words/s, in_qsize 1, out_qsize 0\n",
      "INFO - 18:01:50: EPOCH 2 - PROGRESS: at 59.90% examples, 105140 words/s, in_qsize 0, out_qsize 0\n",
      "INFO - 18:01:51: EPOCH 2 - PROGRESS: at 60.97% examples, 104615 words/s, in_qsize 0, out_qsize 0\n",
      "INFO - 18:01:52: EPOCH 2 - PROGRESS: at 62.85% examples, 105188 words/s, in_qsize 0, out_qsize 0\n",
      "INFO - 18:01:53: EPOCH 2 - PROGRESS: at 64.67% examples, 105762 words/s, in_qsize 1, out_qsize 0\n",
      "INFO - 18:01:54: EPOCH 2 - PROGRESS: at 66.04% examples, 105948 words/s, in_qsize 1, out_qsize 0\n",
      "INFO - 18:01:55: EPOCH 2 - PROGRESS: at 67.39% examples, 106079 words/s, in_qsize 0, out_qsize 0\n",
      "INFO - 18:01:56: EPOCH 2 - PROGRESS: at 68.60% examples, 105972 words/s, in_qsize 0, out_qsize 0\n",
      "INFO - 18:01:57: EPOCH 2 - PROGRESS: at 70.08% examples, 105754 words/s, in_qsize 0, out_qsize 0\n",
      "INFO - 18:01:58: EPOCH 2 - PROGRESS: at 71.39% examples, 105605 words/s, in_qsize 0, out_qsize 0\n",
      "INFO - 18:01:59: EPOCH 2 - PROGRESS: at 73.14% examples, 105775 words/s, in_qsize 0, out_qsize 0\n",
      "INFO - 18:02:00: EPOCH 2 - PROGRESS: at 74.79% examples, 106430 words/s, in_qsize 1, out_qsize 0\n",
      "INFO - 18:02:01: EPOCH 2 - PROGRESS: at 77.14% examples, 106886 words/s, in_qsize 0, out_qsize 0\n",
      "INFO - 18:02:02: EPOCH 2 - PROGRESS: at 78.88% examples, 107065 words/s, in_qsize 0, out_qsize 0\n",
      "INFO - 18:02:03: EPOCH 2 - PROGRESS: at 80.35% examples, 107097 words/s, in_qsize 0, out_qsize 0\n",
      "INFO - 18:02:04: EPOCH 2 - PROGRESS: at 84.91% examples, 107403 words/s, in_qsize 0, out_qsize 0\n",
      "INFO - 18:02:05: EPOCH 2 - PROGRESS: at 86.48% examples, 107769 words/s, in_qsize 0, out_qsize 0\n",
      "INFO - 18:02:06: EPOCH 2 - PROGRESS: at 88.40% examples, 108130 words/s, in_qsize 0, out_qsize 0\n",
      "INFO - 18:02:07: EPOCH 2 - PROGRESS: at 90.09% examples, 108558 words/s, in_qsize 0, out_qsize 0\n",
      "INFO - 18:02:08: EPOCH 2 - PROGRESS: at 92.07% examples, 108983 words/s, in_qsize 1, out_qsize 0\n",
      "INFO - 18:02:09: EPOCH 2 - PROGRESS: at 94.24% examples, 109320 words/s, in_qsize 0, out_qsize 0\n",
      "INFO - 18:02:10: EPOCH 2 - PROGRESS: at 96.13% examples, 109702 words/s, in_qsize 0, out_qsize 0\n",
      "INFO - 18:02:12: EPOCH 2 - PROGRESS: at 98.28% examples, 110073 words/s, in_qsize 0, out_qsize 0\n",
      "INFO - 18:02:13: EPOCH 2 - PROGRESS: at 99.87% examples, 110176 words/s, in_qsize 0, out_qsize 0\n",
      "INFO - 18:02:13: worker thread finished; awaiting finish of 2 more threads\n",
      "INFO - 18:02:13: worker thread finished; awaiting finish of 1 more threads\n",
      "INFO - 18:02:13: worker thread finished; awaiting finish of 0 more threads\n",
      "INFO - 18:02:13: EPOCH - 2 : training on 10257959 raw words (7014751 effective words) took 63.7s, 110206 effective words/s\n",
      "INFO - 18:02:14: EPOCH 3 - PROGRESS: at 1.39% examples, 120509 words/s, in_qsize 1, out_qsize 0\n",
      "INFO - 18:02:15: EPOCH 3 - PROGRESS: at 3.15% examples, 125521 words/s, in_qsize 0, out_qsize 0\n",
      "INFO - 18:02:16: EPOCH 3 - PROGRESS: at 5.04% examples, 128162 words/s, in_qsize 0, out_qsize 0\n",
      "INFO - 18:02:17: EPOCH 3 - PROGRESS: at 6.76% examples, 130172 words/s, in_qsize 0, out_qsize 0\n",
      "INFO - 18:02:18: EPOCH 3 - PROGRESS: at 8.35% examples, 130735 words/s, in_qsize 0, out_qsize 0\n",
      "INFO - 18:02:19: EPOCH 3 - PROGRESS: at 10.16% examples, 131223 words/s, in_qsize 0, out_qsize 0\n",
      "INFO - 18:02:20: EPOCH 3 - PROGRESS: at 12.21% examples, 130160 words/s, in_qsize 0, out_qsize 0\n",
      "INFO - 18:02:21: EPOCH 3 - PROGRESS: at 13.97% examples, 129682 words/s, in_qsize 0, out_qsize 0\n",
      "INFO - 18:02:22: EPOCH 3 - PROGRESS: at 15.99% examples, 129445 words/s, in_qsize 0, out_qsize 0\n",
      "INFO - 18:02:23: EPOCH 3 - PROGRESS: at 17.79% examples, 129606 words/s, in_qsize 0, out_qsize 0\n",
      "INFO - 18:02:24: EPOCH 3 - PROGRESS: at 19.51% examples, 129763 words/s, in_qsize 1, out_qsize 0\n",
      "INFO - 18:02:25: EPOCH 3 - PROGRESS: at 21.21% examples, 129979 words/s, in_qsize 0, out_qsize 0\n",
      "INFO - 18:02:26: EPOCH 3 - PROGRESS: at 23.15% examples, 129985 words/s, in_qsize 0, out_qsize 0\n",
      "INFO - 18:02:27: EPOCH 3 - PROGRESS: at 24.84% examples, 130215 words/s, in_qsize 0, out_qsize 0\n",
      "INFO - 18:02:28: EPOCH 3 - PROGRESS: at 26.29% examples, 129519 words/s, in_qsize 0, out_qsize 0\n",
      "INFO - 18:02:29: EPOCH 3 - PROGRESS: at 27.42% examples, 127435 words/s, in_qsize 0, out_qsize 0\n",
      "INFO - 18:02:30: EPOCH 3 - PROGRESS: at 29.17% examples, 126651 words/s, in_qsize 0, out_qsize 0\n",
      "INFO - 18:02:31: EPOCH 3 - PROGRESS: at 31.65% examples, 126830 words/s, in_qsize 0, out_qsize 0\n",
      "INFO - 18:02:32: EPOCH 3 - PROGRESS: at 33.54% examples, 127055 words/s, in_qsize 0, out_qsize 0\n",
      "INFO - 18:02:33: EPOCH 3 - PROGRESS: at 38.47% examples, 127150 words/s, in_qsize 1, out_qsize 0\n",
      "INFO - 18:02:34: EPOCH 3 - PROGRESS: at 40.18% examples, 127381 words/s, in_qsize 0, out_qsize 0\n",
      "INFO - 18:02:35: EPOCH 3 - PROGRESS: at 41.73% examples, 127434 words/s, in_qsize 0, out_qsize 1\n",
      "INFO - 18:02:37: EPOCH 3 - PROGRESS: at 43.63% examples, 127826 words/s, in_qsize 0, out_qsize 0\n",
      "INFO - 18:02:38: EPOCH 3 - PROGRESS: at 45.33% examples, 128069 words/s, in_qsize 1, out_qsize 0\n",
      "INFO - 18:02:39: EPOCH 3 - PROGRESS: at 47.00% examples, 128238 words/s, in_qsize 0, out_qsize 0\n",
      "INFO - 18:02:40: EPOCH 3 - PROGRESS: at 48.82% examples, 128475 words/s, in_qsize 1, out_qsize 0\n",
      "INFO - 18:02:41: EPOCH 3 - PROGRESS: at 50.58% examples, 128576 words/s, in_qsize 0, out_qsize 0\n",
      "INFO - 18:02:42: EPOCH 3 - PROGRESS: at 52.32% examples, 128141 words/s, in_qsize 0, out_qsize 0\n",
      "INFO - 18:02:43: EPOCH 3 - PROGRESS: at 54.30% examples, 128220 words/s, in_qsize 1, out_qsize 0\n",
      "INFO - 18:02:44: EPOCH 3 - PROGRESS: at 55.89% examples, 127713 words/s, in_qsize 0, out_qsize 0\n",
      "INFO - 18:02:45: EPOCH 3 - PROGRESS: at 57.23% examples, 126460 words/s, in_qsize 1, out_qsize 0\n",
      "INFO - 18:02:46: EPOCH 3 - PROGRESS: at 58.81% examples, 126335 words/s, in_qsize 0, out_qsize 0\n",
      "INFO - 18:02:47: EPOCH 3 - PROGRESS: at 60.56% examples, 126408 words/s, in_qsize 0, out_qsize 0\n",
      "INFO - 18:02:48: EPOCH 3 - PROGRESS: at 62.20% examples, 126467 words/s, in_qsize 0, out_qsize 0\n",
      "INFO - 18:02:49: EPOCH 3 - PROGRESS: at 63.80% examples, 125743 words/s, in_qsize 1, out_qsize 0\n",
      "INFO - 18:02:50: EPOCH 3 - PROGRESS: at 65.21% examples, 125366 words/s, in_qsize 0, out_qsize 0\n",
      "INFO - 18:02:51: EPOCH 3 - PROGRESS: at 66.71% examples, 125261 words/s, in_qsize 1, out_qsize 0\n"
     ]
    },
    {
     "name": "stderr",
     "output_type": "stream",
     "text": [
      "INFO - 18:02:52: EPOCH 3 - PROGRESS: at 68.17% examples, 125375 words/s, in_qsize 0, out_qsize 0\n",
      "INFO - 18:02:53: EPOCH 3 - PROGRESS: at 69.92% examples, 125419 words/s, in_qsize 1, out_qsize 0\n",
      "INFO - 18:02:54: EPOCH 3 - PROGRESS: at 71.31% examples, 125020 words/s, in_qsize 0, out_qsize 0\n",
      "INFO - 18:02:55: EPOCH 3 - PROGRESS: at 72.91% examples, 124729 words/s, in_qsize 1, out_qsize 0\n",
      "INFO - 18:02:56: EPOCH 3 - PROGRESS: at 74.35% examples, 124427 words/s, in_qsize 0, out_qsize 0\n",
      "INFO - 18:02:57: EPOCH 3 - PROGRESS: at 75.76% examples, 123943 words/s, in_qsize 0, out_qsize 0\n",
      "INFO - 18:02:58: EPOCH 3 - PROGRESS: at 77.92% examples, 123689 words/s, in_qsize 0, out_qsize 0\n",
      "INFO - 18:02:59: EPOCH 3 - PROGRESS: at 79.47% examples, 123600 words/s, in_qsize 0, out_qsize 0\n",
      "INFO - 18:03:00: EPOCH 3 - PROGRESS: at 80.95% examples, 123001 words/s, in_qsize 0, out_qsize 0\n",
      "INFO - 18:03:01: EPOCH 3 - PROGRESS: at 84.54% examples, 121940 words/s, in_qsize 0, out_qsize 0\n",
      "INFO - 18:03:02: EPOCH 3 - PROGRESS: at 85.78% examples, 121417 words/s, in_qsize 1, out_qsize 0\n",
      "INFO - 18:03:03: EPOCH 3 - PROGRESS: at 87.49% examples, 121254 words/s, in_qsize 0, out_qsize 0\n",
      "INFO - 18:03:04: EPOCH 3 - PROGRESS: at 89.16% examples, 121379 words/s, in_qsize 0, out_qsize 0\n",
      "INFO - 18:03:05: EPOCH 3 - PROGRESS: at 90.71% examples, 121483 words/s, in_qsize 0, out_qsize 0\n",
      "INFO - 18:03:06: EPOCH 3 - PROGRESS: at 92.94% examples, 121610 words/s, in_qsize 0, out_qsize 0\n",
      "INFO - 18:03:07: EPOCH 3 - PROGRESS: at 94.71% examples, 121584 words/s, in_qsize 0, out_qsize 0\n",
      "INFO - 18:03:08: EPOCH 3 - PROGRESS: at 96.42% examples, 121600 words/s, in_qsize 1, out_qsize 0\n",
      "INFO - 18:03:09: EPOCH 3 - PROGRESS: at 98.42% examples, 121565 words/s, in_qsize 0, out_qsize 0\n",
      "INFO - 18:03:10: worker thread finished; awaiting finish of 2 more threads\n",
      "INFO - 18:03:10: worker thread finished; awaiting finish of 1 more threads\n",
      "INFO - 18:03:10: worker thread finished; awaiting finish of 0 more threads\n",
      "INFO - 18:03:10: EPOCH - 3 : training on 10257959 raw words (7014351 effective words) took 57.7s, 121628 effective words/s\n",
      "INFO - 18:03:11: EPOCH 4 - PROGRESS: at 1.39% examples, 114057 words/s, in_qsize 0, out_qsize 0\n",
      "INFO - 18:03:12: EPOCH 4 - PROGRESS: at 3.15% examples, 123806 words/s, in_qsize 0, out_qsize 0\n",
      "INFO - 18:03:13: EPOCH 4 - PROGRESS: at 4.94% examples, 126953 words/s, in_qsize 0, out_qsize 0\n",
      "INFO - 18:03:14: EPOCH 4 - PROGRESS: at 6.67% examples, 128427 words/s, in_qsize 0, out_qsize 0\n",
      "INFO - 18:03:16: EPOCH 4 - PROGRESS: at 8.19% examples, 128281 words/s, in_qsize 0, out_qsize 0\n",
      "INFO - 18:03:17: EPOCH 4 - PROGRESS: at 9.63% examples, 124836 words/s, in_qsize 0, out_qsize 0\n",
      "INFO - 18:03:18: EPOCH 4 - PROGRESS: at 10.77% examples, 118723 words/s, in_qsize 0, out_qsize 0\n",
      "INFO - 18:03:19: EPOCH 4 - PROGRESS: at 11.93% examples, 112293 words/s, in_qsize 0, out_qsize 0\n",
      "INFO - 18:03:20: EPOCH 4 - PROGRESS: at 13.58% examples, 112642 words/s, in_qsize 0, out_qsize 0\n",
      "INFO - 18:03:21: EPOCH 4 - PROGRESS: at 14.65% examples, 108757 words/s, in_qsize 0, out_qsize 0\n",
      "INFO - 18:03:22: EPOCH 4 - PROGRESS: at 16.26% examples, 108228 words/s, in_qsize 0, out_qsize 0\n",
      "INFO - 18:03:23: EPOCH 4 - PROGRESS: at 17.51% examples, 108343 words/s, in_qsize 1, out_qsize 0\n",
      "INFO - 18:03:24: EPOCH 4 - PROGRESS: at 18.83% examples, 107716 words/s, in_qsize 0, out_qsize 0\n",
      "INFO - 18:03:25: EPOCH 4 - PROGRESS: at 20.62% examples, 109273 words/s, in_qsize 0, out_qsize 0\n",
      "INFO - 18:03:26: EPOCH 4 - PROGRESS: at 22.51% examples, 110867 words/s, in_qsize 0, out_qsize 0\n",
      "INFO - 18:03:27: EPOCH 4 - PROGRESS: at 24.17% examples, 112219 words/s, in_qsize 0, out_qsize 0\n",
      "INFO - 18:03:28: EPOCH 4 - PROGRESS: at 25.94% examples, 113403 words/s, in_qsize 0, out_qsize 0\n",
      "INFO - 18:03:29: EPOCH 4 - PROGRESS: at 27.51% examples, 114391 words/s, in_qsize 0, out_qsize 0\n",
      "INFO - 18:03:30: EPOCH 4 - PROGRESS: at 29.17% examples, 114376 words/s, in_qsize 1, out_qsize 0\n",
      "INFO - 18:03:31: EPOCH 4 - PROGRESS: at 31.42% examples, 114836 words/s, in_qsize 0, out_qsize 0\n",
      "INFO - 18:03:32: EPOCH 4 - PROGRESS: at 33.46% examples, 115650 words/s, in_qsize 0, out_qsize 0\n",
      "INFO - 18:03:33: EPOCH 4 - PROGRESS: at 36.64% examples, 114904 words/s, in_qsize 0, out_qsize 0\n",
      "INFO - 18:03:34: EPOCH 4 - PROGRESS: at 39.63% examples, 115252 words/s, in_qsize 0, out_qsize 0\n",
      "INFO - 18:03:35: EPOCH 4 - PROGRESS: at 41.01% examples, 115146 words/s, in_qsize 0, out_qsize 0\n",
      "INFO - 18:03:36: EPOCH 4 - PROGRESS: at 42.76% examples, 115553 words/s, in_qsize 0, out_qsize 0\n",
      "INFO - 18:03:37: EPOCH 4 - PROGRESS: at 44.05% examples, 115041 words/s, in_qsize 0, out_qsize 0\n",
      "INFO - 18:03:38: EPOCH 4 - PROGRESS: at 45.33% examples, 114491 words/s, in_qsize 0, out_qsize 0\n",
      "INFO - 18:03:39: EPOCH 4 - PROGRESS: at 46.70% examples, 114092 words/s, in_qsize 0, out_qsize 0\n",
      "INFO - 18:03:40: EPOCH 4 - PROGRESS: at 48.00% examples, 113499 words/s, in_qsize 0, out_qsize 0\n",
      "INFO - 18:03:41: EPOCH 4 - PROGRESS: at 49.57% examples, 113702 words/s, in_qsize 0, out_qsize 0\n",
      "INFO - 18:03:42: EPOCH 4 - PROGRESS: at 50.84% examples, 112740 words/s, in_qsize 0, out_qsize 0\n",
      "INFO - 18:03:44: EPOCH 4 - PROGRESS: at 52.42% examples, 112203 words/s, in_qsize 0, out_qsize 0\n",
      "INFO - 18:03:45: EPOCH 4 - PROGRESS: at 53.58% examples, 111303 words/s, in_qsize 0, out_qsize 0\n",
      "INFO - 18:03:46: EPOCH 4 - PROGRESS: at 54.96% examples, 110968 words/s, in_qsize 0, out_qsize 0\n",
      "INFO - 18:03:47: EPOCH 4 - PROGRESS: at 56.66% examples, 110693 words/s, in_qsize 1, out_qsize 0\n",
      "INFO - 18:03:48: EPOCH 4 - PROGRESS: at 58.10% examples, 110534 words/s, in_qsize 0, out_qsize 0\n",
      "INFO - 18:03:49: EPOCH 4 - PROGRESS: at 59.81% examples, 110760 words/s, in_qsize 0, out_qsize 0\n",
      "INFO - 18:03:50: EPOCH 4 - PROGRESS: at 61.21% examples, 110855 words/s, in_qsize 1, out_qsize 0\n",
      "INFO - 18:03:51: EPOCH 4 - PROGRESS: at 63.05% examples, 111228 words/s, in_qsize 0, out_qsize 0\n",
      "INFO - 18:03:52: EPOCH 4 - PROGRESS: at 64.89% examples, 111759 words/s, in_qsize 0, out_qsize 0\n",
      "INFO - 18:03:53: EPOCH 4 - PROGRESS: at 66.53% examples, 112305 words/s, in_qsize 0, out_qsize 0\n",
      "INFO - 18:03:54: EPOCH 4 - PROGRESS: at 68.10% examples, 112817 words/s, in_qsize 0, out_qsize 0\n",
      "INFO - 18:03:55: EPOCH 4 - PROGRESS: at 69.83% examples, 113209 words/s, in_qsize 0, out_qsize 0\n",
      "INFO - 18:03:56: EPOCH 4 - PROGRESS: at 71.65% examples, 113633 words/s, in_qsize 0, out_qsize 0\n",
      "INFO - 18:03:57: EPOCH 4 - PROGRESS: at 73.25% examples, 113408 words/s, in_qsize 0, out_qsize 0\n",
      "INFO - 18:03:58: EPOCH 4 - PROGRESS: at 74.73% examples, 113570 words/s, in_qsize 0, out_qsize 0\n",
      "INFO - 18:03:59: EPOCH 4 - PROGRESS: at 76.48% examples, 113866 words/s, in_qsize 1, out_qsize 0\n",
      "INFO - 18:04:00: EPOCH 4 - PROGRESS: at 78.80% examples, 114210 words/s, in_qsize 1, out_qsize 0\n",
      "INFO - 18:04:01: EPOCH 4 - PROGRESS: at 80.63% examples, 114529 words/s, in_qsize 0, out_qsize 0\n",
      "INFO - 18:04:02: EPOCH 4 - PROGRESS: at 83.86% examples, 113287 words/s, in_qsize 0, out_qsize 0\n",
      "INFO - 18:04:03: EPOCH 4 - PROGRESS: at 85.85% examples, 113623 words/s, in_qsize 0, out_qsize 0\n",
      "INFO - 18:04:04: EPOCH 4 - PROGRESS: at 87.82% examples, 113915 words/s, in_qsize 0, out_qsize 0\n",
      "INFO - 18:04:05: EPOCH 4 - PROGRESS: at 89.49% examples, 114335 words/s, in_qsize 0, out_qsize 0\n",
      "INFO - 18:04:06: EPOCH 4 - PROGRESS: at 91.24% examples, 114591 words/s, in_qsize 1, out_qsize 0\n",
      "INFO - 18:04:07: EPOCH 4 - PROGRESS: at 93.43% examples, 114665 words/s, in_qsize 0, out_qsize 0\n",
      "INFO - 18:04:08: EPOCH 4 - PROGRESS: at 95.17% examples, 114898 words/s, in_qsize 1, out_qsize 0\n",
      "INFO - 18:04:09: EPOCH 4 - PROGRESS: at 97.13% examples, 115192 words/s, in_qsize 0, out_qsize 0\n",
      "INFO - 18:04:10: EPOCH 4 - PROGRESS: at 99.04% examples, 115432 words/s, in_qsize 0, out_qsize 0\n",
      "INFO - 18:04:11: worker thread finished; awaiting finish of 2 more threads\n",
      "INFO - 18:04:11: worker thread finished; awaiting finish of 1 more threads\n",
      "INFO - 18:04:11: worker thread finished; awaiting finish of 0 more threads\n",
      "INFO - 18:04:11: EPOCH - 4 : training on 10257959 raw words (7015272 effective words) took 60.6s, 115700 effective words/s\n",
      "INFO - 18:04:12: EPOCH 5 - PROGRESS: at 1.30% examples, 115360 words/s, in_qsize 0, out_qsize 0\n",
      "INFO - 18:04:13: EPOCH 5 - PROGRESS: at 2.96% examples, 122590 words/s, in_qsize 0, out_qsize 0\n"
     ]
    },
    {
     "name": "stderr",
     "output_type": "stream",
     "text": [
      "INFO - 18:04:14: EPOCH 5 - PROGRESS: at 4.79% examples, 126402 words/s, in_qsize 0, out_qsize 0\n",
      "INFO - 18:04:15: EPOCH 5 - PROGRESS: at 6.03% examples, 120238 words/s, in_qsize 0, out_qsize 0\n",
      "INFO - 18:04:16: EPOCH 5 - PROGRESS: at 7.67% examples, 123032 words/s, in_qsize 1, out_qsize 0\n",
      "INFO - 18:04:17: EPOCH 5 - PROGRESS: at 9.40% examples, 125362 words/s, in_qsize 0, out_qsize 0\n",
      "INFO - 18:04:18: EPOCH 5 - PROGRESS: at 11.37% examples, 125519 words/s, in_qsize 0, out_qsize 0\n",
      "INFO - 18:04:19: EPOCH 5 - PROGRESS: at 13.22% examples, 126333 words/s, in_qsize 0, out_qsize 0\n",
      "INFO - 18:04:20: EPOCH 5 - PROGRESS: at 15.18% examples, 126956 words/s, in_qsize 0, out_qsize 0\n",
      "INFO - 18:04:21: EPOCH 5 - PROGRESS: at 17.11% examples, 127585 words/s, in_qsize 0, out_qsize 0\n",
      "INFO - 18:04:22: EPOCH 5 - PROGRESS: at 18.83% examples, 128363 words/s, in_qsize 1, out_qsize 0\n",
      "INFO - 18:04:23: EPOCH 5 - PROGRESS: at 20.62% examples, 128449 words/s, in_qsize 0, out_qsize 0\n",
      "INFO - 18:04:24: EPOCH 5 - PROGRESS: at 22.33% examples, 127452 words/s, in_qsize 0, out_qsize 0\n",
      "INFO - 18:04:25: EPOCH 5 - PROGRESS: at 23.84% examples, 126562 words/s, in_qsize 0, out_qsize 0\n",
      "INFO - 18:04:26: EPOCH 5 - PROGRESS: at 25.66% examples, 127033 words/s, in_qsize 0, out_qsize 0\n",
      "INFO - 18:04:28: EPOCH 5 - PROGRESS: at 27.26% examples, 127298 words/s, in_qsize 0, out_qsize 0\n",
      "INFO - 18:04:29: EPOCH 5 - PROGRESS: at 29.17% examples, 127586 words/s, in_qsize 0, out_qsize 0\n",
      "INFO - 18:04:30: EPOCH 5 - PROGRESS: at 31.23% examples, 126888 words/s, in_qsize 0, out_qsize 0\n",
      "INFO - 18:04:31: EPOCH 5 - PROGRESS: at 33.11% examples, 126129 words/s, in_qsize 1, out_qsize 0\n",
      "INFO - 18:04:32: EPOCH 5 - PROGRESS: at 37.22% examples, 126208 words/s, in_qsize 0, out_qsize 0\n",
      "INFO - 18:04:33: EPOCH 5 - PROGRESS: at 39.78% examples, 126418 words/s, in_qsize 1, out_qsize 0\n",
      "INFO - 18:04:34: EPOCH 5 - PROGRESS: at 41.31% examples, 126571 words/s, in_qsize 0, out_qsize 0\n",
      "INFO - 18:04:35: EPOCH 5 - PROGRESS: at 43.12% examples, 126620 words/s, in_qsize 0, out_qsize 0\n",
      "INFO - 18:04:36: EPOCH 5 - PROGRESS: at 44.78% examples, 126937 words/s, in_qsize 0, out_qsize 0\n",
      "INFO - 18:04:37: EPOCH 5 - PROGRESS: at 46.56% examples, 126936 words/s, in_qsize 0, out_qsize 0\n",
      "INFO - 18:04:38: EPOCH 5 - PROGRESS: at 48.30% examples, 127243 words/s, in_qsize 0, out_qsize 0\n",
      "INFO - 18:04:39: EPOCH 5 - PROGRESS: at 49.82% examples, 126901 words/s, in_qsize 0, out_qsize 0\n",
      "INFO - 18:04:40: EPOCH 5 - PROGRESS: at 51.46% examples, 126533 words/s, in_qsize 0, out_qsize 0\n",
      "INFO - 18:04:41: EPOCH 5 - PROGRESS: at 53.50% examples, 126708 words/s, in_qsize 0, out_qsize 0\n",
      "INFO - 18:04:42: EPOCH 5 - PROGRESS: at 55.32% examples, 126853 words/s, in_qsize 0, out_qsize 0\n",
      "INFO - 18:04:43: EPOCH 5 - PROGRESS: at 57.32% examples, 127000 words/s, in_qsize 1, out_qsize 0\n",
      "INFO - 18:04:44: EPOCH 5 - PROGRESS: at 59.21% examples, 127148 words/s, in_qsize 0, out_qsize 0\n",
      "INFO - 18:04:45: EPOCH 5 - PROGRESS: at 60.89% examples, 127253 words/s, in_qsize 0, out_qsize 0\n",
      "INFO - 18:04:46: EPOCH 5 - PROGRESS: at 62.85% examples, 127557 words/s, in_qsize 0, out_qsize 0\n",
      "INFO - 18:04:47: EPOCH 5 - PROGRESS: at 64.75% examples, 127588 words/s, in_qsize 0, out_qsize 0\n",
      "INFO - 18:04:48: EPOCH 5 - PROGRESS: at 66.37% examples, 127796 words/s, in_qsize 1, out_qsize 0\n",
      "INFO - 18:04:49: EPOCH 5 - PROGRESS: at 67.95% examples, 127853 words/s, in_qsize 0, out_qsize 0\n",
      "INFO - 18:04:50: EPOCH 5 - PROGRESS: at 69.72% examples, 128058 words/s, in_qsize 0, out_qsize 0\n",
      "INFO - 18:04:51: EPOCH 5 - PROGRESS: at 71.48% examples, 128130 words/s, in_qsize 0, out_qsize 0\n",
      "INFO - 18:04:52: EPOCH 5 - PROGRESS: at 73.35% examples, 128002 words/s, in_qsize 0, out_qsize 0\n",
      "INFO - 18:04:53: EPOCH 5 - PROGRESS: at 74.66% examples, 127729 words/s, in_qsize 0, out_qsize 0\n",
      "INFO - 18:04:54: EPOCH 5 - PROGRESS: at 76.31% examples, 127429 words/s, in_qsize 0, out_qsize 0\n",
      "INFO - 18:04:56: EPOCH 5 - PROGRESS: at 78.16% examples, 126533 words/s, in_qsize 0, out_qsize 0\n",
      "INFO - 18:04:57: EPOCH 5 - PROGRESS: at 79.24% examples, 125676 words/s, in_qsize 0, out_qsize 0\n",
      "INFO - 18:04:58: EPOCH 5 - PROGRESS: at 80.72% examples, 125113 words/s, in_qsize 0, out_qsize 0\n",
      "INFO - 18:04:59: EPOCH 5 - PROGRESS: at 84.91% examples, 124407 words/s, in_qsize 0, out_qsize 0\n",
      "INFO - 18:05:00: EPOCH 5 - PROGRESS: at 86.37% examples, 124331 words/s, in_qsize 0, out_qsize 0\n",
      "INFO - 18:05:01: EPOCH 5 - PROGRESS: at 87.97% examples, 123845 words/s, in_qsize 0, out_qsize 0\n",
      "INFO - 18:05:02: EPOCH 5 - PROGRESS: at 89.24% examples, 123311 words/s, in_qsize 1, out_qsize 0\n",
      "INFO - 18:05:03: EPOCH 5 - PROGRESS: at 90.54% examples, 122847 words/s, in_qsize 0, out_qsize 0\n",
      "INFO - 18:05:04: EPOCH 5 - PROGRESS: at 92.57% examples, 122816 words/s, in_qsize 0, out_qsize 0\n",
      "INFO - 18:05:05: EPOCH 5 - PROGRESS: at 94.52% examples, 122873 words/s, in_qsize 0, out_qsize 0\n",
      "INFO - 18:05:06: EPOCH 5 - PROGRESS: at 96.22% examples, 122805 words/s, in_qsize 0, out_qsize 0\n",
      "INFO - 18:05:07: EPOCH 5 - PROGRESS: at 98.28% examples, 123004 words/s, in_qsize 1, out_qsize 0\n",
      "INFO - 18:05:08: worker thread finished; awaiting finish of 2 more threads\n",
      "INFO - 18:05:08: worker thread finished; awaiting finish of 1 more threads\n",
      "INFO - 18:05:08: worker thread finished; awaiting finish of 0 more threads\n",
      "INFO - 18:05:08: EPOCH - 5 : training on 10257959 raw words (7013015 effective words) took 56.9s, 123286 effective words/s\n",
      "INFO - 18:05:09: EPOCH 6 - PROGRESS: at 1.48% examples, 129184 words/s, in_qsize 0, out_qsize 0\n",
      "INFO - 18:05:10: EPOCH 6 - PROGRESS: at 3.15% examples, 128281 words/s, in_qsize 0, out_qsize 0\n",
      "INFO - 18:05:11: EPOCH 6 - PROGRESS: at 4.94% examples, 130962 words/s, in_qsize 0, out_qsize 0\n",
      "INFO - 18:05:12: EPOCH 6 - PROGRESS: at 6.58% examples, 130348 words/s, in_qsize 1, out_qsize 0\n",
      "INFO - 18:05:13: EPOCH 6 - PROGRESS: at 8.10% examples, 130338 words/s, in_qsize 0, out_qsize 0\n",
      "INFO - 18:05:14: EPOCH 6 - PROGRESS: at 9.90% examples, 130928 words/s, in_qsize 0, out_qsize 0\n",
      "INFO - 18:05:15: EPOCH 6 - PROGRESS: at 11.46% examples, 125910 words/s, in_qsize 0, out_qsize 0\n",
      "INFO - 18:05:16: EPOCH 6 - PROGRESS: at 13.37% examples, 126821 words/s, in_qsize 0, out_qsize 0\n",
      "INFO - 18:05:17: EPOCH 6 - PROGRESS: at 15.26% examples, 127566 words/s, in_qsize 1, out_qsize 0\n",
      "INFO - 18:05:18: EPOCH 6 - PROGRESS: at 17.28% examples, 127811 words/s, in_qsize 0, out_qsize 1\n",
      "INFO - 18:05:19: EPOCH 6 - PROGRESS: at 19.14% examples, 128052 words/s, in_qsize 0, out_qsize 0\n",
      "INFO - 18:05:20: EPOCH 6 - PROGRESS: at 20.78% examples, 128092 words/s, in_qsize 0, out_qsize 0\n",
      "INFO - 18:05:21: EPOCH 6 - PROGRESS: at 22.79% examples, 129155 words/s, in_qsize 0, out_qsize 0\n",
      "INFO - 18:05:22: EPOCH 6 - PROGRESS: at 24.17% examples, 128258 words/s, in_qsize 0, out_qsize 0\n",
      "INFO - 18:05:23: EPOCH 6 - PROGRESS: at 25.94% examples, 128576 words/s, in_qsize 0, out_qsize 0\n",
      "INFO - 18:05:24: EPOCH 6 - PROGRESS: at 27.42% examples, 128094 words/s, in_qsize 0, out_qsize 0\n",
      "INFO - 18:05:25: EPOCH 6 - PROGRESS: at 28.83% examples, 127015 words/s, in_qsize 0, out_qsize 0\n",
      "INFO - 18:05:27: EPOCH 6 - PROGRESS: at 31.65% examples, 127165 words/s, in_qsize 0, out_qsize 0\n",
      "INFO - 18:05:28: EPOCH 6 - PROGRESS: at 33.54% examples, 127537 words/s, in_qsize 0, out_qsize 0\n",
      "INFO - 18:05:29: EPOCH 6 - PROGRESS: at 38.39% examples, 127513 words/s, in_qsize 1, out_qsize 0\n",
      "INFO - 18:05:30: EPOCH 6 - PROGRESS: at 40.09% examples, 127632 words/s, in_qsize 0, out_qsize 0\n",
      "INFO - 18:05:31: EPOCH 6 - PROGRESS: at 41.62% examples, 127757 words/s, in_qsize 0, out_qsize 0\n",
      "INFO - 18:05:32: EPOCH 6 - PROGRESS: at 43.54% examples, 128057 words/s, in_qsize 0, out_qsize 0\n",
      "INFO - 18:05:33: EPOCH 6 - PROGRESS: at 45.24% examples, 128299 words/s, in_qsize 0, out_qsize 1\n",
      "INFO - 18:05:34: EPOCH 6 - PROGRESS: at 46.92% examples, 128382 words/s, in_qsize 0, out_qsize 0\n",
      "INFO - 18:05:35: EPOCH 6 - PROGRESS: at 48.74% examples, 128472 words/s, in_qsize 0, out_qsize 0\n",
      "INFO - 18:05:36: EPOCH 6 - PROGRESS: at 50.49% examples, 128580 words/s, in_qsize 1, out_qsize 0\n",
      "INFO - 18:05:37: EPOCH 6 - PROGRESS: at 52.32% examples, 128629 words/s, in_qsize 0, out_qsize 0\n",
      "INFO - 18:05:38: EPOCH 6 - PROGRESS: at 54.30% examples, 128786 words/s, in_qsize 0, out_qsize 0\n"
     ]
    },
    {
     "name": "stderr",
     "output_type": "stream",
     "text": [
      "INFO - 18:05:39: EPOCH 6 - PROGRESS: at 56.13% examples, 128790 words/s, in_qsize 0, out_qsize 1\n",
      "INFO - 18:05:40: EPOCH 6 - PROGRESS: at 58.01% examples, 129052 words/s, in_qsize 1, out_qsize 0\n",
      "INFO - 18:05:41: EPOCH 6 - PROGRESS: at 59.81% examples, 129014 words/s, in_qsize 0, out_qsize 0\n",
      "INFO - 18:05:42: EPOCH 6 - PROGRESS: at 61.13% examples, 128419 words/s, in_qsize 0, out_qsize 0\n",
      "INFO - 18:05:43: EPOCH 6 - PROGRESS: at 62.78% examples, 127887 words/s, in_qsize 0, out_qsize 0\n",
      "INFO - 18:05:44: EPOCH 6 - PROGRESS: at 64.07% examples, 126644 words/s, in_qsize 0, out_qsize 0\n",
      "INFO - 18:05:45: EPOCH 6 - PROGRESS: at 65.21% examples, 125610 words/s, in_qsize 0, out_qsize 0\n",
      "INFO - 18:05:46: EPOCH 6 - PROGRESS: at 66.89% examples, 125872 words/s, in_qsize 0, out_qsize 0\n",
      "INFO - 18:05:47: EPOCH 6 - PROGRESS: at 68.27% examples, 125823 words/s, in_qsize 1, out_qsize 0\n",
      "INFO - 18:05:48: EPOCH 6 - PROGRESS: at 69.92% examples, 125733 words/s, in_qsize 0, out_qsize 0\n",
      "INFO - 18:05:49: EPOCH 6 - PROGRESS: at 71.15% examples, 124956 words/s, in_qsize 0, out_qsize 0\n",
      "INFO - 18:05:50: EPOCH 6 - PROGRESS: at 72.67% examples, 124635 words/s, in_qsize 0, out_qsize 0\n",
      "INFO - 18:05:51: EPOCH 6 - PROGRESS: at 74.11% examples, 124207 words/s, in_qsize 1, out_qsize 0\n",
      "INFO - 18:05:52: EPOCH 6 - PROGRESS: at 75.61% examples, 123803 words/s, in_qsize 0, out_qsize 0\n",
      "INFO - 18:05:53: EPOCH 6 - PROGRESS: at 77.68% examples, 123428 words/s, in_qsize 0, out_qsize 0\n",
      "INFO - 18:05:54: EPOCH 6 - PROGRESS: at 79.24% examples, 123432 words/s, in_qsize 0, out_qsize 0\n",
      "INFO - 18:05:55: EPOCH 6 - PROGRESS: at 81.44% examples, 123384 words/s, in_qsize 0, out_qsize 0\n",
      "INFO - 18:05:56: EPOCH 6 - PROGRESS: at 85.22% examples, 123202 words/s, in_qsize 0, out_qsize 0\n",
      "INFO - 18:05:57: EPOCH 6 - PROGRESS: at 86.93% examples, 123294 words/s, in_qsize 0, out_qsize 0\n",
      "INFO - 18:05:58: EPOCH 6 - PROGRESS: at 88.49% examples, 123018 words/s, in_qsize 0, out_qsize 0\n",
      "INFO - 18:05:59: EPOCH 6 - PROGRESS: at 89.76% examples, 122472 words/s, in_qsize 0, out_qsize 0\n",
      "INFO - 18:06:00: EPOCH 6 - PROGRESS: at 90.81% examples, 121807 words/s, in_qsize 0, out_qsize 0\n",
      "INFO - 18:06:01: EPOCH 6 - PROGRESS: at 92.70% examples, 121525 words/s, in_qsize 1, out_qsize 0\n",
      "INFO - 18:06:02: EPOCH 6 - PROGRESS: at 94.52% examples, 121472 words/s, in_qsize 0, out_qsize 0\n",
      "INFO - 18:06:03: EPOCH 6 - PROGRESS: at 96.13% examples, 121353 words/s, in_qsize 0, out_qsize 0\n",
      "INFO - 18:06:04: EPOCH 6 - PROGRESS: at 98.01% examples, 121485 words/s, in_qsize 0, out_qsize 0\n",
      "INFO - 18:06:05: EPOCH 6 - PROGRESS: at 99.68% examples, 121354 words/s, in_qsize 0, out_qsize 0\n",
      "INFO - 18:06:06: worker thread finished; awaiting finish of 2 more threads\n",
      "INFO - 18:06:06: worker thread finished; awaiting finish of 1 more threads\n",
      "INFO - 18:06:06: worker thread finished; awaiting finish of 0 more threads\n",
      "INFO - 18:06:06: EPOCH - 6 : training on 10257959 raw words (7014864 effective words) took 57.7s, 121524 effective words/s\n",
      "INFO - 18:06:07: EPOCH 7 - PROGRESS: at 1.22% examples, 109141 words/s, in_qsize 0, out_qsize 0\n",
      "INFO - 18:06:08: EPOCH 7 - PROGRESS: at 2.76% examples, 113914 words/s, in_qsize 1, out_qsize 0\n",
      "INFO - 18:06:09: EPOCH 7 - PROGRESS: at 4.54% examples, 116307 words/s, in_qsize 0, out_qsize 0\n",
      "INFO - 18:06:10: EPOCH 7 - PROGRESS: at 5.91% examples, 115132 words/s, in_qsize 0, out_qsize 0\n",
      "INFO - 18:06:11: EPOCH 7 - PROGRESS: at 7.37% examples, 114107 words/s, in_qsize 0, out_qsize 0\n",
      "INFO - 18:06:12: EPOCH 7 - PROGRESS: at 8.95% examples, 116860 words/s, in_qsize 0, out_qsize 0\n",
      "INFO - 18:06:13: EPOCH 7 - PROGRESS: at 10.24% examples, 113274 words/s, in_qsize 0, out_qsize 0\n",
      "INFO - 18:06:14: EPOCH 7 - PROGRESS: at 11.46% examples, 107502 words/s, in_qsize 0, out_qsize 0\n",
      "INFO - 18:06:15: EPOCH 7 - PROGRESS: at 12.68% examples, 104589 words/s, in_qsize 0, out_qsize 0\n",
      "INFO - 18:06:16: EPOCH 7 - PROGRESS: at 14.17% examples, 103943 words/s, in_qsize 1, out_qsize 0\n",
      "INFO - 18:06:17: EPOCH 7 - PROGRESS: at 15.35% examples, 102238 words/s, in_qsize 0, out_qsize 0\n",
      "INFO - 18:06:18: EPOCH 7 - PROGRESS: at 16.96% examples, 102585 words/s, in_qsize 1, out_qsize 0\n",
      "INFO - 18:06:19: EPOCH 7 - PROGRESS: at 18.50% examples, 103758 words/s, in_qsize 1, out_qsize 0\n",
      "INFO - 18:06:20: EPOCH 7 - PROGRESS: at 20.21% examples, 105113 words/s, in_qsize 0, out_qsize 0\n",
      "INFO - 18:06:21: EPOCH 7 - PROGRESS: at 21.83% examples, 105878 words/s, in_qsize 0, out_qsize 0\n",
      "INFO - 18:06:22: EPOCH 7 - PROGRESS: at 23.29% examples, 105744 words/s, in_qsize 0, out_qsize 0\n",
      "INFO - 18:06:23: EPOCH 7 - PROGRESS: at 24.42% examples, 105094 words/s, in_qsize 0, out_qsize 0\n",
      "INFO - 18:06:24: EPOCH 7 - PROGRESS: at 25.80% examples, 104930 words/s, in_qsize 1, out_qsize 0\n",
      "INFO - 18:06:25: EPOCH 7 - PROGRESS: at 27.08% examples, 105356 words/s, in_qsize 0, out_qsize 0\n",
      "INFO - 18:06:26: EPOCH 7 - PROGRESS: at 28.31% examples, 105025 words/s, in_qsize 0, out_qsize 0\n",
      "INFO - 18:06:28: EPOCH 7 - PROGRESS: at 30.17% examples, 105903 words/s, in_qsize 1, out_qsize 0\n",
      "INFO - 18:06:29: EPOCH 7 - PROGRESS: at 32.38% examples, 105891 words/s, in_qsize 0, out_qsize 0\n",
      "INFO - 18:06:30: EPOCH 7 - PROGRESS: at 33.78% examples, 105739 words/s, in_qsize 0, out_qsize 0\n",
      "INFO - 18:06:31: EPOCH 7 - PROGRESS: at 36.64% examples, 104454 words/s, in_qsize 0, out_qsize 0\n",
      "INFO - 18:06:32: EPOCH 7 - PROGRESS: at 39.33% examples, 104096 words/s, in_qsize 0, out_qsize 0\n",
      "INFO - 18:06:33: EPOCH 7 - PROGRESS: at 40.72% examples, 104280 words/s, in_qsize 0, out_qsize 0\n",
      "INFO - 18:06:34: EPOCH 7 - PROGRESS: at 42.36% examples, 105052 words/s, in_qsize 1, out_qsize 0\n",
      "INFO - 18:06:35: EPOCH 7 - PROGRESS: at 43.79% examples, 105199 words/s, in_qsize 0, out_qsize 0\n",
      "INFO - 18:06:36: EPOCH 7 - PROGRESS: at 45.33% examples, 105851 words/s, in_qsize 0, out_qsize 0\n",
      "INFO - 18:06:37: EPOCH 7 - PROGRESS: at 46.92% examples, 106545 words/s, in_qsize 0, out_qsize 0\n",
      "INFO - 18:06:38: EPOCH 7 - PROGRESS: at 48.58% examples, 106865 words/s, in_qsize 1, out_qsize 0\n",
      "INFO - 18:06:39: EPOCH 7 - PROGRESS: at 49.91% examples, 106713 words/s, in_qsize 0, out_qsize 0\n",
      "INFO - 18:06:40: EPOCH 7 - PROGRESS: at 51.18% examples, 106329 words/s, in_qsize 0, out_qsize 0\n",
      "INFO - 18:06:41: EPOCH 7 - PROGRESS: at 52.64% examples, 105677 words/s, in_qsize 0, out_qsize 0\n",
      "INFO - 18:06:42: EPOCH 7 - PROGRESS: at 54.12% examples, 105389 words/s, in_qsize 0, out_qsize 0\n",
      "INFO - 18:06:43: EPOCH 7 - PROGRESS: at 55.43% examples, 105158 words/s, in_qsize 0, out_qsize 0\n",
      "INFO - 18:06:44: EPOCH 7 - PROGRESS: at 56.91% examples, 104847 words/s, in_qsize 0, out_qsize 0\n",
      "INFO - 18:06:45: EPOCH 7 - PROGRESS: at 57.85% examples, 103802 words/s, in_qsize 0, out_qsize 0\n",
      "INFO - 18:06:46: EPOCH 7 - PROGRESS: at 59.55% examples, 104191 words/s, in_qsize 1, out_qsize 0\n",
      "INFO - 18:06:47: EPOCH 7 - PROGRESS: at 61.13% examples, 104828 words/s, in_qsize 0, out_qsize 0\n",
      "INFO - 18:06:48: EPOCH 7 - PROGRESS: at 62.94% examples, 105364 words/s, in_qsize 0, out_qsize 0\n",
      "INFO - 18:06:49: EPOCH 7 - PROGRESS: at 64.82% examples, 105947 words/s, in_qsize 0, out_qsize 0\n",
      "INFO - 18:06:50: EPOCH 7 - PROGRESS: at 66.45% examples, 106568 words/s, in_qsize 0, out_qsize 0\n",
      "INFO - 18:06:51: EPOCH 7 - PROGRESS: at 68.02% examples, 107140 words/s, in_qsize 0, out_qsize 0\n",
      "INFO - 18:06:52: EPOCH 7 - PROGRESS: at 69.83% examples, 107794 words/s, in_qsize 0, out_qsize 0\n",
      "INFO - 18:06:53: EPOCH 7 - PROGRESS: at 71.48% examples, 108222 words/s, in_qsize 1, out_qsize 0\n",
      "INFO - 18:06:54: EPOCH 7 - PROGRESS: at 73.44% examples, 108680 words/s, in_qsize 0, out_qsize 0\n",
      "INFO - 18:06:56: EPOCH 7 - PROGRESS: at 74.94% examples, 109165 words/s, in_qsize 0, out_qsize 0\n",
      "INFO - 18:06:57: EPOCH 7 - PROGRESS: at 77.14% examples, 109511 words/s, in_qsize 0, out_qsize 0\n",
      "INFO - 18:06:58: EPOCH 7 - PROGRESS: at 78.88% examples, 109676 words/s, in_qsize 0, out_qsize 0\n",
      "INFO - 18:06:59: EPOCH 7 - PROGRESS: at 80.45% examples, 109704 words/s, in_qsize 0, out_qsize 0\n",
      "INFO - 18:07:00: EPOCH 7 - PROGRESS: at 84.68% examples, 109505 words/s, in_qsize 0, out_qsize 0\n",
      "INFO - 18:07:01: EPOCH 7 - PROGRESS: at 85.46% examples, 108160 words/s, in_qsize 0, out_qsize 0\n",
      "INFO - 18:07:02: EPOCH 7 - PROGRESS: at 86.48% examples, 107612 words/s, in_qsize 0, out_qsize 0\n"
     ]
    },
    {
     "name": "stderr",
     "output_type": "stream",
     "text": [
      "INFO - 18:07:03: EPOCH 7 - PROGRESS: at 87.49% examples, 106698 words/s, in_qsize 0, out_qsize 0\n",
      "INFO - 18:07:04: EPOCH 7 - PROGRESS: at 89.01% examples, 106796 words/s, in_qsize 0, out_qsize 0\n",
      "INFO - 18:07:05: EPOCH 7 - PROGRESS: at 90.62% examples, 107271 words/s, in_qsize 0, out_qsize 0\n",
      "INFO - 18:07:06: EPOCH 7 - PROGRESS: at 92.83% examples, 107627 words/s, in_qsize 0, out_qsize 0\n",
      "INFO - 18:07:07: EPOCH 7 - PROGRESS: at 94.80% examples, 108045 words/s, in_qsize 0, out_qsize 0\n",
      "INFO - 18:07:08: EPOCH 7 - PROGRESS: at 96.13% examples, 107530 words/s, in_qsize 0, out_qsize 0\n",
      "INFO - 18:07:09: EPOCH 7 - PROGRESS: at 96.93% examples, 106591 words/s, in_qsize 0, out_qsize 0\n",
      "INFO - 18:07:10: EPOCH 7 - PROGRESS: at 98.15% examples, 106125 words/s, in_qsize 1, out_qsize 0\n",
      "INFO - 18:07:11: EPOCH 7 - PROGRESS: at 99.87% examples, 106395 words/s, in_qsize 2, out_qsize 1\n",
      "INFO - 18:07:11: worker thread finished; awaiting finish of 2 more threads\n",
      "INFO - 18:07:11: worker thread finished; awaiting finish of 1 more threads\n",
      "INFO - 18:07:11: worker thread finished; awaiting finish of 0 more threads\n",
      "INFO - 18:07:11: EPOCH - 7 : training on 10257959 raw words (7015227 effective words) took 65.9s, 106464 effective words/s\n",
      "INFO - 18:07:13: EPOCH 8 - PROGRESS: at 1.12% examples, 102828 words/s, in_qsize 0, out_qsize 0\n",
      "INFO - 18:07:14: EPOCH 8 - PROGRESS: at 2.38% examples, 102903 words/s, in_qsize 0, out_qsize 0\n",
      "INFO - 18:07:15: EPOCH 8 - PROGRESS: at 4.17% examples, 108836 words/s, in_qsize 0, out_qsize 0\n",
      "INFO - 18:07:16: EPOCH 8 - PROGRESS: at 5.73% examples, 112633 words/s, in_qsize 0, out_qsize 0\n",
      "INFO - 18:07:17: EPOCH 8 - PROGRESS: at 7.07% examples, 110443 words/s, in_qsize 0, out_qsize 0\n",
      "INFO - 18:07:18: EPOCH 8 - PROGRESS: at 8.52% examples, 111941 words/s, in_qsize 0, out_qsize 0\n",
      "INFO - 18:07:19: EPOCH 8 - PROGRESS: at 9.99% examples, 110848 words/s, in_qsize 0, out_qsize 0\n",
      "INFO - 18:07:20: EPOCH 8 - PROGRESS: at 11.83% examples, 111718 words/s, in_qsize 1, out_qsize 0\n",
      "INFO - 18:07:21: EPOCH 8 - PROGRESS: at 13.37% examples, 111865 words/s, in_qsize 0, out_qsize 0\n",
      "INFO - 18:07:22: EPOCH 8 - PROGRESS: at 15.01% examples, 112135 words/s, in_qsize 0, out_qsize 0\n",
      "INFO - 18:07:23: EPOCH 8 - PROGRESS: at 16.68% examples, 111837 words/s, in_qsize 1, out_qsize 0\n",
      "INFO - 18:07:24: EPOCH 8 - PROGRESS: at 18.17% examples, 112517 words/s, in_qsize 1, out_qsize 0\n",
      "INFO - 18:07:25: EPOCH 8 - PROGRESS: at 19.60% examples, 111786 words/s, in_qsize 0, out_qsize 0\n",
      "INFO - 18:07:26: EPOCH 8 - PROGRESS: at 20.78% examples, 110535 words/s, in_qsize 0, out_qsize 0\n",
      "INFO - 18:07:27: EPOCH 8 - PROGRESS: at 22.24% examples, 109697 words/s, in_qsize 0, out_qsize 0\n",
      "INFO - 18:07:28: EPOCH 8 - PROGRESS: at 23.84% examples, 110784 words/s, in_qsize 0, out_qsize 0\n",
      "INFO - 18:07:29: EPOCH 8 - PROGRESS: at 25.59% examples, 111908 words/s, in_qsize 0, out_qsize 0\n",
      "INFO - 18:07:30: EPOCH 8 - PROGRESS: at 27.00% examples, 112828 words/s, in_qsize 0, out_qsize 0\n",
      "INFO - 18:07:31: EPOCH 8 - PROGRESS: at 28.55% examples, 113167 words/s, in_qsize 0, out_qsize 0\n",
      "INFO - 18:07:32: EPOCH 8 - PROGRESS: at 30.17% examples, 112456 words/s, in_qsize 0, out_qsize 0\n",
      "INFO - 18:07:33: EPOCH 8 - PROGRESS: at 31.74% examples, 109853 words/s, in_qsize 0, out_qsize 0\n",
      "INFO - 18:07:34: EPOCH 8 - PROGRESS: at 32.73% examples, 107755 words/s, in_qsize 0, out_qsize 0\n",
      "INFO - 18:07:35: EPOCH 8 - PROGRESS: at 33.70% examples, 106144 words/s, in_qsize 0, out_qsize 0\n",
      "INFO - 18:07:36: EPOCH 8 - PROGRESS: at 36.64% examples, 104610 words/s, in_qsize 0, out_qsize 0\n",
      "INFO - 18:07:37: EPOCH 8 - PROGRESS: at 38.85% examples, 103172 words/s, in_qsize 0, out_qsize 0\n",
      "INFO - 18:07:38: EPOCH 8 - PROGRESS: at 40.18% examples, 103286 words/s, in_qsize 1, out_qsize 0\n",
      "INFO - 18:07:39: EPOCH 8 - PROGRESS: at 41.23% examples, 102786 words/s, in_qsize 0, out_qsize 0\n",
      "INFO - 18:07:40: EPOCH 8 - PROGRESS: at 42.45% examples, 102225 words/s, in_qsize 1, out_qsize 0\n",
      "INFO - 18:07:42: EPOCH 8 - PROGRESS: at 43.70% examples, 101991 words/s, in_qsize 0, out_qsize 0\n",
      "INFO - 18:07:43: EPOCH 8 - PROGRESS: at 45.15% examples, 102497 words/s, in_qsize 0, out_qsize 0\n",
      "INFO - 18:07:44: EPOCH 8 - PROGRESS: at 46.08% examples, 100773 words/s, in_qsize 0, out_qsize 0\n",
      "INFO - 18:07:45: EPOCH 8 - PROGRESS: at 46.47% examples, 98160 words/s, in_qsize 0, out_qsize 0\n",
      "INFO - 18:07:46: EPOCH 8 - PROGRESS: at 47.16% examples, 96837 words/s, in_qsize 0, out_qsize 0\n",
      "INFO - 18:07:47: EPOCH 8 - PROGRESS: at 48.58% examples, 96874 words/s, in_qsize 0, out_qsize 0\n",
      "INFO - 18:07:48: EPOCH 8 - PROGRESS: at 49.49% examples, 96037 words/s, in_qsize 0, out_qsize 0\n",
      "INFO - 18:07:49: EPOCH 8 - PROGRESS: at 50.68% examples, 95648 words/s, in_qsize 0, out_qsize 0\n",
      "INFO - 18:07:50: EPOCH 8 - PROGRESS: at 51.78% examples, 95276 words/s, in_qsize 0, out_qsize 0\n",
      "INFO - 18:07:51: EPOCH 8 - PROGRESS: at 53.50% examples, 95731 words/s, in_qsize 1, out_qsize 0\n",
      "INFO - 18:07:52: EPOCH 8 - PROGRESS: at 54.30% examples, 94585 words/s, in_qsize 0, out_qsize 0\n",
      "INFO - 18:07:53: EPOCH 8 - PROGRESS: at 55.12% examples, 93935 words/s, in_qsize 0, out_qsize 0\n",
      "INFO - 18:07:54: EPOCH 8 - PROGRESS: at 57.15% examples, 94749 words/s, in_qsize 0, out_qsize 0\n",
      "INFO - 18:07:55: EPOCH 8 - PROGRESS: at 58.98% examples, 95496 words/s, in_qsize 0, out_qsize 0\n",
      "INFO - 18:07:56: EPOCH 8 - PROGRESS: at 60.63% examples, 96194 words/s, in_qsize 0, out_qsize 0\n",
      "INFO - 18:07:58: EPOCH 8 - PROGRESS: at 62.32% examples, 96851 words/s, in_qsize 0, out_qsize 0\n",
      "INFO - 18:07:59: EPOCH 8 - PROGRESS: at 64.25% examples, 97468 words/s, in_qsize 0, out_qsize 0\n",
      "INFO - 18:08:00: EPOCH 8 - PROGRESS: at 65.86% examples, 98243 words/s, in_qsize 1, out_qsize 0\n",
      "INFO - 18:08:01: EPOCH 8 - PROGRESS: at 67.39% examples, 98747 words/s, in_qsize 0, out_qsize 1\n",
      "INFO - 18:08:02: EPOCH 8 - PROGRESS: at 68.97% examples, 99344 words/s, in_qsize 1, out_qsize 0\n",
      "INFO - 18:08:03: EPOCH 8 - PROGRESS: at 70.60% examples, 99792 words/s, in_qsize 0, out_qsize 0\n",
      "INFO - 18:08:04: EPOCH 8 - PROGRESS: at 72.34% examples, 100371 words/s, in_qsize 0, out_qsize 0\n",
      "INFO - 18:08:05: EPOCH 8 - PROGRESS: at 73.35% examples, 99266 words/s, in_qsize 0, out_qsize 0\n",
      "INFO - 18:08:06: EPOCH 8 - PROGRESS: at 73.88% examples, 98260 words/s, in_qsize 0, out_qsize 0\n",
      "INFO - 18:08:07: EPOCH 8 - PROGRESS: at 74.59% examples, 97604 words/s, in_qsize 0, out_qsize 0\n",
      "INFO - 18:08:08: EPOCH 8 - PROGRESS: at 76.21% examples, 97954 words/s, in_qsize 0, out_qsize 0\n",
      "INFO - 18:08:09: EPOCH 8 - PROGRESS: at 78.54% examples, 98510 words/s, in_qsize 1, out_qsize 0\n",
      "INFO - 18:08:10: EPOCH 8 - PROGRESS: at 80.13% examples, 98915 words/s, in_qsize 0, out_qsize 0\n",
      "INFO - 18:08:11: EPOCH 8 - PROGRESS: at 82.85% examples, 98447 words/s, in_qsize 0, out_qsize 0\n",
      "INFO - 18:08:12: EPOCH 8 - PROGRESS: at 85.37% examples, 98595 words/s, in_qsize 0, out_qsize 0\n",
      "INFO - 18:08:13: EPOCH 8 - PROGRESS: at 86.93% examples, 98831 words/s, in_qsize 1, out_qsize 0\n",
      "INFO - 18:08:14: EPOCH 8 - PROGRESS: at 88.65% examples, 99164 words/s, in_qsize 0, out_qsize 0\n",
      "INFO - 18:08:15: EPOCH 8 - PROGRESS: at 90.25% examples, 99521 words/s, in_qsize 0, out_qsize 0\n",
      "INFO - 18:08:16: EPOCH 8 - PROGRESS: at 92.07% examples, 99852 words/s, in_qsize 0, out_qsize 0\n",
      "INFO - 18:08:17: EPOCH 8 - PROGRESS: at 93.68% examples, 99709 words/s, in_qsize 0, out_qsize 0\n",
      "INFO - 18:08:18: EPOCH 8 - PROGRESS: at 95.27% examples, 99871 words/s, in_qsize 0, out_qsize 0\n",
      "INFO - 18:08:19: EPOCH 8 - PROGRESS: at 97.03% examples, 100190 words/s, in_qsize 1, out_qsize 0\n",
      "INFO - 18:08:20: EPOCH 8 - PROGRESS: at 98.93% examples, 100605 words/s, in_qsize 1, out_qsize 0\n",
      "INFO - 18:08:21: worker thread finished; awaiting finish of 2 more threads\n",
      "INFO - 18:08:21: worker thread finished; awaiting finish of 1 more threads\n",
      "INFO - 18:08:21: worker thread finished; awaiting finish of 0 more threads\n",
      "INFO - 18:08:21: EPOCH - 8 : training on 10257959 raw words (7014688 effective words) took 69.6s, 100769 effective words/s\n",
      "INFO - 18:08:22: EPOCH 9 - PROGRESS: at 0.97% examples, 88226 words/s, in_qsize 0, out_qsize 0\n",
      "INFO - 18:08:23: EPOCH 9 - PROGRESS: at 2.08% examples, 88973 words/s, in_qsize 0, out_qsize 0\n",
      "INFO - 18:08:24: EPOCH 9 - PROGRESS: at 3.32% examples, 89806 words/s, in_qsize 0, out_qsize 1\n"
     ]
    },
    {
     "name": "stderr",
     "output_type": "stream",
     "text": [
      "INFO - 18:08:25: EPOCH 9 - PROGRESS: at 4.71% examples, 92999 words/s, in_qsize 1, out_qsize 0\n",
      "INFO - 18:08:26: EPOCH 9 - PROGRESS: at 5.81% examples, 92974 words/s, in_qsize 0, out_qsize 0\n",
      "INFO - 18:08:27: EPOCH 9 - PROGRESS: at 6.99% examples, 91671 words/s, in_qsize 1, out_qsize 0\n",
      "INFO - 18:08:28: EPOCH 9 - PROGRESS: at 7.84% examples, 89191 words/s, in_qsize 0, out_qsize 0\n",
      "INFO - 18:08:29: EPOCH 9 - PROGRESS: at 9.48% examples, 94007 words/s, in_qsize 0, out_qsize 0\n",
      "INFO - 18:08:30: EPOCH 9 - PROGRESS: at 11.37% examples, 96607 words/s, in_qsize 0, out_qsize 0\n",
      "INFO - 18:08:31: EPOCH 9 - PROGRESS: at 12.52% examples, 94890 words/s, in_qsize 0, out_qsize 0\n",
      "INFO - 18:08:32: EPOCH 9 - PROGRESS: at 14.26% examples, 97449 words/s, in_qsize 0, out_qsize 0\n",
      "INFO - 18:08:34: EPOCH 9 - PROGRESS: at 15.99% examples, 98074 words/s, in_qsize 0, out_qsize 0\n",
      "INFO - 18:08:35: EPOCH 9 - PROGRESS: at 17.43% examples, 99364 words/s, in_qsize 0, out_qsize 0\n",
      "INFO - 18:08:36: EPOCH 9 - PROGRESS: at 18.92% examples, 100423 words/s, in_qsize 1, out_qsize 0\n",
      "INFO - 18:08:37: EPOCH 9 - PROGRESS: at 20.04% examples, 97748 words/s, in_qsize 0, out_qsize 0\n",
      "INFO - 18:08:38: EPOCH 9 - PROGRESS: at 21.04% examples, 96388 words/s, in_qsize 0, out_qsize 0\n",
      "INFO - 18:08:39: EPOCH 9 - PROGRESS: at 23.00% examples, 98563 words/s, in_qsize 1, out_qsize 0\n",
      "INFO - 18:08:40: EPOCH 9 - PROGRESS: at 24.65% examples, 100437 words/s, in_qsize 0, out_qsize 0\n",
      "INFO - 18:08:41: EPOCH 9 - PROGRESS: at 26.29% examples, 102246 words/s, in_qsize 0, out_qsize 0\n",
      "INFO - 18:08:42: EPOCH 9 - PROGRESS: at 27.90% examples, 103612 words/s, in_qsize 0, out_qsize 0\n",
      "INFO - 18:08:43: EPOCH 9 - PROGRESS: at 29.70% examples, 104653 words/s, in_qsize 1, out_qsize 0\n",
      "INFO - 18:08:44: EPOCH 9 - PROGRESS: at 31.91% examples, 104367 words/s, in_qsize 0, out_qsize 0\n",
      "INFO - 18:08:45: EPOCH 9 - PROGRESS: at 33.70% examples, 105392 words/s, in_qsize 1, out_qsize 0\n",
      "INFO - 18:08:46: EPOCH 9 - PROGRESS: at 36.04% examples, 104024 words/s, in_qsize 0, out_qsize 0\n",
      "INFO - 18:08:47: EPOCH 9 - PROGRESS: at 39.40% examples, 104400 words/s, in_qsize 1, out_qsize 0\n",
      "INFO - 18:08:48: EPOCH 9 - PROGRESS: at 41.01% examples, 105374 words/s, in_qsize 1, out_qsize 0\n",
      "INFO - 18:08:49: EPOCH 9 - PROGRESS: at 42.85% examples, 106358 words/s, in_qsize 0, out_qsize 0\n",
      "INFO - 18:08:50: EPOCH 9 - PROGRESS: at 44.38% examples, 106598 words/s, in_qsize 0, out_qsize 0\n",
      "INFO - 18:08:51: EPOCH 9 - PROGRESS: at 45.99% examples, 107166 words/s, in_qsize 0, out_qsize 0\n",
      "INFO - 18:08:52: EPOCH 9 - PROGRESS: at 47.41% examples, 107642 words/s, in_qsize 0, out_qsize 0\n",
      "INFO - 18:08:53: EPOCH 9 - PROGRESS: at 49.00% examples, 107819 words/s, in_qsize 1, out_qsize 0\n",
      "INFO - 18:08:54: EPOCH 9 - PROGRESS: at 50.49% examples, 107910 words/s, in_qsize 1, out_qsize 0\n",
      "INFO - 18:08:55: EPOCH 9 - PROGRESS: at 52.10% examples, 108164 words/s, in_qsize 0, out_qsize 0\n",
      "INFO - 18:08:56: EPOCH 9 - PROGRESS: at 53.84% examples, 108530 words/s, in_qsize 0, out_qsize 0\n",
      "INFO - 18:08:57: EPOCH 9 - PROGRESS: at 55.78% examples, 109276 words/s, in_qsize 1, out_qsize 0\n",
      "INFO - 18:08:58: EPOCH 9 - PROGRESS: at 57.40% examples, 109336 words/s, in_qsize 0, out_qsize 0\n",
      "INFO - 18:09:00: EPOCH 9 - PROGRESS: at 59.21% examples, 109814 words/s, in_qsize 0, out_qsize 0\n",
      "INFO - 18:09:01: EPOCH 9 - PROGRESS: at 60.71% examples, 110081 words/s, in_qsize 0, out_qsize 0\n",
      "INFO - 18:09:02: EPOCH 9 - PROGRESS: at 62.20% examples, 110195 words/s, in_qsize 0, out_qsize 0\n",
      "INFO - 18:09:03: EPOCH 9 - PROGRESS: at 63.97% examples, 110295 words/s, in_qsize 0, out_qsize 0\n",
      "INFO - 18:09:04: EPOCH 9 - PROGRESS: at 65.21% examples, 110120 words/s, in_qsize 1, out_qsize 0\n",
      "INFO - 18:09:05: EPOCH 9 - PROGRESS: at 66.20% examples, 109435 words/s, in_qsize 0, out_qsize 0\n",
      "INFO - 18:09:06: EPOCH 9 - PROGRESS: at 67.32% examples, 108923 words/s, in_qsize 1, out_qsize 0\n",
      "INFO - 18:09:07: EPOCH 9 - PROGRESS: at 67.95% examples, 107715 words/s, in_qsize 0, out_qsize 0\n",
      "INFO - 18:09:08: EPOCH 9 - PROGRESS: at 69.62% examples, 108111 words/s, in_qsize 0, out_qsize 0\n",
      "INFO - 18:09:09: EPOCH 9 - PROGRESS: at 71.08% examples, 108115 words/s, in_qsize 0, out_qsize 0\n",
      "INFO - 18:09:10: EPOCH 9 - PROGRESS: at 72.42% examples, 108052 words/s, in_qsize 0, out_qsize 0\n",
      "INFO - 18:09:11: EPOCH 9 - PROGRESS: at 74.27% examples, 108483 words/s, in_qsize 0, out_qsize 0\n",
      "INFO - 18:09:12: EPOCH 9 - PROGRESS: at 75.93% examples, 108810 words/s, in_qsize 0, out_qsize 0\n",
      "INFO - 18:09:13: EPOCH 9 - PROGRESS: at 77.84% examples, 108471 words/s, in_qsize 0, out_qsize 0\n",
      "INFO - 18:09:14: EPOCH 9 - PROGRESS: at 79.06% examples, 108219 words/s, in_qsize 0, out_qsize 0\n",
      "INFO - 18:09:15: EPOCH 9 - PROGRESS: at 80.72% examples, 108432 words/s, in_qsize 0, out_qsize 0\n",
      "INFO - 18:09:16: EPOCH 9 - PROGRESS: at 84.98% examples, 108414 words/s, in_qsize 0, out_qsize 0\n",
      "INFO - 18:09:17: EPOCH 9 - PROGRESS: at 86.39% examples, 108440 words/s, in_qsize 0, out_qsize 1\n",
      "INFO - 18:09:18: EPOCH 9 - PROGRESS: at 88.15% examples, 108548 words/s, in_qsize 0, out_qsize 0\n",
      "INFO - 18:09:19: EPOCH 9 - PROGRESS: at 89.67% examples, 108733 words/s, in_qsize 0, out_qsize 0\n",
      "INFO - 18:09:20: EPOCH 9 - PROGRESS: at 91.32% examples, 108972 words/s, in_qsize 0, out_qsize 0\n",
      "INFO - 18:09:21: EPOCH 9 - PROGRESS: at 92.83% examples, 108400 words/s, in_qsize 0, out_qsize 0\n",
      "INFO - 18:09:22: EPOCH 9 - PROGRESS: at 93.59% examples, 107294 words/s, in_qsize 0, out_qsize 0\n",
      "INFO - 18:09:23: EPOCH 9 - PROGRESS: at 94.71% examples, 106775 words/s, in_qsize 0, out_qsize 0\n",
      "INFO - 18:09:24: EPOCH 9 - PROGRESS: at 95.75% examples, 106259 words/s, in_qsize 0, out_qsize 0\n",
      "INFO - 18:09:25: EPOCH 9 - PROGRESS: at 96.73% examples, 105502 words/s, in_qsize 0, out_qsize 0\n",
      "INFO - 18:09:27: EPOCH 9 - PROGRESS: at 98.58% examples, 105654 words/s, in_qsize 0, out_qsize 0\n",
      "INFO - 18:09:27: worker thread finished; awaiting finish of 2 more threads\n",
      "INFO - 18:09:27: worker thread finished; awaiting finish of 1 more threads\n",
      "INFO - 18:09:27: worker thread finished; awaiting finish of 0 more threads\n",
      "INFO - 18:09:27: EPOCH - 9 : training on 10257959 raw words (7013992 effective words) took 66.2s, 105951 effective words/s\n",
      "INFO - 18:09:28: EPOCH 10 - PROGRESS: at 1.22% examples, 108735 words/s, in_qsize 0, out_qsize 0\n",
      "INFO - 18:09:29: EPOCH 10 - PROGRESS: at 2.76% examples, 115431 words/s, in_qsize 0, out_qsize 0\n",
      "INFO - 18:09:30: EPOCH 10 - PROGRESS: at 4.07% examples, 108316 words/s, in_qsize 0, out_qsize 0\n",
      "INFO - 18:09:31: EPOCH 10 - PROGRESS: at 5.28% examples, 105239 words/s, in_qsize 0, out_qsize 0\n",
      "INFO - 18:09:32: EPOCH 10 - PROGRESS: at 6.84% examples, 108129 words/s, in_qsize 0, out_qsize 0\n",
      "INFO - 18:09:33: EPOCH 10 - PROGRESS: at 8.10% examples, 108469 words/s, in_qsize 0, out_qsize 0\n",
      "INFO - 18:09:35: EPOCH 10 - PROGRESS: at 9.81% examples, 109966 words/s, in_qsize 1, out_qsize 0\n",
      "INFO - 18:09:36: EPOCH 10 - PROGRESS: at 11.37% examples, 108377 words/s, in_qsize 0, out_qsize 0\n",
      "INFO - 18:09:37: EPOCH 10 - PROGRESS: at 12.85% examples, 108019 words/s, in_qsize 0, out_qsize 0\n",
      "INFO - 18:09:38: EPOCH 10 - PROGRESS: at 14.65% examples, 109544 words/s, in_qsize 0, out_qsize 1\n",
      "INFO - 18:09:39: EPOCH 10 - PROGRESS: at 16.26% examples, 108651 words/s, in_qsize 0, out_qsize 0\n",
      "INFO - 18:09:40: EPOCH 10 - PROGRESS: at 17.79% examples, 109777 words/s, in_qsize 0, out_qsize 0\n",
      "INFO - 18:09:41: EPOCH 10 - PROGRESS: at 18.59% examples, 106531 words/s, in_qsize 0, out_qsize 0\n",
      "INFO - 18:09:42: EPOCH 10 - PROGRESS: at 19.51% examples, 103634 words/s, in_qsize 1, out_qsize 0\n",
      "INFO - 18:09:43: EPOCH 10 - PROGRESS: at 21.04% examples, 104270 words/s, in_qsize 0, out_qsize 1\n",
      "INFO - 18:09:44: EPOCH 10 - PROGRESS: at 22.60% examples, 104346 words/s, in_qsize 0, out_qsize 0\n",
      "INFO - 18:09:45: EPOCH 10 - PROGRESS: at 23.44% examples, 101595 words/s, in_qsize 0, out_qsize 0\n",
      "INFO - 18:09:46: EPOCH 10 - PROGRESS: at 24.01% examples, 98493 words/s, in_qsize 0, out_qsize 0\n",
      "INFO - 18:09:47: EPOCH 10 - PROGRESS: at 25.01% examples, 96975 words/s, in_qsize 0, out_qsize 0\n",
      "INFO - 18:09:48: EPOCH 10 - PROGRESS: at 26.09% examples, 96332 words/s, in_qsize 0, out_qsize 0\n",
      "INFO - 18:09:49: EPOCH 10 - PROGRESS: at 26.91% examples, 95280 words/s, in_qsize 0, out_qsize 0\n"
     ]
    },
    {
     "name": "stderr",
     "output_type": "stream",
     "text": [
      "INFO - 18:09:50: EPOCH 10 - PROGRESS: at 28.47% examples, 96537 words/s, in_qsize 0, out_qsize 0\n",
      "INFO - 18:09:51: EPOCH 10 - PROGRESS: at 30.17% examples, 97073 words/s, in_qsize 0, out_qsize 0\n",
      "INFO - 18:09:52: EPOCH 10 - PROGRESS: at 32.19% examples, 96939 words/s, in_qsize 0, out_qsize 0\n",
      "INFO - 18:09:53: EPOCH 10 - PROGRESS: at 33.70% examples, 97236 words/s, in_qsize 1, out_qsize 0\n",
      "INFO - 18:09:54: EPOCH 10 - PROGRESS: at 38.57% examples, 98400 words/s, in_qsize 0, out_qsize 0\n",
      "INFO - 18:09:55: EPOCH 10 - PROGRESS: at 40.29% examples, 99565 words/s, in_qsize 0, out_qsize 0\n",
      "INFO - 18:09:56: EPOCH 10 - PROGRESS: at 41.93% examples, 100760 words/s, in_qsize 1, out_qsize 0\n",
      "INFO - 18:09:57: EPOCH 10 - PROGRESS: at 43.70% examples, 101743 words/s, in_qsize 0, out_qsize 0\n",
      "INFO - 18:09:58: EPOCH 10 - PROGRESS: at 45.33% examples, 102697 words/s, in_qsize 0, out_qsize 0\n",
      "INFO - 18:10:00: EPOCH 10 - PROGRESS: at 47.00% examples, 103600 words/s, in_qsize 0, out_qsize 0\n",
      "INFO - 18:10:01: EPOCH 10 - PROGRESS: at 48.74% examples, 104300 words/s, in_qsize 1, out_qsize 0\n",
      "INFO - 18:10:02: EPOCH 10 - PROGRESS: at 50.49% examples, 105050 words/s, in_qsize 0, out_qsize 0\n",
      "INFO - 18:10:03: EPOCH 10 - PROGRESS: at 52.42% examples, 105881 words/s, in_qsize 0, out_qsize 0\n",
      "INFO - 18:10:04: EPOCH 10 - PROGRESS: at 53.84% examples, 105735 words/s, in_qsize 0, out_qsize 0\n",
      "INFO - 18:10:05: EPOCH 10 - PROGRESS: at 55.32% examples, 105760 words/s, in_qsize 0, out_qsize 0\n",
      "INFO - 18:10:06: EPOCH 10 - PROGRESS: at 56.82% examples, 105330 words/s, in_qsize 0, out_qsize 0\n",
      "INFO - 18:10:07: EPOCH 10 - PROGRESS: at 57.65% examples, 103792 words/s, in_qsize 0, out_qsize 0\n",
      "INFO - 18:10:08: EPOCH 10 - PROGRESS: at 58.50% examples, 102474 words/s, in_qsize 0, out_qsize 0\n",
      "INFO - 18:10:09: EPOCH 10 - PROGRESS: at 59.47% examples, 101321 words/s, in_qsize 0, out_qsize 0\n",
      "INFO - 18:10:10: EPOCH 10 - PROGRESS: at 60.48% examples, 100717 words/s, in_qsize 0, out_qsize 0\n",
      "INFO - 18:10:11: EPOCH 10 - PROGRESS: at 61.53% examples, 100359 words/s, in_qsize 1, out_qsize 0\n",
      "INFO - 18:10:12: EPOCH 10 - PROGRESS: at 63.16% examples, 100341 words/s, in_qsize 0, out_qsize 0\n",
      "INFO - 18:10:13: EPOCH 10 - PROGRESS: at 64.25% examples, 99764 words/s, in_qsize 0, out_qsize 0\n",
      "INFO - 18:10:14: EPOCH 10 - PROGRESS: at 65.30% examples, 99426 words/s, in_qsize 0, out_qsize 0\n",
      "INFO - 18:10:15: EPOCH 10 - PROGRESS: at 66.37% examples, 99134 words/s, in_qsize 0, out_qsize 0\n",
      "INFO - 18:10:16: EPOCH 10 - PROGRESS: at 67.53% examples, 99036 words/s, in_qsize 0, out_qsize 0\n",
      "INFO - 18:10:18: EPOCH 10 - PROGRESS: at 68.60% examples, 98539 words/s, in_qsize 0, out_qsize 0\n",
      "INFO - 18:10:19: EPOCH 10 - PROGRESS: at 69.83% examples, 98278 words/s, in_qsize 0, out_qsize 0\n",
      "INFO - 18:10:20: EPOCH 10 - PROGRESS: at 70.41% examples, 97089 words/s, in_qsize 0, out_qsize 0\n",
      "INFO - 18:10:21: EPOCH 10 - PROGRESS: at 71.15% examples, 95790 words/s, in_qsize 0, out_qsize 0\n",
      "INFO - 18:10:22: EPOCH 10 - PROGRESS: at 71.73% examples, 94843 words/s, in_qsize 0, out_qsize 0\n",
      "INFO - 18:10:23: EPOCH 10 - PROGRESS: at 73.44% examples, 95111 words/s, in_qsize 1, out_qsize 0\n",
      "INFO - 18:10:24: EPOCH 10 - PROGRESS: at 74.86% examples, 95599 words/s, in_qsize 0, out_qsize 0\n",
      "INFO - 18:10:25: EPOCH 10 - PROGRESS: at 76.31% examples, 95678 words/s, in_qsize 0, out_qsize 0\n",
      "INFO - 18:10:26: EPOCH 10 - PROGRESS: at 78.16% examples, 95465 words/s, in_qsize 0, out_qsize 0\n",
      "INFO - 18:10:27: EPOCH 10 - PROGRESS: at 78.88% examples, 94812 words/s, in_qsize 0, out_qsize 0\n",
      "INFO - 18:10:29: EPOCH 10 - PROGRESS: at 79.92% examples, 94573 words/s, in_qsize 0, out_qsize 0\n",
      "INFO - 18:10:30: EPOCH 10 - PROGRESS: at 83.37% examples, 94557 words/s, in_qsize 0, out_qsize 0\n",
      "INFO - 18:10:31: EPOCH 10 - PROGRESS: at 85.06% examples, 94217 words/s, in_qsize 0, out_qsize 0\n",
      "INFO - 18:10:32: EPOCH 10 - PROGRESS: at 86.10% examples, 94124 words/s, in_qsize 0, out_qsize 0\n",
      "INFO - 18:10:33: EPOCH 10 - PROGRESS: at 87.82% examples, 94332 words/s, in_qsize 0, out_qsize 0\n",
      "INFO - 18:10:34: EPOCH 10 - PROGRESS: at 88.65% examples, 93867 words/s, in_qsize 0, out_qsize 0\n",
      "INFO - 18:10:35: EPOCH 10 - PROGRESS: at 89.85% examples, 93791 words/s, in_qsize 0, out_qsize 0\n",
      "INFO - 18:10:36: EPOCH 10 - PROGRESS: at 91.24% examples, 93911 words/s, in_qsize 0, out_qsize 0\n",
      "INFO - 18:10:37: EPOCH 10 - PROGRESS: at 93.19% examples, 94220 words/s, in_qsize 0, out_qsize 0\n",
      "INFO - 18:10:38: EPOCH 10 - PROGRESS: at 94.52% examples, 94140 words/s, in_qsize 0, out_qsize 0\n",
      "INFO - 18:10:39: EPOCH 10 - PROGRESS: at 96.13% examples, 94386 words/s, in_qsize 0, out_qsize 0\n",
      "INFO - 18:10:40: EPOCH 10 - PROGRESS: at 97.52% examples, 94185 words/s, in_qsize 0, out_qsize 0\n",
      "INFO - 18:10:41: EPOCH 10 - PROGRESS: at 99.04% examples, 94300 words/s, in_qsize 0, out_qsize 0\n",
      "INFO - 18:10:42: worker thread finished; awaiting finish of 2 more threads\n",
      "INFO - 18:10:42: worker thread finished; awaiting finish of 1 more threads\n",
      "INFO - 18:10:42: worker thread finished; awaiting finish of 0 more threads\n",
      "INFO - 18:10:42: EPOCH - 10 : training on 10257959 raw words (7013675 effective words) took 74.5s, 94185 effective words/s\n",
      "INFO - 18:10:42: training on a 102579590 raw words (70142953 effective words) took 639.6s, 109674 effective words/s\n"
     ]
    },
    {
     "name": "stdout",
     "output_type": "stream",
     "text": [
      "Time to train the model: 10.66 mins\n"
     ]
    }
   ],
   "source": [
    "t = time()\n",
    "\n",
    "w2v_model.train(sentences, total_examples=w2v_model.corpus_count, epochs=10, report_delay=1)\n",
    "\n",
    "print('Time to train the model: {} mins'.format(round((time() - t) / 60, 2)))"
   ]
  },
  {
   "cell_type": "code",
   "execution_count": 174,
   "metadata": {},
   "outputs": [
    {
     "name": "stderr",
     "output_type": "stream",
     "text": [
      "INFO - 18:10:42: precomputing L2-norms of word weight vectors\n"
     ]
    }
   ],
   "source": [
    "w2v_model.init_sims(replace=True)"
   ]
  },
  {
   "cell_type": "code",
   "execution_count": 175,
   "metadata": {},
   "outputs": [
    {
     "data": {
      "text/plain": [
       "[('candidat_emmanuel', 0.6083074808120728),\n",
       " ('emmanuel_macron', 0.6003855466842651),\n",
       " ('candidat_macron', 0.5924217700958252),\n",
       " ('sarkozy', 0.5741581916809082),\n",
       " ('françois_hollande', 0.5740947127342224),\n",
       " ('nicolas_sarkozy', 0.5588964223861694),\n",
       " ('hollande', 0.5512332320213318),\n",
       " ('fillon', 0.549187183380127),\n",
       " ('président_macron', 0.5449208617210388),\n",
       " ('juppé', 0.5312817692756653)]"
      ]
     },
     "execution_count": 175,
     "metadata": {},
     "output_type": "execute_result"
    }
   ],
   "source": [
    "w2v_model.wv.most_similar(positive=[\"macron\"])"
   ]
  },
  {
   "cell_type": "code",
   "execution_count": 191,
   "metadata": {},
   "outputs": [
    {
     "data": {
      "text/plain": [
       "[('mme_ministre', 0.6248994469642639),\n",
       " ('mme_secrétaire', 0.6177802085876465),\n",
       " ('secrétaire_état', 0.5985841751098633),\n",
       " ('garde_sceaux', 0.5923207998275757),\n",
       " ('gérald_darmanin', 0.5764926075935364),\n",
       " ('ministre_solidarités', 0.5588624477386475),\n",
       " ('ministre_sports', 0.5570619106292725),\n",
       " ('mme_borne', 0.554517388343811),\n",
       " ('mme_buzyn', 0.5526615977287292),\n",
       " ('gérard_collomb', 0.5485752820968628)]"
      ]
     },
     "execution_count": 191,
     "metadata": {},
     "output_type": "execute_result"
    }
   ],
   "source": [
    "w2v_model.wv.most_similar(positive=[\"philippe\"])"
   ]
  },
  {
   "cell_type": "code",
   "execution_count": 185,
   "metadata": {},
   "outputs": [
    {
     "data": {
      "text/plain": [
       "[('analogues', 0.33974823355674744),\n",
       " ('toute_série', 0.3064239025115967),\n",
       " ('chromosomiques', 0.2989542782306671),\n",
       " ('chimiques', 0.28292593359947205),\n",
       " ('spéciales', 0.28267109394073486),\n",
       " ('connexes', 0.28129732608795166),\n",
       " ('recevables', 0.2778879404067993),\n",
       " ('ips', 0.2730802297592163),\n",
       " ('peuvent_exister', 0.27005520462989807),\n",
       " ('limitativement', 0.2650907635688782)]"
      ]
     },
     "execution_count": 185,
     "metadata": {},
     "output_type": "execute_result"
    }
   ],
   "source": [
    "w2v_model.wv.most_similar(negative=[\"promesse\"])"
   ]
  },
  {
   "cell_type": "code",
   "execution_count": 178,
   "metadata": {},
   "outputs": [
    {
     "data": {
      "text/plain": [
       "0.36179188"
      ]
     },
     "execution_count": 178,
     "metadata": {},
     "output_type": "execute_result"
    }
   ],
   "source": [
    "w2v_model.wv.similarity(\"élection\", 'présidentielle')"
   ]
  },
  {
   "cell_type": "code",
   "execution_count": 206,
   "metadata": {},
   "outputs": [
    {
     "data": {
      "text/plain": [
       "0.033225752"
      ]
     },
     "execution_count": 206,
     "metadata": {},
     "output_type": "execute_result"
    }
   ],
   "source": [
    "w2v_model.wv.similarity(\"sport\", 'études')"
   ]
  },
  {
   "cell_type": "code",
   "execution_count": 180,
   "metadata": {},
   "outputs": [
    {
     "name": "stdout",
     "output_type": "stream",
     "text": [
      "0.23601696\n",
      "0.14838734\n"
     ]
    }
   ],
   "source": [
    "print(w2v_model.wv.similarity(\"macron\", 'droite'))\n",
    "print(w2v_model.wv.similarity(\"macron\", 'gauche'))"
   ]
  },
  {
   "cell_type": "code",
   "execution_count": 181,
   "metadata": {},
   "outputs": [
    {
     "name": "stderr",
     "output_type": "stream",
     "text": [
      "/Users/lilianmarey/opt/anaconda3/lib/python3.7/site-packages/gensim/models/keyedvectors.py:877: FutureWarning: arrays to stack must be passed as a \"sequence\" type such as list or tuple. Support for non-sequence iterables such as generators is deprecated as of NumPy 1.16 and will raise an error in the future.\n",
      "  vectors = vstack(self.word_vec(word, use_norm=True) for word in used_words).astype(REAL)\n"
     ]
    },
    {
     "data": {
      "text/plain": [
       "'président'"
      ]
     },
     "execution_count": 181,
     "metadata": {},
     "output_type": "execute_result"
    }
   ],
   "source": [
    "w2v_model.wv.doesnt_match(['gauche', 'président', 'droite'])"
   ]
  },
  {
   "cell_type": "code",
   "execution_count": 230,
   "metadata": {},
   "outputs": [
    {
     "data": {
      "text/plain": [
       "[('mère', 0.5585302114486694),\n",
       " ('compagne', 0.5314989686012268),\n",
       " ('papa', 0.5292541980743408)]"
      ]
     },
     "execution_count": 230,
     "metadata": {},
     "output_type": "execute_result"
    }
   ],
   "source": [
    "w2v_model.wv.most_similar(positive=[\"père\", \"femme\"], negative = ['homme'], topn=3)"
   ]
  },
  {
   "cell_type": "code",
   "execution_count": 278,
   "metadata": {},
   "outputs": [],
   "source": [
    "def tsnescatterplot(model, word, list_names):\n",
    "    \"\"\" Plot in seaborn the results from the t-SNE dimensionality reduction algorithm of the vectors of a query word,\n",
    "    its list of most similar words, and a list of words.\n",
    "    \"\"\"\n",
    "    arrays = np.empty((0, 300), dtype='f')\n",
    "    word_labels = [word]\n",
    "    color_list  = ['red']\n",
    "\n",
    "    # adds the vector of the query word\n",
    "    arrays = np.append(arrays, model.wv.__getitem__([word]), axis=0)\n",
    "    \n",
    "    # gets list of most similar words\n",
    "    close_words = model.wv.most_similar([word])\n",
    "    \n",
    "    # adds the vector for each of the closest words to the array\n",
    "    for wrd_score in close_words:\n",
    "        wrd_vector = model.wv.__getitem__([wrd_score[0]])\n",
    "        word_labels.append(wrd_score[0])\n",
    "        color_list.append('blue')\n",
    "        arrays = np.append(arrays, wrd_vector, axis=0)\n",
    "    \n",
    "    \n",
    "    # adds the vector for each of the words from list_names to the array\n",
    "    for wrd in list_names:\n",
    "        wrd_vector = model.wv.__getitem__([wrd])\n",
    "        word_labels.append(wrd)\n",
    "        color_list.append('green')\n",
    "        arrays = np.append(arrays, wrd_vector, axis=0)\n",
    "        \n",
    "        \n",
    "    # Reduces the dimensionality from 300 to 19 dimensions with PCA\n",
    "    reduc = PCA(n_components=14).fit_transform(arrays)\n",
    "    \n",
    "    # Finds t-SNE coordinates for 2 dimensions\n",
    "    np.set_printoptions(suppress=True)\n",
    "    \n",
    "    Y = TSNE(n_components=2, random_state=0, perplexity=15).fit_transform(reduc)\n",
    "    \n",
    "    # Sets everything up to plot\n",
    "    df = pd.DataFrame({'x': [x for x in Y[:, 0]],\n",
    "                       'y': [y for y in Y[:, 1]],\n",
    "                       'words': word_labels,\n",
    "                       'color': color_list})\n",
    "    \n",
    "    \n",
    "    fig, _ = plt.subplots()\n",
    "    fig.set_size_inches(9, 9)\n",
    "    \n",
    "    # Basic plot\n",
    "    p1 = sns.regplot(data=df,\n",
    "                     x=\"x\",\n",
    "                     y=\"y\",\n",
    "                     fit_reg=False,\n",
    "                     marker=\"o\",\n",
    "                     scatter_kws={'s': 40,\n",
    "                                  'facecolors': df['color']\n",
    "                                 }\n",
    "                    )\n",
    "    \n",
    "    # Adds annotations one by one with a loop\n",
    "    for line in range(0, df.shape[0]):\n",
    "         p1.text(df[\"x\"][line],\n",
    "                 df['y'][line],\n",
    "                 '  ' + df[\"words\"][line].title(),\n",
    "                 horizontalalignment='left',\n",
    "                 verticalalignment='bottom', size='medium',\n",
    "                 color=df['color'][line],\n",
    "                 weight='normal'\n",
    "                ).set_size(15)\n",
    "\n",
    "    \n",
    "    plt.xlim(Y[:, 0].min()-50, Y[:, 0].max()+50)\n",
    "    plt.ylim(Y[:, 1].min()-50, Y[:, 1].max()+50)\n",
    "            \n",
    "    plt.title('t-SNE visualization for {}'.format(word.title()))"
   ]
  },
  {
   "cell_type": "code",
   "execution_count": 279,
   "metadata": {},
   "outputs": [
    {
     "data": {
      "text/plain": [
       "[('candidat_emmanuel', 0.6083074808120728),\n",
       " ('emmanuel_macron', 0.6003855466842651),\n",
       " ('candidat_macron', 0.5924217700958252),\n",
       " ('sarkozy', 0.5741581916809082),\n",
       " ('françois_hollande', 0.5740947127342224),\n",
       " ('nicolas_sarkozy', 0.5588964223861694),\n",
       " ('hollande', 0.5512332320213318),\n",
       " ('fillon', 0.549187183380127),\n",
       " ('président_macron', 0.5449208617210388),\n",
       " ('juppé', 0.5312817692756653)]"
      ]
     },
     "execution_count": 279,
     "metadata": {},
     "output_type": "execute_result"
    }
   ],
   "source": [
    "w2v_model.wv.most_similar(positive=[\"macron\"])"
   ]
  },
  {
   "cell_type": "code",
   "execution_count": 288,
   "metadata": {},
   "outputs": [
    {
     "data": {
      "image/png": "[encoded data removed]",
      "text/plain": [
       "<Figure size 648x648 with 1 Axes>"
      ]
     },
     "metadata": {},
     "output_type": "display_data"
    }
   ],
   "source": [
    "tsnescatterplot(w2v_model, 'macron', ['droite', 'gauche', 'centre', 'demain', 'trump', 'jardin'\n",
    "                                      ])\n",
    "\n"
   ]
  },
  {
   "cell_type": "code",
   "execution_count": 293,
   "metadata": {},
   "outputs": [
    {
     "data": {
      "image/png": "[encoded data removed]",
      "text/plain": [
       "<Figure size 648x648 with 1 Axes>"
      ]
     },
     "metadata": {},
     "output_type": "display_data"
    }
   ],
   "source": [
    "tsnescatterplot(w2v_model, 'agir', [i[0] for i in w2v_model.wv.most_similar(negative=[\"agir\"])])"
   ]
  },
  {
   "cell_type": "code",
   "execution_count": 294,
   "metadata": {},
   "outputs": [
    {
     "data": {
      "image/png": "[encoded data removed]",
      "text/plain": [
       "<Figure size 648x648 with 1 Axes>"
      ]
     },
     "metadata": {},
     "output_type": "display_data"
    }
   ],
   "source": [
    "tsnescatterplot(w2v_model, \"agir\", [t[0] for t in w2v_model.wv.most_similar(positive=[\"agir\"], topn=20)][10:])"
   ]
  },
  {
   "cell_type": "code",
   "execution_count": null,
   "metadata": {},
   "outputs": [],
   "source": []
  }
 ],
 "metadata": {
  "kernelspec": {
   "display_name": "Python 3",
   "language": "python",
   "name": "python3"
  },
  "language_info": {
   "codemirror_mode": {
    "name": "ipython",
    "version": 3
   },
   "file_extension": ".py",
   "mimetype": "text/x-python",
   "name": "python",
   "nbconvert_exporter": "python",
   "pygments_lexer": "ipython3",
   "version": "3.7.6"
  }
 },
 "nbformat": 4,
 "nbformat_minor": 4
}
