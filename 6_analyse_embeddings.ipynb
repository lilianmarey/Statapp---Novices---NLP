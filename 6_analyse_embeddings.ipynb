{
 "cells": [
  {
   "cell_type": "code",
   "execution_count": null,
   "metadata": {},
   "outputs": [],
   "source": [
    "# Importation des modules\n",
    "\n",
    "import pandas as pd\n",
    "from gensim.models import Word2Vec\n",
    "import random\n",
    "import matplotlib.pyplot as plt\n",
    "import numpy as np\n",
    "import plotly.express as px\n",
    "from sklearn.decomposition import PCA\n",
    "from sklearn.decomposition import PCA, KernelPCA\n",
    "from sklearn.cluster import DBSCAN\n",
    "from sklearn.metrics.pairwise import cosine_similarity\n",
    "from scipy.spatial import procrustes\n",
    "\n",
    "\n",
    "#Affichage de toutes les colonnes\n",
    "\n",
    "pd.set_option('display.max_columns', 500)"
   ]
  },
  {
   "cell_type": "code",
   "execution_count": null,
   "metadata": {},
   "outputs": [],
   "source": [
    "w2v_model_novice = Word2Vec.load(\"results/word2vec_novice_300.model\")\n",
    "\n",
    "w2v_model_exp = Word2Vec.load(\"results/word2vec_exp_300.model\")\n",
    "\n",
    "w2v_model_all = Word2Vec.load(\"results/word2vec_all_300.model\")"
   ]
  },
  {
   "cell_type": "code",
   "execution_count": null,
   "metadata": {},
   "outputs": [],
   "source": [
    "words_novice = list(w2v_model_novice.wv.vocab.keys())\n",
    "words_exp = list(w2v_model_exp.wv.vocab.keys())\n",
    "words_all = list(w2v_model_all.wv.vocab.keys())\n",
    "#words_all = random.sample(list(w2v_model_all.wv.vocab.keys()), 1000)"
   ]
  },
  {
   "cell_type": "code",
   "execution_count": null,
   "metadata": {},
   "outputs": [],
   "source": [
    "#v = w2v_model_novice.wv.get_vector('ministre') + w2v_model_novice.wv.get_vector('santé')\n",
    "\n",
    "#w2v_model_all.similar_by_vector(v, topn=5)"
   ]
  },
  {
   "cell_type": "code",
   "execution_count": null,
   "metadata": {},
   "outputs": [],
   "source": [
    "# Construction de la matrice des vecteurs\n",
    "\n",
    "df_vectors = pd.DataFrame(dict([(i, list(w2v_model_all.wv.get_vector(i))) for i in words_all])).T"
   ]
  },
  {
   "cell_type": "code",
   "execution_count": null,
   "metadata": {},
   "outputs": [],
   "source": [
    "pca = PCA(n_components=3)\n",
    "pca.fit(df_vectors)\n"
   ]
  },
  {
   "cell_type": "code",
   "execution_count": null,
   "metadata": {},
   "outputs": [],
   "source": [
    "transformed_df = pd.DataFrame(pca.transform(df_vectors)).rename(columns = {\n",
    "                            0 : 'var0', \n",
    "                            1 : 'var1', \n",
    "                            2 : 'var2',\n",
    "                         }).rename(index=dict([(i, words_all[i]) for i in range(len(words_all))]))\n",
    "transformed_df.reset_index(level=0, inplace=True)\n",
    "\n",
    "transformed_df['provenance'] = transformed_df.apply(lambda row: 'Novice' if row.iloc[0][-1] == 'e' else 'Exp', axis = 1)"
   ]
  },
  {
   "cell_type": "code",
   "execution_count": null,
   "metadata": {},
   "outputs": [],
   "source": [
    "target = [i[0] for i in w2v_model_all.wv.most_similar(positive=[\"macron_Exp\"], topn = 20)]\n",
    "target += [i[0] for i in w2v_model_all.wv.most_similar(positive=[\"macron_Novice\"], topn = 20)]\n"
   ]
  },
  {
   "cell_type": "code",
   "execution_count": null,
   "metadata": {},
   "outputs": [],
   "source": [
    "print_df = transformed_df\n",
    "fig = px.scatter_3d(print_df, x='var0', y='var1', z = 'var2', opacity = .05, \n",
    "                    hover_data = ['index'], \n",
    "                    color = 'provenance')\n",
    "fig.show()"
   ]
  },
  {
   "cell_type": "code",
   "execution_count": null,
   "metadata": {},
   "outputs": [],
   "source": [
    "fig = px.scatter(print_df, x='var0', y='var1', opacity = .5, \n",
    "                    hover_data = ['index'], \n",
    "                    color = 'provenance')\n",
    "fig.show()"
   ]
  },
  {
   "cell_type": "code",
   "execution_count": null,
   "metadata": {},
   "outputs": [],
   "source": [
    "'hamon_Exp' in list(df_vectors.index)"
   ]
  },
  {
   "cell_type": "markdown",
   "metadata": {},
   "source": [
    "### Création d'axes"
   ]
  },
  {
   "cell_type": "code",
   "execution_count": null,
   "metadata": {},
   "outputs": [],
   "source": [
    "key_words = ['droite_Exp', 'gauche_Exp', 'extrême_Exp_droite_Exp', 'extrême_Exp_gauche_Exp',\n",
    "            'droite_Novice', 'gauche_Novice', 'extrême_Novice_droite_Novice', \n",
    "             'extrême_Novice_gauche_Novice', \n",
    "            ]\n",
    "\n",
    "key_words0 = ['macron_Exp', 'mélenchon_Exp', 'pen_Exp', 'fillon_Exp', 'hamon_Exp',\n",
    "        'macron_Novice', 'mélenchon_Novice', 'pen_Novice', 'fillon_Novice', 'hamon_Novice',\n",
    "            ]\n",
    "\n",
    "\n",
    "\n",
    "\n",
    "\n",
    "print_df['provenance'] = print_df.apply(lambda row: 'highlight' if row.iloc[0] in key_words else row.provenance, \n",
    "                                        axis = 1)"
   ]
  },
  {
   "cell_type": "code",
   "execution_count": null,
   "metadata": {},
   "outputs": [],
   "source": [
    "fig = px.scatter(print_df, x='var0', y='var1', opacity = 1, \n",
    "                    hover_data = ['index'], \n",
    "                    color = 'provenance')\n",
    "fig.show()"
   ]
  },
  {
   "cell_type": "markdown",
   "metadata": {},
   "source": [
    "On remarque un \"motif politique\" similaire à homothétie et rotation prêt.  \n",
    "Peut-être les mots sélectionnés sont alignés dans l'espace de dimension 300. On vérifie cela en calculant les produits scalaires."
   ]
  },
  {
   "cell_type": "code",
   "execution_count": null,
   "metadata": {},
   "outputs": [],
   "source": [
    "from numpy import linalg as LA\n",
    "\n",
    "def alignement_mots(mot1, mot2):\n",
    "    v1 = w2v_model_all.wv.get_vector(mot1)\n",
    "    v1 = v1/LA.norm(v1)\n",
    "    \n",
    "    v2 = w2v_model_all.wv.get_vector(mot2)\n",
    "    v2 = v2/LA.norm(v2)\n",
    "\n",
    "    return (mot1, mot2,v1@v2)"
   ]
  },
  {
   "cell_type": "code",
   "execution_count": null,
   "metadata": {},
   "outputs": [],
   "source": [
    "print(alignement_mots('droite_Exp', 'gauche_Exp'), alignement_mots('centre_Exp', 'gauche_Exp'), '\\n',\n",
    "      alignement_mots('droite_Exp', 'centre_Exp'), '\\n',\n",
    "      alignement_mots('droite_Exp', 'extrême_Exp_droite_Exp'), '\\n',\n",
    "      alignement_mots('gauche_Exp', 'extrême_Exp_gauche_Exp'), '\\n','\\n',\n",
    "      \n",
    "      \n",
    "      alignement_mots('droite_Novice', 'gauche_Novice'), alignement_mots('centre_Novice', 'gauche_Novice'), '\\n',\n",
    "      alignement_mots('droite_Novice', 'centre_Novice'),'\\n',\n",
    "      alignement_mots('droite_Novice', 'extrême_Novice_droite_Novice'), '\\n',\n",
    "      alignement_mots('gauche_Novice', 'extrême_Novice_gauche_Novice'), '\\n',\n",
    ")\n"
   ]
  },
  {
   "cell_type": "markdown",
   "metadata": {},
   "source": [
    "Cela n'a pas l'air d'être le cas.\n",
    "\n",
    "Deux pistes :  \n",
    "- faire matcher les deux espaces ('problème de procuste')\n",
    "- déformer les espaces pour aligner les mots clefs politiques"
   ]
  },
  {
   "cell_type": "markdown",
   "metadata": {},
   "source": [
    "#### Application du problème de Procuste"
   ]
  },
  {
   "cell_type": "code",
   "execution_count": null,
   "metadata": {},
   "outputs": [],
   "source": [
    "df_vectors_Exp = df_vectors[df_vectors.index.str[-1] == 'p'].copy()\n",
    "df_vectors_Novice = df_vectors[df_vectors.index.str[-1] == 'e'].copy()"
   ]
  },
  {
   "cell_type": "code",
   "execution_count": null,
   "metadata": {},
   "outputs": [],
   "source": [
    "df_vectors_Novice = df_vectors_Novice.append(pd.DataFrame([[0 for i in range(300)] for j in range(64657)]))"
   ]
  },
  {
   "cell_type": "code",
   "execution_count": null,
   "metadata": {},
   "outputs": [],
   "source": [
    "mtx1, mtx2, disparity = procrustes(df_vectors_Exp, df_vectors_Novice)"
   ]
  },
  {
   "cell_type": "code",
   "execution_count": null,
   "metadata": {},
   "outputs": [],
   "source": [
    "df_vectors_Exp_procrustes = pd.DataFrame(mtx1, index = df_vectors_Exp.index)\n",
    "df_vectors_Novice_procrustes = pd.DataFrame(mtx2, index = df_vectors_Novice.index)"
   ]
  },
  {
   "cell_type": "code",
   "execution_count": null,
   "metadata": {},
   "outputs": [],
   "source": [
    "#c_norm_Exp = max([u@u for _,u in df_vectors_Exp_procrustes.iterrows()])\n",
    "#c_norm_Novice = max([u@u for _,u in df_vectors_Novice_procrustes.iterrows()])\n",
    "\n",
    "#df_vectors_Exp_procrustes = df_vectors_Exp_procrustes.div(c_norm_Exp)\n",
    "#df_vectors_Novice_procrustes = df_vectors_Novice_procrustes.div(c_norm_Novice)"
   ]
  },
  {
   "cell_type": "code",
   "execution_count": null,
   "metadata": {},
   "outputs": [],
   "source": [
    "df_vectors_procrustes = df_vectors_Novice_procrustes.append(df_vectors_Exp_procrustes)"
   ]
  },
  {
   "cell_type": "code",
   "execution_count": null,
   "metadata": {},
   "outputs": [],
   "source": []
  },
  {
   "cell_type": "code",
   "execution_count": null,
   "metadata": {},
   "outputs": [],
   "source": [
    "def closest_words(df, mot, k):\n",
    "    \n",
    "    v = df.loc[mot]\n",
    "    \n",
    "    L = [(n, v@u) for n, u in df.iterrows()]\n",
    "    \n",
    "    L.sort(key = lambda couple: couple[1])\n",
    "    \n",
    "    res = L[-1*k:][::-1]\n",
    "    \n",
    "    return res"
   ]
  },
  {
   "cell_type": "code",
   "execution_count": null,
   "metadata": {},
   "outputs": [],
   "source": [
    "a = closest_words(df_vectors_procrustes, 'droite_Exp', 10)"
   ]
  },
  {
   "cell_type": "code",
   "execution_count": null,
   "metadata": {},
   "outputs": [],
   "source": []
  },
  {
   "cell_type": "code",
   "execution_count": null,
   "metadata": {},
   "outputs": [],
   "source": [
    "pca = PCA(n_components = 3)\n",
    "pca.fit(df_vectors_procrustes)"
   ]
  },
  {
   "cell_type": "code",
   "execution_count": null,
   "metadata": {},
   "outputs": [],
   "source": [
    "transformed_df_procustes = pd.DataFrame(pca.transform(df_vectors_procrustes)).rename(columns = {\n",
    "                            0 : 'var0', \n",
    "                            1 : 'var1', \n",
    "                            2 : 'var2',\n",
    "                         })\n",
    "\n",
    "transformed_df_procustes['word'] = df_vectors_procrustes.index"
   ]
  },
  {
   "cell_type": "code",
   "execution_count": null,
   "metadata": {},
   "outputs": [],
   "source": [
    "transformed_df_procustes['provenance'] = ['Novice' for i in range(df_vectors_Novice_procrustes.shape[0])] + ['Exp' for i in range(df_vectors_Exp_procrustes.shape[0])]"
   ]
  },
  {
   "cell_type": "code",
   "execution_count": null,
   "metadata": {},
   "outputs": [],
   "source": [
    "print_df = transformed_df_procustes\n",
    "\n",
    "key_words = ['droite_Exp', 'gauche_Exp', 'centre_Exp', 'extrême_Exp_droite_Exp', 'extrême_Exp_gauche_Exp',\n",
    "            'droite_Novice', 'gauche_Novice', 'centre_Novice', 'extrême_Novice_droite_Novice', \n",
    "             'extrême_Novice_gauche_Novice', \n",
    "            ]\n",
    "print_df['provenance'] = print_df.apply(lambda row: 'highlight' if row.word in key_words else row.provenance, \n",
    "                                        axis = 1)"
   ]
  },
  {
   "cell_type": "code",
   "execution_count": null,
   "metadata": {},
   "outputs": [],
   "source": [
    "fig = px.scatter(print_df.sample(frac=1), x='var0', y='var1', opacity = .5, \n",
    "                    hover_data = [list(df_vectors_procrustes.index)], \n",
    "                    color = 'provenance')\n",
    "fig.show()"
   ]
  },
  {
   "cell_type": "code",
   "execution_count": null,
   "metadata": {},
   "outputs": [],
   "source": [
    "print_df"
   ]
  },
  {
   "cell_type": "markdown",
   "metadata": {},
   "source": [
    "### Restriction à l'intersection des vocabulaires"
   ]
  },
  {
   "cell_type": "code",
   "execution_count": null,
   "metadata": {},
   "outputs": [],
   "source": [
    "vocab_Novice = [i for i in list(w2v_model_all.wv.vocab) if '_Novice' in i]\n",
    "vocab_Exp = [i for i in list(w2v_model_all.wv.vocab) if '_Exp' in i]"
   ]
  },
  {
   "cell_type": "code",
   "execution_count": null,
   "metadata": {},
   "outputs": [],
   "source": [
    "'donne_Novice_occasion_Novice'.replace('_Exp', '_Novice')"
   ]
  },
  {
   "cell_type": "code",
   "execution_count": null,
   "metadata": {},
   "outputs": [],
   "source": [
    "vocab_restriction_Exp = [i for i in vocab_Exp if i.replace('_Exp', '_Novice') in vocab_Novice]"
   ]
  },
  {
   "cell_type": "code",
   "execution_count": null,
   "metadata": {},
   "outputs": [],
   "source": [
    "restriction_Exp = df_vectors_Exp[df_vectors_Exp.index.isin(vocab_restriction_Exp)]"
   ]
  },
  {
   "cell_type": "code",
   "execution_count": null,
   "metadata": {},
   "outputs": [],
   "source": [
    "vocab_restriction_Novice = [i.replace('_Exp', '_Novice') for i in list(restriction_Exp.index) if i.replace('_Exp', '_Novice') in vocab_Novice]"
   ]
  },
  {
   "cell_type": "code",
   "execution_count": null,
   "metadata": {},
   "outputs": [],
   "source": [
    "restriction_Novice = df_vectors_Novice[df_vectors_Novice.index.isin(vocab_restriction_Novice)]"
   ]
  },
  {
   "cell_type": "code",
   "execution_count": null,
   "metadata": {},
   "outputs": [],
   "source": [
    "restriction_Novice.shape"
   ]
  },
  {
   "cell_type": "code",
   "execution_count": null,
   "metadata": {},
   "outputs": [],
   "source": [
    "restriction_Exp.shape"
   ]
  },
  {
   "cell_type": "code",
   "execution_count": null,
   "metadata": {},
   "outputs": [],
   "source": [
    "restriction_Novice = restriction_Novice / max(list(np.sqrt(np.square(restriction_Novice).sum(axis=1))))\n",
    "restriction_Exp = restriction_Exp / max(list(np.sqrt(np.square(restriction_Exp).sum(axis=1))))"
   ]
  },
  {
   "cell_type": "code",
   "execution_count": null,
   "metadata": {},
   "outputs": [],
   "source": [
    "mtx1_restriction, mtx2_restriction, disparity = procrustes(restriction_Exp, restriction_Novice)"
   ]
  },
  {
   "cell_type": "code",
   "execution_count": null,
   "metadata": {},
   "outputs": [],
   "source": [
    "df_vectors_Exp_restriction_procrustes = pd.DataFrame(mtx1_restriction, index = restriction_Exp.index)\n",
    "df_vectors_Novice_restriction_procrustes = pd.DataFrame(mtx2_restriction, index = restriction_Novice.index)"
   ]
  },
  {
   "cell_type": "code",
   "execution_count": null,
   "metadata": {},
   "outputs": [],
   "source": [
    "df_vectors_Exp_restriction_procrustes = df_vectors_Exp_restriction_procrustes / max(list(np.sqrt(np.square(df_vectors_Exp_restriction_procrustes).sum(axis=1))))\n",
    "\n",
    "df_vectors_Novice_restriction_procrustes = df_vectors_Novice_restriction_procrustes / max(list(np.sqrt(np.square(df_vectors_Novice_restriction_procrustes).sum(axis=1))))\n",
    "\n",
    "\n"
   ]
  },
  {
   "cell_type": "code",
   "execution_count": null,
   "metadata": {},
   "outputs": [],
   "source": [
    "df_vectors_restriction_procrustes = df_vectors_Novice_restriction_procrustes.append(df_vectors_Exp_restriction_procrustes)"
   ]
  },
  {
   "cell_type": "code",
   "execution_count": null,
   "metadata": {},
   "outputs": [],
   "source": [
    "pca_restriction = PCA(n_components = 3)\n",
    "pca_restriction.fit(df_vectors_restriction_procrustes)"
   ]
  },
  {
   "cell_type": "code",
   "execution_count": null,
   "metadata": {},
   "outputs": [],
   "source": [
    "transformed_df_procustes_restriction = pd.DataFrame(pca_restriction.transform(df_vectors_restriction_procrustes)).rename(columns = {\n",
    "                            0 : 'var0', \n",
    "                            1 : 'var1', \n",
    "                            2 : 'var2',\n",
    "                         })\n",
    "\n",
    "transformed_df_procustes_restriction['word'] = df_vectors_restriction_procrustes.index"
   ]
  },
  {
   "cell_type": "code",
   "execution_count": null,
   "metadata": {},
   "outputs": [],
   "source": [
    "transformed_df_procustes_restriction['provenance'] = ['Novice' for i in range(df_vectors_Novice_restriction_procrustes.shape[0])] + ['Exp' for i in range(df_vectors_Exp_restriction_procrustes.shape[0])]"
   ]
  },
  {
   "cell_type": "code",
   "execution_count": null,
   "metadata": {},
   "outputs": [],
   "source": [
    "print_df_restriction = transformed_df_procustes_restriction.copy()\n",
    "\n",
    "key_words = ['droite_Exp', 'gauche_Exp', 'centre_Exp', 'extrême_Exp_droite_Exp', 'extrême_Exp_gauche_Exp',\n",
    "            'droite_Novice', 'gauche_Novice', 'centre_Novice', 'extrême_Novice_droite_Novice', \n",
    "             'extrême_Novice_gauche_Novice', \n",
    "            ]\n",
    "print_df_restriction['provenance'] = print_df_restriction.apply(lambda row: 'key word' if row.word in key_words else row.provenance, \n",
    "                                        axis = 1)"
   ]
  },
  {
   "cell_type": "code",
   "execution_count": null,
   "metadata": {},
   "outputs": [],
   "source": []
  },
  {
   "cell_type": "code",
   "execution_count": null,
   "metadata": {},
   "outputs": [],
   "source": [
    "fig = px.scatter(print_df_restriction, x='var0', y='var1', opacity = .5, \n",
    "                    hover_data = [list(print_df_restriction['word'])], \n",
    "                    color = 'provenance')\n",
    "fig.show()"
   ]
  },
  {
   "cell_type": "code",
   "execution_count": null,
   "metadata": {},
   "outputs": [],
   "source": [
    "df_vectors_restriction_procrustes.sample(10)"
   ]
  },
  {
   "cell_type": "code",
   "execution_count": null,
   "metadata": {},
   "outputs": [],
   "source": [
    "closest_words(df_vectors_restriction_procrustes, 'droite_Exp', 10)"
   ]
  },
  {
   "cell_type": "markdown",
   "metadata": {},
   "source": [
    "Ca ne marche pas..."
   ]
  },
  {
   "cell_type": "markdown",
   "metadata": {},
   "source": [
    "On va essayer de se restreindre à un ensemble encore plus petit de mots, le but etant que les mots clefs se superposent..."
   ]
  },
  {
   "cell_type": "markdown",
   "metadata": {},
   "source": [
    "### Restriction aux mots les plus cités"
   ]
  },
  {
   "cell_type": "code",
   "execution_count": null,
   "metadata": {},
   "outputs": [],
   "source": [
    "L = list(w2v_model_all.wv.vocab.keys())\n",
    "count = [w2v_model_all.wv.vocab[word].count for word in L]"
   ]
  },
  {
   "cell_type": "code",
   "execution_count": null,
   "metadata": {},
   "outputs": [],
   "source": [
    "word_count = list(zip(count, L))\n",
    "word_count.sort()\n",
    "word_count.reverse()"
   ]
  },
  {
   "cell_type": "code",
   "execution_count": null,
   "metadata": {},
   "outputs": [],
   "source": [
    "word_count[:10]"
   ]
  },
  {
   "cell_type": "code",
   "execution_count": null,
   "metadata": {},
   "outputs": [],
   "source": [
    "mots_politiques_Novice = ['gauche_Novice', 'droite_Novice', \n",
    "                          'extrême_Novice_gauche_Novice', 'extrême_Novice_droite_Novice',\n",
    "                         'populiste_Novice', 'extrême_Novice', 'socialiste_Novice', 'communiste_Novice', \n",
    "                         'libéral_Novice']\n",
    "\n",
    "mots_politiques_Exp = ['gauche_Exp', 'droite_Exp', \n",
    "                          'extrême_Exp_gauche_Exp', 'extrême_Exp_droite_Exp',\n",
    "                         'populiste_Exp', 'extrême_Exp', 'socialiste_Exp', 'communiste_Exp', \n",
    "                         'libéral_Exp']"
   ]
  },
  {
   "cell_type": "code",
   "execution_count": null,
   "metadata": {},
   "outputs": [],
   "source": [
    "#vocab_restriction_Novice0 = [i for i in vocab_Novice if i.replace('_Novice', '_Exp') in list(zip(*word_count[300:310]))[1]]"
   ]
  },
  {
   "cell_type": "code",
   "execution_count": null,
   "metadata": {},
   "outputs": [],
   "source": [
    "vocab_restriction_Novice0 = mots_politiques_Novice"
   ]
  },
  {
   "cell_type": "code",
   "execution_count": null,
   "metadata": {},
   "outputs": [],
   "source": [
    "#vocab_restriction_Exp0 = [i.replace('_Novice', '_Exp') for i in vocab_restriction_Novice0 if i.replace('_Novice', '_Exp') in vocab_Exp]"
   ]
  },
  {
   "cell_type": "code",
   "execution_count": null,
   "metadata": {},
   "outputs": [],
   "source": [
    "vocab_restriction_Exp0 = mots_politiques_Exp"
   ]
  },
  {
   "cell_type": "code",
   "execution_count": null,
   "metadata": {},
   "outputs": [],
   "source": [
    "restriction_Novice0 = df_vectors_Novice[df_vectors_Novice.index.isin(vocab_restriction_Novice0)]"
   ]
  },
  {
   "cell_type": "code",
   "execution_count": null,
   "metadata": {},
   "outputs": [],
   "source": [
    "restriction_Novice0"
   ]
  },
  {
   "cell_type": "code",
   "execution_count": null,
   "metadata": {},
   "outputs": [],
   "source": [
    "restriction_Exp0 = df_vectors_Exp[df_vectors_Exp.index.isin(vocab_restriction_Exp0)]"
   ]
  },
  {
   "cell_type": "code",
   "execution_count": null,
   "metadata": {},
   "outputs": [],
   "source": [
    "restriction_Exp0"
   ]
  },
  {
   "cell_type": "code",
   "execution_count": null,
   "metadata": {},
   "outputs": [],
   "source": [
    "restriction_Novice0 = restriction_Novice0 / max(list(np.sqrt(np.square(restriction_Novice0).sum(axis=1))))\n",
    "restriction_Exp0 = restriction_Exp0 / max(list(np.sqrt(np.square(restriction_Exp0).sum(axis=1))))"
   ]
  },
  {
   "cell_type": "code",
   "execution_count": null,
   "metadata": {},
   "outputs": [],
   "source": [
    "mtx1_restriction0, mtx2_restriction0, disparity0 = procrustes(restriction_Exp0, restriction_Novice0)"
   ]
  },
  {
   "cell_type": "code",
   "execution_count": null,
   "metadata": {},
   "outputs": [],
   "source": [
    "df_vectors_Exp_restriction_procrustes0 = pd.DataFrame(mtx1_restriction0, index = restriction_Exp0.index)\n",
    "df_vectors_Novice_restriction_procrustes0 = pd.DataFrame(mtx2_restriction0, index = restriction_Novice0.index)"
   ]
  },
  {
   "cell_type": "code",
   "execution_count": null,
   "metadata": {},
   "outputs": [],
   "source": [
    "df_vectors_Exp_restriction_procrustes0 = df_vectors_Exp_restriction_procrustes0 / max(list(np.sqrt(np.square(df_vectors_Exp_restriction_procrustes0).sum(axis=1))))\n",
    "\n",
    "df_vectors_Novice_restriction_procrustes0 = df_vectors_Novice_restriction_procrustes0 / max(list(np.sqrt(np.square(df_vectors_Novice_restriction_procrustes0).sum(axis=1))))\n",
    "\n",
    "\n"
   ]
  },
  {
   "cell_type": "code",
   "execution_count": null,
   "metadata": {},
   "outputs": [],
   "source": [
    "df_vectors_restriction_procrustes0 = df_vectors_Novice_restriction_procrustes0.append(df_vectors_Exp_restriction_procrustes0)"
   ]
  },
  {
   "cell_type": "code",
   "execution_count": null,
   "metadata": {},
   "outputs": [],
   "source": [
    "pca_restriction0 = PCA(n_components = 3)\n",
    "pca_restriction0.fit(df_vectors_restriction_procrustes0)"
   ]
  },
  {
   "cell_type": "code",
   "execution_count": null,
   "metadata": {},
   "outputs": [],
   "source": [
    "transformed_df_procustes_restriction0 = pd.DataFrame(pca_restriction0.transform(df_vectors_restriction_procrustes0)).rename(columns = {\n",
    "                            0 : 'var0', \n",
    "                            1 : 'var1', \n",
    "                            2 : 'var2',\n",
    "                         })"
   ]
  },
  {
   "cell_type": "code",
   "execution_count": null,
   "metadata": {},
   "outputs": [],
   "source": [
    "transformed_df_procustes_restriction0 = transformed_df_procustes_restriction0 / max(list(np.sqrt(np.square(transformed_df_procustes_restriction0).sum(axis=1))))"
   ]
  },
  {
   "cell_type": "code",
   "execution_count": null,
   "metadata": {},
   "outputs": [],
   "source": [
    "transformed_df_procustes_restriction0['word'] = df_vectors_restriction_procrustes0.index"
   ]
  },
  {
   "cell_type": "code",
   "execution_count": null,
   "metadata": {},
   "outputs": [],
   "source": [
    "transformed_df_procustes_restriction0['provenance'] = ['Novice' for i in range(df_vectors_Novice_restriction_procrustes0.shape[0])] + ['Exp' for i in range(df_vectors_Exp_restriction_procrustes0.shape[0])]"
   ]
  },
  {
   "cell_type": "code",
   "execution_count": null,
   "metadata": {},
   "outputs": [],
   "source": [
    "fig = px.scatter(transformed_df_procustes_restriction0, x='var0', y='var1', opacity = .5, \n",
    "                    hover_data = [list(transformed_df_procustes_restriction0['word'])], \n",
    "                    color = 'provenance')\n",
    "fig.show()"
   ]
  },
  {
   "cell_type": "markdown",
   "metadata": {},
   "source": [
    "## Clustering"
   ]
  },
  {
   "cell_type": "markdown",
   "metadata": {},
   "source": [
    "Paramétrisation de eps"
   ]
  },
  {
   "cell_type": "code",
   "execution_count": null,
   "metadata": {},
   "outputs": [],
   "source": [
    "from sklearn.neighbors import NearestNeighbors\n",
    "\n",
    "nearest_neighbors = NearestNeighbors(n_neighbors=11)\n",
    "neighbors = nearest_neighbors.fit(df_vectors_Novice.head(10000))\n",
    "distances, indices = neighbors.kneighbors(df_vectors_Novice.head(10000))\n",
    "#print(distances)\n",
    "distances = np.sort(distances[:,10], axis=0)\n",
    "\n",
    "fig = plt.figure(figsize=(5, 5))\n",
    "plt.plot(distances)\n",
    "plt.xlabel(\"Points\")\n",
    "plt.ylabel(\"Distance\")\n",
    "plt.savefig(\"Distance_curve.png\", dpi=300)"
   ]
  },
  {
   "cell_type": "code",
   "execution_count": null,
   "metadata": {},
   "outputs": [],
   "source": [
    "from kneed import KneeLocator\n",
    "\n",
    "i = np.arange(len(distances))\n",
    "knee = KneeLocator(i, distances, S=1, curve='concave', direction='increasing', interp_method='polynomial')\n",
    "fig = plt.figure(figsize=(5, 5))\n",
    "knee.plot_knee()\n",
    "plt.xlabel(\"Points\")\n",
    "plt.ylabel(\"Distance\")\n",
    "\n",
    "print(distances[knee.knee])"
   ]
  },
  {
   "cell_type": "code",
   "execution_count": null,
   "metadata": {},
   "outputs": [],
   "source": [
    "#L = [DBSCAN(eps = 1, min_samples=2).fit(df_vectors_Novice) for i in range(1)]"
   ]
  },
  {
   "cell_type": "code",
   "execution_count": null,
   "metadata": {},
   "outputs": [],
   "source": [
    "#for i in range(len(L)):\n",
    " #   print(i, max(L[i].labels_[:]))\n",
    "    \n",
    "#df_test = df_vectors_Novice\n",
    "#df_test['cluster'] = L[0].labels_\n",
    "#df_test[['cluster']].to_csv('results/cluster_Novice.csv')"
   ]
  },
  {
   "cell_type": "code",
   "execution_count": null,
   "metadata": {},
   "outputs": [],
   "source": [
    "cluster_Novice = pd.read_csv('results/cluster_Novice.csv')\n",
    "cluster_Exp = pd.read_csv('results/cluster_Exp.csv')"
   ]
  },
  {
   "cell_type": "code",
   "execution_count": null,
   "metadata": {},
   "outputs": [],
   "source": [
    "df_vectors_Novice['cluster'] = [int(i) for i in list(cluster_Novice.cluster)]\n",
    "df_vectors_Exp['cluster'] = [int(i) for i in list(cluster_Exp.cluster)]"
   ]
  },
  {
   "cell_type": "code",
   "execution_count": null,
   "metadata": {},
   "outputs": [],
   "source": [
    "h_Novice = [cluster_Novice[cluster_Novice['cluster'] == i].shape[0] for i in range(1, max(list(cluster_Novice.cluster)))\n",
    "           if 3 < cluster_Novice[cluster_Novice['cluster'] == i].shape[0] < 300]\n",
    "px.histogram(h_Novice)"
   ]
  },
  {
   "cell_type": "code",
   "execution_count": null,
   "metadata": {},
   "outputs": [],
   "source": [
    "h_Exp = [cluster_Exp[cluster_Exp['cluster'] == i].shape[0] for i in range(max(list(cluster_Exp.cluster)))\n",
    "        if 3 < cluster_Exp[cluster_Exp['cluster'] == i].shape[0] < 300]\n",
    "px.histogram(h_Exp)"
   ]
  },
  {
   "cell_type": "markdown",
   "metadata": {},
   "source": [
    "On se penche sur les cluster au cardinal intéressant"
   ]
  },
  {
   "cell_type": "code",
   "execution_count": null,
   "metadata": {},
   "outputs": [],
   "source": [
    "for i in range(-1, max(cluster_Novice.cluster)):\n",
    "    clust = df_vectors_Novice[df_vectors_Novice['cluster'] == i]\n",
    "    #print(clust.shape)\n",
    "    if 5 < clust.shape[0] < 300:\n",
    "        print(i)\n",
    "        display(clust)"
   ]
  },
  {
   "cell_type": "code",
   "execution_count": null,
   "metadata": {},
   "outputs": [],
   "source": [
    "for i in range(-1, max(cluster_Exp.cluster)):\n",
    "    clust = df_vectors_Exp[df_vectors_Exp['cluster'] == i]\n",
    "    #print(clust.shape)\n",
    "    if 5 < clust.shape[0] < 300:\n",
    "        print(i)\n",
    "        display(clust)"
   ]
  },
  {
   "cell_type": "code",
   "execution_count": null,
   "metadata": {},
   "outputs": [],
   "source": [
    "df_restriction_cluster_Novice = df_vectors_Novice[df_vectors_Novice['cluster'] == 19]"
   ]
  },
  {
   "cell_type": "code",
   "execution_count": null,
   "metadata": {},
   "outputs": [],
   "source": [
    "mots_Novice = list(df_restriction_cluster_Novice.index)\n",
    "mots_Exp = [i.replace('_Novice', '_Exp') for i in mots_Novice if i.replace('_Novice', \n",
    "                                                                           '_Exp') in df_vectors_Exp.index]\n",
    "mots_Novice = [i.replace('_Exp', '_Novice') for i in mots_Exp if i.replace('_Exp', \n",
    "                                                                           '_Novice') in df_vectors_Novice.index]"
   ]
  },
  {
   "cell_type": "code",
   "execution_count": null,
   "metadata": {},
   "outputs": [],
   "source": [
    "df_restriction_cluster_Exp = df_vectors_Exp[df_vectors_Exp.index.isin(mots_Exp)].drop(columns = ['cluster'])\n",
    "df_restriction_cluster_Novice = df_vectors_Novice[df_vectors_Novice.index.isin(mots_Novice)].drop(columns = ['cluster'])"
   ]
  },
  {
   "cell_type": "code",
   "execution_count": null,
   "metadata": {},
   "outputs": [],
   "source": [
    "assert df_restriction_cluster_Exp.shape[0] == df_restriction_cluster_Novice.shape[0]"
   ]
  },
  {
   "cell_type": "code",
   "execution_count": null,
   "metadata": {},
   "outputs": [],
   "source": [
    "def procruste_analyse(mat_Exp, mat_Novice):\n",
    "    mtx_Exp, mtx_Novice, disparity = procrustes(mat_Exp, mat_Novice)\n",
    "    print('disparité : ', disparity)\n",
    "    df_vectors_Exp_procruste = pd.DataFrame(mtx_Exp, index = mat_Exp.index)\n",
    "    df_vectors_Novice_procrustes = pd.DataFrame(mtx_Novice, index = mat_Novice.index)\n",
    "    \n",
    "    df_vectors_procruste = df_vectors_Exp_procruste.append(df_vectors_Novice_procrustes)\n",
    "    \n",
    "    pca = PCA(n_components = 3)\n",
    "    pca.fit(df_vectors_procruste)\n",
    "    \n",
    "    transformed_df_procuste = pd.DataFrame(pca.transform(df_vectors_procruste)).rename(columns = {\n",
    "                            0 : 'var0', \n",
    "                            1 : 'var1', \n",
    "                            2 : 'var2',\n",
    "                         })\n",
    "    \n",
    "    transformed_df_procuste['word'] = df_vectors_procruste.index\n",
    "    transformed_df_procuste['provenance'] = ['Exp' for i in range(df_vectors_Exp_procruste.shape[0])] + ['Novice' for i in range(df_vectors_Novice_procrustes.shape[0])]\n",
    "    \n",
    "    fig = px.scatter(transformed_df_procuste, x='var0', y='var1', opacity = .5, \n",
    "                    hover_data = [list(transformed_df_procuste['word'])], \n",
    "                    color = 'provenance')\n",
    "    fig.show()\n",
    "    "
   ]
  },
  {
   "cell_type": "code",
   "execution_count": null,
   "metadata": {},
   "outputs": [],
   "source": [
    "def procuste_cluster_novice(n_cluster):\n",
    "\n",
    "    df_restriction_cluster_Novice = df_vectors_Novice[df_vectors_Novice['cluster'] == n_cluster]\n",
    "\n",
    "    mots_Novice = list(df_restriction_cluster_Novice.index)\n",
    "    mots_Exp = [i.replace('_Novice', '_Exp') for i in mots_Novice if i.replace('_Novice', \n",
    "                                                                               '_Exp') in df_vectors_Exp.index]\n",
    "    mots_Novice = [i.replace('_Exp', '_Novice') for i in mots_Exp if i.replace('_Exp', \n",
    "                                                                               '_Novice') in df_vectors_Novice.index]\n",
    "\n",
    "    df_restriction_cluster_Exp = df_vectors_Exp[df_vectors_Exp.index.isin(mots_Exp)].drop(columns = ['cluster'])\n",
    "    df_restriction_cluster_Novice = df_vectors_Novice[df_vectors_Novice.index.isin(mots_Novice)].drop(columns = ['cluster'])\n",
    "\n",
    "    assert df_restriction_cluster_Exp.shape[0] == df_restriction_cluster_Novice.shape[0]\n",
    "    \n",
    "    procruste_analyse(df_restriction_cluster_Exp, df_restriction_cluster_Novice)"
   ]
  },
  {
   "cell_type": "code",
   "execution_count": null,
   "metadata": {},
   "outputs": [],
   "source": [
    "def procuste_cluster_exp(n_cluster):\n",
    "\n",
    "    df_restriction_cluster_Exp = df_vectors_Exp[df_vectors_Exp['cluster'] == n_cluster]\n",
    "\n",
    "    mots_Exp = list(df_restriction_cluster_Exp.index)\n",
    "    mots_Novice = [i.replace('_Exp', '_Novice') for i in mots_Exp if i.replace('_Exp', \n",
    "                                                                               '_Novice') in df_vectors_Novice.index]\n",
    "    mots_Exp = [i.replace('_Novice', '_Exp') for i in mots_Novice if i.replace('_Novice', \n",
    "                                                                               '_Exp') in df_vectors_Exp.index]\n",
    "\n",
    "    df_restriction_cluster_Exp = df_vectors_Exp[df_vectors_Exp.index.isin(mots_Exp)].drop(columns = ['cluster'])\n",
    "    df_restriction_cluster_Novice = df_vectors_Novice[df_vectors_Novice.index.isin(mots_Novice)].drop(columns = ['cluster'])\n",
    "\n",
    "    assert df_restriction_cluster_Exp.shape[0] == df_restriction_cluster_Novice.shape[0]\n",
    "    \n",
    "    procruste_analyse(df_restriction_cluster_Exp, df_restriction_cluster_Novice)"
   ]
  },
  {
   "cell_type": "code",
   "execution_count": null,
   "metadata": {},
   "outputs": [],
   "source": [
    "procuste_cluster_novice(47)"
   ]
  },
  {
   "cell_type": "code",
   "execution_count": null,
   "metadata": {},
   "outputs": [],
   "source": [
    "Intéressant : 47"
   ]
  },
  {
   "cell_type": "code",
   "execution_count": null,
   "metadata": {},
   "outputs": [],
   "source": [
    "procuste_cluster_exp(138)"
   ]
  },
  {
   "cell_type": "code",
   "execution_count": null,
   "metadata": {},
   "outputs": [],
   "source": [
    "Intéressant : 19, 61, 138"
   ]
  }
 ],
 "metadata": {
  "kernelspec": {
   "display_name": "Python 3",
   "language": "python",
   "name": "python3"
  },
  "language_info": {
   "codemirror_mode": {
    "name": "ipython",
    "version": 3
   },
   "file_extension": ".py",
   "mimetype": "text/x-python",
   "name": "python",
   "nbconvert_exporter": "python",
   "pygments_lexer": "ipython3",
   "version": "3.8.5"
  }
 },
 "nbformat": 4,
 "nbformat_minor": 4
}
