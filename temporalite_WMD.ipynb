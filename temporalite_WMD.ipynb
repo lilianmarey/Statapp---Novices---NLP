{
 "cells": [
  {
   "cell_type": "code",
   "execution_count": 1,
   "metadata": {},
   "outputs": [],
   "source": [
    "# Importation des modules\n",
    "\n",
    "import pandas as pd\n",
    "from gensim.models import Word2Vec\n",
    "import random\n",
    "import matplotlib.pyplot as plt\n",
    "import numpy as np\n",
    "import plotly.express as px\n",
    "import datetime\n",
    "\n",
    "#Affichage de toutes les colonnes\n",
    "\n",
    "pd.set_option('display.max_columns', 500)"
   ]
  },
  {
   "cell_type": "code",
   "execution_count": 4,
   "metadata": {},
   "outputs": [],
   "source": [
    "df = pd.read_csv(\"data/data_cleaned_NLP.csv\", sep = ',', encoding = 'latin-1')"
   ]
  },
  {
   "cell_type": "code",
   "execution_count": 5,
   "metadata": {},
   "outputs": [],
   "source": [
    "def toweekday(date):\n",
    "    \n",
    "    dic = {\n",
    "            0 : \"Lundi\", \n",
    "            1 : \"Mardi\",\n",
    "            2 : \"Mercredi\",\n",
    "            3 : \"Jeudi\",\n",
    "            4 : \"Vendredi\",\n",
    "            5 : \"Samedi\",\n",
    "            6 : \"Dimanche\"\n",
    "            }\n",
    "    \n",
    "    date1 = datetime.datetime.strptime(date, '%Y-%m-%d')\n",
    "    num = date1.weekday()\n",
    "    \n",
    "    return(dic[num])\n",
    "\n",
    "df['Jour'] = df[\"Date\"].apply(toweekday)"
   ]
  },
  {
   "cell_type": "code",
   "execution_count": 6,
   "metadata": {},
   "outputs": [
    {
     "data": {
      "text/html": [
       "<div>\n",
       "<style scoped>\n",
       "    .dataframe tbody tr th:only-of-type {\n",
       "        vertical-align: middle;\n",
       "    }\n",
       "\n",
       "    .dataframe tbody tr th {\n",
       "        vertical-align: top;\n",
       "    }\n",
       "\n",
       "    .dataframe thead th {\n",
       "        text-align: right;\n",
       "    }\n",
       "</style>\n",
       "<table border=\"1\" class=\"dataframe\">\n",
       "  <thead>\n",
       "    <tr style=\"text-align: right;\">\n",
       "      <th></th>\n",
       "      <th>Unnamed: 0</th>\n",
       "      <th>Unnamed: 0.1</th>\n",
       "      <th>Orateur</th>\n",
       "      <th>Date</th>\n",
       "      <th>Nature.de.séance</th>\n",
       "      <th>Président.de.séance</th>\n",
       "      <th>Sujet.débattu</th>\n",
       "      <th>Réplique</th>\n",
       "      <th>Didascalie</th>\n",
       "      <th>Président.de.séance_propre</th>\n",
       "      <th>nom.famille</th>\n",
       "      <th>sexe</th>\n",
       "      <th>age</th>\n",
       "      <th>groupe.sigle</th>\n",
       "      <th>commissions</th>\n",
       "      <th>nb.mandats</th>\n",
       "      <th>cabcollab</th>\n",
       "      <th>duree.pol</th>\n",
       "      <th>clustRFSP</th>\n",
       "      <th>clustVEP</th>\n",
       "      <th>hautdip</th>\n",
       "      <th>naissance_an</th>\n",
       "      <th>majo</th>\n",
       "      <th>profsigni2</th>\n",
       "      <th>ID</th>\n",
       "      <th>Groupe</th>\n",
       "      <th>time_floor</th>\n",
       "      <th>tokenized_replique</th>\n",
       "      <th>tokenized_didascalie</th>\n",
       "      <th>stemmed_replique</th>\n",
       "      <th>stemmed_didascalie</th>\n",
       "      <th>Jour</th>\n",
       "    </tr>\n",
       "  </thead>\n",
       "  <tbody>\n",
       "    <tr>\n",
       "      <th>0</th>\n",
       "      <td>0</td>\n",
       "      <td>1</td>\n",
       "      <td>adrien morenas</td>\n",
       "      <td>2019-11-04</td>\n",
       "      <td>Projet de loi de finances pour 2020</td>\n",
       "      <td>Présidence de M. Hugues Renson</td>\n",
       "      <td>NaN</td>\n",
       "      <td>Si vous y donnez un avis favorable  madame la ...</td>\n",
       "      <td>NaN</td>\n",
       "      <td>Présidence de M. Hugues Renson</td>\n",
       "      <td>Morenas</td>\n",
       "      <td>M</td>\n",
       "      <td>35</td>\n",
       "      <td>LREM</td>\n",
       "      <td>DvptDurable</td>\n",
       "      <td>0</td>\n",
       "      <td>False</td>\n",
       "      <td>0</td>\n",
       "      <td>1 - Soc. civile</td>\n",
       "      <td>6  Exp. Pol.</td>\n",
       "      <td>Doct</td>\n",
       "      <td>1982</td>\n",
       "      <td>True</td>\n",
       "      <td>NaN</td>\n",
       "      <td>1</td>\n",
       "      <td>Exp</td>\n",
       "      <td>2019-11-01</td>\n",
       "      <td>si donnez avis favorable madame secrétaire éta...</td>\n",
       "      <td>NaN</td>\n",
       "      <td>si don avis favor madam secrétair état dissip ...</td>\n",
       "      <td>NaN</td>\n",
       "      <td>Lundi</td>\n",
       "    </tr>\n",
       "    <tr>\n",
       "      <th>1</th>\n",
       "      <td>1</td>\n",
       "      <td>2</td>\n",
       "      <td>adrien morenas</td>\n",
       "      <td>2019-11-04</td>\n",
       "      <td>Projet de loi de finances pour 2020</td>\n",
       "      <td>Présidence de M. Hugues Renson</td>\n",
       "      <td>NaN</td>\n",
       "      <td>Plus généralement  je soutiendrai un autre ame...</td>\n",
       "      <td>NaN</td>\n",
       "      <td>Présidence de M. Hugues Renson</td>\n",
       "      <td>Morenas</td>\n",
       "      <td>M</td>\n",
       "      <td>35</td>\n",
       "      <td>LREM</td>\n",
       "      <td>DvptDurable</td>\n",
       "      <td>0</td>\n",
       "      <td>False</td>\n",
       "      <td>0</td>\n",
       "      <td>1 - Soc. civile</td>\n",
       "      <td>6  Exp. Pol.</td>\n",
       "      <td>Doct</td>\n",
       "      <td>1982</td>\n",
       "      <td>True</td>\n",
       "      <td>NaN</td>\n",
       "      <td>2</td>\n",
       "      <td>Exp</td>\n",
       "      <td>2019-11-01</td>\n",
       "      <td>plus généralement soutiendrai autre amendement...</td>\n",
       "      <td>NaN</td>\n",
       "      <td>plus général soutiendr autr amend vis demand g...</td>\n",
       "      <td>NaN</td>\n",
       "      <td>Lundi</td>\n",
       "    </tr>\n",
       "    <tr>\n",
       "      <th>2</th>\n",
       "      <td>2</td>\n",
       "      <td>3</td>\n",
       "      <td>adrien morenas</td>\n",
       "      <td>2019-07-02</td>\n",
       "      <td>Questions au Gouvernement</td>\n",
       "      <td>Présidence de M. Richard Ferrand</td>\n",
       "      <td>Convention citoyenne sur le climat</td>\n",
       "      <td>Ma question sadresse à M. François de Rugy  ...</td>\n",
       "      <td>NaN</td>\n",
       "      <td>Présidence de M. Richard Ferrand</td>\n",
       "      <td>Morenas</td>\n",
       "      <td>M</td>\n",
       "      <td>35</td>\n",
       "      <td>LREM</td>\n",
       "      <td>DvptDurable</td>\n",
       "      <td>0</td>\n",
       "      <td>False</td>\n",
       "      <td>0</td>\n",
       "      <td>1 - Soc. civile</td>\n",
       "      <td>6  Exp. Pol.</td>\n",
       "      <td>Doct</td>\n",
       "      <td>1982</td>\n",
       "      <td>True</td>\n",
       "      <td>NaN</td>\n",
       "      <td>3</td>\n",
       "      <td>Exp</td>\n",
       "      <td>2019-07-01</td>\n",
       "      <td>question adresse françois rugy ministre état m...</td>\n",
       "      <td>NaN</td>\n",
       "      <td>question adress françois rugy ministr état min...</td>\n",
       "      <td>NaN</td>\n",
       "      <td>Mardi</td>\n",
       "    </tr>\n",
       "    <tr>\n",
       "      <th>3</th>\n",
       "      <td>3</td>\n",
       "      <td>4</td>\n",
       "      <td>adrien morenas</td>\n",
       "      <td>2018-02-01</td>\n",
       "      <td>Accès à leau</td>\n",
       "      <td>Présidence de Mme Carole Bureau-Bonnard</td>\n",
       "      <td>Discussion générale</td>\n",
       "      <td>Le 1</td>\n",
       "      <td>NaN</td>\n",
       "      <td>Présidence de Mme Carole Bureau-Bonnard</td>\n",
       "      <td>Morenas</td>\n",
       "      <td>M</td>\n",
       "      <td>35</td>\n",
       "      <td>LREM</td>\n",
       "      <td>DvptDurable</td>\n",
       "      <td>0</td>\n",
       "      <td>False</td>\n",
       "      <td>0</td>\n",
       "      <td>1 - Soc. civile</td>\n",
       "      <td>6  Exp. Pol.</td>\n",
       "      <td>Doct</td>\n",
       "      <td>1982</td>\n",
       "      <td>True</td>\n",
       "      <td>NaN</td>\n",
       "      <td>4</td>\n",
       "      <td>Exp</td>\n",
       "      <td>2018-02-01</td>\n",
       "      <td>NaN</td>\n",
       "      <td>NaN</td>\n",
       "      <td>NaN</td>\n",
       "      <td>NaN</td>\n",
       "      <td>Jeudi</td>\n",
       "    </tr>\n",
       "    <tr>\n",
       "      <th>4</th>\n",
       "      <td>4</td>\n",
       "      <td>5</td>\n",
       "      <td>adrien morenas</td>\n",
       "      <td>2020-05-08</td>\n",
       "      <td>Prorogation de létat durgence sanitaire</td>\n",
       "      <td>Présidence de Mme Laetitia Saint-Paul</td>\n",
       "      <td>Discussion des articles</td>\n",
       "      <td>Cette autorisation  strictement encadrée par l...</td>\n",
       "      <td>NaN</td>\n",
       "      <td>Présidence de Mme Laetitia Saint-Paul</td>\n",
       "      <td>Morenas</td>\n",
       "      <td>M</td>\n",
       "      <td>35</td>\n",
       "      <td>LREM</td>\n",
       "      <td>DvptDurable</td>\n",
       "      <td>0</td>\n",
       "      <td>False</td>\n",
       "      <td>0</td>\n",
       "      <td>1 - Soc. civile</td>\n",
       "      <td>6  Exp. Pol.</td>\n",
       "      <td>Doct</td>\n",
       "      <td>1982</td>\n",
       "      <td>True</td>\n",
       "      <td>NaN</td>\n",
       "      <td>5</td>\n",
       "      <td>Exp</td>\n",
       "      <td>2020-05-01</td>\n",
       "      <td>cette autorisation strictement encadrée décret...</td>\n",
       "      <td>NaN</td>\n",
       "      <td>cet autoris strict encadr décret appliqu effet...</td>\n",
       "      <td>NaN</td>\n",
       "      <td>Vendredi</td>\n",
       "    </tr>\n",
       "    <tr>\n",
       "      <th>...</th>\n",
       "      <td>...</td>\n",
       "      <td>...</td>\n",
       "      <td>...</td>\n",
       "      <td>...</td>\n",
       "      <td>...</td>\n",
       "      <td>...</td>\n",
       "      <td>...</td>\n",
       "      <td>...</td>\n",
       "      <td>...</td>\n",
       "      <td>...</td>\n",
       "      <td>...</td>\n",
       "      <td>...</td>\n",
       "      <td>...</td>\n",
       "      <td>...</td>\n",
       "      <td>...</td>\n",
       "      <td>...</td>\n",
       "      <td>...</td>\n",
       "      <td>...</td>\n",
       "      <td>...</td>\n",
       "      <td>...</td>\n",
       "      <td>...</td>\n",
       "      <td>...</td>\n",
       "      <td>...</td>\n",
       "      <td>...</td>\n",
       "      <td>...</td>\n",
       "      <td>...</td>\n",
       "      <td>...</td>\n",
       "      <td>...</td>\n",
       "      <td>...</td>\n",
       "      <td>...</td>\n",
       "      <td>...</td>\n",
       "      <td>...</td>\n",
       "    </tr>\n",
       "    <tr>\n",
       "      <th>499838</th>\n",
       "      <td>499838</td>\n",
       "      <td>499839</td>\n",
       "      <td>zivka park</td>\n",
       "      <td>2018-11-05</td>\n",
       "      <td>Projet de loi de finances pour 2019</td>\n",
       "      <td>Présidence de M. Marc Le Fur</td>\n",
       "      <td>NaN</td>\n",
       "      <td>rapporteure pour avis de la commission du dév...</td>\n",
       "      <td>NaN</td>\n",
       "      <td>Présidence de M. Marc Le Fur</td>\n",
       "      <td>Park</td>\n",
       "      <td>F</td>\n",
       "      <td>32</td>\n",
       "      <td>LREM</td>\n",
       "      <td>DvptDurable</td>\n",
       "      <td>0</td>\n",
       "      <td>False</td>\n",
       "      <td>0</td>\n",
       "      <td>1 - Soc. civile</td>\n",
       "      <td>1 - Novice</td>\n",
       "      <td>ScPo</td>\n",
       "      <td>1985</td>\n",
       "      <td>True</td>\n",
       "      <td>cadsupprive</td>\n",
       "      <td>499839</td>\n",
       "      <td>Novice</td>\n",
       "      <td>2018-11-01</td>\n",
       "      <td>rapporteure avis commission développement dura...</td>\n",
       "      <td>NaN</td>\n",
       "      <td>rapporteur avis commiss développ durabl aménag...</td>\n",
       "      <td>NaN</td>\n",
       "      <td>Lundi</td>\n",
       "    </tr>\n",
       "    <tr>\n",
       "      <th>499839</th>\n",
       "      <td>499839</td>\n",
       "      <td>499840</td>\n",
       "      <td>zivka park</td>\n",
       "      <td>2019-09-12</td>\n",
       "      <td>Mobilités</td>\n",
       "      <td>Présidence de M. Sylvain Waserman</td>\n",
       "      <td>Discussion des articles</td>\n",
       "      <td>rapporteure. Avis défavorable. Les agents des...</td>\n",
       "      <td>NaN</td>\n",
       "      <td>Présidence de M. Sylvain Waserman</td>\n",
       "      <td>Park</td>\n",
       "      <td>F</td>\n",
       "      <td>32</td>\n",
       "      <td>LREM</td>\n",
       "      <td>DvptDurable</td>\n",
       "      <td>0</td>\n",
       "      <td>False</td>\n",
       "      <td>0</td>\n",
       "      <td>1 - Soc. civile</td>\n",
       "      <td>1 - Novice</td>\n",
       "      <td>ScPo</td>\n",
       "      <td>1985</td>\n",
       "      <td>True</td>\n",
       "      <td>cadsupprive</td>\n",
       "      <td>499840</td>\n",
       "      <td>Novice</td>\n",
       "      <td>2019-09-01</td>\n",
       "      <td>rapporteure avis défavorable agents sociétés s...</td>\n",
       "      <td>NaN</td>\n",
       "      <td>rapporteur avis défavor agent societ sécur pri...</td>\n",
       "      <td>NaN</td>\n",
       "      <td>Jeudi</td>\n",
       "    </tr>\n",
       "    <tr>\n",
       "      <th>499840</th>\n",
       "      <td>499840</td>\n",
       "      <td>499841</td>\n",
       "      <td>zivka park</td>\n",
       "      <td>2018-02-20</td>\n",
       "      <td>Débat sur la couverture numérique du territoire</td>\n",
       "      <td>Présidence de M. Sylvain Waserman</td>\n",
       "      <td>NaN</td>\n",
       "      <td>Selon lARCEP  les opérateurs dépenseront 3 à ...</td>\n",
       "      <td>NaN</td>\n",
       "      <td>Présidence de M. Sylvain Waserman</td>\n",
       "      <td>Park</td>\n",
       "      <td>F</td>\n",
       "      <td>32</td>\n",
       "      <td>LREM</td>\n",
       "      <td>DvptDurable</td>\n",
       "      <td>0</td>\n",
       "      <td>False</td>\n",
       "      <td>0</td>\n",
       "      <td>1 - Soc. civile</td>\n",
       "      <td>1 - Novice</td>\n",
       "      <td>ScPo</td>\n",
       "      <td>1985</td>\n",
       "      <td>True</td>\n",
       "      <td>cadsupprive</td>\n",
       "      <td>499841</td>\n",
       "      <td>Novice</td>\n",
       "      <td>2018-02-01</td>\n",
       "      <td>selon arcep opérateurs dépenseront milliards e...</td>\n",
       "      <td>NaN</td>\n",
       "      <td>selon arcep oper dépens milliard euros plus le...</td>\n",
       "      <td>NaN</td>\n",
       "      <td>Mardi</td>\n",
       "    </tr>\n",
       "    <tr>\n",
       "      <th>499841</th>\n",
       "      <td>499841</td>\n",
       "      <td>499842</td>\n",
       "      <td>zivka park</td>\n",
       "      <td>2019-06-14</td>\n",
       "      <td>Mobilités</td>\n",
       "      <td>Présidence de Mme Carole Bureau-Bonnard</td>\n",
       "      <td>Discussion des articles</td>\n",
       "      <td>rapporteure. Je comprends votre préoccupation...</td>\n",
       "      <td>NaN</td>\n",
       "      <td>Présidence de Mme Carole Bureau-Bonnard</td>\n",
       "      <td>Park</td>\n",
       "      <td>F</td>\n",
       "      <td>32</td>\n",
       "      <td>LREM</td>\n",
       "      <td>DvptDurable</td>\n",
       "      <td>0</td>\n",
       "      <td>False</td>\n",
       "      <td>0</td>\n",
       "      <td>1 - Soc. civile</td>\n",
       "      <td>1 - Novice</td>\n",
       "      <td>ScPo</td>\n",
       "      <td>1985</td>\n",
       "      <td>True</td>\n",
       "      <td>cadsupprive</td>\n",
       "      <td>499842</td>\n",
       "      <td>Novice</td>\n",
       "      <td>2019-06-01</td>\n",
       "      <td>rapporteure comprends préoccupation nécessité ...</td>\n",
       "      <td>NaN</td>\n",
       "      <td>rapporteur comprend préoccup nécess garant con...</td>\n",
       "      <td>NaN</td>\n",
       "      <td>Vendredi</td>\n",
       "    </tr>\n",
       "    <tr>\n",
       "      <th>499842</th>\n",
       "      <td>499842</td>\n",
       "      <td>499843</td>\n",
       "      <td>zivka park</td>\n",
       "      <td>2018-02-20</td>\n",
       "      <td>Débat sur la couverture numérique du territoire</td>\n",
       "      <td>Présidence de M. Sylvain Waserman</td>\n",
       "      <td>NaN</td>\n",
       "      <td>Pourriez-vous nous apporter des éclairages sur...</td>\n",
       "      <td>NaN</td>\n",
       "      <td>Présidence de M. Sylvain Waserman</td>\n",
       "      <td>Park</td>\n",
       "      <td>F</td>\n",
       "      <td>32</td>\n",
       "      <td>LREM</td>\n",
       "      <td>DvptDurable</td>\n",
       "      <td>0</td>\n",
       "      <td>False</td>\n",
       "      <td>0</td>\n",
       "      <td>1 - Soc. civile</td>\n",
       "      <td>1 - Novice</td>\n",
       "      <td>ScPo</td>\n",
       "      <td>1985</td>\n",
       "      <td>True</td>\n",
       "      <td>cadsupprive</td>\n",
       "      <td>499843</td>\n",
       "      <td>Novice</td>\n",
       "      <td>2018-02-01</td>\n",
       "      <td>pourriez apporter éclairages obligations déplo...</td>\n",
       "      <td>NaN</td>\n",
       "      <td>pourr apport éclairag oblig déploi oper téléph...</td>\n",
       "      <td>NaN</td>\n",
       "      <td>Mardi</td>\n",
       "    </tr>\n",
       "  </tbody>\n",
       "</table>\n",
       "<p>499843 rows × 32 columns</p>\n",
       "</div>"
      ],
      "text/plain": [
       "        Unnamed: 0  Unnamed: 0.1         Orateur        Date  \\\n",
       "0                0             1  adrien morenas  2019-11-04   \n",
       "1                1             2  adrien morenas  2019-11-04   \n",
       "2                2             3  adrien morenas  2019-07-02   \n",
       "3                3             4  adrien morenas  2018-02-01   \n",
       "4                4             5  adrien morenas  2020-05-08   \n",
       "...            ...           ...             ...         ...   \n",
       "499838      499838        499839      zivka park  2018-11-05   \n",
       "499839      499839        499840      zivka park  2019-09-12   \n",
       "499840      499840        499841      zivka park  2018-02-20   \n",
       "499841      499841        499842      zivka park  2019-06-14   \n",
       "499842      499842        499843      zivka park  2018-02-20   \n",
       "\n",
       "                                       Nature.de.séance  \\\n",
       "0                   Projet de loi de finances pour 2020   \n",
       "1                   Projet de loi de finances pour 2020   \n",
       "2                             Questions au Gouvernement   \n",
       "3                                         Accès à leau   \n",
       "4             Prorogation de létat durgence sanitaire   \n",
       "...                                                 ...   \n",
       "499838              Projet de loi de finances pour 2019   \n",
       "499839                                        Mobilités   \n",
       "499840  Débat sur la couverture numérique du territoire   \n",
       "499841                                        Mobilités   \n",
       "499842  Débat sur la couverture numérique du territoire   \n",
       "\n",
       "                            Président.de.séance  \\\n",
       "0                Présidence de M. Hugues Renson   \n",
       "1                Présidence de M. Hugues Renson   \n",
       "2              Présidence de M. Richard Ferrand   \n",
       "3       Présidence de Mme Carole Bureau-Bonnard   \n",
       "4         Présidence de Mme Laetitia Saint-Paul   \n",
       "...                                         ...   \n",
       "499838             Présidence de M. Marc Le Fur   \n",
       "499839        Présidence de M. Sylvain Waserman   \n",
       "499840        Présidence de M. Sylvain Waserman   \n",
       "499841  Présidence de Mme Carole Bureau-Bonnard   \n",
       "499842        Présidence de M. Sylvain Waserman   \n",
       "\n",
       "                             Sujet.débattu  \\\n",
       "0                                      NaN   \n",
       "1                                      NaN   \n",
       "2       Convention citoyenne sur le climat   \n",
       "3                      Discussion générale   \n",
       "4                  Discussion des articles   \n",
       "...                                    ...   \n",
       "499838                                 NaN   \n",
       "499839             Discussion des articles   \n",
       "499840                                 NaN   \n",
       "499841             Discussion des articles   \n",
       "499842                                 NaN   \n",
       "\n",
       "                                                 Réplique Didascalie  \\\n",
       "0       Si vous y donnez un avis favorable  madame la ...        NaN   \n",
       "1       Plus généralement  je soutiendrai un autre ame...        NaN   \n",
       "2        Ma question sadresse à M. François de Rugy  ...        NaN   \n",
       "3                                                    Le 1        NaN   \n",
       "4       Cette autorisation  strictement encadrée par l...        NaN   \n",
       "...                                                   ...        ...   \n",
       "499838   rapporteure pour avis de la commission du dév...        NaN   \n",
       "499839   rapporteure. Avis défavorable. Les agents des...        NaN   \n",
       "499840  Selon lARCEP  les opérateurs dépenseront 3 à ...        NaN   \n",
       "499841   rapporteure. Je comprends votre préoccupation...        NaN   \n",
       "499842  Pourriez-vous nous apporter des éclairages sur...        NaN   \n",
       "\n",
       "                     Président.de.séance_propre nom.famille sexe  age  \\\n",
       "0                Présidence de M. Hugues Renson     Morenas    M   35   \n",
       "1                Présidence de M. Hugues Renson     Morenas    M   35   \n",
       "2              Présidence de M. Richard Ferrand     Morenas    M   35   \n",
       "3       Présidence de Mme Carole Bureau-Bonnard     Morenas    M   35   \n",
       "4         Présidence de Mme Laetitia Saint-Paul     Morenas    M   35   \n",
       "...                                         ...         ...  ...  ...   \n",
       "499838             Présidence de M. Marc Le Fur        Park    F   32   \n",
       "499839        Présidence de M. Sylvain Waserman        Park    F   32   \n",
       "499840        Présidence de M. Sylvain Waserman        Park    F   32   \n",
       "499841  Présidence de Mme Carole Bureau-Bonnard        Park    F   32   \n",
       "499842        Présidence de M. Sylvain Waserman        Park    F   32   \n",
       "\n",
       "       groupe.sigle  commissions  nb.mandats  cabcollab  duree.pol  \\\n",
       "0              LREM  DvptDurable           0      False          0   \n",
       "1              LREM  DvptDurable           0      False          0   \n",
       "2              LREM  DvptDurable           0      False          0   \n",
       "3              LREM  DvptDurable           0      False          0   \n",
       "4              LREM  DvptDurable           0      False          0   \n",
       "...             ...          ...         ...        ...        ...   \n",
       "499838         LREM  DvptDurable           0      False          0   \n",
       "499839         LREM  DvptDurable           0      False          0   \n",
       "499840         LREM  DvptDurable           0      False          0   \n",
       "499841         LREM  DvptDurable           0      False          0   \n",
       "499842         LREM  DvptDurable           0      False          0   \n",
       "\n",
       "              clustRFSP       clustVEP hautdip  naissance_an  majo  \\\n",
       "0       1 - Soc. civile  6  Exp. Pol.    Doct          1982  True   \n",
       "1       1 - Soc. civile  6  Exp. Pol.    Doct          1982  True   \n",
       "2       1 - Soc. civile  6  Exp. Pol.    Doct          1982  True   \n",
       "3       1 - Soc. civile  6  Exp. Pol.    Doct          1982  True   \n",
       "4       1 - Soc. civile  6  Exp. Pol.    Doct          1982  True   \n",
       "...                 ...            ...     ...           ...   ...   \n",
       "499838  1 - Soc. civile     1 - Novice    ScPo          1985  True   \n",
       "499839  1 - Soc. civile     1 - Novice    ScPo          1985  True   \n",
       "499840  1 - Soc. civile     1 - Novice    ScPo          1985  True   \n",
       "499841  1 - Soc. civile     1 - Novice    ScPo          1985  True   \n",
       "499842  1 - Soc. civile     1 - Novice    ScPo          1985  True   \n",
       "\n",
       "         profsigni2      ID  Groupe  time_floor  \\\n",
       "0               NaN       1     Exp  2019-11-01   \n",
       "1               NaN       2     Exp  2019-11-01   \n",
       "2               NaN       3     Exp  2019-07-01   \n",
       "3               NaN       4     Exp  2018-02-01   \n",
       "4               NaN       5     Exp  2020-05-01   \n",
       "...             ...     ...     ...         ...   \n",
       "499838  cadsupprive  499839  Novice  2018-11-01   \n",
       "499839  cadsupprive  499840  Novice  2019-09-01   \n",
       "499840  cadsupprive  499841  Novice  2018-02-01   \n",
       "499841  cadsupprive  499842  Novice  2019-06-01   \n",
       "499842  cadsupprive  499843  Novice  2018-02-01   \n",
       "\n",
       "                                       tokenized_replique  \\\n",
       "0       si donnez avis favorable madame secrétaire éta...   \n",
       "1       plus généralement soutiendrai autre amendement...   \n",
       "2       question adresse françois rugy ministre état m...   \n",
       "3                                                     NaN   \n",
       "4       cette autorisation strictement encadrée décret...   \n",
       "...                                                   ...   \n",
       "499838  rapporteure avis commission développement dura...   \n",
       "499839  rapporteure avis défavorable agents sociétés s...   \n",
       "499840  selon arcep opérateurs dépenseront milliards e...   \n",
       "499841  rapporteure comprends préoccupation nécessité ...   \n",
       "499842  pourriez apporter éclairages obligations déplo...   \n",
       "\n",
       "       tokenized_didascalie  \\\n",
       "0                       NaN   \n",
       "1                       NaN   \n",
       "2                       NaN   \n",
       "3                       NaN   \n",
       "4                       NaN   \n",
       "...                     ...   \n",
       "499838                  NaN   \n",
       "499839                  NaN   \n",
       "499840                  NaN   \n",
       "499841                  NaN   \n",
       "499842                  NaN   \n",
       "\n",
       "                                         stemmed_replique stemmed_didascalie  \\\n",
       "0       si don avis favor madam secrétair état dissip ...                NaN   \n",
       "1       plus général soutiendr autr amend vis demand g...                NaN   \n",
       "2       question adress françois rugy ministr état min...                NaN   \n",
       "3                                                     NaN                NaN   \n",
       "4       cet autoris strict encadr décret appliqu effet...                NaN   \n",
       "...                                                   ...                ...   \n",
       "499838  rapporteur avis commiss développ durabl aménag...                NaN   \n",
       "499839  rapporteur avis défavor agent societ sécur pri...                NaN   \n",
       "499840  selon arcep oper dépens milliard euros plus le...                NaN   \n",
       "499841  rapporteur comprend préoccup nécess garant con...                NaN   \n",
       "499842  pourr apport éclairag oblig déploi oper téléph...                NaN   \n",
       "\n",
       "            Jour  \n",
       "0          Lundi  \n",
       "1          Lundi  \n",
       "2          Mardi  \n",
       "3          Jeudi  \n",
       "4       Vendredi  \n",
       "...          ...  \n",
       "499838     Lundi  \n",
       "499839     Jeudi  \n",
       "499840     Mardi  \n",
       "499841  Vendredi  \n",
       "499842     Mardi  \n",
       "\n",
       "[499843 rows x 32 columns]"
      ]
     },
     "execution_count": 6,
     "metadata": {},
     "output_type": "execute_result"
    }
   ],
   "source": [
    "df"
   ]
  },
  {
   "cell_type": "code",
   "execution_count": 8,
   "metadata": {},
   "outputs": [],
   "source": [
    "w2v_model_all = Word2Vec.load('results/word2vec_all_300.model')"
   ]
  },
  {
   "cell_type": "code",
   "execution_count": 9,
   "metadata": {},
   "outputs": [],
   "source": [
    "w2v_model_all.init_sims(replace = True)"
   ]
  },
  {
   "cell_type": "code",
   "execution_count": 10,
   "metadata": {},
   "outputs": [],
   "source": [
    "dfc = df.copy()"
   ]
  },
  {
   "cell_type": "code",
   "execution_count": 11,
   "metadata": {},
   "outputs": [
    {
     "data": {
      "text/plain": [
       "'2019-11-04'"
      ]
     },
     "execution_count": 11,
     "metadata": {},
     "output_type": "execute_result"
    }
   ],
   "source": [
    "dfc['Date'][0]"
   ]
  },
  {
   "cell_type": "code",
   "execution_count": 12,
   "metadata": {},
   "outputs": [],
   "source": [
    "def datecroiss(s):\n",
    "    #transforme un str de date en un int qu'on peut ranger par ordre croissant : 03/02/2019-->20190203 (AAAAMMJJ)\n",
    "    \n",
    "    AAAA = s[0:4]\n",
    "    MM = s[5:7]\n",
    "    JJ = s[8:10]\n",
    "    return int(AAAA+MM+JJ)\n",
    "\n",
    "def annee(s):\n",
    "    return int(s[0:4])"
   ]
  },
  {
   "cell_type": "code",
   "execution_count": 13,
   "metadata": {},
   "outputs": [],
   "source": [
    "dfc['Datec'] = dfc['Date'].apply(datecroiss)\n",
    "dfc['Annee'] = dfc['Date'].apply(annee)"
   ]
  },
  {
   "cell_type": "code",
   "execution_count": 14,
   "metadata": {},
   "outputs": [
    {
     "data": {
      "text/html": [
       "<div>\n",
       "<style scoped>\n",
       "    .dataframe tbody tr th:only-of-type {\n",
       "        vertical-align: middle;\n",
       "    }\n",
       "\n",
       "    .dataframe tbody tr th {\n",
       "        vertical-align: top;\n",
       "    }\n",
       "\n",
       "    .dataframe thead th {\n",
       "        text-align: right;\n",
       "    }\n",
       "</style>\n",
       "<table border=\"1\" class=\"dataframe\">\n",
       "  <thead>\n",
       "    <tr style=\"text-align: right;\">\n",
       "      <th></th>\n",
       "      <th>Unnamed: 0</th>\n",
       "      <th>Unnamed: 0.1</th>\n",
       "      <th>Orateur</th>\n",
       "      <th>Date</th>\n",
       "      <th>Nature.de.séance</th>\n",
       "      <th>Président.de.séance</th>\n",
       "      <th>Sujet.débattu</th>\n",
       "      <th>Réplique</th>\n",
       "      <th>Didascalie</th>\n",
       "      <th>Président.de.séance_propre</th>\n",
       "      <th>nom.famille</th>\n",
       "      <th>sexe</th>\n",
       "      <th>age</th>\n",
       "      <th>groupe.sigle</th>\n",
       "      <th>commissions</th>\n",
       "      <th>nb.mandats</th>\n",
       "      <th>cabcollab</th>\n",
       "      <th>duree.pol</th>\n",
       "      <th>clustRFSP</th>\n",
       "      <th>clustVEP</th>\n",
       "      <th>hautdip</th>\n",
       "      <th>naissance_an</th>\n",
       "      <th>majo</th>\n",
       "      <th>profsigni2</th>\n",
       "      <th>ID</th>\n",
       "      <th>Groupe</th>\n",
       "      <th>time_floor</th>\n",
       "      <th>tokenized_replique</th>\n",
       "      <th>tokenized_didascalie</th>\n",
       "      <th>stemmed_replique</th>\n",
       "      <th>stemmed_didascalie</th>\n",
       "      <th>Jour</th>\n",
       "      <th>Datec</th>\n",
       "      <th>Annee</th>\n",
       "    </tr>\n",
       "  </thead>\n",
       "  <tbody>\n",
       "    <tr>\n",
       "      <th>0</th>\n",
       "      <td>0</td>\n",
       "      <td>1</td>\n",
       "      <td>adrien morenas</td>\n",
       "      <td>2019-11-04</td>\n",
       "      <td>Projet de loi de finances pour 2020</td>\n",
       "      <td>Présidence de M. Hugues Renson</td>\n",
       "      <td>NaN</td>\n",
       "      <td>Si vous y donnez un avis favorable  madame la ...</td>\n",
       "      <td>NaN</td>\n",
       "      <td>Présidence de M. Hugues Renson</td>\n",
       "      <td>Morenas</td>\n",
       "      <td>M</td>\n",
       "      <td>35</td>\n",
       "      <td>LREM</td>\n",
       "      <td>DvptDurable</td>\n",
       "      <td>0</td>\n",
       "      <td>False</td>\n",
       "      <td>0</td>\n",
       "      <td>1 - Soc. civile</td>\n",
       "      <td>6  Exp. Pol.</td>\n",
       "      <td>Doct</td>\n",
       "      <td>1982</td>\n",
       "      <td>True</td>\n",
       "      <td>NaN</td>\n",
       "      <td>1</td>\n",
       "      <td>Exp</td>\n",
       "      <td>2019-11-01</td>\n",
       "      <td>si donnez avis favorable madame secrétaire éta...</td>\n",
       "      <td>NaN</td>\n",
       "      <td>si don avis favor madam secrétair état dissip ...</td>\n",
       "      <td>NaN</td>\n",
       "      <td>Lundi</td>\n",
       "      <td>20191104</td>\n",
       "      <td>2019</td>\n",
       "    </tr>\n",
       "    <tr>\n",
       "      <th>1</th>\n",
       "      <td>1</td>\n",
       "      <td>2</td>\n",
       "      <td>adrien morenas</td>\n",
       "      <td>2019-11-04</td>\n",
       "      <td>Projet de loi de finances pour 2020</td>\n",
       "      <td>Présidence de M. Hugues Renson</td>\n",
       "      <td>NaN</td>\n",
       "      <td>Plus généralement  je soutiendrai un autre ame...</td>\n",
       "      <td>NaN</td>\n",
       "      <td>Présidence de M. Hugues Renson</td>\n",
       "      <td>Morenas</td>\n",
       "      <td>M</td>\n",
       "      <td>35</td>\n",
       "      <td>LREM</td>\n",
       "      <td>DvptDurable</td>\n",
       "      <td>0</td>\n",
       "      <td>False</td>\n",
       "      <td>0</td>\n",
       "      <td>1 - Soc. civile</td>\n",
       "      <td>6  Exp. Pol.</td>\n",
       "      <td>Doct</td>\n",
       "      <td>1982</td>\n",
       "      <td>True</td>\n",
       "      <td>NaN</td>\n",
       "      <td>2</td>\n",
       "      <td>Exp</td>\n",
       "      <td>2019-11-01</td>\n",
       "      <td>plus généralement soutiendrai autre amendement...</td>\n",
       "      <td>NaN</td>\n",
       "      <td>plus général soutiendr autr amend vis demand g...</td>\n",
       "      <td>NaN</td>\n",
       "      <td>Lundi</td>\n",
       "      <td>20191104</td>\n",
       "      <td>2019</td>\n",
       "    </tr>\n",
       "    <tr>\n",
       "      <th>2</th>\n",
       "      <td>2</td>\n",
       "      <td>3</td>\n",
       "      <td>adrien morenas</td>\n",
       "      <td>2019-07-02</td>\n",
       "      <td>Questions au Gouvernement</td>\n",
       "      <td>Présidence de M. Richard Ferrand</td>\n",
       "      <td>Convention citoyenne sur le climat</td>\n",
       "      <td>Ma question sadresse à M. François de Rugy  ...</td>\n",
       "      <td>NaN</td>\n",
       "      <td>Présidence de M. Richard Ferrand</td>\n",
       "      <td>Morenas</td>\n",
       "      <td>M</td>\n",
       "      <td>35</td>\n",
       "      <td>LREM</td>\n",
       "      <td>DvptDurable</td>\n",
       "      <td>0</td>\n",
       "      <td>False</td>\n",
       "      <td>0</td>\n",
       "      <td>1 - Soc. civile</td>\n",
       "      <td>6  Exp. Pol.</td>\n",
       "      <td>Doct</td>\n",
       "      <td>1982</td>\n",
       "      <td>True</td>\n",
       "      <td>NaN</td>\n",
       "      <td>3</td>\n",
       "      <td>Exp</td>\n",
       "      <td>2019-07-01</td>\n",
       "      <td>question adresse françois rugy ministre état m...</td>\n",
       "      <td>NaN</td>\n",
       "      <td>question adress françois rugy ministr état min...</td>\n",
       "      <td>NaN</td>\n",
       "      <td>Mardi</td>\n",
       "      <td>20190702</td>\n",
       "      <td>2019</td>\n",
       "    </tr>\n",
       "    <tr>\n",
       "      <th>3</th>\n",
       "      <td>3</td>\n",
       "      <td>4</td>\n",
       "      <td>adrien morenas</td>\n",
       "      <td>2018-02-01</td>\n",
       "      <td>Accès à leau</td>\n",
       "      <td>Présidence de Mme Carole Bureau-Bonnard</td>\n",
       "      <td>Discussion générale</td>\n",
       "      <td>Le 1</td>\n",
       "      <td>NaN</td>\n",
       "      <td>Présidence de Mme Carole Bureau-Bonnard</td>\n",
       "      <td>Morenas</td>\n",
       "      <td>M</td>\n",
       "      <td>35</td>\n",
       "      <td>LREM</td>\n",
       "      <td>DvptDurable</td>\n",
       "      <td>0</td>\n",
       "      <td>False</td>\n",
       "      <td>0</td>\n",
       "      <td>1 - Soc. civile</td>\n",
       "      <td>6  Exp. Pol.</td>\n",
       "      <td>Doct</td>\n",
       "      <td>1982</td>\n",
       "      <td>True</td>\n",
       "      <td>NaN</td>\n",
       "      <td>4</td>\n",
       "      <td>Exp</td>\n",
       "      <td>2018-02-01</td>\n",
       "      <td>NaN</td>\n",
       "      <td>NaN</td>\n",
       "      <td>NaN</td>\n",
       "      <td>NaN</td>\n",
       "      <td>Jeudi</td>\n",
       "      <td>20180201</td>\n",
       "      <td>2018</td>\n",
       "    </tr>\n",
       "    <tr>\n",
       "      <th>4</th>\n",
       "      <td>4</td>\n",
       "      <td>5</td>\n",
       "      <td>adrien morenas</td>\n",
       "      <td>2020-05-08</td>\n",
       "      <td>Prorogation de létat durgence sanitaire</td>\n",
       "      <td>Présidence de Mme Laetitia Saint-Paul</td>\n",
       "      <td>Discussion des articles</td>\n",
       "      <td>Cette autorisation  strictement encadrée par l...</td>\n",
       "      <td>NaN</td>\n",
       "      <td>Présidence de Mme Laetitia Saint-Paul</td>\n",
       "      <td>Morenas</td>\n",
       "      <td>M</td>\n",
       "      <td>35</td>\n",
       "      <td>LREM</td>\n",
       "      <td>DvptDurable</td>\n",
       "      <td>0</td>\n",
       "      <td>False</td>\n",
       "      <td>0</td>\n",
       "      <td>1 - Soc. civile</td>\n",
       "      <td>6  Exp. Pol.</td>\n",
       "      <td>Doct</td>\n",
       "      <td>1982</td>\n",
       "      <td>True</td>\n",
       "      <td>NaN</td>\n",
       "      <td>5</td>\n",
       "      <td>Exp</td>\n",
       "      <td>2020-05-01</td>\n",
       "      <td>cette autorisation strictement encadrée décret...</td>\n",
       "      <td>NaN</td>\n",
       "      <td>cet autoris strict encadr décret appliqu effet...</td>\n",
       "      <td>NaN</td>\n",
       "      <td>Vendredi</td>\n",
       "      <td>20200508</td>\n",
       "      <td>2020</td>\n",
       "    </tr>\n",
       "  </tbody>\n",
       "</table>\n",
       "</div>"
      ],
      "text/plain": [
       "   Unnamed: 0  Unnamed: 0.1         Orateur        Date  \\\n",
       "0           0             1  adrien morenas  2019-11-04   \n",
       "1           1             2  adrien morenas  2019-11-04   \n",
       "2           2             3  adrien morenas  2019-07-02   \n",
       "3           3             4  adrien morenas  2018-02-01   \n",
       "4           4             5  adrien morenas  2020-05-08   \n",
       "\n",
       "                            Nature.de.séance  \\\n",
       "0        Projet de loi de finances pour 2020   \n",
       "1        Projet de loi de finances pour 2020   \n",
       "2                  Questions au Gouvernement   \n",
       "3                              Accès à leau   \n",
       "4  Prorogation de létat durgence sanitaire   \n",
       "\n",
       "                       Président.de.séance  \\\n",
       "0           Présidence de M. Hugues Renson   \n",
       "1           Présidence de M. Hugues Renson   \n",
       "2         Présidence de M. Richard Ferrand   \n",
       "3  Présidence de Mme Carole Bureau-Bonnard   \n",
       "4    Présidence de Mme Laetitia Saint-Paul   \n",
       "\n",
       "                        Sujet.débattu  \\\n",
       "0                                 NaN   \n",
       "1                                 NaN   \n",
       "2  Convention citoyenne sur le climat   \n",
       "3                 Discussion générale   \n",
       "4             Discussion des articles   \n",
       "\n",
       "                                            Réplique Didascalie  \\\n",
       "0  Si vous y donnez un avis favorable  madame la ...        NaN   \n",
       "1  Plus généralement  je soutiendrai un autre ame...        NaN   \n",
       "2   Ma question sadresse à M. François de Rugy  ...        NaN   \n",
       "3                                               Le 1        NaN   \n",
       "4  Cette autorisation  strictement encadrée par l...        NaN   \n",
       "\n",
       "                Président.de.séance_propre nom.famille sexe  age groupe.sigle  \\\n",
       "0           Présidence de M. Hugues Renson     Morenas    M   35         LREM   \n",
       "1           Présidence de M. Hugues Renson     Morenas    M   35         LREM   \n",
       "2         Présidence de M. Richard Ferrand     Morenas    M   35         LREM   \n",
       "3  Présidence de Mme Carole Bureau-Bonnard     Morenas    M   35         LREM   \n",
       "4    Présidence de Mme Laetitia Saint-Paul     Morenas    M   35         LREM   \n",
       "\n",
       "   commissions  nb.mandats  cabcollab  duree.pol        clustRFSP  \\\n",
       "0  DvptDurable           0      False          0  1 - Soc. civile   \n",
       "1  DvptDurable           0      False          0  1 - Soc. civile   \n",
       "2  DvptDurable           0      False          0  1 - Soc. civile   \n",
       "3  DvptDurable           0      False          0  1 - Soc. civile   \n",
       "4  DvptDurable           0      False          0  1 - Soc. civile   \n",
       "\n",
       "        clustVEP hautdip  naissance_an  majo profsigni2  ID Groupe  \\\n",
       "0  6  Exp. Pol.    Doct          1982  True        NaN   1    Exp   \n",
       "1  6  Exp. Pol.    Doct          1982  True        NaN   2    Exp   \n",
       "2  6  Exp. Pol.    Doct          1982  True        NaN   3    Exp   \n",
       "3  6  Exp. Pol.    Doct          1982  True        NaN   4    Exp   \n",
       "4  6  Exp. Pol.    Doct          1982  True        NaN   5    Exp   \n",
       "\n",
       "   time_floor                                 tokenized_replique  \\\n",
       "0  2019-11-01  si donnez avis favorable madame secrétaire éta...   \n",
       "1  2019-11-01  plus généralement soutiendrai autre amendement...   \n",
       "2  2019-07-01  question adresse françois rugy ministre état m...   \n",
       "3  2018-02-01                                                NaN   \n",
       "4  2020-05-01  cette autorisation strictement encadrée décret...   \n",
       "\n",
       "  tokenized_didascalie                                   stemmed_replique  \\\n",
       "0                  NaN  si don avis favor madam secrétair état dissip ...   \n",
       "1                  NaN  plus général soutiendr autr amend vis demand g...   \n",
       "2                  NaN  question adress françois rugy ministr état min...   \n",
       "3                  NaN                                                NaN   \n",
       "4                  NaN  cet autoris strict encadr décret appliqu effet...   \n",
       "\n",
       "  stemmed_didascalie      Jour     Datec  Annee  \n",
       "0                NaN     Lundi  20191104   2019  \n",
       "1                NaN     Lundi  20191104   2019  \n",
       "2                NaN     Mardi  20190702   2019  \n",
       "3                NaN     Jeudi  20180201   2018  \n",
       "4                NaN  Vendredi  20200508   2020  "
      ]
     },
     "execution_count": 14,
     "metadata": {},
     "output_type": "execute_result"
    }
   ],
   "source": [
    "dfc.head()"
   ]
  },
  {
   "cell_type": "code",
   "execution_count": 15,
   "metadata": {},
   "outputs": [
    {
     "ename": "NameError",
     "evalue": "name 'df_exp_2019' is not defined",
     "output_type": "error",
     "traceback": [
      "\u001b[0;31m---------------------------------------------------------------------------\u001b[0m",
      "\u001b[0;31mNameError\u001b[0m                                 Traceback (most recent call last)",
      "\u001b[0;32m<ipython-input-15-f80d029849bb>\u001b[0m in \u001b[0;36m<module>\u001b[0;34m\u001b[0m\n\u001b[0;32m----> 1\u001b[0;31m \u001b[0mdf_exp_2019\u001b[0m\u001b[0;34m.\u001b[0m\u001b[0mhead\u001b[0m\u001b[0;34m(\u001b[0m\u001b[0;34m)\u001b[0m\u001b[0;34m\u001b[0m\u001b[0;34m\u001b[0m\u001b[0m\n\u001b[0m",
      "\u001b[0;31mNameError\u001b[0m: name 'df_exp_2019' is not defined"
     ]
    }
   ],
   "source": [
    "df_exp_2019.head()"
   ]
  },
  {
   "cell_type": "code",
   "execution_count": 16,
   "metadata": {},
   "outputs": [],
   "source": [
    "def add_groupe(L, etiquette):\n",
    "    return [i + etiquette for i in L]"
   ]
  },
  {
   "cell_type": "code",
   "execution_count": 17,
   "metadata": {},
   "outputs": [],
   "source": [
    "def moyenne(L):\n",
    "    s = 0\n",
    "    for l in L:\n",
    "        s= s + l\n",
    "        \n",
    "    return s/len(L)"
   ]
  },
  {
   "cell_type": "code",
   "execution_count": 18,
   "metadata": {},
   "outputs": [],
   "source": [
    "def SansInf(L): \n",
    "    #On enleve les inf des listes, pour pouvoir calculer la moyenne\n",
    "    \n",
    "    Lbis = []\n",
    "    for i in L:\n",
    "        if i != float('inf'):\n",
    "            Lbis.append(i)\n",
    "            \n",
    "    return Lbis"
   ]
  },
  {
   "cell_type": "markdown",
   "metadata": {},
   "source": [
    "### 2020"
   ]
  },
  {
   "cell_type": "code",
   "execution_count": 19,
   "metadata": {},
   "outputs": [
    {
     "data": {
      "image/png": "[encoded data removed]",
      "text/plain": [
       "<Figure size 432x288 with 2 Axes>"
      ]
     },
     "metadata": {
      "needs_background": "light"
     },
     "output_type": "display_data"
    }
   ],
   "source": [
    "filtre1 = dfc['Groupe'] == 'Novice'\n",
    "filtre2 = dfc['Annee'] == 2020\n",
    "filtre3 = dfc['Groupe'] == 'Exp'\n",
    "\n",
    "df_novice_2020 = dfc.where(filtre1 & filtre2).dropna().copy()\n",
    "df_exp_2020 = dfc.where(filtre3 & filtre2).dropna().copy()\n",
    "\n",
    "df_novice_2020_shuffled = df_novice_2020.sample(frac=1) #taille de la base : 871\n",
    "phrases_novice_2020 = [df_novice_2020_shuffled.iloc[i]['tokenized_replique'].split(' ') for i in range(2 * 400)]\n",
    "\n",
    "WMD_novices_allmodel = [\n",
    "    w2v_model_all.wv.wmdistance(\n",
    "            add_groupe(phrases_novice_2020[i], '_Novice'), \n",
    "            add_groupe(phrases_novice_2020[i + 1], '_Novice')) \n",
    "    for i in range(0, 800, 2)\n",
    "                        ]\n",
    "SI_N_2020 = SansInf(WMD_novices_allmodel)\n",
    "means_novice_allmodel_2020 = [moyenne(SI_N_2020[:i]) for i in range(1, 400)]\n",
    "\n",
    "fig,a =  plt.subplots(1,2)\n",
    "\n",
    "a[0].plot(means_novice_allmodel_2020)\n",
    "a[0].set_title(\"WMD des experts, allmodel, 2020\")\n",
    "\n",
    "a[1].plot([i for i in range(300,399)],means_novice_allmodel_2020[300:])\n",
    "a[1].set_title(\"Zoom sur les dernières valeurs\")\n",
    "\n",
    "plt.show()"
   ]
  },
  {
   "cell_type": "code",
   "execution_count": 20,
   "metadata": {},
   "outputs": [
    {
     "data": {
      "image/png": "[encoded data removed]",
      "text/plain": [
       "<Figure size 432x288 with 2 Axes>"
      ]
     },
     "metadata": {
      "needs_background": "light"
     },
     "output_type": "display_data"
    }
   ],
   "source": [
    "df_exp_2020_shuffled = df_exp_2020.sample(frac=1) #Taille de la base : 5062\n",
    "phrases_exp_2020 = [df_exp_2020_shuffled.iloc[i]['tokenized_replique'].split(' ') for i in range(2 *2500)]\n",
    "\n",
    "WMD_exp_allmodel = [\n",
    "    w2v_model_all.wv.wmdistance(\n",
    "            add_groupe(phrases_exp_2020[i], '_Exp'), \n",
    "            add_groupe(phrases_exp_2020[i + 1], '_Exp')) \n",
    "    for i in range(0, 5000, 2)\n",
    "                        ]\n",
    "\n",
    "SI_E_2020 = SansInf(WMD_exp_allmodel)\n",
    "means_exp_allmodel_2020 = [moyenne(SI_E_2020[:i]) for i in range(1, 2500)]\n",
    "\n",
    "fig,a =  plt.subplots(1,2)\n",
    "\n",
    "a[0].plot(means_exp_allmodel_2020)\n",
    "a[0].set_title(\"WMD des experts, allmodel, 2020\")\n",
    "\n",
    "a[1].plot([i for i in range(1500,2499)],means_exp_allmodel_2020[1500:])\n",
    "a[1].set_title(\"Zoom sur les dernières valeurs\")\n",
    "\n",
    "plt.show()"
   ]
  },
  {
   "cell_type": "markdown",
   "metadata": {},
   "source": [
    "### 2019"
   ]
  },
  {
   "cell_type": "code",
   "execution_count": 21,
   "metadata": {
    "scrolled": true
   },
   "outputs": [
    {
     "data": {
      "image/png": "[encoded data removed]",
      "text/plain": [
       "<Figure size 432x288 with 2 Axes>"
      ]
     },
     "metadata": {
      "needs_background": "light"
     },
     "output_type": "display_data"
    }
   ],
   "source": [
    "filtre1 = dfc['Groupe'] == 'Novice'\n",
    "filtre2 = dfc['Annee'] == 2019\n",
    "filtre3 = dfc['Groupe'] == 'Exp'\n",
    "\n",
    "df_novice_2019 = dfc.where(filtre1 & filtre2).dropna().copy()\n",
    "df_exp_2019 = dfc.where(filtre3 & filtre2).dropna().copy()\n",
    "\n",
    "df_novice_2019_shuffled = df_novice_2019.sample(frac=1) #taille de la base : 1152\n",
    "phrases_novice_2019 = [df_novice_2019_shuffled.iloc[i]['tokenized_replique'].split(' ') for i in range(2 * 500)]\n",
    "\n",
    "WMD_novices_allmodel = [\n",
    "    w2v_model_all.wv.wmdistance(\n",
    "            add_groupe(phrases_novice_2019[i], '_Novice'), \n",
    "            add_groupe(phrases_novice_2019[i + 1], '_Novice')) \n",
    "    for i in range(0, 1000, 2)\n",
    "                        ]\n",
    "\n",
    "SI_N_2019 = SansInf(WMD_novices_allmodel)\n",
    "means_novice_allmodel_2019 = [moyenne(SI_N_2019[:i]) for i in range(1, 500)]\n",
    "\n",
    "\n",
    "fig,a =  plt.subplots(1,2)\n",
    "\n",
    "a[0].plot(means_novice_allmodel_2019)\n",
    "a[0].set_title(\"WMD des novices, allmodel, 2019\")\n",
    "\n",
    "a[1].plot([i for i in range(200,499)],means_novice_allmodel_2019[200:])\n",
    "a[1].set_title(\"Zoom sur les valeurs\")\n",
    "plt.show()"
   ]
  },
  {
   "cell_type": "code",
   "execution_count": 22,
   "metadata": {},
   "outputs": [
    {
     "data": {
      "image/png": "[encoded data removed]",
      "text/plain": [
       "<Figure size 432x288 with 2 Axes>"
      ]
     },
     "metadata": {
      "needs_background": "light"
     },
     "output_type": "display_data"
    }
   ],
   "source": [
    "df_exp_2019_shuffled = df_exp_2019.sample(frac=1) #Taille de la base : 8000\n",
    "phrases_exp_2019 = [df_exp_2019_shuffled.iloc[i]['tokenized_replique'].split(' ') for i in range(2 *4000)]\n",
    "\n",
    "WMD_exp_allmodel = [\n",
    "    w2v_model_all.wv.wmdistance(\n",
    "            add_groupe(phrases_exp_2019[i], '_Exp'), \n",
    "            add_groupe(phrases_exp_2019[i + 1], '_Exp')) \n",
    "    for i in range(0, 8000, 2)\n",
    "                        ]\n",
    "\n",
    "SI_E_2019 = SansInf(WMD_exp_allmodel)\n",
    "means_exp_allmodel_2019 = [moyenne(SI_E_2019[:i]) for i in range(1, 4000)]\n",
    "\n",
    "fig,a =  plt.subplots(1,2)\n",
    "\n",
    "a[0].plot(means_exp_allmodel_2019)\n",
    "a[0].set_title(\"WMD des experts, allmodel, 2019\")\n",
    "\n",
    "a[1].plot([i for i in range(1500,3999)],means_exp_allmodel_2019[1500:])\n",
    "a[1].set_title(\"Zoom sur les dernières valeurs\")\n",
    "\n",
    "plt.show()"
   ]
  },
  {
   "cell_type": "markdown",
   "metadata": {},
   "source": [
    "### 2018"
   ]
  },
  {
   "cell_type": "code",
   "execution_count": 23,
   "metadata": {},
   "outputs": [
    {
     "data": {
      "image/png": "[encoded data removed]",
      "text/plain": [
       "<Figure size 432x288 with 2 Axes>"
      ]
     },
     "metadata": {
      "needs_background": "light"
     },
     "output_type": "display_data"
    }
   ],
   "source": [
    "filtre1 = dfc['Groupe'] == 'Novice'\n",
    "filtre2 = dfc['Annee'] == 2018\n",
    "filtre3 = dfc['Groupe'] == 'Exp'\n",
    "\n",
    "df_novice_2018 = dfc.where(filtre1 & filtre2).dropna().copy()\n",
    "df_exp_2018 = dfc.where(filtre3 & filtre2).dropna().copy()\n",
    "\n",
    "df_novice_2018_shuffled = df_novice_2018.sample(frac=1) #taille de la base : 1500\n",
    "phrases_novice_2018 = [df_novice_2018_shuffled.iloc[i]['tokenized_replique'].split(' ') for i in range(2 * 700)]\n",
    "\n",
    "WMD_novices_allmodel = [\n",
    "    w2v_model_all.wv.wmdistance(\n",
    "            add_groupe(phrases_novice_2018[i], '_Novice'), \n",
    "            add_groupe(phrases_novice_2018[i + 1], '_Novice')) \n",
    "    for i in range(0, 1400, 2)\n",
    "                        ]\n",
    "SI_N_2018 = SansInf(WMD_novices_allmodel)\n",
    "means_novice_allmodel_2018 = [moyenne(SI_N_2018[:i]) for i in range(1, 700)]\n",
    "\n",
    "fig,a =  plt.subplots(1,2)\n",
    "\n",
    "a[0].plot(means_novice_allmodel_2018)\n",
    "a[0].set_title(\"WMD des experts, allmodel, 2018\")\n",
    "\n",
    "a[1].plot([i for i in range(300,699)],means_novice_allmodel_2018[300:])\n",
    "a[1].set_title(\"Zoom sur les dernières valeurs\")\n",
    "\n",
    "plt.show()"
   ]
  },
  {
   "cell_type": "code",
   "execution_count": 24,
   "metadata": {},
   "outputs": [
    {
     "data": {
      "image/png": "[encoded data removed]",
      "text/plain": [
       "<Figure size 432x288 with 2 Axes>"
      ]
     },
     "metadata": {
      "needs_background": "light"
     },
     "output_type": "display_data"
    }
   ],
   "source": [
    "df_exp_2018_shuffled = df_exp_2018.sample(frac=1) #Taille de la base : 11583\n",
    "phrases_exp_2018 = [df_exp_2018_shuffled.iloc[i]['tokenized_replique'].split(' ') for i in range(2 *5500)]\n",
    "\n",
    "WMD_exp_allmodel = [\n",
    "    w2v_model_all.wv.wmdistance(\n",
    "            add_groupe(phrases_exp_2018[i], '_Exp'), \n",
    "            add_groupe(phrases_exp_2018[i + 1], '_Exp')) \n",
    "    for i in range(0, 11000, 2)\n",
    "                        ]\n",
    "\n",
    "SI_E_2019 = SansInf(WMD_exp_allmodel)\n",
    "means_exp_allmodel_2018 = [moyenne(SI_E_2019[:i]) for i in range(1, 5500)]\n",
    "\n",
    "fig,a =  plt.subplots(1,2)\n",
    "\n",
    "a[0].plot(means_exp_allmodel_2018)\n",
    "a[0].set_title(\"WMD des experts, allmodel, 2018\")\n",
    "\n",
    "a[1].plot([i for i in range(1500,5499)],means_exp_allmodel_2018[1500:])\n",
    "a[1].set_title(\"Zoom sur les dernières valeurs\")\n",
    "\n",
    "plt.show()"
   ]
  },
  {
   "cell_type": "markdown",
   "metadata": {},
   "source": [
    "### 2017"
   ]
  },
  {
   "cell_type": "code",
   "execution_count": 25,
   "metadata": {},
   "outputs": [
    {
     "data": {
      "image/png": "[encoded data removed]",
      "text/plain": [
       "<Figure size 432x288 with 2 Axes>"
      ]
     },
     "metadata": {
      "needs_background": "light"
     },
     "output_type": "display_data"
    }
   ],
   "source": [
    "filtre1 = dfc['Groupe'] == 'Novice'\n",
    "filtre2 = dfc['Annee'] == 2017\n",
    "filtre3 = dfc['Groupe'] == 'Exp'\n",
    "\n",
    "df_novice_2017 = dfc.where(filtre1 & filtre2).dropna().copy()\n",
    "df_exp_2017 = dfc.where(filtre3 & filtre2).dropna().copy()\n",
    "\n",
    "df_novice_2017_shuffled = df_novice_2017.sample(frac=1) #taille de la base : 825\n",
    "phrases_novice_2017 = [df_novice_2017_shuffled.iloc[i]['tokenized_replique'].split(' ') for i in range(2 * 400)]\n",
    "\n",
    "WMD_novices_allmodel = [\n",
    "    w2v_model_all.wv.wmdistance(\n",
    "            add_groupe(phrases_novice_2017[i], '_Novice'), \n",
    "            add_groupe(phrases_novice_2017[i + 1], '_Novice')) \n",
    "    for i in range(0, 800, 2)\n",
    "                        ]\n",
    "SI_N_2017 = SansInf(WMD_novices_allmodel)\n",
    "means_novice_allmodel_2017 = [moyenne(SI_N_2018[:i]) for i in range(1, 400)]\n",
    "\n",
    "fig,a =  plt.subplots(1,2)\n",
    "\n",
    "a[0].plot(means_novice_allmodel_2017)\n",
    "a[0].set_title(\"WMD des experts, allmodel, 2017\")\n",
    "\n",
    "a[1].plot([i for i in range(300,399)],means_novice_allmodel_2017[300:])\n",
    "a[1].set_title(\"Zoom sur les dernières valeurs\")\n",
    "\n",
    "plt.show()"
   ]
  },
  {
   "cell_type": "code",
   "execution_count": 26,
   "metadata": {},
   "outputs": [
    {
     "data": {
      "image/png": "[encoded data removed]",
      "text/plain": [
       "<Figure size 432x288 with 2 Axes>"
      ]
     },
     "metadata": {
      "needs_background": "light"
     },
     "output_type": "display_data"
    }
   ],
   "source": [
    "df_exp_2017_shuffled = df_exp_2017.sample(frac=1) #Taille de la base : 5705\n",
    "phrases_exp_2017 = [df_exp_2017_shuffled.iloc[i]['tokenized_replique'].split(' ') for i in range(2 *2800)]\n",
    "\n",
    "WMD_exp_allmodel = [\n",
    "    w2v_model_all.wv.wmdistance(\n",
    "            add_groupe(phrases_exp_2017[i], '_Exp'), \n",
    "            add_groupe(phrases_exp_2017[i + 1], '_Exp')) \n",
    "    for i in range(0, 5600, 2)\n",
    "                        ]\n",
    "\n",
    "SI_E_2017 = SansInf(WMD_exp_allmodel)\n",
    "means_exp_allmodel_2017 = [moyenne(SI_E_2017[:i]) for i in range(1, 2800)]\n",
    "\n",
    "fig,a =  plt.subplots(1,2)\n",
    "\n",
    "a[0].plot(means_exp_allmodel_2017)\n",
    "a[0].set_title(\"WMD des experts, allmodel, 2017\")\n",
    "\n",
    "a[1].plot([i for i in range(1500,2799)],means_exp_allmodel_2017[1500:])\n",
    "a[1].set_title(\"Zoom sur les dernières valeurs\")\n",
    "\n",
    "plt.show()"
   ]
  },
  {
   "cell_type": "code",
   "execution_count": 27,
   "metadata": {},
   "outputs": [],
   "source": [
    "#On va comparer les distances intra de chaque modele selon le temps"
   ]
  },
  {
   "cell_type": "code",
   "execution_count": 28,
   "metadata": {},
   "outputs": [
    {
     "data": {
      "image/png": "[encoded data removed]",
      "text/plain": [
       "<Figure size 432x288 with 4 Axes>"
      ]
     },
     "metadata": {
      "needs_background": "light"
     },
     "output_type": "display_data"
    }
   ],
   "source": [
    "fig, a = plt.subplots(1,4)\n",
    "\n",
    "a[3].plot([i for i in range(300,399)],means_novice_allmodel_2020[300:])\n",
    "a[3].set_title(\"novice allmodel 2020\")\n",
    "\n",
    "a[2].plot([i for i in range(200,499)],means_novice_allmodel_2019[200:])\n",
    "a[2].set_title(\"2019\")\n",
    "\n",
    "a[1].plot([i for i in range(1500,5499)],means_exp_allmodel_2018[1500:])\n",
    "a[1].set_title(\"2018\")\n",
    "\n",
    "a[0].plot([i for i in range(300,399)],means_novice_allmodel_2017[300:])\n",
    "a[0].set_title(\"2017\")\n",
    "\n",
    "plt.show()"
   ]
  },
  {
   "cell_type": "code",
   "execution_count": 29,
   "metadata": {},
   "outputs": [
    {
     "data": {
      "image/png": "[encoded data removed]",
      "text/plain": [
       "<Figure size 432x288 with 4 Axes>"
      ]
     },
     "metadata": {
      "needs_background": "light"
     },
     "output_type": "display_data"
    }
   ],
   "source": [
    "fig, a = plt.subplots(1,4)\n",
    "\n",
    "a[3].plot([i for i in range(1500,2499)],means_exp_allmodel_2020[1500:])\n",
    "a[3].set_title(\"2020\")\n",
    "\n",
    "a[2].plot([i for i in range(1500,3999)],means_exp_allmodel_2019[1500:])\n",
    "a[2].set_title(\"2019\")\n",
    "\n",
    "a[1].plot([i for i in range(300,699)],means_novice_allmodel_2018[300:])\n",
    "a[1].set_title(\"2018\")\n",
    "\n",
    "a[0].plot([i for i in range(1500,2799)],means_exp_allmodel_2017[1500:])\n",
    "a[0].set_title(\"2017\")\n",
    "\n",
    "plt.show()"
   ]
  },
  {
   "cell_type": "markdown",
   "metadata": {},
   "source": [
    "# Distance mesurée jour par jour"
   ]
  },
  {
   "cell_type": "code",
   "execution_count": 68,
   "metadata": {},
   "outputs": [],
   "source": [
    "dfd = dfc[['Date', 'Groupe', 'tokenized_replique']].copy()"
   ]
  },
  {
   "cell_type": "code",
   "execution_count": 69,
   "metadata": {},
   "outputs": [],
   "source": [
    "dfd['days'] = dfd.apply(lambda row : (datetime.date(int(row.Date[:4]),int(row.Date[5:7]),int(row.Date[8:])) - \n",
    "                    datetime.date(2017,6,28)).days, axis = 1)"
   ]
  },
  {
   "cell_type": "code",
   "execution_count": 167,
   "metadata": {},
   "outputs": [],
   "source": [
    "def calcule_WMD_intervalle(d1, d2):\n",
    "    \n",
    "    df0 = dfd[dfd['days'] >= d1]\n",
    "    df0 = df0[df0['days'] < d2]\n",
    "    \n",
    "    df_Novice = df0[df0['Groupe'] == 'Novice']\n",
    "    df_Exp = df0[df0['Groupe'] == 'Exp']\n",
    "    \n",
    "    try:\n",
    "        df_Novice = df0[df0['Groupe'] == 'Novice'].sample(50).dropna()\n",
    "        df_Exp = df0[df0['Groupe'] == 'Exp'].sample(50).dropna()\n",
    "        print(df_Exp.shape, df_Novice.shape)\n",
    "    except:\n",
    "        return np.nan\n",
    "    \n",
    "    phrases_Exp = [df_Exp.iloc[i]['tokenized_replique'].split(' ') for i in range(df_Exp.shape[0])]\n",
    "    phrases_Novice = [df_Novice.iloc[i]['tokenized_replique'].split(' ') for i in range(df_Novice.shape[0])]\n",
    "    \n",
    "    WMD = []\n",
    "    \n",
    "    \n",
    "\n",
    "    for i in phrases_Novice:\n",
    "        value = np.mean([w2v_model_all.wv.wmdistance(add_groupe(i, '_Novice'), \n",
    "                                                     add_groupe(j, '_Exp')) for j in phrases_Exp])\n",
    "        WMD.append(value)\n",
    "\n",
    "    return np.mean(WMD)\n",
    "    "
   ]
  },
  {
   "cell_type": "code",
   "execution_count": 168,
   "metadata": {},
   "outputs": [
    {
     "name": "stdout",
     "output_type": "stream",
     "text": [
      "(50, 4) (49, 4)\n"
     ]
    },
    {
     "data": {
      "text/plain": [
       "1.5083563458421048"
      ]
     },
     "execution_count": 168,
     "metadata": {},
     "output_type": "execute_result"
    }
   ],
   "source": [
    "calcule_WMD_intervalle(0, 15)"
   ]
  },
  {
   "cell_type": "code",
   "execution_count": 169,
   "metadata": {},
   "outputs": [
    {
     "data": {
      "text/plain": [
       "1093"
      ]
     },
     "execution_count": 169,
     "metadata": {},
     "output_type": "execute_result"
    }
   ],
   "source": [
    "max(dfd.days)"
   ]
  },
  {
   "cell_type": "code",
   "execution_count": 170,
   "metadata": {},
   "outputs": [
    {
     "name": "stdout",
     "output_type": "stream",
     "text": [
      "(50, 4) (50, 4)\n",
      "(50, 4) (50, 4)\n",
      "(50, 4) (50, 4)\n",
      "(50, 4) (50, 4)\n",
      "(50, 4) (50, 4)\n",
      "(50, 4) (50, 4)\n",
      "(50, 4) (50, 4)\n",
      "(50, 4) (50, 4)\n",
      "(50, 4) (50, 4)\n",
      "(50, 4) (50, 4)\n",
      "(50, 4) (50, 4)\n",
      "(50, 4) (50, 4)\n",
      "(50, 4) (50, 4)\n",
      "(49, 4) (50, 4)\n",
      "(50, 4) (50, 4)\n",
      "(50, 4) (50, 4)\n",
      "(50, 4) (50, 4)\n",
      "(50, 4) (50, 4)\n",
      "(50, 4) (50, 4)\n",
      "(50, 4) (50, 4)\n",
      "(50, 4) (50, 4)\n",
      "(50, 4) (50, 4)\n",
      "(50, 4) (50, 4)\n",
      "(50, 4) (50, 4)\n",
      "(50, 4) (50, 4)\n",
      "(49, 4) (50, 4)\n",
      "(50, 4) (50, 4)\n",
      "(50, 4) (50, 4)\n",
      "(50, 4) (50, 4)\n",
      "(50, 4) (50, 4)\n",
      "(50, 4) (50, 4)\n",
      "(50, 4) (50, 4)\n",
      "(50, 4) (50, 4)\n",
      "(50, 4) (50, 4)\n",
      "(50, 4) (50, 4)\n",
      "(50, 4) (50, 4)\n",
      "(50, 4) (50, 4)\n",
      "(49, 4) (50, 4)\n",
      "(50, 4) (50, 4)\n",
      "(50, 4) (50, 4)\n",
      "(50, 4) (50, 4)\n",
      "(50, 4) (50, 4)\n",
      "(50, 4) (50, 4)\n",
      "(50, 4) (50, 4)\n",
      "(50, 4) (50, 4)\n",
      "(50, 4) (50, 4)\n",
      "(50, 4) (50, 4)\n",
      "(50, 4) (50, 4)\n",
      "(50, 4) (50, 4)\n",
      "(49, 4) (50, 4)\n",
      "(49, 4) (50, 4)\n",
      "(50, 4) (50, 4)\n",
      "(50, 4) (50, 4)\n",
      "(50, 4) (50, 4)\n",
      "(50, 4) (50, 4)\n",
      "(50, 4) (50, 4)\n",
      "(50, 4) (50, 4)\n",
      "(50, 4) (50, 4)\n",
      "(50, 4) (50, 4)\n",
      "(50, 4) (50, 4)\n",
      "(49, 4) (50, 4)\n",
      "(50, 4) (50, 4)\n",
      "(50, 4) (50, 4)\n",
      "(50, 4) (50, 4)\n",
      "(50, 4) (50, 4)\n",
      "(50, 4) (50, 4)\n",
      "(50, 4) (50, 4)\n",
      "(50, 4) (50, 4)\n",
      "(49, 4) (50, 4)\n"
     ]
    }
   ],
   "source": [
    "L = [calcule_WMD_intervalle(i, i + 14) for i in range(0, 1094, 14)]"
   ]
  },
  {
   "cell_type": "code",
   "execution_count": 178,
   "metadata": {},
   "outputs": [
    {
     "data": {
      "application/vnd.plotly.v1+json": {
       "config": {
        "plotlyServerURL": "https://plot.ly"
       },
       "data": [
        {
         "hovertemplate": "variable=0<br>index=%{x}<br>value=%{y}<extra></extra>",
         "legendgroup": "0",
         "line": {
          "color": "#636efa",
          "dash": "solid"
         },
         "mode": "lines",
         "name": "0",
         "orientation": "v",
         "showlegend": true,
         "type": "scatter",
         "x": [
          0,
          1,
          2,
          3,
          4,
          5,
          6,
          7,
          8,
          9,
          10,
          11,
          12,
          13,
          14,
          15,
          16,
          17,
          18,
          19,
          20,
          21,
          22,
          23,
          24,
          25,
          26,
          27,
          28,
          29,
          30,
          31,
          32,
          33,
          34,
          35,
          36,
          37,
          38,
          39,
          40,
          41,
          42,
          43,
          44,
          45,
          46,
          47,
          48,
          49,
          50,
          51,
          52,
          53,
          54,
          55,
          56,
          57,
          58,
          59,
          60,
          61
         ],
         "xaxis": "x",
         "y": [
          1.4968018557000793,
          1.5070993097911838,
          1.5167754912127154,
          1.4953992758833101,
          1.512814691576481,
          1.5082596135104867,
          1.5019831055380042,
          1.5080495459371803,
          1.5115314963396103,
          1.495143545624914,
          1.4891076285558893,
          1.5007965956536182,
          1.4960068450356916,
          1.473075745676485,
          1.4843986064205663,
          1.4946166704115067,
          1.5050709019240898,
          1.5035679972936982,
          1.4879073559955607,
          1.5131634635114084,
          1.5148081060516494,
          1.5037369648505914,
          1.505554092133646,
          1.5192601679266433,
          1.5105839670637198,
          1.4934097642184172,
          1.5033537299957052,
          1.5080965997485245,
          1.5002204069196796,
          1.510982621239401,
          1.5026260556397653,
          1.5135202554323366,
          1.4946569309814879,
          1.505576061248011,
          1.4998650891229912,
          1.4985066244492966,
          1.505263856746595,
          1.4895767476151007,
          1.495477912015075,
          1.5105080518248861,
          1.4993464446281874,
          1.5032987037040482,
          1.501032368476283,
          1.5007459998246615,
          1.4969113546306423,
          1.505217771099986,
          1.495066321540885,
          1.4967996440218396,
          1.5135609300653008,
          1.4986010364919204,
          1.488594069044376,
          1.50548241087453,
          1.509887869987983,
          1.4979309827935885,
          1.5104046227385621,
          1.5039127684297007,
          1.5081400670138871,
          1.5088347628810976,
          1.5025097932306366,
          1.494683536015842,
          1.5118149524776456,
          1.497431074308741
         ],
         "yaxis": "y"
        }
       ],
       "layout": {
        "legend": {
         "title": {
          "text": "variable"
         },
         "tracegroupgap": 0
        },
        "margin": {
         "t": 60
        },
        "template": {
         "data": {
          "bar": [
           {
            "error_x": {
             "color": "#2a3f5f"
            },
            "error_y": {
             "color": "#2a3f5f"
            },
            "marker": {
             "line": {
              "color": "#E5ECF6",
              "width": 0.5
             }
            },
            "type": "bar"
           }
          ],
          "barpolar": [
           {
            "marker": {
             "line": {
              "color": "#E5ECF6",
              "width": 0.5
             }
            },
            "type": "barpolar"
           }
          ],
          "carpet": [
           {
            "aaxis": {
             "endlinecolor": "#2a3f5f",
             "gridcolor": "white",
             "linecolor": "white",
             "minorgridcolor": "white",
             "startlinecolor": "#2a3f5f"
            },
            "baxis": {
             "endlinecolor": "#2a3f5f",
             "gridcolor": "white",
             "linecolor": "white",
             "minorgridcolor": "white",
             "startlinecolor": "#2a3f5f"
            },
            "type": "carpet"
           }
          ],
          "choropleth": [
           {
            "colorbar": {
             "outlinewidth": 0,
             "ticks": ""
            },
            "type": "choropleth"
           }
          ],
          "contour": [
           {
            "colorbar": {
             "outlinewidth": 0,
             "ticks": ""
            },
            "colorscale": [
             [
              0,
              "#0d0887"
             ],
             [
              0.1111111111111111,
              "#46039f"
             ],
             [
              0.2222222222222222,
              "#7201a8"
             ],
             [
              0.3333333333333333,
              "#9c179e"
             ],
             [
              0.4444444444444444,
              "#bd3786"
             ],
             [
              0.5555555555555556,
              "#d8576b"
             ],
             [
              0.6666666666666666,
              "#ed7953"
             ],
             [
              0.7777777777777778,
              "#fb9f3a"
             ],
             [
              0.8888888888888888,
              "#fdca26"
             ],
             [
              1,
              "#f0f921"
             ]
            ],
            "type": "contour"
           }
          ],
          "contourcarpet": [
           {
            "colorbar": {
             "outlinewidth": 0,
             "ticks": ""
            },
            "type": "contourcarpet"
           }
          ],
          "heatmap": [
           {
            "colorbar": {
             "outlinewidth": 0,
             "ticks": ""
            },
            "colorscale": [
             [
              0,
              "#0d0887"
             ],
             [
              0.1111111111111111,
              "#46039f"
             ],
             [
              0.2222222222222222,
              "#7201a8"
             ],
             [
              0.3333333333333333,
              "#9c179e"
             ],
             [
              0.4444444444444444,
              "#bd3786"
             ],
             [
              0.5555555555555556,
              "#d8576b"
             ],
             [
              0.6666666666666666,
              "#ed7953"
             ],
             [
              0.7777777777777778,
              "#fb9f3a"
             ],
             [
              0.8888888888888888,
              "#fdca26"
             ],
             [
              1,
              "#f0f921"
             ]
            ],
            "type": "heatmap"
           }
          ],
          "heatmapgl": [
           {
            "colorbar": {
             "outlinewidth": 0,
             "ticks": ""
            },
            "colorscale": [
             [
              0,
              "#0d0887"
             ],
             [
              0.1111111111111111,
              "#46039f"
             ],
             [
              0.2222222222222222,
              "#7201a8"
             ],
             [
              0.3333333333333333,
              "#9c179e"
             ],
             [
              0.4444444444444444,
              "#bd3786"
             ],
             [
              0.5555555555555556,
              "#d8576b"
             ],
             [
              0.6666666666666666,
              "#ed7953"
             ],
             [
              0.7777777777777778,
              "#fb9f3a"
             ],
             [
              0.8888888888888888,
              "#fdca26"
             ],
             [
              1,
              "#f0f921"
             ]
            ],
            "type": "heatmapgl"
           }
          ],
          "histogram": [
           {
            "marker": {
             "colorbar": {
              "outlinewidth": 0,
              "ticks": ""
             }
            },
            "type": "histogram"
           }
          ],
          "histogram2d": [
           {
            "colorbar": {
             "outlinewidth": 0,
             "ticks": ""
            },
            "colorscale": [
             [
              0,
              "#0d0887"
             ],
             [
              0.1111111111111111,
              "#46039f"
             ],
             [
              0.2222222222222222,
              "#7201a8"
             ],
             [
              0.3333333333333333,
              "#9c179e"
             ],
             [
              0.4444444444444444,
              "#bd3786"
             ],
             [
              0.5555555555555556,
              "#d8576b"
             ],
             [
              0.6666666666666666,
              "#ed7953"
             ],
             [
              0.7777777777777778,
              "#fb9f3a"
             ],
             [
              0.8888888888888888,
              "#fdca26"
             ],
             [
              1,
              "#f0f921"
             ]
            ],
            "type": "histogram2d"
           }
          ],
          "histogram2dcontour": [
           {
            "colorbar": {
             "outlinewidth": 0,
             "ticks": ""
            },
            "colorscale": [
             [
              0,
              "#0d0887"
             ],
             [
              0.1111111111111111,
              "#46039f"
             ],
             [
              0.2222222222222222,
              "#7201a8"
             ],
             [
              0.3333333333333333,
              "#9c179e"
             ],
             [
              0.4444444444444444,
              "#bd3786"
             ],
             [
              0.5555555555555556,
              "#d8576b"
             ],
             [
              0.6666666666666666,
              "#ed7953"
             ],
             [
              0.7777777777777778,
              "#fb9f3a"
             ],
             [
              0.8888888888888888,
              "#fdca26"
             ],
             [
              1,
              "#f0f921"
             ]
            ],
            "type": "histogram2dcontour"
           }
          ],
          "mesh3d": [
           {
            "colorbar": {
             "outlinewidth": 0,
             "ticks": ""
            },
            "type": "mesh3d"
           }
          ],
          "parcoords": [
           {
            "line": {
             "colorbar": {
              "outlinewidth": 0,
              "ticks": ""
             }
            },
            "type": "parcoords"
           }
          ],
          "pie": [
           {
            "automargin": true,
            "type": "pie"
           }
          ],
          "scatter": [
           {
            "marker": {
             "colorbar": {
              "outlinewidth": 0,
              "ticks": ""
             }
            },
            "type": "scatter"
           }
          ],
          "scatter3d": [
           {
            "line": {
             "colorbar": {
              "outlinewidth": 0,
              "ticks": ""
             }
            },
            "marker": {
             "colorbar": {
              "outlinewidth": 0,
              "ticks": ""
             }
            },
            "type": "scatter3d"
           }
          ],
          "scattercarpet": [
           {
            "marker": {
             "colorbar": {
              "outlinewidth": 0,
              "ticks": ""
             }
            },
            "type": "scattercarpet"
           }
          ],
          "scattergeo": [
           {
            "marker": {
             "colorbar": {
              "outlinewidth": 0,
              "ticks": ""
             }
            },
            "type": "scattergeo"
           }
          ],
          "scattergl": [
           {
            "marker": {
             "colorbar": {
              "outlinewidth": 0,
              "ticks": ""
             }
            },
            "type": "scattergl"
           }
          ],
          "scattermapbox": [
           {
            "marker": {
             "colorbar": {
              "outlinewidth": 0,
              "ticks": ""
             }
            },
            "type": "scattermapbox"
           }
          ],
          "scatterpolar": [
           {
            "marker": {
             "colorbar": {
              "outlinewidth": 0,
              "ticks": ""
             }
            },
            "type": "scatterpolar"
           }
          ],
          "scatterpolargl": [
           {
            "marker": {
             "colorbar": {
              "outlinewidth": 0,
              "ticks": ""
             }
            },
            "type": "scatterpolargl"
           }
          ],
          "scatterternary": [
           {
            "marker": {
             "colorbar": {
              "outlinewidth": 0,
              "ticks": ""
             }
            },
            "type": "scatterternary"
           }
          ],
          "surface": [
           {
            "colorbar": {
             "outlinewidth": 0,
             "ticks": ""
            },
            "colorscale": [
             [
              0,
              "#0d0887"
             ],
             [
              0.1111111111111111,
              "#46039f"
             ],
             [
              0.2222222222222222,
              "#7201a8"
             ],
             [
              0.3333333333333333,
              "#9c179e"
             ],
             [
              0.4444444444444444,
              "#bd3786"
             ],
             [
              0.5555555555555556,
              "#d8576b"
             ],
             [
              0.6666666666666666,
              "#ed7953"
             ],
             [
              0.7777777777777778,
              "#fb9f3a"
             ],
             [
              0.8888888888888888,
              "#fdca26"
             ],
             [
              1,
              "#f0f921"
             ]
            ],
            "type": "surface"
           }
          ],
          "table": [
           {
            "cells": {
             "fill": {
              "color": "#EBF0F8"
             },
             "line": {
              "color": "white"
             }
            },
            "header": {
             "fill": {
              "color": "#C8D4E3"
             },
             "line": {
              "color": "white"
             }
            },
            "type": "table"
           }
          ]
         },
         "layout": {
          "annotationdefaults": {
           "arrowcolor": "#2a3f5f",
           "arrowhead": 0,
           "arrowwidth": 1
          },
          "autotypenumbers": "strict",
          "coloraxis": {
           "colorbar": {
            "outlinewidth": 0,
            "ticks": ""
           }
          },
          "colorscale": {
           "diverging": [
            [
             0,
             "#8e0152"
            ],
            [
             0.1,
             "#c51b7d"
            ],
            [
             0.2,
             "#de77ae"
            ],
            [
             0.3,
             "#f1b6da"
            ],
            [
             0.4,
             "#fde0ef"
            ],
            [
             0.5,
             "#f7f7f7"
            ],
            [
             0.6,
             "#e6f5d0"
            ],
            [
             0.7,
             "#b8e186"
            ],
            [
             0.8,
             "#7fbc41"
            ],
            [
             0.9,
             "#4d9221"
            ],
            [
             1,
             "#276419"
            ]
           ],
           "sequential": [
            [
             0,
             "#0d0887"
            ],
            [
             0.1111111111111111,
             "#46039f"
            ],
            [
             0.2222222222222222,
             "#7201a8"
            ],
            [
             0.3333333333333333,
             "#9c179e"
            ],
            [
             0.4444444444444444,
             "#bd3786"
            ],
            [
             0.5555555555555556,
             "#d8576b"
            ],
            [
             0.6666666666666666,
             "#ed7953"
            ],
            [
             0.7777777777777778,
             "#fb9f3a"
            ],
            [
             0.8888888888888888,
             "#fdca26"
            ],
            [
             1,
             "#f0f921"
            ]
           ],
           "sequentialminus": [
            [
             0,
             "#0d0887"
            ],
            [
             0.1111111111111111,
             "#46039f"
            ],
            [
             0.2222222222222222,
             "#7201a8"
            ],
            [
             0.3333333333333333,
             "#9c179e"
            ],
            [
             0.4444444444444444,
             "#bd3786"
            ],
            [
             0.5555555555555556,
             "#d8576b"
            ],
            [
             0.6666666666666666,
             "#ed7953"
            ],
            [
             0.7777777777777778,
             "#fb9f3a"
            ],
            [
             0.8888888888888888,
             "#fdca26"
            ],
            [
             1,
             "#f0f921"
            ]
           ]
          },
          "colorway": [
           "#636efa",
           "#EF553B",
           "#00cc96",
           "#ab63fa",
           "#FFA15A",
           "#19d3f3",
           "#FF6692",
           "#B6E880",
           "#FF97FF",
           "#FECB52"
          ],
          "font": {
           "color": "#2a3f5f"
          },
          "geo": {
           "bgcolor": "white",
           "lakecolor": "white",
           "landcolor": "#E5ECF6",
           "showlakes": true,
           "showland": true,
           "subunitcolor": "white"
          },
          "hoverlabel": {
           "align": "left"
          },
          "hovermode": "closest",
          "mapbox": {
           "style": "light"
          },
          "paper_bgcolor": "white",
          "plot_bgcolor": "#E5ECF6",
          "polar": {
           "angularaxis": {
            "gridcolor": "white",
            "linecolor": "white",
            "ticks": ""
           },
           "bgcolor": "#E5ECF6",
           "radialaxis": {
            "gridcolor": "white",
            "linecolor": "white",
            "ticks": ""
           }
          },
          "scene": {
           "xaxis": {
            "backgroundcolor": "#E5ECF6",
            "gridcolor": "white",
            "gridwidth": 2,
            "linecolor": "white",
            "showbackground": true,
            "ticks": "",
            "zerolinecolor": "white"
           },
           "yaxis": {
            "backgroundcolor": "#E5ECF6",
            "gridcolor": "white",
            "gridwidth": 2,
            "linecolor": "white",
            "showbackground": true,
            "ticks": "",
            "zerolinecolor": "white"
           },
           "zaxis": {
            "backgroundcolor": "#E5ECF6",
            "gridcolor": "white",
            "gridwidth": 2,
            "linecolor": "white",
            "showbackground": true,
            "ticks": "",
            "zerolinecolor": "white"
           }
          },
          "shapedefaults": {
           "line": {
            "color": "#2a3f5f"
           }
          },
          "ternary": {
           "aaxis": {
            "gridcolor": "white",
            "linecolor": "white",
            "ticks": ""
           },
           "baxis": {
            "gridcolor": "white",
            "linecolor": "white",
            "ticks": ""
           },
           "bgcolor": "#E5ECF6",
           "caxis": {
            "gridcolor": "white",
            "linecolor": "white",
            "ticks": ""
           }
          },
          "title": {
           "x": 0.05
          },
          "xaxis": {
           "automargin": true,
           "gridcolor": "white",
           "linecolor": "white",
           "ticks": "",
           "title": {
            "standoff": 15
           },
           "zerolinecolor": "white",
           "zerolinewidth": 2
          },
          "yaxis": {
           "automargin": true,
           "gridcolor": "white",
           "linecolor": "white",
           "ticks": "",
           "title": {
            "standoff": 15
           },
           "zerolinecolor": "white",
           "zerolinewidth": 2
          }
         }
        },
        "xaxis": {
         "anchor": "y",
         "domain": [
          0,
          1
         ],
         "title": {
          "text": "index"
         }
        },
        "yaxis": {
         "anchor": "x",
         "domain": [
          0,
          1
         ],
         "title": {
          "text": "value"
         }
        }
       }
      },
      "text/html": [
       "<div>                            <div id=\"c8f077ab-3916-4e8d-aaeb-189fc6f57b51\" class=\"plotly-graph-div\" style=\"height:525px; width:100%;\"></div>            <script type=\"text/javascript\">                require([\"plotly\"], function(Plotly) {                    window.PLOTLYENV=window.PLOTLYENV || {};                                    if (document.getElementById(\"c8f077ab-3916-4e8d-aaeb-189fc6f57b51\")) {                    Plotly.newPlot(                        \"c8f077ab-3916-4e8d-aaeb-189fc6f57b51\",                        [{\"hovertemplate\": \"variable=0<br>index=%{x}<br>value=%{y}<extra></extra>\", \"legendgroup\": \"0\", \"line\": {\"color\": \"#636efa\", \"dash\": \"solid\"}, \"mode\": \"lines\", \"name\": \"0\", \"orientation\": \"v\", \"showlegend\": true, \"type\": \"scatter\", \"x\": [0, 1, 2, 3, 4, 5, 6, 7, 8, 9, 10, 11, 12, 13, 14, 15, 16, 17, 18, 19, 20, 21, 22, 23, 24, 25, 26, 27, 28, 29, 30, 31, 32, 33, 34, 35, 36, 37, 38, 39, 40, 41, 42, 43, 44, 45, 46, 47, 48, 49, 50, 51, 52, 53, 54, 55, 56, 57, 58, 59, 60, 61], \"xaxis\": \"x\", \"y\": [1.4968018557000793, 1.5070993097911838, 1.5167754912127154, 1.4953992758833101, 1.512814691576481, 1.5082596135104867, 1.5019831055380042, 1.5080495459371803, 1.5115314963396103, 1.495143545624914, 1.4891076285558893, 1.5007965956536182, 1.4960068450356916, 1.473075745676485, 1.4843986064205663, 1.4946166704115067, 1.5050709019240898, 1.5035679972936982, 1.4879073559955607, 1.5131634635114084, 1.5148081060516494, 1.5037369648505914, 1.505554092133646, 1.5192601679266433, 1.5105839670637198, 1.4934097642184172, 1.5033537299957052, 1.5080965997485245, 1.5002204069196796, 1.510982621239401, 1.5026260556397653, 1.5135202554323366, 1.4946569309814879, 1.505576061248011, 1.4998650891229912, 1.4985066244492966, 1.505263856746595, 1.4895767476151007, 1.495477912015075, 1.5105080518248861, 1.4993464446281874, 1.5032987037040482, 1.501032368476283, 1.5007459998246615, 1.4969113546306423, 1.505217771099986, 1.495066321540885, 1.4967996440218396, 1.5135609300653008, 1.4986010364919204, 1.488594069044376, 1.50548241087453, 1.509887869987983, 1.4979309827935885, 1.5104046227385621, 1.5039127684297007, 1.5081400670138871, 1.5088347628810976, 1.5025097932306366, 1.494683536015842, 1.5118149524776456, 1.497431074308741], \"yaxis\": \"y\"}],                        {\"legend\": {\"title\": {\"text\": \"variable\"}, \"tracegroupgap\": 0}, \"margin\": {\"t\": 60}, \"template\": {\"data\": {\"bar\": [{\"error_x\": {\"color\": \"#2a3f5f\"}, \"error_y\": {\"color\": \"#2a3f5f\"}, \"marker\": {\"line\": {\"color\": \"#E5ECF6\", \"width\": 0.5}}, \"type\": \"bar\"}], \"barpolar\": [{\"marker\": {\"line\": {\"color\": \"#E5ECF6\", \"width\": 0.5}}, \"type\": \"barpolar\"}], \"carpet\": [{\"aaxis\": {\"endlinecolor\": \"#2a3f5f\", \"gridcolor\": \"white\", \"linecolor\": \"white\", \"minorgridcolor\": \"white\", \"startlinecolor\": \"#2a3f5f\"}, \"baxis\": {\"endlinecolor\": \"#2a3f5f\", \"gridcolor\": \"white\", \"linecolor\": \"white\", \"minorgridcolor\": \"white\", \"startlinecolor\": \"#2a3f5f\"}, \"type\": \"carpet\"}], \"choropleth\": [{\"colorbar\": {\"outlinewidth\": 0, \"ticks\": \"\"}, \"type\": \"choropleth\"}], \"contour\": [{\"colorbar\": {\"outlinewidth\": 0, \"ticks\": \"\"}, \"colorscale\": [[0.0, \"#0d0887\"], [0.1111111111111111, \"#46039f\"], [0.2222222222222222, \"#7201a8\"], [0.3333333333333333, \"#9c179e\"], [0.4444444444444444, \"#bd3786\"], [0.5555555555555556, \"#d8576b\"], [0.6666666666666666, \"#ed7953\"], [0.7777777777777778, \"#fb9f3a\"], [0.8888888888888888, \"#fdca26\"], [1.0, \"#f0f921\"]], \"type\": \"contour\"}], \"contourcarpet\": [{\"colorbar\": {\"outlinewidth\": 0, \"ticks\": \"\"}, \"type\": \"contourcarpet\"}], \"heatmap\": [{\"colorbar\": {\"outlinewidth\": 0, \"ticks\": \"\"}, \"colorscale\": [[0.0, \"#0d0887\"], [0.1111111111111111, \"#46039f\"], [0.2222222222222222, \"#7201a8\"], [0.3333333333333333, \"#9c179e\"], [0.4444444444444444, \"#bd3786\"], [0.5555555555555556, \"#d8576b\"], [0.6666666666666666, \"#ed7953\"], [0.7777777777777778, \"#fb9f3a\"], [0.8888888888888888, \"#fdca26\"], [1.0, \"#f0f921\"]], \"type\": \"heatmap\"}], \"heatmapgl\": [{\"colorbar\": {\"outlinewidth\": 0, \"ticks\": \"\"}, \"colorscale\": [[0.0, \"#0d0887\"], [0.1111111111111111, \"#46039f\"], [0.2222222222222222, \"#7201a8\"], [0.3333333333333333, \"#9c179e\"], [0.4444444444444444, \"#bd3786\"], [0.5555555555555556, \"#d8576b\"], [0.6666666666666666, \"#ed7953\"], [0.7777777777777778, \"#fb9f3a\"], [0.8888888888888888, \"#fdca26\"], [1.0, \"#f0f921\"]], \"type\": \"heatmapgl\"}], \"histogram\": [{\"marker\": {\"colorbar\": {\"outlinewidth\": 0, \"ticks\": \"\"}}, \"type\": \"histogram\"}], \"histogram2d\": [{\"colorbar\": {\"outlinewidth\": 0, \"ticks\": \"\"}, \"colorscale\": [[0.0, \"#0d0887\"], [0.1111111111111111, \"#46039f\"], [0.2222222222222222, \"#7201a8\"], [0.3333333333333333, \"#9c179e\"], [0.4444444444444444, \"#bd3786\"], [0.5555555555555556, \"#d8576b\"], [0.6666666666666666, \"#ed7953\"], [0.7777777777777778, \"#fb9f3a\"], [0.8888888888888888, \"#fdca26\"], [1.0, \"#f0f921\"]], \"type\": \"histogram2d\"}], \"histogram2dcontour\": [{\"colorbar\": {\"outlinewidth\": 0, \"ticks\": \"\"}, \"colorscale\": [[0.0, \"#0d0887\"], [0.1111111111111111, \"#46039f\"], [0.2222222222222222, \"#7201a8\"], [0.3333333333333333, \"#9c179e\"], [0.4444444444444444, \"#bd3786\"], [0.5555555555555556, \"#d8576b\"], [0.6666666666666666, \"#ed7953\"], [0.7777777777777778, \"#fb9f3a\"], [0.8888888888888888, \"#fdca26\"], [1.0, \"#f0f921\"]], \"type\": \"histogram2dcontour\"}], \"mesh3d\": [{\"colorbar\": {\"outlinewidth\": 0, \"ticks\": \"\"}, \"type\": \"mesh3d\"}], \"parcoords\": [{\"line\": {\"colorbar\": {\"outlinewidth\": 0, \"ticks\": \"\"}}, \"type\": \"parcoords\"}], \"pie\": [{\"automargin\": true, \"type\": \"pie\"}], \"scatter\": [{\"marker\": {\"colorbar\": {\"outlinewidth\": 0, \"ticks\": \"\"}}, \"type\": \"scatter\"}], \"scatter3d\": [{\"line\": {\"colorbar\": {\"outlinewidth\": 0, \"ticks\": \"\"}}, \"marker\": {\"colorbar\": {\"outlinewidth\": 0, \"ticks\": \"\"}}, \"type\": \"scatter3d\"}], \"scattercarpet\": [{\"marker\": {\"colorbar\": {\"outlinewidth\": 0, \"ticks\": \"\"}}, \"type\": \"scattercarpet\"}], \"scattergeo\": [{\"marker\": {\"colorbar\": {\"outlinewidth\": 0, \"ticks\": \"\"}}, \"type\": \"scattergeo\"}], \"scattergl\": [{\"marker\": {\"colorbar\": {\"outlinewidth\": 0, \"ticks\": \"\"}}, \"type\": \"scattergl\"}], \"scattermapbox\": [{\"marker\": {\"colorbar\": {\"outlinewidth\": 0, \"ticks\": \"\"}}, \"type\": \"scattermapbox\"}], \"scatterpolar\": [{\"marker\": {\"colorbar\": {\"outlinewidth\": 0, \"ticks\": \"\"}}, \"type\": \"scatterpolar\"}], \"scatterpolargl\": [{\"marker\": {\"colorbar\": {\"outlinewidth\": 0, \"ticks\": \"\"}}, \"type\": \"scatterpolargl\"}], \"scatterternary\": [{\"marker\": {\"colorbar\": {\"outlinewidth\": 0, \"ticks\": \"\"}}, \"type\": \"scatterternary\"}], \"surface\": [{\"colorbar\": {\"outlinewidth\": 0, \"ticks\": \"\"}, \"colorscale\": [[0.0, \"#0d0887\"], [0.1111111111111111, \"#46039f\"], [0.2222222222222222, \"#7201a8\"], [0.3333333333333333, \"#9c179e\"], [0.4444444444444444, \"#bd3786\"], [0.5555555555555556, \"#d8576b\"], [0.6666666666666666, \"#ed7953\"], [0.7777777777777778, \"#fb9f3a\"], [0.8888888888888888, \"#fdca26\"], [1.0, \"#f0f921\"]], \"type\": \"surface\"}], \"table\": [{\"cells\": {\"fill\": {\"color\": \"#EBF0F8\"}, \"line\": {\"color\": \"white\"}}, \"header\": {\"fill\": {\"color\": \"#C8D4E3\"}, \"line\": {\"color\": \"white\"}}, \"type\": \"table\"}]}, \"layout\": {\"annotationdefaults\": {\"arrowcolor\": \"#2a3f5f\", \"arrowhead\": 0, \"arrowwidth\": 1}, \"autotypenumbers\": \"strict\", \"coloraxis\": {\"colorbar\": {\"outlinewidth\": 0, \"ticks\": \"\"}}, \"colorscale\": {\"diverging\": [[0, \"#8e0152\"], [0.1, \"#c51b7d\"], [0.2, \"#de77ae\"], [0.3, \"#f1b6da\"], [0.4, \"#fde0ef\"], [0.5, \"#f7f7f7\"], [0.6, \"#e6f5d0\"], [0.7, \"#b8e186\"], [0.8, \"#7fbc41\"], [0.9, \"#4d9221\"], [1, \"#276419\"]], \"sequential\": [[0.0, \"#0d0887\"], [0.1111111111111111, \"#46039f\"], [0.2222222222222222, \"#7201a8\"], [0.3333333333333333, \"#9c179e\"], [0.4444444444444444, \"#bd3786\"], [0.5555555555555556, \"#d8576b\"], [0.6666666666666666, \"#ed7953\"], [0.7777777777777778, \"#fb9f3a\"], [0.8888888888888888, \"#fdca26\"], [1.0, \"#f0f921\"]], \"sequentialminus\": [[0.0, \"#0d0887\"], [0.1111111111111111, \"#46039f\"], [0.2222222222222222, \"#7201a8\"], [0.3333333333333333, \"#9c179e\"], [0.4444444444444444, \"#bd3786\"], [0.5555555555555556, \"#d8576b\"], [0.6666666666666666, \"#ed7953\"], [0.7777777777777778, \"#fb9f3a\"], [0.8888888888888888, \"#fdca26\"], [1.0, \"#f0f921\"]]}, \"colorway\": [\"#636efa\", \"#EF553B\", \"#00cc96\", \"#ab63fa\", \"#FFA15A\", \"#19d3f3\", \"#FF6692\", \"#B6E880\", \"#FF97FF\", \"#FECB52\"], \"font\": {\"color\": \"#2a3f5f\"}, \"geo\": {\"bgcolor\": \"white\", \"lakecolor\": \"white\", \"landcolor\": \"#E5ECF6\", \"showlakes\": true, \"showland\": true, \"subunitcolor\": \"white\"}, \"hoverlabel\": {\"align\": \"left\"}, \"hovermode\": \"closest\", \"mapbox\": {\"style\": \"light\"}, \"paper_bgcolor\": \"white\", \"plot_bgcolor\": \"#E5ECF6\", \"polar\": {\"angularaxis\": {\"gridcolor\": \"white\", \"linecolor\": \"white\", \"ticks\": \"\"}, \"bgcolor\": \"#E5ECF6\", \"radialaxis\": {\"gridcolor\": \"white\", \"linecolor\": \"white\", \"ticks\": \"\"}}, \"scene\": {\"xaxis\": {\"backgroundcolor\": \"#E5ECF6\", \"gridcolor\": \"white\", \"gridwidth\": 2, \"linecolor\": \"white\", \"showbackground\": true, \"ticks\": \"\", \"zerolinecolor\": \"white\"}, \"yaxis\": {\"backgroundcolor\": \"#E5ECF6\", \"gridcolor\": \"white\", \"gridwidth\": 2, \"linecolor\": \"white\", \"showbackground\": true, \"ticks\": \"\", \"zerolinecolor\": \"white\"}, \"zaxis\": {\"backgroundcolor\": \"#E5ECF6\", \"gridcolor\": \"white\", \"gridwidth\": 2, \"linecolor\": \"white\", \"showbackground\": true, \"ticks\": \"\", \"zerolinecolor\": \"white\"}}, \"shapedefaults\": {\"line\": {\"color\": \"#2a3f5f\"}}, \"ternary\": {\"aaxis\": {\"gridcolor\": \"white\", \"linecolor\": \"white\", \"ticks\": \"\"}, \"baxis\": {\"gridcolor\": \"white\", \"linecolor\": \"white\", \"ticks\": \"\"}, \"bgcolor\": \"#E5ECF6\", \"caxis\": {\"gridcolor\": \"white\", \"linecolor\": \"white\", \"ticks\": \"\"}}, \"title\": {\"x\": 0.05}, \"xaxis\": {\"automargin\": true, \"gridcolor\": \"white\", \"linecolor\": \"white\", \"ticks\": \"\", \"title\": {\"standoff\": 15}, \"zerolinecolor\": \"white\", \"zerolinewidth\": 2}, \"yaxis\": {\"automargin\": true, \"gridcolor\": \"white\", \"linecolor\": \"white\", \"ticks\": \"\", \"title\": {\"standoff\": 15}, \"zerolinecolor\": \"white\", \"zerolinewidth\": 2}}}, \"xaxis\": {\"anchor\": \"y\", \"domain\": [0.0, 1.0], \"title\": {\"text\": \"index\"}}, \"yaxis\": {\"anchor\": \"x\", \"domain\": [0.0, 1.0], \"title\": {\"text\": \"value\"}}},                        {\"responsive\": true}                    ).then(function(){\n",
       "                            \n",
       "var gd = document.getElementById('c8f077ab-3916-4e8d-aaeb-189fc6f57b51');\n",
       "var x = new MutationObserver(function (mutations, observer) {{\n",
       "        var display = window.getComputedStyle(gd).display;\n",
       "        if (!display || display === 'none') {{\n",
       "            console.log([gd, 'removed!']);\n",
       "            Plotly.purge(gd);\n",
       "            observer.disconnect();\n",
       "        }}\n",
       "}});\n",
       "\n",
       "// Listen for the removal of the full notebook cells\n",
       "var notebookContainer = gd.closest('#notebook-container');\n",
       "if (notebookContainer) {{\n",
       "    x.observe(notebookContainer, {childList: true});\n",
       "}}\n",
       "\n",
       "// Listen for the clearing of the current output cell\n",
       "var outputEl = gd.closest('.output');\n",
       "if (outputEl) {{\n",
       "    x.observe(outputEl, {childList: true});\n",
       "}}\n",
       "\n",
       "                        })                };                });            </script>        </div>"
      ]
     },
     "metadata": {},
     "output_type": "display_data"
    }
   ],
   "source": [
    "px.line([i for i in L if not(str(i) in ['nan', 'inf'])])"
   ]
  },
  {
   "cell_type": "code",
   "execution_count": 179,
   "metadata": {},
   "outputs": [],
   "source": [
    "M = [i for i in L if not(str(i) in ['nan', 'inf'])]"
   ]
  },
  {
   "cell_type": "code",
   "execution_count": 183,
   "metadata": {},
   "outputs": [
    {
     "data": {
      "application/vnd.plotly.v1+json": {
       "config": {
        "plotlyServerURL": "https://plot.ly"
       },
       "data": [
        {
         "hovertemplate": "variable=0<br>index=%{x}<br>value=%{y}<extra></extra>",
         "legendgroup": "0",
         "line": {
          "color": "#636efa",
          "dash": "solid"
         },
         "mode": "lines",
         "name": "0",
         "orientation": "v",
         "showlegend": true,
         "type": "scatter",
         "x": [
          0,
          1,
          2,
          3,
          4,
          5,
          6,
          7,
          8,
          9,
          10,
          11,
          12,
          13,
          14,
          15,
          16,
          17,
          18,
          19,
          20,
          21,
          22,
          23,
          24,
          25,
          26,
          27,
          28,
          29,
          30,
          31,
          32,
          33,
          34,
          35,
          36,
          37,
          38,
          39,
          40,
          41,
          42,
          43,
          44,
          45,
          46,
          47,
          48,
          49,
          50,
          51,
          52,
          53,
          54,
          55,
          56,
          57,
          58,
          59,
          60
         ],
         "xaxis": "x",
         "y": [
          1.4968018557000793,
          1.5019505827456316,
          1.506892218901326,
          1.504018983146822,
          1.5057781248327538,
          1.5061917062790426,
          1.5055904776017515,
          1.5058978611436802,
          1.5065238206098948,
          1.5053857931113968,
          1.5039059599699869,
          1.503646846276956,
          1.5030591538737819,
          1.5009174818596893,
          1.499816223497081,
          1.4994912514292325,
          1.4998194661642241,
          1.5000277178936392,
          1.4993898041095297,
          1.5000784870796235,
          1.500779897506863,
          1.5009143096588504,
          1.5011160393316676,
          1.501872044689792,
          1.502220521584749,
          1.5018816463014286,
          1.501936167919735,
          1.502156183342192,
          1.5020894324310707,
          1.502385872058015,
          1.5023936199154908,
          1.5027413272753924,
          1.5024963455695164,
          1.5025869254424133,
          1.50250915869043,
          1.502397977183732,
          1.5024754333881336,
          1.5021359942888433,
          1.5019652742305416,
          1.5021788436704002,
          1.5021097607669316,
          1.502138068932101,
          1.5021123549680122,
          1.502081301442027,
          1.5019664137351072,
          1.5020370954169524,
          1.501888781079164,
          1.5017827573904696,
          1.5020231282613843,
          1.5019546864259952,
          1.5016927135361595,
          1.5017655923311284,
          1.5019188428529557,
          1.501844993592597,
          1.5020006232134329,
          1.5020347686637232,
          1.5021418791610945,
          1.5022572737079911,
          1.5022615536999004,
          1.502135253405166,
          1.5022939369965183
         ],
         "yaxis": "y"
        }
       ],
       "layout": {
        "legend": {
         "title": {
          "text": "variable"
         },
         "tracegroupgap": 0
        },
        "margin": {
         "t": 60
        },
        "template": {
         "data": {
          "bar": [
           {
            "error_x": {
             "color": "#2a3f5f"
            },
            "error_y": {
             "color": "#2a3f5f"
            },
            "marker": {
             "line": {
              "color": "#E5ECF6",
              "width": 0.5
             }
            },
            "type": "bar"
           }
          ],
          "barpolar": [
           {
            "marker": {
             "line": {
              "color": "#E5ECF6",
              "width": 0.5
             }
            },
            "type": "barpolar"
           }
          ],
          "carpet": [
           {
            "aaxis": {
             "endlinecolor": "#2a3f5f",
             "gridcolor": "white",
             "linecolor": "white",
             "minorgridcolor": "white",
             "startlinecolor": "#2a3f5f"
            },
            "baxis": {
             "endlinecolor": "#2a3f5f",
             "gridcolor": "white",
             "linecolor": "white",
             "minorgridcolor": "white",
             "startlinecolor": "#2a3f5f"
            },
            "type": "carpet"
           }
          ],
          "choropleth": [
           {
            "colorbar": {
             "outlinewidth": 0,
             "ticks": ""
            },
            "type": "choropleth"
           }
          ],
          "contour": [
           {
            "colorbar": {
             "outlinewidth": 0,
             "ticks": ""
            },
            "colorscale": [
             [
              0,
              "#0d0887"
             ],
             [
              0.1111111111111111,
              "#46039f"
             ],
             [
              0.2222222222222222,
              "#7201a8"
             ],
             [
              0.3333333333333333,
              "#9c179e"
             ],
             [
              0.4444444444444444,
              "#bd3786"
             ],
             [
              0.5555555555555556,
              "#d8576b"
             ],
             [
              0.6666666666666666,
              "#ed7953"
             ],
             [
              0.7777777777777778,
              "#fb9f3a"
             ],
             [
              0.8888888888888888,
              "#fdca26"
             ],
             [
              1,
              "#f0f921"
             ]
            ],
            "type": "contour"
           }
          ],
          "contourcarpet": [
           {
            "colorbar": {
             "outlinewidth": 0,
             "ticks": ""
            },
            "type": "contourcarpet"
           }
          ],
          "heatmap": [
           {
            "colorbar": {
             "outlinewidth": 0,
             "ticks": ""
            },
            "colorscale": [
             [
              0,
              "#0d0887"
             ],
             [
              0.1111111111111111,
              "#46039f"
             ],
             [
              0.2222222222222222,
              "#7201a8"
             ],
             [
              0.3333333333333333,
              "#9c179e"
             ],
             [
              0.4444444444444444,
              "#bd3786"
             ],
             [
              0.5555555555555556,
              "#d8576b"
             ],
             [
              0.6666666666666666,
              "#ed7953"
             ],
             [
              0.7777777777777778,
              "#fb9f3a"
             ],
             [
              0.8888888888888888,
              "#fdca26"
             ],
             [
              1,
              "#f0f921"
             ]
            ],
            "type": "heatmap"
           }
          ],
          "heatmapgl": [
           {
            "colorbar": {
             "outlinewidth": 0,
             "ticks": ""
            },
            "colorscale": [
             [
              0,
              "#0d0887"
             ],
             [
              0.1111111111111111,
              "#46039f"
             ],
             [
              0.2222222222222222,
              "#7201a8"
             ],
             [
              0.3333333333333333,
              "#9c179e"
             ],
             [
              0.4444444444444444,
              "#bd3786"
             ],
             [
              0.5555555555555556,
              "#d8576b"
             ],
             [
              0.6666666666666666,
              "#ed7953"
             ],
             [
              0.7777777777777778,
              "#fb9f3a"
             ],
             [
              0.8888888888888888,
              "#fdca26"
             ],
             [
              1,
              "#f0f921"
             ]
            ],
            "type": "heatmapgl"
           }
          ],
          "histogram": [
           {
            "marker": {
             "colorbar": {
              "outlinewidth": 0,
              "ticks": ""
             }
            },
            "type": "histogram"
           }
          ],
          "histogram2d": [
           {
            "colorbar": {
             "outlinewidth": 0,
             "ticks": ""
            },
            "colorscale": [
             [
              0,
              "#0d0887"
             ],
             [
              0.1111111111111111,
              "#46039f"
             ],
             [
              0.2222222222222222,
              "#7201a8"
             ],
             [
              0.3333333333333333,
              "#9c179e"
             ],
             [
              0.4444444444444444,
              "#bd3786"
             ],
             [
              0.5555555555555556,
              "#d8576b"
             ],
             [
              0.6666666666666666,
              "#ed7953"
             ],
             [
              0.7777777777777778,
              "#fb9f3a"
             ],
             [
              0.8888888888888888,
              "#fdca26"
             ],
             [
              1,
              "#f0f921"
             ]
            ],
            "type": "histogram2d"
           }
          ],
          "histogram2dcontour": [
           {
            "colorbar": {
             "outlinewidth": 0,
             "ticks": ""
            },
            "colorscale": [
             [
              0,
              "#0d0887"
             ],
             [
              0.1111111111111111,
              "#46039f"
             ],
             [
              0.2222222222222222,
              "#7201a8"
             ],
             [
              0.3333333333333333,
              "#9c179e"
             ],
             [
              0.4444444444444444,
              "#bd3786"
             ],
             [
              0.5555555555555556,
              "#d8576b"
             ],
             [
              0.6666666666666666,
              "#ed7953"
             ],
             [
              0.7777777777777778,
              "#fb9f3a"
             ],
             [
              0.8888888888888888,
              "#fdca26"
             ],
             [
              1,
              "#f0f921"
             ]
            ],
            "type": "histogram2dcontour"
           }
          ],
          "mesh3d": [
           {
            "colorbar": {
             "outlinewidth": 0,
             "ticks": ""
            },
            "type": "mesh3d"
           }
          ],
          "parcoords": [
           {
            "line": {
             "colorbar": {
              "outlinewidth": 0,
              "ticks": ""
             }
            },
            "type": "parcoords"
           }
          ],
          "pie": [
           {
            "automargin": true,
            "type": "pie"
           }
          ],
          "scatter": [
           {
            "marker": {
             "colorbar": {
              "outlinewidth": 0,
              "ticks": ""
             }
            },
            "type": "scatter"
           }
          ],
          "scatter3d": [
           {
            "line": {
             "colorbar": {
              "outlinewidth": 0,
              "ticks": ""
             }
            },
            "marker": {
             "colorbar": {
              "outlinewidth": 0,
              "ticks": ""
             }
            },
            "type": "scatter3d"
           }
          ],
          "scattercarpet": [
           {
            "marker": {
             "colorbar": {
              "outlinewidth": 0,
              "ticks": ""
             }
            },
            "type": "scattercarpet"
           }
          ],
          "scattergeo": [
           {
            "marker": {
             "colorbar": {
              "outlinewidth": 0,
              "ticks": ""
             }
            },
            "type": "scattergeo"
           }
          ],
          "scattergl": [
           {
            "marker": {
             "colorbar": {
              "outlinewidth": 0,
              "ticks": ""
             }
            },
            "type": "scattergl"
           }
          ],
          "scattermapbox": [
           {
            "marker": {
             "colorbar": {
              "outlinewidth": 0,
              "ticks": ""
             }
            },
            "type": "scattermapbox"
           }
          ],
          "scatterpolar": [
           {
            "marker": {
             "colorbar": {
              "outlinewidth": 0,
              "ticks": ""
             }
            },
            "type": "scatterpolar"
           }
          ],
          "scatterpolargl": [
           {
            "marker": {
             "colorbar": {
              "outlinewidth": 0,
              "ticks": ""
             }
            },
            "type": "scatterpolargl"
           }
          ],
          "scatterternary": [
           {
            "marker": {
             "colorbar": {
              "outlinewidth": 0,
              "ticks": ""
             }
            },
            "type": "scatterternary"
           }
          ],
          "surface": [
           {
            "colorbar": {
             "outlinewidth": 0,
             "ticks": ""
            },
            "colorscale": [
             [
              0,
              "#0d0887"
             ],
             [
              0.1111111111111111,
              "#46039f"
             ],
             [
              0.2222222222222222,
              "#7201a8"
             ],
             [
              0.3333333333333333,
              "#9c179e"
             ],
             [
              0.4444444444444444,
              "#bd3786"
             ],
             [
              0.5555555555555556,
              "#d8576b"
             ],
             [
              0.6666666666666666,
              "#ed7953"
             ],
             [
              0.7777777777777778,
              "#fb9f3a"
             ],
             [
              0.8888888888888888,
              "#fdca26"
             ],
             [
              1,
              "#f0f921"
             ]
            ],
            "type": "surface"
           }
          ],
          "table": [
           {
            "cells": {
             "fill": {
              "color": "#EBF0F8"
             },
             "line": {
              "color": "white"
             }
            },
            "header": {
             "fill": {
              "color": "#C8D4E3"
             },
             "line": {
              "color": "white"
             }
            },
            "type": "table"
           }
          ]
         },
         "layout": {
          "annotationdefaults": {
           "arrowcolor": "#2a3f5f",
           "arrowhead": 0,
           "arrowwidth": 1
          },
          "autotypenumbers": "strict",
          "coloraxis": {
           "colorbar": {
            "outlinewidth": 0,
            "ticks": ""
           }
          },
          "colorscale": {
           "diverging": [
            [
             0,
             "#8e0152"
            ],
            [
             0.1,
             "#c51b7d"
            ],
            [
             0.2,
             "#de77ae"
            ],
            [
             0.3,
             "#f1b6da"
            ],
            [
             0.4,
             "#fde0ef"
            ],
            [
             0.5,
             "#f7f7f7"
            ],
            [
             0.6,
             "#e6f5d0"
            ],
            [
             0.7,
             "#b8e186"
            ],
            [
             0.8,
             "#7fbc41"
            ],
            [
             0.9,
             "#4d9221"
            ],
            [
             1,
             "#276419"
            ]
           ],
           "sequential": [
            [
             0,
             "#0d0887"
            ],
            [
             0.1111111111111111,
             "#46039f"
            ],
            [
             0.2222222222222222,
             "#7201a8"
            ],
            [
             0.3333333333333333,
             "#9c179e"
            ],
            [
             0.4444444444444444,
             "#bd3786"
            ],
            [
             0.5555555555555556,
             "#d8576b"
            ],
            [
             0.6666666666666666,
             "#ed7953"
            ],
            [
             0.7777777777777778,
             "#fb9f3a"
            ],
            [
             0.8888888888888888,
             "#fdca26"
            ],
            [
             1,
             "#f0f921"
            ]
           ],
           "sequentialminus": [
            [
             0,
             "#0d0887"
            ],
            [
             0.1111111111111111,
             "#46039f"
            ],
            [
             0.2222222222222222,
             "#7201a8"
            ],
            [
             0.3333333333333333,
             "#9c179e"
            ],
            [
             0.4444444444444444,
             "#bd3786"
            ],
            [
             0.5555555555555556,
             "#d8576b"
            ],
            [
             0.6666666666666666,
             "#ed7953"
            ],
            [
             0.7777777777777778,
             "#fb9f3a"
            ],
            [
             0.8888888888888888,
             "#fdca26"
            ],
            [
             1,
             "#f0f921"
            ]
           ]
          },
          "colorway": [
           "#636efa",
           "#EF553B",
           "#00cc96",
           "#ab63fa",
           "#FFA15A",
           "#19d3f3",
           "#FF6692",
           "#B6E880",
           "#FF97FF",
           "#FECB52"
          ],
          "font": {
           "color": "#2a3f5f"
          },
          "geo": {
           "bgcolor": "white",
           "lakecolor": "white",
           "landcolor": "#E5ECF6",
           "showlakes": true,
           "showland": true,
           "subunitcolor": "white"
          },
          "hoverlabel": {
           "align": "left"
          },
          "hovermode": "closest",
          "mapbox": {
           "style": "light"
          },
          "paper_bgcolor": "white",
          "plot_bgcolor": "#E5ECF6",
          "polar": {
           "angularaxis": {
            "gridcolor": "white",
            "linecolor": "white",
            "ticks": ""
           },
           "bgcolor": "#E5ECF6",
           "radialaxis": {
            "gridcolor": "white",
            "linecolor": "white",
            "ticks": ""
           }
          },
          "scene": {
           "xaxis": {
            "backgroundcolor": "#E5ECF6",
            "gridcolor": "white",
            "gridwidth": 2,
            "linecolor": "white",
            "showbackground": true,
            "ticks": "",
            "zerolinecolor": "white"
           },
           "yaxis": {
            "backgroundcolor": "#E5ECF6",
            "gridcolor": "white",
            "gridwidth": 2,
            "linecolor": "white",
            "showbackground": true,
            "ticks": "",
            "zerolinecolor": "white"
           },
           "zaxis": {
            "backgroundcolor": "#E5ECF6",
            "gridcolor": "white",
            "gridwidth": 2,
            "linecolor": "white",
            "showbackground": true,
            "ticks": "",
            "zerolinecolor": "white"
           }
          },
          "shapedefaults": {
           "line": {
            "color": "#2a3f5f"
           }
          },
          "ternary": {
           "aaxis": {
            "gridcolor": "white",
            "linecolor": "white",
            "ticks": ""
           },
           "baxis": {
            "gridcolor": "white",
            "linecolor": "white",
            "ticks": ""
           },
           "bgcolor": "#E5ECF6",
           "caxis": {
            "gridcolor": "white",
            "linecolor": "white",
            "ticks": ""
           }
          },
          "title": {
           "x": 0.05
          },
          "xaxis": {
           "automargin": true,
           "gridcolor": "white",
           "linecolor": "white",
           "ticks": "",
           "title": {
            "standoff": 15
           },
           "zerolinecolor": "white",
           "zerolinewidth": 2
          },
          "yaxis": {
           "automargin": true,
           "gridcolor": "white",
           "linecolor": "white",
           "ticks": "",
           "title": {
            "standoff": 15
           },
           "zerolinecolor": "white",
           "zerolinewidth": 2
          }
         }
        },
        "xaxis": {
         "anchor": "y",
         "domain": [
          0,
          1
         ],
         "title": {
          "text": "index"
         }
        },
        "yaxis": {
         "anchor": "x",
         "domain": [
          0,
          1
         ],
         "title": {
          "text": "value"
         }
        }
       }
      },
      "text/html": [
       "<div>                            <div id=\"a330421c-fb6c-4223-9993-4ec99f90dcfc\" class=\"plotly-graph-div\" style=\"height:525px; width:100%;\"></div>            <script type=\"text/javascript\">                require([\"plotly\"], function(Plotly) {                    window.PLOTLYENV=window.PLOTLYENV || {};                                    if (document.getElementById(\"a330421c-fb6c-4223-9993-4ec99f90dcfc\")) {                    Plotly.newPlot(                        \"a330421c-fb6c-4223-9993-4ec99f90dcfc\",                        [{\"hovertemplate\": \"variable=0<br>index=%{x}<br>value=%{y}<extra></extra>\", \"legendgroup\": \"0\", \"line\": {\"color\": \"#636efa\", \"dash\": \"solid\"}, \"mode\": \"lines\", \"name\": \"0\", \"orientation\": \"v\", \"showlegend\": true, \"type\": \"scatter\", \"x\": [0, 1, 2, 3, 4, 5, 6, 7, 8, 9, 10, 11, 12, 13, 14, 15, 16, 17, 18, 19, 20, 21, 22, 23, 24, 25, 26, 27, 28, 29, 30, 31, 32, 33, 34, 35, 36, 37, 38, 39, 40, 41, 42, 43, 44, 45, 46, 47, 48, 49, 50, 51, 52, 53, 54, 55, 56, 57, 58, 59, 60], \"xaxis\": \"x\", \"y\": [1.4968018557000793, 1.5019505827456316, 1.506892218901326, 1.504018983146822, 1.5057781248327538, 1.5061917062790426, 1.5055904776017515, 1.5058978611436802, 1.5065238206098948, 1.5053857931113968, 1.5039059599699869, 1.503646846276956, 1.5030591538737819, 1.5009174818596893, 1.499816223497081, 1.4994912514292325, 1.4998194661642241, 1.5000277178936392, 1.4993898041095297, 1.5000784870796235, 1.500779897506863, 1.5009143096588504, 1.5011160393316676, 1.501872044689792, 1.502220521584749, 1.5018816463014286, 1.501936167919735, 1.502156183342192, 1.5020894324310707, 1.502385872058015, 1.5023936199154908, 1.5027413272753924, 1.5024963455695164, 1.5025869254424133, 1.50250915869043, 1.502397977183732, 1.5024754333881336, 1.5021359942888433, 1.5019652742305416, 1.5021788436704002, 1.5021097607669316, 1.502138068932101, 1.5021123549680122, 1.502081301442027, 1.5019664137351072, 1.5020370954169524, 1.501888781079164, 1.5017827573904696, 1.5020231282613843, 1.5019546864259952, 1.5016927135361595, 1.5017655923311284, 1.5019188428529557, 1.501844993592597, 1.5020006232134329, 1.5020347686637232, 1.5021418791610945, 1.5022572737079911, 1.5022615536999004, 1.502135253405166, 1.5022939369965183], \"yaxis\": \"y\"}],                        {\"legend\": {\"title\": {\"text\": \"variable\"}, \"tracegroupgap\": 0}, \"margin\": {\"t\": 60}, \"template\": {\"data\": {\"bar\": [{\"error_x\": {\"color\": \"#2a3f5f\"}, \"error_y\": {\"color\": \"#2a3f5f\"}, \"marker\": {\"line\": {\"color\": \"#E5ECF6\", \"width\": 0.5}}, \"type\": \"bar\"}], \"barpolar\": [{\"marker\": {\"line\": {\"color\": \"#E5ECF6\", \"width\": 0.5}}, \"type\": \"barpolar\"}], \"carpet\": [{\"aaxis\": {\"endlinecolor\": \"#2a3f5f\", \"gridcolor\": \"white\", \"linecolor\": \"white\", \"minorgridcolor\": \"white\", \"startlinecolor\": \"#2a3f5f\"}, \"baxis\": {\"endlinecolor\": \"#2a3f5f\", \"gridcolor\": \"white\", \"linecolor\": \"white\", \"minorgridcolor\": \"white\", \"startlinecolor\": \"#2a3f5f\"}, \"type\": \"carpet\"}], \"choropleth\": [{\"colorbar\": {\"outlinewidth\": 0, \"ticks\": \"\"}, \"type\": \"choropleth\"}], \"contour\": [{\"colorbar\": {\"outlinewidth\": 0, \"ticks\": \"\"}, \"colorscale\": [[0.0, \"#0d0887\"], [0.1111111111111111, \"#46039f\"], [0.2222222222222222, \"#7201a8\"], [0.3333333333333333, \"#9c179e\"], [0.4444444444444444, \"#bd3786\"], [0.5555555555555556, \"#d8576b\"], [0.6666666666666666, \"#ed7953\"], [0.7777777777777778, \"#fb9f3a\"], [0.8888888888888888, \"#fdca26\"], [1.0, \"#f0f921\"]], \"type\": \"contour\"}], \"contourcarpet\": [{\"colorbar\": {\"outlinewidth\": 0, \"ticks\": \"\"}, \"type\": \"contourcarpet\"}], \"heatmap\": [{\"colorbar\": {\"outlinewidth\": 0, \"ticks\": \"\"}, \"colorscale\": [[0.0, \"#0d0887\"], [0.1111111111111111, \"#46039f\"], [0.2222222222222222, \"#7201a8\"], [0.3333333333333333, \"#9c179e\"], [0.4444444444444444, \"#bd3786\"], [0.5555555555555556, \"#d8576b\"], [0.6666666666666666, \"#ed7953\"], [0.7777777777777778, \"#fb9f3a\"], [0.8888888888888888, \"#fdca26\"], [1.0, \"#f0f921\"]], \"type\": \"heatmap\"}], \"heatmapgl\": [{\"colorbar\": {\"outlinewidth\": 0, \"ticks\": \"\"}, \"colorscale\": [[0.0, \"#0d0887\"], [0.1111111111111111, \"#46039f\"], [0.2222222222222222, \"#7201a8\"], [0.3333333333333333, \"#9c179e\"], [0.4444444444444444, \"#bd3786\"], [0.5555555555555556, \"#d8576b\"], [0.6666666666666666, \"#ed7953\"], [0.7777777777777778, \"#fb9f3a\"], [0.8888888888888888, \"#fdca26\"], [1.0, \"#f0f921\"]], \"type\": \"heatmapgl\"}], \"histogram\": [{\"marker\": {\"colorbar\": {\"outlinewidth\": 0, \"ticks\": \"\"}}, \"type\": \"histogram\"}], \"histogram2d\": [{\"colorbar\": {\"outlinewidth\": 0, \"ticks\": \"\"}, \"colorscale\": [[0.0, \"#0d0887\"], [0.1111111111111111, \"#46039f\"], [0.2222222222222222, \"#7201a8\"], [0.3333333333333333, \"#9c179e\"], [0.4444444444444444, \"#bd3786\"], [0.5555555555555556, \"#d8576b\"], [0.6666666666666666, \"#ed7953\"], [0.7777777777777778, \"#fb9f3a\"], [0.8888888888888888, \"#fdca26\"], [1.0, \"#f0f921\"]], \"type\": \"histogram2d\"}], \"histogram2dcontour\": [{\"colorbar\": {\"outlinewidth\": 0, \"ticks\": \"\"}, \"colorscale\": [[0.0, \"#0d0887\"], [0.1111111111111111, \"#46039f\"], [0.2222222222222222, \"#7201a8\"], [0.3333333333333333, \"#9c179e\"], [0.4444444444444444, \"#bd3786\"], [0.5555555555555556, \"#d8576b\"], [0.6666666666666666, \"#ed7953\"], [0.7777777777777778, \"#fb9f3a\"], [0.8888888888888888, \"#fdca26\"], [1.0, \"#f0f921\"]], \"type\": \"histogram2dcontour\"}], \"mesh3d\": [{\"colorbar\": {\"outlinewidth\": 0, \"ticks\": \"\"}, \"type\": \"mesh3d\"}], \"parcoords\": [{\"line\": {\"colorbar\": {\"outlinewidth\": 0, \"ticks\": \"\"}}, \"type\": \"parcoords\"}], \"pie\": [{\"automargin\": true, \"type\": \"pie\"}], \"scatter\": [{\"marker\": {\"colorbar\": {\"outlinewidth\": 0, \"ticks\": \"\"}}, \"type\": \"scatter\"}], \"scatter3d\": [{\"line\": {\"colorbar\": {\"outlinewidth\": 0, \"ticks\": \"\"}}, \"marker\": {\"colorbar\": {\"outlinewidth\": 0, \"ticks\": \"\"}}, \"type\": \"scatter3d\"}], \"scattercarpet\": [{\"marker\": {\"colorbar\": {\"outlinewidth\": 0, \"ticks\": \"\"}}, \"type\": \"scattercarpet\"}], \"scattergeo\": [{\"marker\": {\"colorbar\": {\"outlinewidth\": 0, \"ticks\": \"\"}}, \"type\": \"scattergeo\"}], \"scattergl\": [{\"marker\": {\"colorbar\": {\"outlinewidth\": 0, \"ticks\": \"\"}}, \"type\": \"scattergl\"}], \"scattermapbox\": [{\"marker\": {\"colorbar\": {\"outlinewidth\": 0, \"ticks\": \"\"}}, \"type\": \"scattermapbox\"}], \"scatterpolar\": [{\"marker\": {\"colorbar\": {\"outlinewidth\": 0, \"ticks\": \"\"}}, \"type\": \"scatterpolar\"}], \"scatterpolargl\": [{\"marker\": {\"colorbar\": {\"outlinewidth\": 0, \"ticks\": \"\"}}, \"type\": \"scatterpolargl\"}], \"scatterternary\": [{\"marker\": {\"colorbar\": {\"outlinewidth\": 0, \"ticks\": \"\"}}, \"type\": \"scatterternary\"}], \"surface\": [{\"colorbar\": {\"outlinewidth\": 0, \"ticks\": \"\"}, \"colorscale\": [[0.0, \"#0d0887\"], [0.1111111111111111, \"#46039f\"], [0.2222222222222222, \"#7201a8\"], [0.3333333333333333, \"#9c179e\"], [0.4444444444444444, \"#bd3786\"], [0.5555555555555556, \"#d8576b\"], [0.6666666666666666, \"#ed7953\"], [0.7777777777777778, \"#fb9f3a\"], [0.8888888888888888, \"#fdca26\"], [1.0, \"#f0f921\"]], \"type\": \"surface\"}], \"table\": [{\"cells\": {\"fill\": {\"color\": \"#EBF0F8\"}, \"line\": {\"color\": \"white\"}}, \"header\": {\"fill\": {\"color\": \"#C8D4E3\"}, \"line\": {\"color\": \"white\"}}, \"type\": \"table\"}]}, \"layout\": {\"annotationdefaults\": {\"arrowcolor\": \"#2a3f5f\", \"arrowhead\": 0, \"arrowwidth\": 1}, \"autotypenumbers\": \"strict\", \"coloraxis\": {\"colorbar\": {\"outlinewidth\": 0, \"ticks\": \"\"}}, \"colorscale\": {\"diverging\": [[0, \"#8e0152\"], [0.1, \"#c51b7d\"], [0.2, \"#de77ae\"], [0.3, \"#f1b6da\"], [0.4, \"#fde0ef\"], [0.5, \"#f7f7f7\"], [0.6, \"#e6f5d0\"], [0.7, \"#b8e186\"], [0.8, \"#7fbc41\"], [0.9, \"#4d9221\"], [1, \"#276419\"]], \"sequential\": [[0.0, \"#0d0887\"], [0.1111111111111111, \"#46039f\"], [0.2222222222222222, \"#7201a8\"], [0.3333333333333333, \"#9c179e\"], [0.4444444444444444, \"#bd3786\"], [0.5555555555555556, \"#d8576b\"], [0.6666666666666666, \"#ed7953\"], [0.7777777777777778, \"#fb9f3a\"], [0.8888888888888888, \"#fdca26\"], [1.0, \"#f0f921\"]], \"sequentialminus\": [[0.0, \"#0d0887\"], [0.1111111111111111, \"#46039f\"], [0.2222222222222222, \"#7201a8\"], [0.3333333333333333, \"#9c179e\"], [0.4444444444444444, \"#bd3786\"], [0.5555555555555556, \"#d8576b\"], [0.6666666666666666, \"#ed7953\"], [0.7777777777777778, \"#fb9f3a\"], [0.8888888888888888, \"#fdca26\"], [1.0, \"#f0f921\"]]}, \"colorway\": [\"#636efa\", \"#EF553B\", \"#00cc96\", \"#ab63fa\", \"#FFA15A\", \"#19d3f3\", \"#FF6692\", \"#B6E880\", \"#FF97FF\", \"#FECB52\"], \"font\": {\"color\": \"#2a3f5f\"}, \"geo\": {\"bgcolor\": \"white\", \"lakecolor\": \"white\", \"landcolor\": \"#E5ECF6\", \"showlakes\": true, \"showland\": true, \"subunitcolor\": \"white\"}, \"hoverlabel\": {\"align\": \"left\"}, \"hovermode\": \"closest\", \"mapbox\": {\"style\": \"light\"}, \"paper_bgcolor\": \"white\", \"plot_bgcolor\": \"#E5ECF6\", \"polar\": {\"angularaxis\": {\"gridcolor\": \"white\", \"linecolor\": \"white\", \"ticks\": \"\"}, \"bgcolor\": \"#E5ECF6\", \"radialaxis\": {\"gridcolor\": \"white\", \"linecolor\": \"white\", \"ticks\": \"\"}}, \"scene\": {\"xaxis\": {\"backgroundcolor\": \"#E5ECF6\", \"gridcolor\": \"white\", \"gridwidth\": 2, \"linecolor\": \"white\", \"showbackground\": true, \"ticks\": \"\", \"zerolinecolor\": \"white\"}, \"yaxis\": {\"backgroundcolor\": \"#E5ECF6\", \"gridcolor\": \"white\", \"gridwidth\": 2, \"linecolor\": \"white\", \"showbackground\": true, \"ticks\": \"\", \"zerolinecolor\": \"white\"}, \"zaxis\": {\"backgroundcolor\": \"#E5ECF6\", \"gridcolor\": \"white\", \"gridwidth\": 2, \"linecolor\": \"white\", \"showbackground\": true, \"ticks\": \"\", \"zerolinecolor\": \"white\"}}, \"shapedefaults\": {\"line\": {\"color\": \"#2a3f5f\"}}, \"ternary\": {\"aaxis\": {\"gridcolor\": \"white\", \"linecolor\": \"white\", \"ticks\": \"\"}, \"baxis\": {\"gridcolor\": \"white\", \"linecolor\": \"white\", \"ticks\": \"\"}, \"bgcolor\": \"#E5ECF6\", \"caxis\": {\"gridcolor\": \"white\", \"linecolor\": \"white\", \"ticks\": \"\"}}, \"title\": {\"x\": 0.05}, \"xaxis\": {\"automargin\": true, \"gridcolor\": \"white\", \"linecolor\": \"white\", \"ticks\": \"\", \"title\": {\"standoff\": 15}, \"zerolinecolor\": \"white\", \"zerolinewidth\": 2}, \"yaxis\": {\"automargin\": true, \"gridcolor\": \"white\", \"linecolor\": \"white\", \"ticks\": \"\", \"title\": {\"standoff\": 15}, \"zerolinecolor\": \"white\", \"zerolinewidth\": 2}}}, \"xaxis\": {\"anchor\": \"y\", \"domain\": [0.0, 1.0], \"title\": {\"text\": \"index\"}}, \"yaxis\": {\"anchor\": \"x\", \"domain\": [0.0, 1.0], \"title\": {\"text\": \"value\"}}},                        {\"responsive\": true}                    ).then(function(){\n",
       "                            \n",
       "var gd = document.getElementById('a330421c-fb6c-4223-9993-4ec99f90dcfc');\n",
       "var x = new MutationObserver(function (mutations, observer) {{\n",
       "        var display = window.getComputedStyle(gd).display;\n",
       "        if (!display || display === 'none') {{\n",
       "            console.log([gd, 'removed!']);\n",
       "            Plotly.purge(gd);\n",
       "            observer.disconnect();\n",
       "        }}\n",
       "}});\n",
       "\n",
       "// Listen for the removal of the full notebook cells\n",
       "var notebookContainer = gd.closest('#notebook-container');\n",
       "if (notebookContainer) {{\n",
       "    x.observe(notebookContainer, {childList: true});\n",
       "}}\n",
       "\n",
       "// Listen for the clearing of the current output cell\n",
       "var outputEl = gd.closest('.output');\n",
       "if (outputEl) {{\n",
       "    x.observe(outputEl, {childList: true});\n",
       "}}\n",
       "\n",
       "                        })                };                });            </script>        </div>"
      ]
     },
     "metadata": {},
     "output_type": "display_data"
    }
   ],
   "source": [
    "px.line([np.mean(M[:i]) for i in range(1,len(M))])"
   ]
  }
 ],
 "metadata": {
  "kernelspec": {
   "display_name": "Python 3",
   "language": "python",
   "name": "python3"
  },
  "language_info": {
   "codemirror_mode": {
    "name": "ipython",
    "version": 3
   },
   "file_extension": ".py",
   "mimetype": "text/x-python",
   "name": "python",
   "nbconvert_exporter": "python",
   "pygments_lexer": "ipython3",
   "version": "3.8.5"
  }
 },
 "nbformat": 4,
 "nbformat_minor": 2
}
