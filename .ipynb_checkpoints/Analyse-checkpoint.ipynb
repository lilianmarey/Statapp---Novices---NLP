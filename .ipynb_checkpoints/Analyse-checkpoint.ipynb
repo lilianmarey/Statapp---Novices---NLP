{
 "cells": [
  {
   "cell_type": "code",
   "execution_count": 115,
   "metadata": {},
   "outputs": [],
   "source": [
    "import pandas as pd\n",
    "import numpy as np\n",
    "import plotly.express as px\n",
    "\n",
    "import matplotlib.pyplot as plt\n",
    "import wordcloud\n",
    "import numpy as np\n",
    "import io\n",
    "import requests\n",
    "import PIL\n",
    "import matplotlib.pyplot as plt\n",
    "from random import sample \n",
    "from collections import Counter\n",
    "\n",
    "from nltk.collocations import BigramCollocationFinder\n",
    "from nltk.metrics import BigramAssocMeasures\n",
    "\n",
    "import nltk \n",
    "from sklearn.feature_extraction.text import TfidfVectorizer, CountVectorizer\n",
    "\n",
    "img = \"https://raw.githubusercontent.com/linogaliana/python-datascientist/master/content/modelisation/7_nlp/book.png\"\n",
    "book_mask = np.array(PIL.Image.open(io.BytesIO(requests.get(img).content)))\n",
    "\n",
    "# Option d'affchage\n",
    "pd.set_option('display.max_columns', None)"
   ]
  },
  {
   "cell_type": "code",
   "execution_count": 58,
   "metadata": {},
   "outputs": [],
   "source": [
    "# Importation de la base nettoyée\n",
    "\n",
    "df0 = pd.read_csv('data/data_cleaned.csv', sep = ',', encoding='latin-1')"
   ]
  },
  {
   "cell_type": "code",
   "execution_count": 59,
   "metadata": {},
   "outputs": [],
   "source": [
    "df = df0[[\n",
    "        'Orateur', 'Unnamed: 0', 'Sujet.débattu', 'Réplique', \n",
    "        'Didascalie', 'commissions', 'Groupe', 'tokenized_replique', \n",
    "        'stemmed_replique', 'tokenized_didascalie', 'stemmed_didascalie'\n",
    "        ]]\n",
    "\n",
    "df = df.rename(columns = {\n",
    "                            'Unnamed: 0': 'index'\n",
    "                         }\n",
    "              )"
   ]
  },
  {
   "cell_type": "code",
   "execution_count": 60,
   "metadata": {},
   "outputs": [],
   "source": [
    "# Gestion des nan\n",
    "\n",
    "df['tokenized_replique'] = df['tokenized_replique'].fillna('')\n",
    "df['stemmed_replique'] = df['stemmed_replique'].fillna('')\n",
    "df['tokenized_didascalie'] = df['tokenized_didascalie'].fillna('')\n",
    "df['stemmed_didascalie'] = df['stemmed_didascalie'].fillna('')"
   ]
  },
  {
   "cell_type": "markdown",
   "metadata": {},
   "source": [
    "### Fréquence relative des novices en nombre d’intervention et nombre de mots total"
   ]
  },
  {
   "cell_type": "code",
   "execution_count": 61,
   "metadata": {},
   "outputs": [],
   "source": [
    "nb_nov = df[df['Groupe'] == 'Novice'].drop_duplicates(subset = ['Orateur'], keep = 'first').shape[0]\n",
    "nb_intervention_nov  = df[df['Groupe'] == 'Novice'].shape[0]\n",
    "score_nov = int(10 * nb_intervention_nov / nb_nov) / 10 \n",
    "\n",
    "nb_exp = df[df['Groupe'] == 'Exp'].drop_duplicates(subset = ['Orateur'], keep = 'first').shape[0]\n",
    "nb_intervention_exp  = df[df['Groupe'] == 'Exp'].shape[0]\n",
    "score_exp = int(10 * nb_intervention_exp / nb_exp) / 10\n",
    "\n",
    "ratio = int(10 * score_exp / score_nov) / 10"
   ]
  },
  {
   "cell_type": "code",
   "execution_count": 62,
   "metadata": {},
   "outputs": [
    {
     "name": "stdout",
     "output_type": "stream",
     "text": [
      "Nombre moyen de réplique par intervenant pour un Novice: 460.8\n",
      "Nombre moyen de réplique par intervenant pour un Non-Novice: 1021.8\n",
      "Ratio :  2.2\n"
     ]
    }
   ],
   "source": [
    "print('Nombre moyen de réplique par intervenant pour un Novice: ' + str(score_nov))\n",
    "print('Nombre moyen de réplique par intervenant pour un Non-Novice: ' + str(score_exp))\n",
    "\n",
    "print('Ratio : ', ratio)"
   ]
  },
  {
   "cell_type": "markdown",
   "metadata": {},
   "source": [
    "Les non-novices parlent clairement plus que les novices : plus de 2 fois plus"
   ]
  },
  {
   "cell_type": "markdown",
   "metadata": {},
   "source": [
    "#### Construction de la variable du nombre d'intervention par orateur"
   ]
  },
  {
   "cell_type": "code",
   "execution_count": 63,
   "metadata": {},
   "outputs": [],
   "source": [
    "orateurs = list(set(df['Orateur']))\n",
    "comptes = []\n",
    "\n",
    "for orateur in orateurs:\n",
    "    nombre_intervention = df[df['Orateur'] == orateur].shape[0]\n",
    "    comptes.append((orateur, nombre_intervention))\n",
    "\n",
    "comptes = dict(comptes)"
   ]
  },
  {
   "cell_type": "code",
   "execution_count": 64,
   "metadata": {},
   "outputs": [],
   "source": [
    "df['nb_interventions'] = df.apply(lambda row: comptes[row.Orateur], axis = 1)"
   ]
  },
  {
   "cell_type": "markdown",
   "metadata": {},
   "source": [
    "#### Répartition du nombre d'interventions au sein de chaque groupe"
   ]
  },
  {
   "cell_type": "markdown",
   "metadata": {},
   "source": [
    "Pour les novices : "
   ]
  },
  {
   "cell_type": "code",
   "execution_count": 65,
   "metadata": {},
   "outputs": [
    {
     "data": {
      "application/vnd.plotly.v1+json": {
       "config": {
        "plotlyServerURL": "https://plot.ly"
       },
       "data": [
        {
         "alignmentgroup": "True",
         "bingroup": "x",
         "histfunc": "sum",
         "hovertemplate": "Orateur=%{x}<br>sum of nb_interventions=%{y}<extra></extra>",
         "legendgroup": "",
         "marker": {
          "color": "#636efa"
         },
         "name": "",
         "offsetgroup": "",
         "orientation": "v",
         "showlegend": false,
         "type": "histogram",
         "x": [
          "patrice perrot",
          "xavier batut",
          "sira sylla",
          "mustapha laabid",
          "jean marie fievet",
          "valeria faure muntian",
          "loic kervran",
          "benjamin dirx",
          "valerie gomez bassac",
          "samantha cazebonne",
          "valerie oppelt",
          "delphine o",
          "florence granjus",
          "brigitte liso",
          "pascale fontenel personne",
          "anne laurence petel",
          "patrice anato",
          "laurence vanceunebrock mialon",
          "pierre alain raphan",
          "sandrine le feur",
          "valerie petit",
          "bruno bonnell",
          "aina kuric",
          "denis masseglia",
          "anne france brunet",
          "sophie panonacle",
          "annaig le meur",
          "herve berville",
          "jean charles larsonneur",
          "claire pitollat",
          "nicole trisse",
          "monica michel",
          "charlotte lecocq",
          "bertrand bouyx",
          "graziella melchior",
          "jennifer de temmerman",
          "eric girardin",
          "huguette tiegna",
          "sonia krimi",
          "jean michel fauvergue",
          "emilie guerel",
          "sabine thillaye",
          "thierry michels",
          "sophie beaudouin hubiere",
          "fabienne colboc",
          "aude amadou",
          "cathy racon bouzon",
          "natalia pouzyreff",
          "nicolas demoulin",
          "benoit potterie",
          "caroline janvier",
          "gael le bohec",
          "beatrice piron",
          "laetitia saint paul",
          "barbara bessot ballot",
          "laetitia romeiro dias",
          "nicole dubre chirat",
          "christophe euzet",
          "carole grandjean",
          "cedric roussel",
          "sylvie charriere",
          "audrey dufeu schubert",
          "typhanie degois",
          "joachim son forget",
          "anne genetet",
          "gregory besson moreau",
          "fannette charvier",
          "dominique david",
          "albane gaillot",
          "damien adam",
          "fiona lazaar",
          "annie chapelier",
          "caroline abadie",
          "alexandre holroyd",
          "alice thourot",
          "jean francois mbaye",
          "vincent thiebaut",
          "perrine goulet",
          "zivka park",
          "stephanie rist",
          "cecile rilhac",
          "martine wonner",
          "agnes thill",
          "mohamed laqhila",
          "raphael gerard",
          "raphael gauvain",
          "alexandra louis",
          "benedicte peyrol",
          "veronique riotton",
          "berangere couillard",
          "gilles le gendre",
          "sacha houlie",
          "bruno studer",
          "nadia hai",
          "marie christine verdier jouclas",
          "jean baptiste djebbari",
          "thomas mesnier",
          "christophe naegelen",
          "coralie dubost",
          "catherine fabre",
          "yael braun pivet",
          "cendra motin",
          "emilie chalas",
          "laetitia avia",
          "roland lescure",
          "adrien taquet",
          "sabine rubin",
          "francois ruffin",
          "laurent pietraszewski"
         ],
         "xaxis": "x",
         "y": [
          31,
          40,
          43,
          44,
          47,
          47,
          52,
          53,
          66,
          71,
          72,
          75,
          78,
          92,
          101,
          102,
          106,
          112,
          116,
          118,
          119,
          123,
          126,
          131,
          131,
          132,
          133,
          136,
          137,
          139,
          143,
          150,
          152,
          154,
          155,
          159,
          167,
          174,
          179,
          182,
          183,
          184,
          194,
          196,
          199,
          200,
          201,
          204,
          210,
          213,
          214,
          215,
          226,
          240,
          240,
          251,
          253,
          258,
          262,
          262,
          264,
          269,
          275,
          275,
          283,
          293,
          297,
          306,
          308,
          310,
          322,
          326,
          336,
          361,
          391,
          439,
          446,
          461,
          469,
          478,
          527,
          542,
          568,
          586,
          594,
          598,
          603,
          603,
          675,
          714,
          836,
          880,
          895,
          986,
          986,
          1096,
          1121,
          1134,
          1138,
          1159,
          1286,
          1557,
          1579,
          1637,
          1705,
          1781,
          2189,
          3125,
          3435
         ],
         "yaxis": "y"
        }
       ],
       "layout": {
        "barmode": "relative",
        "legend": {
         "tracegroupgap": 0
        },
        "margin": {
         "t": 60
        },
        "template": {
         "data": {
          "bar": [
           {
            "error_x": {
             "color": "#2a3f5f"
            },
            "error_y": {
             "color": "#2a3f5f"
            },
            "marker": {
             "line": {
              "color": "#E5ECF6",
              "width": 0.5
             }
            },
            "type": "bar"
           }
          ],
          "barpolar": [
           {
            "marker": {
             "line": {
              "color": "#E5ECF6",
              "width": 0.5
             }
            },
            "type": "barpolar"
           }
          ],
          "carpet": [
           {
            "aaxis": {
             "endlinecolor": "#2a3f5f",
             "gridcolor": "white",
             "linecolor": "white",
             "minorgridcolor": "white",
             "startlinecolor": "#2a3f5f"
            },
            "baxis": {
             "endlinecolor": "#2a3f5f",
             "gridcolor": "white",
             "linecolor": "white",
             "minorgridcolor": "white",
             "startlinecolor": "#2a3f5f"
            },
            "type": "carpet"
           }
          ],
          "choropleth": [
           {
            "colorbar": {
             "outlinewidth": 0,
             "ticks": ""
            },
            "type": "choropleth"
           }
          ],
          "contour": [
           {
            "colorbar": {
             "outlinewidth": 0,
             "ticks": ""
            },
            "colorscale": [
             [
              0,
              "#0d0887"
             ],
             [
              0.1111111111111111,
              "#46039f"
             ],
             [
              0.2222222222222222,
              "#7201a8"
             ],
             [
              0.3333333333333333,
              "#9c179e"
             ],
             [
              0.4444444444444444,
              "#bd3786"
             ],
             [
              0.5555555555555556,
              "#d8576b"
             ],
             [
              0.6666666666666666,
              "#ed7953"
             ],
             [
              0.7777777777777778,
              "#fb9f3a"
             ],
             [
              0.8888888888888888,
              "#fdca26"
             ],
             [
              1,
              "#f0f921"
             ]
            ],
            "type": "contour"
           }
          ],
          "contourcarpet": [
           {
            "colorbar": {
             "outlinewidth": 0,
             "ticks": ""
            },
            "type": "contourcarpet"
           }
          ],
          "heatmap": [
           {
            "colorbar": {
             "outlinewidth": 0,
             "ticks": ""
            },
            "colorscale": [
             [
              0,
              "#0d0887"
             ],
             [
              0.1111111111111111,
              "#46039f"
             ],
             [
              0.2222222222222222,
              "#7201a8"
             ],
             [
              0.3333333333333333,
              "#9c179e"
             ],
             [
              0.4444444444444444,
              "#bd3786"
             ],
             [
              0.5555555555555556,
              "#d8576b"
             ],
             [
              0.6666666666666666,
              "#ed7953"
             ],
             [
              0.7777777777777778,
              "#fb9f3a"
             ],
             [
              0.8888888888888888,
              "#fdca26"
             ],
             [
              1,
              "#f0f921"
             ]
            ],
            "type": "heatmap"
           }
          ],
          "heatmapgl": [
           {
            "colorbar": {
             "outlinewidth": 0,
             "ticks": ""
            },
            "colorscale": [
             [
              0,
              "#0d0887"
             ],
             [
              0.1111111111111111,
              "#46039f"
             ],
             [
              0.2222222222222222,
              "#7201a8"
             ],
             [
              0.3333333333333333,
              "#9c179e"
             ],
             [
              0.4444444444444444,
              "#bd3786"
             ],
             [
              0.5555555555555556,
              "#d8576b"
             ],
             [
              0.6666666666666666,
              "#ed7953"
             ],
             [
              0.7777777777777778,
              "#fb9f3a"
             ],
             [
              0.8888888888888888,
              "#fdca26"
             ],
             [
              1,
              "#f0f921"
             ]
            ],
            "type": "heatmapgl"
           }
          ],
          "histogram": [
           {
            "marker": {
             "colorbar": {
              "outlinewidth": 0,
              "ticks": ""
             }
            },
            "type": "histogram"
           }
          ],
          "histogram2d": [
           {
            "colorbar": {
             "outlinewidth": 0,
             "ticks": ""
            },
            "colorscale": [
             [
              0,
              "#0d0887"
             ],
             [
              0.1111111111111111,
              "#46039f"
             ],
             [
              0.2222222222222222,
              "#7201a8"
             ],
             [
              0.3333333333333333,
              "#9c179e"
             ],
             [
              0.4444444444444444,
              "#bd3786"
             ],
             [
              0.5555555555555556,
              "#d8576b"
             ],
             [
              0.6666666666666666,
              "#ed7953"
             ],
             [
              0.7777777777777778,
              "#fb9f3a"
             ],
             [
              0.8888888888888888,
              "#fdca26"
             ],
             [
              1,
              "#f0f921"
             ]
            ],
            "type": "histogram2d"
           }
          ],
          "histogram2dcontour": [
           {
            "colorbar": {
             "outlinewidth": 0,
             "ticks": ""
            },
            "colorscale": [
             [
              0,
              "#0d0887"
             ],
             [
              0.1111111111111111,
              "#46039f"
             ],
             [
              0.2222222222222222,
              "#7201a8"
             ],
             [
              0.3333333333333333,
              "#9c179e"
             ],
             [
              0.4444444444444444,
              "#bd3786"
             ],
             [
              0.5555555555555556,
              "#d8576b"
             ],
             [
              0.6666666666666666,
              "#ed7953"
             ],
             [
              0.7777777777777778,
              "#fb9f3a"
             ],
             [
              0.8888888888888888,
              "#fdca26"
             ],
             [
              1,
              "#f0f921"
             ]
            ],
            "type": "histogram2dcontour"
           }
          ],
          "mesh3d": [
           {
            "colorbar": {
             "outlinewidth": 0,
             "ticks": ""
            },
            "type": "mesh3d"
           }
          ],
          "parcoords": [
           {
            "line": {
             "colorbar": {
              "outlinewidth": 0,
              "ticks": ""
             }
            },
            "type": "parcoords"
           }
          ],
          "pie": [
           {
            "automargin": true,
            "type": "pie"
           }
          ],
          "scatter": [
           {
            "marker": {
             "colorbar": {
              "outlinewidth": 0,
              "ticks": ""
             }
            },
            "type": "scatter"
           }
          ],
          "scatter3d": [
           {
            "line": {
             "colorbar": {
              "outlinewidth": 0,
              "ticks": ""
             }
            },
            "marker": {
             "colorbar": {
              "outlinewidth": 0,
              "ticks": ""
             }
            },
            "type": "scatter3d"
           }
          ],
          "scattercarpet": [
           {
            "marker": {
             "colorbar": {
              "outlinewidth": 0,
              "ticks": ""
             }
            },
            "type": "scattercarpet"
           }
          ],
          "scattergeo": [
           {
            "marker": {
             "colorbar": {
              "outlinewidth": 0,
              "ticks": ""
             }
            },
            "type": "scattergeo"
           }
          ],
          "scattergl": [
           {
            "marker": {
             "colorbar": {
              "outlinewidth": 0,
              "ticks": ""
             }
            },
            "type": "scattergl"
           }
          ],
          "scattermapbox": [
           {
            "marker": {
             "colorbar": {
              "outlinewidth": 0,
              "ticks": ""
             }
            },
            "type": "scattermapbox"
           }
          ],
          "scatterpolar": [
           {
            "marker": {
             "colorbar": {
              "outlinewidth": 0,
              "ticks": ""
             }
            },
            "type": "scatterpolar"
           }
          ],
          "scatterpolargl": [
           {
            "marker": {
             "colorbar": {
              "outlinewidth": 0,
              "ticks": ""
             }
            },
            "type": "scatterpolargl"
           }
          ],
          "scatterternary": [
           {
            "marker": {
             "colorbar": {
              "outlinewidth": 0,
              "ticks": ""
             }
            },
            "type": "scatterternary"
           }
          ],
          "surface": [
           {
            "colorbar": {
             "outlinewidth": 0,
             "ticks": ""
            },
            "colorscale": [
             [
              0,
              "#0d0887"
             ],
             [
              0.1111111111111111,
              "#46039f"
             ],
             [
              0.2222222222222222,
              "#7201a8"
             ],
             [
              0.3333333333333333,
              "#9c179e"
             ],
             [
              0.4444444444444444,
              "#bd3786"
             ],
             [
              0.5555555555555556,
              "#d8576b"
             ],
             [
              0.6666666666666666,
              "#ed7953"
             ],
             [
              0.7777777777777778,
              "#fb9f3a"
             ],
             [
              0.8888888888888888,
              "#fdca26"
             ],
             [
              1,
              "#f0f921"
             ]
            ],
            "type": "surface"
           }
          ],
          "table": [
           {
            "cells": {
             "fill": {
              "color": "#EBF0F8"
             },
             "line": {
              "color": "white"
             }
            },
            "header": {
             "fill": {
              "color": "#C8D4E3"
             },
             "line": {
              "color": "white"
             }
            },
            "type": "table"
           }
          ]
         },
         "layout": {
          "annotationdefaults": {
           "arrowcolor": "#2a3f5f",
           "arrowhead": 0,
           "arrowwidth": 1
          },
          "coloraxis": {
           "colorbar": {
            "outlinewidth": 0,
            "ticks": ""
           }
          },
          "colorscale": {
           "diverging": [
            [
             0,
             "#8e0152"
            ],
            [
             0.1,
             "#c51b7d"
            ],
            [
             0.2,
             "#de77ae"
            ],
            [
             0.3,
             "#f1b6da"
            ],
            [
             0.4,
             "#fde0ef"
            ],
            [
             0.5,
             "#f7f7f7"
            ],
            [
             0.6,
             "#e6f5d0"
            ],
            [
             0.7,
             "#b8e186"
            ],
            [
             0.8,
             "#7fbc41"
            ],
            [
             0.9,
             "#4d9221"
            ],
            [
             1,
             "#276419"
            ]
           ],
           "sequential": [
            [
             0,
             "#0d0887"
            ],
            [
             0.1111111111111111,
             "#46039f"
            ],
            [
             0.2222222222222222,
             "#7201a8"
            ],
            [
             0.3333333333333333,
             "#9c179e"
            ],
            [
             0.4444444444444444,
             "#bd3786"
            ],
            [
             0.5555555555555556,
             "#d8576b"
            ],
            [
             0.6666666666666666,
             "#ed7953"
            ],
            [
             0.7777777777777778,
             "#fb9f3a"
            ],
            [
             0.8888888888888888,
             "#fdca26"
            ],
            [
             1,
             "#f0f921"
            ]
           ],
           "sequentialminus": [
            [
             0,
             "#0d0887"
            ],
            [
             0.1111111111111111,
             "#46039f"
            ],
            [
             0.2222222222222222,
             "#7201a8"
            ],
            [
             0.3333333333333333,
             "#9c179e"
            ],
            [
             0.4444444444444444,
             "#bd3786"
            ],
            [
             0.5555555555555556,
             "#d8576b"
            ],
            [
             0.6666666666666666,
             "#ed7953"
            ],
            [
             0.7777777777777778,
             "#fb9f3a"
            ],
            [
             0.8888888888888888,
             "#fdca26"
            ],
            [
             1,
             "#f0f921"
            ]
           ]
          },
          "colorway": [
           "#636efa",
           "#EF553B",
           "#00cc96",
           "#ab63fa",
           "#FFA15A",
           "#19d3f3",
           "#FF6692",
           "#B6E880",
           "#FF97FF",
           "#FECB52"
          ],
          "font": {
           "color": "#2a3f5f"
          },
          "geo": {
           "bgcolor": "white",
           "lakecolor": "white",
           "landcolor": "#E5ECF6",
           "showlakes": true,
           "showland": true,
           "subunitcolor": "white"
          },
          "hoverlabel": {
           "align": "left"
          },
          "hovermode": "closest",
          "mapbox": {
           "style": "light"
          },
          "paper_bgcolor": "white",
          "plot_bgcolor": "#E5ECF6",
          "polar": {
           "angularaxis": {
            "gridcolor": "white",
            "linecolor": "white",
            "ticks": ""
           },
           "bgcolor": "#E5ECF6",
           "radialaxis": {
            "gridcolor": "white",
            "linecolor": "white",
            "ticks": ""
           }
          },
          "scene": {
           "xaxis": {
            "backgroundcolor": "#E5ECF6",
            "gridcolor": "white",
            "gridwidth": 2,
            "linecolor": "white",
            "showbackground": true,
            "ticks": "",
            "zerolinecolor": "white"
           },
           "yaxis": {
            "backgroundcolor": "#E5ECF6",
            "gridcolor": "white",
            "gridwidth": 2,
            "linecolor": "white",
            "showbackground": true,
            "ticks": "",
            "zerolinecolor": "white"
           },
           "zaxis": {
            "backgroundcolor": "#E5ECF6",
            "gridcolor": "white",
            "gridwidth": 2,
            "linecolor": "white",
            "showbackground": true,
            "ticks": "",
            "zerolinecolor": "white"
           }
          },
          "shapedefaults": {
           "line": {
            "color": "#2a3f5f"
           }
          },
          "ternary": {
           "aaxis": {
            "gridcolor": "white",
            "linecolor": "white",
            "ticks": ""
           },
           "baxis": {
            "gridcolor": "white",
            "linecolor": "white",
            "ticks": ""
           },
           "bgcolor": "#E5ECF6",
           "caxis": {
            "gridcolor": "white",
            "linecolor": "white",
            "ticks": ""
           }
          },
          "title": {
           "x": 0.05
          },
          "xaxis": {
           "automargin": true,
           "gridcolor": "white",
           "linecolor": "white",
           "ticks": "",
           "title": {
            "standoff": 15
           },
           "zerolinecolor": "white",
           "zerolinewidth": 2
          },
          "yaxis": {
           "automargin": true,
           "gridcolor": "white",
           "linecolor": "white",
           "ticks": "",
           "title": {
            "standoff": 15
           },
           "zerolinecolor": "white",
           "zerolinewidth": 2
          }
         }
        },
        "xaxis": {
         "anchor": "y",
         "domain": [
          0,
          1
         ],
         "title": {
          "text": "Orateur"
         }
        },
        "yaxis": {
         "anchor": "x",
         "domain": [
          0,
          1
         ],
         "title": {
          "text": "sum of nb_interventions"
         }
        }
       }
      },
      "text/html": [
       "<div>\n",
       "        \n",
       "        \n",
       "            <div id=\"9a4ab652-7e16-4758-89a2-54308ced8afb\" class=\"plotly-graph-div\" style=\"height:525px; width:100%;\"></div>\n",
       "            <script type=\"text/javascript\">\n",
       "                require([\"plotly\"], function(Plotly) {\n",
       "                    window.PLOTLYENV=window.PLOTLYENV || {};\n",
       "                    \n",
       "                if (document.getElementById(\"9a4ab652-7e16-4758-89a2-54308ced8afb\")) {\n",
       "                    Plotly.newPlot(\n",
       "                        '9a4ab652-7e16-4758-89a2-54308ced8afb',\n",
       "                        [{\"alignmentgroup\": \"True\", \"bingroup\": \"x\", \"histfunc\": \"sum\", \"hovertemplate\": \"Orateur=%{x}<br>sum of nb_interventions=%{y}<extra></extra>\", \"legendgroup\": \"\", \"marker\": {\"color\": \"#636efa\"}, \"name\": \"\", \"offsetgroup\": \"\", \"orientation\": \"v\", \"showlegend\": false, \"type\": \"histogram\", \"x\": [\"patrice perrot\", \"xavier batut\", \"sira sylla\", \"mustapha laabid\", \"jean marie fievet\", \"valeria faure muntian\", \"loic kervran\", \"benjamin dirx\", \"valerie gomez bassac\", \"samantha cazebonne\", \"valerie oppelt\", \"delphine o\", \"florence granjus\", \"brigitte liso\", \"pascale fontenel personne\", \"anne laurence petel\", \"patrice anato\", \"laurence vanceunebrock mialon\", \"pierre alain raphan\", \"sandrine le feur\", \"valerie petit\", \"bruno bonnell\", \"aina kuric\", \"denis masseglia\", \"anne france brunet\", \"sophie panonacle\", \"annaig le meur\", \"herve berville\", \"jean charles larsonneur\", \"claire pitollat\", \"nicole trisse\", \"monica michel\", \"charlotte lecocq\", \"bertrand bouyx\", \"graziella melchior\", \"jennifer de temmerman\", \"eric girardin\", \"huguette tiegna\", \"sonia krimi\", \"jean michel fauvergue\", \"emilie guerel\", \"sabine thillaye\", \"thierry michels\", \"sophie beaudouin hubiere\", \"fabienne colboc\", \"aude amadou\", \"cathy racon bouzon\", \"natalia pouzyreff\", \"nicolas demoulin\", \"benoit potterie\", \"caroline janvier\", \"gael le bohec\", \"beatrice piron\", \"laetitia saint paul\", \"barbara bessot ballot\", \"laetitia romeiro dias\", \"nicole dubre chirat\", \"christophe euzet\", \"carole grandjean\", \"cedric roussel\", \"sylvie charriere\", \"audrey dufeu schubert\", \"typhanie degois\", \"joachim son forget\", \"anne genetet\", \"gregory besson moreau\", \"fannette charvier\", \"dominique david\", \"albane gaillot\", \"damien adam\", \"fiona lazaar\", \"annie chapelier\", \"caroline abadie\", \"alexandre holroyd\", \"alice thourot\", \"jean francois mbaye\", \"vincent thiebaut\", \"perrine goulet\", \"zivka park\", \"stephanie rist\", \"cecile rilhac\", \"martine wonner\", \"agnes thill\", \"mohamed laqhila\", \"raphael gerard\", \"raphael gauvain\", \"alexandra louis\", \"benedicte peyrol\", \"veronique riotton\", \"berangere couillard\", \"gilles le gendre\", \"sacha houlie\", \"bruno studer\", \"nadia hai\", \"marie christine verdier jouclas\", \"jean baptiste djebbari\", \"thomas mesnier\", \"christophe naegelen\", \"coralie dubost\", \"catherine fabre\", \"yael braun pivet\", \"cendra motin\", \"emilie chalas\", \"laetitia avia\", \"roland lescure\", \"adrien taquet\", \"sabine rubin\", \"francois ruffin\", \"laurent pietraszewski\"], \"xaxis\": \"x\", \"y\": [31, 40, 43, 44, 47, 47, 52, 53, 66, 71, 72, 75, 78, 92, 101, 102, 106, 112, 116, 118, 119, 123, 126, 131, 131, 132, 133, 136, 137, 139, 143, 150, 152, 154, 155, 159, 167, 174, 179, 182, 183, 184, 194, 196, 199, 200, 201, 204, 210, 213, 214, 215, 226, 240, 240, 251, 253, 258, 262, 262, 264, 269, 275, 275, 283, 293, 297, 306, 308, 310, 322, 326, 336, 361, 391, 439, 446, 461, 469, 478, 527, 542, 568, 586, 594, 598, 603, 603, 675, 714, 836, 880, 895, 986, 986, 1096, 1121, 1134, 1138, 1159, 1286, 1557, 1579, 1637, 1705, 1781, 2189, 3125, 3435], \"yaxis\": \"y\"}],\n",
       "                        {\"barmode\": \"relative\", \"legend\": {\"tracegroupgap\": 0}, \"margin\": {\"t\": 60}, \"template\": {\"data\": {\"bar\": [{\"error_x\": {\"color\": \"#2a3f5f\"}, \"error_y\": {\"color\": \"#2a3f5f\"}, \"marker\": {\"line\": {\"color\": \"#E5ECF6\", \"width\": 0.5}}, \"type\": \"bar\"}], \"barpolar\": [{\"marker\": {\"line\": {\"color\": \"#E5ECF6\", \"width\": 0.5}}, \"type\": \"barpolar\"}], \"carpet\": [{\"aaxis\": {\"endlinecolor\": \"#2a3f5f\", \"gridcolor\": \"white\", \"linecolor\": \"white\", \"minorgridcolor\": \"white\", \"startlinecolor\": \"#2a3f5f\"}, \"baxis\": {\"endlinecolor\": \"#2a3f5f\", \"gridcolor\": \"white\", \"linecolor\": \"white\", \"minorgridcolor\": \"white\", \"startlinecolor\": \"#2a3f5f\"}, \"type\": \"carpet\"}], \"choropleth\": [{\"colorbar\": {\"outlinewidth\": 0, \"ticks\": \"\"}, \"type\": \"choropleth\"}], \"contour\": [{\"colorbar\": {\"outlinewidth\": 0, \"ticks\": \"\"}, \"colorscale\": [[0.0, \"#0d0887\"], [0.1111111111111111, \"#46039f\"], [0.2222222222222222, \"#7201a8\"], [0.3333333333333333, \"#9c179e\"], [0.4444444444444444, \"#bd3786\"], [0.5555555555555556, \"#d8576b\"], [0.6666666666666666, \"#ed7953\"], [0.7777777777777778, \"#fb9f3a\"], [0.8888888888888888, \"#fdca26\"], [1.0, \"#f0f921\"]], \"type\": \"contour\"}], \"contourcarpet\": [{\"colorbar\": {\"outlinewidth\": 0, \"ticks\": \"\"}, \"type\": \"contourcarpet\"}], \"heatmap\": [{\"colorbar\": {\"outlinewidth\": 0, \"ticks\": \"\"}, \"colorscale\": [[0.0, \"#0d0887\"], [0.1111111111111111, \"#46039f\"], [0.2222222222222222, \"#7201a8\"], [0.3333333333333333, \"#9c179e\"], [0.4444444444444444, \"#bd3786\"], [0.5555555555555556, \"#d8576b\"], [0.6666666666666666, \"#ed7953\"], [0.7777777777777778, \"#fb9f3a\"], [0.8888888888888888, \"#fdca26\"], [1.0, \"#f0f921\"]], \"type\": \"heatmap\"}], \"heatmapgl\": [{\"colorbar\": {\"outlinewidth\": 0, \"ticks\": \"\"}, \"colorscale\": [[0.0, \"#0d0887\"], [0.1111111111111111, \"#46039f\"], [0.2222222222222222, \"#7201a8\"], [0.3333333333333333, \"#9c179e\"], [0.4444444444444444, \"#bd3786\"], [0.5555555555555556, \"#d8576b\"], [0.6666666666666666, \"#ed7953\"], [0.7777777777777778, \"#fb9f3a\"], [0.8888888888888888, \"#fdca26\"], [1.0, \"#f0f921\"]], \"type\": \"heatmapgl\"}], \"histogram\": [{\"marker\": {\"colorbar\": {\"outlinewidth\": 0, \"ticks\": \"\"}}, \"type\": \"histogram\"}], \"histogram2d\": [{\"colorbar\": {\"outlinewidth\": 0, \"ticks\": \"\"}, \"colorscale\": [[0.0, \"#0d0887\"], [0.1111111111111111, \"#46039f\"], [0.2222222222222222, \"#7201a8\"], [0.3333333333333333, \"#9c179e\"], [0.4444444444444444, \"#bd3786\"], [0.5555555555555556, \"#d8576b\"], [0.6666666666666666, \"#ed7953\"], [0.7777777777777778, \"#fb9f3a\"], [0.8888888888888888, \"#fdca26\"], [1.0, \"#f0f921\"]], \"type\": \"histogram2d\"}], \"histogram2dcontour\": [{\"colorbar\": {\"outlinewidth\": 0, \"ticks\": \"\"}, \"colorscale\": [[0.0, \"#0d0887\"], [0.1111111111111111, \"#46039f\"], [0.2222222222222222, \"#7201a8\"], [0.3333333333333333, \"#9c179e\"], [0.4444444444444444, \"#bd3786\"], [0.5555555555555556, \"#d8576b\"], [0.6666666666666666, \"#ed7953\"], [0.7777777777777778, \"#fb9f3a\"], [0.8888888888888888, \"#fdca26\"], [1.0, \"#f0f921\"]], \"type\": \"histogram2dcontour\"}], \"mesh3d\": [{\"colorbar\": {\"outlinewidth\": 0, \"ticks\": \"\"}, \"type\": \"mesh3d\"}], \"parcoords\": [{\"line\": {\"colorbar\": {\"outlinewidth\": 0, \"ticks\": \"\"}}, \"type\": \"parcoords\"}], \"pie\": [{\"automargin\": true, \"type\": \"pie\"}], \"scatter\": [{\"marker\": {\"colorbar\": {\"outlinewidth\": 0, \"ticks\": \"\"}}, \"type\": \"scatter\"}], \"scatter3d\": [{\"line\": {\"colorbar\": {\"outlinewidth\": 0, \"ticks\": \"\"}}, \"marker\": {\"colorbar\": {\"outlinewidth\": 0, \"ticks\": \"\"}}, \"type\": \"scatter3d\"}], \"scattercarpet\": [{\"marker\": {\"colorbar\": {\"outlinewidth\": 0, \"ticks\": \"\"}}, \"type\": \"scattercarpet\"}], \"scattergeo\": [{\"marker\": {\"colorbar\": {\"outlinewidth\": 0, \"ticks\": \"\"}}, \"type\": \"scattergeo\"}], \"scattergl\": [{\"marker\": {\"colorbar\": {\"outlinewidth\": 0, \"ticks\": \"\"}}, \"type\": \"scattergl\"}], \"scattermapbox\": [{\"marker\": {\"colorbar\": {\"outlinewidth\": 0, \"ticks\": \"\"}}, \"type\": \"scattermapbox\"}], \"scatterpolar\": [{\"marker\": {\"colorbar\": {\"outlinewidth\": 0, \"ticks\": \"\"}}, \"type\": \"scatterpolar\"}], \"scatterpolargl\": [{\"marker\": {\"colorbar\": {\"outlinewidth\": 0, \"ticks\": \"\"}}, \"type\": \"scatterpolargl\"}], \"scatterternary\": [{\"marker\": {\"colorbar\": {\"outlinewidth\": 0, \"ticks\": \"\"}}, \"type\": \"scatterternary\"}], \"surface\": [{\"colorbar\": {\"outlinewidth\": 0, \"ticks\": \"\"}, \"colorscale\": [[0.0, \"#0d0887\"], [0.1111111111111111, \"#46039f\"], [0.2222222222222222, \"#7201a8\"], [0.3333333333333333, \"#9c179e\"], [0.4444444444444444, \"#bd3786\"], [0.5555555555555556, \"#d8576b\"], [0.6666666666666666, \"#ed7953\"], [0.7777777777777778, \"#fb9f3a\"], [0.8888888888888888, \"#fdca26\"], [1.0, \"#f0f921\"]], \"type\": \"surface\"}], \"table\": [{\"cells\": {\"fill\": {\"color\": \"#EBF0F8\"}, \"line\": {\"color\": \"white\"}}, \"header\": {\"fill\": {\"color\": \"#C8D4E3\"}, \"line\": {\"color\": \"white\"}}, \"type\": \"table\"}]}, \"layout\": {\"annotationdefaults\": {\"arrowcolor\": \"#2a3f5f\", \"arrowhead\": 0, \"arrowwidth\": 1}, \"coloraxis\": {\"colorbar\": {\"outlinewidth\": 0, \"ticks\": \"\"}}, \"colorscale\": {\"diverging\": [[0, \"#8e0152\"], [0.1, \"#c51b7d\"], [0.2, \"#de77ae\"], [0.3, \"#f1b6da\"], [0.4, \"#fde0ef\"], [0.5, \"#f7f7f7\"], [0.6, \"#e6f5d0\"], [0.7, \"#b8e186\"], [0.8, \"#7fbc41\"], [0.9, \"#4d9221\"], [1, \"#276419\"]], \"sequential\": [[0.0, \"#0d0887\"], [0.1111111111111111, \"#46039f\"], [0.2222222222222222, \"#7201a8\"], [0.3333333333333333, \"#9c179e\"], [0.4444444444444444, \"#bd3786\"], [0.5555555555555556, \"#d8576b\"], [0.6666666666666666, \"#ed7953\"], [0.7777777777777778, \"#fb9f3a\"], [0.8888888888888888, \"#fdca26\"], [1.0, \"#f0f921\"]], \"sequentialminus\": [[0.0, \"#0d0887\"], [0.1111111111111111, \"#46039f\"], [0.2222222222222222, \"#7201a8\"], [0.3333333333333333, \"#9c179e\"], [0.4444444444444444, \"#bd3786\"], [0.5555555555555556, \"#d8576b\"], [0.6666666666666666, \"#ed7953\"], [0.7777777777777778, \"#fb9f3a\"], [0.8888888888888888, \"#fdca26\"], [1.0, \"#f0f921\"]]}, \"colorway\": [\"#636efa\", \"#EF553B\", \"#00cc96\", \"#ab63fa\", \"#FFA15A\", \"#19d3f3\", \"#FF6692\", \"#B6E880\", \"#FF97FF\", \"#FECB52\"], \"font\": {\"color\": \"#2a3f5f\"}, \"geo\": {\"bgcolor\": \"white\", \"lakecolor\": \"white\", \"landcolor\": \"#E5ECF6\", \"showlakes\": true, \"showland\": true, \"subunitcolor\": \"white\"}, \"hoverlabel\": {\"align\": \"left\"}, \"hovermode\": \"closest\", \"mapbox\": {\"style\": \"light\"}, \"paper_bgcolor\": \"white\", \"plot_bgcolor\": \"#E5ECF6\", \"polar\": {\"angularaxis\": {\"gridcolor\": \"white\", \"linecolor\": \"white\", \"ticks\": \"\"}, \"bgcolor\": \"#E5ECF6\", \"radialaxis\": {\"gridcolor\": \"white\", \"linecolor\": \"white\", \"ticks\": \"\"}}, \"scene\": {\"xaxis\": {\"backgroundcolor\": \"#E5ECF6\", \"gridcolor\": \"white\", \"gridwidth\": 2, \"linecolor\": \"white\", \"showbackground\": true, \"ticks\": \"\", \"zerolinecolor\": \"white\"}, \"yaxis\": {\"backgroundcolor\": \"#E5ECF6\", \"gridcolor\": \"white\", \"gridwidth\": 2, \"linecolor\": \"white\", \"showbackground\": true, \"ticks\": \"\", \"zerolinecolor\": \"white\"}, \"zaxis\": {\"backgroundcolor\": \"#E5ECF6\", \"gridcolor\": \"white\", \"gridwidth\": 2, \"linecolor\": \"white\", \"showbackground\": true, \"ticks\": \"\", \"zerolinecolor\": \"white\"}}, \"shapedefaults\": {\"line\": {\"color\": \"#2a3f5f\"}}, \"ternary\": {\"aaxis\": {\"gridcolor\": \"white\", \"linecolor\": \"white\", \"ticks\": \"\"}, \"baxis\": {\"gridcolor\": \"white\", \"linecolor\": \"white\", \"ticks\": \"\"}, \"bgcolor\": \"#E5ECF6\", \"caxis\": {\"gridcolor\": \"white\", \"linecolor\": \"white\", \"ticks\": \"\"}}, \"title\": {\"x\": 0.05}, \"xaxis\": {\"automargin\": true, \"gridcolor\": \"white\", \"linecolor\": \"white\", \"ticks\": \"\", \"title\": {\"standoff\": 15}, \"zerolinecolor\": \"white\", \"zerolinewidth\": 2}, \"yaxis\": {\"automargin\": true, \"gridcolor\": \"white\", \"linecolor\": \"white\", \"ticks\": \"\", \"title\": {\"standoff\": 15}, \"zerolinecolor\": \"white\", \"zerolinewidth\": 2}}}, \"xaxis\": {\"anchor\": \"y\", \"domain\": [0.0, 1.0], \"title\": {\"text\": \"Orateur\"}}, \"yaxis\": {\"anchor\": \"x\", \"domain\": [0.0, 1.0], \"title\": {\"text\": \"sum of nb_interventions\"}}},\n",
       "                        {\"responsive\": true}\n",
       "                    ).then(function(){\n",
       "                            \n",
       "var gd = document.getElementById('9a4ab652-7e16-4758-89a2-54308ced8afb');\n",
       "var x = new MutationObserver(function (mutations, observer) {{\n",
       "        var display = window.getComputedStyle(gd).display;\n",
       "        if (!display || display === 'none') {{\n",
       "            console.log([gd, 'removed!']);\n",
       "            Plotly.purge(gd);\n",
       "            observer.disconnect();\n",
       "        }}\n",
       "}});\n",
       "\n",
       "// Listen for the removal of the full notebook cells\n",
       "var notebookContainer = gd.closest('#notebook-container');\n",
       "if (notebookContainer) {{\n",
       "    x.observe(notebookContainer, {childList: true});\n",
       "}}\n",
       "\n",
       "// Listen for the clearing of the current output cell\n",
       "var outputEl = gd.closest('.output');\n",
       "if (outputEl) {{\n",
       "    x.observe(outputEl, {childList: true});\n",
       "}}\n",
       "\n",
       "                        })\n",
       "                };\n",
       "                });\n",
       "            </script>\n",
       "        </div>"
      ]
     },
     "metadata": {},
     "output_type": "display_data"
    }
   ],
   "source": [
    "px.histogram(df[df['Groupe'] == 'Novice'].drop_duplicates(subset = ['Orateur'], keep = 'first').sort_values(by = 'nb_interventions'), x = 'Orateur', y = 'nb_interventions')"
   ]
  },
  {
   "cell_type": "markdown",
   "metadata": {},
   "source": [
    "Pour les non-novices : "
   ]
  },
  {
   "cell_type": "code",
   "execution_count": 66,
   "metadata": {},
   "outputs": [
    {
     "data": {
      "application/vnd.plotly.v1+json": {
       "config": {
        "plotlyServerURL": "https://plot.ly"
       },
       "data": [
        {
         "alignmentgroup": "True",
         "bingroup": "x",
         "histfunc": "sum",
         "hovertemplate": "Orateur=%{x}<br>sum of nb_interventions=%{y}<extra></extra>",
         "legendgroup": "",
         "marker": {
          "color": "#636efa"
         },
         "name": "",
         "offsetgroup": "",
         "orientation": "v",
         "showlegend": false,
         "type": "histogram",
         "x": [
          "bernard brochand",
          "bernard reynes",
          "patrick vignal",
          "michele tabarot",
          "thierry solere",
          "gwendal rouillard",
          "franck marlin",
          "philippe huppe",
          "gregory galbadon",
          "stephane trompille",
          "bernard deflesselles",
          "sebastien cazenove",
          "cecile muschotti",
          "daniele cazarian",
          "olivier dassault",
          "stephane claireaux",
          "andre villiers",
          "lenaick adam",
          "jean francois portarrieu",
          "carole bureau bonnard",
          "jacques krabal",
          "jacqueline maquet",
          "sophie errante",
          "alexandra valetta ardisson",
          "stephane buchou",
          "yves blein",
          "patricia gallerneau",
          "valerie thomas",
          "michele crouzet",
          "michel delpon",
          "marion lenne",
          "adrien morenas",
          "loic dombreval",
          "daniele herin",
          "jean francois parigi",
          "anissa khedher",
          "didier baichere",
          "anne blanc",
          "frederique lardet",
          "nicole le peih",
          "christophe lejeune",
          "florian bachelier",
          "christophe di pompeo",
          "philippe folliot",
          "didier quentin",
          "hugues renson",
          "jose evrard",
          "buon tan",
          "sandrine josso",
          "yannick haury",
          "thomas gassilloud",
          "rodrigue kokouendo",
          "frederic barbier",
          "jacques cattin",
          "severine gipson",
          "cedric villani",
          "claire guion firmin",
          "jean jacques gaultier",
          "pierre cabare",
          "laurence gayte",
          "jean philippe ardouin",
          "pierre henriet",
          "claude de ganay",
          "jacques savatier",
          "emmanuelle fontaine domeizel",
          "francois andre",
          "marianne dubois",
          "manuel valls",
          "christine cloarec",
          "jean francois cesarini",
          "philippe chassaing",
          "yves daniel",
          "jean michel mis",
          "genevieve levy",
          "mireille robert",
          "olga givernet",
          "fabien matras",
          "francoise dumas",
          "pierre person",
          "martine leguille balloy",
          "romain grau",
          "alexandre freschi",
          "jean pierre pont",
          "christophe arend",
          "jean jacques ferrara",
          "mireille clapot",
          "lionel causse",
          "jean bernard sempastous",
          "marjolaine meynier millefert",
          "aude bono vandorme",
          "bruno joncour",
          "michel fanget",
          "sandra marsaud",
          "marine brenier",
          "michel vialay",
          "guy teissier",
          "monique iborra",
          "sandrine morch",
          "yannick kerlogot",
          "maurice leroy",
          "stephanie do",
          "olivier damaisin",
          "hubert julien laferriere",
          "ramlati ali",
          "philippe michel kleisbauer",
          "fabien gouttefarde",
          "pascal bois",
          "isabelle rauch",
          "pascale boyer",
          "david lorion",
          "herve pellois",
          "emmanuel maquet",
          "blandine brocard",
          "marc delatte",
          "josy poueyto",
          "nathalie sarles",
          "frederique tuffnell",
          "elisabeth toutut picard",
          "celine calvez",
          "florence lasserre david",
          "marie ange magne",
          "max mathiasin",
          "philippe chalumeau",
          "laurence trastour isnart",
          "alain tourret",
          "louis aliot",
          "michele peyron",
          "jean claude leclabart",
          "olivier falorni",
          "veronique hammerer",
          "didier le gac",
          "said ahamada",
          "liliana tanguy",
          "corinne vignon",
          "nadia ramassamy",
          "michel lauzzana",
          "eric poulliat",
          "sebastien nadot",
          "dominique da silva",
          "francois cornut gentille",
          "jean charles taugourdeau",
          "frederic descrozaille",
          "fabrice le vigoureux",
          "jean michel jacques",
          "olivier gaillard",
          "bertrand sorre",
          "didier martin",
          "nathalie bassire",
          "marguerite deprez audebert",
          "nicole sanquer",
          "pieyre alexandre anglade",
          "annie vidal",
          "jean pierre cubertafon",
          "dimitri houbron",
          "christine hennion",
          "francois cormier bouligeon",
          "sereine mauborgne",
          "marie pierre rixain",
          "monique limon",
          "berengere poletti",
          "anne laure cattelot",
          "jean luc reitzer",
          "philippe bolo",
          "thomas rudigoz",
          "jean claude bouchet",
          "jacqueline dubois",
          "damien pichereau",
          "patricia miralles",
          "berangere abba",
          "fabien laine",
          "bruno duverge",
          "belkhir belhaddad",
          "helene vainqueur christophe",
          "helene zannier",
          "fadila khattabi",
          "frederique meunier",
          "laurent garcia",
          "valerie bazin malgras",
          "olivier serva",
          "luc carvounas",
          "xavier paluszkiewicz",
          "mickael nogal",
          "catherine osson",
          "celia de lavergne",
          "florent boudie",
          "jean luc warsmann",
          "benoit simian",
          "pierre vatin",
          "vincent rolland",
          "vincent bru",
          "gilbert collard",
          "gerard menuel",
          "xavier roseren",
          "josette manin",
          "laurence maillart mehaignerie",
          "moetai brotherson",
          "josiane corneloup",
          "justine benin",
          "eric pauget",
          "catherine kamowski",
          "stephane mazars",
          "stephane teste",
          "ludovic mendes",
          "alain perea",
          "jean luc lagleize",
          "antoine herth",
          "delphine bagarry",
          "huguette bello",
          "marie tamarelle verhaeghe",
          "christophe blanchet",
          "aude luquet",
          "geraldine bannier",
          "sophie mette",
          "patrice verchere",
          "michel herbillon",
          "maud petit",
          "richard ramos",
          "jean michel clement",
          "jacques marilossian",
          "jean yves bony",
          "julien borowczyk",
          "eric alauzet",
          "bruno bilde",
          "muriel ressiguier",
          "yolaine de courson",
          "vincent ledoux",
          "jean francois eliaou",
          "jean marc zulesi",
          "aurore berge",
          "jacques maire",
          "paula forteza",
          "stephane demilly",
          "anthony cellier",
          "bernard perrut",
          "philippe gomes",
          "eric bothorel",
          "guy bricout",
          "nadia essayan",
          "brahim hammouche",
          "christophe jerretie",
          "elodie jacquier laforge",
          "jean philippe nilor",
          "aurelien tache",
          "anne christine lang",
          "mansour kamardine",
          "sebastien huyghe",
          "charles de la verpilliere",
          "robin reda",
          "isabelle valentin",
          "anne brugnera",
          "philippe berta",
          "francois jolivet",
          "sebastien leclerc",
          "ian boucard",
          "marie lebec",
          "stephanie kerbarh",
          "paul andre colombani",
          "marielle de sarnez",
          "valerie beauvais",
          "danielle brulebois",
          "denis sommer",
          "richard lioger",
          "philippe dunoyer",
          "jean carles grelier",
          "virginie duby muller",
          "emmanuelle anthoine",
          "olivier becht",
          "isabelle florennes",
          "matthieu orphelin",
          "nicolas forissier",
          "jean louis masson",
          "alain ramadier",
          "pierre yves bournazel",
          "cyrille isaac sibille",
          "jean terlier",
          "jean charles colas roy",
          "stella dupont",
          "daniel labaronne",
          "laurence vichnievsky",
          "jean louis bourlanges",
          "laurianne rossi",
          "julien dive",
          "beatrice descamps",
          "jean louis touraine",
          "brigitte bourguignon",
          "jean pierre vigier",
          "gisele biemouret",
          "benedicte taurine",
          "alain david",
          "gerard cherpion",
          "joaquim pueyo",
          "michel zumkeller",
          "sylvain waserman",
          "frederic petit",
          "marie guevenoux",
          "eric diard",
          "annie genevard",
          "olivia gregoire",
          "jean jacques bridey",
          "gabriel attal",
          "frederique dumas",
          "george pau langevin",
          "ericka bareigts",
          "bruno fuchs",
          "nicolas dupont aignan",
          "olivier marleix",
          "claude goasguen",
          "ludovic pajot",
          "meyer habib",
          "jean luc fugit",
          "maina sage",
          "michele de vaucouleurs",
          "gabriel serville",
          "marine le pen",
          "marie george buffet",
          "bruno questel",
          "dino cinieri",
          "jean rene cazeneuve",
          "laurence dumont",
          "sylvia pinel",
          "philippe latombe",
          "gilles carrez",
          "nathalie elimas",
          "sarah el hairy",
          "didier paris",
          "stanislas guerini",
          "michel larive",
          "patrick mignola",
          "yannick favennec becot",
          "elise fajgeles",
          "barbara pompili",
          "valerie lacroute",
          "paul molac",
          "jean felix acquaviva",
          "lise magnier",
          "christophe bouillon",
          "herve saulignac",
          "olivier faure",
          "jean paul mattei",
          "francis vercamer",
          "frederic reiss",
          "martial saddier",
          "jeanine dubie",
          "joel aviragnet",
          "marietta karamanli",
          "serge letchimy",
          "valerie boyer",
          "emilie cariou",
          "sylvain maillard",
          "xavier breton",
          "laure de la raudiere",
          "sebastien chenu",
          "francois michel lambert",
          "jean noel barrot",
          "jean lassalle",
          "franck riester",
          "jean pierre door",
          "stephane viry",
          "delphine batho",
          "sophie auconie",
          "agnes firmin le bodo",
          "emilie bonnivard",
          "jean hugues ratenon",
          "damien abad",
          "jean marie sermier",
          "constance le grip",
          "laurent furst",
          "paul christophe",
          "bertrand pancher",
          "david habib",
          "nicolas turquois",
          "marie noelle battistel",
          "laurent saint martin",
          "amelie de montchalin",
          "eric straumann",
          "christian hutin",
          "christian jacob",
          "regis juanico",
          "brigitte kuster",
          "jean baptiste moreau",
          "eric ciotti",
          "arnaud viala",
          "daniel fasquelle",
          "alain bruneel",
          "aurelien pradie",
          "cecile untermaier",
          "fabrice brun",
          "jean christophe lagarde",
          "pierre henri dumont",
          "adrien quatennens",
          "marc fesneau",
          "vincent descoeur",
          "elsa faucillon",
          "jean louis bricout",
          "clementine autain",
          "bruno millienne",
          "michel castellani",
          "hubert wulfranc",
          "bastien lachaud",
          "christine pires beaune",
          "julien aubert",
          "christelle dubos",
          "erwan balanant",
          "dominique potier",
          "thierry benoit",
          "marie christine dalloz",
          "eric woerth",
          "fabien roussel",
          "mathilde panot",
          "francois pupponi",
          "raphael schellenberger",
          "boris vallaud",
          "gilles lurton",
          "philippe gosselin",
          "philippe vigier",
          "patrick hetzel",
          "jean paul dufregne",
          "alexis corbiere",
          "andre chassaigne",
          "caroline fiat",
          "marc le fur",
          "valerie rabault",
          "pierre cordier",
          "veronique louwagie",
          "charles de courson",
          "stephane peu",
          "olivier veran",
          "fabien di filippo",
          "jean paul lecoq",
          "emmanuelle menard",
          "jean luc melenchon",
          "pierre dharreville",
          "thibault bazin",
          "eric coquerel",
          "joel giraud",
          "ugo bernalicis",
          "sebastien jumel",
          "daniele obono",
          "richard ferrand",
          "francois de rugy"
         ],
         "xaxis": "x",
         "y": [
          3,
          17,
          20,
          21,
          25,
          25,
          29,
          39,
          46,
          48,
          48,
          50,
          52,
          56,
          59,
          60,
          60,
          60,
          61,
          62,
          63,
          65,
          67,
          67,
          69,
          70,
          71,
          75,
          75,
          75,
          75,
          79,
          80,
          81,
          81,
          81,
          83,
          84,
          86,
          87,
          91,
          91,
          94,
          95,
          95,
          96,
          97,
          98,
          99,
          99,
          100,
          100,
          105,
          106,
          106,
          107,
          111,
          111,
          113,
          114,
          115,
          118,
          121,
          123,
          123,
          125,
          126,
          127,
          129,
          131,
          132,
          135,
          137,
          137,
          137,
          141,
          141,
          142,
          142,
          143,
          146,
          146,
          147,
          149,
          154,
          159,
          159,
          160,
          162,
          163,
          165,
          166,
          168,
          170,
          170,
          171,
          173,
          175,
          180,
          183,
          183,
          184,
          184,
          185,
          186,
          187,
          187,
          189,
          193,
          195,
          196,
          196,
          196,
          198,
          202,
          202,
          204,
          205,
          207,
          207,
          208,
          208,
          208,
          210,
          210,
          213,
          215,
          215,
          216,
          217,
          217,
          218,
          218,
          219,
          221,
          221,
          222,
          225,
          226,
          228,
          230,
          231,
          233,
          234,
          237,
          239,
          244,
          246,
          246,
          249,
          252,
          260,
          261,
          263,
          263,
          270,
          274,
          275,
          281,
          287,
          289,
          290,
          293,
          294,
          295,
          297,
          297,
          301,
          303,
          306,
          307,
          310,
          314,
          315,
          318,
          318,
          319,
          319,
          320,
          321,
          321,
          322,
          332,
          333,
          333,
          335,
          343,
          345,
          345,
          355,
          356,
          357,
          358,
          364,
          368,
          368,
          373,
          375,
          384,
          387,
          402,
          403,
          404,
          406,
          408,
          413,
          421,
          426,
          427,
          430,
          431,
          432,
          432,
          433,
          444,
          456,
          456,
          460,
          463,
          465,
          467,
          469,
          469,
          474,
          476,
          479,
          482,
          494,
          497,
          497,
          498,
          498,
          501,
          522,
          524,
          529,
          531,
          532,
          536,
          544,
          547,
          550,
          553,
          556,
          558,
          572,
          572,
          579,
          583,
          592,
          596,
          599,
          608,
          614,
          623,
          626,
          636,
          639,
          643,
          649,
          659,
          666,
          674,
          679,
          680,
          703,
          706,
          707,
          714,
          717,
          721,
          725,
          727,
          728,
          731,
          744,
          747,
          754,
          755,
          757,
          765,
          783,
          786,
          795,
          798,
          799,
          801,
          808,
          810,
          813,
          816,
          822,
          833,
          834,
          843,
          852,
          862,
          868,
          876,
          918,
          925,
          930,
          932,
          932,
          953,
          972,
          973,
          976,
          993,
          993,
          997,
          999,
          1004,
          1016,
          1027,
          1049,
          1054,
          1054,
          1064,
          1065,
          1085,
          1102,
          1104,
          1105,
          1109,
          1117,
          1131,
          1148,
          1152,
          1176,
          1188,
          1213,
          1221,
          1234,
          1247,
          1257,
          1258,
          1259,
          1265,
          1277,
          1297,
          1302,
          1316,
          1316,
          1324,
          1332,
          1345,
          1349,
          1354,
          1356,
          1365,
          1383,
          1384,
          1394,
          1394,
          1405,
          1408,
          1411,
          1424,
          1445,
          1462,
          1471,
          1482,
          1492,
          1497,
          1533,
          1546,
          1561,
          1566,
          1584,
          1621,
          1637,
          1690,
          1706,
          1712,
          1715,
          1733,
          1759,
          1763,
          1764,
          1790,
          1833,
          1865,
          1914,
          1963,
          2060,
          2094,
          2179,
          2184,
          2206,
          2208,
          2212,
          2242,
          2317,
          2323,
          2361,
          2396,
          2454,
          2530,
          2653,
          2693,
          2798,
          2919,
          2935,
          2937,
          3010,
          3161,
          3175,
          3200,
          3221,
          3227,
          3287,
          3401,
          3462,
          3508,
          3556,
          3625,
          3822,
          3917,
          4039,
          4114,
          4427,
          4545,
          4576,
          4682,
          5045,
          5047,
          5485,
          5525,
          5635,
          5957,
          6118,
          6222,
          6264,
          6441,
          6611,
          6708,
          7033,
          16837,
          21451
         ],
         "yaxis": "y"
        }
       ],
       "layout": {
        "barmode": "relative",
        "legend": {
         "tracegroupgap": 0
        },
        "margin": {
         "t": 60
        },
        "template": {
         "data": {
          "bar": [
           {
            "error_x": {
             "color": "#2a3f5f"
            },
            "error_y": {
             "color": "#2a3f5f"
            },
            "marker": {
             "line": {
              "color": "#E5ECF6",
              "width": 0.5
             }
            },
            "type": "bar"
           }
          ],
          "barpolar": [
           {
            "marker": {
             "line": {
              "color": "#E5ECF6",
              "width": 0.5
             }
            },
            "type": "barpolar"
           }
          ],
          "carpet": [
           {
            "aaxis": {
             "endlinecolor": "#2a3f5f",
             "gridcolor": "white",
             "linecolor": "white",
             "minorgridcolor": "white",
             "startlinecolor": "#2a3f5f"
            },
            "baxis": {
             "endlinecolor": "#2a3f5f",
             "gridcolor": "white",
             "linecolor": "white",
             "minorgridcolor": "white",
             "startlinecolor": "#2a3f5f"
            },
            "type": "carpet"
           }
          ],
          "choropleth": [
           {
            "colorbar": {
             "outlinewidth": 0,
             "ticks": ""
            },
            "type": "choropleth"
           }
          ],
          "contour": [
           {
            "colorbar": {
             "outlinewidth": 0,
             "ticks": ""
            },
            "colorscale": [
             [
              0,
              "#0d0887"
             ],
             [
              0.1111111111111111,
              "#46039f"
             ],
             [
              0.2222222222222222,
              "#7201a8"
             ],
             [
              0.3333333333333333,
              "#9c179e"
             ],
             [
              0.4444444444444444,
              "#bd3786"
             ],
             [
              0.5555555555555556,
              "#d8576b"
             ],
             [
              0.6666666666666666,
              "#ed7953"
             ],
             [
              0.7777777777777778,
              "#fb9f3a"
             ],
             [
              0.8888888888888888,
              "#fdca26"
             ],
             [
              1,
              "#f0f921"
             ]
            ],
            "type": "contour"
           }
          ],
          "contourcarpet": [
           {
            "colorbar": {
             "outlinewidth": 0,
             "ticks": ""
            },
            "type": "contourcarpet"
           }
          ],
          "heatmap": [
           {
            "colorbar": {
             "outlinewidth": 0,
             "ticks": ""
            },
            "colorscale": [
             [
              0,
              "#0d0887"
             ],
             [
              0.1111111111111111,
              "#46039f"
             ],
             [
              0.2222222222222222,
              "#7201a8"
             ],
             [
              0.3333333333333333,
              "#9c179e"
             ],
             [
              0.4444444444444444,
              "#bd3786"
             ],
             [
              0.5555555555555556,
              "#d8576b"
             ],
             [
              0.6666666666666666,
              "#ed7953"
             ],
             [
              0.7777777777777778,
              "#fb9f3a"
             ],
             [
              0.8888888888888888,
              "#fdca26"
             ],
             [
              1,
              "#f0f921"
             ]
            ],
            "type": "heatmap"
           }
          ],
          "heatmapgl": [
           {
            "colorbar": {
             "outlinewidth": 0,
             "ticks": ""
            },
            "colorscale": [
             [
              0,
              "#0d0887"
             ],
             [
              0.1111111111111111,
              "#46039f"
             ],
             [
              0.2222222222222222,
              "#7201a8"
             ],
             [
              0.3333333333333333,
              "#9c179e"
             ],
             [
              0.4444444444444444,
              "#bd3786"
             ],
             [
              0.5555555555555556,
              "#d8576b"
             ],
             [
              0.6666666666666666,
              "#ed7953"
             ],
             [
              0.7777777777777778,
              "#fb9f3a"
             ],
             [
              0.8888888888888888,
              "#fdca26"
             ],
             [
              1,
              "#f0f921"
             ]
            ],
            "type": "heatmapgl"
           }
          ],
          "histogram": [
           {
            "marker": {
             "colorbar": {
              "outlinewidth": 0,
              "ticks": ""
             }
            },
            "type": "histogram"
           }
          ],
          "histogram2d": [
           {
            "colorbar": {
             "outlinewidth": 0,
             "ticks": ""
            },
            "colorscale": [
             [
              0,
              "#0d0887"
             ],
             [
              0.1111111111111111,
              "#46039f"
             ],
             [
              0.2222222222222222,
              "#7201a8"
             ],
             [
              0.3333333333333333,
              "#9c179e"
             ],
             [
              0.4444444444444444,
              "#bd3786"
             ],
             [
              0.5555555555555556,
              "#d8576b"
             ],
             [
              0.6666666666666666,
              "#ed7953"
             ],
             [
              0.7777777777777778,
              "#fb9f3a"
             ],
             [
              0.8888888888888888,
              "#fdca26"
             ],
             [
              1,
              "#f0f921"
             ]
            ],
            "type": "histogram2d"
           }
          ],
          "histogram2dcontour": [
           {
            "colorbar": {
             "outlinewidth": 0,
             "ticks": ""
            },
            "colorscale": [
             [
              0,
              "#0d0887"
             ],
             [
              0.1111111111111111,
              "#46039f"
             ],
             [
              0.2222222222222222,
              "#7201a8"
             ],
             [
              0.3333333333333333,
              "#9c179e"
             ],
             [
              0.4444444444444444,
              "#bd3786"
             ],
             [
              0.5555555555555556,
              "#d8576b"
             ],
             [
              0.6666666666666666,
              "#ed7953"
             ],
             [
              0.7777777777777778,
              "#fb9f3a"
             ],
             [
              0.8888888888888888,
              "#fdca26"
             ],
             [
              1,
              "#f0f921"
             ]
            ],
            "type": "histogram2dcontour"
           }
          ],
          "mesh3d": [
           {
            "colorbar": {
             "outlinewidth": 0,
             "ticks": ""
            },
            "type": "mesh3d"
           }
          ],
          "parcoords": [
           {
            "line": {
             "colorbar": {
              "outlinewidth": 0,
              "ticks": ""
             }
            },
            "type": "parcoords"
           }
          ],
          "pie": [
           {
            "automargin": true,
            "type": "pie"
           }
          ],
          "scatter": [
           {
            "marker": {
             "colorbar": {
              "outlinewidth": 0,
              "ticks": ""
             }
            },
            "type": "scatter"
           }
          ],
          "scatter3d": [
           {
            "line": {
             "colorbar": {
              "outlinewidth": 0,
              "ticks": ""
             }
            },
            "marker": {
             "colorbar": {
              "outlinewidth": 0,
              "ticks": ""
             }
            },
            "type": "scatter3d"
           }
          ],
          "scattercarpet": [
           {
            "marker": {
             "colorbar": {
              "outlinewidth": 0,
              "ticks": ""
             }
            },
            "type": "scattercarpet"
           }
          ],
          "scattergeo": [
           {
            "marker": {
             "colorbar": {
              "outlinewidth": 0,
              "ticks": ""
             }
            },
            "type": "scattergeo"
           }
          ],
          "scattergl": [
           {
            "marker": {
             "colorbar": {
              "outlinewidth": 0,
              "ticks": ""
             }
            },
            "type": "scattergl"
           }
          ],
          "scattermapbox": [
           {
            "marker": {
             "colorbar": {
              "outlinewidth": 0,
              "ticks": ""
             }
            },
            "type": "scattermapbox"
           }
          ],
          "scatterpolar": [
           {
            "marker": {
             "colorbar": {
              "outlinewidth": 0,
              "ticks": ""
             }
            },
            "type": "scatterpolar"
           }
          ],
          "scatterpolargl": [
           {
            "marker": {
             "colorbar": {
              "outlinewidth": 0,
              "ticks": ""
             }
            },
            "type": "scatterpolargl"
           }
          ],
          "scatterternary": [
           {
            "marker": {
             "colorbar": {
              "outlinewidth": 0,
              "ticks": ""
             }
            },
            "type": "scatterternary"
           }
          ],
          "surface": [
           {
            "colorbar": {
             "outlinewidth": 0,
             "ticks": ""
            },
            "colorscale": [
             [
              0,
              "#0d0887"
             ],
             [
              0.1111111111111111,
              "#46039f"
             ],
             [
              0.2222222222222222,
              "#7201a8"
             ],
             [
              0.3333333333333333,
              "#9c179e"
             ],
             [
              0.4444444444444444,
              "#bd3786"
             ],
             [
              0.5555555555555556,
              "#d8576b"
             ],
             [
              0.6666666666666666,
              "#ed7953"
             ],
             [
              0.7777777777777778,
              "#fb9f3a"
             ],
             [
              0.8888888888888888,
              "#fdca26"
             ],
             [
              1,
              "#f0f921"
             ]
            ],
            "type": "surface"
           }
          ],
          "table": [
           {
            "cells": {
             "fill": {
              "color": "#EBF0F8"
             },
             "line": {
              "color": "white"
             }
            },
            "header": {
             "fill": {
              "color": "#C8D4E3"
             },
             "line": {
              "color": "white"
             }
            },
            "type": "table"
           }
          ]
         },
         "layout": {
          "annotationdefaults": {
           "arrowcolor": "#2a3f5f",
           "arrowhead": 0,
           "arrowwidth": 1
          },
          "coloraxis": {
           "colorbar": {
            "outlinewidth": 0,
            "ticks": ""
           }
          },
          "colorscale": {
           "diverging": [
            [
             0,
             "#8e0152"
            ],
            [
             0.1,
             "#c51b7d"
            ],
            [
             0.2,
             "#de77ae"
            ],
            [
             0.3,
             "#f1b6da"
            ],
            [
             0.4,
             "#fde0ef"
            ],
            [
             0.5,
             "#f7f7f7"
            ],
            [
             0.6,
             "#e6f5d0"
            ],
            [
             0.7,
             "#b8e186"
            ],
            [
             0.8,
             "#7fbc41"
            ],
            [
             0.9,
             "#4d9221"
            ],
            [
             1,
             "#276419"
            ]
           ],
           "sequential": [
            [
             0,
             "#0d0887"
            ],
            [
             0.1111111111111111,
             "#46039f"
            ],
            [
             0.2222222222222222,
             "#7201a8"
            ],
            [
             0.3333333333333333,
             "#9c179e"
            ],
            [
             0.4444444444444444,
             "#bd3786"
            ],
            [
             0.5555555555555556,
             "#d8576b"
            ],
            [
             0.6666666666666666,
             "#ed7953"
            ],
            [
             0.7777777777777778,
             "#fb9f3a"
            ],
            [
             0.8888888888888888,
             "#fdca26"
            ],
            [
             1,
             "#f0f921"
            ]
           ],
           "sequentialminus": [
            [
             0,
             "#0d0887"
            ],
            [
             0.1111111111111111,
             "#46039f"
            ],
            [
             0.2222222222222222,
             "#7201a8"
            ],
            [
             0.3333333333333333,
             "#9c179e"
            ],
            [
             0.4444444444444444,
             "#bd3786"
            ],
            [
             0.5555555555555556,
             "#d8576b"
            ],
            [
             0.6666666666666666,
             "#ed7953"
            ],
            [
             0.7777777777777778,
             "#fb9f3a"
            ],
            [
             0.8888888888888888,
             "#fdca26"
            ],
            [
             1,
             "#f0f921"
            ]
           ]
          },
          "colorway": [
           "#636efa",
           "#EF553B",
           "#00cc96",
           "#ab63fa",
           "#FFA15A",
           "#19d3f3",
           "#FF6692",
           "#B6E880",
           "#FF97FF",
           "#FECB52"
          ],
          "font": {
           "color": "#2a3f5f"
          },
          "geo": {
           "bgcolor": "white",
           "lakecolor": "white",
           "landcolor": "#E5ECF6",
           "showlakes": true,
           "showland": true,
           "subunitcolor": "white"
          },
          "hoverlabel": {
           "align": "left"
          },
          "hovermode": "closest",
          "mapbox": {
           "style": "light"
          },
          "paper_bgcolor": "white",
          "plot_bgcolor": "#E5ECF6",
          "polar": {
           "angularaxis": {
            "gridcolor": "white",
            "linecolor": "white",
            "ticks": ""
           },
           "bgcolor": "#E5ECF6",
           "radialaxis": {
            "gridcolor": "white",
            "linecolor": "white",
            "ticks": ""
           }
          },
          "scene": {
           "xaxis": {
            "backgroundcolor": "#E5ECF6",
            "gridcolor": "white",
            "gridwidth": 2,
            "linecolor": "white",
            "showbackground": true,
            "ticks": "",
            "zerolinecolor": "white"
           },
           "yaxis": {
            "backgroundcolor": "#E5ECF6",
            "gridcolor": "white",
            "gridwidth": 2,
            "linecolor": "white",
            "showbackground": true,
            "ticks": "",
            "zerolinecolor": "white"
           },
           "zaxis": {
            "backgroundcolor": "#E5ECF6",
            "gridcolor": "white",
            "gridwidth": 2,
            "linecolor": "white",
            "showbackground": true,
            "ticks": "",
            "zerolinecolor": "white"
           }
          },
          "shapedefaults": {
           "line": {
            "color": "#2a3f5f"
           }
          },
          "ternary": {
           "aaxis": {
            "gridcolor": "white",
            "linecolor": "white",
            "ticks": ""
           },
           "baxis": {
            "gridcolor": "white",
            "linecolor": "white",
            "ticks": ""
           },
           "bgcolor": "#E5ECF6",
           "caxis": {
            "gridcolor": "white",
            "linecolor": "white",
            "ticks": ""
           }
          },
          "title": {
           "x": 0.05
          },
          "xaxis": {
           "automargin": true,
           "gridcolor": "white",
           "linecolor": "white",
           "ticks": "",
           "title": {
            "standoff": 15
           },
           "zerolinecolor": "white",
           "zerolinewidth": 2
          },
          "yaxis": {
           "automargin": true,
           "gridcolor": "white",
           "linecolor": "white",
           "ticks": "",
           "title": {
            "standoff": 15
           },
           "zerolinecolor": "white",
           "zerolinewidth": 2
          }
         }
        },
        "xaxis": {
         "anchor": "y",
         "domain": [
          0,
          1
         ],
         "title": {
          "text": "Orateur"
         }
        },
        "yaxis": {
         "anchor": "x",
         "domain": [
          0,
          1
         ],
         "title": {
          "text": "sum of nb_interventions"
         }
        }
       }
      },
      "text/html": [
       "<div>\n",
       "        \n",
       "        \n",
       "            <div id=\"130a3ef3-73d6-499e-b27a-755869e479d9\" class=\"plotly-graph-div\" style=\"height:525px; width:100%;\"></div>\n",
       "            <script type=\"text/javascript\">\n",
       "                require([\"plotly\"], function(Plotly) {\n",
       "                    window.PLOTLYENV=window.PLOTLYENV || {};\n",
       "                    \n",
       "                if (document.getElementById(\"130a3ef3-73d6-499e-b27a-755869e479d9\")) {\n",
       "                    Plotly.newPlot(\n",
       "                        '130a3ef3-73d6-499e-b27a-755869e479d9',\n",
       "                        [{\"alignmentgroup\": \"True\", \"bingroup\": \"x\", \"histfunc\": \"sum\", \"hovertemplate\": \"Orateur=%{x}<br>sum of nb_interventions=%{y}<extra></extra>\", \"legendgroup\": \"\", \"marker\": {\"color\": \"#636efa\"}, \"name\": \"\", \"offsetgroup\": \"\", \"orientation\": \"v\", \"showlegend\": false, \"type\": \"histogram\", \"x\": [\"bernard brochand\", \"bernard reynes\", \"patrick vignal\", \"michele tabarot\", \"thierry solere\", \"gwendal rouillard\", \"franck marlin\", \"philippe huppe\", \"gregory galbadon\", \"stephane trompille\", \"bernard deflesselles\", \"sebastien cazenove\", \"cecile muschotti\", \"daniele cazarian\", \"olivier dassault\", \"stephane claireaux\", \"andre villiers\", \"lenaick adam\", \"jean francois portarrieu\", \"carole bureau bonnard\", \"jacques krabal\", \"jacqueline maquet\", \"sophie errante\", \"alexandra valetta ardisson\", \"stephane buchou\", \"yves blein\", \"patricia gallerneau\", \"valerie thomas\", \"michele crouzet\", \"michel delpon\", \"marion lenne\", \"adrien morenas\", \"loic dombreval\", \"daniele herin\", \"jean francois parigi\", \"anissa khedher\", \"didier baichere\", \"anne blanc\", \"frederique lardet\", \"nicole le peih\", \"christophe lejeune\", \"florian bachelier\", \"christophe di pompeo\", \"philippe folliot\", \"didier quentin\", \"hugues renson\", \"jose evrard\", \"buon tan\", \"sandrine josso\", \"yannick haury\", \"thomas gassilloud\", \"rodrigue kokouendo\", \"frederic barbier\", \"jacques cattin\", \"severine gipson\", \"cedric villani\", \"claire guion firmin\", \"jean jacques gaultier\", \"pierre cabare\", \"laurence gayte\", \"jean philippe ardouin\", \"pierre henriet\", \"claude de ganay\", \"jacques savatier\", \"emmanuelle fontaine domeizel\", \"francois andre\", \"marianne dubois\", \"manuel valls\", \"christine cloarec\", \"jean francois cesarini\", \"philippe chassaing\", \"yves daniel\", \"jean michel mis\", \"genevieve levy\", \"mireille robert\", \"olga givernet\", \"fabien matras\", \"francoise dumas\", \"pierre person\", \"martine leguille balloy\", \"romain grau\", \"alexandre freschi\", \"jean pierre pont\", \"christophe arend\", \"jean jacques ferrara\", \"mireille clapot\", \"lionel causse\", \"jean bernard sempastous\", \"marjolaine meynier millefert\", \"aude bono vandorme\", \"bruno joncour\", \"michel fanget\", \"sandra marsaud\", \"marine brenier\", \"michel vialay\", \"guy teissier\", \"monique iborra\", \"sandrine morch\", \"yannick kerlogot\", \"maurice leroy\", \"stephanie do\", \"olivier damaisin\", \"hubert julien laferriere\", \"ramlati ali\", \"philippe michel kleisbauer\", \"fabien gouttefarde\", \"pascal bois\", \"isabelle rauch\", \"pascale boyer\", \"david lorion\", \"herve pellois\", \"emmanuel maquet\", \"blandine brocard\", \"marc delatte\", \"josy poueyto\", \"nathalie sarles\", \"frederique tuffnell\", \"elisabeth toutut picard\", \"celine calvez\", \"florence lasserre david\", \"marie ange magne\", \"max mathiasin\", \"philippe chalumeau\", \"laurence trastour isnart\", \"alain tourret\", \"louis aliot\", \"michele peyron\", \"jean claude leclabart\", \"olivier falorni\", \"veronique hammerer\", \"didier le gac\", \"said ahamada\", \"liliana tanguy\", \"corinne vignon\", \"nadia ramassamy\", \"michel lauzzana\", \"eric poulliat\", \"sebastien nadot\", \"dominique da silva\", \"francois cornut gentille\", \"jean charles taugourdeau\", \"frederic descrozaille\", \"fabrice le vigoureux\", \"jean michel jacques\", \"olivier gaillard\", \"bertrand sorre\", \"didier martin\", \"nathalie bassire\", \"marguerite deprez audebert\", \"nicole sanquer\", \"pieyre alexandre anglade\", \"annie vidal\", \"jean pierre cubertafon\", \"dimitri houbron\", \"christine hennion\", \"francois cormier bouligeon\", \"sereine mauborgne\", \"marie pierre rixain\", \"monique limon\", \"berengere poletti\", \"anne laure cattelot\", \"jean luc reitzer\", \"philippe bolo\", \"thomas rudigoz\", \"jean claude bouchet\", \"jacqueline dubois\", \"damien pichereau\", \"patricia miralles\", \"berangere abba\", \"fabien laine\", \"bruno duverge\", \"belkhir belhaddad\", \"helene vainqueur christophe\", \"helene zannier\", \"fadila khattabi\", \"frederique meunier\", \"laurent garcia\", \"valerie bazin malgras\", \"olivier serva\", \"luc carvounas\", \"xavier paluszkiewicz\", \"mickael nogal\", \"catherine osson\", \"celia de lavergne\", \"florent boudie\", \"jean luc warsmann\", \"benoit simian\", \"pierre vatin\", \"vincent rolland\", \"vincent bru\", \"gilbert collard\", \"gerard menuel\", \"xavier roseren\", \"josette manin\", \"laurence maillart mehaignerie\", \"moetai brotherson\", \"josiane corneloup\", \"justine benin\", \"eric pauget\", \"catherine kamowski\", \"stephane mazars\", \"stephane teste\", \"ludovic mendes\", \"alain perea\", \"jean luc lagleize\", \"antoine herth\", \"delphine bagarry\", \"huguette bello\", \"marie tamarelle verhaeghe\", \"christophe blanchet\", \"aude luquet\", \"geraldine bannier\", \"sophie mette\", \"patrice verchere\", \"michel herbillon\", \"maud petit\", \"richard ramos\", \"jean michel clement\", \"jacques marilossian\", \"jean yves bony\", \"julien borowczyk\", \"eric alauzet\", \"bruno bilde\", \"muriel ressiguier\", \"yolaine de courson\", \"vincent ledoux\", \"jean francois eliaou\", \"jean marc zulesi\", \"aurore berge\", \"jacques maire\", \"paula forteza\", \"stephane demilly\", \"anthony cellier\", \"bernard perrut\", \"philippe gomes\", \"eric bothorel\", \"guy bricout\", \"nadia essayan\", \"brahim hammouche\", \"christophe jerretie\", \"elodie jacquier laforge\", \"jean philippe nilor\", \"aurelien tache\", \"anne christine lang\", \"mansour kamardine\", \"sebastien huyghe\", \"charles de la verpilliere\", \"robin reda\", \"isabelle valentin\", \"anne brugnera\", \"philippe berta\", \"francois jolivet\", \"sebastien leclerc\", \"ian boucard\", \"marie lebec\", \"stephanie kerbarh\", \"paul andre colombani\", \"marielle de sarnez\", \"valerie beauvais\", \"danielle brulebois\", \"denis sommer\", \"richard lioger\", \"philippe dunoyer\", \"jean carles grelier\", \"virginie duby muller\", \"emmanuelle anthoine\", \"olivier becht\", \"isabelle florennes\", \"matthieu orphelin\", \"nicolas forissier\", \"jean louis masson\", \"alain ramadier\", \"pierre yves bournazel\", \"cyrille isaac sibille\", \"jean terlier\", \"jean charles colas roy\", \"stella dupont\", \"daniel labaronne\", \"laurence vichnievsky\", \"jean louis bourlanges\", \"laurianne rossi\", \"julien dive\", \"beatrice descamps\", \"jean louis touraine\", \"brigitte bourguignon\", \"jean pierre vigier\", \"gisele biemouret\", \"benedicte taurine\", \"alain david\", \"gerard cherpion\", \"joaquim pueyo\", \"michel zumkeller\", \"sylvain waserman\", \"frederic petit\", \"marie guevenoux\", \"eric diard\", \"annie genevard\", \"olivia gregoire\", \"jean jacques bridey\", \"gabriel attal\", \"frederique dumas\", \"george pau langevin\", \"ericka bareigts\", \"bruno fuchs\", \"nicolas dupont aignan\", \"olivier marleix\", \"claude goasguen\", \"ludovic pajot\", \"meyer habib\", \"jean luc fugit\", \"maina sage\", \"michele de vaucouleurs\", \"gabriel serville\", \"marine le pen\", \"marie george buffet\", \"bruno questel\", \"dino cinieri\", \"jean rene cazeneuve\", \"laurence dumont\", \"sylvia pinel\", \"philippe latombe\", \"gilles carrez\", \"nathalie elimas\", \"sarah el hairy\", \"didier paris\", \"stanislas guerini\", \"michel larive\", \"patrick mignola\", \"yannick favennec becot\", \"elise fajgeles\", \"barbara pompili\", \"valerie lacroute\", \"paul molac\", \"jean felix acquaviva\", \"lise magnier\", \"christophe bouillon\", \"herve saulignac\", \"olivier faure\", \"jean paul mattei\", \"francis vercamer\", \"frederic reiss\", \"martial saddier\", \"jeanine dubie\", \"joel aviragnet\", \"marietta karamanli\", \"serge letchimy\", \"valerie boyer\", \"emilie cariou\", \"sylvain maillard\", \"xavier breton\", \"laure de la raudiere\", \"sebastien chenu\", \"francois michel lambert\", \"jean noel barrot\", \"jean lassalle\", \"franck riester\", \"jean pierre door\", \"stephane viry\", \"delphine batho\", \"sophie auconie\", \"agnes firmin le bodo\", \"emilie bonnivard\", \"jean hugues ratenon\", \"damien abad\", \"jean marie sermier\", \"constance le grip\", \"laurent furst\", \"paul christophe\", \"bertrand pancher\", \"david habib\", \"nicolas turquois\", \"marie noelle battistel\", \"laurent saint martin\", \"amelie de montchalin\", \"eric straumann\", \"christian hutin\", \"christian jacob\", \"regis juanico\", \"brigitte kuster\", \"jean baptiste moreau\", \"eric ciotti\", \"arnaud viala\", \"daniel fasquelle\", \"alain bruneel\", \"aurelien pradie\", \"cecile untermaier\", \"fabrice brun\", \"jean christophe lagarde\", \"pierre henri dumont\", \"adrien quatennens\", \"marc fesneau\", \"vincent descoeur\", \"elsa faucillon\", \"jean louis bricout\", \"clementine autain\", \"bruno millienne\", \"michel castellani\", \"hubert wulfranc\", \"bastien lachaud\", \"christine pires beaune\", \"julien aubert\", \"christelle dubos\", \"erwan balanant\", \"dominique potier\", \"thierry benoit\", \"marie christine dalloz\", \"eric woerth\", \"fabien roussel\", \"mathilde panot\", \"francois pupponi\", \"raphael schellenberger\", \"boris vallaud\", \"gilles lurton\", \"philippe gosselin\", \"philippe vigier\", \"patrick hetzel\", \"jean paul dufregne\", \"alexis corbiere\", \"andre chassaigne\", \"caroline fiat\", \"marc le fur\", \"valerie rabault\", \"pierre cordier\", \"veronique louwagie\", \"charles de courson\", \"stephane peu\", \"olivier veran\", \"fabien di filippo\", \"jean paul lecoq\", \"emmanuelle menard\", \"jean luc melenchon\", \"pierre dharreville\", \"thibault bazin\", \"eric coquerel\", \"joel giraud\", \"ugo bernalicis\", \"sebastien jumel\", \"daniele obono\", \"richard ferrand\", \"francois de rugy\"], \"xaxis\": \"x\", \"y\": [3, 17, 20, 21, 25, 25, 29, 39, 46, 48, 48, 50, 52, 56, 59, 60, 60, 60, 61, 62, 63, 65, 67, 67, 69, 70, 71, 75, 75, 75, 75, 79, 80, 81, 81, 81, 83, 84, 86, 87, 91, 91, 94, 95, 95, 96, 97, 98, 99, 99, 100, 100, 105, 106, 106, 107, 111, 111, 113, 114, 115, 118, 121, 123, 123, 125, 126, 127, 129, 131, 132, 135, 137, 137, 137, 141, 141, 142, 142, 143, 146, 146, 147, 149, 154, 159, 159, 160, 162, 163, 165, 166, 168, 170, 170, 171, 173, 175, 180, 183, 183, 184, 184, 185, 186, 187, 187, 189, 193, 195, 196, 196, 196, 198, 202, 202, 204, 205, 207, 207, 208, 208, 208, 210, 210, 213, 215, 215, 216, 217, 217, 218, 218, 219, 221, 221, 222, 225, 226, 228, 230, 231, 233, 234, 237, 239, 244, 246, 246, 249, 252, 260, 261, 263, 263, 270, 274, 275, 281, 287, 289, 290, 293, 294, 295, 297, 297, 301, 303, 306, 307, 310, 314, 315, 318, 318, 319, 319, 320, 321, 321, 322, 332, 333, 333, 335, 343, 345, 345, 355, 356, 357, 358, 364, 368, 368, 373, 375, 384, 387, 402, 403, 404, 406, 408, 413, 421, 426, 427, 430, 431, 432, 432, 433, 444, 456, 456, 460, 463, 465, 467, 469, 469, 474, 476, 479, 482, 494, 497, 497, 498, 498, 501, 522, 524, 529, 531, 532, 536, 544, 547, 550, 553, 556, 558, 572, 572, 579, 583, 592, 596, 599, 608, 614, 623, 626, 636, 639, 643, 649, 659, 666, 674, 679, 680, 703, 706, 707, 714, 717, 721, 725, 727, 728, 731, 744, 747, 754, 755, 757, 765, 783, 786, 795, 798, 799, 801, 808, 810, 813, 816, 822, 833, 834, 843, 852, 862, 868, 876, 918, 925, 930, 932, 932, 953, 972, 973, 976, 993, 993, 997, 999, 1004, 1016, 1027, 1049, 1054, 1054, 1064, 1065, 1085, 1102, 1104, 1105, 1109, 1117, 1131, 1148, 1152, 1176, 1188, 1213, 1221, 1234, 1247, 1257, 1258, 1259, 1265, 1277, 1297, 1302, 1316, 1316, 1324, 1332, 1345, 1349, 1354, 1356, 1365, 1383, 1384, 1394, 1394, 1405, 1408, 1411, 1424, 1445, 1462, 1471, 1482, 1492, 1497, 1533, 1546, 1561, 1566, 1584, 1621, 1637, 1690, 1706, 1712, 1715, 1733, 1759, 1763, 1764, 1790, 1833, 1865, 1914, 1963, 2060, 2094, 2179, 2184, 2206, 2208, 2212, 2242, 2317, 2323, 2361, 2396, 2454, 2530, 2653, 2693, 2798, 2919, 2935, 2937, 3010, 3161, 3175, 3200, 3221, 3227, 3287, 3401, 3462, 3508, 3556, 3625, 3822, 3917, 4039, 4114, 4427, 4545, 4576, 4682, 5045, 5047, 5485, 5525, 5635, 5957, 6118, 6222, 6264, 6441, 6611, 6708, 7033, 16837, 21451], \"yaxis\": \"y\"}],\n",
       "                        {\"barmode\": \"relative\", \"legend\": {\"tracegroupgap\": 0}, \"margin\": {\"t\": 60}, \"template\": {\"data\": {\"bar\": [{\"error_x\": {\"color\": \"#2a3f5f\"}, \"error_y\": {\"color\": \"#2a3f5f\"}, \"marker\": {\"line\": {\"color\": \"#E5ECF6\", \"width\": 0.5}}, \"type\": \"bar\"}], \"barpolar\": [{\"marker\": {\"line\": {\"color\": \"#E5ECF6\", \"width\": 0.5}}, \"type\": \"barpolar\"}], \"carpet\": [{\"aaxis\": {\"endlinecolor\": \"#2a3f5f\", \"gridcolor\": \"white\", \"linecolor\": \"white\", \"minorgridcolor\": \"white\", \"startlinecolor\": \"#2a3f5f\"}, \"baxis\": {\"endlinecolor\": \"#2a3f5f\", \"gridcolor\": \"white\", \"linecolor\": \"white\", \"minorgridcolor\": \"white\", \"startlinecolor\": \"#2a3f5f\"}, \"type\": \"carpet\"}], \"choropleth\": [{\"colorbar\": {\"outlinewidth\": 0, \"ticks\": \"\"}, \"type\": \"choropleth\"}], \"contour\": [{\"colorbar\": {\"outlinewidth\": 0, \"ticks\": \"\"}, \"colorscale\": [[0.0, \"#0d0887\"], [0.1111111111111111, \"#46039f\"], [0.2222222222222222, \"#7201a8\"], [0.3333333333333333, \"#9c179e\"], [0.4444444444444444, \"#bd3786\"], [0.5555555555555556, \"#d8576b\"], [0.6666666666666666, \"#ed7953\"], [0.7777777777777778, \"#fb9f3a\"], [0.8888888888888888, \"#fdca26\"], [1.0, \"#f0f921\"]], \"type\": \"contour\"}], \"contourcarpet\": [{\"colorbar\": {\"outlinewidth\": 0, \"ticks\": \"\"}, \"type\": \"contourcarpet\"}], \"heatmap\": [{\"colorbar\": {\"outlinewidth\": 0, \"ticks\": \"\"}, \"colorscale\": [[0.0, \"#0d0887\"], [0.1111111111111111, \"#46039f\"], [0.2222222222222222, \"#7201a8\"], [0.3333333333333333, \"#9c179e\"], [0.4444444444444444, \"#bd3786\"], [0.5555555555555556, \"#d8576b\"], [0.6666666666666666, \"#ed7953\"], [0.7777777777777778, \"#fb9f3a\"], [0.8888888888888888, \"#fdca26\"], [1.0, \"#f0f921\"]], \"type\": \"heatmap\"}], \"heatmapgl\": [{\"colorbar\": {\"outlinewidth\": 0, \"ticks\": \"\"}, \"colorscale\": [[0.0, \"#0d0887\"], [0.1111111111111111, \"#46039f\"], [0.2222222222222222, \"#7201a8\"], [0.3333333333333333, \"#9c179e\"], [0.4444444444444444, \"#bd3786\"], [0.5555555555555556, \"#d8576b\"], [0.6666666666666666, \"#ed7953\"], [0.7777777777777778, \"#fb9f3a\"], [0.8888888888888888, \"#fdca26\"], [1.0, \"#f0f921\"]], \"type\": \"heatmapgl\"}], \"histogram\": [{\"marker\": {\"colorbar\": {\"outlinewidth\": 0, \"ticks\": \"\"}}, \"type\": \"histogram\"}], \"histogram2d\": [{\"colorbar\": {\"outlinewidth\": 0, \"ticks\": \"\"}, \"colorscale\": [[0.0, \"#0d0887\"], [0.1111111111111111, \"#46039f\"], [0.2222222222222222, \"#7201a8\"], [0.3333333333333333, \"#9c179e\"], [0.4444444444444444, \"#bd3786\"], [0.5555555555555556, \"#d8576b\"], [0.6666666666666666, \"#ed7953\"], [0.7777777777777778, \"#fb9f3a\"], [0.8888888888888888, \"#fdca26\"], [1.0, \"#f0f921\"]], \"type\": \"histogram2d\"}], \"histogram2dcontour\": [{\"colorbar\": {\"outlinewidth\": 0, \"ticks\": \"\"}, \"colorscale\": [[0.0, \"#0d0887\"], [0.1111111111111111, \"#46039f\"], [0.2222222222222222, \"#7201a8\"], [0.3333333333333333, \"#9c179e\"], [0.4444444444444444, \"#bd3786\"], [0.5555555555555556, \"#d8576b\"], [0.6666666666666666, \"#ed7953\"], [0.7777777777777778, \"#fb9f3a\"], [0.8888888888888888, \"#fdca26\"], [1.0, \"#f0f921\"]], \"type\": \"histogram2dcontour\"}], \"mesh3d\": [{\"colorbar\": {\"outlinewidth\": 0, \"ticks\": \"\"}, \"type\": \"mesh3d\"}], \"parcoords\": [{\"line\": {\"colorbar\": {\"outlinewidth\": 0, \"ticks\": \"\"}}, \"type\": \"parcoords\"}], \"pie\": [{\"automargin\": true, \"type\": \"pie\"}], \"scatter\": [{\"marker\": {\"colorbar\": {\"outlinewidth\": 0, \"ticks\": \"\"}}, \"type\": \"scatter\"}], \"scatter3d\": [{\"line\": {\"colorbar\": {\"outlinewidth\": 0, \"ticks\": \"\"}}, \"marker\": {\"colorbar\": {\"outlinewidth\": 0, \"ticks\": \"\"}}, \"type\": \"scatter3d\"}], \"scattercarpet\": [{\"marker\": {\"colorbar\": {\"outlinewidth\": 0, \"ticks\": \"\"}}, \"type\": \"scattercarpet\"}], \"scattergeo\": [{\"marker\": {\"colorbar\": {\"outlinewidth\": 0, \"ticks\": \"\"}}, \"type\": \"scattergeo\"}], \"scattergl\": [{\"marker\": {\"colorbar\": {\"outlinewidth\": 0, \"ticks\": \"\"}}, \"type\": \"scattergl\"}], \"scattermapbox\": [{\"marker\": {\"colorbar\": {\"outlinewidth\": 0, \"ticks\": \"\"}}, \"type\": \"scattermapbox\"}], \"scatterpolar\": [{\"marker\": {\"colorbar\": {\"outlinewidth\": 0, \"ticks\": \"\"}}, \"type\": \"scatterpolar\"}], \"scatterpolargl\": [{\"marker\": {\"colorbar\": {\"outlinewidth\": 0, \"ticks\": \"\"}}, \"type\": \"scatterpolargl\"}], \"scatterternary\": [{\"marker\": {\"colorbar\": {\"outlinewidth\": 0, \"ticks\": \"\"}}, \"type\": \"scatterternary\"}], \"surface\": [{\"colorbar\": {\"outlinewidth\": 0, \"ticks\": \"\"}, \"colorscale\": [[0.0, \"#0d0887\"], [0.1111111111111111, \"#46039f\"], [0.2222222222222222, \"#7201a8\"], [0.3333333333333333, \"#9c179e\"], [0.4444444444444444, \"#bd3786\"], [0.5555555555555556, \"#d8576b\"], [0.6666666666666666, \"#ed7953\"], [0.7777777777777778, \"#fb9f3a\"], [0.8888888888888888, \"#fdca26\"], [1.0, \"#f0f921\"]], \"type\": \"surface\"}], \"table\": [{\"cells\": {\"fill\": {\"color\": \"#EBF0F8\"}, \"line\": {\"color\": \"white\"}}, \"header\": {\"fill\": {\"color\": \"#C8D4E3\"}, \"line\": {\"color\": \"white\"}}, \"type\": \"table\"}]}, \"layout\": {\"annotationdefaults\": {\"arrowcolor\": \"#2a3f5f\", \"arrowhead\": 0, \"arrowwidth\": 1}, \"coloraxis\": {\"colorbar\": {\"outlinewidth\": 0, \"ticks\": \"\"}}, \"colorscale\": {\"diverging\": [[0, \"#8e0152\"], [0.1, \"#c51b7d\"], [0.2, \"#de77ae\"], [0.3, \"#f1b6da\"], [0.4, \"#fde0ef\"], [0.5, \"#f7f7f7\"], [0.6, \"#e6f5d0\"], [0.7, \"#b8e186\"], [0.8, \"#7fbc41\"], [0.9, \"#4d9221\"], [1, \"#276419\"]], \"sequential\": [[0.0, \"#0d0887\"], [0.1111111111111111, \"#46039f\"], [0.2222222222222222, \"#7201a8\"], [0.3333333333333333, \"#9c179e\"], [0.4444444444444444, \"#bd3786\"], [0.5555555555555556, \"#d8576b\"], [0.6666666666666666, \"#ed7953\"], [0.7777777777777778, \"#fb9f3a\"], [0.8888888888888888, \"#fdca26\"], [1.0, \"#f0f921\"]], \"sequentialminus\": [[0.0, \"#0d0887\"], [0.1111111111111111, \"#46039f\"], [0.2222222222222222, \"#7201a8\"], [0.3333333333333333, \"#9c179e\"], [0.4444444444444444, \"#bd3786\"], [0.5555555555555556, \"#d8576b\"], [0.6666666666666666, \"#ed7953\"], [0.7777777777777778, \"#fb9f3a\"], [0.8888888888888888, \"#fdca26\"], [1.0, \"#f0f921\"]]}, \"colorway\": [\"#636efa\", \"#EF553B\", \"#00cc96\", \"#ab63fa\", \"#FFA15A\", \"#19d3f3\", \"#FF6692\", \"#B6E880\", \"#FF97FF\", \"#FECB52\"], \"font\": {\"color\": \"#2a3f5f\"}, \"geo\": {\"bgcolor\": \"white\", \"lakecolor\": \"white\", \"landcolor\": \"#E5ECF6\", \"showlakes\": true, \"showland\": true, \"subunitcolor\": \"white\"}, \"hoverlabel\": {\"align\": \"left\"}, \"hovermode\": \"closest\", \"mapbox\": {\"style\": \"light\"}, \"paper_bgcolor\": \"white\", \"plot_bgcolor\": \"#E5ECF6\", \"polar\": {\"angularaxis\": {\"gridcolor\": \"white\", \"linecolor\": \"white\", \"ticks\": \"\"}, \"bgcolor\": \"#E5ECF6\", \"radialaxis\": {\"gridcolor\": \"white\", \"linecolor\": \"white\", \"ticks\": \"\"}}, \"scene\": {\"xaxis\": {\"backgroundcolor\": \"#E5ECF6\", \"gridcolor\": \"white\", \"gridwidth\": 2, \"linecolor\": \"white\", \"showbackground\": true, \"ticks\": \"\", \"zerolinecolor\": \"white\"}, \"yaxis\": {\"backgroundcolor\": \"#E5ECF6\", \"gridcolor\": \"white\", \"gridwidth\": 2, \"linecolor\": \"white\", \"showbackground\": true, \"ticks\": \"\", \"zerolinecolor\": \"white\"}, \"zaxis\": {\"backgroundcolor\": \"#E5ECF6\", \"gridcolor\": \"white\", \"gridwidth\": 2, \"linecolor\": \"white\", \"showbackground\": true, \"ticks\": \"\", \"zerolinecolor\": \"white\"}}, \"shapedefaults\": {\"line\": {\"color\": \"#2a3f5f\"}}, \"ternary\": {\"aaxis\": {\"gridcolor\": \"white\", \"linecolor\": \"white\", \"ticks\": \"\"}, \"baxis\": {\"gridcolor\": \"white\", \"linecolor\": \"white\", \"ticks\": \"\"}, \"bgcolor\": \"#E5ECF6\", \"caxis\": {\"gridcolor\": \"white\", \"linecolor\": \"white\", \"ticks\": \"\"}}, \"title\": {\"x\": 0.05}, \"xaxis\": {\"automargin\": true, \"gridcolor\": \"white\", \"linecolor\": \"white\", \"ticks\": \"\", \"title\": {\"standoff\": 15}, \"zerolinecolor\": \"white\", \"zerolinewidth\": 2}, \"yaxis\": {\"automargin\": true, \"gridcolor\": \"white\", \"linecolor\": \"white\", \"ticks\": \"\", \"title\": {\"standoff\": 15}, \"zerolinecolor\": \"white\", \"zerolinewidth\": 2}}}, \"xaxis\": {\"anchor\": \"y\", \"domain\": [0.0, 1.0], \"title\": {\"text\": \"Orateur\"}}, \"yaxis\": {\"anchor\": \"x\", \"domain\": [0.0, 1.0], \"title\": {\"text\": \"sum of nb_interventions\"}}},\n",
       "                        {\"responsive\": true}\n",
       "                    ).then(function(){\n",
       "                            \n",
       "var gd = document.getElementById('130a3ef3-73d6-499e-b27a-755869e479d9');\n",
       "var x = new MutationObserver(function (mutations, observer) {{\n",
       "        var display = window.getComputedStyle(gd).display;\n",
       "        if (!display || display === 'none') {{\n",
       "            console.log([gd, 'removed!']);\n",
       "            Plotly.purge(gd);\n",
       "            observer.disconnect();\n",
       "        }}\n",
       "}});\n",
       "\n",
       "// Listen for the removal of the full notebook cells\n",
       "var notebookContainer = gd.closest('#notebook-container');\n",
       "if (notebookContainer) {{\n",
       "    x.observe(notebookContainer, {childList: true});\n",
       "}}\n",
       "\n",
       "// Listen for the clearing of the current output cell\n",
       "var outputEl = gd.closest('.output');\n",
       "if (outputEl) {{\n",
       "    x.observe(outputEl, {childList: true});\n",
       "}}\n",
       "\n",
       "                        })\n",
       "                };\n",
       "                });\n",
       "            </script>\n",
       "        </div>"
      ]
     },
     "metadata": {},
     "output_type": "display_data"
    }
   ],
   "source": [
    "px.histogram(df[df['Groupe'] == 'Exp'].drop_duplicates(subset = ['Orateur'], keep = 'first').sort_values(by = 'nb_interventions'), x = 'Orateur', y = 'nb_interventions')"
   ]
  },
  {
   "cell_type": "markdown",
   "metadata": {},
   "source": [
    "On note qu'il y a deux orateurs non-novices (R. Ferrand et F. De Rugy) qui dominent très largement le nombre d'intervention dans leur groupe. Ches les novices, il n'y a pas de telle domination."
   ]
  },
  {
   "cell_type": "markdown",
   "metadata": {},
   "source": [
    "#### Construction de la variable du nombre de mot par intervention"
   ]
  },
  {
   "cell_type": "code",
   "execution_count": 67,
   "metadata": {},
   "outputs": [],
   "source": [
    "df['nb_mots'] = df.apply(lambda row: len(row.Réplique.split(' ')), axis = 1)"
   ]
  },
  {
   "cell_type": "code",
   "execution_count": 68,
   "metadata": {},
   "outputs": [],
   "source": [
    "nb_mot_nov = df[df['Groupe'] == 'Novice'][['nb_mots']].sum()\n",
    "score_nov = int(10 * nb_mot_nov / nb_intervention_nov) / 10 \n",
    "\n",
    "nb_mot_exp = df[df['Groupe'] == 'Exp'][['nb_mots']].sum()\n",
    "score_exp = int(10 * nb_mot_exp / nb_intervention_exp) / 10 \n",
    "\n",
    "ratio = int(10 * score_exp / score_nov) / 10"
   ]
  },
  {
   "cell_type": "code",
   "execution_count": 69,
   "metadata": {},
   "outputs": [
    {
     "name": "stdout",
     "output_type": "stream",
     "text": [
      "Nombre moyen de mots par intervention pour un Novice: 51.5\n",
      "Nombre moyen de mots par intervention pour un Non-Novice: 46.0\n",
      "Ratio :  0.8\n"
     ]
    }
   ],
   "source": [
    "print('Nombre moyen de mots par intervention pour un Novice: ' + str(score_nov))\n",
    "print('Nombre moyen de mots par intervention pour un Non-Novice: ' + str(score_exp))\n",
    "\n",
    "print('Ratio : ', ratio)"
   ]
  },
  {
   "cell_type": "markdown",
   "metadata": {},
   "source": [
    "On remarque que les interventions des novices et non-novices sont à peu près de la même longueur (légèrement plus long pour les novices)."
   ]
  },
  {
   "cell_type": "markdown",
   "metadata": {},
   "source": [
    "### Analyse des didascalies"
   ]
  },
  {
   "cell_type": "markdown",
   "metadata": {},
   "source": [
    "On créé pour chaque réplique les variables binaires suivantes :  \n",
    "    -présence de didascalies  \n",
    "    -présence de didascalies positives (applaudissement, exclamation)  \n",
    "    -présence de didascalies négative "
   ]
  },
  {
   "cell_type": "code",
   "execution_count": 70,
   "metadata": {},
   "outputs": [],
   "source": [
    "# On définit d'abord les mots qui caractérisent une didascalie positive ou negative\n",
    "\n",
    "positive_words = ['applaud', 'oui']\n",
    "\n",
    "negative_words = ['exclam', 'protest', 'quitt', 'murmur']\n",
    "\n",
    "def positivite_didascalie(stemmed_didascalie):\n",
    "    text = str(stemmed_didascalie).split(' ')\n",
    "    \n",
    "    if len(text) == 0:\n",
    "        return 0\n",
    "    \n",
    "    for word in positive_words:\n",
    "        if word in text:\n",
    "            return 1\n",
    "    \n",
    "    for word in negative_words:\n",
    "        if word in text:\n",
    "            return -1\n",
    "        \n",
    "    return 0"
   ]
  },
  {
   "cell_type": "code",
   "execution_count": 71,
   "metadata": {},
   "outputs": [],
   "source": [
    "df['presence_didascalie'] = df.apply(lambda row: int(str(row.stemmed_didascalie) != ''), axis = 1)\n",
    "\n",
    "df['didascalie_positive'] = df.apply(lambda row: int(positivite_didascalie(row.stemmed_didascalie) == 1), axis = 1)\n",
    "df['didascalie_negative'] = df.apply(lambda row: int(positivite_didascalie(row.stemmed_didascalie) == -1), axis = 1)"
   ]
  },
  {
   "cell_type": "markdown",
   "metadata": {},
   "source": [
    "Calcul de la fréquence de didascalie, de didascalie positive, et de didascalie négative dans chaque groupe. "
   ]
  },
  {
   "cell_type": "code",
   "execution_count": 72,
   "metadata": {},
   "outputs": [],
   "source": [
    "# Pour les non-novices\n",
    "\n",
    "nb_didasc_nov = df[df['Groupe'] == 'Novice'][['presence_didascalie']].sum()\n",
    "score0_nov = int(1000 * nb_didasc_nov / nb_intervention_nov) / 1000\n",
    "\n",
    "nb_didasc_postitive_nov = df[df['Groupe'] == 'Novice'][['didascalie_positive']].sum()\n",
    "score1_nov = int(1000 * nb_didasc_postitive_nov / nb_intervention_nov) / 1000\n",
    "\n",
    "nb_didasc_negative_nov = df[df['Groupe'] == 'Novice'][['didascalie_negative']].sum()\n",
    "score2_nov = int(1000 * nb_didasc_negative_nov / nb_intervention_nov) / 1000 \n",
    "\n",
    "taux_positivite_negativite_nov = int(1000 * score1_nov / (score1_nov + score2_nov)) / 1000\n",
    "\n",
    "\n",
    "# Pour les non-novices\n",
    "\n",
    "nb_didasc_exp = df[df['Groupe'] == 'Exp'][['presence_didascalie']].sum()\n",
    "score0_exp = int(1000 * nb_didasc_exp / nb_intervention_exp) / 1000\n",
    "\n",
    "nb_didasc_postitive_exp = df[df['Groupe'] == 'Exp'][['didascalie_positive']].sum()\n",
    "score1_exp = int(1000 * nb_didasc_postitive_exp / nb_intervention_exp) / 1000 \n",
    "\n",
    "nb_didasc_negative_exp = df[df['Groupe'] == 'Exp'][['didascalie_negative']].sum()\n",
    "score2_exp = int(1000 * nb_didasc_negative_exp / nb_intervention_exp) / 1000 \n",
    "\n",
    "taux_positivite_negativite_exp = int(1000 * score1_exp / (score1_exp + score2_exp)) / 1000"
   ]
  },
  {
   "cell_type": "code",
   "execution_count": 73,
   "metadata": {},
   "outputs": [
    {
     "name": "stdout",
     "output_type": "stream",
     "text": [
      "Proportion des intervention avec présence de didascalies pour un novice: 0.101\n",
      "Proportion des intervention avec présence de didascalies positives pour un novice: 0.07\n",
      "Proportion des intervention avec présence de didascalies négatives pour un novice: 0.019\n",
      "Ratio de positivité des didascalies pour les novices: 0.786\n",
      "\n",
      "Proportion des intervention avec présence de didascalies pour un non-novice: 0.082\n",
      "Proportion des intervention avec présence de didascalies positives pour un non-novice: 0.057\n",
      "Proportion des intervention avec présence de didascalies négatives pour un non-novice: 0.012\n",
      "Ratio de positivité des didascalies pour les non-novices: 0.826\n"
     ]
    }
   ],
   "source": [
    "print('Proportion des intervention avec présence de didascalies pour un novice: ' + str(score0_nov))\n",
    "print('Proportion des intervention avec présence de didascalies positives pour un novice: ' + str(score1_nov))\n",
    "print('Proportion des intervention avec présence de didascalies négatives pour un novice: ' + str(score2_nov))\n",
    "print('Ratio de positivité des didascalies pour les novices: ' + str(taux_positivite_negativite_nov) + '\\n')\n",
    "\n",
    "\n",
    "\n",
    "print('Proportion des intervention avec présence de didascalies pour un non-novice: ' + str(score0_exp))\n",
    "print('Proportion des intervention avec présence de didascalies positives pour un non-novice: ' + str(score1_exp))\n",
    "print('Proportion des intervention avec présence de didascalies négatives pour un non-novice: ' + str(score2_exp))\n",
    "print('Ratio de positivité des didascalies pour les non-novices: ' + str(taux_positivite_negativite_exp))"
   ]
  },
  {
   "cell_type": "markdown",
   "metadata": {},
   "source": [
    "Conclusions :  \n",
    "    -Les novices suscitent plus de réaction que les non-novices (10% contre 8%)  \n",
    "    -Les réactions que suscitent les novices sont moins positives que les non-novices. Ils sont plus souvent contéstés."
   ]
  },
  {
   "cell_type": "markdown",
   "metadata": {},
   "source": [
    "## Etude de la fréquence des mots"
   ]
  },
  {
   "cell_type": "markdown",
   "metadata": {},
   "source": [
    "### Worldcloud\n",
    "\n",
    "On travaille avec les textes tokenizés"
   ]
  },
  {
   "cell_type": "code",
   "execution_count": 74,
   "metadata": {},
   "outputs": [],
   "source": [
    "# Création des corpus novice et non-novice\n",
    "\n",
    "corpus_novice = ' '.join(sample(list(df[df['Groupe'] == 'Novice']['tokenized_replique']), 50000))\n",
    "corpus_exp = ' '.join(sample(list(df[df['Groupe'] == 'Exp']['tokenized_replique']), 50000))"
   ]
  },
  {
   "cell_type": "code",
   "execution_count": 75,
   "metadata": {},
   "outputs": [],
   "source": [
    "def make_wordcloud(corpus):\n",
    "    wc = wordcloud.WordCloud(background_color=\"white\", max_words = 15)\n",
    "    wc.generate(corpus)\n",
    "    return wc"
   ]
  },
  {
   "cell_type": "code",
   "execution_count": 76,
   "metadata": {},
   "outputs": [
    {
     "data": {
      "image/png": "[encoded data removed]",
      "text/plain": [
       "<Figure size 432x288 with 1 Axes>"
      ]
     },
     "metadata": {
      "needs_background": "light"
     },
     "output_type": "display_data"
    }
   ],
   "source": [
    "# Pour les novices\n",
    "\n",
    "wc = make_wordcloud(corpus_novice)\n",
    "plt.imshow(wc, interpolation='bilinear')\n",
    "plt.axis(\"off\")\n",
    "plt.show()"
   ]
  },
  {
   "cell_type": "code",
   "execution_count": 77,
   "metadata": {},
   "outputs": [
    {
     "data": {
      "image/png": "[encoded data removed]",
      "text/plain": [
       "<Figure size 432x288 with 1 Axes>"
      ]
     },
     "metadata": {
      "needs_background": "light"
     },
     "output_type": "display_data"
    }
   ],
   "source": [
    "# Pour les non-novices\n",
    "\n",
    "wc = make_wordcloud(corpus_exp)\n",
    "plt.imshow(wc, interpolation='bilinear')\n",
    "plt.axis(\"off\")\n",
    "plt.show()"
   ]
  },
  {
   "cell_type": "markdown",
   "metadata": {},
   "source": [
    "On peut déjà remarquer la présence du mot 'défavorable' qui apparait comme un des mots les plus cités chez les novices et pas chez les non-novices."
   ]
  },
  {
   "cell_type": "markdown",
   "metadata": {},
   "source": [
    "#### Classements des mots les plus cités (histogrammes)  \n",
    "\n",
    "On utilise cette fois les replique avec stemming pour plus de pertinence (mais moins de lisibilité)"
   ]
  },
  {
   "cell_type": "code",
   "execution_count": 78,
   "metadata": {},
   "outputs": [],
   "source": [
    "# Comptage des mots\n",
    "\n",
    "count_words = pd.DataFrame({'counter' : df[['Groupe', 'stemmed_replique']]\n",
    "    .groupby('Groupe')\n",
    "    .apply(lambda s: ' '.join(s['stemmed_replique']).split())\n",
    "    .apply(lambda s: Counter(s))\n",
    "    .apply(lambda s: s.most_common(25))\n",
    "    .explode()}\n",
    ")\n",
    "count_words[['word','count']] = pd.DataFrame(count_words['counter'].tolist(), index=count_words.index)\n",
    "count_words = count_words.reset_index()"
   ]
  },
  {
   "cell_type": "code",
   "execution_count": 79,
   "metadata": {},
   "outputs": [
    {
     "data": {
      "application/vnd.plotly.v1+json": {
       "config": {
        "plotlyServerURL": "https://plot.ly"
       },
       "data": [
        {
         "alignmentgroup": "True",
         "bingroup": "x",
         "histfunc": "sum",
         "hovertemplate": "word=%{x}<br>sum of count=%{y}<extra></extra>",
         "legendgroup": "",
         "marker": {
          "color": "#636efa"
         },
         "name": "",
         "offsetgroup": "",
         "orientation": "v",
         "showlegend": false,
         "type": "histogram",
         "x": [
          "cet",
          "a",
          "rapporteur",
          "plus",
          "dun",
          "cest",
          "tout",
          "amend",
          "loi",
          "commiss",
          "cel",
          "franc",
          "comm",
          "bien",
          "donc",
          "quil",
          "être",
          "fait",
          "défavor",
          "avis",
          "si",
          "tous",
          "projet",
          "monsieur",
          "ministr"
         ],
         "xaxis": "x",
         "y": [
          14382,
          11495,
          10609,
          10449,
          10154,
          8593,
          8144,
          7215,
          6515,
          5983,
          5582,
          5486,
          5431,
          5367,
          5341,
          5141,
          5106,
          4996,
          4888,
          4573,
          4238,
          4113,
          4083,
          4060,
          3939
         ],
         "yaxis": "y"
        }
       ],
       "layout": {
        "barmode": "relative",
        "legend": {
         "tracegroupgap": 0
        },
        "margin": {
         "t": 60
        },
        "template": {
         "data": {
          "bar": [
           {
            "error_x": {
             "color": "#2a3f5f"
            },
            "error_y": {
             "color": "#2a3f5f"
            },
            "marker": {
             "line": {
              "color": "#E5ECF6",
              "width": 0.5
             }
            },
            "type": "bar"
           }
          ],
          "barpolar": [
           {
            "marker": {
             "line": {
              "color": "#E5ECF6",
              "width": 0.5
             }
            },
            "type": "barpolar"
           }
          ],
          "carpet": [
           {
            "aaxis": {
             "endlinecolor": "#2a3f5f",
             "gridcolor": "white",
             "linecolor": "white",
             "minorgridcolor": "white",
             "startlinecolor": "#2a3f5f"
            },
            "baxis": {
             "endlinecolor": "#2a3f5f",
             "gridcolor": "white",
             "linecolor": "white",
             "minorgridcolor": "white",
             "startlinecolor": "#2a3f5f"
            },
            "type": "carpet"
           }
          ],
          "choropleth": [
           {
            "colorbar": {
             "outlinewidth": 0,
             "ticks": ""
            },
            "type": "choropleth"
           }
          ],
          "contour": [
           {
            "colorbar": {
             "outlinewidth": 0,
             "ticks": ""
            },
            "colorscale": [
             [
              0,
              "#0d0887"
             ],
             [
              0.1111111111111111,
              "#46039f"
             ],
             [
              0.2222222222222222,
              "#7201a8"
             ],
             [
              0.3333333333333333,
              "#9c179e"
             ],
             [
              0.4444444444444444,
              "#bd3786"
             ],
             [
              0.5555555555555556,
              "#d8576b"
             ],
             [
              0.6666666666666666,
              "#ed7953"
             ],
             [
              0.7777777777777778,
              "#fb9f3a"
             ],
             [
              0.8888888888888888,
              "#fdca26"
             ],
             [
              1,
              "#f0f921"
             ]
            ],
            "type": "contour"
           }
          ],
          "contourcarpet": [
           {
            "colorbar": {
             "outlinewidth": 0,
             "ticks": ""
            },
            "type": "contourcarpet"
           }
          ],
          "heatmap": [
           {
            "colorbar": {
             "outlinewidth": 0,
             "ticks": ""
            },
            "colorscale": [
             [
              0,
              "#0d0887"
             ],
             [
              0.1111111111111111,
              "#46039f"
             ],
             [
              0.2222222222222222,
              "#7201a8"
             ],
             [
              0.3333333333333333,
              "#9c179e"
             ],
             [
              0.4444444444444444,
              "#bd3786"
             ],
             [
              0.5555555555555556,
              "#d8576b"
             ],
             [
              0.6666666666666666,
              "#ed7953"
             ],
             [
              0.7777777777777778,
              "#fb9f3a"
             ],
             [
              0.8888888888888888,
              "#fdca26"
             ],
             [
              1,
              "#f0f921"
             ]
            ],
            "type": "heatmap"
           }
          ],
          "heatmapgl": [
           {
            "colorbar": {
             "outlinewidth": 0,
             "ticks": ""
            },
            "colorscale": [
             [
              0,
              "#0d0887"
             ],
             [
              0.1111111111111111,
              "#46039f"
             ],
             [
              0.2222222222222222,
              "#7201a8"
             ],
             [
              0.3333333333333333,
              "#9c179e"
             ],
             [
              0.4444444444444444,
              "#bd3786"
             ],
             [
              0.5555555555555556,
              "#d8576b"
             ],
             [
              0.6666666666666666,
              "#ed7953"
             ],
             [
              0.7777777777777778,
              "#fb9f3a"
             ],
             [
              0.8888888888888888,
              "#fdca26"
             ],
             [
              1,
              "#f0f921"
             ]
            ],
            "type": "heatmapgl"
           }
          ],
          "histogram": [
           {
            "marker": {
             "colorbar": {
              "outlinewidth": 0,
              "ticks": ""
             }
            },
            "type": "histogram"
           }
          ],
          "histogram2d": [
           {
            "colorbar": {
             "outlinewidth": 0,
             "ticks": ""
            },
            "colorscale": [
             [
              0,
              "#0d0887"
             ],
             [
              0.1111111111111111,
              "#46039f"
             ],
             [
              0.2222222222222222,
              "#7201a8"
             ],
             [
              0.3333333333333333,
              "#9c179e"
             ],
             [
              0.4444444444444444,
              "#bd3786"
             ],
             [
              0.5555555555555556,
              "#d8576b"
             ],
             [
              0.6666666666666666,
              "#ed7953"
             ],
             [
              0.7777777777777778,
              "#fb9f3a"
             ],
             [
              0.8888888888888888,
              "#fdca26"
             ],
             [
              1,
              "#f0f921"
             ]
            ],
            "type": "histogram2d"
           }
          ],
          "histogram2dcontour": [
           {
            "colorbar": {
             "outlinewidth": 0,
             "ticks": ""
            },
            "colorscale": [
             [
              0,
              "#0d0887"
             ],
             [
              0.1111111111111111,
              "#46039f"
             ],
             [
              0.2222222222222222,
              "#7201a8"
             ],
             [
              0.3333333333333333,
              "#9c179e"
             ],
             [
              0.4444444444444444,
              "#bd3786"
             ],
             [
              0.5555555555555556,
              "#d8576b"
             ],
             [
              0.6666666666666666,
              "#ed7953"
             ],
             [
              0.7777777777777778,
              "#fb9f3a"
             ],
             [
              0.8888888888888888,
              "#fdca26"
             ],
             [
              1,
              "#f0f921"
             ]
            ],
            "type": "histogram2dcontour"
           }
          ],
          "mesh3d": [
           {
            "colorbar": {
             "outlinewidth": 0,
             "ticks": ""
            },
            "type": "mesh3d"
           }
          ],
          "parcoords": [
           {
            "line": {
             "colorbar": {
              "outlinewidth": 0,
              "ticks": ""
             }
            },
            "type": "parcoords"
           }
          ],
          "pie": [
           {
            "automargin": true,
            "type": "pie"
           }
          ],
          "scatter": [
           {
            "marker": {
             "colorbar": {
              "outlinewidth": 0,
              "ticks": ""
             }
            },
            "type": "scatter"
           }
          ],
          "scatter3d": [
           {
            "line": {
             "colorbar": {
              "outlinewidth": 0,
              "ticks": ""
             }
            },
            "marker": {
             "colorbar": {
              "outlinewidth": 0,
              "ticks": ""
             }
            },
            "type": "scatter3d"
           }
          ],
          "scattercarpet": [
           {
            "marker": {
             "colorbar": {
              "outlinewidth": 0,
              "ticks": ""
             }
            },
            "type": "scattercarpet"
           }
          ],
          "scattergeo": [
           {
            "marker": {
             "colorbar": {
              "outlinewidth": 0,
              "ticks": ""
             }
            },
            "type": "scattergeo"
           }
          ],
          "scattergl": [
           {
            "marker": {
             "colorbar": {
              "outlinewidth": 0,
              "ticks": ""
             }
            },
            "type": "scattergl"
           }
          ],
          "scattermapbox": [
           {
            "marker": {
             "colorbar": {
              "outlinewidth": 0,
              "ticks": ""
             }
            },
            "type": "scattermapbox"
           }
          ],
          "scatterpolar": [
           {
            "marker": {
             "colorbar": {
              "outlinewidth": 0,
              "ticks": ""
             }
            },
            "type": "scatterpolar"
           }
          ],
          "scatterpolargl": [
           {
            "marker": {
             "colorbar": {
              "outlinewidth": 0,
              "ticks": ""
             }
            },
            "type": "scatterpolargl"
           }
          ],
          "scatterternary": [
           {
            "marker": {
             "colorbar": {
              "outlinewidth": 0,
              "ticks": ""
             }
            },
            "type": "scatterternary"
           }
          ],
          "surface": [
           {
            "colorbar": {
             "outlinewidth": 0,
             "ticks": ""
            },
            "colorscale": [
             [
              0,
              "#0d0887"
             ],
             [
              0.1111111111111111,
              "#46039f"
             ],
             [
              0.2222222222222222,
              "#7201a8"
             ],
             [
              0.3333333333333333,
              "#9c179e"
             ],
             [
              0.4444444444444444,
              "#bd3786"
             ],
             [
              0.5555555555555556,
              "#d8576b"
             ],
             [
              0.6666666666666666,
              "#ed7953"
             ],
             [
              0.7777777777777778,
              "#fb9f3a"
             ],
             [
              0.8888888888888888,
              "#fdca26"
             ],
             [
              1,
              "#f0f921"
             ]
            ],
            "type": "surface"
           }
          ],
          "table": [
           {
            "cells": {
             "fill": {
              "color": "#EBF0F8"
             },
             "line": {
              "color": "white"
             }
            },
            "header": {
             "fill": {
              "color": "#C8D4E3"
             },
             "line": {
              "color": "white"
             }
            },
            "type": "table"
           }
          ]
         },
         "layout": {
          "annotationdefaults": {
           "arrowcolor": "#2a3f5f",
           "arrowhead": 0,
           "arrowwidth": 1
          },
          "coloraxis": {
           "colorbar": {
            "outlinewidth": 0,
            "ticks": ""
           }
          },
          "colorscale": {
           "diverging": [
            [
             0,
             "#8e0152"
            ],
            [
             0.1,
             "#c51b7d"
            ],
            [
             0.2,
             "#de77ae"
            ],
            [
             0.3,
             "#f1b6da"
            ],
            [
             0.4,
             "#fde0ef"
            ],
            [
             0.5,
             "#f7f7f7"
            ],
            [
             0.6,
             "#e6f5d0"
            ],
            [
             0.7,
             "#b8e186"
            ],
            [
             0.8,
             "#7fbc41"
            ],
            [
             0.9,
             "#4d9221"
            ],
            [
             1,
             "#276419"
            ]
           ],
           "sequential": [
            [
             0,
             "#0d0887"
            ],
            [
             0.1111111111111111,
             "#46039f"
            ],
            [
             0.2222222222222222,
             "#7201a8"
            ],
            [
             0.3333333333333333,
             "#9c179e"
            ],
            [
             0.4444444444444444,
             "#bd3786"
            ],
            [
             0.5555555555555556,
             "#d8576b"
            ],
            [
             0.6666666666666666,
             "#ed7953"
            ],
            [
             0.7777777777777778,
             "#fb9f3a"
            ],
            [
             0.8888888888888888,
             "#fdca26"
            ],
            [
             1,
             "#f0f921"
            ]
           ],
           "sequentialminus": [
            [
             0,
             "#0d0887"
            ],
            [
             0.1111111111111111,
             "#46039f"
            ],
            [
             0.2222222222222222,
             "#7201a8"
            ],
            [
             0.3333333333333333,
             "#9c179e"
            ],
            [
             0.4444444444444444,
             "#bd3786"
            ],
            [
             0.5555555555555556,
             "#d8576b"
            ],
            [
             0.6666666666666666,
             "#ed7953"
            ],
            [
             0.7777777777777778,
             "#fb9f3a"
            ],
            [
             0.8888888888888888,
             "#fdca26"
            ],
            [
             1,
             "#f0f921"
            ]
           ]
          },
          "colorway": [
           "#636efa",
           "#EF553B",
           "#00cc96",
           "#ab63fa",
           "#FFA15A",
           "#19d3f3",
           "#FF6692",
           "#B6E880",
           "#FF97FF",
           "#FECB52"
          ],
          "font": {
           "color": "#2a3f5f"
          },
          "geo": {
           "bgcolor": "white",
           "lakecolor": "white",
           "landcolor": "#E5ECF6",
           "showlakes": true,
           "showland": true,
           "subunitcolor": "white"
          },
          "hoverlabel": {
           "align": "left"
          },
          "hovermode": "closest",
          "mapbox": {
           "style": "light"
          },
          "paper_bgcolor": "white",
          "plot_bgcolor": "#E5ECF6",
          "polar": {
           "angularaxis": {
            "gridcolor": "white",
            "linecolor": "white",
            "ticks": ""
           },
           "bgcolor": "#E5ECF6",
           "radialaxis": {
            "gridcolor": "white",
            "linecolor": "white",
            "ticks": ""
           }
          },
          "scene": {
           "xaxis": {
            "backgroundcolor": "#E5ECF6",
            "gridcolor": "white",
            "gridwidth": 2,
            "linecolor": "white",
            "showbackground": true,
            "ticks": "",
            "zerolinecolor": "white"
           },
           "yaxis": {
            "backgroundcolor": "#E5ECF6",
            "gridcolor": "white",
            "gridwidth": 2,
            "linecolor": "white",
            "showbackground": true,
            "ticks": "",
            "zerolinecolor": "white"
           },
           "zaxis": {
            "backgroundcolor": "#E5ECF6",
            "gridcolor": "white",
            "gridwidth": 2,
            "linecolor": "white",
            "showbackground": true,
            "ticks": "",
            "zerolinecolor": "white"
           }
          },
          "shapedefaults": {
           "line": {
            "color": "#2a3f5f"
           }
          },
          "ternary": {
           "aaxis": {
            "gridcolor": "white",
            "linecolor": "white",
            "ticks": ""
           },
           "baxis": {
            "gridcolor": "white",
            "linecolor": "white",
            "ticks": ""
           },
           "bgcolor": "#E5ECF6",
           "caxis": {
            "gridcolor": "white",
            "linecolor": "white",
            "ticks": ""
           }
          },
          "title": {
           "x": 0.05
          },
          "xaxis": {
           "automargin": true,
           "gridcolor": "white",
           "linecolor": "white",
           "ticks": "",
           "title": {
            "standoff": 15
           },
           "zerolinecolor": "white",
           "zerolinewidth": 2
          },
          "yaxis": {
           "automargin": true,
           "gridcolor": "white",
           "linecolor": "white",
           "ticks": "",
           "title": {
            "standoff": 15
           },
           "zerolinecolor": "white",
           "zerolinewidth": 2
          }
         }
        },
        "xaxis": {
         "anchor": "y",
         "domain": [
          0,
          1
         ],
         "title": {
          "text": "word"
         }
        },
        "yaxis": {
         "anchor": "x",
         "domain": [
          0,
          1
         ],
         "title": {
          "text": "sum of count"
         }
        }
       }
      },
      "text/html": [
       "<div>\n",
       "        \n",
       "        \n",
       "            <div id=\"de485539-f3db-4156-9d1e-bd5df70899fa\" class=\"plotly-graph-div\" style=\"height:525px; width:100%;\"></div>\n",
       "            <script type=\"text/javascript\">\n",
       "                require([\"plotly\"], function(Plotly) {\n",
       "                    window.PLOTLYENV=window.PLOTLYENV || {};\n",
       "                    \n",
       "                if (document.getElementById(\"de485539-f3db-4156-9d1e-bd5df70899fa\")) {\n",
       "                    Plotly.newPlot(\n",
       "                        'de485539-f3db-4156-9d1e-bd5df70899fa',\n",
       "                        [{\"alignmentgroup\": \"True\", \"bingroup\": \"x\", \"histfunc\": \"sum\", \"hovertemplate\": \"word=%{x}<br>sum of count=%{y}<extra></extra>\", \"legendgroup\": \"\", \"marker\": {\"color\": \"#636efa\"}, \"name\": \"\", \"offsetgroup\": \"\", \"orientation\": \"v\", \"showlegend\": false, \"type\": \"histogram\", \"x\": [\"cet\", \"a\", \"rapporteur\", \"plus\", \"dun\", \"cest\", \"tout\", \"amend\", \"loi\", \"commiss\", \"cel\", \"franc\", \"comm\", \"bien\", \"donc\", \"quil\", \"\\u00eatre\", \"fait\", \"d\\u00e9favor\", \"avis\", \"si\", \"tous\", \"projet\", \"monsieur\", \"ministr\"], \"xaxis\": \"x\", \"y\": [14382, 11495, 10609, 10449, 10154, 8593, 8144, 7215, 6515, 5983, 5582, 5486, 5431, 5367, 5341, 5141, 5106, 4996, 4888, 4573, 4238, 4113, 4083, 4060, 3939], \"yaxis\": \"y\"}],\n",
       "                        {\"barmode\": \"relative\", \"legend\": {\"tracegroupgap\": 0}, \"margin\": {\"t\": 60}, \"template\": {\"data\": {\"bar\": [{\"error_x\": {\"color\": \"#2a3f5f\"}, \"error_y\": {\"color\": \"#2a3f5f\"}, \"marker\": {\"line\": {\"color\": \"#E5ECF6\", \"width\": 0.5}}, \"type\": \"bar\"}], \"barpolar\": [{\"marker\": {\"line\": {\"color\": \"#E5ECF6\", \"width\": 0.5}}, \"type\": \"barpolar\"}], \"carpet\": [{\"aaxis\": {\"endlinecolor\": \"#2a3f5f\", \"gridcolor\": \"white\", \"linecolor\": \"white\", \"minorgridcolor\": \"white\", \"startlinecolor\": \"#2a3f5f\"}, \"baxis\": {\"endlinecolor\": \"#2a3f5f\", \"gridcolor\": \"white\", \"linecolor\": \"white\", \"minorgridcolor\": \"white\", \"startlinecolor\": \"#2a3f5f\"}, \"type\": \"carpet\"}], \"choropleth\": [{\"colorbar\": {\"outlinewidth\": 0, \"ticks\": \"\"}, \"type\": \"choropleth\"}], \"contour\": [{\"colorbar\": {\"outlinewidth\": 0, \"ticks\": \"\"}, \"colorscale\": [[0.0, \"#0d0887\"], [0.1111111111111111, \"#46039f\"], [0.2222222222222222, \"#7201a8\"], [0.3333333333333333, \"#9c179e\"], [0.4444444444444444, \"#bd3786\"], [0.5555555555555556, \"#d8576b\"], [0.6666666666666666, \"#ed7953\"], [0.7777777777777778, \"#fb9f3a\"], [0.8888888888888888, \"#fdca26\"], [1.0, \"#f0f921\"]], \"type\": \"contour\"}], \"contourcarpet\": [{\"colorbar\": {\"outlinewidth\": 0, \"ticks\": \"\"}, \"type\": \"contourcarpet\"}], \"heatmap\": [{\"colorbar\": {\"outlinewidth\": 0, \"ticks\": \"\"}, \"colorscale\": [[0.0, \"#0d0887\"], [0.1111111111111111, \"#46039f\"], [0.2222222222222222, \"#7201a8\"], [0.3333333333333333, \"#9c179e\"], [0.4444444444444444, \"#bd3786\"], [0.5555555555555556, \"#d8576b\"], [0.6666666666666666, \"#ed7953\"], [0.7777777777777778, \"#fb9f3a\"], [0.8888888888888888, \"#fdca26\"], [1.0, \"#f0f921\"]], \"type\": \"heatmap\"}], \"heatmapgl\": [{\"colorbar\": {\"outlinewidth\": 0, \"ticks\": \"\"}, \"colorscale\": [[0.0, \"#0d0887\"], [0.1111111111111111, \"#46039f\"], [0.2222222222222222, \"#7201a8\"], [0.3333333333333333, \"#9c179e\"], [0.4444444444444444, \"#bd3786\"], [0.5555555555555556, \"#d8576b\"], [0.6666666666666666, \"#ed7953\"], [0.7777777777777778, \"#fb9f3a\"], [0.8888888888888888, \"#fdca26\"], [1.0, \"#f0f921\"]], \"type\": \"heatmapgl\"}], \"histogram\": [{\"marker\": {\"colorbar\": {\"outlinewidth\": 0, \"ticks\": \"\"}}, \"type\": \"histogram\"}], \"histogram2d\": [{\"colorbar\": {\"outlinewidth\": 0, \"ticks\": \"\"}, \"colorscale\": [[0.0, \"#0d0887\"], [0.1111111111111111, \"#46039f\"], [0.2222222222222222, \"#7201a8\"], [0.3333333333333333, \"#9c179e\"], [0.4444444444444444, \"#bd3786\"], [0.5555555555555556, \"#d8576b\"], [0.6666666666666666, \"#ed7953\"], [0.7777777777777778, \"#fb9f3a\"], [0.8888888888888888, \"#fdca26\"], [1.0, \"#f0f921\"]], \"type\": \"histogram2d\"}], \"histogram2dcontour\": [{\"colorbar\": {\"outlinewidth\": 0, \"ticks\": \"\"}, \"colorscale\": [[0.0, \"#0d0887\"], [0.1111111111111111, \"#46039f\"], [0.2222222222222222, \"#7201a8\"], [0.3333333333333333, \"#9c179e\"], [0.4444444444444444, \"#bd3786\"], [0.5555555555555556, \"#d8576b\"], [0.6666666666666666, \"#ed7953\"], [0.7777777777777778, \"#fb9f3a\"], [0.8888888888888888, \"#fdca26\"], [1.0, \"#f0f921\"]], \"type\": \"histogram2dcontour\"}], \"mesh3d\": [{\"colorbar\": {\"outlinewidth\": 0, \"ticks\": \"\"}, \"type\": \"mesh3d\"}], \"parcoords\": [{\"line\": {\"colorbar\": {\"outlinewidth\": 0, \"ticks\": \"\"}}, \"type\": \"parcoords\"}], \"pie\": [{\"automargin\": true, \"type\": \"pie\"}], \"scatter\": [{\"marker\": {\"colorbar\": {\"outlinewidth\": 0, \"ticks\": \"\"}}, \"type\": \"scatter\"}], \"scatter3d\": [{\"line\": {\"colorbar\": {\"outlinewidth\": 0, \"ticks\": \"\"}}, \"marker\": {\"colorbar\": {\"outlinewidth\": 0, \"ticks\": \"\"}}, \"type\": \"scatter3d\"}], \"scattercarpet\": [{\"marker\": {\"colorbar\": {\"outlinewidth\": 0, \"ticks\": \"\"}}, \"type\": \"scattercarpet\"}], \"scattergeo\": [{\"marker\": {\"colorbar\": {\"outlinewidth\": 0, \"ticks\": \"\"}}, \"type\": \"scattergeo\"}], \"scattergl\": [{\"marker\": {\"colorbar\": {\"outlinewidth\": 0, \"ticks\": \"\"}}, \"type\": \"scattergl\"}], \"scattermapbox\": [{\"marker\": {\"colorbar\": {\"outlinewidth\": 0, \"ticks\": \"\"}}, \"type\": \"scattermapbox\"}], \"scatterpolar\": [{\"marker\": {\"colorbar\": {\"outlinewidth\": 0, \"ticks\": \"\"}}, \"type\": \"scatterpolar\"}], \"scatterpolargl\": [{\"marker\": {\"colorbar\": {\"outlinewidth\": 0, \"ticks\": \"\"}}, \"type\": \"scatterpolargl\"}], \"scatterternary\": [{\"marker\": {\"colorbar\": {\"outlinewidth\": 0, \"ticks\": \"\"}}, \"type\": \"scatterternary\"}], \"surface\": [{\"colorbar\": {\"outlinewidth\": 0, \"ticks\": \"\"}, \"colorscale\": [[0.0, \"#0d0887\"], [0.1111111111111111, \"#46039f\"], [0.2222222222222222, \"#7201a8\"], [0.3333333333333333, \"#9c179e\"], [0.4444444444444444, \"#bd3786\"], [0.5555555555555556, \"#d8576b\"], [0.6666666666666666, \"#ed7953\"], [0.7777777777777778, \"#fb9f3a\"], [0.8888888888888888, \"#fdca26\"], [1.0, \"#f0f921\"]], \"type\": \"surface\"}], \"table\": [{\"cells\": {\"fill\": {\"color\": \"#EBF0F8\"}, \"line\": {\"color\": \"white\"}}, \"header\": {\"fill\": {\"color\": \"#C8D4E3\"}, \"line\": {\"color\": \"white\"}}, \"type\": \"table\"}]}, \"layout\": {\"annotationdefaults\": {\"arrowcolor\": \"#2a3f5f\", \"arrowhead\": 0, \"arrowwidth\": 1}, \"coloraxis\": {\"colorbar\": {\"outlinewidth\": 0, \"ticks\": \"\"}}, \"colorscale\": {\"diverging\": [[0, \"#8e0152\"], [0.1, \"#c51b7d\"], [0.2, \"#de77ae\"], [0.3, \"#f1b6da\"], [0.4, \"#fde0ef\"], [0.5, \"#f7f7f7\"], [0.6, \"#e6f5d0\"], [0.7, \"#b8e186\"], [0.8, \"#7fbc41\"], [0.9, \"#4d9221\"], [1, \"#276419\"]], \"sequential\": [[0.0, \"#0d0887\"], [0.1111111111111111, \"#46039f\"], [0.2222222222222222, \"#7201a8\"], [0.3333333333333333, \"#9c179e\"], [0.4444444444444444, \"#bd3786\"], [0.5555555555555556, \"#d8576b\"], [0.6666666666666666, \"#ed7953\"], [0.7777777777777778, \"#fb9f3a\"], [0.8888888888888888, \"#fdca26\"], [1.0, \"#f0f921\"]], \"sequentialminus\": [[0.0, \"#0d0887\"], [0.1111111111111111, \"#46039f\"], [0.2222222222222222, \"#7201a8\"], [0.3333333333333333, \"#9c179e\"], [0.4444444444444444, \"#bd3786\"], [0.5555555555555556, \"#d8576b\"], [0.6666666666666666, \"#ed7953\"], [0.7777777777777778, \"#fb9f3a\"], [0.8888888888888888, \"#fdca26\"], [1.0, \"#f0f921\"]]}, \"colorway\": [\"#636efa\", \"#EF553B\", \"#00cc96\", \"#ab63fa\", \"#FFA15A\", \"#19d3f3\", \"#FF6692\", \"#B6E880\", \"#FF97FF\", \"#FECB52\"], \"font\": {\"color\": \"#2a3f5f\"}, \"geo\": {\"bgcolor\": \"white\", \"lakecolor\": \"white\", \"landcolor\": \"#E5ECF6\", \"showlakes\": true, \"showland\": true, \"subunitcolor\": \"white\"}, \"hoverlabel\": {\"align\": \"left\"}, \"hovermode\": \"closest\", \"mapbox\": {\"style\": \"light\"}, \"paper_bgcolor\": \"white\", \"plot_bgcolor\": \"#E5ECF6\", \"polar\": {\"angularaxis\": {\"gridcolor\": \"white\", \"linecolor\": \"white\", \"ticks\": \"\"}, \"bgcolor\": \"#E5ECF6\", \"radialaxis\": {\"gridcolor\": \"white\", \"linecolor\": \"white\", \"ticks\": \"\"}}, \"scene\": {\"xaxis\": {\"backgroundcolor\": \"#E5ECF6\", \"gridcolor\": \"white\", \"gridwidth\": 2, \"linecolor\": \"white\", \"showbackground\": true, \"ticks\": \"\", \"zerolinecolor\": \"white\"}, \"yaxis\": {\"backgroundcolor\": \"#E5ECF6\", \"gridcolor\": \"white\", \"gridwidth\": 2, \"linecolor\": \"white\", \"showbackground\": true, \"ticks\": \"\", \"zerolinecolor\": \"white\"}, \"zaxis\": {\"backgroundcolor\": \"#E5ECF6\", \"gridcolor\": \"white\", \"gridwidth\": 2, \"linecolor\": \"white\", \"showbackground\": true, \"ticks\": \"\", \"zerolinecolor\": \"white\"}}, \"shapedefaults\": {\"line\": {\"color\": \"#2a3f5f\"}}, \"ternary\": {\"aaxis\": {\"gridcolor\": \"white\", \"linecolor\": \"white\", \"ticks\": \"\"}, \"baxis\": {\"gridcolor\": \"white\", \"linecolor\": \"white\", \"ticks\": \"\"}, \"bgcolor\": \"#E5ECF6\", \"caxis\": {\"gridcolor\": \"white\", \"linecolor\": \"white\", \"ticks\": \"\"}}, \"title\": {\"x\": 0.05}, \"xaxis\": {\"automargin\": true, \"gridcolor\": \"white\", \"linecolor\": \"white\", \"ticks\": \"\", \"title\": {\"standoff\": 15}, \"zerolinecolor\": \"white\", \"zerolinewidth\": 2}, \"yaxis\": {\"automargin\": true, \"gridcolor\": \"white\", \"linecolor\": \"white\", \"ticks\": \"\", \"title\": {\"standoff\": 15}, \"zerolinecolor\": \"white\", \"zerolinewidth\": 2}}}, \"xaxis\": {\"anchor\": \"y\", \"domain\": [0.0, 1.0], \"title\": {\"text\": \"word\"}}, \"yaxis\": {\"anchor\": \"x\", \"domain\": [0.0, 1.0], \"title\": {\"text\": \"sum of count\"}}},\n",
       "                        {\"responsive\": true}\n",
       "                    ).then(function(){\n",
       "                            \n",
       "var gd = document.getElementById('de485539-f3db-4156-9d1e-bd5df70899fa');\n",
       "var x = new MutationObserver(function (mutations, observer) {{\n",
       "        var display = window.getComputedStyle(gd).display;\n",
       "        if (!display || display === 'none') {{\n",
       "            console.log([gd, 'removed!']);\n",
       "            Plotly.purge(gd);\n",
       "            observer.disconnect();\n",
       "        }}\n",
       "}});\n",
       "\n",
       "// Listen for the removal of the full notebook cells\n",
       "var notebookContainer = gd.closest('#notebook-container');\n",
       "if (notebookContainer) {{\n",
       "    x.observe(notebookContainer, {childList: true});\n",
       "}}\n",
       "\n",
       "// Listen for the clearing of the current output cell\n",
       "var outputEl = gd.closest('.output');\n",
       "if (outputEl) {{\n",
       "    x.observe(outputEl, {childList: true});\n",
       "}}\n",
       "\n",
       "                        })\n",
       "                };\n",
       "                });\n",
       "            </script>\n",
       "        </div>"
      ]
     },
     "metadata": {},
     "output_type": "display_data"
    }
   ],
   "source": [
    "# Classement des mots pour les novices\n",
    "\n",
    "px.histogram(count_words[count_words['Groupe'] == 'Novice'], x = 'word', y = 'count')"
   ]
  },
  {
   "cell_type": "code",
   "execution_count": 80,
   "metadata": {},
   "outputs": [
    {
     "data": {
      "application/vnd.plotly.v1+json": {
       "config": {
        "plotlyServerURL": "https://plot.ly"
       },
       "data": [
        {
         "alignmentgroup": "True",
         "bingroup": "x",
         "histfunc": "sum",
         "hovertemplate": "word=%{x}<br>sum of count=%{y}<extra></extra>",
         "legendgroup": "",
         "marker": {
          "color": "#636efa"
         },
         "name": "",
         "offsetgroup": "",
         "orientation": "v",
         "showlegend": false,
         "type": "histogram",
         "x": [
          "cet",
          "a",
          "plus",
          "cest",
          "dun",
          "tout",
          "amend",
          "cel",
          "bien",
          "loi",
          "ministr",
          "quil",
          "fait",
          "franc",
          "comm",
          "si",
          "être",
          "rapporteur",
          "donc",
          "monsieur",
          "tres",
          "nest",
          "fair",
          "commiss",
          "quel"
         ],
         "xaxis": "x",
         "y": [
          113563,
          94514,
          86071,
          79477,
          75817,
          68621,
          56968,
          52087,
          50145,
          49741,
          47049,
          46521,
          45238,
          44075,
          43701,
          42807,
          41254,
          40597,
          38760,
          36203,
          35844,
          35423,
          35229,
          32047,
          31769
         ],
         "yaxis": "y"
        }
       ],
       "layout": {
        "barmode": "relative",
        "legend": {
         "tracegroupgap": 0
        },
        "margin": {
         "t": 60
        },
        "template": {
         "data": {
          "bar": [
           {
            "error_x": {
             "color": "#2a3f5f"
            },
            "error_y": {
             "color": "#2a3f5f"
            },
            "marker": {
             "line": {
              "color": "#E5ECF6",
              "width": 0.5
             }
            },
            "type": "bar"
           }
          ],
          "barpolar": [
           {
            "marker": {
             "line": {
              "color": "#E5ECF6",
              "width": 0.5
             }
            },
            "type": "barpolar"
           }
          ],
          "carpet": [
           {
            "aaxis": {
             "endlinecolor": "#2a3f5f",
             "gridcolor": "white",
             "linecolor": "white",
             "minorgridcolor": "white",
             "startlinecolor": "#2a3f5f"
            },
            "baxis": {
             "endlinecolor": "#2a3f5f",
             "gridcolor": "white",
             "linecolor": "white",
             "minorgridcolor": "white",
             "startlinecolor": "#2a3f5f"
            },
            "type": "carpet"
           }
          ],
          "choropleth": [
           {
            "colorbar": {
             "outlinewidth": 0,
             "ticks": ""
            },
            "type": "choropleth"
           }
          ],
          "contour": [
           {
            "colorbar": {
             "outlinewidth": 0,
             "ticks": ""
            },
            "colorscale": [
             [
              0,
              "#0d0887"
             ],
             [
              0.1111111111111111,
              "#46039f"
             ],
             [
              0.2222222222222222,
              "#7201a8"
             ],
             [
              0.3333333333333333,
              "#9c179e"
             ],
             [
              0.4444444444444444,
              "#bd3786"
             ],
             [
              0.5555555555555556,
              "#d8576b"
             ],
             [
              0.6666666666666666,
              "#ed7953"
             ],
             [
              0.7777777777777778,
              "#fb9f3a"
             ],
             [
              0.8888888888888888,
              "#fdca26"
             ],
             [
              1,
              "#f0f921"
             ]
            ],
            "type": "contour"
           }
          ],
          "contourcarpet": [
           {
            "colorbar": {
             "outlinewidth": 0,
             "ticks": ""
            },
            "type": "contourcarpet"
           }
          ],
          "heatmap": [
           {
            "colorbar": {
             "outlinewidth": 0,
             "ticks": ""
            },
            "colorscale": [
             [
              0,
              "#0d0887"
             ],
             [
              0.1111111111111111,
              "#46039f"
             ],
             [
              0.2222222222222222,
              "#7201a8"
             ],
             [
              0.3333333333333333,
              "#9c179e"
             ],
             [
              0.4444444444444444,
              "#bd3786"
             ],
             [
              0.5555555555555556,
              "#d8576b"
             ],
             [
              0.6666666666666666,
              "#ed7953"
             ],
             [
              0.7777777777777778,
              "#fb9f3a"
             ],
             [
              0.8888888888888888,
              "#fdca26"
             ],
             [
              1,
              "#f0f921"
             ]
            ],
            "type": "heatmap"
           }
          ],
          "heatmapgl": [
           {
            "colorbar": {
             "outlinewidth": 0,
             "ticks": ""
            },
            "colorscale": [
             [
              0,
              "#0d0887"
             ],
             [
              0.1111111111111111,
              "#46039f"
             ],
             [
              0.2222222222222222,
              "#7201a8"
             ],
             [
              0.3333333333333333,
              "#9c179e"
             ],
             [
              0.4444444444444444,
              "#bd3786"
             ],
             [
              0.5555555555555556,
              "#d8576b"
             ],
             [
              0.6666666666666666,
              "#ed7953"
             ],
             [
              0.7777777777777778,
              "#fb9f3a"
             ],
             [
              0.8888888888888888,
              "#fdca26"
             ],
             [
              1,
              "#f0f921"
             ]
            ],
            "type": "heatmapgl"
           }
          ],
          "histogram": [
           {
            "marker": {
             "colorbar": {
              "outlinewidth": 0,
              "ticks": ""
             }
            },
            "type": "histogram"
           }
          ],
          "histogram2d": [
           {
            "colorbar": {
             "outlinewidth": 0,
             "ticks": ""
            },
            "colorscale": [
             [
              0,
              "#0d0887"
             ],
             [
              0.1111111111111111,
              "#46039f"
             ],
             [
              0.2222222222222222,
              "#7201a8"
             ],
             [
              0.3333333333333333,
              "#9c179e"
             ],
             [
              0.4444444444444444,
              "#bd3786"
             ],
             [
              0.5555555555555556,
              "#d8576b"
             ],
             [
              0.6666666666666666,
              "#ed7953"
             ],
             [
              0.7777777777777778,
              "#fb9f3a"
             ],
             [
              0.8888888888888888,
              "#fdca26"
             ],
             [
              1,
              "#f0f921"
             ]
            ],
            "type": "histogram2d"
           }
          ],
          "histogram2dcontour": [
           {
            "colorbar": {
             "outlinewidth": 0,
             "ticks": ""
            },
            "colorscale": [
             [
              0,
              "#0d0887"
             ],
             [
              0.1111111111111111,
              "#46039f"
             ],
             [
              0.2222222222222222,
              "#7201a8"
             ],
             [
              0.3333333333333333,
              "#9c179e"
             ],
             [
              0.4444444444444444,
              "#bd3786"
             ],
             [
              0.5555555555555556,
              "#d8576b"
             ],
             [
              0.6666666666666666,
              "#ed7953"
             ],
             [
              0.7777777777777778,
              "#fb9f3a"
             ],
             [
              0.8888888888888888,
              "#fdca26"
             ],
             [
              1,
              "#f0f921"
             ]
            ],
            "type": "histogram2dcontour"
           }
          ],
          "mesh3d": [
           {
            "colorbar": {
             "outlinewidth": 0,
             "ticks": ""
            },
            "type": "mesh3d"
           }
          ],
          "parcoords": [
           {
            "line": {
             "colorbar": {
              "outlinewidth": 0,
              "ticks": ""
             }
            },
            "type": "parcoords"
           }
          ],
          "pie": [
           {
            "automargin": true,
            "type": "pie"
           }
          ],
          "scatter": [
           {
            "marker": {
             "colorbar": {
              "outlinewidth": 0,
              "ticks": ""
             }
            },
            "type": "scatter"
           }
          ],
          "scatter3d": [
           {
            "line": {
             "colorbar": {
              "outlinewidth": 0,
              "ticks": ""
             }
            },
            "marker": {
             "colorbar": {
              "outlinewidth": 0,
              "ticks": ""
             }
            },
            "type": "scatter3d"
           }
          ],
          "scattercarpet": [
           {
            "marker": {
             "colorbar": {
              "outlinewidth": 0,
              "ticks": ""
             }
            },
            "type": "scattercarpet"
           }
          ],
          "scattergeo": [
           {
            "marker": {
             "colorbar": {
              "outlinewidth": 0,
              "ticks": ""
             }
            },
            "type": "scattergeo"
           }
          ],
          "scattergl": [
           {
            "marker": {
             "colorbar": {
              "outlinewidth": 0,
              "ticks": ""
             }
            },
            "type": "scattergl"
           }
          ],
          "scattermapbox": [
           {
            "marker": {
             "colorbar": {
              "outlinewidth": 0,
              "ticks": ""
             }
            },
            "type": "scattermapbox"
           }
          ],
          "scatterpolar": [
           {
            "marker": {
             "colorbar": {
              "outlinewidth": 0,
              "ticks": ""
             }
            },
            "type": "scatterpolar"
           }
          ],
          "scatterpolargl": [
           {
            "marker": {
             "colorbar": {
              "outlinewidth": 0,
              "ticks": ""
             }
            },
            "type": "scatterpolargl"
           }
          ],
          "scatterternary": [
           {
            "marker": {
             "colorbar": {
              "outlinewidth": 0,
              "ticks": ""
             }
            },
            "type": "scatterternary"
           }
          ],
          "surface": [
           {
            "colorbar": {
             "outlinewidth": 0,
             "ticks": ""
            },
            "colorscale": [
             [
              0,
              "#0d0887"
             ],
             [
              0.1111111111111111,
              "#46039f"
             ],
             [
              0.2222222222222222,
              "#7201a8"
             ],
             [
              0.3333333333333333,
              "#9c179e"
             ],
             [
              0.4444444444444444,
              "#bd3786"
             ],
             [
              0.5555555555555556,
              "#d8576b"
             ],
             [
              0.6666666666666666,
              "#ed7953"
             ],
             [
              0.7777777777777778,
              "#fb9f3a"
             ],
             [
              0.8888888888888888,
              "#fdca26"
             ],
             [
              1,
              "#f0f921"
             ]
            ],
            "type": "surface"
           }
          ],
          "table": [
           {
            "cells": {
             "fill": {
              "color": "#EBF0F8"
             },
             "line": {
              "color": "white"
             }
            },
            "header": {
             "fill": {
              "color": "#C8D4E3"
             },
             "line": {
              "color": "white"
             }
            },
            "type": "table"
           }
          ]
         },
         "layout": {
          "annotationdefaults": {
           "arrowcolor": "#2a3f5f",
           "arrowhead": 0,
           "arrowwidth": 1
          },
          "coloraxis": {
           "colorbar": {
            "outlinewidth": 0,
            "ticks": ""
           }
          },
          "colorscale": {
           "diverging": [
            [
             0,
             "#8e0152"
            ],
            [
             0.1,
             "#c51b7d"
            ],
            [
             0.2,
             "#de77ae"
            ],
            [
             0.3,
             "#f1b6da"
            ],
            [
             0.4,
             "#fde0ef"
            ],
            [
             0.5,
             "#f7f7f7"
            ],
            [
             0.6,
             "#e6f5d0"
            ],
            [
             0.7,
             "#b8e186"
            ],
            [
             0.8,
             "#7fbc41"
            ],
            [
             0.9,
             "#4d9221"
            ],
            [
             1,
             "#276419"
            ]
           ],
           "sequential": [
            [
             0,
             "#0d0887"
            ],
            [
             0.1111111111111111,
             "#46039f"
            ],
            [
             0.2222222222222222,
             "#7201a8"
            ],
            [
             0.3333333333333333,
             "#9c179e"
            ],
            [
             0.4444444444444444,
             "#bd3786"
            ],
            [
             0.5555555555555556,
             "#d8576b"
            ],
            [
             0.6666666666666666,
             "#ed7953"
            ],
            [
             0.7777777777777778,
             "#fb9f3a"
            ],
            [
             0.8888888888888888,
             "#fdca26"
            ],
            [
             1,
             "#f0f921"
            ]
           ],
           "sequentialminus": [
            [
             0,
             "#0d0887"
            ],
            [
             0.1111111111111111,
             "#46039f"
            ],
            [
             0.2222222222222222,
             "#7201a8"
            ],
            [
             0.3333333333333333,
             "#9c179e"
            ],
            [
             0.4444444444444444,
             "#bd3786"
            ],
            [
             0.5555555555555556,
             "#d8576b"
            ],
            [
             0.6666666666666666,
             "#ed7953"
            ],
            [
             0.7777777777777778,
             "#fb9f3a"
            ],
            [
             0.8888888888888888,
             "#fdca26"
            ],
            [
             1,
             "#f0f921"
            ]
           ]
          },
          "colorway": [
           "#636efa",
           "#EF553B",
           "#00cc96",
           "#ab63fa",
           "#FFA15A",
           "#19d3f3",
           "#FF6692",
           "#B6E880",
           "#FF97FF",
           "#FECB52"
          ],
          "font": {
           "color": "#2a3f5f"
          },
          "geo": {
           "bgcolor": "white",
           "lakecolor": "white",
           "landcolor": "#E5ECF6",
           "showlakes": true,
           "showland": true,
           "subunitcolor": "white"
          },
          "hoverlabel": {
           "align": "left"
          },
          "hovermode": "closest",
          "mapbox": {
           "style": "light"
          },
          "paper_bgcolor": "white",
          "plot_bgcolor": "#E5ECF6",
          "polar": {
           "angularaxis": {
            "gridcolor": "white",
            "linecolor": "white",
            "ticks": ""
           },
           "bgcolor": "#E5ECF6",
           "radialaxis": {
            "gridcolor": "white",
            "linecolor": "white",
            "ticks": ""
           }
          },
          "scene": {
           "xaxis": {
            "backgroundcolor": "#E5ECF6",
            "gridcolor": "white",
            "gridwidth": 2,
            "linecolor": "white",
            "showbackground": true,
            "ticks": "",
            "zerolinecolor": "white"
           },
           "yaxis": {
            "backgroundcolor": "#E5ECF6",
            "gridcolor": "white",
            "gridwidth": 2,
            "linecolor": "white",
            "showbackground": true,
            "ticks": "",
            "zerolinecolor": "white"
           },
           "zaxis": {
            "backgroundcolor": "#E5ECF6",
            "gridcolor": "white",
            "gridwidth": 2,
            "linecolor": "white",
            "showbackground": true,
            "ticks": "",
            "zerolinecolor": "white"
           }
          },
          "shapedefaults": {
           "line": {
            "color": "#2a3f5f"
           }
          },
          "ternary": {
           "aaxis": {
            "gridcolor": "white",
            "linecolor": "white",
            "ticks": ""
           },
           "baxis": {
            "gridcolor": "white",
            "linecolor": "white",
            "ticks": ""
           },
           "bgcolor": "#E5ECF6",
           "caxis": {
            "gridcolor": "white",
            "linecolor": "white",
            "ticks": ""
           }
          },
          "title": {
           "x": 0.05
          },
          "xaxis": {
           "automargin": true,
           "gridcolor": "white",
           "linecolor": "white",
           "ticks": "",
           "title": {
            "standoff": 15
           },
           "zerolinecolor": "white",
           "zerolinewidth": 2
          },
          "yaxis": {
           "automargin": true,
           "gridcolor": "white",
           "linecolor": "white",
           "ticks": "",
           "title": {
            "standoff": 15
           },
           "zerolinecolor": "white",
           "zerolinewidth": 2
          }
         }
        },
        "xaxis": {
         "anchor": "y",
         "domain": [
          0,
          1
         ],
         "title": {
          "text": "word"
         }
        },
        "yaxis": {
         "anchor": "x",
         "domain": [
          0,
          1
         ],
         "title": {
          "text": "sum of count"
         }
        }
       }
      },
      "text/html": [
       "<div>\n",
       "        \n",
       "        \n",
       "            <div id=\"0e353dfa-f1f1-4eab-9c49-f374f6d99961\" class=\"plotly-graph-div\" style=\"height:525px; width:100%;\"></div>\n",
       "            <script type=\"text/javascript\">\n",
       "                require([\"plotly\"], function(Plotly) {\n",
       "                    window.PLOTLYENV=window.PLOTLYENV || {};\n",
       "                    \n",
       "                if (document.getElementById(\"0e353dfa-f1f1-4eab-9c49-f374f6d99961\")) {\n",
       "                    Plotly.newPlot(\n",
       "                        '0e353dfa-f1f1-4eab-9c49-f374f6d99961',\n",
       "                        [{\"alignmentgroup\": \"True\", \"bingroup\": \"x\", \"histfunc\": \"sum\", \"hovertemplate\": \"word=%{x}<br>sum of count=%{y}<extra></extra>\", \"legendgroup\": \"\", \"marker\": {\"color\": \"#636efa\"}, \"name\": \"\", \"offsetgroup\": \"\", \"orientation\": \"v\", \"showlegend\": false, \"type\": \"histogram\", \"x\": [\"cet\", \"a\", \"plus\", \"cest\", \"dun\", \"tout\", \"amend\", \"cel\", \"bien\", \"loi\", \"ministr\", \"quil\", \"fait\", \"franc\", \"comm\", \"si\", \"\\u00eatre\", \"rapporteur\", \"donc\", \"monsieur\", \"tres\", \"nest\", \"fair\", \"commiss\", \"quel\"], \"xaxis\": \"x\", \"y\": [113563, 94514, 86071, 79477, 75817, 68621, 56968, 52087, 50145, 49741, 47049, 46521, 45238, 44075, 43701, 42807, 41254, 40597, 38760, 36203, 35844, 35423, 35229, 32047, 31769], \"yaxis\": \"y\"}],\n",
       "                        {\"barmode\": \"relative\", \"legend\": {\"tracegroupgap\": 0}, \"margin\": {\"t\": 60}, \"template\": {\"data\": {\"bar\": [{\"error_x\": {\"color\": \"#2a3f5f\"}, \"error_y\": {\"color\": \"#2a3f5f\"}, \"marker\": {\"line\": {\"color\": \"#E5ECF6\", \"width\": 0.5}}, \"type\": \"bar\"}], \"barpolar\": [{\"marker\": {\"line\": {\"color\": \"#E5ECF6\", \"width\": 0.5}}, \"type\": \"barpolar\"}], \"carpet\": [{\"aaxis\": {\"endlinecolor\": \"#2a3f5f\", \"gridcolor\": \"white\", \"linecolor\": \"white\", \"minorgridcolor\": \"white\", \"startlinecolor\": \"#2a3f5f\"}, \"baxis\": {\"endlinecolor\": \"#2a3f5f\", \"gridcolor\": \"white\", \"linecolor\": \"white\", \"minorgridcolor\": \"white\", \"startlinecolor\": \"#2a3f5f\"}, \"type\": \"carpet\"}], \"choropleth\": [{\"colorbar\": {\"outlinewidth\": 0, \"ticks\": \"\"}, \"type\": \"choropleth\"}], \"contour\": [{\"colorbar\": {\"outlinewidth\": 0, \"ticks\": \"\"}, \"colorscale\": [[0.0, \"#0d0887\"], [0.1111111111111111, \"#46039f\"], [0.2222222222222222, \"#7201a8\"], [0.3333333333333333, \"#9c179e\"], [0.4444444444444444, \"#bd3786\"], [0.5555555555555556, \"#d8576b\"], [0.6666666666666666, \"#ed7953\"], [0.7777777777777778, \"#fb9f3a\"], [0.8888888888888888, \"#fdca26\"], [1.0, \"#f0f921\"]], \"type\": \"contour\"}], \"contourcarpet\": [{\"colorbar\": {\"outlinewidth\": 0, \"ticks\": \"\"}, \"type\": \"contourcarpet\"}], \"heatmap\": [{\"colorbar\": {\"outlinewidth\": 0, \"ticks\": \"\"}, \"colorscale\": [[0.0, \"#0d0887\"], [0.1111111111111111, \"#46039f\"], [0.2222222222222222, \"#7201a8\"], [0.3333333333333333, \"#9c179e\"], [0.4444444444444444, \"#bd3786\"], [0.5555555555555556, \"#d8576b\"], [0.6666666666666666, \"#ed7953\"], [0.7777777777777778, \"#fb9f3a\"], [0.8888888888888888, \"#fdca26\"], [1.0, \"#f0f921\"]], \"type\": \"heatmap\"}], \"heatmapgl\": [{\"colorbar\": {\"outlinewidth\": 0, \"ticks\": \"\"}, \"colorscale\": [[0.0, \"#0d0887\"], [0.1111111111111111, \"#46039f\"], [0.2222222222222222, \"#7201a8\"], [0.3333333333333333, \"#9c179e\"], [0.4444444444444444, \"#bd3786\"], [0.5555555555555556, \"#d8576b\"], [0.6666666666666666, \"#ed7953\"], [0.7777777777777778, \"#fb9f3a\"], [0.8888888888888888, \"#fdca26\"], [1.0, \"#f0f921\"]], \"type\": \"heatmapgl\"}], \"histogram\": [{\"marker\": {\"colorbar\": {\"outlinewidth\": 0, \"ticks\": \"\"}}, \"type\": \"histogram\"}], \"histogram2d\": [{\"colorbar\": {\"outlinewidth\": 0, \"ticks\": \"\"}, \"colorscale\": [[0.0, \"#0d0887\"], [0.1111111111111111, \"#46039f\"], [0.2222222222222222, \"#7201a8\"], [0.3333333333333333, \"#9c179e\"], [0.4444444444444444, \"#bd3786\"], [0.5555555555555556, \"#d8576b\"], [0.6666666666666666, \"#ed7953\"], [0.7777777777777778, \"#fb9f3a\"], [0.8888888888888888, \"#fdca26\"], [1.0, \"#f0f921\"]], \"type\": \"histogram2d\"}], \"histogram2dcontour\": [{\"colorbar\": {\"outlinewidth\": 0, \"ticks\": \"\"}, \"colorscale\": [[0.0, \"#0d0887\"], [0.1111111111111111, \"#46039f\"], [0.2222222222222222, \"#7201a8\"], [0.3333333333333333, \"#9c179e\"], [0.4444444444444444, \"#bd3786\"], [0.5555555555555556, \"#d8576b\"], [0.6666666666666666, \"#ed7953\"], [0.7777777777777778, \"#fb9f3a\"], [0.8888888888888888, \"#fdca26\"], [1.0, \"#f0f921\"]], \"type\": \"histogram2dcontour\"}], \"mesh3d\": [{\"colorbar\": {\"outlinewidth\": 0, \"ticks\": \"\"}, \"type\": \"mesh3d\"}], \"parcoords\": [{\"line\": {\"colorbar\": {\"outlinewidth\": 0, \"ticks\": \"\"}}, \"type\": \"parcoords\"}], \"pie\": [{\"automargin\": true, \"type\": \"pie\"}], \"scatter\": [{\"marker\": {\"colorbar\": {\"outlinewidth\": 0, \"ticks\": \"\"}}, \"type\": \"scatter\"}], \"scatter3d\": [{\"line\": {\"colorbar\": {\"outlinewidth\": 0, \"ticks\": \"\"}}, \"marker\": {\"colorbar\": {\"outlinewidth\": 0, \"ticks\": \"\"}}, \"type\": \"scatter3d\"}], \"scattercarpet\": [{\"marker\": {\"colorbar\": {\"outlinewidth\": 0, \"ticks\": \"\"}}, \"type\": \"scattercarpet\"}], \"scattergeo\": [{\"marker\": {\"colorbar\": {\"outlinewidth\": 0, \"ticks\": \"\"}}, \"type\": \"scattergeo\"}], \"scattergl\": [{\"marker\": {\"colorbar\": {\"outlinewidth\": 0, \"ticks\": \"\"}}, \"type\": \"scattergl\"}], \"scattermapbox\": [{\"marker\": {\"colorbar\": {\"outlinewidth\": 0, \"ticks\": \"\"}}, \"type\": \"scattermapbox\"}], \"scatterpolar\": [{\"marker\": {\"colorbar\": {\"outlinewidth\": 0, \"ticks\": \"\"}}, \"type\": \"scatterpolar\"}], \"scatterpolargl\": [{\"marker\": {\"colorbar\": {\"outlinewidth\": 0, \"ticks\": \"\"}}, \"type\": \"scatterpolargl\"}], \"scatterternary\": [{\"marker\": {\"colorbar\": {\"outlinewidth\": 0, \"ticks\": \"\"}}, \"type\": \"scatterternary\"}], \"surface\": [{\"colorbar\": {\"outlinewidth\": 0, \"ticks\": \"\"}, \"colorscale\": [[0.0, \"#0d0887\"], [0.1111111111111111, \"#46039f\"], [0.2222222222222222, \"#7201a8\"], [0.3333333333333333, \"#9c179e\"], [0.4444444444444444, \"#bd3786\"], [0.5555555555555556, \"#d8576b\"], [0.6666666666666666, \"#ed7953\"], [0.7777777777777778, \"#fb9f3a\"], [0.8888888888888888, \"#fdca26\"], [1.0, \"#f0f921\"]], \"type\": \"surface\"}], \"table\": [{\"cells\": {\"fill\": {\"color\": \"#EBF0F8\"}, \"line\": {\"color\": \"white\"}}, \"header\": {\"fill\": {\"color\": \"#C8D4E3\"}, \"line\": {\"color\": \"white\"}}, \"type\": \"table\"}]}, \"layout\": {\"annotationdefaults\": {\"arrowcolor\": \"#2a3f5f\", \"arrowhead\": 0, \"arrowwidth\": 1}, \"coloraxis\": {\"colorbar\": {\"outlinewidth\": 0, \"ticks\": \"\"}}, \"colorscale\": {\"diverging\": [[0, \"#8e0152\"], [0.1, \"#c51b7d\"], [0.2, \"#de77ae\"], [0.3, \"#f1b6da\"], [0.4, \"#fde0ef\"], [0.5, \"#f7f7f7\"], [0.6, \"#e6f5d0\"], [0.7, \"#b8e186\"], [0.8, \"#7fbc41\"], [0.9, \"#4d9221\"], [1, \"#276419\"]], \"sequential\": [[0.0, \"#0d0887\"], [0.1111111111111111, \"#46039f\"], [0.2222222222222222, \"#7201a8\"], [0.3333333333333333, \"#9c179e\"], [0.4444444444444444, \"#bd3786\"], [0.5555555555555556, \"#d8576b\"], [0.6666666666666666, \"#ed7953\"], [0.7777777777777778, \"#fb9f3a\"], [0.8888888888888888, \"#fdca26\"], [1.0, \"#f0f921\"]], \"sequentialminus\": [[0.0, \"#0d0887\"], [0.1111111111111111, \"#46039f\"], [0.2222222222222222, \"#7201a8\"], [0.3333333333333333, \"#9c179e\"], [0.4444444444444444, \"#bd3786\"], [0.5555555555555556, \"#d8576b\"], [0.6666666666666666, \"#ed7953\"], [0.7777777777777778, \"#fb9f3a\"], [0.8888888888888888, \"#fdca26\"], [1.0, \"#f0f921\"]]}, \"colorway\": [\"#636efa\", \"#EF553B\", \"#00cc96\", \"#ab63fa\", \"#FFA15A\", \"#19d3f3\", \"#FF6692\", \"#B6E880\", \"#FF97FF\", \"#FECB52\"], \"font\": {\"color\": \"#2a3f5f\"}, \"geo\": {\"bgcolor\": \"white\", \"lakecolor\": \"white\", \"landcolor\": \"#E5ECF6\", \"showlakes\": true, \"showland\": true, \"subunitcolor\": \"white\"}, \"hoverlabel\": {\"align\": \"left\"}, \"hovermode\": \"closest\", \"mapbox\": {\"style\": \"light\"}, \"paper_bgcolor\": \"white\", \"plot_bgcolor\": \"#E5ECF6\", \"polar\": {\"angularaxis\": {\"gridcolor\": \"white\", \"linecolor\": \"white\", \"ticks\": \"\"}, \"bgcolor\": \"#E5ECF6\", \"radialaxis\": {\"gridcolor\": \"white\", \"linecolor\": \"white\", \"ticks\": \"\"}}, \"scene\": {\"xaxis\": {\"backgroundcolor\": \"#E5ECF6\", \"gridcolor\": \"white\", \"gridwidth\": 2, \"linecolor\": \"white\", \"showbackground\": true, \"ticks\": \"\", \"zerolinecolor\": \"white\"}, \"yaxis\": {\"backgroundcolor\": \"#E5ECF6\", \"gridcolor\": \"white\", \"gridwidth\": 2, \"linecolor\": \"white\", \"showbackground\": true, \"ticks\": \"\", \"zerolinecolor\": \"white\"}, \"zaxis\": {\"backgroundcolor\": \"#E5ECF6\", \"gridcolor\": \"white\", \"gridwidth\": 2, \"linecolor\": \"white\", \"showbackground\": true, \"ticks\": \"\", \"zerolinecolor\": \"white\"}}, \"shapedefaults\": {\"line\": {\"color\": \"#2a3f5f\"}}, \"ternary\": {\"aaxis\": {\"gridcolor\": \"white\", \"linecolor\": \"white\", \"ticks\": \"\"}, \"baxis\": {\"gridcolor\": \"white\", \"linecolor\": \"white\", \"ticks\": \"\"}, \"bgcolor\": \"#E5ECF6\", \"caxis\": {\"gridcolor\": \"white\", \"linecolor\": \"white\", \"ticks\": \"\"}}, \"title\": {\"x\": 0.05}, \"xaxis\": {\"automargin\": true, \"gridcolor\": \"white\", \"linecolor\": \"white\", \"ticks\": \"\", \"title\": {\"standoff\": 15}, \"zerolinecolor\": \"white\", \"zerolinewidth\": 2}, \"yaxis\": {\"automargin\": true, \"gridcolor\": \"white\", \"linecolor\": \"white\", \"ticks\": \"\", \"title\": {\"standoff\": 15}, \"zerolinecolor\": \"white\", \"zerolinewidth\": 2}}}, \"xaxis\": {\"anchor\": \"y\", \"domain\": [0.0, 1.0], \"title\": {\"text\": \"word\"}}, \"yaxis\": {\"anchor\": \"x\", \"domain\": [0.0, 1.0], \"title\": {\"text\": \"sum of count\"}}},\n",
       "                        {\"responsive\": true}\n",
       "                    ).then(function(){\n",
       "                            \n",
       "var gd = document.getElementById('0e353dfa-f1f1-4eab-9c49-f374f6d99961');\n",
       "var x = new MutationObserver(function (mutations, observer) {{\n",
       "        var display = window.getComputedStyle(gd).display;\n",
       "        if (!display || display === 'none') {{\n",
       "            console.log([gd, 'removed!']);\n",
       "            Plotly.purge(gd);\n",
       "            observer.disconnect();\n",
       "        }}\n",
       "}});\n",
       "\n",
       "// Listen for the removal of the full notebook cells\n",
       "var notebookContainer = gd.closest('#notebook-container');\n",
       "if (notebookContainer) {{\n",
       "    x.observe(notebookContainer, {childList: true});\n",
       "}}\n",
       "\n",
       "// Listen for the clearing of the current output cell\n",
       "var outputEl = gd.closest('.output');\n",
       "if (outputEl) {{\n",
       "    x.observe(outputEl, {childList: true});\n",
       "}}\n",
       "\n",
       "                        })\n",
       "                };\n",
       "                });\n",
       "            </script>\n",
       "        </div>"
      ]
     },
     "metadata": {},
     "output_type": "display_data"
    }
   ],
   "source": [
    "# Classement des mots pour les non-novices\n",
    "\n",
    "px.histogram(count_words[count_words['Groupe'] == 'Exp'], x = 'word', y = 'count')"
   ]
  },
  {
   "cell_type": "markdown",
   "metadata": {},
   "source": [
    "Commentaires :  \n",
    "     -on retrouve toujours beaucoup de mots de liaisons  \n",
    "     -pour les novices :  \n",
    "          +  : rapporteur, commission, défavorable, projet    \n",
    "          -  : ministr(-e, -aire)  \n",
    "-les novices auraient plus tendance à rappeler le sujet de leur intervention (rapporteur, commission, projet)  \n",
    "-la présence du mot défavorable est particulièrement intéressante (19ème mot pour les novices, 184ème mot pour les non-novices), nous allons voir comment l'interpréter\n",
    "            \n",
    "            \n",
    "Note : à l'avenir laisser les stopwords pour étudier la \"rethorique\""
   ]
  },
  {
   "cell_type": "markdown",
   "metadata": {},
   "source": [
    "##### Question : quels mots sont le plus associés au mot 'défavorable' dans les deux corpus ?"
   ]
  },
  {
   "cell_type": "markdown",
   "metadata": {},
   "source": [
    "#### Approche contextuelle avec les bi-gramms"
   ]
  },
  {
   "cell_type": "code",
   "execution_count": 81,
   "metadata": {},
   "outputs": [
    {
     "name": "stdout",
     "output_type": "stream",
     "text": [
      "Displaying 25 of 4822 matches:\n",
      "ographie profession devenait trop défavorable entre nombre dexploitants agricol\n",
      " décret conseil détat rapporteure défavorable plutôt quun rapport inspection pe\n",
      "lus fragiles rapporteure spéciale défavorable pouvons terminer lexamen crédits \n",
      "rapporteur commission a émis avis défavorable cet amendement dont ladoption abo\n",
      "parcours cest pourquoi donne avis défavorable ainsi républicains déposé amendem\n",
      "tées malheureusement avis demeure défavorable tout dabord faut confondre missio\n",
      "ministratives indépendantes lavis défavorable nétait pourtant faute faire preuv\n",
      "ment parties cours procédure avis défavorable vu but simplification réduction d\n",
      "objet amendement secrétaire détat défavorable secrétaire détat avis défavorable\n",
      "défavorable secrétaire détat avis défavorable depuis quarante ans beaucoup dact\n",
      "commission affaires sociales avis défavorable tiens apporter précision propos a\n",
      "nt a repoussé commission jy aussi défavorable commissaires lr voté lamendement \n",
      "fert cerises abricots rapporteure défavorable rapporteure cest pourquoi demande\n",
      " vigueur cest pourquoi donne avis défavorable secrétaire détat défavorable égal\n",
      "avis défavorable secrétaire détat défavorable également secrétaire détat partag\n",
      "etrait lamendement défaut quoi jy défavorable madame ministre quelle date prévu\n",
      "éfendu secrétaire détat également défavorable sans vouloir prolonger inutilemen\n",
      "ends objectif débat larticle avis défavorable toutes raisons madame députée si \n",
      "stème retraite lavis gouvernement défavorable rapporteur baroud dhonneur cour c\n",
      "chômage a baissé rapporteure avis défavorable lenjeu dépasse seule question ret\n",
      "n excellent secrétaire détat avis défavorable mme rapporteure vient dexposer ra\n",
      "poussé cet amendement jémets avis défavorable sans doute madame fiat participé \n",
      "ent bailleur rapporteure spéciale défavorable rapporteur ah si gouvernement maj\n",
      "rteur bonne note mme courson avis défavorable monsieur président madame secréta\n",
      "cenciement économique rapporteure défavorable principale avancée projet loi vis\n"
     ]
    }
   ],
   "source": [
    "corpus_novice_liste = corpus_novice.split(' ')\n",
    "text = nltk.Text(corpus_novice_liste)\n",
    "\n",
    "text.concordance('défavorable')"
   ]
  },
  {
   "cell_type": "code",
   "execution_count": 82,
   "metadata": {},
   "outputs": [],
   "source": [
    "bigram_measures = nltk.collocations.BigramAssocMeasures()\n",
    "\n",
    "def collocations_word(word):\n",
    "    \n",
    "    # Ngrams with a specific name \n",
    "    name_filter = lambda *w: word not in w\n",
    "\n",
    "    finder = BigramCollocationFinder.from_words(text)\n",
    "\n",
    "    finder.apply_ngram_filter(name_filter)\n",
    "\n",
    "    return finder.nbest(bigram_measures.likelihood_ratio, 10)"
   ]
  },
  {
   "cell_type": "code",
   "execution_count": 83,
   "metadata": {},
   "outputs": [],
   "source": [
    "collocations = collocations_word('défavorable')"
   ]
  },
  {
   "cell_type": "code",
   "execution_count": 84,
   "metadata": {
    "scrolled": false
   },
   "outputs": [
    {
     "name": "stdout",
     "output_type": "stream",
     "text": [
      "('avis', 'défavorable') \n",
      "\n",
      "('lavis', 'défavorable') \n",
      "\n",
      "('rapporteure', 'défavorable') \n",
      "\n",
      "('défavorable', 'rapporteure') \n",
      "\n",
      "('donc', 'défavorable') \n",
      "\n",
      "('défavorable', 'cet') \n",
      "\n",
      "('défavorable', 'amendements') \n",
      "\n",
      "('rapporteur', 'défavorable') \n",
      "\n",
      "('défavorable', 'rapporteur') \n",
      "\n",
      "('défavorable', 'lamendement') \n",
      "\n"
     ]
    }
   ],
   "source": [
    "for colloc in collocations:\n",
    "    print(colloc, '\\n')"
   ]
  },
  {
   "cell_type": "markdown",
   "metadata": {},
   "source": [
    "On parle donc beaucoup d'AVIS défavorables du RAPPORTEUR."
   ]
  },
  {
   "cell_type": "markdown",
   "metadata": {},
   "source": [
    "Question avis défavorable sur quoi ?"
   ]
  },
  {
   "cell_type": "markdown",
   "metadata": {},
   "source": [
    "#### Approche TF-IDF"
   ]
  },
  {
   "cell_type": "code",
   "execution_count": 85,
   "metadata": {},
   "outputs": [],
   "source": [
    "train = df[df['Groupe'] == 'Novice'][['stemmed_replique']]"
   ]
  },
  {
   "cell_type": "code",
   "execution_count": 87,
   "metadata": {},
   "outputs": [],
   "source": [
    "tfidf = TfidfVectorizer()\n",
    "tfs = tfidf.fit_transform(train['stemmed_replique'])"
   ]
  },
  {
   "cell_type": "code",
   "execution_count": 88,
   "metadata": {},
   "outputs": [],
   "source": [
    "feature_names = tfidf.get_feature_names()\n",
    "corpus_index = [n for n in list(tfidf.vocabulary_.keys())]\n",
    "result_df = pd.DataFrame(tfs.todense(), columns = feature_names)"
   ]
  },
  {
   "cell_type": "code",
   "execution_count": 89,
   "metadata": {},
   "outputs": [],
   "source": [
    "liste_defavor = result_df['défavor'].sort_values(ascending = False).head(n = 30).index.tolist()"
   ]
  },
  {
   "cell_type": "code",
   "execution_count": 114,
   "metadata": {},
   "outputs": [
    {
     "name": "stdout",
     "output_type": "stream",
     "text": [
      " Défavorable.\n",
      " rapporteure. Défavorable.\n",
      " rapporteur. Défavorable.\n",
      " rapporteur. Défavorable.\n",
      " rapporteure. Défavorable.\n",
      "rapporteure. Défavorable.\n",
      " rapporteure. Défavorable.\n",
      " rapporteure. Défavorable.\n",
      " rapporteure. Défavorable.\n",
      " rapporteure. Il est défavorable.\n",
      " rapporteure. Défavorable.\n",
      " rapporteure. Défavorable.\n",
      " rapporteure. Défavorable.\n",
      " rapporteur. Défavorable.\n",
      " rapporteure. Défavorable.\n",
      " rapporteure. Défavorable.\n",
      " rapporteure. Défavorable<U+0080>!\n",
      " rapporteure. Défavorable.\n",
      " rapporteur. Défavorable.\n",
      " rapporteur. Défavorable.\n",
      " rapporteure. Défavorable.\n",
      " rapporteure. Défavorable.\n",
      "rapporteure. Défavorable.\n",
      " rapporteure. Défavorable.\n",
      " rapporteure. Défavorable.\n",
      " rapporteure. Défavorable.\n",
      " rapporteure. Défavorable.\n",
      "rapporteur. Défavorable.\n",
      " rapporteure. Défavorable.\n",
      " rapporteure. Défavorable.\n",
      " rapporteur. Défavorable.\n",
      " rapporteur. Défavorable.\n",
      " rapporteure. Défavorable.\n",
      " rapporteur. Défavorable.\n",
      " rapporteure. Défavorable.\n",
      " rapporteure. Défavorable.\n",
      " rapporteure. Défavorable.\n",
      " rapporteure. Il est défavorable.\n",
      " rapporteure. Défavorable.\n",
      " rapporteure. Défavorable.\n",
      " rapporteure. Défavorable.\n",
      " rapporteur. Défavorable.\n",
      " rapporteur. Défavorable.\n",
      " rapporteur. Défavorable.\n",
      " rapporteur. Défavorable.\n",
      " rapporteure. Défavorable.\n",
      " rapporteure. Défavorable.\n",
      " rapporteure. Défavorable.\n",
      " rapporteure. Défavorable.\n",
      " rapporteure. Défavorable.\n"
     ]
    }
   ],
   "source": [
    "# On regarde dans quelles répliques sont les mieux scorées\n",
    "\n",
    "for i in [train.iloc[[i]].index[0] for i in liste_defavor]:\n",
    "    print(df.iloc[i]['Réplique'])"
   ]
  },
  {
   "cell_type": "code",
   "execution_count": null,
   "metadata": {},
   "outputs": [],
   "source": []
  }
 ],
 "metadata": {
  "kernelspec": {
   "display_name": "Python 3",
   "language": "python",
   "name": "python3"
  },
  "language_info": {
   "codemirror_mode": {
    "name": "ipython",
    "version": 3
   },
   "file_extension": ".py",
   "mimetype": "text/x-python",
   "name": "python",
   "nbconvert_exporter": "python",
   "pygments_lexer": "ipython3",
   "version": "3.7.6"
  }
 },
 "nbformat": 4,
 "nbformat_minor": 4
}
